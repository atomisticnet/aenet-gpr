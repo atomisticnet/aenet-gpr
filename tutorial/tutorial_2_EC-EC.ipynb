{
 "cells": [
  {
   "cell_type": "code",
   "execution_count": 1,
   "id": "8d96e3d3-c936-471d-b313-33c36d0e742c",
   "metadata": {
    "tags": []
   },
   "outputs": [
    {
     "name": "stdout",
     "output_type": "stream",
     "text": [
      "successfully imported torch\n",
      "2.6.0+cu124\n"
     ]
    }
   ],
   "source": [
    "try:\n",
    "    import torch\n",
    "    print(\"successfully imported torch\")\n",
    "    print(torch.__version__)\n",
    "except ImportError:\n",
    "    !! pip install torch torchvision torchaudio --user --index-url https://download.pytorch.org/whl/cpu\n",
    "    print(\"completed installing torch\")"
   ]
  },
  {
   "cell_type": "code",
   "execution_count": 2,
   "id": "4a081492-ac80-4580-af26-d6ce28004bac",
   "metadata": {},
   "outputs": [
    {
     "name": "stdout",
     "output_type": "stream",
     "text": [
      "successfully imported numpy\n",
      "1.26.4\n"
     ]
    }
   ],
   "source": [
    "try:\n",
    "    import numpy as np\n",
    "    print(\"successfully imported numpy\")\n",
    "    print(np.__version__)\n",
    "except ImportError:\n",
    "    !! pip install numpy --user --upgrade\n",
    "    print(\"completed installing numpy\")"
   ]
  },
  {
   "cell_type": "code",
   "execution_count": 3,
   "id": "78af600e-1c02-4e34-bd05-0128b0588c1c",
   "metadata": {},
   "outputs": [
    {
     "name": "stdout",
     "output_type": "stream",
     "text": [
      "successfully imported matplotlib\n"
     ]
    }
   ],
   "source": [
    "try:\n",
    "    from matplotlib import pyplot as plt\n",
    "    print(\"successfully imported matplotlib\")\n",
    "except ImportError:\n",
    "    !! pip install matplotlib --user --upgrade\n",
    "    print(\"completed installing matplotlib\")"
   ]
  },
  {
   "cell_type": "code",
   "execution_count": 4,
   "id": "11e45431-8717-40ed-ba5a-348bdfe73539",
   "metadata": {},
   "outputs": [
    {
     "name": "stdout",
     "output_type": "stream",
     "text": [
      "completed installing aenet-gpr\n",
      "Name: aenet-gpr\n",
      "Version: 2.1.10\n",
      "Summary: Atomistic simulation tools based on Gaussian Processes Regression\n",
      "Home-page: https://github.com/atomisticnet/aenet-gpr\n",
      "Author: In Won Yeu\n",
      "Author-email: iy2185@columbia.edu\n",
      "License: MPL-2.0\n",
      "Location: /data/home/iy2185/.local/lib/python3.12/site-packages\n",
      "Requires: ase, dscribe\n",
      "Required-by: \n"
     ]
    }
   ],
   "source": [
    "!! pip install aenet-gpr --user --upgrade\n",
    "print(\"completed installing aenet-gpr\")\n",
    "\n",
    "! pip show aenet-gpr"
   ]
  },
  {
   "cell_type": "code",
   "execution_count": 5,
   "id": "ec916db8-cfb8-475d-8cef-55f74ff30cc3",
   "metadata": {},
   "outputs": [
    {
     "name": "stdout",
     "output_type": "stream",
     "text": [
      "2.1.10\n"
     ]
    }
   ],
   "source": [
    "import os, sys, site\n",
    "sys.path.append(site.USER_SITE)\n",
    "\n",
    "import aenet_gpr\n",
    "print(aenet_gpr.__version__)"
   ]
  },
  {
   "cell_type": "code",
   "execution_count": 6,
   "id": "f8f7fdf1-513c-4905-a02a-651e464b7e91",
   "metadata": {},
   "outputs": [
    {
     "name": "stdout",
     "output_type": "stream",
     "text": [
      "successfully imported ase\n"
     ]
    }
   ],
   "source": [
    "from IPython.display import Image\n",
    "\n",
    "try:\n",
    "    import ase.io\n",
    "    print(\"successfully imported ase\")\n",
    "except ImportError:\n",
    "    !! pip install ase --user --upgrade\n",
    "    print(\"completed installing ASE\")\n",
    "    \n",
    "    import ase.io\n",
    "    print(\"successfully imported ase\")"
   ]
  },
  {
   "cell_type": "markdown",
   "id": "f9cfd82b-8f6c-48ec-9c57-54ea593bb81b",
   "metadata": {},
   "source": [
    "# 1. Prepare training/test data"
   ]
  },
  {
   "cell_type": "markdown",
   "id": "7e022168-4914-4b3a-87c4-b5de07a8b5f8",
   "metadata": {},
   "source": [
    "We are using train/test HSE06 data of EC dimer prepared in `aenet-gpr/example/2_EC-EC/`"
   ]
  },
  {
   "cell_type": "code",
   "execution_count": 7,
   "id": "d50bab63-a944-4fa9-b202-3deb00dcf64b",
   "metadata": {},
   "outputs": [
    {
     "name": "stdout",
     "output_type": "stream",
     "text": [
      "--2025-09-26 14:42:44--  https://github.com/atomisticnet/aenet-gpr/raw/refs/heads/main/example/2_EC-EC/train_set_tutorial.zip\n",
      "Resolving github.com (github.com)... 140.82.112.4\n",
      "Connecting to github.com (github.com)|140.82.112.4|:443... connected.\n",
      "HTTP request sent, awaiting response... 302 Found\n",
      "Location: https://raw.githubusercontent.com/atomisticnet/aenet-gpr/refs/heads/main/example/2_EC-EC/train_set_tutorial.zip [following]\n",
      "--2025-09-26 14:42:44--  https://raw.githubusercontent.com/atomisticnet/aenet-gpr/refs/heads/main/example/2_EC-EC/train_set_tutorial.zip\n",
      "Resolving raw.githubusercontent.com (raw.githubusercontent.com)... 185.199.108.133, 185.199.110.133, 185.199.111.133, ...\n",
      "Connecting to raw.githubusercontent.com (raw.githubusercontent.com)|185.199.108.133|:443... connected.\n",
      "HTTP request sent, awaiting response... 200 OK\n",
      "Length: 101063 (99K) [application/zip]\n",
      "Saving to: ‘train_set_tutorial.zip’\n",
      "\n",
      "train_set_tutorial. 100%[===================>]  98.69K  --.-KB/s    in 0.003s  \n",
      "\n",
      "2025-09-26 14:42:44 (36.1 MB/s) - ‘train_set_tutorial.zip’ saved [101063/101063]\n",
      "\n",
      "number of train data:\n",
      "80\n"
     ]
    }
   ],
   "source": [
    "import os.path\n",
    "\n",
    "! rm -rf 2_EC-EC\n",
    "! mkdir 2_EC-EC\n",
    "    \n",
    "if os.path.isfile(\"../example/2_EC-EC/train_set_tutorial.zip\"):\n",
    "    ! unzip -oq ../example/2_EC-EC/train_set_tutorial.zip -d ./2_EC-EC/\n",
    "    print(\"number of train data:\")\n",
    "    ! find ./2_EC-EC/train_set_tutorial/ -type f | wc -l\n",
    "else:\n",
    "    ! wget https://github.com/atomisticnet/aenet-gpr/raw/refs/heads/main/example/2_EC-EC/train_set_tutorial.zip\n",
    "    ! unzip -oq train_set_tutorial.zip -d ./2_EC-EC/\n",
    "    ! rm train_set_tutorial.zip\n",
    "    print(\"number of train data:\")\n",
    "    ! find ./2_EC-EC/train_set_tutorial/ -type f | wc -l"
   ]
  },
  {
   "cell_type": "code",
   "execution_count": 8,
   "id": "21ba107a-9e4c-44cd-82e4-d9d5cf97477b",
   "metadata": {},
   "outputs": [
    {
     "name": "stdout",
     "output_type": "stream",
     "text": [
      "--2025-09-26 14:42:47--  https://github.com/atomisticnet/aenet-gpr/raw/refs/heads/main/example/2_EC-EC/test_set_tutorial.zip\n",
      "Resolving github.com (github.com)... 140.82.112.4\n",
      "Connecting to github.com (github.com)|140.82.112.4|:443... connected.\n",
      "HTTP request sent, awaiting response... 302 Found\n",
      "Location: https://raw.githubusercontent.com/atomisticnet/aenet-gpr/refs/heads/main/example/2_EC-EC/test_set_tutorial.zip [following]\n",
      "--2025-09-26 14:42:48--  https://raw.githubusercontent.com/atomisticnet/aenet-gpr/refs/heads/main/example/2_EC-EC/test_set_tutorial.zip\n",
      "Resolving raw.githubusercontent.com (raw.githubusercontent.com)... 185.199.109.133, 185.199.111.133, 185.199.110.133, ...\n",
      "Connecting to raw.githubusercontent.com (raw.githubusercontent.com)|185.199.109.133|:443... connected.\n",
      "HTTP request sent, awaiting response... 200 OK\n",
      "Length: 257174 (251K) [application/zip]\n",
      "Saving to: ‘test_set_tutorial.zip’\n",
      "\n",
      "test_set_tutorial.z 100%[===================>] 251.15K  --.-KB/s    in 0.005s  \n",
      "\n",
      "2025-09-26 14:42:48 (53.6 MB/s) - ‘test_set_tutorial.zip’ saved [257174/257174]\n",
      "\n",
      "number of test data:\n",
      "161\n"
     ]
    }
   ],
   "source": [
    "if os.path.isfile(\"../example/2_EC-EC/test_set_tutorial.zip\"):\n",
    "    ! unzip -oq ../example/2_EC-EC/test_set_tutorial.zip -d ./2_EC-EC/\n",
    "    print(\"number of test data:\")\n",
    "    ! find ./2_EC-EC/test_set_tutorial/ -type f | wc -l\n",
    "else:\n",
    "    ! wget https://github.com/atomisticnet/aenet-gpr/raw/refs/heads/main/example/2_EC-EC/test_set_tutorial.zip\n",
    "    ! unzip -oq test_set_tutorial.zip -d ./2_EC-EC/\n",
    "    ! rm test_set_tutorial.zip\n",
    "    print(\"number of test data:\")\n",
    "    ! find ./2_EC-EC/test_set_tutorial/ -type f | wc -l"
   ]
  },
  {
   "cell_type": "code",
   "execution_count": 9,
   "id": "26aefc8f-6036-4517-834f-8dc9ccc4cec7",
   "metadata": {},
   "outputs": [
    {
     "data": {
      "image/png": "[encoded data removed]",
      "text/plain": [
       "<IPython.core.display.Image object>"
      ]
     },
     "execution_count": 9,
     "metadata": {},
     "output_type": "execute_result"
    }
   ],
   "source": [
    "atoms = ase.io.read(\"./2_EC-EC/test_set_tutorial/file_0000.xsf\")\n",
    "ase.io.write('2EC.png', atoms)\n",
    "Image(\"2EC.png\")"
   ]
  },
  {
   "cell_type": "markdown",
   "id": "fe4c1b49-fe17-4cd7-977f-d0adda2695aa",
   "metadata": {},
   "source": [
    "# 2-1. Train–Test with default Cartesian fingerprint"
   ]
  },
  {
   "cell_type": "code",
   "execution_count": 10,
   "id": "4c6c4ca7-409a-4087-b34b-07effd22dbb1",
   "metadata": {},
   "outputs": [
    {
     "name": "stdout",
     "output_type": "stream",
     "text": [
      "--2025-09-26 14:43:40--  https://github.com/atomisticnet/aenet-gpr/raw/refs/heads/main/example/2_EC-EC/train.in\n",
      "Resolving github.com (github.com)... 140.82.113.4\n",
      "Connecting to github.com (github.com)|140.82.113.4|:443... connected.\n",
      "HTTP request sent, awaiting response... 302 Found\n",
      "Location: https://raw.githubusercontent.com/atomisticnet/aenet-gpr/refs/heads/main/example/2_EC-EC/train.in [following]\n",
      "--2025-09-26 14:43:40--  https://raw.githubusercontent.com/atomisticnet/aenet-gpr/refs/heads/main/example/2_EC-EC/train.in\n",
      "Resolving raw.githubusercontent.com (raw.githubusercontent.com)... 185.199.109.133, 185.199.111.133, 185.199.110.133, ...\n",
      "Connecting to raw.githubusercontent.com (raw.githubusercontent.com)|185.199.109.133|:443... connected.\n",
      "HTTP request sent, awaiting response... 200 OK\n",
      "Length: 566 [text/plain]\n",
      "Saving to: ‘train.in’\n",
      "\n",
      "train.in            100%[===================>]     566  --.-KB/s    in 0s      \n",
      "\n",
      "2025-09-26 14:43:40 (10.4 MB/s) - ‘train.in’ saved [566/566]\n",
      "\n"
     ]
    }
   ],
   "source": [
    "! rm -f train.in\n",
    "\n",
    "if os.path.isfile(\"../example/2_EC-EC/train.in\"):\n",
    "    ! cp ../example/2_EC-EC/train.in .\n",
    "else:\n",
    "    ! wget https://github.com/atomisticnet/aenet-gpr/raw/refs/heads/main/example/2_EC-EC/train.in"
   ]
  },
  {
   "cell_type": "code",
   "execution_count": 11,
   "id": "c2cfe62e-dfd2-4b54-83c1-a6e50bc247d3",
   "metadata": {},
   "outputs": [
    {
     "name": "stdout",
     "output_type": "stream",
     "text": [
      "# File path\n",
      "Train_file ./2_EC-EC/train_set_tutorial/file_*.xsf\n",
      "Test_file ./2_EC-EC/test_set_tutorial/file_*.xsf\n",
      "\n",
      "# Train model save (default: False)\n",
      "# Train_model_save True\n",
      "\n",
      "# File format (default: xsf)\n",
      "File_format xsf\n",
      "\n",
      "# Descriptor (default: cartesian coordinates)\n",
      "Descriptor cart\n",
      "\n",
      "# Kernel parameter\n",
      "# scale 1.5\n",
      "# weight 1.0\n",
      "\n",
      "# Data process (default: batch, 25)\n",
      "data_process batch\n",
      "batch_size 25\n",
      "\n",
      "# Flags for xsf file writing (default: False)\n",
      "Train_write False\n",
      "Test_write False\n",
      "# Additional_write True\n",
      "\n",
      "# Data augmentation parameter\n",
      "# Disp_length 0.05\n",
      "# Num_copy 3\n"
     ]
    }
   ],
   "source": [
    "! cat train.in"
   ]
  },
  {
   "cell_type": "code",
   "execution_count": 12,
   "id": "118f1319-3dd3-482f-81ee-b0f80918bdf3",
   "metadata": {
    "tags": []
   },
   "outputs": [
    {
     "name": "stdout",
     "output_type": "stream",
     "text": [
      "======================================================================\n",
      "aenet-GPR: surrogate GPR for GPR-ANN indirect force training\n",
      "======================================================================\n",
      "\n",
      "2025-09-26 14:44:41.\n",
      "\n",
      "Developed by In Won Yeu\n",
      "\n",
      "This program performs three main steps:\n",
      "1. Train: Generates a GPR model using the provided structure, energy, and force data.\n",
      "2. Test: Uses the generated GPR model to predict values for the test set structures.\n",
      "3. Augmentation: Performs data augmentation in xsf file format, compatible with aenet-(PyTorch),\n",
      "supporting a GPR-ANN training in conjunction with aenet-(PyTorch).\n",
      "\n",
      "Each of these steps is executed once the input file (train.in) contains the keywords:\n",
      "Train_file [train file path]\n",
      "Test_file [test file path]\n",
      "Additional_write [True]\n",
      "\n",
      "\n",
      "======================================================================\n",
      "Train\n",
      "======================================================================\n",
      "\n",
      "Read reference training data\n",
      "\n",
      "Time needed for reading data:            0.073937 s\n",
      "Maximum CPU memory used:             0.606815 GB\n",
      "Maximum GPU memory used:             0.000000 GB\n",
      "Energy data size: (80,)  # (N_data, )\n",
      "Force data size: (80, 20, 3)  # (N_data, N_atom, 3)\n",
      "----------------------------------------------------------------------\n",
      "Candidate scales: tensor([0.2000, 0.4000, 0.8000])\n",
      "Updated scale: 0.4000000059604645\n",
      "Updated weight: 0.6186434141732067\n",
      "----------------------------------------------------------------------\n",
      "Model train\n",
      "\n",
      "Training parameters\n",
      "{'num_data': 80, 'calculator': {'kerneltype': 'sqexp', 'scale': tensor(0.4000), 'weight': tensor(0.6186, dtype=torch.float64), 'noise': tensor(1.0000e-06, dtype=torch.float64), 'noisefactor': tensor(0.5000, dtype=torch.float64), 'prior': tensor(-18637.3499, dtype=torch.float64)}, 'fix_ind': None, 'pbc': False, 'species': ['O', 'O', 'O', 'C', 'C', 'C', 'H', 'H', 'H', 'H', 'O', 'O', 'O', 'C', 'C', 'C', 'H', 'H', 'H', 'H'], 'num_atom': 20}\n",
      "\n",
      "Time needed for training:           10.797689 s\n",
      "Maximum CPU memory used:             1.181332 GB\n",
      "Maximum GPU memory used:             0.000000 GB\n",
      "----------------------------------------------------------------------\n",
      "======================================================================\n",
      "Test\n",
      "======================================================================\n",
      "\n",
      "Read reference test data\n",
      "\n",
      "Time needed for reading data:            0.132015 s\n",
      "Maximum CPU memory used:             1.181332 GB\n",
      "Maximum GPU memory used:             0.000000 GB\n",
      "Energy data size: (160,)  # (N_data, )\n",
      "Force data size: (160, 20, 3)  # (N_data, N_atom, 3)\n",
      "----------------------------------------------------------------------\n",
      "----------------------------------------------------------------------\n",
      "Model evaluation for test set\n",
      "\n",
      "Test parameters\n",
      "{'num_data': 160, 'calculator': {'kerneltype': 'sqexp', 'scale': tensor(0.4000), 'weight': tensor(0.6186, dtype=torch.float64), 'noise': tensor(1.0000e-06, dtype=torch.float64), 'noisefactor': tensor(0.5000, dtype=torch.float64), 'prior': tensor(-18637.3499, dtype=torch.float64)}, 'fix_ind': None, 'pbc': False, 'species': ['O', 'O', 'O', 'C', 'C', 'C', 'H', 'H', 'H', 'H', 'O', 'O', 'O', 'C', 'C', 'C', 'H', 'H', 'H', 'H'], 'num_atom': 20}\n",
      "\n",
      "Time needed for test evaluation:            9.396431 s\n",
      "Maximum CPU memory used:             1.493095 GB\n",
      "Maximum GPU memory used:             0.000000 GB\n",
      "----------------------------------------------------------------------\n",
      "GPR energy MAE (eV): 0.040727771845763525\n",
      "GPR force MAE (eV/Ang): 0.29170825780360404\n",
      "GPR uncertainty mean ± std: 0.08408365296721938 ± 0.013513025583699174\n",
      "\n",
      "Saving test target to [energy_test_reference.npy] and [force_test_reference.npy]\n",
      "Saving GPR prediction to [energy_test_gpr.npy], [force_test_gpr.npy], and [uncertainty_test_gpr.npy]\n",
      "\n",
      "\n",
      "\u001b[0m"
     ]
    }
   ],
   "source": [
    "! python -m aenet_gpr train.in"
   ]
  },
  {
   "cell_type": "markdown",
   "id": "2fb02d1f-c950-4398-9c38-72f9c28e41fe",
   "metadata": {},
   "source": [
    "# 2-2. Visualize the results"
   ]
  },
  {
   "cell_type": "code",
   "execution_count": 13,
   "id": "1ee4c198-7a79-4be9-b721-4f0c77bff44d",
   "metadata": {},
   "outputs": [],
   "source": [
    "energy_test_gpr = np.load(\"./energy_test_gpr.npy\")\n",
    "energy_test_reference = np.load(\"./energy_test_reference.npy\")\n",
    "force_test_gpr = np.load(\"./force_test_gpr.npy\")\n",
    "force_test_reference = np.load(\"./force_test_reference.npy\")\n",
    "uncertainty_test_gpr = np.load(\"./uncertainty_test_gpr.npy\")"
   ]
  },
  {
   "cell_type": "code",
   "execution_count": 14,
   "id": "37a5ba8f-5a73-4a70-9ec2-fc5c44ee8abc",
   "metadata": {},
   "outputs": [
    {
     "name": "stdout",
     "output_type": "stream",
     "text": [
      "-0.0037080216154208754 0.007426366634354054\n"
     ]
    }
   ],
   "source": [
    "diff_per_atom = (energy_test_reference - energy_test_gpr) / 20\n",
    "\n",
    "print(diff_per_atom.min(), diff_per_atom.max())"
   ]
  },
  {
   "cell_type": "code",
   "execution_count": 15,
   "id": "52e3b71a-80f8-404b-89f8-cbdd87e3c73e",
   "metadata": {},
   "outputs": [
    {
     "data": {
      "image/png": "[encoded data removed]",
      "text/plain": [
       "<Figure size 700x600 with 1 Axes>"
      ]
     },
     "metadata": {},
     "output_type": "display_data"
    }
   ],
   "source": [
    "fig = plt.figure(figsize=(7, 6))\n",
    "ax2 = fig.subplots()\n",
    "\n",
    "font_x = {'size': 20, 'color': 'black'}\n",
    "font_y = {'size': 20, 'color': 'black'}\n",
    "font_tick = {'size': 16, 'color': 'black'}\n",
    "\n",
    "\n",
    "# The second plot\n",
    "counts, bins = np.histogram(diff_per_atom, bins=30, range=(-0.003, 0.03))\n",
    "\n",
    "ax2.hist(bins[:-1], bins, weights=counts, facecolor='dimgray', alpha=1.0, edgecolor='black')\n",
    "\n",
    "ax2.set_xlabel(\"DFT $-$ GPR (eV/atom)\", fontdict=font_x)\n",
    "ax2.set_xlim([-0.03, 0.03])\n",
    "x_labels = [round(label, 2) for label in ax2.get_xticks()]\n",
    "ax2.set_xticks(x_labels)\n",
    "ax2.set_xlim([-0.03, 0.03])\n",
    "ax2.set_xticklabels(x_labels, fontdict=font_tick)\n",
    "\n",
    "ax2.set_ylabel(\"Number of structures\", fontdict=font_y)\n",
    "ax2.set_ylim([0, 50])\n",
    "y_labels = [int(label) for label in ax2.get_yticks()]\n",
    "ax2.set_yticks(y_labels)\n",
    "ax2.set_ylim([0, 50])\n",
    "ax2.set_yticklabels(y_labels, fontdict=font_tick)\n",
    "\n",
    "[x.set_linewidth(1.5) for x in ax2.spines.values()]\n",
    "ax2.tick_params(bottom=False, top=True, left=True, right=True)\n",
    "ax2.tick_params(labelbottom=True, labeltop=False, labelleft=True, labelright=False)\n",
    "ax2.tick_params(direction='in', length=8, width=1.5)\n",
    "\n",
    "ax2.grid(True, which='both', linestyle=':', linewidth=0.7, alpha=0.7)\n",
    "\n",
    "fig.tight_layout()\n",
    "plt.show()"
   ]
  },
  {
   "cell_type": "markdown",
   "id": "135c93bb-e528-47b0-9a57-8a4dff184882",
   "metadata": {},
   "source": [
    "# 3. Augment"
   ]
  },
  {
   "cell_type": "markdown",
   "id": "4fc65d7e-595d-4e64-a922-abe7ac22b69c",
   "metadata": {},
   "source": [
    "So, using these parameters, augment step will be executed."
   ]
  },
  {
   "cell_type": "code",
   "execution_count": 16,
   "id": "3d11504f-9873-47d2-b4e5-dec94315ea98",
   "metadata": {},
   "outputs": [],
   "source": [
    "! sed -i '3s|.*|# Test_file ./2_EC-EC/test_set_tutorial/file_*.xsf|' train.in\n",
    "! sed -i '25s|.*|Additional_write True|' train.in\n",
    "! sed -i '28s|.*|Disp_length 0.05|' train.in\n",
    "! sed -i '29s|.*|Num_copy 2|' train.in"
   ]
  },
  {
   "cell_type": "code",
   "execution_count": 17,
   "id": "0f54fd0b-caed-46bd-9c8f-7a421e38cc8b",
   "metadata": {},
   "outputs": [
    {
     "name": "stdout",
     "output_type": "stream",
     "text": [
      "# File path\n",
      "Train_file ./2_EC-EC/train_set_tutorial/file_*.xsf\n",
      "# Test_file ./2_EC-EC/test_set_tutorial/file_*.xsf\n",
      "\n",
      "# Train model save (default: False)\n",
      "# Train_model_save True\n",
      "\n",
      "# File format (default: xsf)\n",
      "File_format xsf\n",
      "\n",
      "# Descriptor (default: cartesian coordinates)\n",
      "Descriptor cart\n",
      "\n",
      "# Kernel parameter\n",
      "# scale 1.5\n",
      "# weight 1.0\n",
      "\n",
      "# Data process (default: batch, 25)\n",
      "data_process batch\n",
      "batch_size 25\n",
      "\n",
      "# Flags for xsf file writing (default: False)\n",
      "Train_write False\n",
      "Test_write False\n",
      "Additional_write True\n",
      "\n",
      "# Data augmentation parameter\n",
      "Disp_length 0.05\n",
      "Num_copy 2\n"
     ]
    }
   ],
   "source": [
    "! cat train.in"
   ]
  },
  {
   "cell_type": "code",
   "execution_count": 18,
   "id": "54ca7ab0-7e78-4755-b316-1bd54c9faf4d",
   "metadata": {},
   "outputs": [
    {
     "name": "stdout",
     "output_type": "stream",
     "text": [
      "======================================================================\n",
      "aenet-GPR: surrogate GPR for GPR-ANN indirect force training\n",
      "======================================================================\n",
      "\n",
      "2025-09-26 14:46:26.\n",
      "\n",
      "Developed by In Won Yeu\n",
      "\n",
      "This program performs three main steps:\n",
      "1. Train: Generates a GPR model using the provided structure, energy, and force data.\n",
      "2. Test: Uses the generated GPR model to predict values for the test set structures.\n",
      "3. Augmentation: Performs data augmentation in xsf file format, compatible with aenet-(PyTorch),\n",
      "supporting a GPR-ANN training in conjunction with aenet-(PyTorch).\n",
      "\n",
      "Each of these steps is executed once the input file (train.in) contains the keywords:\n",
      "Train_file [train file path]\n",
      "Test_file [test file path]\n",
      "Additional_write [True]\n",
      "\n",
      "\n",
      "======================================================================\n",
      "Train\n",
      "======================================================================\n",
      "\n",
      "Read reference training data\n",
      "\n",
      "Time needed for reading data:            0.078423 s\n",
      "Maximum CPU memory used:             0.607975 GB\n",
      "Maximum GPU memory used:             0.000000 GB\n",
      "Energy data size: (80,)  # (N_data, )\n",
      "Force data size: (80, 20, 3)  # (N_data, N_atom, 3)\n",
      "----------------------------------------------------------------------\n",
      "Candidate scales: tensor([0.2000, 0.4000, 0.8000])\n",
      "Updated scale: 0.4000000059604645\n",
      "Updated weight: 0.6186434141732067\n",
      "----------------------------------------------------------------------\n",
      "Model train\n",
      "\n",
      "Training parameters\n",
      "{'num_data': 80, 'calculator': {'kerneltype': 'sqexp', 'scale': tensor(0.4000), 'weight': tensor(0.6186, dtype=torch.float64), 'noise': tensor(1.0000e-06, dtype=torch.float64), 'noisefactor': tensor(0.5000, dtype=torch.float64), 'prior': tensor(-18637.3499, dtype=torch.float64)}, 'fix_ind': None, 'pbc': False, 'species': ['O', 'O', 'O', 'C', 'C', 'C', 'H', 'H', 'H', 'H', 'O', 'O', 'O', 'C', 'C', 'C', 'H', 'H', 'H', 'H'], 'num_atom': 20}\n",
      "\n",
      "Time needed for training:            9.376734 s\n",
      "Maximum CPU memory used:             1.174114 GB\n",
      "Maximum GPU memory used:             0.000000 GB\n",
      "----------------------------------------------------------------------\n",
      "======================================================================\n",
      "Augmentation\n",
      "======================================================================\n",
      "----------------------------------------------------------------------\n",
      "Additional structure generation\n",
      "\n",
      "Time needed for additional generation:            0.192407 s\n",
      "Maximum CPU memory used:             1.174114 GB\n",
      "Maximum GPU memory used:             0.000000 GB\n",
      "Displacement length (Ang): 0.05\n",
      "Multiple: 2\n",
      "N_additional = N_reference (80) * Multiple (2) = 160\n",
      "----------------------------------------------------------------------\n",
      "----------------------------------------------------------------------\n",
      "Model evaluation for additional set\n",
      "\n",
      "Test parameters\n",
      "{'num_data': 160, 'calculator': {'kerneltype': 'sqexp', 'scale': tensor(0.4000), 'weight': tensor(0.6186, dtype=torch.float64), 'noise': tensor(1.0000e-06, dtype=torch.float64), 'noisefactor': tensor(0.5000, dtype=torch.float64), 'prior': tensor(-18637.3499, dtype=torch.float64)}, 'fix_ind': None, 'pbc': False, 'species': ['O', 'O', 'O', 'C', 'C', 'C', 'H', 'H', 'H', 'H', 'O', 'O', 'O', 'C', 'C', 'C', 'H', 'H', 'H', 'H'], 'num_atom': 20}\n",
      "\n",
      "Time needed for additional evaluation:            9.064673 s\n",
      "Maximum CPU memory used:             1.449368 GB\n",
      "Maximum GPU memory used:             0.000000 GB\n",
      "----------------------------------------------------------------------\n",
      "\n",
      "Saving GPR prediction to [energy_additional_gpr.npy], [force_additional_gpr.npy], and [uncertainty_additional_gpr.npy]\n",
      "======================================================================\n",
      "Writing additional xsf files to additional_xsf\n",
      "\n",
      "Time needed for writing xsf files:            6.625659 s\n",
      "Maximum CPU memory used:             1.449368 GB\n",
      "Maximum GPU memory used:             0.000000 GB\n",
      "======================================================================\n",
      "\u001b[0m"
     ]
    }
   ],
   "source": [
    "! rm -rf additional_xsf/\n",
    "! python -m aenet_gpr train.in"
   ]
  },
  {
   "cell_type": "markdown",
   "id": "05a6aa76-121e-4400-bee1-db4b336403b5",
   "metadata": {},
   "source": [
    "Now, 160 new data have been augmented"
   ]
  },
  {
   "cell_type": "code",
   "execution_count": 19,
   "id": "f387f337-01ba-43c7-8a07-77ee732d6f06",
   "metadata": {},
   "outputs": [
    {
     "name": "stdout",
     "output_type": "stream",
     "text": [
      "file_00000.xsf\tfile_00032.xsf\tfile_00064.xsf\tfile_00096.xsf\tfile_00128.xsf\n",
      "file_00001.xsf\tfile_00033.xsf\tfile_00065.xsf\tfile_00097.xsf\tfile_00129.xsf\n",
      "file_00002.xsf\tfile_00034.xsf\tfile_00066.xsf\tfile_00098.xsf\tfile_00130.xsf\n",
      "file_00003.xsf\tfile_00035.xsf\tfile_00067.xsf\tfile_00099.xsf\tfile_00131.xsf\n",
      "file_00004.xsf\tfile_00036.xsf\tfile_00068.xsf\tfile_00100.xsf\tfile_00132.xsf\n",
      "file_00005.xsf\tfile_00037.xsf\tfile_00069.xsf\tfile_00101.xsf\tfile_00133.xsf\n",
      "file_00006.xsf\tfile_00038.xsf\tfile_00070.xsf\tfile_00102.xsf\tfile_00134.xsf\n",
      "file_00007.xsf\tfile_00039.xsf\tfile_00071.xsf\tfile_00103.xsf\tfile_00135.xsf\n",
      "file_00008.xsf\tfile_00040.xsf\tfile_00072.xsf\tfile_00104.xsf\tfile_00136.xsf\n",
      "file_00009.xsf\tfile_00041.xsf\tfile_00073.xsf\tfile_00105.xsf\tfile_00137.xsf\n",
      "file_00010.xsf\tfile_00042.xsf\tfile_00074.xsf\tfile_00106.xsf\tfile_00138.xsf\n",
      "file_00011.xsf\tfile_00043.xsf\tfile_00075.xsf\tfile_00107.xsf\tfile_00139.xsf\n",
      "file_00012.xsf\tfile_00044.xsf\tfile_00076.xsf\tfile_00108.xsf\tfile_00140.xsf\n",
      "file_00013.xsf\tfile_00045.xsf\tfile_00077.xsf\tfile_00109.xsf\tfile_00141.xsf\n",
      "file_00014.xsf\tfile_00046.xsf\tfile_00078.xsf\tfile_00110.xsf\tfile_00142.xsf\n",
      "file_00015.xsf\tfile_00047.xsf\tfile_00079.xsf\tfile_00111.xsf\tfile_00143.xsf\n",
      "file_00016.xsf\tfile_00048.xsf\tfile_00080.xsf\tfile_00112.xsf\tfile_00144.xsf\n",
      "file_00017.xsf\tfile_00049.xsf\tfile_00081.xsf\tfile_00113.xsf\tfile_00145.xsf\n",
      "file_00018.xsf\tfile_00050.xsf\tfile_00082.xsf\tfile_00114.xsf\tfile_00146.xsf\n",
      "file_00019.xsf\tfile_00051.xsf\tfile_00083.xsf\tfile_00115.xsf\tfile_00147.xsf\n",
      "file_00020.xsf\tfile_00052.xsf\tfile_00084.xsf\tfile_00116.xsf\tfile_00148.xsf\n",
      "file_00021.xsf\tfile_00053.xsf\tfile_00085.xsf\tfile_00117.xsf\tfile_00149.xsf\n",
      "file_00022.xsf\tfile_00054.xsf\tfile_00086.xsf\tfile_00118.xsf\tfile_00150.xsf\n",
      "file_00023.xsf\tfile_00055.xsf\tfile_00087.xsf\tfile_00119.xsf\tfile_00151.xsf\n",
      "file_00024.xsf\tfile_00056.xsf\tfile_00088.xsf\tfile_00120.xsf\tfile_00152.xsf\n",
      "file_00025.xsf\tfile_00057.xsf\tfile_00089.xsf\tfile_00121.xsf\tfile_00153.xsf\n",
      "file_00026.xsf\tfile_00058.xsf\tfile_00090.xsf\tfile_00122.xsf\tfile_00154.xsf\n",
      "file_00027.xsf\tfile_00059.xsf\tfile_00091.xsf\tfile_00123.xsf\tfile_00155.xsf\n",
      "file_00028.xsf\tfile_00060.xsf\tfile_00092.xsf\tfile_00124.xsf\tfile_00156.xsf\n",
      "file_00029.xsf\tfile_00061.xsf\tfile_00093.xsf\tfile_00125.xsf\tfile_00157.xsf\n",
      "file_00030.xsf\tfile_00062.xsf\tfile_00094.xsf\tfile_00126.xsf\tfile_00158.xsf\n",
      "file_00031.xsf\tfile_00063.xsf\tfile_00095.xsf\tfile_00127.xsf\tfile_00159.xsf\n"
     ]
    }
   ],
   "source": [
    "! cd ./additional_xsf/ && ls"
   ]
  },
  {
   "cell_type": "markdown",
   "id": "cfeeb430-3e29-47e0-9030-a00062a14e31",
   "metadata": {},
   "source": [
    "Their structures are perturbed from reference training data and their energy tags are given from the GPR predictions"
   ]
  },
  {
   "cell_type": "code",
   "execution_count": 20,
   "id": "9993a1c8-b75a-458e-8dd4-bf1f7b0e80b6",
   "metadata": {},
   "outputs": [
    {
     "name": "stdout",
     "output_type": "stream",
     "text": [
      "# total energy = -18640.2208655713839107 eV\n",
      "\n",
      "ATOMS\n",
      "O     9.82721364443320     6.45026079599335     12.23346226710454     1.39935391165511     1.41786325648541     -1.10716013611660\n",
      "O     8.41276814259878     5.21907047900292     13.53305923374141     2.61632025606340     2.21242113131746     -2.74515393051161\n",
      "O     9.98889671349001     4.17619943036426     12.15207146022709     -0.84378892782107     2.93937163932594     -0.01957322732478\n",
      "C     9.28107005814269     7.54361869869649     13.04181231567906     -2.71305468905667     -4.78690026408253     0.53832580471219\n",
      "C     8.00325624628473     6.67298647735712     13.57151477400178     2.98515387907591     -0.83658726999143     2.02154502508487\n",
      "C     9.52933648378234     5.28528909104485     12.48126688825571     -2.54102045852399     -4.03835221851375     3.01386223165565\n",
      "H     8.97645336458058     8.27335970902639     12.46458340409298     -0.34237657736643     1.55881780920482     -1.58798397587665\n",
      "H     9.82194755964725     7.84385249367871     13.83948452954855     1.46311568138114     0.35373226337171     1.06909726137212\n",
      "H     7.84061897035860     6.86719709573416     14.64898527278011     -0.39247349288433     0.05095171818830     -0.16119133678511\n",
      "H     7.24022195031608     6.80694732033157     12.95080627082965     -1.93798143930304     0.24931281045311     -1.40427308306418\n",
      "O     4.92278198237604     2.37926709432845     13.37475220545614     -0.06110724435487     1.56174909198798     1.52625668700527\n",
      "O     3.17691199285776     2.99715947864507     12.07009094378478     0.37134606601860     -2.07528918521233     0.91356495680645\n",
      "O     4.08283691680338     0.77323920348435     12.12246016758468     -0.65254704112613     2.58474266874973     0.97326411061870\n",
      "C     4.67118016028717     3.84697295063922     13.57889312532189     3.17537084554912     0.29085738829494     -1.03044488886160\n",
      "C     3.34145452883210     4.03501152747068     12.94791602539601     -0.52934268874023     1.50258724733686     0.16484322009950\n",
      "C     3.99222307246355     1.91745935444356     12.61079254053130     0.24967680388434     -2.34654397491290     -3.06297995185095\n",
      "H     5.55402104118636     4.29782799794313     12.92629066740055     -1.53700052140693     -0.76623920617581     1.32464949136077\n",
      "H     4.91407063337691     4.19683378026009     14.63656420698816     -0.54399634442669     -0.84927871963819     -0.63064939587253\n",
      "H     2.58796991908947     4.11284033582827     13.76427208211909     -0.27828664553950     -0.08858139441454     -0.54681652136269\n",
      "H     3.25741975909301     5.03695290572735     12.41581857915652     0.18121946604793     -0.68043897889358     -0.29520262245514\n"
     ]
    }
   ],
   "source": [
    "! cd ./additional_xsf/ && cat file_00015.xsf"
   ]
  },
  {
   "cell_type": "code",
   "execution_count": 21,
   "id": "b0217aee-9888-4f21-b185-1c8a2a27e7ac",
   "metadata": {},
   "outputs": [
    {
     "name": "stdout",
     "output_type": "stream",
     "text": [
      "# total energy = -18640.2260553655542026 eV\n",
      "\n",
      "ATOMS\n",
      "O     10.00850199464345     6.50932532453587     12.31245938967771     -1.19778447366568     -2.53331320451559     0.39512874213708\n",
      "O     8.41582861348162     5.30380591314717     13.52926208754580     1.03005078032906     0.33130629266762     -1.53072281283363\n",
      "O     9.91873733342309     4.09743027682104     12.18815690776962     -1.66096174841613     4.01661239159787     1.19454781539090\n",
      "C     9.29433576392171     7.52368395724192     13.04790393008544     -1.48830909505787     -3.57714680921804     -1.17442303955858\n",
      "C     8.05475568660386     6.68309458264375     13.58376584506382     0.70235372423461     0.73714799925822     0.12751048187448\n",
      "C     9.43305502055791     5.18782724977434     12.61848711203587     2.12190856047256     -1.80150495695052     -1.10327775971291\n",
      "H     8.96340850968417     8.19703495034280     12.36144498417672     -0.67359355387938     1.59589615027286     -1.16589899341294\n",
      "H     9.93739100342455     7.81558600217277     13.72074788490647     1.34394641231943     1.59528735374555     2.08567504139310\n",
      "H     7.83997467615935     6.88783017823892     14.63343520012093     -0.03583651080590     -0.11742205725847     -0.01031795793128\n",
      "H     7.21486576875469     6.92091795333593     12.88447224907736     0.22480422773843     -0.52025401782336     0.23505415838025\n",
      "O     4.89790810127026     2.52769516879551     13.30890448649275     2.14055693944086     -1.61394085211012     2.47207559069244\n",
      "O     3.14616445649235     3.03911902628148     12.18175976777048     1.58348996979933     -3.11569980676190     -0.60131221758428\n",
      "O     4.00063072461897     0.74159759982178     12.09487236353294     0.76449080613632     5.29232734763772     1.96861523638725\n",
      "C     4.74919922453961     3.91585769847033     13.59384191315901     -1.49119790508352     -1.69539976564110     -1.79208792354973\n",
      "C     3.39576988911299     4.09240519787583     13.00441526733653     -0.83467247252739     0.66834038731852     -0.28539411431591\n",
      "C     4.12251784463987     1.95308005904968     12.55253890577615     -3.59127687501731     -3.00202670157611     -3.54347337917660\n",
      "H     5.50604760962110     4.26471622002823     13.01643647799460     1.29859291688390     1.18819938738702     -0.75250025380453\n",
      "H     4.82834974842597     4.11520110692457     14.58921518915888     0.18979777015029     0.34830436829088     1.84020055855390\n",
      "H     2.60318010740906     3.98556703173218     13.67568486537649     -0.25174708008385     0.64557278063472     1.28283156681312\n",
      "H     3.22840367321544     4.97284916276590     12.39744800294240     0.33338964928681     0.40325500989313     -0.01597493265051\n"
     ]
    }
   ],
   "source": [
    "! cd ./additional_xsf/ && cat file_00016.xsf"
   ]
  },
  {
   "cell_type": "code",
   "execution_count": null,
   "id": "8a64dafc-55c2-40d4-a9fa-2594c256dd71",
   "metadata": {},
   "outputs": [],
   "source": []
  }
 ],
 "metadata": {
  "kernelspec": {
   "display_name": "Python 3",
   "language": "python",
   "name": "python3"
  },
  "language_info": {
   "codemirror_mode": {
    "name": "ipython",
    "version": 3
   },
   "file_extension": ".py",
   "mimetype": "text/x-python",
   "name": "python",
   "nbconvert_exporter": "python",
   "pygments_lexer": "ipython3",
   "version": "3.12.2"
  }
 },
 "nbformat": 4,
 "nbformat_minor": 5
}
