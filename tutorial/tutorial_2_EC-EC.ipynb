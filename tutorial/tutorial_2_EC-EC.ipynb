{
 "cells": [
  {
   "cell_type": "code",
   "execution_count": 1,
   "id": "8d96e3d3-c936-471d-b313-33c36d0e742c",
   "metadata": {
    "tags": []
   },
   "outputs": [
    {
     "name": "stdout",
     "output_type": "stream",
     "text": [
      "successfully imported torch\n",
      "2.6.0+cu124\n"
     ]
    }
   ],
   "source": [
    "try:\n",
    "    import torch\n",
    "    print(\"successfully imported torch\")\n",
    "    print(torch.__version__)\n",
    "except ImportError:\n",
    "    !! pip install torch torchvision torchaudio --user --index-url https://download.pytorch.org/whl/cpu\n",
    "    print(\"completed installing torch\")"
   ]
  },
  {
   "cell_type": "code",
   "execution_count": 2,
   "id": "4a081492-ac80-4580-af26-d6ce28004bac",
   "metadata": {},
   "outputs": [
    {
     "name": "stdout",
     "output_type": "stream",
     "text": [
      "successfully imported numpy\n",
      "1.26.4\n"
     ]
    }
   ],
   "source": [
    "try:\n",
    "    import numpy as np\n",
    "    print(\"successfully imported numpy\")\n",
    "    print(np.__version__)\n",
    "except ImportError:\n",
    "    !! pip install numpy --user --upgrade\n",
    "    print(\"completed installing numpy\")"
   ]
  },
  {
   "cell_type": "code",
   "execution_count": 3,
   "id": "78af600e-1c02-4e34-bd05-0128b0588c1c",
   "metadata": {},
   "outputs": [
    {
     "name": "stdout",
     "output_type": "stream",
     "text": [
      "successfully imported matplotlib\n"
     ]
    }
   ],
   "source": [
    "try:\n",
    "    from matplotlib import pyplot as plt\n",
    "    print(\"successfully imported matplotlib\")\n",
    "except ImportError:\n",
    "    !! pip install matplotlib --user --upgrade\n",
    "    print(\"completed installing matplotlib\")"
   ]
  },
  {
   "cell_type": "code",
   "execution_count": 4,
   "id": "11e45431-8717-40ed-ba5a-348bdfe73539",
   "metadata": {},
   "outputs": [
    {
     "name": "stdout",
     "output_type": "stream",
     "text": [
      "completed installing aenet-gpr\n",
      "Name: aenet-gpr\n",
      "Version: 1.8.0\n",
      "Summary: Atomistic simulation tools based on Gaussian Processes Regression\n",
      "Home-page: https://github.com/atomisticnet/aenet-gpr\n",
      "Author: In Won Yeu\n",
      "Author-email: iy2185@columbia.edu\n",
      "License: MPL-2.0\n",
      "Location: /data/home/iy2185/.local/lib/python3.12/site-packages\n",
      "Requires: ase, dscribe\n",
      "Required-by: \n"
     ]
    }
   ],
   "source": [
    "!! pip install aenet-gpr --user --upgrade\n",
    "print(\"completed installing aenet-gpr\")\n",
    "\n",
    "! pip show aenet-gpr"
   ]
  },
  {
   "cell_type": "code",
   "execution_count": 5,
   "id": "ec916db8-cfb8-475d-8cef-55f74ff30cc3",
   "metadata": {},
   "outputs": [
    {
     "name": "stdout",
     "output_type": "stream",
     "text": [
      "1.8.0\n"
     ]
    }
   ],
   "source": [
    "import os, sys, site\n",
    "sys.path.append(site.USER_SITE)\n",
    "\n",
    "import aenet_gpr\n",
    "print(aenet_gpr.__version__)"
   ]
  },
  {
   "cell_type": "code",
   "execution_count": 6,
   "id": "f8f7fdf1-513c-4905-a02a-651e464b7e91",
   "metadata": {},
   "outputs": [
    {
     "name": "stdout",
     "output_type": "stream",
     "text": [
      "successfully imported ase\n"
     ]
    }
   ],
   "source": [
    "from IPython.display import Image\n",
    "\n",
    "try:\n",
    "    import ase.io\n",
    "    print(\"successfully imported ase\")\n",
    "except ImportError:\n",
    "    !! pip install ase --user --upgrade\n",
    "    print(\"completed installing ASE\")\n",
    "    \n",
    "    import ase.io\n",
    "    print(\"successfully imported ase\")"
   ]
  },
  {
   "cell_type": "markdown",
   "id": "f9cfd82b-8f6c-48ec-9c57-54ea593bb81b",
   "metadata": {},
   "source": [
    "# 1. Prepare training/test data"
   ]
  },
  {
   "cell_type": "markdown",
   "id": "7e022168-4914-4b3a-87c4-b5de07a8b5f8",
   "metadata": {},
   "source": [
    "We are using train/test HSE06 data of EC dimer prepared in `aenet-gpr/example/2_EC-EC/`"
   ]
  },
  {
   "cell_type": "code",
   "execution_count": 7,
   "id": "d50bab63-a944-4fa9-b202-3deb00dcf64b",
   "metadata": {},
   "outputs": [
    {
     "name": "stdout",
     "output_type": "stream",
     "text": [
      "--2025-07-22 16:20:10--  https://github.com/atomisticnet/aenet-gpr/raw/refs/heads/main/example/2_EC-EC/train_set_tutorial.zip\n",
      "Resolving github.com (github.com)... 140.82.112.4\n",
      "Connecting to github.com (github.com)|140.82.112.4|:443... connected.\n",
      "HTTP request sent, awaiting response... 302 Found\n",
      "Location: https://raw.githubusercontent.com/atomisticnet/aenet-gpr/refs/heads/main/example/2_EC-EC/train_set_tutorial.zip [following]\n",
      "--2025-07-22 16:20:10--  https://raw.githubusercontent.com/atomisticnet/aenet-gpr/refs/heads/main/example/2_EC-EC/train_set_tutorial.zip\n",
      "Resolving raw.githubusercontent.com (raw.githubusercontent.com)... 185.199.110.133, 185.199.109.133, 185.199.108.133, ...\n",
      "Connecting to raw.githubusercontent.com (raw.githubusercontent.com)|185.199.110.133|:443... connected.\n",
      "HTTP request sent, awaiting response... 200 OK\n",
      "Length: 101063 (99K) [application/zip]\n",
      "Saving to: ‘train_set_tutorial.zip’\n",
      "\n",
      "train_set_tutorial. 100%[===================>]  98.69K  --.-KB/s    in 0.002s  \n",
      "\n",
      "2025-07-22 16:20:10 (46.7 MB/s) - ‘train_set_tutorial.zip’ saved [101063/101063]\n",
      "\n",
      "number of train data:\n",
      "80\n"
     ]
    }
   ],
   "source": [
    "import os.path\n",
    "\n",
    "! rm -rf 2_EC-EC\n",
    "! mkdir 2_EC-EC\n",
    "    \n",
    "if os.path.isfile(\"../example/2_EC-EC/train_set_tutorial.zip\"):\n",
    "    ! unzip -oq ../example/2_EC-EC/train_set_tutorial.zip -d ./2_EC-EC/\n",
    "    print(\"number of train data:\")\n",
    "    ! find ./2_EC-EC/train_set_tutorial/ -type f | wc -l\n",
    "else:\n",
    "    ! wget https://github.com/atomisticnet/aenet-gpr/raw/refs/heads/main/example/2_EC-EC/train_set_tutorial.zip\n",
    "    ! unzip -oq train_set_tutorial.zip -d ./2_EC-EC/\n",
    "    ! rm train_set_tutorial.zip\n",
    "    print(\"number of train data:\")\n",
    "    ! find ./2_EC-EC/train_set_tutorial/ -type f | wc -l"
   ]
  },
  {
   "cell_type": "code",
   "execution_count": 8,
   "id": "21ba107a-9e4c-44cd-82e4-d9d5cf97477b",
   "metadata": {},
   "outputs": [
    {
     "name": "stdout",
     "output_type": "stream",
     "text": [
      "--2025-07-22 16:20:12--  https://github.com/atomisticnet/aenet-gpr/raw/refs/heads/main/example/2_EC-EC/test_set_tutorial.zip\n",
      "Resolving github.com (github.com)... 140.82.112.4\n",
      "Connecting to github.com (github.com)|140.82.112.4|:443... connected.\n",
      "HTTP request sent, awaiting response... 302 Found\n",
      "Location: https://raw.githubusercontent.com/atomisticnet/aenet-gpr/refs/heads/main/example/2_EC-EC/test_set_tutorial.zip [following]\n",
      "--2025-07-22 16:20:12--  https://raw.githubusercontent.com/atomisticnet/aenet-gpr/refs/heads/main/example/2_EC-EC/test_set_tutorial.zip\n",
      "Resolving raw.githubusercontent.com (raw.githubusercontent.com)... 185.199.110.133, 185.199.109.133, 185.199.108.133, ...\n",
      "Connecting to raw.githubusercontent.com (raw.githubusercontent.com)|185.199.110.133|:443... connected.\n",
      "HTTP request sent, awaiting response... 200 OK\n",
      "Length: 257174 (251K) [application/zip]\n",
      "Saving to: ‘test_set_tutorial.zip’\n",
      "\n",
      "test_set_tutorial.z 100%[===================>] 251.15K  --.-KB/s    in 0.005s  \n",
      "\n",
      "2025-07-22 16:20:12 (48.8 MB/s) - ‘test_set_tutorial.zip’ saved [257174/257174]\n",
      "\n",
      "number of test data:\n",
      "161\n"
     ]
    }
   ],
   "source": [
    "if os.path.isfile(\"../example/2_EC-EC/test_set_tutorial.zip\"):\n",
    "    ! unzip -oq ../example/2_EC-EC/test_set_tutorial.zip -d ./2_EC-EC/\n",
    "    print(\"number of test data:\")\n",
    "    ! find ./2_EC-EC/test_set_tutorial/ -type f | wc -l\n",
    "else:\n",
    "    ! wget https://github.com/atomisticnet/aenet-gpr/raw/refs/heads/main/example/2_EC-EC/test_set_tutorial.zip\n",
    "    ! unzip -oq test_set_tutorial.zip -d ./2_EC-EC/\n",
    "    ! rm test_set_tutorial.zip\n",
    "    print(\"number of test data:\")\n",
    "    ! find ./2_EC-EC/test_set_tutorial/ -type f | wc -l"
   ]
  },
  {
   "cell_type": "code",
   "execution_count": 9,
   "id": "26aefc8f-6036-4517-834f-8dc9ccc4cec7",
   "metadata": {},
   "outputs": [
    {
     "data": {
      "image/png": "[encoded data removed]",
      "text/plain": [
       "<IPython.core.display.Image object>"
      ]
     },
     "execution_count": 9,
     "metadata": {},
     "output_type": "execute_result"
    }
   ],
   "source": [
    "atoms = ase.io.read(\"./2_EC-EC/test_set_tutorial/file_0000.xsf\")\n",
    "ase.io.write('2EC.png', atoms)\n",
    "Image(\"2EC.png\")"
   ]
  },
  {
   "cell_type": "markdown",
   "id": "fe4c1b49-fe17-4cd7-977f-d0adda2695aa",
   "metadata": {},
   "source": [
    "# 2-1. Train–Test with default Cartesian fingerprint"
   ]
  },
  {
   "cell_type": "code",
   "execution_count": 10,
   "id": "4c6c4ca7-409a-4087-b34b-07effd22dbb1",
   "metadata": {},
   "outputs": [
    {
     "name": "stdout",
     "output_type": "stream",
     "text": [
      "--2025-07-22 16:20:16--  https://github.com/atomisticnet/aenet-gpr/raw/refs/heads/main/example/2_EC-EC/train.in\n",
      "Resolving github.com (github.com)... 140.82.112.4\n",
      "Connecting to github.com (github.com)|140.82.112.4|:443... connected.\n",
      "HTTP request sent, awaiting response... 302 Found\n",
      "Location: https://raw.githubusercontent.com/atomisticnet/aenet-gpr/refs/heads/main/example/2_EC-EC/train.in [following]\n",
      "--2025-07-22 16:20:16--  https://raw.githubusercontent.com/atomisticnet/aenet-gpr/refs/heads/main/example/2_EC-EC/train.in\n",
      "Resolving raw.githubusercontent.com (raw.githubusercontent.com)... 185.199.110.133, 185.199.109.133, 185.199.108.133, ...\n",
      "Connecting to raw.githubusercontent.com (raw.githubusercontent.com)|185.199.110.133|:443... connected.\n",
      "HTTP request sent, awaiting response... 200 OK\n",
      "Length: 566 [text/plain]\n",
      "Saving to: ‘train.in’\n",
      "\n",
      "train.in            100%[===================>]     566  --.-KB/s    in 0s      \n",
      "\n",
      "2025-07-22 16:20:16 (10.1 MB/s) - ‘train.in’ saved [566/566]\n",
      "\n"
     ]
    }
   ],
   "source": [
    "! rm -f train.in\n",
    "\n",
    "if os.path.isfile(\"../example/2_EC-EC/train.in\"):\n",
    "    ! cp ../example/2_EC-EC/train.in .\n",
    "else:\n",
    "    ! wget https://github.com/atomisticnet/aenet-gpr/raw/refs/heads/main/example/2_EC-EC/train.in"
   ]
  },
  {
   "cell_type": "code",
   "execution_count": 11,
   "id": "c2cfe62e-dfd2-4b54-83c1-a6e50bc247d3",
   "metadata": {},
   "outputs": [
    {
     "name": "stdout",
     "output_type": "stream",
     "text": [
      "# File path\n",
      "Train_file ./2_EC-EC/train_set_tutorial/file_*.xsf\n",
      "Test_file ./2_EC-EC/test_set_tutorial/file_*.xsf\n",
      "\n",
      "# Train model save (default: False)\n",
      "# Train_model_save True\n",
      "\n",
      "# File format (default: xsf)\n",
      "File_format xsf\n",
      "\n",
      "# Descriptor (default: cartesian coordinates)\n",
      "Descriptor cart\n",
      "\n",
      "# Kernel parameter\n",
      "# scale 1.5\n",
      "# weight 1.0\n",
      "\n",
      "# Data process (default: batch, 25)\n",
      "data_process batch\n",
      "batch_size 25\n",
      "\n",
      "# Flags for xsf file writing (default: False)\n",
      "Train_write False\n",
      "Test_write False\n",
      "# Additional_write True\n",
      "\n",
      "# Data augmentation parameter\n",
      "# Disp_length 0.05\n",
      "# Num_copy 3\n"
     ]
    }
   ],
   "source": [
    "! cat train.in"
   ]
  },
  {
   "cell_type": "code",
   "execution_count": 12,
   "id": "118f1319-3dd3-482f-81ee-b0f80918bdf3",
   "metadata": {
    "tags": []
   },
   "outputs": [
    {
     "name": "stdout",
     "output_type": "stream",
     "text": [
      "======================================================================\n",
      "aenet-GPR: surrogate GPR for GPR-ANN indirect force training\n",
      "======================================================================\n",
      "\n",
      "2025-07-22 16:20:21.\n",
      "\n",
      "Developed by In Won Yeu\n",
      "\n",
      "This program performs three main steps:\n",
      "1. Train: Generates a GPR model using the provided structure, energy, and force data.\n",
      "2. Test: Uses the generated GPR model to predict values for the test set structures.\n",
      "3. Augmentation: Performs data augmentation in xsf file format, compatible with aenet-(PyTorch),\n",
      "supporting a GPR-ANN training in conjunction with aenet-(PyTorch).\n",
      "\n",
      "Each of these steps is executed once the input file (train.in) contains the keywords:\n",
      "Train_file [train file path]\n",
      "Test_file [test file path]\n",
      "Additional_write [True]\n",
      "\n",
      "\n",
      "======================================================================\n",
      "Train\n",
      "======================================================================\n",
      "\n",
      "Read reference training data\n",
      "\n",
      "Time needed for reading data:            0.054983 s\n",
      "Maximum CPU memory used:             0.534389 GB\n",
      "Maximum GPU memory used:             0.000000 GB\n",
      "Energy data size: (80,)  # (N_data, )\n",
      "Force data size: (80, 20, 3)  # (N_data, N_atom, 3)\n",
      "----------------------------------------------------------------------\n",
      "----------------------------------------------------------------------\n",
      "Model train\n",
      "\n",
      "Training parameters\n",
      "{'num_data': 80, 'calculator': {'kerneltype': 'sqexp', 'scale': tensor(0.4000, dtype=torch.float64), 'weight': tensor(2.6570, dtype=torch.float64), 'noise': tensor(1.0000e-06, dtype=torch.float64), 'noisefactor': tensor(0.5000, dtype=torch.float64), 'prior': tensor(19.9463, dtype=torch.float64)}, 'fix_ind': None, 'pbc': False, 'species': ['O', 'O', 'O', 'C', 'C', 'C', 'H', 'H', 'H', 'H', 'O', 'O', 'O', 'C', 'C', 'C', 'H', 'H', 'H', 'H'], 'num_atom': 20}\n",
      "\n",
      "Time needed for training:            2.469756 s\n",
      "Maximum CPU memory used:             0.998886 GB\n",
      "Maximum GPU memory used:             0.000000 GB\n",
      "----------------------------------------------------------------------\n",
      "======================================================================\n",
      "Test\n",
      "======================================================================\n",
      "\n",
      "Read reference test data\n",
      "\n",
      "Time needed for reading data:            0.114061 s\n",
      "Maximum CPU memory used:             0.998886 GB\n",
      "Maximum GPU memory used:             0.000000 GB\n",
      "Energy data size: (160,)  # (N_data, )\n",
      "Force data size: (160, 20, 3)  # (N_data, N_atom, 3)\n",
      "----------------------------------------------------------------------\n",
      "----------------------------------------------------------------------\n",
      "Model evaluation for test set\n",
      "\n",
      "Test parameters\n",
      "{'num_data': 160, 'calculator': {'kerneltype': 'sqexp', 'scale': tensor(0.4000, dtype=torch.float64), 'weight': tensor(2.6570, dtype=torch.float64), 'noise': tensor(1.0000e-06, dtype=torch.float64), 'noisefactor': tensor(0.5000, dtype=torch.float64), 'prior': tensor(19.9463, dtype=torch.float64)}, 'fix_ind': None, 'pbc': False, 'species': ['O', 'O', 'O', 'C', 'C', 'C', 'H', 'H', 'H', 'H', 'O', 'O', 'O', 'C', 'C', 'C', 'H', 'H', 'H', 'H'], 'num_atom': 20}\n",
      "\n",
      "Time needed for test evaluation:            8.064611 s\n",
      "Maximum CPU memory used:             1.345924 GB\n",
      "Maximum GPU memory used:             0.000000 GB\n",
      "----------------------------------------------------------------------\n",
      "GPR energy MAE (eV): 0.04072778942011155\n",
      "GPR force MAE (eV/Ang): 0.2917082278573249\n",
      "GPR uncertainty mean ± std: 0.0840836527257562 ± 0.013513028196352677\n",
      "\n",
      "Saving test target to [energy_test_reference.npy] and [force_test_reference.npy]\n",
      "Saving GPR prediction to [energy_test_gpr.npy], [force_test_gpr.npy], and [uncertainty_test_gpr.npy]\n",
      "\n",
      "\n",
      "\u001b[0m"
     ]
    }
   ],
   "source": [
    "! python -m aenet_gpr train.in"
   ]
  },
  {
   "cell_type": "markdown",
   "id": "2fb02d1f-c950-4398-9c38-72f9c28e41fe",
   "metadata": {},
   "source": [
    "# 2-2. Visualize the results"
   ]
  },
  {
   "cell_type": "code",
   "execution_count": 13,
   "id": "1ee4c198-7a79-4be9-b721-4f0c77bff44d",
   "metadata": {},
   "outputs": [],
   "source": [
    "energy_test_gpr = np.load(\"./energy_test_gpr.npy\")\n",
    "energy_test_reference = np.load(\"./energy_test_reference.npy\")\n",
    "force_test_gpr = np.load(\"./force_test_gpr.npy\")\n",
    "force_test_reference = np.load(\"./force_test_reference.npy\")\n",
    "uncertainty_test_gpr = np.load(\"./uncertainty_test_gpr.npy\")"
   ]
  },
  {
   "cell_type": "code",
   "execution_count": 14,
   "id": "37a5ba8f-5a73-4a70-9ec2-fc5c44ee8abc",
   "metadata": {},
   "outputs": [
    {
     "name": "stdout",
     "output_type": "stream",
     "text": [
      "-0.0037080217321999952 0.007426369465792959\n"
     ]
    }
   ],
   "source": [
    "diff_per_atom = (energy_test_reference - energy_test_gpr) / 20\n",
    "\n",
    "print(diff_per_atom.min(), diff_per_atom.max())"
   ]
  },
  {
   "cell_type": "code",
   "execution_count": 15,
   "id": "52e3b71a-80f8-404b-89f8-cbdd87e3c73e",
   "metadata": {},
   "outputs": [
    {
     "data": {
      "image/png": "[encoded data removed]",
      "text/plain": [
       "<Figure size 700x600 with 1 Axes>"
      ]
     },
     "metadata": {},
     "output_type": "display_data"
    }
   ],
   "source": [
    "fig = plt.figure(figsize=(7, 6))\n",
    "ax2 = fig.subplots()\n",
    "\n",
    "font_x = {'size': 20, 'color': 'black'}\n",
    "font_y = {'size': 20, 'color': 'black'}\n",
    "font_tick = {'size': 16, 'color': 'black'}\n",
    "\n",
    "\n",
    "# The second plot\n",
    "counts, bins = np.histogram(diff_per_atom, bins=30, range=(-0.003, 0.03))\n",
    "\n",
    "ax2.hist(bins[:-1], bins, weights=counts, facecolor='dimgray', alpha=1.0, edgecolor='black')\n",
    "\n",
    "ax2.set_xlabel(\"DFT $-$ GPR (eV/atom)\", fontdict=font_x)\n",
    "ax2.set_xlim([-0.003, 0.03])\n",
    "x_labels = [round(label, 2) for label in ax2.get_xticks()]\n",
    "ax2.set_xticks(x_labels)\n",
    "ax2.set_xlim([-0.003, 0.03])\n",
    "ax2.set_xticklabels(x_labels, fontdict=font_tick)\n",
    "\n",
    "ax2.set_ylabel(\"Number of structures\", fontdict=font_y)\n",
    "ax2.set_ylim([0, 50])\n",
    "y_labels = [int(label) for label in ax2.get_yticks()]\n",
    "ax2.set_yticks(y_labels)\n",
    "ax2.set_ylim([0, 50])\n",
    "ax2.set_yticklabels(y_labels, fontdict=font_tick)\n",
    "\n",
    "[x.set_linewidth(1.5) for x in ax2.spines.values()]\n",
    "ax2.tick_params(bottom=False, top=True, left=True, right=True)\n",
    "ax2.tick_params(labelbottom=True, labeltop=False, labelleft=True, labelright=False)\n",
    "ax2.tick_params(direction='in', length=8, width=1.5)\n",
    "\n",
    "ax2.grid(True, which='both', linestyle=':', linewidth=0.7, alpha=0.7)\n",
    "\n",
    "fig.tight_layout()\n",
    "plt.show()"
   ]
  },
  {
   "cell_type": "markdown",
   "id": "135c93bb-e528-47b0-9a57-8a4dff184882",
   "metadata": {},
   "source": [
    "# 3. Augment"
   ]
  },
  {
   "cell_type": "markdown",
   "id": "4fc65d7e-595d-4e64-a922-abe7ac22b69c",
   "metadata": {},
   "source": [
    "So, using these parameters, augment step will be executed."
   ]
  },
  {
   "cell_type": "code",
   "execution_count": 16,
   "id": "3d11504f-9873-47d2-b4e5-dec94315ea98",
   "metadata": {},
   "outputs": [],
   "source": [
    "! sed -i '3s|.*|# Test_file ./2_EC-EC/test_set_tutorial/file_*.xsf|' train.in\n",
    "! sed -i '25s|.*|Additional_write True|' train.in\n",
    "! sed -i '28s|.*|Disp_length 0.05|' train.in\n",
    "! sed -i '29s|.*|Num_copy 2|' train.in"
   ]
  },
  {
   "cell_type": "code",
   "execution_count": 17,
   "id": "0f54fd0b-caed-46bd-9c8f-7a421e38cc8b",
   "metadata": {},
   "outputs": [
    {
     "name": "stdout",
     "output_type": "stream",
     "text": [
      "# File path\n",
      "Train_file ./2_EC-EC/train_set_tutorial/file_*.xsf\n",
      "# Test_file ./2_EC-EC/test_set_tutorial/file_*.xsf\n",
      "\n",
      "# Train model save (default: False)\n",
      "# Train_model_save True\n",
      "\n",
      "# File format (default: xsf)\n",
      "File_format xsf\n",
      "\n",
      "# Descriptor (default: cartesian coordinates)\n",
      "Descriptor cart\n",
      "\n",
      "# Kernel parameter\n",
      "# scale 1.5\n",
      "# weight 1.0\n",
      "\n",
      "# Data process (default: batch, 25)\n",
      "data_process batch\n",
      "batch_size 25\n",
      "\n",
      "# Flags for xsf file writing (default: False)\n",
      "Train_write False\n",
      "Test_write False\n",
      "Additional_write True\n",
      "\n",
      "# Data augmentation parameter\n",
      "Disp_length 0.05\n",
      "Num_copy 2\n"
     ]
    }
   ],
   "source": [
    "! cat train.in"
   ]
  },
  {
   "cell_type": "code",
   "execution_count": 18,
   "id": "54ca7ab0-7e78-4755-b316-1bd54c9faf4d",
   "metadata": {},
   "outputs": [
    {
     "name": "stdout",
     "output_type": "stream",
     "text": [
      "======================================================================\n",
      "aenet-GPR: surrogate GPR for GPR-ANN indirect force training\n",
      "======================================================================\n",
      "\n",
      "2025-07-22 16:21:23.\n",
      "\n",
      "Developed by In Won Yeu\n",
      "\n",
      "This program performs three main steps:\n",
      "1. Train: Generates a GPR model using the provided structure, energy, and force data.\n",
      "2. Test: Uses the generated GPR model to predict values for the test set structures.\n",
      "3. Augmentation: Performs data augmentation in xsf file format, compatible with aenet-(PyTorch),\n",
      "supporting a GPR-ANN training in conjunction with aenet-(PyTorch).\n",
      "\n",
      "Each of these steps is executed once the input file (train.in) contains the keywords:\n",
      "Train_file [train file path]\n",
      "Test_file [test file path]\n",
      "Additional_write [True]\n",
      "\n",
      "\n",
      "======================================================================\n",
      "Train\n",
      "======================================================================\n",
      "\n",
      "Read reference training data\n",
      "\n",
      "Time needed for reading data:            0.055543 s\n",
      "Maximum CPU memory used:             0.534725 GB\n",
      "Maximum GPU memory used:             0.000000 GB\n",
      "Energy data size: (80,)  # (N_data, )\n",
      "Force data size: (80, 20, 3)  # (N_data, N_atom, 3)\n",
      "----------------------------------------------------------------------\n",
      "----------------------------------------------------------------------\n",
      "Model train\n",
      "\n",
      "Training parameters\n",
      "{'num_data': 80, 'calculator': {'kerneltype': 'sqexp', 'scale': tensor(0.4000, dtype=torch.float64), 'weight': tensor(2.6570, dtype=torch.float64), 'noise': tensor(1.0000e-06, dtype=torch.float64), 'noisefactor': tensor(0.5000, dtype=torch.float64), 'prior': tensor(19.9463, dtype=torch.float64)}, 'fix_ind': None, 'pbc': False, 'species': ['O', 'O', 'O', 'C', 'C', 'C', 'H', 'H', 'H', 'H', 'O', 'O', 'O', 'C', 'C', 'C', 'H', 'H', 'H', 'H'], 'num_atom': 20}\n",
      "\n",
      "Time needed for training:            2.483623 s\n",
      "Maximum CPU memory used:             1.025707 GB\n",
      "Maximum GPU memory used:             0.000000 GB\n",
      "----------------------------------------------------------------------\n",
      "======================================================================\n",
      "Augmentation\n",
      "======================================================================\n",
      "----------------------------------------------------------------------\n",
      "Additional structure generation\n",
      "\n",
      "Time needed for additional generation:            0.083229 s\n",
      "Maximum CPU memory used:             1.025707 GB\n",
      "Maximum GPU memory used:             0.000000 GB\n",
      "Displacement length (Ang): 0.05\n",
      "Multiple: 2\n",
      "N_additional = N_reference (80) * Multiple (2) = 160\n",
      "----------------------------------------------------------------------\n",
      "----------------------------------------------------------------------\n",
      "Model evaluation for additional set\n",
      "\n",
      "Test parameters\n",
      "{'num_data': 160, 'calculator': {'kerneltype': 'sqexp', 'scale': tensor(0.4000, dtype=torch.float64), 'weight': tensor(2.6570, dtype=torch.float64), 'noise': tensor(1.0000e-06, dtype=torch.float64), 'noisefactor': tensor(0.5000, dtype=torch.float64), 'prior': tensor(19.9463, dtype=torch.float64)}, 'fix_ind': None, 'pbc': False, 'species': ['O', 'O', 'O', 'C', 'C', 'C', 'H', 'H', 'H', 'H', 'O', 'O', 'O', 'C', 'C', 'C', 'H', 'H', 'H', 'H'], 'num_atom': 20}\n",
      "\n",
      "Time needed for additional evaluation:            7.247770 s\n",
      "Maximum CPU memory used:             1.368866 GB\n",
      "Maximum GPU memory used:             0.000000 GB\n",
      "----------------------------------------------------------------------\n",
      "\n",
      "Saving GPR prediction to [energy_additional_gpr.npy], [force_additional_gpr.npy], and [uncertainty_additional_gpr.npy]\n",
      "======================================================================\n",
      "Writing additional xsf files to additional_xsf\n",
      "\n",
      "Time needed for writing xsf files:            2.958070 s\n",
      "Maximum CPU memory used:             1.368866 GB\n",
      "Maximum GPU memory used:             0.000000 GB\n",
      "======================================================================\n",
      "\u001b[0m"
     ]
    }
   ],
   "source": [
    "! rm -rf additional_xsf/\n",
    "! python -m aenet_gpr train.in"
   ]
  },
  {
   "cell_type": "markdown",
   "id": "05a6aa76-121e-4400-bee1-db4b336403b5",
   "metadata": {},
   "source": [
    "Now, 160 new data have been augmented"
   ]
  },
  {
   "cell_type": "code",
   "execution_count": 19,
   "id": "f387f337-01ba-43c7-8a07-77ee732d6f06",
   "metadata": {},
   "outputs": [
    {
     "name": "stdout",
     "output_type": "stream",
     "text": [
      "file_00000.xsf\tfile_00032.xsf\tfile_00064.xsf\tfile_00096.xsf\tfile_00128.xsf\n",
      "file_00001.xsf\tfile_00033.xsf\tfile_00065.xsf\tfile_00097.xsf\tfile_00129.xsf\n",
      "file_00002.xsf\tfile_00034.xsf\tfile_00066.xsf\tfile_00098.xsf\tfile_00130.xsf\n",
      "file_00003.xsf\tfile_00035.xsf\tfile_00067.xsf\tfile_00099.xsf\tfile_00131.xsf\n",
      "file_00004.xsf\tfile_00036.xsf\tfile_00068.xsf\tfile_00100.xsf\tfile_00132.xsf\n",
      "file_00005.xsf\tfile_00037.xsf\tfile_00069.xsf\tfile_00101.xsf\tfile_00133.xsf\n",
      "file_00006.xsf\tfile_00038.xsf\tfile_00070.xsf\tfile_00102.xsf\tfile_00134.xsf\n",
      "file_00007.xsf\tfile_00039.xsf\tfile_00071.xsf\tfile_00103.xsf\tfile_00135.xsf\n",
      "file_00008.xsf\tfile_00040.xsf\tfile_00072.xsf\tfile_00104.xsf\tfile_00136.xsf\n",
      "file_00009.xsf\tfile_00041.xsf\tfile_00073.xsf\tfile_00105.xsf\tfile_00137.xsf\n",
      "file_00010.xsf\tfile_00042.xsf\tfile_00074.xsf\tfile_00106.xsf\tfile_00138.xsf\n",
      "file_00011.xsf\tfile_00043.xsf\tfile_00075.xsf\tfile_00107.xsf\tfile_00139.xsf\n",
      "file_00012.xsf\tfile_00044.xsf\tfile_00076.xsf\tfile_00108.xsf\tfile_00140.xsf\n",
      "file_00013.xsf\tfile_00045.xsf\tfile_00077.xsf\tfile_00109.xsf\tfile_00141.xsf\n",
      "file_00014.xsf\tfile_00046.xsf\tfile_00078.xsf\tfile_00110.xsf\tfile_00142.xsf\n",
      "file_00015.xsf\tfile_00047.xsf\tfile_00079.xsf\tfile_00111.xsf\tfile_00143.xsf\n",
      "file_00016.xsf\tfile_00048.xsf\tfile_00080.xsf\tfile_00112.xsf\tfile_00144.xsf\n",
      "file_00017.xsf\tfile_00049.xsf\tfile_00081.xsf\tfile_00113.xsf\tfile_00145.xsf\n",
      "file_00018.xsf\tfile_00050.xsf\tfile_00082.xsf\tfile_00114.xsf\tfile_00146.xsf\n",
      "file_00019.xsf\tfile_00051.xsf\tfile_00083.xsf\tfile_00115.xsf\tfile_00147.xsf\n",
      "file_00020.xsf\tfile_00052.xsf\tfile_00084.xsf\tfile_00116.xsf\tfile_00148.xsf\n",
      "file_00021.xsf\tfile_00053.xsf\tfile_00085.xsf\tfile_00117.xsf\tfile_00149.xsf\n",
      "file_00022.xsf\tfile_00054.xsf\tfile_00086.xsf\tfile_00118.xsf\tfile_00150.xsf\n",
      "file_00023.xsf\tfile_00055.xsf\tfile_00087.xsf\tfile_00119.xsf\tfile_00151.xsf\n",
      "file_00024.xsf\tfile_00056.xsf\tfile_00088.xsf\tfile_00120.xsf\tfile_00152.xsf\n",
      "file_00025.xsf\tfile_00057.xsf\tfile_00089.xsf\tfile_00121.xsf\tfile_00153.xsf\n",
      "file_00026.xsf\tfile_00058.xsf\tfile_00090.xsf\tfile_00122.xsf\tfile_00154.xsf\n",
      "file_00027.xsf\tfile_00059.xsf\tfile_00091.xsf\tfile_00123.xsf\tfile_00155.xsf\n",
      "file_00028.xsf\tfile_00060.xsf\tfile_00092.xsf\tfile_00124.xsf\tfile_00156.xsf\n",
      "file_00029.xsf\tfile_00061.xsf\tfile_00093.xsf\tfile_00125.xsf\tfile_00157.xsf\n",
      "file_00030.xsf\tfile_00062.xsf\tfile_00094.xsf\tfile_00126.xsf\tfile_00158.xsf\n",
      "file_00031.xsf\tfile_00063.xsf\tfile_00095.xsf\tfile_00127.xsf\tfile_00159.xsf\n"
     ]
    }
   ],
   "source": [
    "! cd ./additional_xsf/ && ls"
   ]
  },
  {
   "cell_type": "markdown",
   "id": "cfeeb430-3e29-47e0-9030-a00062a14e31",
   "metadata": {},
   "source": [
    "Their structures are perturbed from reference training data and their energy tags are given from the GPR predictions"
   ]
  },
  {
   "cell_type": "code",
   "execution_count": 20,
   "id": "9993a1c8-b75a-458e-8dd4-bf1f7b0e80b6",
   "metadata": {},
   "outputs": [
    {
     "name": "stdout",
     "output_type": "stream",
     "text": [
      "# total energy = -18639.6207131565970485 eV\n",
      "\n",
      "ATOMS\n",
      "O     9.95448596585847     6.55495727641527     12.19588673114963     0.12463807057359     -1.92067930645839     -0.15252924246943\n",
      "O     8.47218172756020     5.30542214626729     13.48095206703144     1.23816599581317     1.11533466991850     -1.44171416335908\n",
      "O     9.89651600143605     4.19074836211988     12.30108050594718     2.29032928562171     -2.32378063437019     -1.87697307028477\n",
      "C     9.29388505750265     7.51322339157948     12.95569886082324     -0.72600521399251     -2.17069904529716     3.12690329320544\n",
      "C     7.93140234026826     6.74002357099177     13.50135546934562     6.16402340758832     -1.82166194154467     3.83875157064578\n",
      "C     9.55523305026681     5.18157352999577     12.53151399404618     -3.31566433558078     4.85669108230387     3.45358390277072\n",
      "H     8.93001082772253     8.23337103559801     12.42632189036199     -0.44603188033943     1.89427685484372     -1.44340581272325\n",
      "H     9.93905716714216     7.82897210568822     13.89583718652600     -1.09170740775712     -0.12413814989419     -1.06938343745887\n",
      "H     7.84617380979855     6.80589746224802     14.66011418577908     -0.32575233806611     0.03816888868837     -1.45284602205599\n",
      "H     7.19250923969949     6.73708688462144     13.01957945768966     -4.09256801732849     0.38092967520759     -2.89026224752286\n",
      "O     4.92973889641833     2.44235365035986     13.43199816755625     -0.29690452414509     -0.77298681214183     0.03544383207578\n",
      "O     3.20800173818631     2.91905433206632     12.17854858265333     -0.30996690815667     -0.94803152698591     -0.49664183313856\n",
      "O     3.98423943401366     0.78615821753721     12.15932965096695     -0.39286854326292     -2.22220752429568     -0.76517759846059\n",
      "C     4.74728403599841     3.84821165845470     13.67445955989498     0.01916612327333     -0.34358057103124     -4.40979836889837\n",
      "C     3.29290826648334     4.09976027629016     12.96350073761879     2.89588282952213     -0.28850901430361     -0.73164693783804\n",
      "C     4.03489885036088     1.84878528362709     12.49062756680402     0.30522392002161     4.61862163555502     2.18712625316808\n",
      "H     5.51405924051841     4.39784678374580     12.92222430010319     -0.96246492838962     -1.05857018821608     1.58904895767786\n",
      "H     4.91077413727465     4.17245210112869     14.63204545157062     0.04912517746486     -0.05922263338131     1.73221382360691\n",
      "H     2.54994229119644     4.12311499134630     13.65014941665213     -1.57186507167100     0.12644007750086     0.92128812671976\n",
      "H     3.23935106229439     5.00333315991871     12.29367317747974     0.18001369907360     -0.62510062197685     -0.22572172205583\n"
     ]
    }
   ],
   "source": [
    "! cd ./additional_xsf/ && cat file_00015.xsf"
   ]
  },
  {
   "cell_type": "code",
   "execution_count": 21,
   "id": "b0217aee-9888-4f21-b185-1c8a2a27e7ac",
   "metadata": {},
   "outputs": [
    {
     "name": "stdout",
     "output_type": "stream",
     "text": [
      "# total energy = -18640.3713058420871675 eV\n",
      "\n",
      "ATOMS\n",
      "O     10.06357722223165     6.46387525271136     12.22903912205301     -1.91794411712448     -1.10182440338701     1.09410252243969\n",
      "O     8.43893938447207     5.23830030545507     13.44610357148870     0.46211939654736     1.88077484601933     -1.72906136878311\n",
      "O     9.96388359605944     4.14466108110476     12.26924112569118     0.36398506070127     0.30607086658729     -0.36307992956430\n",
      "C     9.19368986216419     7.45143090141705     13.01755112697090     3.65714392244553     -1.80065047787108     -0.05812641848235\n",
      "C     8.14070790409102     6.73600758842116     13.47825877302836     -1.66493845684596     -2.20695069376856     5.18991893709532\n",
      "C     9.49392186598688     5.15943475336320     12.55837559339108     0.51331107910703     1.40591368012985     1.25830975284648\n",
      "H     8.96155477591707     8.18468676962948     12.44555510771865     -1.43968163424972     2.17855404103779     -1.44131675360194\n",
      "H     9.91970812354917     7.77075121781331     13.77114670645607     0.04349421827543     0.13864116520234     0.28622842573107\n",
      "H     7.80138000919971     6.85831371706822     14.67137365243598     1.38133264460601     -0.11976552450055     -3.46179998917408\n",
      "H     7.21512749744511     6.89336779645639     13.04555523176886     -1.31241753279000     -0.59412713737667     -0.76324411218411\n",
      "O     4.80459866886777     2.47471964046534     13.41316697813348     2.60856528198821     -0.24190925862713     2.39425255595876\n",
      "O     3.23230060454356     3.06246550148748     12.14998121082439     -0.36735106478466     -1.58297652339569     -0.88401663174149\n",
      "O     3.96505522703401     0.89753074657787     12.13769549714454     -0.00563006223586     1.78457899144468     0.53704395974083\n",
      "C     4.82168885119200     3.80069532961494     13.58165526974427     -2.67751324076032     0.60096717159867     -2.26759952747898\n",
      "C     3.38018153701947     4.04010609122273     12.96610366602805     -0.33628296667288     1.98178012895089     1.44440675292011\n",
      "C     4.03362305256202     2.05058448674261     12.58264854447121     -2.07802132171293     -2.84393166217349     -3.13847742286758\n",
      "H     5.55200890115884     4.36224535968731     12.93458714042976     0.19392373813366     -0.41256245075490     0.56700748033151\n",
      "H     4.79828434733715     4.07981424340967     14.53017137873649     0.69871885295752     0.35018286434580     2.00889381016466\n",
      "H     2.47307789241184     4.08519410565413     13.69298768998871     1.12863784381599     0.15058142253212     -0.19252957758908\n",
      "H     3.30571642675704     4.98043977169792     12.37405544349629     0.21733243451177     -0.20478988152608     0.10069757502206\n"
     ]
    }
   ],
   "source": [
    "! cd ./additional_xsf/ && cat file_00016.xsf"
   ]
  },
  {
   "cell_type": "code",
   "execution_count": null,
   "id": "8a64dafc-55c2-40d4-a9fa-2594c256dd71",
   "metadata": {},
   "outputs": [],
   "source": []
  },
  {
   "cell_type": "code",
   "execution_count": null,
   "id": "e25fa465-b406-4abf-a73f-4c6ce9820dec",
   "metadata": {},
   "outputs": [],
   "source": []
  }
 ],
 "metadata": {
  "kernelspec": {
   "display_name": "Python 3",
   "language": "python",
   "name": "python3"
  },
  "language_info": {
   "codemirror_mode": {
    "name": "ipython",
    "version": 3
   },
   "file_extension": ".py",
   "mimetype": "text/x-python",
   "name": "python",
   "nbconvert_exporter": "python",
   "pygments_lexer": "ipython3",
   "version": "3.12.2"
  }
 },
 "nbformat": 4,
 "nbformat_minor": 5
}
