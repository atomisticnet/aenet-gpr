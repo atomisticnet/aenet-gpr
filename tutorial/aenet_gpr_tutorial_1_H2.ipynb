{
 "cells": [
  {
   "cell_type": "code",
   "execution_count": null,
   "id": "8d96e3d3-c936-471d-b313-33c36d0e742c",
   "metadata": {
    "tags": []
   },
   "outputs": [],
   "source": [
    "try:\n",
    "    import ase\n",
    "    print(\"successfully imported ase\")\n",
    "except ImportError:\n",
    "    !! pip install ase --user --upgrade\n",
    "    print(\"completed installing ASE\")"
   ]
  },
  {
   "cell_type": "code",
   "execution_count": null,
   "id": "78af600e-1c02-4e34-bd05-0128b0588c1c",
   "metadata": {},
   "outputs": [],
   "source": [
    "try:\n",
    "    import torch\n",
    "    print(\"successfully imported torch\")\n",
    "except ImportError:\n",
    "    !! pip install torch --user --upgrade\n",
    "    print(\"completed installing torch\")"
   ]
  },
  {
   "cell_type": "code",
   "execution_count": null,
   "id": "1199d147-8447-40a5-8fa4-a644a38132f4",
   "metadata": {},
   "outputs": [],
   "source": [
    "try:\n",
    "    import dscribe\n",
    "    print(\"successfully imported dscribe\")\n",
    "except ImportError:\n",
    "    !! pip install dscribe --user --upgrade\n",
    "    print(\"completed installing dscribe\")"
   ]
  },
  {
   "cell_type": "code",
   "execution_count": null,
   "id": "c42615d0-12e1-4e3c-afa8-d31cf68e660a",
   "metadata": {},
   "outputs": [],
   "source": [
    "try:\n",
    "    import numpy as np\n",
    "    print(\"successfully imported numpy\")\n",
    "except ImportError:\n",
    "    !! pip install numpy --user --upgrade\n",
    "    print(\"completed installing numpy\")"
   ]
  },
  {
   "cell_type": "code",
   "execution_count": null,
   "id": "11e45431-8717-40ed-ba5a-348bdfe73539",
   "metadata": {},
   "outputs": [],
   "source": [
    "try:\n",
    "    import aenet_gpr\n",
    "    print(\"successfully imported aenet-gpr\")\n",
    "except ImportError:\n",
    "    !! pip install aenet-gpr --user --upgrade\n",
    "    print(\"completed installing aenet-gpr\")"
   ]
  },
  {
   "cell_type": "markdown",
   "id": "f9cfd82b-8f6c-48ec-9c57-54ea593bb81b",
   "metadata": {},
   "source": [
    "# 1. Prepare training/test data"
   ]
  },
  {
   "cell_type": "code",
   "execution_count": null,
   "id": "d50bab63-a944-4fa9-b202-3deb00dcf64b",
   "metadata": {},
   "outputs": [],
   "source": [
    "! unzip -q ../example/1_H2/train_set.zip -d ./1_H2/"
   ]
  },
  {
   "cell_type": "code",
   "execution_count": null,
   "id": "21ba107a-9e4c-44cd-82e4-d9d5cf97477b",
   "metadata": {},
   "outputs": [],
   "source": [
    "! unzip -q ../example/1_H2/test_set.zip -d ./1_H2/"
   ]
  },
  {
   "cell_type": "markdown",
   "id": "fe4c1b49-fe17-4cd7-977f-d0adda2695aa",
   "metadata": {},
   "source": [
    "# 2. Train–Test execute"
   ]
  },
  {
   "cell_type": "code",
   "execution_count": null,
   "id": "c2cfe62e-dfd2-4b54-83c1-a6e50bc247d3",
   "metadata": {},
   "outputs": [],
   "source": [
    "! cat ./1_H2/train.in"
   ]
  },
  {
   "cell_type": "code",
   "execution_count": null,
   "id": "118f1319-3dd3-482f-81ee-b0f80918bdf3",
   "metadata": {
    "tags": []
   },
   "outputs": [],
   "source": [
    "! python -m aenet_gpr ./1_H2/train.in > ./1_H2/train.out"
   ]
  },
  {
   "cell_type": "code",
   "execution_count": null,
   "id": "143b35d8-58b1-405f-a96d-549fd40b5e1c",
   "metadata": {},
   "outputs": [],
   "source": []
  }
 ],
 "metadata": {
  "kernelspec": {
   "display_name": "Python 3",
   "language": "python",
   "name": "python3"
  },
  "language_info": {
   "codemirror_mode": {
    "name": "ipython",
    "version": 3
   },
   "file_extension": ".py",
   "mimetype": "text/x-python",
   "name": "python",
   "nbconvert_exporter": "python",
   "pygments_lexer": "ipython3",
   "version": "3.12.7"
  }
 },
 "nbformat": 4,
 "nbformat_minor": 5
}
