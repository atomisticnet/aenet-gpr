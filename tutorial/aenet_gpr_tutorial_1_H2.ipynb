{
 "cells": [
  {
   "cell_type": "code",
   "execution_count": 1,
   "id": "8d96e3d3-c936-471d-b313-33c36d0e742c",
   "metadata": {
    "tags": []
   },
   "outputs": [
    {
     "name": "stdout",
     "output_type": "stream",
     "text": [
      "successfully imported torch\n",
      "2.6.0+cu124\n"
     ]
    }
   ],
   "source": [
    "try:\n",
    "    import torch\n",
    "    print(\"successfully imported torch\")\n",
    "    print(torch.__version__)\n",
    "except ImportError:\n",
    "    !! pip install torch torchvision torchaudio --user --index-url https://download.pytorch.org/whl/cpu\n",
    "    print(\"completed installing torch\")"
   ]
  },
  {
   "cell_type": "code",
   "execution_count": 2,
   "id": "24576efb-e7c6-4f1f-83f1-59a0df776778",
   "metadata": {},
   "outputs": [
    {
     "name": "stdout",
     "output_type": "stream",
     "text": [
      "successfully imported numpy\n",
      "1.26.4\n"
     ]
    }
   ],
   "source": [
    "try:\n",
    "    import numpy as np\n",
    "    print(\"successfully imported numpy\")\n",
    "    print(np.__version__)\n",
    "except ImportError:\n",
    "    !! pip install numpy --user --upgrade\n",
    "    print(\"completed installing numpy\")"
   ]
  },
  {
   "cell_type": "code",
   "execution_count": 3,
   "id": "78af600e-1c02-4e34-bd05-0128b0588c1c",
   "metadata": {},
   "outputs": [
    {
     "name": "stdout",
     "output_type": "stream",
     "text": [
      "successfully imported matplotlib\n"
     ]
    }
   ],
   "source": [
    "try:\n",
    "    from matplotlib import pyplot as plt\n",
    "    print(\"successfully imported matplotlib\")\n",
    "except ImportError:\n",
    "    !! pip install matplotlib --user --upgrade\n",
    "    print(\"completed installing matplotlib\")"
   ]
  },
  {
   "cell_type": "code",
   "execution_count": 4,
   "id": "11e45431-8717-40ed-ba5a-348bdfe73539",
   "metadata": {},
   "outputs": [
    {
     "name": "stdout",
     "output_type": "stream",
     "text": [
      "completed installing aenet-gpr\n",
      "Name: aenet-gpr\n",
      "Version: 1.2.9\n",
      "Summary: Atomistic simulation tools based on Gaussian Processes Regression\n",
      "Home-page: https://github.com/atomisticnet/aenet-gpr\n",
      "Author: In Won Yeu\n",
      "Author-email: iy2185@columbia.edu\n",
      "License: MPL-2.0\n",
      "Location: /data/home/iy2185/.local/lib/python3.12/site-packages\n",
      "Requires: ase, dscribe\n",
      "Required-by: \n"
     ]
    }
   ],
   "source": [
    "!! pip install aenet-gpr --user --upgrade\n",
    "print(\"completed installing aenet-gpr\")\n",
    "\n",
    "! pip show aenet-gpr"
   ]
  },
  {
   "cell_type": "code",
   "execution_count": 5,
   "id": "74c16f0f-854b-41df-b875-4fc242a816fd",
   "metadata": {},
   "outputs": [
    {
     "name": "stdout",
     "output_type": "stream",
     "text": [
      "1.2.9\n"
     ]
    }
   ],
   "source": [
    "import os, sys, site\n",
    "sys.path.append(site.USER_SITE)\n",
    "\n",
    "import aenet_gpr\n",
    "print(aenet_gpr.__version__)"
   ]
  },
  {
   "cell_type": "code",
   "execution_count": 6,
   "id": "452ebba8-4310-41d1-b1b7-b8115959a768",
   "metadata": {},
   "outputs": [
    {
     "name": "stdout",
     "output_type": "stream",
     "text": [
      "successfully imported ase\n"
     ]
    }
   ],
   "source": [
    "from IPython.display import Image\n",
    "\n",
    "try:\n",
    "    import ase.io\n",
    "    print(\"successfully imported ase\")\n",
    "except ImportError:\n",
    "    !! pip install ase --user --upgrade\n",
    "    print(\"completed installing ASE\")\n",
    "    \n",
    "    import ase.io\n",
    "    print(\"successfully imported ase\")"
   ]
  },
  {
   "cell_type": "markdown",
   "id": "f9cfd82b-8f6c-48ec-9c57-54ea593bb81b",
   "metadata": {},
   "source": [
    "# 1. Prepare training/test data"
   ]
  },
  {
   "cell_type": "markdown",
   "id": "dde6a899-41e4-4901-a30d-b0eb8d28659d",
   "metadata": {},
   "source": [
    "We are using train/test data of H-H Lennard-Jones potential prepared in `aenet-gpr/example/1_H2/`"
   ]
  },
  {
   "cell_type": "code",
   "execution_count": 7,
   "id": "d50bab63-a944-4fa9-b202-3deb00dcf64b",
   "metadata": {},
   "outputs": [
    {
     "name": "stdout",
     "output_type": "stream",
     "text": [
      "--2025-05-25 21:39:29--  https://github.com/atomisticnet/aenet-gpr/raw/refs/heads/main/example/1_H2/train_set.zip\n",
      "Resolving github.com (github.com)... 140.82.113.3\n",
      "Connecting to github.com (github.com)|140.82.113.3|:443... connected.\n",
      "HTTP request sent, awaiting response... 302 Found\n",
      "Location: https://raw.githubusercontent.com/atomisticnet/aenet-gpr/refs/heads/main/example/1_H2/train_set.zip [following]\n",
      "--2025-05-25 21:39:30--  https://raw.githubusercontent.com/atomisticnet/aenet-gpr/refs/heads/main/example/1_H2/train_set.zip\n",
      "Resolving raw.githubusercontent.com (raw.githubusercontent.com)... 185.199.109.133, 185.199.108.133, 185.199.111.133, ...\n",
      "Connecting to raw.githubusercontent.com (raw.githubusercontent.com)|185.199.109.133|:443... connected.\n",
      "HTTP request sent, awaiting response... 200 OK\n",
      "Length: 4676 (4.6K) [application/zip]\n",
      "Saving to: ‘train_set.zip’\n",
      "\n",
      "train_set.zip       100%[===================>]   4.57K  --.-KB/s    in 0s      \n",
      "\n",
      "2025-05-25 21:39:30 (15.7 MB/s) - ‘train_set.zip’ saved [4676/4676]\n",
      "\n",
      "number of train data:\n",
      "7\n"
     ]
    }
   ],
   "source": [
    "import os.path\n",
    "\n",
    "! rm -rf 1_H2\n",
    "! mkdir 1_H2\n",
    "    \n",
    "if os.path.isfile(\"../example/1_H2/train_set.zip\"):\n",
    "    ! unzip -oq ../example/1_H2/train_set.zip -d ./1_H2/\n",
    "    print(\"number of train data:\")\n",
    "    ! find ./1_H2/train_set/ -type f | wc -l\n",
    "else:\n",
    "    ! wget https://github.com/atomisticnet/aenet-gpr/raw/refs/heads/main/example/1_H2/train_set.zip\n",
    "    ! unzip -oq train_set.zip -d ./1_H2/\n",
    "    ! rm train_set.zip\n",
    "    print(\"number of train data:\")\n",
    "    ! find ./1_H2/train_set/ -type f | wc -l"
   ]
  },
  {
   "cell_type": "code",
   "execution_count": 8,
   "id": "21ba107a-9e4c-44cd-82e4-d9d5cf97477b",
   "metadata": {},
   "outputs": [
    {
     "name": "stdout",
     "output_type": "stream",
     "text": [
      "--2025-05-25 21:39:30--  https://github.com/atomisticnet/aenet-gpr/raw/refs/heads/main/example/1_H2/test_set.zip\n",
      "Resolving github.com (github.com)... 140.82.113.3\n",
      "Connecting to github.com (github.com)|140.82.113.3|:443... connected.\n",
      "HTTP request sent, awaiting response... 302 Found\n",
      "Location: https://raw.githubusercontent.com/atomisticnet/aenet-gpr/refs/heads/main/example/1_H2/test_set.zip [following]\n",
      "--2025-05-25 21:39:30--  https://raw.githubusercontent.com/atomisticnet/aenet-gpr/refs/heads/main/example/1_H2/test_set.zip\n",
      "Resolving raw.githubusercontent.com (raw.githubusercontent.com)... 185.199.109.133, 185.199.108.133, 185.199.111.133, ...\n",
      "Connecting to raw.githubusercontent.com (raw.githubusercontent.com)|185.199.109.133|:443... connected.\n",
      "HTTP request sent, awaiting response... 200 OK\n",
      "Length: 122489 (120K) [application/zip]\n",
      "Saving to: ‘test_set.zip’\n",
      "\n",
      "test_set.zip        100%[===================>] 119.62K  --.-KB/s    in 0.003s  \n",
      "\n",
      "2025-05-25 21:39:30 (40.3 MB/s) - ‘test_set.zip’ saved [122489/122489]\n",
      "\n",
      "number of test data:\n",
      "200\n"
     ]
    }
   ],
   "source": [
    "if os.path.isfile(\"../example/1_H2/test_set.zip\"):\n",
    "    ! unzip -oq ../example/1_H2/test_set.zip -d ./1_H2/\n",
    "    print(\"number of test data:\")\n",
    "    ! find ./1_H2/test_set/ -type f | wc -l\n",
    "else:\n",
    "    ! wget https://github.com/atomisticnet/aenet-gpr/raw/refs/heads/main/example/1_H2/test_set.zip\n",
    "    ! unzip -oq test_set.zip -d ./1_H2/\n",
    "    ! rm test_set.zip\n",
    "    print(\"number of test data:\")\n",
    "    ! find ./1_H2/test_set/ -type f | wc -l"
   ]
  },
  {
   "cell_type": "code",
   "execution_count": 9,
   "id": "f4de373a-4049-4c72-b037-93cc5115280a",
   "metadata": {},
   "outputs": [
    {
     "data": {
      "image/png": "[encoded data removed]",
      "text/plain": [
       "<IPython.core.display.Image object>"
      ]
     },
     "execution_count": 9,
     "metadata": {},
     "output_type": "execute_result"
    }
   ],
   "source": [
    "atoms = ase.io.read(\"./1_H2/test_set/file_0000.xsf\")\n",
    "ase.io.write('H2.png', atoms)\n",
    "Image(\"H2.png\")"
   ]
  },
  {
   "cell_type": "markdown",
   "id": "fe4c1b49-fe17-4cd7-977f-d0adda2695aa",
   "metadata": {},
   "source": [
    "# 2. Train–Test"
   ]
  },
  {
   "cell_type": "markdown",
   "id": "107edf7d-0902-40b6-9802-e97cc922dc71",
   "metadata": {},
   "source": [
    "In addition to the reference data files, following configuration file `train.in` is all you need to run aenet-gpr. \n",
    "\n",
    "Most of the contents are set to default parameters, which can also be deleted."
   ]
  },
  {
   "cell_type": "code",
   "execution_count": null,
   "id": "bfd8ca60-28d2-4227-bc9a-98aa400e22fe",
   "metadata": {},
   "outputs": [],
   "source": [
    "! rm -f train.in\n",
    "\n",
    "if os.path.isfile(\"../example/1_H2/train.in\"):\n",
    "    ! cp ../example/1_H2/train.in .\n",
    "else:\n",
    "    ! wget https://github.com/atomisticnet/aenet-gpr/raw/refs/heads/main/example/1_H2/train.in"
   ]
  },
  {
   "cell_type": "code",
   "execution_count": null,
   "id": "c2cfe62e-dfd2-4b54-83c1-a6e50bc247d3",
   "metadata": {},
   "outputs": [],
   "source": [
    "! cat train.in"
   ]
  },
  {
   "cell_type": "code",
   "execution_count": null,
   "id": "118f1319-3dd3-482f-81ee-b0f80918bdf3",
   "metadata": {
    "tags": []
   },
   "outputs": [],
   "source": [
    "! python -m aenet_gpr train.in"
   ]
  },
  {
   "cell_type": "markdown",
   "id": "d85ea460-e4af-41e8-bc72-8cc1057eb18e",
   "metadata": {},
   "source": [
    "# 3. Visualize the results"
   ]
  },
  {
   "cell_type": "code",
   "execution_count": null,
   "id": "272120fd-27bd-4ef4-aaaf-9be8a564b15c",
   "metadata": {},
   "outputs": [],
   "source": [
    "energy_test_gpr = np.load(\"./energy_test_gpr.npy\")\n",
    "energy_test_reference = np.load(\"./energy_test_reference.npy\")\n",
    "force_test_gpr = np.load(\"./force_test_gpr.npy\")\n",
    "force_test_reference = np.load(\"./force_test_reference.npy\")\n",
    "uncertainty_test_gpr = np.load(\"./uncertainty_test_gpr.npy\")"
   ]
  },
  {
   "cell_type": "code",
   "execution_count": null,
   "id": "9bb809f4-5a20-4b08-92fb-0f37506ebf99",
   "metadata": {},
   "outputs": [],
   "source": [
    "n_test = 200\n",
    "d_test = np.linspace(0.95, 2.05, n_test)  # H-H bond distance\n",
    "\n",
    "n_train = 7\n",
    "d_train = np.linspace(1.0, 2.0, n_train)  # H-H bond distance"
   ]
  },
  {
   "cell_type": "code",
   "execution_count": null,
   "id": "e1a407e2-cea7-4c85-97ce-c0d72785d9e9",
   "metadata": {},
   "outputs": [],
   "source": [
    "fig = plt.figure(figsize=(3.5, 4.5))\n",
    "ax2, ax3 = fig.subplots(2, 1, height_ratios=[1, 1.5], sharex=False, sharey=False)\n",
    "\n",
    "font_x = {'size': 16, 'color': 'black'}\n",
    "font_y = {'size': 16, 'color': 'black'}\n",
    "font_tick = {'size': 12, 'color': 'black'}\n",
    "\n",
    "\n",
    "# The second plot\n",
    "ax2.fill_between(d_test, np.subtract(energy_test_gpr, energy_test_reference), 0, color='crimson', alpha=0.5, edgecolor='black')\n",
    "ax2.vlines(d_train, ymin=-100, ymax=100, color='black', linestyle='--', linewidth=1)\n",
    "\n",
    "ax2.set_xlim([0.95, 2.05])\n",
    "x_labels = [round(label, 2) for label in ax2.get_xticks()]\n",
    "ax2.set_xticks(x_labels)\n",
    "ax2.set_xlim([0.95, 2.05])\n",
    "ax2.set_xticklabels(x_labels, fontdict=font_tick)\n",
    "\n",
    "ax2.set_ylabel(\"Error (eV)\", fontdict=font_y)\n",
    "ax2.set_ylim([-0.05, 0.05])\n",
    "y_labels = [round(label, 2) for label in ax2.get_yticks()]\n",
    "y_labels = [-0.04, -0.02, 0.0, 0.02, 0.04]\n",
    "ax2.set_yticks(y_labels)\n",
    "ax2.set_ylim([-0.05, 0.05])\n",
    "ax2.set_yticklabels(y_labels, fontdict=font_tick)\n",
    "\n",
    "[x.set_linewidth(1.5) for x in ax2.spines.values()]\n",
    "ax2.tick_params(bottom=True, top=True, left=True, right=True)\n",
    "ax2.tick_params(labelbottom=False, labeltop=False, labelleft=True, labelright=False)\n",
    "ax2.tick_params(direction='in', length=8, width=1.5)\n",
    "\n",
    "\n",
    "# The third plot\n",
    "ax3.plot(d_test, energy_test_reference, '-', label='Target', color='gray', alpha=0.5, linewidth=10)\n",
    "ax3.plot(d_test, energy_test_gpr, '-', label='GPR', color='crimson', linewidth=4)\n",
    "ax3.vlines(d_train, ymin=-100, ymax=100, color='black', linestyle='--', linewidth=1)\n",
    "\n",
    "ax3.set_xlabel('H-H distance (Ang)', fontdict=font_x)\n",
    "ax3.set_xlim(0.95, 2.05)\n",
    "x_labels = [round(label, 2) for label in ax3.get_xticks()]\n",
    "ax3.set_xticks(x_labels)\n",
    "ax3.set_xticklabels(x_labels, fontdict=font_tick)\n",
    "ax3.set_xlim(0.95, 2.05)\n",
    "\n",
    "ax3.set_ylabel('Energy (eV)', fontdict=font_y)\n",
    "ax3.set_ylim(-1.4, 2.2)\n",
    "y_labels = [round(label, 2) for label in ax3.get_yticks()]\n",
    "# y_labels = [-1.0, -0.5, 0.0, 0.5, 1.0, 1.5, 2.0]\n",
    "ax3.set_yticks(y_labels)\n",
    "ax3.set_yticklabels(y_labels, fontdict=font_tick)\n",
    "ax3.set_ylim(-1.4, 2.2)\n",
    "\n",
    "ax3.legend(loc='upper right', fontsize=12, ncol=1, frameon=True)\n",
    "[x.set_linewidth(1.5) for x in ax3.spines.values()]\n",
    "ax3.tick_params(bottom=True, top=True, left=True, right=False)\n",
    "ax3.tick_params(labelbottom=True, labeltop=False, labelleft=True, labelright=False)\n",
    "ax3.tick_params(direction='in', length=8, width=1.5)\n",
    "\n",
    "fig.tight_layout()\n",
    "plt.subplots_adjust(hspace=0.05, wspace=0.05)\n",
    "plt.show()"
   ]
  },
  {
   "cell_type": "code",
   "execution_count": null,
   "id": "765e0ce6-b2a8-41a5-bee1-53a94c020a03",
   "metadata": {},
   "outputs": [],
   "source": [
    "fig = plt.figure(figsize=(3.5, 4.5))\n",
    "ax2, ax3 = fig.subplots(2, 1, height_ratios=[1, 1.5], sharex=False, sharey=False)\n",
    "\n",
    "font_x = {'size': 16, 'color': 'black'}\n",
    "font_y = {'size': 16, 'color': 'black'}\n",
    "font_tick = {'size': 12, 'color': 'black'}\n",
    "\n",
    "\n",
    "# The second plot\n",
    "ax2.fill_between(d_test, np.subtract(force_test_gpr[:, 0, 0], force_test_reference[:, 0, 0]), 0, color='crimson', alpha=0.5, edgecolor='black')\n",
    "ax2.vlines(d_train, ymin=-100, ymax=100, color='black', linestyle='--', linewidth=1)\n",
    "\n",
    "ax2.set_xlim([0.95, 2.05])\n",
    "x_labels = [round(label, 2) for label in ax2.get_xticks()]\n",
    "ax2.set_xticks(x_labels)\n",
    "ax2.set_xlim([0.95, 2.05])\n",
    "ax2.set_xticklabels(x_labels, fontdict=font_tick)\n",
    "\n",
    "ax2.set_ylabel(\"Error (eV/Ang)\", fontdict=font_y)\n",
    "ax2.set_ylim([-1.2, 1.2])\n",
    "y_labels = [round(label, 2) for label in ax2.get_yticks()]\n",
    "y_labels = [-1.0, -0.5, 0.0, 0.5, 1.0]\n",
    "ax2.set_yticks(y_labels)\n",
    "ax2.set_ylim([-1.2, 1.2])\n",
    "ax2.set_yticklabels(y_labels, fontdict=font_tick)\n",
    "\n",
    "[x.set_linewidth(1.5) for x in ax2.spines.values()]\n",
    "ax2.tick_params(bottom=True, top=True, left=True, right=True)\n",
    "ax2.tick_params(labelbottom=False, labeltop=False, labelleft=True, labelright=False)\n",
    "ax2.tick_params(direction='in', length=8, width=1.5)\n",
    "\n",
    "\n",
    "# The third plot\n",
    "ax3.plot(d_test, force_test_reference[:, 0, 0], '-', label='Target', color='gray', alpha=0.5, linewidth=10)\n",
    "ax3.plot(d_test, force_test_gpr[:, 0, 0], '-', label='GPR', color='crimson', linewidth=4)\n",
    "ax3.vlines(d_train, ymin=-100, ymax=100, color='black', linestyle='--', linewidth=1)\n",
    "\n",
    "\n",
    "ax3.set_xlabel('H-H distance (Ang)', fontdict=font_x)\n",
    "ax3.set_xlim(0.95, 2.05)\n",
    "x_labels = [round(label, 2) for label in ax3.get_xticks()]\n",
    "ax3.set_xticks(x_labels)\n",
    "ax3.set_xticklabels(x_labels, fontdict=font_tick)\n",
    "ax3.set_xlim(0.95, 2.05)\n",
    "\n",
    "ax3.set_ylabel('Force (eV/Ang)', fontdict=font_y)\n",
    "ax3.set_ylim(-40, 5)\n",
    "y_labels = [int(label) for label in ax3.get_yticks()]\n",
    "# y_labels = [-40, -30, -20, -10, 0]\n",
    "ax3.set_yticks(y_labels)\n",
    "ax3.set_yticklabels(y_labels, fontdict=font_tick)\n",
    "ax3.set_ylim(-40, 5)\n",
    "\n",
    "# ax3.legend(loc='lower right', fontsize=12, ncol=1, frameon=True)\n",
    "[x.set_linewidth(1.5) for x in ax3.spines.values()]\n",
    "ax3.tick_params(bottom=True, top=True, left=True, right=False)\n",
    "ax3.tick_params(labelbottom=True, labeltop=False, labelleft=True, labelright=False)\n",
    "ax3.tick_params(direction='in', length=8, width=1.5)\n",
    "\n",
    "fig.tight_layout()\n",
    "plt.subplots_adjust(hspace=0.05, wspace=0.05)\n",
    "plt.show()"
   ]
  },
  {
   "cell_type": "code",
   "execution_count": null,
   "id": "78e7c462-7dad-47de-808d-829a8ab6ae15",
   "metadata": {},
   "outputs": [],
   "source": []
  }
 ],
 "metadata": {
  "kernelspec": {
   "display_name": "Python 3",
   "language": "python",
   "name": "python3"
  },
  "language_info": {
   "codemirror_mode": {
    "name": "ipython",
    "version": 3
   },
   "file_extension": ".py",
   "mimetype": "text/x-python",
   "name": "python",
   "nbconvert_exporter": "python",
   "pygments_lexer": "ipython3",
   "version": "3.12.7"
  }
 },
 "nbformat": 4,
 "nbformat_minor": 5
}
