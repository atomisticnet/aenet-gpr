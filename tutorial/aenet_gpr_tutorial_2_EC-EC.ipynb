{
 "cells": [
  {
   "cell_type": "code",
   "execution_count": 1,
   "id": "8d96e3d3-c936-471d-b313-33c36d0e742c",
   "metadata": {
    "tags": []
   },
   "outputs": [
    {
     "name": "stdout",
     "output_type": "stream",
     "text": [
      "successfully imported torch\n",
      "2.6.0+cu124\n"
     ]
    }
   ],
   "source": [
    "try:\n",
    "    import torch\n",
    "    print(\"successfully imported torch\")\n",
    "    print(torch.__version__)\n",
    "except ImportError:\n",
    "    !! pip install torch torchvision torchaudio --user --index-url https://download.pytorch.org/whl/cpu\n",
    "    print(\"completed installing torch\")"
   ]
  },
  {
   "cell_type": "code",
   "execution_count": 2,
   "id": "4a081492-ac80-4580-af26-d6ce28004bac",
   "metadata": {},
   "outputs": [
    {
     "name": "stdout",
     "output_type": "stream",
     "text": [
      "successfully imported numpy\n",
      "1.26.4\n"
     ]
    }
   ],
   "source": [
    "try:\n",
    "    import numpy as np\n",
    "    print(\"successfully imported numpy\")\n",
    "    print(np.__version__)\n",
    "except ImportError:\n",
    "    !! pip install numpy --user --upgrade\n",
    "    print(\"completed installing numpy\")"
   ]
  },
  {
   "cell_type": "code",
   "execution_count": 3,
   "id": "78af600e-1c02-4e34-bd05-0128b0588c1c",
   "metadata": {},
   "outputs": [
    {
     "name": "stdout",
     "output_type": "stream",
     "text": [
      "successfully imported matplotlib\n"
     ]
    }
   ],
   "source": [
    "try:\n",
    "    from matplotlib import pyplot as plt\n",
    "    print(\"successfully imported matplotlib\")\n",
    "except ImportError:\n",
    "    !! pip install matplotlib --user --upgrade\n",
    "    print(\"completed installing matplotlib\")"
   ]
  },
  {
   "cell_type": "code",
   "execution_count": 4,
   "id": "11e45431-8717-40ed-ba5a-348bdfe73539",
   "metadata": {},
   "outputs": [
    {
     "name": "stdout",
     "output_type": "stream",
     "text": [
      "completed installing aenet-gpr\n",
      "Name: aenet-gpr\n",
      "Version: 1.2.3\n",
      "Summary: Atomistic simulation tools based on Gaussian Processes Regression\n",
      "Home-page: https://github.com/atomisticnet/aenet-gpr\n",
      "Author: In Won Yeu\n",
      "Author-email: iy2185@columbia.edu\n",
      "License: MPL-2.0\n",
      "Location: /data/home/iy2185/.local/lib/python3.12/site-packages\n",
      "Requires: ase, dscribe\n",
      "Required-by: \n"
     ]
    }
   ],
   "source": [
    "!! pip install aenet-gpr --user --upgrade\n",
    "print(\"completed installing aenet-gpr\")\n",
    "\n",
    "! pip show aenet-gpr"
   ]
  },
  {
   "cell_type": "code",
   "execution_count": 5,
   "id": "ec916db8-cfb8-475d-8cef-55f74ff30cc3",
   "metadata": {},
   "outputs": [
    {
     "name": "stdout",
     "output_type": "stream",
     "text": [
      "1.2.3\n"
     ]
    }
   ],
   "source": [
    "import os, sys, site\n",
    "sys.path.append(site.USER_SITE)\n",
    "\n",
    "import aenet_gpr\n",
    "print(aenet_gpr.__version__)"
   ]
  },
  {
   "cell_type": "markdown",
   "id": "f9cfd82b-8f6c-48ec-9c57-54ea593bb81b",
   "metadata": {},
   "source": [
    "# 1. Prepare training/test data"
   ]
  },
  {
   "cell_type": "markdown",
   "id": "7e022168-4914-4b3a-87c4-b5de07a8b5f8",
   "metadata": {},
   "source": [
    "We are using train/test HSE06 data of EC dimer prepared in `aenet-gpr/example/2_EC-EC/`"
   ]
  },
  {
   "cell_type": "code",
   "execution_count": 6,
   "id": "d50bab63-a944-4fa9-b202-3deb00dcf64b",
   "metadata": {},
   "outputs": [
    {
     "name": "stdout",
     "output_type": "stream",
     "text": [
      "--2025-05-17 19:26:50--  https://github.com/atomisticnet/aenet-gpr/raw/refs/heads/main/example/2_EC-EC/train_set_tutorial.zip\n",
      "Resolving github.com (github.com)... 140.82.114.3\n",
      "Connecting to github.com (github.com)|140.82.114.3|:443... connected.\n",
      "HTTP request sent, awaiting response... 302 Found\n",
      "Location: https://raw.githubusercontent.com/atomisticnet/aenet-gpr/refs/heads/main/example/2_EC-EC/train_set_tutorial.zip [following]\n",
      "--2025-05-17 19:26:50--  https://raw.githubusercontent.com/atomisticnet/aenet-gpr/refs/heads/main/example/2_EC-EC/train_set_tutorial.zip\n",
      "Resolving raw.githubusercontent.com (raw.githubusercontent.com)... 185.199.108.133, 185.199.109.133, 185.199.110.133, ...\n",
      "Connecting to raw.githubusercontent.com (raw.githubusercontent.com)|185.199.108.133|:443... connected.\n",
      "HTTP request sent, awaiting response... 200 OK\n",
      "Length: 101063 (99K) [application/zip]\n",
      "Saving to: ‘train_set_tutorial.zip’\n",
      "\n",
      "train_set_tutorial. 100%[===================>]  98.69K  --.-KB/s    in 0.002s  \n",
      "\n",
      "2025-05-17 19:26:50 (44.8 MB/s) - ‘train_set_tutorial.zip’ saved [101063/101063]\n",
      "\n",
      "number of train data:\n",
      "80\n"
     ]
    }
   ],
   "source": [
    "import os.path\n",
    "\n",
    "! rm -rf 2_EC-EC\n",
    "! mkdir 2_EC-EC\n",
    "    \n",
    "if os.path.isfile(\"../example/2_EC-EC/train_set_tutorial.zip\"):\n",
    "    ! unzip -oq ../example/2_EC-EC/train_set_tutorial.zip -d ./2_EC-EC/\n",
    "    print(\"number of train data:\")\n",
    "    ! find ./2_EC-EC/train_set_tutorial/ -type f | wc -l\n",
    "else:\n",
    "    ! wget https://github.com/atomisticnet/aenet-gpr/raw/refs/heads/main/example/2_EC-EC/train_set_tutorial.zip\n",
    "    ! unzip -oq train_set_tutorial.zip -d ./2_EC-EC/\n",
    "    ! rm train_set_tutorial.zip\n",
    "    print(\"number of train data:\")\n",
    "    ! find ./2_EC-EC/train_set_tutorial/ -type f | wc -l"
   ]
  },
  {
   "cell_type": "code",
   "execution_count": 7,
   "id": "21ba107a-9e4c-44cd-82e4-d9d5cf97477b",
   "metadata": {},
   "outputs": [
    {
     "name": "stdout",
     "output_type": "stream",
     "text": [
      "--2025-05-17 19:26:56--  https://github.com/atomisticnet/aenet-gpr/raw/refs/heads/main/example/2_EC-EC/test_set_tutorial.zip\n",
      "Resolving github.com (github.com)... 140.82.114.3\n",
      "Connecting to github.com (github.com)|140.82.114.3|:443... connected.\n",
      "HTTP request sent, awaiting response... 302 Found\n",
      "Location: https://raw.githubusercontent.com/atomisticnet/aenet-gpr/refs/heads/main/example/2_EC-EC/test_set_tutorial.zip [following]\n",
      "--2025-05-17 19:26:56--  https://raw.githubusercontent.com/atomisticnet/aenet-gpr/refs/heads/main/example/2_EC-EC/test_set_tutorial.zip\n",
      "Resolving raw.githubusercontent.com (raw.githubusercontent.com)... 185.199.111.133, 185.199.110.133, 185.199.109.133, ...\n",
      "Connecting to raw.githubusercontent.com (raw.githubusercontent.com)|185.199.111.133|:443... connected.\n",
      "HTTP request sent, awaiting response... 200 OK\n",
      "Length: 148252 (145K) [application/zip]\n",
      "Saving to: ‘test_set_tutorial.zip’\n",
      "\n",
      "test_set_tutorial.z 100%[===================>] 144.78K  --.-KB/s    in 0.003s  \n",
      "\n",
      "2025-05-17 19:26:56 (42.3 MB/s) - ‘test_set_tutorial.zip’ saved [148252/148252]\n",
      "\n",
      "number of test data:\n",
      "160\n"
     ]
    }
   ],
   "source": [
    "if os.path.isfile(\"../example/2_EC-EC/test_set_tutorial.zip\"):\n",
    "    ! unzip -oq ../example/2_EC-EC/test_set_tutorial.zip -d ./2_EC-EC/\n",
    "    print(\"number of test data:\")\n",
    "    ! find ./2_EC-EC/test_set_tutorial/ -type f | wc -l\n",
    "else:\n",
    "    ! wget https://github.com/atomisticnet/aenet-gpr/raw/refs/heads/main/example/2_EC-EC/test_set_tutorial.zip\n",
    "    ! unzip -oq test_set_tutorial.zip -d ./2_EC-EC/\n",
    "    ! rm test_set_tutorial.zip\n",
    "    print(\"number of test data:\")\n",
    "    ! find ./2_EC-EC/test_set_tutorial/ -type f | wc -l"
   ]
  },
  {
   "cell_type": "markdown",
   "id": "fe4c1b49-fe17-4cd7-977f-d0adda2695aa",
   "metadata": {},
   "source": [
    "# 2-1. Train–Test with default kernel parameters (scale 0.4, weight 1.0)"
   ]
  },
  {
   "cell_type": "markdown",
   "id": "a04d4c0e-9b1b-4000-8032-935347c3b6ff",
   "metadata": {},
   "source": [
    "In addition to the reference data files, following configuration file `train.in` is all you need to run aenet-gpr. \n",
    "\n",
    "First, let us check the GPR evaluation error for test set with default kernel parameters."
   ]
  },
  {
   "cell_type": "code",
   "execution_count": 8,
   "id": "4c6c4ca7-409a-4087-b34b-07effd22dbb1",
   "metadata": {},
   "outputs": [
    {
     "name": "stdout",
     "output_type": "stream",
     "text": [
      "--2025-05-17 19:27:01--  https://github.com/atomisticnet/aenet-gpr/raw/refs/heads/main/example/2_EC-EC/train.in\n",
      "Resolving github.com (github.com)... 140.82.113.3\n",
      "Connecting to github.com (github.com)|140.82.113.3|:443... connected.\n",
      "HTTP request sent, awaiting response... 302 Found\n",
      "Location: https://raw.githubusercontent.com/atomisticnet/aenet-gpr/refs/heads/main/example/2_EC-EC/train.in [following]\n",
      "--2025-05-17 19:27:01--  https://raw.githubusercontent.com/atomisticnet/aenet-gpr/refs/heads/main/example/2_EC-EC/train.in\n",
      "Resolving raw.githubusercontent.com (raw.githubusercontent.com)... 185.199.111.133, 185.199.110.133, 185.199.109.133, ...\n",
      "Connecting to raw.githubusercontent.com (raw.githubusercontent.com)|185.199.111.133|:443... connected.\n",
      "HTTP request sent, awaiting response... 200 OK\n",
      "Length: 566 [text/plain]\n",
      "Saving to: ‘train.in’\n",
      "\n",
      "train.in            100%[===================>]     566  --.-KB/s    in 0s      \n",
      "\n",
      "2025-05-17 19:27:01 (10.3 MB/s) - ‘train.in’ saved [566/566]\n",
      "\n"
     ]
    }
   ],
   "source": [
    "! rm -f train.in\n",
    "\n",
    "if os.path.isfile(\"../example/2_EC-EC/train.in\"):\n",
    "    ! cp ../example/2_EC-EC/train.in .\n",
    "else:\n",
    "    ! wget https://github.com/atomisticnet/aenet-gpr/raw/refs/heads/main/example/2_EC-EC/train.in"
   ]
  },
  {
   "cell_type": "code",
   "execution_count": 9,
   "id": "c2cfe62e-dfd2-4b54-83c1-a6e50bc247d3",
   "metadata": {},
   "outputs": [
    {
     "name": "stdout",
     "output_type": "stream",
     "text": [
      "# File path\n",
      "Train_file ./2_EC-EC/train_set_tutorial/file_*.xsf\n",
      "Test_file ./2_EC-EC/test_set_tutorial/file_*.xsf\n",
      "\n",
      "# Train model save (default: False)\n",
      "# Train_model_save True\n",
      "\n",
      "# File format (default: xsf)\n",
      "File_format xsf\n",
      "\n",
      "# Descriptor (default: cartesian coordinates)\n",
      "Descriptor cart\n",
      "\n",
      "# Kernel parameter\n",
      "# scale 1.5\n",
      "# weight 1.0\n",
      "\n",
      "# Data process (default: batch, 25)\n",
      "data_process batch\n",
      "batch_size 25\n",
      "\n",
      "# Flags for xsf file writing (default: False)\n",
      "Train_write False\n",
      "Test_write False\n",
      "# Additional_write True\n",
      "\n",
      "# Data augmentation parameter\n",
      "# Disp_length 0.05\n",
      "# Num_copy 3\n"
     ]
    }
   ],
   "source": [
    "! cat train.in"
   ]
  },
  {
   "cell_type": "code",
   "execution_count": 10,
   "id": "118f1319-3dd3-482f-81ee-b0f80918bdf3",
   "metadata": {
    "tags": []
   },
   "outputs": [
    {
     "name": "stdout",
     "output_type": "stream",
     "text": [
      "======================================================================\n",
      "aenet-GPR: surrogate GPR for GPR-ANN indirect force training\n",
      "======================================================================\n",
      "\n",
      "2025-05-17 19:27:11.\n",
      "\n",
      "Developed by In Won Yeu\n",
      "\n",
      "This program performs three main steps:\n",
      "1. Train: Generates a GPR model using the provided structure, energy, and force data.\n",
      "2. Test: Uses the generated GPR model to predict values for the test set structures.\n",
      "3. Augmentation: Performs data augmentation in xsf file format, compatible with aenet-(PyTorch),\n",
      "supporting a GPR-ANN training in conjunction with aenet-(PyTorch).\n",
      "\n",
      "Each of these steps is executed once the input file (train.in) contains the keywords:\n",
      "Train_file [train file path]\n",
      "Test_file [test file path]\n",
      "Additional_write [True]\n",
      "\n",
      "\n",
      "======================================================================\n",
      "Train\n",
      "======================================================================\n",
      "\n",
      "Read reference training data\n",
      "\n",
      "Time needed for reading data:            0.060622 s\n",
      "Maximum CPU memory used:             0.538403 GB\n",
      "Maximum GPU memory used:             0.000000 GB\n",
      "Energy data size: (80,)  # (N_data, )\n",
      "Force data size: (80, 20, 3)  # (N_data, N_atom, 3)\n",
      "----------------------------------------------------------------------\n",
      "----------------------------------------------------------------------\n",
      "Model train\n",
      "\n",
      "Training parameters\n",
      "{'num_data': 80, 'calculator': {'kerneltype': 'sqexp', 'scale': tensor(0.4000, dtype=torch.float64), 'weight': tensor(1., dtype=torch.float64), 'noise': tensor(1.0000e-06, dtype=torch.float64), 'noisefactor': tensor(0.5000, dtype=torch.float64)}, 'fix_ind': None, 'pbc': False, 'species': ['O', 'O', 'O', 'C', 'C', 'C', 'H', 'H', 'H', 'H', 'O', 'O', 'O', 'C', 'C', 'C', 'H', 'H', 'H', 'H'], 'num_atom': 20}\n",
      "\n",
      "Time needed for training:            1.271468 s\n",
      "Maximum CPU memory used:             1.016148 GB\n",
      "Maximum GPU memory used:             0.000000 GB\n",
      "----------------------------------------------------------------------\n",
      "======================================================================\n",
      "Test\n",
      "======================================================================\n",
      "\n",
      "Read reference test data\n",
      "\n",
      "Time needed for reading data:            0.102624 s\n",
      "Maximum CPU memory used:             1.016148 GB\n",
      "Maximum GPU memory used:             0.000000 GB\n",
      "Energy data size: (160,)  # (N_data, )\n",
      "Force data size: (160, 20, 3)  # (N_data, N_atom, 3)\n",
      "----------------------------------------------------------------------\n",
      "----------------------------------------------------------------------\n",
      "Model evaluation for test set\n",
      "\n",
      "Test parameters\n",
      "{'num_data': 160, 'calculator': {'kerneltype': 'sqexp', 'scale': tensor(0.4000, dtype=torch.float64), 'weight': tensor(1., dtype=torch.float64), 'noise': tensor(1.0000e-06, dtype=torch.float64), 'noisefactor': tensor(0.5000, dtype=torch.float64)}, 'fix_ind': None, 'pbc': False, 'species': ['O', 'O', 'O', 'C', 'C', 'C', 'H', 'H', 'H', 'H', 'O', 'O', 'O', 'C', 'C', 'C', 'H', 'H', 'H', 'H'], 'num_atom': 20}\n",
      "\n",
      "Time needed for test evaluation:            7.585482 s\n",
      "Maximum CPU memory used:             1.345131 GB\n",
      "Maximum GPU memory used:             0.000000 GB\n",
      "----------------------------------------------------------------------\n",
      "GPR energy MAE (eV): 0.16782255308294225\n",
      "GPR force MAE (eV/Ang): 0.9231512293764987\n",
      "GPR uncertainty mean ± std: 0.08408365272699045 ± 0.01351302819633921\n",
      "\n",
      "Saving test target to [energy_test_reference.npy] and [force_test_reference.npy]\n",
      "Saving GPR prediction to [energy_test_gpr.npy], [force_test_gpr.npy], and [uncertainty_test_gpr.npy]\n",
      "\n",
      "\n",
      "\u001b[0m"
     ]
    }
   ],
   "source": [
    "! python -m aenet_gpr train.in"
   ]
  },
  {
   "cell_type": "markdown",
   "id": "2fb02d1f-c950-4398-9c38-72f9c28e41fe",
   "metadata": {},
   "source": [
    "# 2-2. Visualize the results"
   ]
  },
  {
   "cell_type": "code",
   "execution_count": 11,
   "id": "1ee4c198-7a79-4be9-b721-4f0c77bff44d",
   "metadata": {},
   "outputs": [],
   "source": [
    "energy_test_gpr = np.load(\"./energy_test_gpr.npy\")\n",
    "energy_test_reference = np.load(\"./energy_test_reference.npy\")\n",
    "force_test_gpr = np.load(\"./force_test_gpr.npy\")\n",
    "force_test_reference = np.load(\"./force_test_reference.npy\")\n",
    "uncertainty_test_gpr = np.load(\"./uncertainty_test_gpr.npy\")"
   ]
  },
  {
   "cell_type": "code",
   "execution_count": 15,
   "id": "37a5ba8f-5a73-4a70-9ec2-fc5c44ee8abc",
   "metadata": {},
   "outputs": [
    {
     "name": "stdout",
     "output_type": "stream",
     "text": [
      "0.0023909496989290347 0.016170085142766764\n"
     ]
    }
   ],
   "source": [
    "diff_per_atom = (energy_test_reference - energy_test_gpr) / 20\n",
    "\n",
    "print(diff_per_atom.min(), diff_per_atom.max())"
   ]
  },
  {
   "cell_type": "code",
   "execution_count": 17,
   "id": "52e3b71a-80f8-404b-89f8-cbdd87e3c73e",
   "metadata": {},
   "outputs": [
    {
     "data": {
      "image/png": "[encoded data removed]",
      "text/plain": [
       "<Figure size 700x600 with 1 Axes>"
      ]
     },
     "metadata": {},
     "output_type": "display_data"
    }
   ],
   "source": [
    "fig = plt.figure(figsize=(7, 6))\n",
    "ax2 = fig.subplots()\n",
    "\n",
    "font_x = {'size': 20, 'color': 'black'}\n",
    "font_y = {'size': 20, 'color': 'black'}\n",
    "font_tick = {'size': 16, 'color': 'black'}\n",
    "\n",
    "\n",
    "# The second plot\n",
    "counts, bins = np.histogram(diff_per_atom, bins=30, range=(-0.003, 0.03))\n",
    "\n",
    "ax2.hist(bins[:-1], bins, weights=counts, facecolor='dimgray', alpha=1.0, edgecolor='black')\n",
    "\n",
    "ax2.set_xlabel(\"DFT $-$ GPR (eV/atom)\", fontdict=font_x)\n",
    "ax2.set_xlim([-0.003, 0.03])\n",
    "x_labels = [round(label, 2) for label in ax2.get_xticks()]\n",
    "ax2.set_xticks(x_labels)\n",
    "ax2.set_xlim([-0.003, 0.03])\n",
    "ax2.set_xticklabels(x_labels, fontdict=font_tick)\n",
    "\n",
    "ax2.set_ylabel(\"Number of structures\", fontdict=font_y)\n",
    "ax2.set_ylim([0, 50])\n",
    "y_labels = [int(label) for label in ax2.get_yticks()]\n",
    "ax2.set_yticks(y_labels)\n",
    "ax2.set_ylim([0, 50])\n",
    "ax2.set_yticklabels(y_labels, fontdict=font_tick)\n",
    "\n",
    "[x.set_linewidth(1.5) for x in ax2.spines.values()]\n",
    "ax2.tick_params(bottom=False, top=True, left=True, right=True)\n",
    "ax2.tick_params(labelbottom=True, labeltop=False, labelleft=True, labelright=False)\n",
    "ax2.tick_params(direction='in', length=8, width=1.5)\n",
    "\n",
    "ax2.grid(True, which='both', linestyle=':', linewidth=0.7, alpha=0.7)\n",
    "\n",
    "fig.tight_layout()\n",
    "plt.show()"
   ]
  },
  {
   "cell_type": "markdown",
   "id": "e67add88-6113-4def-b711-d65802a31ffe",
   "metadata": {},
   "source": [
    "# 3-1. Train–Test (scale 1.5, weight 1.0)"
   ]
  },
  {
   "cell_type": "markdown",
   "id": "e0e3850f-2630-404b-9e62-5c7b67d6363b",
   "metadata": {},
   "source": [
    "Since, the constructed GPR with default parameters underestimates energy, let us change the parameters."
   ]
  },
  {
   "cell_type": "code",
   "execution_count": 18,
   "id": "77c3e93b-606c-4e33-9246-2c63f582feef",
   "metadata": {},
   "outputs": [],
   "source": [
    "! sed -i '15s|.*|scale 1.5|' train.in"
   ]
  },
  {
   "cell_type": "code",
   "execution_count": 19,
   "id": "0a99ed8c-bb96-4051-afdc-40c41de72fa6",
   "metadata": {},
   "outputs": [
    {
     "name": "stdout",
     "output_type": "stream",
     "text": [
      "# File path\n",
      "Train_file ./2_EC-EC/train_set_tutorial/file_*.xsf\n",
      "Test_file ./2_EC-EC/test_set_tutorial/file_*.xsf\n",
      "\n",
      "# Train model save (default: False)\n",
      "# Train_model_save True\n",
      "\n",
      "# File format (default: xsf)\n",
      "File_format xsf\n",
      "\n",
      "# Descriptor (default: cartesian coordinates)\n",
      "Descriptor cart\n",
      "\n",
      "# Kernel parameter\n",
      "scale 1.5\n",
      "# weight 1.0\n",
      "\n",
      "# Data process (default: batch, 25)\n",
      "data_process batch\n",
      "batch_size 25\n",
      "\n",
      "# Flags for xsf file writing (default: False)\n",
      "Train_write False\n",
      "Test_write False\n",
      "# Additional_write True\n",
      "\n",
      "# Data augmentation parameter\n",
      "# Disp_length 0.05\n",
      "# Num_copy 3\n"
     ]
    }
   ],
   "source": [
    "! cat train.in"
   ]
  },
  {
   "cell_type": "code",
   "execution_count": 20,
   "id": "b3356d46-d061-4049-8ef6-c42e7dba7a52",
   "metadata": {},
   "outputs": [
    {
     "name": "stdout",
     "output_type": "stream",
     "text": [
      "======================================================================\n",
      "aenet-GPR: surrogate GPR for GPR-ANN indirect force training\n",
      "======================================================================\n",
      "\n",
      "2025-05-17 19:28:56.\n",
      "\n",
      "Developed by In Won Yeu\n",
      "\n",
      "This program performs three main steps:\n",
      "1. Train: Generates a GPR model using the provided structure, energy, and force data.\n",
      "2. Test: Uses the generated GPR model to predict values for the test set structures.\n",
      "3. Augmentation: Performs data augmentation in xsf file format, compatible with aenet-(PyTorch),\n",
      "supporting a GPR-ANN training in conjunction with aenet-(PyTorch).\n",
      "\n",
      "Each of these steps is executed once the input file (train.in) contains the keywords:\n",
      "Train_file [train file path]\n",
      "Test_file [test file path]\n",
      "Additional_write [True]\n",
      "\n",
      "\n",
      "======================================================================\n",
      "Train\n",
      "======================================================================\n",
      "\n",
      "Read reference training data\n",
      "\n",
      "Time needed for reading data:            0.050923 s\n",
      "Maximum CPU memory used:             0.538139 GB\n",
      "Maximum GPU memory used:             0.000000 GB\n",
      "Energy data size: (80,)  # (N_data, )\n",
      "Force data size: (80, 20, 3)  # (N_data, N_atom, 3)\n",
      "----------------------------------------------------------------------\n",
      "----------------------------------------------------------------------\n",
      "Model train\n",
      "\n",
      "Training parameters\n",
      "{'num_data': 80, 'calculator': {'kerneltype': 'sqexp', 'scale': tensor(1.5000, dtype=torch.float64), 'weight': tensor(1., dtype=torch.float64), 'noise': tensor(1.0000e-06, dtype=torch.float64), 'noisefactor': tensor(0.5000, dtype=torch.float64)}, 'fix_ind': None, 'pbc': False, 'species': ['O', 'O', 'O', 'C', 'C', 'C', 'H', 'H', 'H', 'H', 'O', 'O', 'O', 'C', 'C', 'C', 'H', 'H', 'H', 'H'], 'num_atom': 20}\n",
      "\n",
      "Time needed for training:            1.196410 s\n",
      "Maximum CPU memory used:             1.004551 GB\n",
      "Maximum GPU memory used:             0.000000 GB\n",
      "----------------------------------------------------------------------\n",
      "======================================================================\n",
      "Test\n",
      "======================================================================\n",
      "\n",
      "Read reference test data\n",
      "\n",
      "Time needed for reading data:            0.102739 s\n",
      "Maximum CPU memory used:             1.004551 GB\n",
      "Maximum GPU memory used:             0.000000 GB\n",
      "Energy data size: (160,)  # (N_data, )\n",
      "Force data size: (160, 20, 3)  # (N_data, N_atom, 3)\n",
      "----------------------------------------------------------------------\n",
      "----------------------------------------------------------------------\n",
      "Model evaluation for test set\n",
      "\n",
      "Test parameters\n",
      "{'num_data': 160, 'calculator': {'kerneltype': 'sqexp', 'scale': tensor(1.5000, dtype=torch.float64), 'weight': tensor(1., dtype=torch.float64), 'noise': tensor(1.0000e-06, dtype=torch.float64), 'noisefactor': tensor(0.5000, dtype=torch.float64)}, 'fix_ind': None, 'pbc': False, 'species': ['O', 'O', 'O', 'C', 'C', 'C', 'H', 'H', 'H', 'H', 'O', 'O', 'O', 'C', 'C', 'C', 'H', 'H', 'H', 'H'], 'num_atom': 20}\n",
      "\n",
      "Time needed for test evaluation:            7.074706 s\n",
      "Maximum CPU memory used:             1.304913 GB\n",
      "Maximum GPU memory used:             0.000000 GB\n",
      "----------------------------------------------------------------------\n",
      "GPR energy MAE (eV): 0.03718415568084765\n",
      "GPR force MAE (eV/Ang): 0.9518104590096164\n",
      "GPR uncertainty mean ± std: 0.001876184517830668 ± 0.0003452177959431311\n",
      "\n",
      "Saving test target to [energy_test_reference.npy] and [force_test_reference.npy]\n",
      "Saving GPR prediction to [energy_test_gpr.npy], [force_test_gpr.npy], and [uncertainty_test_gpr.npy]\n",
      "\n",
      "\n",
      "\u001b[0m"
     ]
    }
   ],
   "source": [
    "! python -m aenet_gpr train.in"
   ]
  },
  {
   "cell_type": "markdown",
   "id": "c1d8cfaf-3d40-498b-bacb-08642fb6c7a3",
   "metadata": {},
   "source": [
    "By changing the scale parameter from 0.4 to 1.5, \n",
    "\n",
    " - total energy error is reduced from 0.17 eV to 0.04 eV\n",
    " - uncertainty estimate is reduced from 0.084 to 0.002"
   ]
  },
  {
   "cell_type": "markdown",
   "id": "664827ec-be36-433c-b60e-cbe178c4c73f",
   "metadata": {},
   "source": [
    "# 3-2. Visualize the test results"
   ]
  },
  {
   "cell_type": "code",
   "execution_count": 21,
   "id": "f740063d-c259-4d45-9584-ee43bb4b6738",
   "metadata": {},
   "outputs": [],
   "source": [
    "energy_test_gpr = np.load(\"./energy_test_gpr.npy\")\n",
    "energy_test_reference = np.load(\"./energy_test_reference.npy\")\n",
    "force_test_gpr = np.load(\"./force_test_gpr.npy\")\n",
    "force_test_reference = np.load(\"./force_test_reference.npy\")\n",
    "uncertainty_test_gpr = np.load(\"./uncertainty_test_gpr.npy\")"
   ]
  },
  {
   "cell_type": "code",
   "execution_count": 22,
   "id": "50cee3ea-4c75-4e67-ba6f-a295fe70cbff",
   "metadata": {},
   "outputs": [
    {
     "name": "stdout",
     "output_type": "stream",
     "text": [
      "-0.002552433228447626 0.006854461424882175\n"
     ]
    }
   ],
   "source": [
    "diff_per_atom = (energy_test_reference - energy_test_gpr) / 20\n",
    "\n",
    "print(diff_per_atom.min(), diff_per_atom.max())"
   ]
  },
  {
   "cell_type": "code",
   "execution_count": 24,
   "id": "3e02010a-d108-43d0-845a-02d437627df2",
   "metadata": {},
   "outputs": [
    {
     "data": {
      "image/png": "[encoded data removed]",
      "text/plain": [
       "<Figure size 700x600 with 1 Axes>"
      ]
     },
     "metadata": {},
     "output_type": "display_data"
    }
   ],
   "source": [
    "fig = plt.figure(figsize=(7, 6))\n",
    "ax2 = fig.subplots()\n",
    "\n",
    "font_x = {'size': 20, 'color': 'black'}\n",
    "font_y = {'size': 20, 'color': 'black'}\n",
    "font_tick = {'size': 16, 'color': 'black'}\n",
    "\n",
    "\n",
    "# The second plot\n",
    "counts, bins = np.histogram(diff_per_atom, bins=30, range=(-0.003, 0.03))\n",
    "\n",
    "ax2.hist(bins[:-1], bins, weights=counts, facecolor='dimgray', alpha=1.0, edgecolor='black')\n",
    "\n",
    "ax2.set_xlabel(\"DFT $-$ GPR (eV/atom)\", fontdict=font_x)\n",
    "ax2.set_xlim([-0.003, 0.03])\n",
    "x_labels = [round(label, 2) for label in ax2.get_xticks()]\n",
    "ax2.set_xticks(x_labels)\n",
    "ax2.set_xlim([-0.003, 0.03])\n",
    "ax2.set_xticklabels(x_labels, fontdict=font_tick)\n",
    "\n",
    "ax2.set_ylabel(\"Number of structures\", fontdict=font_y)\n",
    "ax2.set_ylim([0, 50])\n",
    "y_labels = [int(label) for label in ax2.get_yticks()]\n",
    "ax2.set_yticks(y_labels)\n",
    "ax2.set_ylim([0, 50])\n",
    "ax2.set_yticklabels(y_labels, fontdict=font_tick)\n",
    "\n",
    "[x.set_linewidth(1.5) for x in ax2.spines.values()]\n",
    "ax2.tick_params(bottom=False, top=True, left=True, right=True)\n",
    "ax2.tick_params(labelbottom=True, labeltop=False, labelleft=True, labelright=False)\n",
    "ax2.tick_params(direction='in', length=8, width=1.5)\n",
    "\n",
    "ax2.grid(True, which='both', linestyle=':', linewidth=0.7, alpha=0.7)\n",
    "\n",
    "fig.tight_layout()\n",
    "plt.show()"
   ]
  },
  {
   "cell_type": "markdown",
   "id": "135c93bb-e528-47b0-9a57-8a4dff184882",
   "metadata": {},
   "source": [
    "# 4. Augment"
   ]
  },
  {
   "cell_type": "markdown",
   "id": "4fc65d7e-595d-4e64-a922-abe7ac22b69c",
   "metadata": {},
   "source": [
    "So, using these parameters, augment step will be executed."
   ]
  },
  {
   "cell_type": "code",
   "execution_count": 25,
   "id": "3d11504f-9873-47d2-b4e5-dec94315ea98",
   "metadata": {},
   "outputs": [],
   "source": [
    "! sed -i '3s|.*|# Test_file ./2_EC-EC/test_set_tutorial/file_*.xsf|' train.in\n",
    "! sed -i '25s|.*|Additional_write True|' train.in\n",
    "! sed -i '28s|.*|Disp_length 0.05|' train.in\n",
    "! sed -i '29s|.*|Num_copy 2|' train.in"
   ]
  },
  {
   "cell_type": "code",
   "execution_count": 26,
   "id": "0f54fd0b-caed-46bd-9c8f-7a421e38cc8b",
   "metadata": {},
   "outputs": [
    {
     "name": "stdout",
     "output_type": "stream",
     "text": [
      "# File path\n",
      "Train_file ./2_EC-EC/train_set_tutorial/file_*.xsf\n",
      "# Test_file ./2_EC-EC/test_set_tutorial/file_*.xsf\n",
      "\n",
      "# Train model save (default: False)\n",
      "# Train_model_save True\n",
      "\n",
      "# File format (default: xsf)\n",
      "File_format xsf\n",
      "\n",
      "# Descriptor (default: cartesian coordinates)\n",
      "Descriptor cart\n",
      "\n",
      "# Kernel parameter\n",
      "scale 1.5\n",
      "# weight 1.0\n",
      "\n",
      "# Data process (default: batch, 25)\n",
      "data_process batch\n",
      "batch_size 25\n",
      "\n",
      "# Flags for xsf file writing (default: False)\n",
      "Train_write False\n",
      "Test_write False\n",
      "Additional_write True\n",
      "\n",
      "# Data augmentation parameter\n",
      "Disp_length 0.05\n",
      "Num_copy 2\n"
     ]
    }
   ],
   "source": [
    "! cat train.in"
   ]
  },
  {
   "cell_type": "code",
   "execution_count": 27,
   "id": "54ca7ab0-7e78-4755-b316-1bd54c9faf4d",
   "metadata": {},
   "outputs": [
    {
     "name": "stdout",
     "output_type": "stream",
     "text": [
      "======================================================================\n",
      "aenet-GPR: surrogate GPR for GPR-ANN indirect force training\n",
      "======================================================================\n",
      "\n",
      "2025-05-17 19:30:25.\n",
      "\n",
      "Developed by In Won Yeu\n",
      "\n",
      "This program performs three main steps:\n",
      "1. Train: Generates a GPR model using the provided structure, energy, and force data.\n",
      "2. Test: Uses the generated GPR model to predict values for the test set structures.\n",
      "3. Augmentation: Performs data augmentation in xsf file format, compatible with aenet-(PyTorch),\n",
      "supporting a GPR-ANN training in conjunction with aenet-(PyTorch).\n",
      "\n",
      "Each of these steps is executed once the input file (train.in) contains the keywords:\n",
      "Train_file [train file path]\n",
      "Test_file [test file path]\n",
      "Additional_write [True]\n",
      "\n",
      "\n",
      "======================================================================\n",
      "Train\n",
      "======================================================================\n",
      "\n",
      "Read reference training data\n",
      "\n",
      "Time needed for reading data:            0.053119 s\n",
      "Maximum CPU memory used:             0.537945 GB\n",
      "Maximum GPU memory used:             0.000000 GB\n",
      "Energy data size: (80,)  # (N_data, )\n",
      "Force data size: (80, 20, 3)  # (N_data, N_atom, 3)\n",
      "----------------------------------------------------------------------\n",
      "----------------------------------------------------------------------\n",
      "Model train\n",
      "\n",
      "Training parameters\n",
      "{'num_data': 80, 'calculator': {'kerneltype': 'sqexp', 'scale': tensor(1.5000, dtype=torch.float64), 'weight': tensor(1., dtype=torch.float64), 'noise': tensor(1.0000e-06, dtype=torch.float64), 'noisefactor': tensor(0.5000, dtype=torch.float64)}, 'fix_ind': None, 'pbc': False, 'species': ['O', 'O', 'O', 'C', 'C', 'C', 'H', 'H', 'H', 'H', 'O', 'O', 'O', 'C', 'C', 'C', 'H', 'H', 'H', 'H'], 'num_atom': 20}\n",
      "\n",
      "Time needed for training:            1.198968 s\n",
      "Maximum CPU memory used:             1.041355 GB\n",
      "Maximum GPU memory used:             0.000000 GB\n",
      "----------------------------------------------------------------------\n",
      "======================================================================\n",
      "Augmentation\n",
      "======================================================================\n",
      "----------------------------------------------------------------------\n",
      "Additional structure generation\n",
      "\n",
      "Time needed for additional generation:            0.041027 s\n",
      "Maximum CPU memory used:             1.041355 GB\n",
      "Maximum GPU memory used:             0.000000 GB\n",
      "Displacement length (Ang): 0.05\n",
      "Multiple: 2\n",
      "N_additional = N_reference (80) * Multiple (2) = 160\n",
      "----------------------------------------------------------------------\n",
      "----------------------------------------------------------------------\n",
      "Model evaluation for additional set\n",
      "\n",
      "Test parameters\n",
      "{'num_data': 160, 'calculator': {'kerneltype': 'sqexp', 'scale': tensor(1.5000, dtype=torch.float64), 'weight': tensor(1., dtype=torch.float64), 'noise': tensor(1.0000e-06, dtype=torch.float64), 'noisefactor': tensor(0.5000, dtype=torch.float64)}, 'fix_ind': None, 'pbc': False, 'species': ['O', 'O', 'O', 'C', 'C', 'C', 'H', 'H', 'H', 'H', 'O', 'O', 'O', 'C', 'C', 'C', 'H', 'H', 'H', 'H'], 'num_atom': 20}\n",
      "\n",
      "Time needed for additional evaluation:            7.962291 s\n",
      "Maximum CPU memory used:             1.333912 GB\n",
      "Maximum GPU memory used:             0.000000 GB\n",
      "----------------------------------------------------------------------\n",
      "\n",
      "Saving GPR prediction to [energy_additional_gpr.npy], [force_additional_gpr.npy], and [uncertainty_additional_gpr.npy]\n",
      "======================================================================\n",
      "Writing additional xsf files to additional_xsf\n",
      "\n",
      "Time needed for writing xsf files:            5.167773 s\n",
      "Maximum CPU memory used:             1.333912 GB\n",
      "Maximum GPU memory used:             0.000000 GB\n",
      "======================================================================\n",
      "\u001b[0m"
     ]
    }
   ],
   "source": [
    "! rm -rf additional_xsf/\n",
    "! python -m aenet_gpr train.in"
   ]
  },
  {
   "cell_type": "markdown",
   "id": "05a6aa76-121e-4400-bee1-db4b336403b5",
   "metadata": {},
   "source": [
    "Now, 160 new data have been augmented"
   ]
  },
  {
   "cell_type": "code",
   "execution_count": 28,
   "id": "f387f337-01ba-43c7-8a07-77ee732d6f06",
   "metadata": {},
   "outputs": [
    {
     "name": "stdout",
     "output_type": "stream",
     "text": [
      "file_00000.xsf\tfile_00032.xsf\tfile_00064.xsf\tfile_00096.xsf\tfile_00128.xsf\n",
      "file_00001.xsf\tfile_00033.xsf\tfile_00065.xsf\tfile_00097.xsf\tfile_00129.xsf\n",
      "file_00002.xsf\tfile_00034.xsf\tfile_00066.xsf\tfile_00098.xsf\tfile_00130.xsf\n",
      "file_00003.xsf\tfile_00035.xsf\tfile_00067.xsf\tfile_00099.xsf\tfile_00131.xsf\n",
      "file_00004.xsf\tfile_00036.xsf\tfile_00068.xsf\tfile_00100.xsf\tfile_00132.xsf\n",
      "file_00005.xsf\tfile_00037.xsf\tfile_00069.xsf\tfile_00101.xsf\tfile_00133.xsf\n",
      "file_00006.xsf\tfile_00038.xsf\tfile_00070.xsf\tfile_00102.xsf\tfile_00134.xsf\n",
      "file_00007.xsf\tfile_00039.xsf\tfile_00071.xsf\tfile_00103.xsf\tfile_00135.xsf\n",
      "file_00008.xsf\tfile_00040.xsf\tfile_00072.xsf\tfile_00104.xsf\tfile_00136.xsf\n",
      "file_00009.xsf\tfile_00041.xsf\tfile_00073.xsf\tfile_00105.xsf\tfile_00137.xsf\n",
      "file_00010.xsf\tfile_00042.xsf\tfile_00074.xsf\tfile_00106.xsf\tfile_00138.xsf\n",
      "file_00011.xsf\tfile_00043.xsf\tfile_00075.xsf\tfile_00107.xsf\tfile_00139.xsf\n",
      "file_00012.xsf\tfile_00044.xsf\tfile_00076.xsf\tfile_00108.xsf\tfile_00140.xsf\n",
      "file_00013.xsf\tfile_00045.xsf\tfile_00077.xsf\tfile_00109.xsf\tfile_00141.xsf\n",
      "file_00014.xsf\tfile_00046.xsf\tfile_00078.xsf\tfile_00110.xsf\tfile_00142.xsf\n",
      "file_00015.xsf\tfile_00047.xsf\tfile_00079.xsf\tfile_00111.xsf\tfile_00143.xsf\n",
      "file_00016.xsf\tfile_00048.xsf\tfile_00080.xsf\tfile_00112.xsf\tfile_00144.xsf\n",
      "file_00017.xsf\tfile_00049.xsf\tfile_00081.xsf\tfile_00113.xsf\tfile_00145.xsf\n",
      "file_00018.xsf\tfile_00050.xsf\tfile_00082.xsf\tfile_00114.xsf\tfile_00146.xsf\n",
      "file_00019.xsf\tfile_00051.xsf\tfile_00083.xsf\tfile_00115.xsf\tfile_00147.xsf\n",
      "file_00020.xsf\tfile_00052.xsf\tfile_00084.xsf\tfile_00116.xsf\tfile_00148.xsf\n",
      "file_00021.xsf\tfile_00053.xsf\tfile_00085.xsf\tfile_00117.xsf\tfile_00149.xsf\n",
      "file_00022.xsf\tfile_00054.xsf\tfile_00086.xsf\tfile_00118.xsf\tfile_00150.xsf\n",
      "file_00023.xsf\tfile_00055.xsf\tfile_00087.xsf\tfile_00119.xsf\tfile_00151.xsf\n",
      "file_00024.xsf\tfile_00056.xsf\tfile_00088.xsf\tfile_00120.xsf\tfile_00152.xsf\n",
      "file_00025.xsf\tfile_00057.xsf\tfile_00089.xsf\tfile_00121.xsf\tfile_00153.xsf\n",
      "file_00026.xsf\tfile_00058.xsf\tfile_00090.xsf\tfile_00122.xsf\tfile_00154.xsf\n",
      "file_00027.xsf\tfile_00059.xsf\tfile_00091.xsf\tfile_00123.xsf\tfile_00155.xsf\n",
      "file_00028.xsf\tfile_00060.xsf\tfile_00092.xsf\tfile_00124.xsf\tfile_00156.xsf\n",
      "file_00029.xsf\tfile_00061.xsf\tfile_00093.xsf\tfile_00125.xsf\tfile_00157.xsf\n",
      "file_00030.xsf\tfile_00062.xsf\tfile_00094.xsf\tfile_00126.xsf\tfile_00158.xsf\n",
      "file_00031.xsf\tfile_00063.xsf\tfile_00095.xsf\tfile_00127.xsf\tfile_00159.xsf\n"
     ]
    }
   ],
   "source": [
    "! cd ./additional_xsf/ && ls"
   ]
  },
  {
   "cell_type": "markdown",
   "id": "cfeeb430-3e29-47e0-9030-a00062a14e31",
   "metadata": {},
   "source": [
    "Their structures are perturbed from reference training data and their energy tags are given from the GPR predictions"
   ]
  },
  {
   "cell_type": "code",
   "execution_count": 29,
   "id": "9993a1c8-b75a-458e-8dd4-bf1f7b0e80b6",
   "metadata": {},
   "outputs": [
    {
     "name": "stdout",
     "output_type": "stream",
     "text": [
      "# total energy = -18640.4801071737128950 eV\n",
      "\n",
      "ATOMS\n",
      "O     9.94573790435563     6.40041923065285     12.24879328615273     1.01768145028536     2.68578622387475     -1.08647510013816\n",
      "O     8.58680000880612     5.23061864980926     13.45687049266574     -3.97502573074348     4.14157183034060     1.66341752037246\n",
      "O     9.91713772790959     4.15866486567703     12.22490196324355     -0.38752808258116     3.89012848197936     0.44633572373915\n",
      "C     9.31508566745945     7.38329547837776     13.00392957654479     -1.68606596533793     1.29300391863181     1.38709245941953\n",
      "C     7.97611449947838     6.65456646970219     13.53330026558744     3.71395455257712     -1.20501858488729     1.63427659454620\n",
      "C     9.53329326117151     5.32500784682828     12.56877026345161     2.23986390767276     -9.10190069901634     -1.30031140098853\n",
      "H     9.05245160890000     8.27696606392889     12.40329666175133     0.73685166679505     -0.56656355509793     0.12603201293771\n",
      "H     9.96752066261590     7.80347433192936     13.83753571754717     -0.51294215649990     -1.13262241635621     -0.70557482779285\n",
      "H     7.82851999424106     6.88670227256926     14.63938750932821     -0.09536620273286     -0.14850047283104     -1.72015823870379\n",
      "H     7.11263152146435     6.74655707474712     12.85845097025463     0.21063482495580     -0.47883596105958     -0.32660443411338\n",
      "O     4.87268634739804     2.45254523523496     13.43941342505389     0.83065505202420     0.89696170549008     0.63488510974066\n",
      "O     3.13734840389982     2.95340186361396     12.20315957808814     0.35233943926484     -1.62279210783469     -0.09885708423164\n",
      "O     3.99256986147171     0.71700156252636     12.11823220440100     0.00220312129422     8.77420193450321     3.00889844666987\n",
      "C     4.72025518003652     3.96134528447444     13.56489515595259     -0.43777115586932     -3.03408616445358     -0.06775823142903\n",
      "C     3.33650785103594     4.05105455841853     13.01542343284569     0.01903777479615     4.48910059520908     -3.55177888018025\n",
      "C     4.02604516104203     1.94564138351599     12.57372648265675     -0.78471729190795     -6.96083269952225     -2.78687169625453\n",
      "H     5.52833580747091     4.35620715701910     13.00436503524984     0.76655358139893     0.48291969744835     0.06662148478044\n",
      "H     4.76028937965247     4.19769305205087     14.60585702283950     0.46970547311172     0.30529889315125     1.01226865103450\n",
      "H     2.55626721877515     4.16330419445893     13.74357004147614     -0.82414176720612     0.08220639625344     0.97208705901964\n",
      "H     3.25705507281543     5.06787964446486     12.32101787490923     -0.36566983952304     -3.23894057226301     2.41116240900562\n"
     ]
    }
   ],
   "source": [
    "! cd ./additional_xsf/ && cat file_00015.xsf"
   ]
  },
  {
   "cell_type": "code",
   "execution_count": 30,
   "id": "b0217aee-9888-4f21-b185-1c8a2a27e7ac",
   "metadata": {},
   "outputs": [
    {
     "name": "stdout",
     "output_type": "stream",
     "text": [
      "# total energy = -18637.7619898261837079 eV\n",
      "\n",
      "ATOMS\n",
      "O     10.03732183225091     6.50001942834881     12.15470209195101     -4.38679963819773     -2.72101500647890     4.38098528856018\n",
      "O     8.44882375270741     5.33618632138110     13.46535871083996     -0.65855574699462     -0.49725496656970     1.52023320731432\n",
      "O     9.90209270678696     4.16148642966122     12.07692982765479     -2.14832044501880     2.70115244080070     3.74573584126111\n",
      "C     9.25405487214038     7.46751797674970     13.13224473968100     -1.71393157591529     -1.66890700589072     -5.25075346414871\n",
      "C     7.96367822829748     6.70036666594063     13.68234883030874     6.84813565105931     -1.03802164519063     -7.15169361165872\n",
      "C     9.48617332568135     5.17543600300886     12.69426426746814     2.82532181149958     1.26932607633226     -6.76945444334637\n",
      "H     9.03380714551799     8.26093233379832     12.38969966573350     0.38084179087494     0.51293247975449     0.60189231533274\n",
      "H     9.92565687809495     7.73481391451495     13.78416861441792     2.47442168180109     2.07447671789690     3.30412105995185\n",
      "H     7.92116709448544     6.82678608832475     14.56957288857762     -1.74339462906013     1.31508709852405     6.00030242999214\n",
      "H     7.19237431199621     6.87427974643291     13.02571518340664     -1.73646846890696     -0.03830604193850     -0.51449253297614\n",
      "O     4.94641534795711     2.44155718610142     13.39610781007869     0.00287232633285     1.31959125963159     0.32790861989184\n",
      "O     3.16532322909630     3.03728500676850     12.08566980476341     2.57568373128375     -3.70818505585838     0.45839982863380\n",
      "O     3.95806074458080     0.70299699505055     12.17522742500084     0.03284600812895     12.65260843034597     4.59207875735127\n",
      "C     4.70259672141009     3.89865165161825     13.55667850862643     2.11142283357762     -2.31357029556465     -2.03791918519498\n",
      "C     3.47251937749920     4.06745671493317     12.90921678242961     -7.48682468774762     2.73348062664422     2.69054870560588\n",
      "C     4.01444197999005     2.00245948449818     12.59135963403276     -1.36840662410913     -12.03119144827389     -6.26150726010385\n",
      "H     5.40961650413975     4.44724898523810     12.98500540082441     1.41249025469456     0.38311315801849     -0.39679499898208\n",
      "H     4.90193498851775     4.04459698521627     14.54032368719006     -0.08881582594740     0.92277411730026     2.89355243533945\n",
      "H     2.53595856578229     4.01258164998836     13.71606660595794     2.82195379141145     0.12522347281413     -1.77699465973645\n",
      "H     3.28700814306758     5.04196509242593     12.36459235105653     0.56043100759418     -1.06479096729835     0.42251293100166\n"
     ]
    }
   ],
   "source": [
    "! cd ./additional_xsf/ && cat file_00016.xsf"
   ]
  },
  {
   "cell_type": "code",
   "execution_count": null,
   "id": "8a64dafc-55c2-40d4-a9fa-2594c256dd71",
   "metadata": {},
   "outputs": [],
   "source": []
  },
  {
   "cell_type": "code",
   "execution_count": null,
   "id": "e25fa465-b406-4abf-a73f-4c6ce9820dec",
   "metadata": {},
   "outputs": [],
   "source": []
  }
 ],
 "metadata": {
  "kernelspec": {
   "display_name": "Python 3",
   "language": "python",
   "name": "python3"
  },
  "language_info": {
   "codemirror_mode": {
    "name": "ipython",
    "version": 3
   },
   "file_extension": ".py",
   "mimetype": "text/x-python",
   "name": "python",
   "nbconvert_exporter": "python",
   "pygments_lexer": "ipython3",
   "version": "3.12.7"
  }
 },
 "nbformat": 4,
 "nbformat_minor": 5
}
