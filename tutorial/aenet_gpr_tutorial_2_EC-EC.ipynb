{
 "cells": [
  {
   "cell_type": "code",
   "execution_count": 1,
   "id": "8d96e3d3-c936-471d-b313-33c36d0e742c",
   "metadata": {
    "tags": []
   },
   "outputs": [
    {
     "name": "stdout",
     "output_type": "stream",
     "text": [
      "successfully imported torch\n",
      "2.6.0+cu124\n"
     ]
    }
   ],
   "source": [
    "try:\n",
    "    import torch\n",
    "    print(\"successfully imported torch\")\n",
    "    print(torch.__version__)\n",
    "except ImportError:\n",
    "    !! pip install torch torchvision torchaudio --user --index-url https://download.pytorch.org/whl/cpu\n",
    "    print(\"completed installing torch\")"
   ]
  },
  {
   "cell_type": "code",
   "execution_count": 2,
   "id": "4a081492-ac80-4580-af26-d6ce28004bac",
   "metadata": {},
   "outputs": [
    {
     "name": "stdout",
     "output_type": "stream",
     "text": [
      "successfully imported numpy\n",
      "1.26.4\n"
     ]
    }
   ],
   "source": [
    "try:\n",
    "    import numpy as np\n",
    "    print(\"successfully imported numpy\")\n",
    "    print(np.__version__)\n",
    "except ImportError:\n",
    "    !! pip install numpy --user --upgrade\n",
    "    print(\"completed installing numpy\")"
   ]
  },
  {
   "cell_type": "code",
   "execution_count": 3,
   "id": "78af600e-1c02-4e34-bd05-0128b0588c1c",
   "metadata": {},
   "outputs": [
    {
     "name": "stdout",
     "output_type": "stream",
     "text": [
      "successfully imported matplotlib\n"
     ]
    }
   ],
   "source": [
    "try:\n",
    "    from matplotlib import pyplot as plt\n",
    "    print(\"successfully imported matplotlib\")\n",
    "except ImportError:\n",
    "    !! pip install matplotlib --user --upgrade\n",
    "    print(\"completed installing matplotlib\")"
   ]
  },
  {
   "cell_type": "code",
   "execution_count": 4,
   "id": "11e45431-8717-40ed-ba5a-348bdfe73539",
   "metadata": {},
   "outputs": [
    {
     "name": "stdout",
     "output_type": "stream",
     "text": [
      "completed installing aenet-gpr\n",
      "Name: aenet-gpr\n",
      "Version: 1.2.3\n",
      "Summary: Atomistic simulation tools based on Gaussian Processes Regression\n",
      "Home-page: https://github.com/atomisticnet/aenet-gpr\n",
      "Author: In Won Yeu\n",
      "Author-email: iy2185@columbia.edu\n",
      "License: MPL-2.0\n",
      "Location: /data/home/iy2185/.local/lib/python3.12/site-packages\n",
      "Requires: ase, dscribe\n",
      "Required-by: \n"
     ]
    }
   ],
   "source": [
    "!! pip install aenet-gpr --user --upgrade\n",
    "print(\"completed installing aenet-gpr\")\n",
    "\n",
    "! pip show aenet-gpr"
   ]
  },
  {
   "cell_type": "code",
   "execution_count": 5,
   "id": "ec916db8-cfb8-475d-8cef-55f74ff30cc3",
   "metadata": {},
   "outputs": [
    {
     "name": "stdout",
     "output_type": "stream",
     "text": [
      "1.2.3\n"
     ]
    }
   ],
   "source": [
    "import os, sys, site\n",
    "sys.path.append(site.USER_SITE)\n",
    "\n",
    "import aenet_gpr\n",
    "print(aenet_gpr.__version__)"
   ]
  },
  {
   "cell_type": "markdown",
   "id": "f9cfd82b-8f6c-48ec-9c57-54ea593bb81b",
   "metadata": {},
   "source": [
    "# 1. Prepare training/test data"
   ]
  },
  {
   "cell_type": "markdown",
   "id": "7e022168-4914-4b3a-87c4-b5de07a8b5f8",
   "metadata": {},
   "source": [
    "We are using train/test HSE06 data of EC dimer prepared in `aenet-gpr/example/2_EC-EC/`"
   ]
  },
  {
   "cell_type": "code",
   "execution_count": 6,
   "id": "d50bab63-a944-4fa9-b202-3deb00dcf64b",
   "metadata": {},
   "outputs": [
    {
     "name": "stdout",
     "output_type": "stream",
     "text": [
      "--2025-05-17 18:38:09--  https://github.com/atomisticnet/aenet-gpr/raw/refs/heads/main/example/2_EC-EC/train_set_tutorial.zip\n",
      "Resolving github.com (github.com)... 140.82.114.4\n",
      "Connecting to github.com (github.com)|140.82.114.4|:443... connected.\n",
      "HTTP request sent, awaiting response... 302 Found\n",
      "Location: https://raw.githubusercontent.com/atomisticnet/aenet-gpr/refs/heads/main/example/2_EC-EC/train_set_tutorial.zip [following]\n",
      "--2025-05-17 18:38:09--  https://raw.githubusercontent.com/atomisticnet/aenet-gpr/refs/heads/main/example/2_EC-EC/train_set_tutorial.zip\n",
      "Resolving raw.githubusercontent.com (raw.githubusercontent.com)... 185.199.111.133, 185.199.108.133, 185.199.109.133, ...\n",
      "Connecting to raw.githubusercontent.com (raw.githubusercontent.com)|185.199.111.133|:443... connected.\n",
      "HTTP request sent, awaiting response... 200 OK\n",
      "Length: 75781 (74K) [application/zip]\n",
      "Saving to: ‘train_set_tutorial.zip’\n",
      "\n",
      "train_set_tutorial. 100%[===================>]  74.00K  --.-KB/s    in 0.002s  \n",
      "\n",
      "2025-05-17 18:38:09 (36.0 MB/s) - ‘train_set_tutorial.zip’ saved [75781/75781]\n",
      "\n",
      "number of train data:\n",
      "60\n"
     ]
    }
   ],
   "source": [
    "import os.path\n",
    "\n",
    "! rm -rf 2_EC-EC\n",
    "! mkdir 2_EC-EC\n",
    "    \n",
    "if os.path.isfile(\"../example/2_EC-EC/train_set_tutorial.zip\"):\n",
    "    ! unzip -oq ../example/2_EC-EC/train_set_tutorial.zip -d ./2_EC-EC/\n",
    "    print(\"number of train data:\")\n",
    "    ! find ./2_EC-EC/train_set_tutorial/ -type f | wc -l\n",
    "else:\n",
    "    ! wget https://github.com/atomisticnet/aenet-gpr/raw/refs/heads/main/example/2_EC-EC/train_set_tutorial.zip\n",
    "    ! unzip -oq train_set_tutorial.zip -d ./2_EC-EC/\n",
    "    ! rm train_set_tutorial.zip\n",
    "    print(\"number of train data:\")\n",
    "    ! find ./2_EC-EC/train_set_tutorial/ -type f | wc -l"
   ]
  },
  {
   "cell_type": "code",
   "execution_count": 7,
   "id": "21ba107a-9e4c-44cd-82e4-d9d5cf97477b",
   "metadata": {},
   "outputs": [
    {
     "name": "stdout",
     "output_type": "stream",
     "text": [
      "--2025-05-17 18:38:31--  https://github.com/atomisticnet/aenet-gpr/raw/refs/heads/main/example/2_EC-EC/test_set_tutorial.zip\n",
      "Resolving github.com (github.com)... 140.82.114.4\n",
      "Connecting to github.com (github.com)|140.82.114.4|:443... connected.\n",
      "HTTP request sent, awaiting response... 302 Found\n",
      "Location: https://raw.githubusercontent.com/atomisticnet/aenet-gpr/refs/heads/main/example/2_EC-EC/test_set_tutorial.zip [following]\n",
      "--2025-05-17 18:38:31--  https://raw.githubusercontent.com/atomisticnet/aenet-gpr/refs/heads/main/example/2_EC-EC/test_set_tutorial.zip\n",
      "Resolving raw.githubusercontent.com (raw.githubusercontent.com)... 185.199.111.133, 185.199.108.133, 185.199.109.133, ...\n",
      "Connecting to raw.githubusercontent.com (raw.githubusercontent.com)|185.199.111.133|:443... connected.\n",
      "HTTP request sent, awaiting response... 200 OK\n",
      "Length: 111169 (109K) [application/zip]\n",
      "Saving to: ‘test_set_tutorial.zip’\n",
      "\n",
      "test_set_tutorial.z 100%[===================>] 108.56K  --.-KB/s    in 0.002s  \n",
      "\n",
      "2025-05-17 18:38:32 (52.5 MB/s) - ‘test_set_tutorial.zip’ saved [111169/111169]\n",
      "\n",
      "number of test data:\n",
      "120\n"
     ]
    }
   ],
   "source": [
    "if os.path.isfile(\"../example/2_EC-EC/test_set_tutorial.zip\"):\n",
    "    ! unzip -oq ../example/2_EC-EC/test_set_tutorial.zip -d ./2_EC-EC/\n",
    "    print(\"number of test data:\")\n",
    "    ! find ./2_EC-EC/test_set_tutorial/ -type f | wc -l\n",
    "else:\n",
    "    ! wget https://github.com/atomisticnet/aenet-gpr/raw/refs/heads/main/example/2_EC-EC/test_set_tutorial.zip\n",
    "    ! unzip -oq test_set_tutorial.zip -d ./2_EC-EC/\n",
    "    ! rm test_set_tutorial.zip\n",
    "    print(\"number of test data:\")\n",
    "    ! find ./2_EC-EC/test_set_tutorial/ -type f | wc -l"
   ]
  },
  {
   "cell_type": "markdown",
   "id": "fe4c1b49-fe17-4cd7-977f-d0adda2695aa",
   "metadata": {},
   "source": [
    "# 2-1. Train–Test with default kernel parameters (scale 0.4, weight 1.0)"
   ]
  },
  {
   "cell_type": "markdown",
   "id": "a04d4c0e-9b1b-4000-8032-935347c3b6ff",
   "metadata": {},
   "source": [
    "In addition to the reference data files, following configuration file `train.in` is all you need to run aenet-gpr. \n",
    "\n",
    "First, let us check the GPR evaluation error for test set with default kernel parameters."
   ]
  },
  {
   "cell_type": "code",
   "execution_count": 27,
   "id": "4c6c4ca7-409a-4087-b34b-07effd22dbb1",
   "metadata": {},
   "outputs": [
    {
     "name": "stdout",
     "output_type": "stream",
     "text": [
      "--2025-05-17 18:45:47--  https://github.com/atomisticnet/aenet-gpr/raw/refs/heads/main/example/2_EC-EC/train.in\n",
      "Resolving github.com (github.com)... 140.82.113.4\n",
      "Connecting to github.com (github.com)|140.82.113.4|:443... connected.\n",
      "HTTP request sent, awaiting response... 302 Found\n",
      "Location: https://raw.githubusercontent.com/atomisticnet/aenet-gpr/refs/heads/main/example/2_EC-EC/train.in [following]\n",
      "--2025-05-17 18:45:48--  https://raw.githubusercontent.com/atomisticnet/aenet-gpr/refs/heads/main/example/2_EC-EC/train.in\n",
      "Resolving raw.githubusercontent.com (raw.githubusercontent.com)... 185.199.111.133, 185.199.108.133, 185.199.109.133, ...\n",
      "Connecting to raw.githubusercontent.com (raw.githubusercontent.com)|185.199.111.133|:443... connected.\n",
      "HTTP request sent, awaiting response... 200 OK\n",
      "Length: 566 [text/plain]\n",
      "Saving to: ‘train.in’\n",
      "\n",
      "train.in            100%[===================>]     566  --.-KB/s    in 0s      \n",
      "\n",
      "2025-05-17 18:45:48 (10.4 MB/s) - ‘train.in’ saved [566/566]\n",
      "\n"
     ]
    }
   ],
   "source": [
    "! rm -f train.in\n",
    "\n",
    "if os.path.isfile(\"../example/2_EC-EC/train.in\"):\n",
    "    ! cp ../example/2_EC-EC/train.in .\n",
    "else:\n",
    "    ! wget https://github.com/atomisticnet/aenet-gpr/raw/refs/heads/main/example/2_EC-EC/train.in"
   ]
  },
  {
   "cell_type": "code",
   "execution_count": 28,
   "id": "c2cfe62e-dfd2-4b54-83c1-a6e50bc247d3",
   "metadata": {},
   "outputs": [
    {
     "name": "stdout",
     "output_type": "stream",
     "text": [
      "# File path\n",
      "Train_file ./2_EC-EC/train_set_tutorial/file_*.xsf\n",
      "Test_file ./2_EC-EC/test_set_tutorial/file_*.xsf\n",
      "\n",
      "# Train model save (default: False)\n",
      "# Train_model_save True\n",
      "\n",
      "# File format (default: xsf)\n",
      "File_format xsf\n",
      "\n",
      "# Descriptor (default: cartesian coordinates)\n",
      "Descriptor cart\n",
      "\n",
      "# Kernel parameter\n",
      "# scale 1.5\n",
      "# weight 1.0\n",
      "\n",
      "# Data process (default: batch, 25)\n",
      "data_process batch\n",
      "batch_size 25\n",
      "\n",
      "# Flags for xsf file writing (default: False)\n",
      "Train_write False\n",
      "Test_write False\n",
      "# Additional_write True\n",
      "\n",
      "# Data augmentation parameter\n",
      "# Disp_length 0.05\n",
      "# Num_copy 3\n"
     ]
    }
   ],
   "source": [
    "! cat train.in"
   ]
  },
  {
   "cell_type": "code",
   "execution_count": 29,
   "id": "118f1319-3dd3-482f-81ee-b0f80918bdf3",
   "metadata": {
    "tags": []
   },
   "outputs": [
    {
     "name": "stdout",
     "output_type": "stream",
     "text": [
      "======================================================================\n",
      "aenet-GPR: surrogate GPR for GPR-ANN indirect force training\n",
      "======================================================================\n",
      "\n",
      "2025-05-17 18:45:54.\n",
      "\n",
      "Developed by In Won Yeu\n",
      "\n",
      "This program performs three main steps:\n",
      "1. Train: Generates a GPR model using the provided structure, energy, and force data.\n",
      "2. Test: Uses the generated GPR model to predict values for the test set structures.\n",
      "3. Augmentation: Performs data augmentation in xsf file format, compatible with aenet-(PyTorch),\n",
      "supporting a GPR-ANN training in conjunction with aenet-(PyTorch).\n",
      "\n",
      "Each of these steps is executed once the input file (train.in) contains the keywords:\n",
      "Train_file [train file path]\n",
      "Test_file [test file path]\n",
      "Additional_write [True]\n",
      "\n",
      "\n",
      "======================================================================\n",
      "Train\n",
      "======================================================================\n",
      "\n",
      "Read reference training data\n",
      "\n",
      "Time needed for reading data:            0.045355 s\n",
      "Maximum CPU memory used:             0.537483 GB\n",
      "Maximum GPU memory used:             0.000000 GB\n",
      "Energy data size: (60,)  # (N_data, )\n",
      "Force data size: (60, 20, 3)  # (N_data, N_atom, 3)\n",
      "----------------------------------------------------------------------\n",
      "----------------------------------------------------------------------\n",
      "Model train\n",
      "\n",
      "Training parameters\n",
      "{'num_data': 60, 'calculator': {'kerneltype': 'sqexp', 'scale': tensor(0.4000, dtype=torch.float64), 'weight': tensor(1., dtype=torch.float64), 'noise': tensor(1.0000e-06, dtype=torch.float64), 'noisefactor': tensor(0.5000, dtype=torch.float64)}, 'fix_ind': None, 'pbc': False, 'species': ['O', 'O', 'O', 'C', 'C', 'C', 'H', 'H', 'H', 'H', 'O', 'O', 'O', 'C', 'C', 'C', 'H', 'H', 'H', 'H'], 'num_atom': 20}\n",
      "\n",
      "Time needed for training:            0.597104 s\n",
      "Maximum CPU memory used:             0.872204 GB\n",
      "Maximum GPU memory used:             0.000000 GB\n",
      "----------------------------------------------------------------------\n",
      "======================================================================\n",
      "Test\n",
      "======================================================================\n",
      "\n",
      "Read reference test data\n",
      "\n",
      "Time needed for reading data:            0.075477 s\n",
      "Maximum CPU memory used:             0.872204 GB\n",
      "Maximum GPU memory used:             0.000000 GB\n",
      "Energy data size: (120,)  # (N_data, )\n",
      "Force data size: (120, 20, 3)  # (N_data, N_atom, 3)\n",
      "----------------------------------------------------------------------\n",
      "----------------------------------------------------------------------\n",
      "Model evaluation for test set\n",
      "\n",
      "Test parameters\n",
      "{'num_data': 120, 'calculator': {'kerneltype': 'sqexp', 'scale': tensor(0.4000, dtype=torch.float64), 'weight': tensor(1., dtype=torch.float64), 'noise': tensor(1.0000e-06, dtype=torch.float64), 'noisefactor': tensor(0.5000, dtype=torch.float64)}, 'fix_ind': None, 'pbc': False, 'species': ['O', 'O', 'O', 'C', 'C', 'C', 'H', 'H', 'H', 'H', 'O', 'O', 'O', 'C', 'C', 'C', 'H', 'H', 'H', 'H'], 'num_atom': 20}\n",
      "\n",
      "Time needed for test evaluation:            3.482984 s\n",
      "Maximum CPU memory used:             1.118462 GB\n",
      "Maximum GPU memory used:             0.000000 GB\n",
      "----------------------------------------------------------------------\n",
      "GPR energy MAE (eV): 0.25145858160961626\n",
      "GPR force MAE (eV/Ang): 0.9614561856221153\n",
      "GPR uncertainty mean ± std: 0.0963567411656289 ± 0.015444710261207785\n",
      "\n",
      "Saving test target to [energy_test_reference.npy] and [force_test_reference.npy]\n",
      "Saving GPR prediction to [energy_test_gpr.npy], [force_test_gpr.npy], and [uncertainty_test_gpr.npy]\n",
      "\n",
      "\n",
      "\u001b[0m"
     ]
    }
   ],
   "source": [
    "! python -m aenet_gpr train.in"
   ]
  },
  {
   "cell_type": "markdown",
   "id": "2fb02d1f-c950-4398-9c38-72f9c28e41fe",
   "metadata": {},
   "source": [
    "# 2-2. Visualize the results"
   ]
  },
  {
   "cell_type": "code",
   "execution_count": 30,
   "id": "1ee4c198-7a79-4be9-b721-4f0c77bff44d",
   "metadata": {},
   "outputs": [],
   "source": [
    "energy_test_gpr = np.load(\"./energy_test_gpr.npy\")\n",
    "energy_test_reference = np.load(\"./energy_test_reference.npy\")\n",
    "force_test_gpr = np.load(\"./force_test_gpr.npy\")\n",
    "force_test_reference = np.load(\"./force_test_reference.npy\")\n",
    "uncertainty_test_gpr = np.load(\"./uncertainty_test_gpr.npy\")"
   ]
  },
  {
   "cell_type": "code",
   "execution_count": 31,
   "id": "37a5ba8f-5a73-4a70-9ec2-fc5c44ee8abc",
   "metadata": {},
   "outputs": [
    {
     "name": "stdout",
     "output_type": "stream",
     "text": [
      "0.00491100862964231 0.02302288273258455\n"
     ]
    }
   ],
   "source": [
    "diff_per_atom = (energy_test_reference - energy_test_gpr) / 20\n",
    "\n",
    "print(diff_per_atom.min(), diff_per_atom.max())"
   ]
  },
  {
   "cell_type": "code",
   "execution_count": 32,
   "id": "52e3b71a-80f8-404b-89f8-cbdd87e3c73e",
   "metadata": {},
   "outputs": [
    {
     "data": {
      "image/png": "[encoded data removed]",
      "text/plain": [
       "<Figure size 700x600 with 1 Axes>"
      ]
     },
     "metadata": {},
     "output_type": "display_data"
    }
   ],
   "source": [
    "fig = plt.figure(figsize=(7, 6))\n",
    "ax2 = fig.subplots()\n",
    "\n",
    "font_x = {'size': 20, 'color': 'black'}\n",
    "font_y = {'size': 20, 'color': 'black'}\n",
    "font_tick = {'size': 16, 'color': 'black'}\n",
    "\n",
    "\n",
    "# The second plot\n",
    "counts, bins = np.histogram(diff_per_atom, bins=30, range=(-0.005, 0.05))\n",
    "\n",
    "ax2.hist(bins[:-1], bins, weights=counts, facecolor='dimgray', alpha=1.0, edgecolor='black')\n",
    "\n",
    "ax2.set_xlabel(\"DFT $-$ GPR (eV/atom)\", fontdict=font_x)\n",
    "ax2.set_xlim([-0.005, 0.05])\n",
    "x_labels = [round(label, 2) for label in ax2.get_xticks()]\n",
    "ax2.set_xticks(x_labels)\n",
    "ax2.set_xlim([-0.005, 0.05])\n",
    "ax2.set_xticklabels(x_labels, fontdict=font_tick)\n",
    "\n",
    "ax2.set_ylabel(\"Number of structures\", fontdict=font_y)\n",
    "ax2.set_ylim([0, 30])\n",
    "y_labels = [int(label) for label in ax2.get_yticks()]\n",
    "ax2.set_yticks(y_labels)\n",
    "ax2.set_ylim([0, 30])\n",
    "ax2.set_yticklabels(y_labels, fontdict=font_tick)\n",
    "\n",
    "[x.set_linewidth(1.5) for x in ax2.spines.values()]\n",
    "ax2.tick_params(bottom=False, top=True, left=True, right=True)\n",
    "ax2.tick_params(labelbottom=True, labeltop=False, labelleft=True, labelright=False)\n",
    "ax2.tick_params(direction='in', length=8, width=1.5)\n",
    "\n",
    "ax2.grid(True, which='both', linestyle=':', linewidth=0.7, alpha=0.7)\n",
    "\n",
    "fig.tight_layout()\n",
    "plt.show()"
   ]
  },
  {
   "cell_type": "markdown",
   "id": "e67add88-6113-4def-b711-d65802a31ffe",
   "metadata": {},
   "source": [
    "# 3-1. Train–Test (scale 1.5, weight 1.0)"
   ]
  },
  {
   "cell_type": "markdown",
   "id": "e0e3850f-2630-404b-9e62-5c7b67d6363b",
   "metadata": {},
   "source": [
    "Since, the constructed GPR with default parameters underestimates energy, let us change the parameters."
   ]
  },
  {
   "cell_type": "code",
   "execution_count": 33,
   "id": "77c3e93b-606c-4e33-9246-2c63f582feef",
   "metadata": {},
   "outputs": [],
   "source": [
    "! sed -i '15s|.*|scale 1.5|' train.in"
   ]
  },
  {
   "cell_type": "code",
   "execution_count": 34,
   "id": "0a99ed8c-bb96-4051-afdc-40c41de72fa6",
   "metadata": {},
   "outputs": [
    {
     "name": "stdout",
     "output_type": "stream",
     "text": [
      "# File path\n",
      "Train_file ./2_EC-EC/train_set_tutorial/file_*.xsf\n",
      "Test_file ./2_EC-EC/test_set_tutorial/file_*.xsf\n",
      "\n",
      "# Train model save (default: False)\n",
      "# Train_model_save True\n",
      "\n",
      "# File format (default: xsf)\n",
      "File_format xsf\n",
      "\n",
      "# Descriptor (default: cartesian coordinates)\n",
      "Descriptor cart\n",
      "\n",
      "# Kernel parameter\n",
      "scale 1.5\n",
      "# weight 1.0\n",
      "\n",
      "# Data process (default: batch, 25)\n",
      "data_process batch\n",
      "batch_size 25\n",
      "\n",
      "# Flags for xsf file writing (default: False)\n",
      "Train_write False\n",
      "Test_write False\n",
      "# Additional_write True\n",
      "\n",
      "# Data augmentation parameter\n",
      "# Disp_length 0.05\n",
      "# Num_copy 3\n"
     ]
    }
   ],
   "source": [
    "! cat train.in"
   ]
  },
  {
   "cell_type": "code",
   "execution_count": 35,
   "id": "b3356d46-d061-4049-8ef6-c42e7dba7a52",
   "metadata": {},
   "outputs": [
    {
     "name": "stdout",
     "output_type": "stream",
     "text": [
      "======================================================================\n",
      "aenet-GPR: surrogate GPR for GPR-ANN indirect force training\n",
      "======================================================================\n",
      "\n",
      "2025-05-17 18:46:37.\n",
      "\n",
      "Developed by In Won Yeu\n",
      "\n",
      "This program performs three main steps:\n",
      "1. Train: Generates a GPR model using the provided structure, energy, and force data.\n",
      "2. Test: Uses the generated GPR model to predict values for the test set structures.\n",
      "3. Augmentation: Performs data augmentation in xsf file format, compatible with aenet-(PyTorch),\n",
      "supporting a GPR-ANN training in conjunction with aenet-(PyTorch).\n",
      "\n",
      "Each of these steps is executed once the input file (train.in) contains the keywords:\n",
      "Train_file [train file path]\n",
      "Test_file [test file path]\n",
      "Additional_write [True]\n",
      "\n",
      "\n",
      "======================================================================\n",
      "Train\n",
      "======================================================================\n",
      "\n",
      "Read reference training data\n",
      "\n",
      "Time needed for reading data:            0.043223 s\n",
      "Maximum CPU memory used:             0.537327 GB\n",
      "Maximum GPU memory used:             0.000000 GB\n",
      "Energy data size: (60,)  # (N_data, )\n",
      "Force data size: (60, 20, 3)  # (N_data, N_atom, 3)\n",
      "----------------------------------------------------------------------\n",
      "----------------------------------------------------------------------\n",
      "Model train\n",
      "\n",
      "Training parameters\n",
      "{'num_data': 60, 'calculator': {'kerneltype': 'sqexp', 'scale': tensor(1.5000, dtype=torch.float64), 'weight': tensor(1., dtype=torch.float64), 'noise': tensor(1.0000e-06, dtype=torch.float64), 'noisefactor': tensor(0.5000, dtype=torch.float64)}, 'fix_ind': None, 'pbc': False, 'species': ['O', 'O', 'O', 'C', 'C', 'C', 'H', 'H', 'H', 'H', 'O', 'O', 'O', 'C', 'C', 'C', 'H', 'H', 'H', 'H'], 'num_atom': 20}\n",
      "\n",
      "Time needed for training:            0.673614 s\n",
      "Maximum CPU memory used:             0.872696 GB\n",
      "Maximum GPU memory used:             0.000000 GB\n",
      "----------------------------------------------------------------------\n",
      "======================================================================\n",
      "Test\n",
      "======================================================================\n",
      "\n",
      "Read reference test data\n",
      "\n",
      "Time needed for reading data:            0.078365 s\n",
      "Maximum CPU memory used:             0.872696 GB\n",
      "Maximum GPU memory used:             0.000000 GB\n",
      "Energy data size: (120,)  # (N_data, )\n",
      "Force data size: (120, 20, 3)  # (N_data, N_atom, 3)\n",
      "----------------------------------------------------------------------\n",
      "----------------------------------------------------------------------\n",
      "Model evaluation for test set\n",
      "\n",
      "Test parameters\n",
      "{'num_data': 120, 'calculator': {'kerneltype': 'sqexp', 'scale': tensor(1.5000, dtype=torch.float64), 'weight': tensor(1., dtype=torch.float64), 'noise': tensor(1.0000e-06, dtype=torch.float64), 'noisefactor': tensor(0.5000, dtype=torch.float64)}, 'fix_ind': None, 'pbc': False, 'species': ['O', 'O', 'O', 'C', 'C', 'C', 'H', 'H', 'H', 'H', 'O', 'O', 'O', 'C', 'C', 'C', 'H', 'H', 'H', 'H'], 'num_atom': 20}\n",
      "\n",
      "Time needed for test evaluation:            4.266625 s\n",
      "Maximum CPU memory used:             1.138672 GB\n",
      "Maximum GPU memory used:             0.000000 GB\n",
      "----------------------------------------------------------------------\n",
      "GPR energy MAE (eV): 0.10731098798257031\n",
      "GPR force MAE (eV/Ang): 0.9970541676692107\n",
      "GPR uncertainty mean ± std: 0.0027707228604384507 ± 0.0006742473662088462\n",
      "\n",
      "Saving test target to [energy_test_reference.npy] and [force_test_reference.npy]\n",
      "Saving GPR prediction to [energy_test_gpr.npy], [force_test_gpr.npy], and [uncertainty_test_gpr.npy]\n",
      "\n",
      "\n",
      "\u001b[0m"
     ]
    }
   ],
   "source": [
    "! python -m aenet_gpr train.in"
   ]
  },
  {
   "cell_type": "markdown",
   "id": "c1d8cfaf-3d40-498b-bacb-08642fb6c7a3",
   "metadata": {},
   "source": [
    "By changing the scale parameter from 0.4 to 1.5, \n",
    "\n",
    " - total energy error is reduced from 0.25 eV to 0.11 eV\n",
    " - uncertainty estimate is reduced from 0.096 to 0.003"
   ]
  },
  {
   "cell_type": "markdown",
   "id": "664827ec-be36-433c-b60e-cbe178c4c73f",
   "metadata": {},
   "source": [
    "# 3-2. Visualize the test results"
   ]
  },
  {
   "cell_type": "code",
   "execution_count": 36,
   "id": "f740063d-c259-4d45-9584-ee43bb4b6738",
   "metadata": {},
   "outputs": [],
   "source": [
    "energy_test_gpr = np.load(\"./energy_test_gpr.npy\")\n",
    "energy_test_reference = np.load(\"./energy_test_reference.npy\")\n",
    "force_test_gpr = np.load(\"./force_test_gpr.npy\")\n",
    "force_test_reference = np.load(\"./force_test_reference.npy\")\n",
    "uncertainty_test_gpr = np.load(\"./uncertainty_test_gpr.npy\")"
   ]
  },
  {
   "cell_type": "code",
   "execution_count": 37,
   "id": "50cee3ea-4c75-4e67-ba6f-a295fe70cbff",
   "metadata": {},
   "outputs": [
    {
     "name": "stdout",
     "output_type": "stream",
     "text": [
      "-0.0011907072954272734 0.014139251758570026\n"
     ]
    }
   ],
   "source": [
    "diff_per_atom = (energy_test_reference - energy_test_gpr) / 20\n",
    "\n",
    "print(diff_per_atom.min(), diff_per_atom.max())"
   ]
  },
  {
   "cell_type": "code",
   "execution_count": 38,
   "id": "3e02010a-d108-43d0-845a-02d437627df2",
   "metadata": {},
   "outputs": [
    {
     "data": {
      "image/png": "[encoded data removed]",
      "text/plain": [
       "<Figure size 700x600 with 1 Axes>"
      ]
     },
     "metadata": {},
     "output_type": "display_data"
    }
   ],
   "source": [
    "fig = plt.figure(figsize=(7, 6))\n",
    "ax2 = fig.subplots()\n",
    "\n",
    "font_x = {'size': 20, 'color': 'black'}\n",
    "font_y = {'size': 20, 'color': 'black'}\n",
    "font_tick = {'size': 16, 'color': 'black'}\n",
    "\n",
    "\n",
    "# The second plot\n",
    "counts, bins = np.histogram(diff_per_atom, bins=30, range=(-0.005, 0.05))\n",
    "\n",
    "ax2.hist(bins[:-1], bins, weights=counts, facecolor='dimgray', alpha=1.0, edgecolor='black')\n",
    "\n",
    "ax2.set_xlabel(\"DFT $-$ GPR (eV/atom)\", fontdict=font_x)\n",
    "ax2.set_xlim([-0.005, 0.05])\n",
    "x_labels = [round(label, 2) for label in ax2.get_xticks()]\n",
    "ax2.set_xticks(x_labels)\n",
    "ax2.set_xlim([-0.005, 0.05])\n",
    "ax2.set_xticklabels(x_labels, fontdict=font_tick)\n",
    "\n",
    "ax2.set_ylabel(\"Number of structures\", fontdict=font_y)\n",
    "ax2.set_ylim([0, 30])\n",
    "y_labels = [int(label) for label in ax2.get_yticks()]\n",
    "ax2.set_yticks(y_labels)\n",
    "ax2.set_ylim([0, 30])\n",
    "ax2.set_yticklabels(y_labels, fontdict=font_tick)\n",
    "\n",
    "[x.set_linewidth(1.5) for x in ax2.spines.values()]\n",
    "ax2.tick_params(bottom=False, top=True, left=True, right=True)\n",
    "ax2.tick_params(labelbottom=True, labeltop=False, labelleft=True, labelright=False)\n",
    "ax2.tick_params(direction='in', length=8, width=1.5)\n",
    "\n",
    "ax2.grid(True, which='both', linestyle=':', linewidth=0.7, alpha=0.7)\n",
    "\n",
    "fig.tight_layout()\n",
    "plt.show()"
   ]
  },
  {
   "cell_type": "markdown",
   "id": "135c93bb-e528-47b0-9a57-8a4dff184882",
   "metadata": {},
   "source": [
    "# 4. Augment"
   ]
  },
  {
   "cell_type": "markdown",
   "id": "4fc65d7e-595d-4e64-a922-abe7ac22b69c",
   "metadata": {},
   "source": [
    "So, using these parameters, augment step will be executed."
   ]
  },
  {
   "cell_type": "code",
   "execution_count": 39,
   "id": "3d11504f-9873-47d2-b4e5-dec94315ea98",
   "metadata": {},
   "outputs": [],
   "source": [
    "! sed -i '3s|.*|# Test_file ./2_EC-EC/test_set_tutorial/file_*.xsf|' train.in\n",
    "! sed -i '25s|.*|Additional_write True|' train.in\n",
    "! sed -i '28s|.*|Disp_length 0.05|' train.in\n",
    "! sed -i '29s|.*|Num_copy 3|' train.in"
   ]
  },
  {
   "cell_type": "code",
   "execution_count": 40,
   "id": "0f54fd0b-caed-46bd-9c8f-7a421e38cc8b",
   "metadata": {},
   "outputs": [
    {
     "name": "stdout",
     "output_type": "stream",
     "text": [
      "# File path\n",
      "Train_file ./2_EC-EC/train_set_tutorial/file_*.xsf\n",
      "# Test_file ./2_EC-EC/test_set_tutorial/file_*.xsf\n",
      "\n",
      "# Train model save (default: False)\n",
      "# Train_model_save True\n",
      "\n",
      "# File format (default: xsf)\n",
      "File_format xsf\n",
      "\n",
      "# Descriptor (default: cartesian coordinates)\n",
      "Descriptor cart\n",
      "\n",
      "# Kernel parameter\n",
      "scale 1.5\n",
      "# weight 1.0\n",
      "\n",
      "# Data process (default: batch, 25)\n",
      "data_process batch\n",
      "batch_size 25\n",
      "\n",
      "# Flags for xsf file writing (default: False)\n",
      "Train_write False\n",
      "Test_write False\n",
      "Additional_write True\n",
      "\n",
      "# Data augmentation parameter\n",
      "Disp_length 0.05\n",
      "Num_copy 3\n"
     ]
    }
   ],
   "source": [
    "! cat train.in"
   ]
  },
  {
   "cell_type": "code",
   "execution_count": 41,
   "id": "54ca7ab0-7e78-4755-b316-1bd54c9faf4d",
   "metadata": {},
   "outputs": [
    {
     "name": "stdout",
     "output_type": "stream",
     "text": [
      "======================================================================\n",
      "aenet-GPR: surrogate GPR for GPR-ANN indirect force training\n",
      "======================================================================\n",
      "\n",
      "2025-05-17 18:47:18.\n",
      "\n",
      "Developed by In Won Yeu\n",
      "\n",
      "This program performs three main steps:\n",
      "1. Train: Generates a GPR model using the provided structure, energy, and force data.\n",
      "2. Test: Uses the generated GPR model to predict values for the test set structures.\n",
      "3. Augmentation: Performs data augmentation in xsf file format, compatible with aenet-(PyTorch),\n",
      "supporting a GPR-ANN training in conjunction with aenet-(PyTorch).\n",
      "\n",
      "Each of these steps is executed once the input file (train.in) contains the keywords:\n",
      "Train_file [train file path]\n",
      "Test_file [test file path]\n",
      "Additional_write [True]\n",
      "\n",
      "\n",
      "======================================================================\n",
      "Train\n",
      "======================================================================\n",
      "\n",
      "Read reference training data\n",
      "\n",
      "Time needed for reading data:            0.025700 s\n",
      "Maximum CPU memory used:             0.538158 GB\n",
      "Maximum GPU memory used:             0.000000 GB\n",
      "Energy data size: (60,)  # (N_data, )\n",
      "Force data size: (60, 20, 3)  # (N_data, N_atom, 3)\n",
      "----------------------------------------------------------------------\n",
      "----------------------------------------------------------------------\n",
      "Model train\n",
      "\n",
      "Training parameters\n",
      "{'num_data': 60, 'calculator': {'kerneltype': 'sqexp', 'scale': tensor(1.5000, dtype=torch.float64), 'weight': tensor(1., dtype=torch.float64), 'noise': tensor(1.0000e-06, dtype=torch.float64), 'noisefactor': tensor(0.5000, dtype=torch.float64)}, 'fix_ind': None, 'pbc': False, 'species': ['O', 'O', 'O', 'C', 'C', 'C', 'H', 'H', 'H', 'H', 'O', 'O', 'O', 'C', 'C', 'C', 'H', 'H', 'H', 'H'], 'num_atom': 20}\n",
      "\n",
      "Time needed for training:            0.669673 s\n",
      "Maximum CPU memory used:             0.872757 GB\n",
      "Maximum GPU memory used:             0.000000 GB\n",
      "----------------------------------------------------------------------\n",
      "======================================================================\n",
      "Augmentation\n",
      "======================================================================\n",
      "----------------------------------------------------------------------\n",
      "Additional structure generation\n",
      "\n",
      "Time needed for additional generation:            0.041265 s\n",
      "Maximum CPU memory used:             0.872757 GB\n",
      "Maximum GPU memory used:             0.000000 GB\n",
      "Displacement length (Ang): 0.05\n",
      "Multiple: 3\n",
      "N_additional = N_reference (60) * Multiple (3) = 180\n",
      "----------------------------------------------------------------------\n",
      "----------------------------------------------------------------------\n",
      "Model evaluation for additional set\n",
      "\n",
      "Test parameters\n",
      "{'num_data': 180, 'calculator': {'kerneltype': 'sqexp', 'scale': tensor(1.5000, dtype=torch.float64), 'weight': tensor(1., dtype=torch.float64), 'noise': tensor(1.0000e-06, dtype=torch.float64), 'noisefactor': tensor(0.5000, dtype=torch.float64)}, 'fix_ind': None, 'pbc': False, 'species': ['O', 'O', 'O', 'C', 'C', 'C', 'H', 'H', 'H', 'H', 'O', 'O', 'O', 'C', 'C', 'C', 'H', 'H', 'H', 'H'], 'num_atom': 20}\n",
      "\n",
      "Time needed for additional evaluation:            6.076384 s\n",
      "Maximum CPU memory used:             1.123085 GB\n",
      "Maximum GPU memory used:             0.000000 GB\n",
      "----------------------------------------------------------------------\n",
      "\n",
      "Saving GPR prediction to [energy_additional_gpr.npy], [force_additional_gpr.npy], and [uncertainty_additional_gpr.npy]\n",
      "======================================================================\n",
      "Writing additional xsf files to additional_xsf\n",
      "\n",
      "Time needed for writing xsf files:            2.261588 s\n",
      "Maximum CPU memory used:             1.123085 GB\n",
      "Maximum GPU memory used:             0.000000 GB\n",
      "======================================================================\n",
      "\u001b[0m"
     ]
    }
   ],
   "source": [
    "! rm -rf additional_xsf/\n",
    "! python -m aenet_gpr train.in"
   ]
  },
  {
   "cell_type": "markdown",
   "id": "05a6aa76-121e-4400-bee1-db4b336403b5",
   "metadata": {},
   "source": [
    "Now, 180 new data have been augmented"
   ]
  },
  {
   "cell_type": "code",
   "execution_count": 42,
   "id": "f387f337-01ba-43c7-8a07-77ee732d6f06",
   "metadata": {},
   "outputs": [
    {
     "name": "stdout",
     "output_type": "stream",
     "text": [
      "file_00000.xsf\tfile_00036.xsf\tfile_00072.xsf\tfile_00108.xsf\tfile_00144.xsf\n",
      "file_00001.xsf\tfile_00037.xsf\tfile_00073.xsf\tfile_00109.xsf\tfile_00145.xsf\n",
      "file_00002.xsf\tfile_00038.xsf\tfile_00074.xsf\tfile_00110.xsf\tfile_00146.xsf\n",
      "file_00003.xsf\tfile_00039.xsf\tfile_00075.xsf\tfile_00111.xsf\tfile_00147.xsf\n",
      "file_00004.xsf\tfile_00040.xsf\tfile_00076.xsf\tfile_00112.xsf\tfile_00148.xsf\n",
      "file_00005.xsf\tfile_00041.xsf\tfile_00077.xsf\tfile_00113.xsf\tfile_00149.xsf\n",
      "file_00006.xsf\tfile_00042.xsf\tfile_00078.xsf\tfile_00114.xsf\tfile_00150.xsf\n",
      "file_00007.xsf\tfile_00043.xsf\tfile_00079.xsf\tfile_00115.xsf\tfile_00151.xsf\n",
      "file_00008.xsf\tfile_00044.xsf\tfile_00080.xsf\tfile_00116.xsf\tfile_00152.xsf\n",
      "file_00009.xsf\tfile_00045.xsf\tfile_00081.xsf\tfile_00117.xsf\tfile_00153.xsf\n",
      "file_00010.xsf\tfile_00046.xsf\tfile_00082.xsf\tfile_00118.xsf\tfile_00154.xsf\n",
      "file_00011.xsf\tfile_00047.xsf\tfile_00083.xsf\tfile_00119.xsf\tfile_00155.xsf\n",
      "file_00012.xsf\tfile_00048.xsf\tfile_00084.xsf\tfile_00120.xsf\tfile_00156.xsf\n",
      "file_00013.xsf\tfile_00049.xsf\tfile_00085.xsf\tfile_00121.xsf\tfile_00157.xsf\n",
      "file_00014.xsf\tfile_00050.xsf\tfile_00086.xsf\tfile_00122.xsf\tfile_00158.xsf\n",
      "file_00015.xsf\tfile_00051.xsf\tfile_00087.xsf\tfile_00123.xsf\tfile_00159.xsf\n",
      "file_00016.xsf\tfile_00052.xsf\tfile_00088.xsf\tfile_00124.xsf\tfile_00160.xsf\n",
      "file_00017.xsf\tfile_00053.xsf\tfile_00089.xsf\tfile_00125.xsf\tfile_00161.xsf\n",
      "file_00018.xsf\tfile_00054.xsf\tfile_00090.xsf\tfile_00126.xsf\tfile_00162.xsf\n",
      "file_00019.xsf\tfile_00055.xsf\tfile_00091.xsf\tfile_00127.xsf\tfile_00163.xsf\n",
      "file_00020.xsf\tfile_00056.xsf\tfile_00092.xsf\tfile_00128.xsf\tfile_00164.xsf\n",
      "file_00021.xsf\tfile_00057.xsf\tfile_00093.xsf\tfile_00129.xsf\tfile_00165.xsf\n",
      "file_00022.xsf\tfile_00058.xsf\tfile_00094.xsf\tfile_00130.xsf\tfile_00166.xsf\n",
      "file_00023.xsf\tfile_00059.xsf\tfile_00095.xsf\tfile_00131.xsf\tfile_00167.xsf\n",
      "file_00024.xsf\tfile_00060.xsf\tfile_00096.xsf\tfile_00132.xsf\tfile_00168.xsf\n",
      "file_00025.xsf\tfile_00061.xsf\tfile_00097.xsf\tfile_00133.xsf\tfile_00169.xsf\n",
      "file_00026.xsf\tfile_00062.xsf\tfile_00098.xsf\tfile_00134.xsf\tfile_00170.xsf\n",
      "file_00027.xsf\tfile_00063.xsf\tfile_00099.xsf\tfile_00135.xsf\tfile_00171.xsf\n",
      "file_00028.xsf\tfile_00064.xsf\tfile_00100.xsf\tfile_00136.xsf\tfile_00172.xsf\n",
      "file_00029.xsf\tfile_00065.xsf\tfile_00101.xsf\tfile_00137.xsf\tfile_00173.xsf\n",
      "file_00030.xsf\tfile_00066.xsf\tfile_00102.xsf\tfile_00138.xsf\tfile_00174.xsf\n",
      "file_00031.xsf\tfile_00067.xsf\tfile_00103.xsf\tfile_00139.xsf\tfile_00175.xsf\n",
      "file_00032.xsf\tfile_00068.xsf\tfile_00104.xsf\tfile_00140.xsf\tfile_00176.xsf\n",
      "file_00033.xsf\tfile_00069.xsf\tfile_00105.xsf\tfile_00141.xsf\tfile_00177.xsf\n",
      "file_00034.xsf\tfile_00070.xsf\tfile_00106.xsf\tfile_00142.xsf\tfile_00178.xsf\n",
      "file_00035.xsf\tfile_00071.xsf\tfile_00107.xsf\tfile_00143.xsf\tfile_00179.xsf\n"
     ]
    }
   ],
   "source": [
    "! cd ./additional_xsf/ && ls"
   ]
  },
  {
   "cell_type": "markdown",
   "id": "cfeeb430-3e29-47e0-9030-a00062a14e31",
   "metadata": {},
   "source": [
    "Their structures are perturbed from reference training data and their energy tags are given from the GPR predictions"
   ]
  },
  {
   "cell_type": "code",
   "execution_count": 43,
   "id": "9993a1c8-b75a-458e-8dd4-bf1f7b0e80b6",
   "metadata": {},
   "outputs": [
    {
     "name": "stdout",
     "output_type": "stream",
     "text": [
      "# total energy = -18639.4891900976654142 eV\n",
      "\n",
      "ATOMS\n",
      "O     9.93108889549001     6.44130112668355     12.33681285037995     0.05676017049180     1.80977766305050     -2.23306445974424\n",
      "O     8.42072840876676     5.41525646857995     13.48843918040300     1.27734239804688     -3.66104269516853     -2.12379986879654\n",
      "O     9.98014674427225     4.11614897375455     12.21148494704521     -5.08939876290929     7.97985216253553     1.84009464855702\n",
      "C     9.23413342099735     7.53865286527566     13.02302400535782     0.01207211163906     -2.38028121756433     2.00987011501185\n",
      "C     8.00182277294078     6.58273715985493     13.67827045697096     1.83652571293854     5.49140928673247     -5.94174330640616\n",
      "C     9.41997462414129     5.29004299005189     12.51060973100247     2.07155046401527     -6.91016163567951     0.21595080227418\n",
      "H     8.89516390765018     8.32113702456552     12.30967969409185     0.33368339883068     -0.12934766569156     -0.11728340338829\n",
      "H     10.02803376769659     7.78510050364570     13.82320266995337     -0.93805212508232     -0.34469406936528     -1.16908650226607\n",
      "H     7.85454441953079     6.91072121048360     14.59475615052830     -1.52966732756149     0.56107558903653     4.60185783422112\n",
      "H     7.10937514272678     6.81110565935799     12.93454983289764     1.60593570667714     -0.67687215975281     0.81573948178465\n",
      "O     4.89706950662572     2.43763205716567     13.46586330015637     -0.40130596119108     0.14153168933890     0.30030669860892\n",
      "O     3.20939183035847     2.94846534327473     12.06643109181404     1.67162145709446     0.18323052433089     2.17601439131196\n",
      "O     3.93567000687390     0.68417059276589     12.14831403962294     1.47719125071845     8.83098264542113     2.61717443636309\n",
      "C     4.72226827229997     3.91797270939428     13.59076414198726     2.10412319747998     -1.39400809735423     -1.83065997556913\n",
      "C     3.35824222673962     4.10676231821899     13.06571782458283     -0.17241375488139     -0.39677204306322     -3.93632446690222\n",
      "C     4.09459063528922     1.93226822087491     12.56299605364372     -4.35322986086166     -7.17449263763463     -3.41885489646899\n",
      "H     5.59413149394306     4.29911689696651     12.88414070645698     -1.42942692042713     0.17247756909500     1.93663278898376\n",
      "H     4.87343986241874     4.11374244786990     14.66375469356793     0.59017790299980     -0.17279952425629     -0.16779919824717\n",
      "H     2.53249697851137     4.09858655485143     13.72765003357860     -0.10966232462582     -0.22509164737568     0.72202512691698\n",
      "H     3.29549281272715     5.05432608636435     12.43105498595875     0.50802501103030     -0.98636252462897     1.01404523535547\n"
     ]
    }
   ],
   "source": [
    "! cd ./additional_xsf/ && cat file_00015.xsf"
   ]
  },
  {
   "cell_type": "code",
   "execution_count": 44,
   "id": "b0217aee-9888-4f21-b185-1c8a2a27e7ac",
   "metadata": {},
   "outputs": [
    {
     "name": "stdout",
     "output_type": "stream",
     "text": [
      "# total energy = -18638.3804177616912057 eV\n",
      "\n",
      "ATOMS\n",
      "O     9.96725248455644     6.44545654408741     12.33830805410176     -0.65570551876677     -0.18660626795918     -0.29522390014189\n",
      "O     8.55461927227570     5.34194336233681     13.38791293919131     -6.86438655459262     -1.89898089560625     5.38336625745950\n",
      "O     9.96263038993343     4.12393557216726     12.35860792579188     -1.89892976867809     4.00569962761888     1.31707620977414\n",
      "C     9.16739395040718     7.51259761916343     13.10556453072822     2.87073272642219     1.20254577159226     -3.12893950083506\n",
      "C     8.03422249116061     6.62271302493388     13.61015183947051     -0.32392639517951     1.94565901801113     -1.55543203321311\n",
      "C     9.39043841555336     5.22029302294539     12.68258872617552     8.49818548723772     -1.76368025417760     -5.63146295878361\n",
      "H     8.95852310983063     8.38739225959171     12.26369711000735     0.55272616513497     -0.99093851899426     1.73609762235689\n",
      "H     10.04457126488424     7.77607824551786     13.81958542975672     -0.94316428094836     0.39227593733839     -0.99214031068890\n",
      "H     7.83010041324378     6.85160696048650     14.58311762133511     -0.55565652768003     -0.61987625843576     2.39661159129784\n",
      "H     7.18859913515303     6.79747988210573     12.88510367052675     2.28468235227584     -1.17846506983922     0.02901860527053\n",
      "O     4.85349596693838     2.52346657414499     13.42435523788829     3.65581157592435     -2.39596962833739     2.82049122109514\n",
      "O     3.20920218809080     2.88039406959637     12.08774487742395     1.54385537923969     2.43404326989727     2.13401182308270\n",
      "O     4.02126947779751     0.73665472596665     12.07151245375107     1.58479130335848     9.18402609215936     5.20695679815058\n",
      "C     4.75532611791185     3.88314131755780     13.55600487077118     -3.21111864705832     1.84716988068010     3.05129443489536\n",
      "C     3.32800586526128     4.16855308065417     13.01993380057583     2.79717487995390     -4.70044403320156     -2.00834662314855\n",
      "C     4.15372019357182     1.97083785975935     12.58776331409214     -5.59077630701330     -8.28592590073500     -6.17256994064729\n",
      "H     5.49824397851656     4.35932507806405     12.88310664520174     0.96851049225005     0.32048116198185     2.07310614716673\n",
      "H     4.70137588171810     4.07874197886071     14.76950229074045     1.11538745905236     -1.08445022411492     -3.76402059200320\n",
      "H     2.46175839294398     4.13804774284630     13.62664230909959     -0.39272112630782     0.00487267188606     0.67487295046923\n",
      "H     3.30705674025133     4.98658828921361     12.45631274337062     0.78460755166514     0.73012918016781     -1.70197710870322\n"
     ]
    }
   ],
   "source": [
    "! cd ./additional_xsf/ && cat file_00016.xsf"
   ]
  },
  {
   "cell_type": "code",
   "execution_count": null,
   "id": "8a64dafc-55c2-40d4-a9fa-2594c256dd71",
   "metadata": {},
   "outputs": [],
   "source": []
  }
 ],
 "metadata": {
  "kernelspec": {
   "display_name": "Python 3",
   "language": "python",
   "name": "python3"
  },
  "language_info": {
   "codemirror_mode": {
    "name": "ipython",
    "version": 3
   },
   "file_extension": ".py",
   "mimetype": "text/x-python",
   "name": "python",
   "nbconvert_exporter": "python",
   "pygments_lexer": "ipython3",
   "version": "3.12.7"
  }
 },
 "nbformat": 4,
 "nbformat_minor": 5
}
