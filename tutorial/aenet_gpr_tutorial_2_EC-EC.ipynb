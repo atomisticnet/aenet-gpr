{
 "cells": [
  {
   "cell_type": "code",
   "execution_count": 1,
   "id": "8d96e3d3-c936-471d-b313-33c36d0e742c",
   "metadata": {
    "tags": []
   },
   "outputs": [
    {
     "name": "stdout",
     "output_type": "stream",
     "text": [
      "successfully imported torch\n",
      "2.6.0+cu124\n"
     ]
    }
   ],
   "source": [
    "try:\n",
    "    import torch\n",
    "    print(\"successfully imported torch\")\n",
    "    print(torch.__version__)\n",
    "except ImportError:\n",
    "    !! pip install torch torchvision torchaudio --user --index-url https://download.pytorch.org/whl/cpu\n",
    "    print(\"completed installing torch\")"
   ]
  },
  {
   "cell_type": "code",
   "execution_count": 2,
   "id": "4a081492-ac80-4580-af26-d6ce28004bac",
   "metadata": {},
   "outputs": [
    {
     "name": "stdout",
     "output_type": "stream",
     "text": [
      "successfully imported numpy\n",
      "1.26.4\n"
     ]
    }
   ],
   "source": [
    "try:\n",
    "    import numpy as np\n",
    "    print(\"successfully imported numpy\")\n",
    "    print(np.__version__)\n",
    "except ImportError:\n",
    "    !! pip install numpy --user --upgrade\n",
    "    print(\"completed installing numpy\")"
   ]
  },
  {
   "cell_type": "code",
   "execution_count": 3,
   "id": "78af600e-1c02-4e34-bd05-0128b0588c1c",
   "metadata": {},
   "outputs": [
    {
     "name": "stdout",
     "output_type": "stream",
     "text": [
      "successfully imported matplotlib\n"
     ]
    }
   ],
   "source": [
    "try:\n",
    "    from matplotlib import pyplot as plt\n",
    "    print(\"successfully imported matplotlib\")\n",
    "except ImportError:\n",
    "    !! pip install matplotlib --user --upgrade\n",
    "    print(\"completed installing matplotlib\")"
   ]
  },
  {
   "cell_type": "code",
   "execution_count": 4,
   "id": "11e45431-8717-40ed-ba5a-348bdfe73539",
   "metadata": {},
   "outputs": [
    {
     "name": "stdout",
     "output_type": "stream",
     "text": [
      "completed installing aenet-gpr\n",
      "Name: aenet-gpr\n",
      "Version: 1.2.3\n",
      "Summary: Atomistic simulation tools based on Gaussian Processes Regression\n",
      "Home-page: https://github.com/atomisticnet/aenet-gpr\n",
      "Author: In Won Yeu\n",
      "Author-email: iy2185@columbia.edu\n",
      "License: MPL-2.0\n",
      "Location: /data/home/iy2185/.local/lib/python3.12/site-packages\n",
      "Requires: ase, dscribe\n",
      "Required-by: \n"
     ]
    }
   ],
   "source": [
    "!! pip install aenet-gpr --user --upgrade\n",
    "print(\"completed installing aenet-gpr\")\n",
    "\n",
    "! pip show aenet-gpr"
   ]
  },
  {
   "cell_type": "code",
   "execution_count": 5,
   "id": "ec916db8-cfb8-475d-8cef-55f74ff30cc3",
   "metadata": {},
   "outputs": [
    {
     "name": "stdout",
     "output_type": "stream",
     "text": [
      "1.2.3\n"
     ]
    }
   ],
   "source": [
    "import os, sys, site\n",
    "sys.path.append(site.USER_SITE)\n",
    "\n",
    "import aenet_gpr\n",
    "print(aenet_gpr.__version__)"
   ]
  },
  {
   "cell_type": "markdown",
   "id": "f9cfd82b-8f6c-48ec-9c57-54ea593bb81b",
   "metadata": {},
   "source": [
    "# 1. Prepare training/test data"
   ]
  },
  {
   "cell_type": "markdown",
   "id": "7e022168-4914-4b3a-87c4-b5de07a8b5f8",
   "metadata": {},
   "source": [
    "We are using train/test HSE06 data of EC dimer prepared in `aenet-gpr/example/2_EC-EC/`"
   ]
  },
  {
   "cell_type": "code",
   "execution_count": 6,
   "id": "d50bab63-a944-4fa9-b202-3deb00dcf64b",
   "metadata": {},
   "outputs": [
    {
     "name": "stdout",
     "output_type": "stream",
     "text": [
      "mkdir: cannot create directory ‘2_EC-EC’: File exists\n",
      "--2025-05-17 02:44:06--  https://github.com/atomisticnet/aenet-gpr/raw/refs/heads/main/example/2_EC-EC/train_set_tutorial.zip\n",
      "Resolving github.com (github.com)... 140.82.114.4\n",
      "Connecting to github.com (github.com)|140.82.114.4|:443... connected.\n",
      "HTTP request sent, awaiting response... 302 Found\n",
      "Location: https://raw.githubusercontent.com/atomisticnet/aenet-gpr/refs/heads/main/example/2_EC-EC/train_set_tutorial.zip [following]\n",
      "--2025-05-17 02:44:06--  https://raw.githubusercontent.com/atomisticnet/aenet-gpr/refs/heads/main/example/2_EC-EC/train_set_tutorial.zip\n",
      "Resolving raw.githubusercontent.com (raw.githubusercontent.com)... 185.199.111.133, 185.199.108.133, 185.199.109.133, ...\n",
      "Connecting to raw.githubusercontent.com (raw.githubusercontent.com)|185.199.111.133|:443... connected.\n",
      "HTTP request sent, awaiting response... 200 OK\n",
      "Length: 102318 (100K) [application/zip]\n",
      "Saving to: ‘train_set_tutorial.zip’\n",
      "\n",
      "train_set_tutorial. 100%[===================>]  99.92K  --.-KB/s    in 0.003s  \n",
      "\n",
      "2025-05-17 02:44:06 (35.5 MB/s) - ‘train_set_tutorial.zip’ saved [102318/102318]\n",
      "\n",
      "number of train data:\n",
      "81\n"
     ]
    }
   ],
   "source": [
    "import os.path\n",
    "\n",
    "! mkdir 2_EC-EC\n",
    "    \n",
    "if os.path.isfile(\"../example/2_EC-EC/train_set_tutorial.zip\"):\n",
    "    ! unzip -oq ../example/2_EC-EC/train_set_tutorial.zip -d ./2_EC-EC/\n",
    "    print(\"number of train data:\")\n",
    "    ! find ./2_EC-EC/train_set_tutorial/ -type f | wc -l\n",
    "else:\n",
    "    ! wget https://github.com/atomisticnet/aenet-gpr/raw/refs/heads/main/example/2_EC-EC/train_set_tutorial.zip\n",
    "    ! unzip -oq train_set_tutorial.zip -d ./2_EC-EC/\n",
    "    ! rm train_set_tutorial.zip\n",
    "    print(\"number of train data:\")\n",
    "    ! find ./2_EC-EC/train_set_tutorial/ -type f | wc -l"
   ]
  },
  {
   "cell_type": "code",
   "execution_count": 7,
   "id": "21ba107a-9e4c-44cd-82e4-d9d5cf97477b",
   "metadata": {},
   "outputs": [
    {
     "name": "stdout",
     "output_type": "stream",
     "text": [
      "--2025-05-17 02:44:08--  https://github.com/atomisticnet/aenet-gpr/raw/refs/heads/main/example/2_EC-EC/test_set_tutorial.zip\n",
      "Resolving github.com (github.com)... 140.82.114.4\n",
      "Connecting to github.com (github.com)|140.82.114.4|:443... connected.\n",
      "HTTP request sent, awaiting response... 302 Found\n",
      "Location: https://raw.githubusercontent.com/atomisticnet/aenet-gpr/refs/heads/main/example/2_EC-EC/test_set_tutorial.zip [following]\n",
      "--2025-05-17 02:44:08--  https://raw.githubusercontent.com/atomisticnet/aenet-gpr/refs/heads/main/example/2_EC-EC/test_set_tutorial.zip\n",
      "Resolving raw.githubusercontent.com (raw.githubusercontent.com)... 185.199.110.133, 185.199.109.133, 185.199.108.133, ...\n",
      "Connecting to raw.githubusercontent.com (raw.githubusercontent.com)|185.199.110.133|:443... connected.\n",
      "HTTP request sent, awaiting response... 200 OK\n",
      "Length: 185384 (181K) [application/zip]\n",
      "Saving to: ‘test_set_tutorial.zip’\n",
      "\n",
      "test_set_tutorial.z 100%[===================>] 181.04K  --.-KB/s    in 0.004s  \n",
      "\n",
      "2025-05-17 02:44:08 (45.5 MB/s) - ‘test_set_tutorial.zip’ saved [185384/185384]\n",
      "\n",
      "number of test data:\n",
      "200\n"
     ]
    }
   ],
   "source": [
    "if os.path.isfile(\"../example/2_EC-EC/test_set_tutorial.zip\"):\n",
    "    ! unzip -oq ../example/2_EC-EC/test_set_tutorial.zip -d ./2_EC-EC/\n",
    "    print(\"number of test data:\")\n",
    "    ! find ./2_EC-EC/test_set_tutorial/ -type f | wc -l\n",
    "else:\n",
    "    ! wget https://github.com/atomisticnet/aenet-gpr/raw/refs/heads/main/example/2_EC-EC/test_set_tutorial.zip\n",
    "    ! unzip -oq test_set_tutorial.zip -d ./2_EC-EC/\n",
    "    ! rm test_set_tutorial.zip\n",
    "    print(\"number of test data:\")\n",
    "    ! find ./2_EC-EC/test_set_tutorial/ -type f | wc -l"
   ]
  },
  {
   "cell_type": "markdown",
   "id": "fe4c1b49-fe17-4cd7-977f-d0adda2695aa",
   "metadata": {},
   "source": [
    "# 2-1. Train–Test with default kernel parameters (scale 0.4, weight 1.0)"
   ]
  },
  {
   "cell_type": "markdown",
   "id": "a04d4c0e-9b1b-4000-8032-935347c3b6ff",
   "metadata": {},
   "source": [
    "In addition to the reference data files, following aenet-gpr input file `train.in` is all you need to run aenet-gpr. \n",
    "\n",
    "First, let us check the GPR evalulation error for test set with default kernel parameters."
   ]
  },
  {
   "cell_type": "code",
   "execution_count": 52,
   "id": "4c6c4ca7-409a-4087-b34b-07effd22dbb1",
   "metadata": {},
   "outputs": [
    {
     "name": "stdout",
     "output_type": "stream",
     "text": [
      "--2025-05-17 03:13:15--  https://github.com/atomisticnet/aenet-gpr/raw/refs/heads/main/example/2_EC-EC/train.in\n",
      "Resolving github.com (github.com)... 140.82.113.4\n",
      "Connecting to github.com (github.com)|140.82.113.4|:443... connected.\n",
      "HTTP request sent, awaiting response... 302 Found\n",
      "Location: https://raw.githubusercontent.com/atomisticnet/aenet-gpr/refs/heads/main/example/2_EC-EC/train.in [following]\n",
      "--2025-05-17 03:13:16--  https://raw.githubusercontent.com/atomisticnet/aenet-gpr/refs/heads/main/example/2_EC-EC/train.in\n",
      "Resolving raw.githubusercontent.com (raw.githubusercontent.com)... 185.199.110.133, 185.199.109.133, 185.199.108.133, ...\n",
      "Connecting to raw.githubusercontent.com (raw.githubusercontent.com)|185.199.110.133|:443... connected.\n",
      "HTTP request sent, awaiting response... 200 OK\n",
      "Length: 566 [text/plain]\n",
      "Saving to: ‘train.in’\n",
      "\n",
      "train.in            100%[===================>]     566  --.-KB/s    in 0s      \n",
      "\n",
      "2025-05-17 03:13:16 (9.62 MB/s) - ‘train.in’ saved [566/566]\n",
      "\n"
     ]
    }
   ],
   "source": [
    "! rm -f train.in\n",
    "\n",
    "if os.path.isfile(\"../example/2_EC-EC/train.in\"):\n",
    "    ! cp ../example/2_EC-EC/train.in .\n",
    "else:\n",
    "    ! wget https://github.com/atomisticnet/aenet-gpr/raw/refs/heads/main/example/2_EC-EC/train.in"
   ]
  },
  {
   "cell_type": "code",
   "execution_count": 53,
   "id": "c2cfe62e-dfd2-4b54-83c1-a6e50bc247d3",
   "metadata": {},
   "outputs": [
    {
     "name": "stdout",
     "output_type": "stream",
     "text": [
      "# File path\n",
      "Train_file ./2_EC-EC/train_set_tutorial/file_*.xsf\n",
      "Test_file ./2_EC-EC/test_set_tutorial/file_*.xsf\n",
      "\n",
      "# Train model save (default: False)\n",
      "# Train_model_save True\n",
      "\n",
      "# File format (default: xsf)\n",
      "File_format xsf\n",
      "\n",
      "# Descriptor (default: cartesian coordinates)\n",
      "Descriptor cart\n",
      "\n",
      "# Kernel parameter\n",
      "# scale 1.5\n",
      "# weight 1.0\n",
      "\n",
      "# Data process (default: batch, 25)\n",
      "data_process batch\n",
      "batch_size 25\n",
      "\n",
      "# Flags for xsf file writing (default: False)\n",
      "Train_write False\n",
      "Test_write False\n",
      "# Additional_write True\n",
      "\n",
      "# Data augmentation parameter\n",
      "# Disp_length 0.05\n",
      "# Num_copy 5\n"
     ]
    }
   ],
   "source": [
    "! cat train.in"
   ]
  },
  {
   "cell_type": "code",
   "execution_count": 54,
   "id": "118f1319-3dd3-482f-81ee-b0f80918bdf3",
   "metadata": {
    "tags": []
   },
   "outputs": [
    {
     "name": "stdout",
     "output_type": "stream",
     "text": [
      "======================================================================\n",
      "aenet-GPR: surrogate GPR for GPR-ANN indirect force training\n",
      "======================================================================\n",
      "\n",
      "2025-05-17 03:13:21.\n",
      "\n",
      "Developed by In Won Yeu\n",
      "\n",
      "This program performs three main steps:\n",
      "1. Train: Generates a GPR model using the provided structure, energy, and force data.\n",
      "2. Test: Uses the generated GPR model to predict values for the test set structures.\n",
      "3. Augmentation: Performs data augmentation in xsf file format, compatible with aenet-(PyTorch),\n",
      "supporting a GPR-ANN training in conjunction with aenet-(PyTorch).\n",
      "\n",
      "Each of these steps is executed once the input file (train.in) contains the keywords:\n",
      "Train_file [train file path]\n",
      "Test_file [test file path]\n",
      "Additional_write [True]\n",
      "\n",
      "\n",
      "======================================================================\n",
      "Train\n",
      "======================================================================\n",
      "\n",
      "Read reference training data\n",
      "\n",
      "Time needed for reading data:            0.054190 s\n",
      "Maximum CPU memory used:             0.537289 GB\n",
      "Maximum GPU memory used:             0.000000 GB\n",
      "Energy data size: (81,)  # (N_data, )\n",
      "Force data size: (81, 20, 3)  # (N_data, N_atom, 3)\n",
      "----------------------------------------------------------------------\n",
      "----------------------------------------------------------------------\n",
      "Model train\n",
      "\n",
      "Training parameters\n",
      "{'num_data': 81, 'calculator': {'kerneltype': 'sqexp', 'scale': tensor(0.4000, dtype=torch.float64), 'weight': tensor(1., dtype=torch.float64), 'noise': tensor(1.0000e-06, dtype=torch.float64), 'noisefactor': tensor(0.5000, dtype=torch.float64)}, 'fix_ind': None, 'pbc': False, 'species': ['O', 'O', 'O', 'C', 'C', 'C', 'H', 'H', 'H', 'H', 'O', 'O', 'O', 'C', 'C', 'C', 'H', 'H', 'H', 'H'], 'num_atom': 20}\n",
      "\n",
      "Time needed for training:            1.172832 s\n",
      "Maximum CPU memory used:             0.996037 GB\n",
      "Maximum GPU memory used:             0.000000 GB\n",
      "----------------------------------------------------------------------\n",
      "======================================================================\n",
      "Test\n",
      "======================================================================\n",
      "\n",
      "Read reference test data\n",
      "\n",
      "Time needed for reading data:            0.126952 s\n",
      "Maximum CPU memory used:             0.996037 GB\n",
      "Maximum GPU memory used:             0.000000 GB\n",
      "Energy data size: (200,)  # (N_data, )\n",
      "Force data size: (200, 20, 3)  # (N_data, N_atom, 3)\n",
      "----------------------------------------------------------------------\n",
      "----------------------------------------------------------------------\n",
      "Model evaluation for test set\n",
      "\n",
      "Test parameters\n",
      "{'num_data': 200, 'calculator': {'kerneltype': 'sqexp', 'scale': tensor(0.4000, dtype=torch.float64), 'weight': tensor(1., dtype=torch.float64), 'noise': tensor(1.0000e-06, dtype=torch.float64), 'noisefactor': tensor(0.5000, dtype=torch.float64)}, 'fix_ind': None, 'pbc': False, 'species': ['O', 'O', 'O', 'C', 'C', 'C', 'H', 'H', 'H', 'H', 'O', 'O', 'O', 'C', 'C', 'C', 'H', 'H', 'H', 'H'], 'num_atom': 20}\n",
      "\n",
      "Time needed for test evaluation:            9.755137 s\n",
      "Maximum CPU memory used:             1.358047 GB\n",
      "Maximum GPU memory used:             0.000000 GB\n",
      "----------------------------------------------------------------------\n",
      "GPR energy MAE (eV): 0.16530927772697396\n",
      "GPR force MAE (eV/Ang): 0.9437222240738975\n",
      "GPR uncertainty mean ± std: 0.08432608930287949 ± 0.013271591287208631\n",
      "\n",
      "Saving test target to [energy_test_reference.npy] and [force_test_reference.npy]\n",
      "Saving GPR prediction to [energy_test_gpr.npy], [force_test_gpr.npy], and [uncertainty_test_gpr.npy]\n",
      "\n",
      "\n",
      "\u001b[0m"
     ]
    }
   ],
   "source": [
    "! python -m aenet_gpr train.in"
   ]
  },
  {
   "cell_type": "markdown",
   "id": "2fb02d1f-c950-4398-9c38-72f9c28e41fe",
   "metadata": {},
   "source": [
    "# 2-2. Visualize the results"
   ]
  },
  {
   "cell_type": "code",
   "execution_count": 55,
   "id": "1ee4c198-7a79-4be9-b721-4f0c77bff44d",
   "metadata": {},
   "outputs": [],
   "source": [
    "energy_test_gpr = np.load(\"./energy_test_gpr.npy\")\n",
    "energy_test_reference = np.load(\"./energy_test_reference.npy\")\n",
    "force_test_gpr = np.load(\"./force_test_gpr.npy\")\n",
    "force_test_reference = np.load(\"./force_test_reference.npy\")\n",
    "uncertainty_test_gpr = np.load(\"./uncertainty_test_gpr.npy\")"
   ]
  },
  {
   "cell_type": "code",
   "execution_count": 56,
   "id": "37a5ba8f-5a73-4a70-9ec2-fc5c44ee8abc",
   "metadata": {},
   "outputs": [
    {
     "name": "stdout",
     "output_type": "stream",
     "text": [
      "0.04377814570398186 0.3236192655713239\n"
     ]
    }
   ],
   "source": [
    "diff = energy_test_reference - energy_test_gpr\n",
    "\n",
    "print(diff.min(), diff.max())"
   ]
  },
  {
   "cell_type": "code",
   "execution_count": 57,
   "id": "52e3b71a-80f8-404b-89f8-cbdd87e3c73e",
   "metadata": {},
   "outputs": [
    {
     "data": {
      "image/png": "[encoded data removed]",
      "text/plain": [
       "<Figure size 700x600 with 1 Axes>"
      ]
     },
     "metadata": {},
     "output_type": "display_data"
    }
   ],
   "source": [
    "fig = plt.figure(figsize=(7, 6))\n",
    "ax2 = fig.subplots()\n",
    "\n",
    "font_x = {'size': 20, 'color': 'black'}\n",
    "font_y = {'size': 20, 'color': 'black'}\n",
    "font_tick = {'size': 16, 'color': 'black'}\n",
    "\n",
    "\n",
    "# The second plot\n",
    "counts, bins = np.histogram(diff, bins=30, range=(-0.1, 0.2))\n",
    "\n",
    "ax2.hist(bins[:-1], bins, weights=counts, facecolor='dimgray', alpha=1.0, edgecolor='black')\n",
    "\n",
    "ax2.set_xlabel(\"DFT $-$ GPR (eV)\", fontdict=font_x)\n",
    "ax2.set_xlim([-0.1, 0.2])\n",
    "x_labels = [round(label, 2) for label in ax2.get_xticks()]\n",
    "ax2.set_xticks(x_labels)\n",
    "ax2.set_xlim([-0.1, 0.2])\n",
    "ax2.set_xticklabels(x_labels, fontdict=font_tick)\n",
    "\n",
    "ax2.set_ylabel(\"Number of structures\", fontdict=font_y)\n",
    "ax2.set_ylim([0, 40])\n",
    "y_labels = [int(label) for label in ax2.get_yticks()]\n",
    "# y_labels = [0, 20, 40, 60, 80, 100]\n",
    "ax2.set_yticks(y_labels)\n",
    "ax2.set_ylim([0, 40])\n",
    "ax2.set_yticklabels(y_labels, fontdict=font_tick)\n",
    "\n",
    "[x.set_linewidth(1.5) for x in ax2.spines.values()]\n",
    "ax2.tick_params(bottom=False, top=True, left=True, right=True)\n",
    "ax2.tick_params(labelbottom=True, labeltop=False, labelleft=True, labelright=False)\n",
    "ax2.tick_params(direction='in', length=8, width=1.5)\n",
    "\n",
    "ax2.grid(True, which='both', linestyle=':', linewidth=0.7, alpha=0.7)\n",
    "\n",
    "fig.tight_layout()\n",
    "plt.show()"
   ]
  },
  {
   "cell_type": "markdown",
   "id": "e67add88-6113-4def-b711-d65802a31ffe",
   "metadata": {},
   "source": [
    "# 3-1. Train–Test (scale 1.5, weight 1.0)"
   ]
  },
  {
   "cell_type": "markdown",
   "id": "e0e3850f-2630-404b-9e62-5c7b67d6363b",
   "metadata": {},
   "source": [
    "Since, the constructed GPR with default parameters highly underestimate energy, let us change the parameters."
   ]
  },
  {
   "cell_type": "code",
   "execution_count": 58,
   "id": "77c3e93b-606c-4e33-9246-2c63f582feef",
   "metadata": {},
   "outputs": [],
   "source": [
    "! sed -i '15s|.*|scale 1.5|' train.in"
   ]
  },
  {
   "cell_type": "code",
   "execution_count": 59,
   "id": "0a99ed8c-bb96-4051-afdc-40c41de72fa6",
   "metadata": {},
   "outputs": [
    {
     "name": "stdout",
     "output_type": "stream",
     "text": [
      "# File path\n",
      "Train_file ./2_EC-EC/train_set_tutorial/file_*.xsf\n",
      "Test_file ./2_EC-EC/test_set_tutorial/file_*.xsf\n",
      "\n",
      "# Train model save (default: False)\n",
      "# Train_model_save True\n",
      "\n",
      "# File format (default: xsf)\n",
      "File_format xsf\n",
      "\n",
      "# Descriptor (default: cartesian coordinates)\n",
      "Descriptor cart\n",
      "\n",
      "# Kernel parameter\n",
      "scale 1.5\n",
      "# weight 1.0\n",
      "\n",
      "# Data process (default: batch, 25)\n",
      "data_process batch\n",
      "batch_size 25\n",
      "\n",
      "# Flags for xsf file writing (default: False)\n",
      "Train_write False\n",
      "Test_write False\n",
      "# Additional_write True\n",
      "\n",
      "# Data augmentation parameter\n",
      "# Disp_length 0.05\n",
      "# Num_copy 5\n"
     ]
    }
   ],
   "source": [
    "! cat train.in"
   ]
  },
  {
   "cell_type": "code",
   "execution_count": 60,
   "id": "b3356d46-d061-4049-8ef6-c42e7dba7a52",
   "metadata": {},
   "outputs": [
    {
     "name": "stdout",
     "output_type": "stream",
     "text": [
      "======================================================================\n",
      "aenet-GPR: surrogate GPR for GPR-ANN indirect force training\n",
      "======================================================================\n",
      "\n",
      "2025-05-17 03:13:43.\n",
      "\n",
      "Developed by In Won Yeu\n",
      "\n",
      "This program performs three main steps:\n",
      "1. Train: Generates a GPR model using the provided structure, energy, and force data.\n",
      "2. Test: Uses the generated GPR model to predict values for the test set structures.\n",
      "3. Augmentation: Performs data augmentation in xsf file format, compatible with aenet-(PyTorch),\n",
      "supporting a GPR-ANN training in conjunction with aenet-(PyTorch).\n",
      "\n",
      "Each of these steps is executed once the input file (train.in) contains the keywords:\n",
      "Train_file [train file path]\n",
      "Test_file [test file path]\n",
      "Additional_write [True]\n",
      "\n",
      "\n",
      "======================================================================\n",
      "Train\n",
      "======================================================================\n",
      "\n",
      "Read reference training data\n",
      "\n",
      "Time needed for reading data:            0.057534 s\n",
      "Maximum CPU memory used:             0.538494 GB\n",
      "Maximum GPU memory used:             0.000000 GB\n",
      "Energy data size: (81,)  # (N_data, )\n",
      "Force data size: (81, 20, 3)  # (N_data, N_atom, 3)\n",
      "----------------------------------------------------------------------\n",
      "----------------------------------------------------------------------\n",
      "Model train\n",
      "\n",
      "Training parameters\n",
      "{'num_data': 81, 'calculator': {'kerneltype': 'sqexp', 'scale': tensor(1.5000, dtype=torch.float64), 'weight': tensor(1., dtype=torch.float64), 'noise': tensor(1.0000e-06, dtype=torch.float64), 'noisefactor': tensor(0.5000, dtype=torch.float64)}, 'fix_ind': None, 'pbc': False, 'species': ['O', 'O', 'O', 'C', 'C', 'C', 'H', 'H', 'H', 'H', 'O', 'O', 'O', 'C', 'C', 'C', 'H', 'H', 'H', 'H'], 'num_atom': 20}\n",
      "\n",
      "Time needed for training:            1.213999 s\n",
      "Maximum CPU memory used:             0.998123 GB\n",
      "Maximum GPU memory used:             0.000000 GB\n",
      "----------------------------------------------------------------------\n",
      "======================================================================\n",
      "Test\n",
      "======================================================================\n",
      "\n",
      "Read reference test data\n",
      "\n",
      "Time needed for reading data:            0.140443 s\n",
      "Maximum CPU memory used:             0.998123 GB\n",
      "Maximum GPU memory used:             0.000000 GB\n",
      "Energy data size: (200,)  # (N_data, )\n",
      "Force data size: (200, 20, 3)  # (N_data, N_atom, 3)\n",
      "----------------------------------------------------------------------\n",
      "----------------------------------------------------------------------\n",
      "Model evaluation for test set\n",
      "\n",
      "Test parameters\n",
      "{'num_data': 200, 'calculator': {'kerneltype': 'sqexp', 'scale': tensor(1.5000, dtype=torch.float64), 'weight': tensor(1., dtype=torch.float64), 'noise': tensor(1.0000e-06, dtype=torch.float64), 'noisefactor': tensor(0.5000, dtype=torch.float64)}, 'fix_ind': None, 'pbc': False, 'species': ['O', 'O', 'O', 'C', 'C', 'C', 'H', 'H', 'H', 'H', 'O', 'O', 'O', 'C', 'C', 'C', 'H', 'H', 'H', 'H'], 'num_atom': 20}\n",
      "\n",
      "Time needed for test evaluation:           10.537001 s\n",
      "Maximum CPU memory used:             1.353550 GB\n",
      "Maximum GPU memory used:             0.000000 GB\n",
      "----------------------------------------------------------------------\n",
      "GPR energy MAE (eV): 0.037363740976034024\n",
      "GPR force MAE (eV/Ang): 0.9751177098478979\n",
      "GPR uncertainty mean ± std: 0.00187153541085404 ± 0.0003335173784747905\n",
      "\n",
      "Saving test target to [energy_test_reference.npy] and [force_test_reference.npy]\n",
      "Saving GPR prediction to [energy_test_gpr.npy], [force_test_gpr.npy], and [uncertainty_test_gpr.npy]\n",
      "\n",
      "\n",
      "\u001b[0m"
     ]
    }
   ],
   "source": [
    "! python -m aenet_gpr train.in"
   ]
  },
  {
   "cell_type": "markdown",
   "id": "c1d8cfaf-3d40-498b-bacb-08642fb6c7a3",
   "metadata": {},
   "source": [
    "By changing the scale parameter, energy error is significantly reduced from 0.165 eV to 0.037 eV."
   ]
  },
  {
   "cell_type": "markdown",
   "id": "664827ec-be36-433c-b60e-cbe178c4c73f",
   "metadata": {},
   "source": [
    "# 3-2. Visualize the test results"
   ]
  },
  {
   "cell_type": "code",
   "execution_count": 61,
   "id": "f740063d-c259-4d45-9584-ee43bb4b6738",
   "metadata": {},
   "outputs": [],
   "source": [
    "energy_test_gpr = np.load(\"./energy_test_gpr.npy\")\n",
    "energy_test_reference = np.load(\"./energy_test_reference.npy\")\n",
    "force_test_gpr = np.load(\"./force_test_gpr.npy\")\n",
    "force_test_reference = np.load(\"./force_test_reference.npy\")\n",
    "uncertainty_test_gpr = np.load(\"./uncertainty_test_gpr.npy\")"
   ]
  },
  {
   "cell_type": "code",
   "execution_count": 62,
   "id": "50cee3ea-4c75-4e67-ba6f-a295fe70cbff",
   "metadata": {},
   "outputs": [
    {
     "name": "stdout",
     "output_type": "stream",
     "text": [
      "-0.07035813228139887 0.1360100667225197\n"
     ]
    }
   ],
   "source": [
    "diff = energy_test_reference - energy_test_gpr\n",
    "\n",
    "print(diff.min(), diff.max())"
   ]
  },
  {
   "cell_type": "code",
   "execution_count": 63,
   "id": "3e02010a-d108-43d0-845a-02d437627df2",
   "metadata": {},
   "outputs": [
    {
     "data": {
      "image/png": "[encoded data removed]",
      "text/plain": [
       "<Figure size 700x600 with 1 Axes>"
      ]
     },
     "metadata": {},
     "output_type": "display_data"
    }
   ],
   "source": [
    "fig = plt.figure(figsize=(7, 6))\n",
    "ax2 = fig.subplots()\n",
    "\n",
    "font_x = {'size': 20, 'color': 'black'}\n",
    "font_y = {'size': 20, 'color': 'black'}\n",
    "font_tick = {'size': 16, 'color': 'black'}\n",
    "\n",
    "\n",
    "# The second plot\n",
    "counts, bins = np.histogram(diff, bins=30, range=(-0.1, 0.2))\n",
    "\n",
    "ax2.hist(bins[:-1], bins, weights=counts, facecolor='dimgray', alpha=1.0, edgecolor='black')\n",
    "\n",
    "ax2.set_xlabel(\"DFT $-$ GPR (eV)\", fontdict=font_x)\n",
    "ax2.set_xlim([-0.1, 0.2])\n",
    "x_labels = [round(label, 2) for label in ax2.get_xticks()]\n",
    "ax2.set_xticks(x_labels)\n",
    "ax2.set_xlim([-0.1, 0.2])\n",
    "ax2.set_xticklabels(x_labels, fontdict=font_tick)\n",
    "\n",
    "ax2.set_ylabel(\"Number of structures\", fontdict=font_y)\n",
    "ax2.set_ylim([0, 40])\n",
    "y_labels = [int(label) for label in ax2.get_yticks()]\n",
    "# y_labels = [0, 20, 40, 60, 80, 100]\n",
    "ax2.set_yticks(y_labels)\n",
    "ax2.set_ylim([0, 40])\n",
    "ax2.set_yticklabels(y_labels, fontdict=font_tick)\n",
    "\n",
    "[x.set_linewidth(1.5) for x in ax2.spines.values()]\n",
    "ax2.tick_params(bottom=False, top=True, left=True, right=True)\n",
    "ax2.tick_params(labelbottom=True, labeltop=False, labelleft=True, labelright=False)\n",
    "ax2.tick_params(direction='in', length=8, width=1.5)\n",
    "\n",
    "ax2.grid(True, which='both', linestyle=':', linewidth=0.7, alpha=0.7)\n",
    "\n",
    "fig.tight_layout()\n",
    "plt.show()"
   ]
  },
  {
   "cell_type": "markdown",
   "id": "135c93bb-e528-47b0-9a57-8a4dff184882",
   "metadata": {},
   "source": [
    "# 4. Augment"
   ]
  },
  {
   "cell_type": "markdown",
   "id": "4fc65d7e-595d-4e64-a922-abe7ac22b69c",
   "metadata": {},
   "source": [
    "So, using these parameters, augment step will be executed."
   ]
  },
  {
   "cell_type": "code",
   "execution_count": 64,
   "id": "3d11504f-9873-47d2-b4e5-dec94315ea98",
   "metadata": {},
   "outputs": [],
   "source": [
    "! sed -i '3s|.*|# Test_file ./2_EC-EC/test_set_tutorial/file_*.xsf|' train.in\n",
    "! sed -i '25s|.*|Additional_write True|' train.in\n",
    "! sed -i '28s|.*|Disp_length 0.05|' train.in\n",
    "! sed -i '29s|.*|Num_copy 5|' train.in"
   ]
  },
  {
   "cell_type": "code",
   "execution_count": 65,
   "id": "0f54fd0b-caed-46bd-9c8f-7a421e38cc8b",
   "metadata": {},
   "outputs": [
    {
     "name": "stdout",
     "output_type": "stream",
     "text": [
      "# File path\n",
      "Train_file ./2_EC-EC/train_set_tutorial/file_*.xsf\n",
      "# Test_file ./2_EC-EC/test_set_tutorial/file_*.xsf\n",
      "\n",
      "# Train model save (default: False)\n",
      "# Train_model_save True\n",
      "\n",
      "# File format (default: xsf)\n",
      "File_format xsf\n",
      "\n",
      "# Descriptor (default: cartesian coordinates)\n",
      "Descriptor cart\n",
      "\n",
      "# Kernel parameter\n",
      "scale 1.5\n",
      "# weight 1.0\n",
      "\n",
      "# Data process (default: batch, 25)\n",
      "data_process batch\n",
      "batch_size 25\n",
      "\n",
      "# Flags for xsf file writing (default: False)\n",
      "Train_write False\n",
      "Test_write False\n",
      "Additional_write True\n",
      "\n",
      "# Data augmentation parameter\n",
      "Disp_length 0.05\n",
      "Num_copy 5\n"
     ]
    }
   ],
   "source": [
    "! cat train.in"
   ]
  },
  {
   "cell_type": "code",
   "execution_count": 66,
   "id": "54ca7ab0-7e78-4755-b316-1bd54c9faf4d",
   "metadata": {},
   "outputs": [
    {
     "name": "stdout",
     "output_type": "stream",
     "text": [
      "======================================================================\n",
      "aenet-GPR: surrogate GPR for GPR-ANN indirect force training\n",
      "======================================================================\n",
      "\n",
      "2025-05-17 03:14:12.\n",
      "\n",
      "Developed by In Won Yeu\n",
      "\n",
      "This program performs three main steps:\n",
      "1. Train: Generates a GPR model using the provided structure, energy, and force data.\n",
      "2. Test: Uses the generated GPR model to predict values for the test set structures.\n",
      "3. Augmentation: Performs data augmentation in xsf file format, compatible with aenet-(PyTorch),\n",
      "supporting a GPR-ANN training in conjunction with aenet-(PyTorch).\n",
      "\n",
      "Each of these steps is executed once the input file (train.in) contains the keywords:\n",
      "Train_file [train file path]\n",
      "Test_file [test file path]\n",
      "Additional_write [True]\n",
      "\n",
      "\n",
      "======================================================================\n",
      "Train\n",
      "======================================================================\n",
      "\n",
      "Read reference training data\n",
      "\n",
      "Time needed for reading data:            0.065266 s\n",
      "Maximum CPU memory used:             0.539108 GB\n",
      "Maximum GPU memory used:             0.000000 GB\n",
      "Energy data size: (81,)  # (N_data, )\n",
      "Force data size: (81, 20, 3)  # (N_data, N_atom, 3)\n",
      "----------------------------------------------------------------------\n",
      "----------------------------------------------------------------------\n",
      "Model train\n",
      "\n",
      "Training parameters\n",
      "{'num_data': 81, 'calculator': {'kerneltype': 'sqexp', 'scale': tensor(1.5000, dtype=torch.float64), 'weight': tensor(1., dtype=torch.float64), 'noise': tensor(1.0000e-06, dtype=torch.float64), 'noisefactor': tensor(0.5000, dtype=torch.float64)}, 'fix_ind': None, 'pbc': False, 'species': ['O', 'O', 'O', 'C', 'C', 'C', 'H', 'H', 'H', 'H', 'O', 'O', 'O', 'C', 'C', 'C', 'H', 'H', 'H', 'H'], 'num_atom': 20}\n",
      "\n",
      "Time needed for training:            1.237105 s\n",
      "Maximum CPU memory used:             1.075661 GB\n",
      "Maximum GPU memory used:             0.000000 GB\n",
      "----------------------------------------------------------------------\n",
      "======================================================================\n",
      "Augmentation\n",
      "======================================================================\n",
      "----------------------------------------------------------------------\n",
      "Additional structure generation\n",
      "\n",
      "Time needed for additional generation:            0.098418 s\n",
      "Maximum CPU memory used:             1.075661 GB\n",
      "Maximum GPU memory used:             0.000000 GB\n",
      "Displacement length (Ang): 0.05\n",
      "Multiple: 5\n",
      "N_additional = N_reference (81) * Multiple (5) = 405\n",
      "----------------------------------------------------------------------\n",
      "----------------------------------------------------------------------\n",
      "Model evaluation for additional set\n",
      "\n",
      "Test parameters\n",
      "{'num_data': 405, 'calculator': {'kerneltype': 'sqexp', 'scale': tensor(1.5000, dtype=torch.float64), 'weight': tensor(1., dtype=torch.float64), 'noise': tensor(1.0000e-06, dtype=torch.float64), 'noisefactor': tensor(0.5000, dtype=torch.float64)}, 'fix_ind': None, 'pbc': False, 'species': ['O', 'O', 'O', 'C', 'C', 'C', 'H', 'H', 'H', 'H', 'O', 'O', 'O', 'C', 'C', 'C', 'H', 'H', 'H', 'H'], 'num_atom': 20}\n",
      "\n",
      "Time needed for additional evaluation:           20.009825 s\n",
      "Maximum CPU memory used:             1.355934 GB\n",
      "Maximum GPU memory used:             0.000000 GB\n",
      "----------------------------------------------------------------------\n",
      "\n",
      "Saving GPR prediction to [energy_additional_gpr.npy], [force_additional_gpr.npy], and [uncertainty_additional_gpr.npy]\n",
      "======================================================================\n",
      "Writing additional xsf files to additional_xsf\n",
      "\n",
      "Time needed for writing xsf files:            0.479626 s\n",
      "Maximum CPU memory used:             1.355934 GB\n",
      "Maximum GPU memory used:             0.000000 GB\n",
      "======================================================================\n",
      "\u001b[0m"
     ]
    }
   ],
   "source": [
    "! rm -rf additional_xsf/\n",
    "! python -m aenet_gpr train.in"
   ]
  },
  {
   "cell_type": "markdown",
   "id": "05a6aa76-121e-4400-bee1-db4b336403b5",
   "metadata": {},
   "source": [
    "Now, 405 new data have been augmented"
   ]
  },
  {
   "cell_type": "code",
   "execution_count": 67,
   "id": "f387f337-01ba-43c7-8a07-77ee732d6f06",
   "metadata": {},
   "outputs": [
    {
     "name": "stdout",
     "output_type": "stream",
     "text": [
      "file_00000.xsf\tfile_00081.xsf\tfile_00162.xsf\tfile_00243.xsf\tfile_00324.xsf\n",
      "file_00001.xsf\tfile_00082.xsf\tfile_00163.xsf\tfile_00244.xsf\tfile_00325.xsf\n",
      "file_00002.xsf\tfile_00083.xsf\tfile_00164.xsf\tfile_00245.xsf\tfile_00326.xsf\n",
      "file_00003.xsf\tfile_00084.xsf\tfile_00165.xsf\tfile_00246.xsf\tfile_00327.xsf\n",
      "file_00004.xsf\tfile_00085.xsf\tfile_00166.xsf\tfile_00247.xsf\tfile_00328.xsf\n",
      "file_00005.xsf\tfile_00086.xsf\tfile_00167.xsf\tfile_00248.xsf\tfile_00329.xsf\n",
      "file_00006.xsf\tfile_00087.xsf\tfile_00168.xsf\tfile_00249.xsf\tfile_00330.xsf\n",
      "file_00007.xsf\tfile_00088.xsf\tfile_00169.xsf\tfile_00250.xsf\tfile_00331.xsf\n",
      "file_00008.xsf\tfile_00089.xsf\tfile_00170.xsf\tfile_00251.xsf\tfile_00332.xsf\n",
      "file_00009.xsf\tfile_00090.xsf\tfile_00171.xsf\tfile_00252.xsf\tfile_00333.xsf\n",
      "file_00010.xsf\tfile_00091.xsf\tfile_00172.xsf\tfile_00253.xsf\tfile_00334.xsf\n",
      "file_00011.xsf\tfile_00092.xsf\tfile_00173.xsf\tfile_00254.xsf\tfile_00335.xsf\n",
      "file_00012.xsf\tfile_00093.xsf\tfile_00174.xsf\tfile_00255.xsf\tfile_00336.xsf\n",
      "file_00013.xsf\tfile_00094.xsf\tfile_00175.xsf\tfile_00256.xsf\tfile_00337.xsf\n",
      "file_00014.xsf\tfile_00095.xsf\tfile_00176.xsf\tfile_00257.xsf\tfile_00338.xsf\n",
      "file_00015.xsf\tfile_00096.xsf\tfile_00177.xsf\tfile_00258.xsf\tfile_00339.xsf\n",
      "file_00016.xsf\tfile_00097.xsf\tfile_00178.xsf\tfile_00259.xsf\tfile_00340.xsf\n",
      "file_00017.xsf\tfile_00098.xsf\tfile_00179.xsf\tfile_00260.xsf\tfile_00341.xsf\n",
      "file_00018.xsf\tfile_00099.xsf\tfile_00180.xsf\tfile_00261.xsf\tfile_00342.xsf\n",
      "file_00019.xsf\tfile_00100.xsf\tfile_00181.xsf\tfile_00262.xsf\tfile_00343.xsf\n",
      "file_00020.xsf\tfile_00101.xsf\tfile_00182.xsf\tfile_00263.xsf\tfile_00344.xsf\n",
      "file_00021.xsf\tfile_00102.xsf\tfile_00183.xsf\tfile_00264.xsf\tfile_00345.xsf\n",
      "file_00022.xsf\tfile_00103.xsf\tfile_00184.xsf\tfile_00265.xsf\tfile_00346.xsf\n",
      "file_00023.xsf\tfile_00104.xsf\tfile_00185.xsf\tfile_00266.xsf\tfile_00347.xsf\n",
      "file_00024.xsf\tfile_00105.xsf\tfile_00186.xsf\tfile_00267.xsf\tfile_00348.xsf\n",
      "file_00025.xsf\tfile_00106.xsf\tfile_00187.xsf\tfile_00268.xsf\tfile_00349.xsf\n",
      "file_00026.xsf\tfile_00107.xsf\tfile_00188.xsf\tfile_00269.xsf\tfile_00350.xsf\n",
      "file_00027.xsf\tfile_00108.xsf\tfile_00189.xsf\tfile_00270.xsf\tfile_00351.xsf\n",
      "file_00028.xsf\tfile_00109.xsf\tfile_00190.xsf\tfile_00271.xsf\tfile_00352.xsf\n",
      "file_00029.xsf\tfile_00110.xsf\tfile_00191.xsf\tfile_00272.xsf\tfile_00353.xsf\n",
      "file_00030.xsf\tfile_00111.xsf\tfile_00192.xsf\tfile_00273.xsf\tfile_00354.xsf\n",
      "file_00031.xsf\tfile_00112.xsf\tfile_00193.xsf\tfile_00274.xsf\tfile_00355.xsf\n",
      "file_00032.xsf\tfile_00113.xsf\tfile_00194.xsf\tfile_00275.xsf\tfile_00356.xsf\n",
      "file_00033.xsf\tfile_00114.xsf\tfile_00195.xsf\tfile_00276.xsf\tfile_00357.xsf\n",
      "file_00034.xsf\tfile_00115.xsf\tfile_00196.xsf\tfile_00277.xsf\tfile_00358.xsf\n",
      "file_00035.xsf\tfile_00116.xsf\tfile_00197.xsf\tfile_00278.xsf\tfile_00359.xsf\n",
      "file_00036.xsf\tfile_00117.xsf\tfile_00198.xsf\tfile_00279.xsf\tfile_00360.xsf\n",
      "file_00037.xsf\tfile_00118.xsf\tfile_00199.xsf\tfile_00280.xsf\tfile_00361.xsf\n",
      "file_00038.xsf\tfile_00119.xsf\tfile_00200.xsf\tfile_00281.xsf\tfile_00362.xsf\n",
      "file_00039.xsf\tfile_00120.xsf\tfile_00201.xsf\tfile_00282.xsf\tfile_00363.xsf\n",
      "file_00040.xsf\tfile_00121.xsf\tfile_00202.xsf\tfile_00283.xsf\tfile_00364.xsf\n",
      "file_00041.xsf\tfile_00122.xsf\tfile_00203.xsf\tfile_00284.xsf\tfile_00365.xsf\n",
      "file_00042.xsf\tfile_00123.xsf\tfile_00204.xsf\tfile_00285.xsf\tfile_00366.xsf\n",
      "file_00043.xsf\tfile_00124.xsf\tfile_00205.xsf\tfile_00286.xsf\tfile_00367.xsf\n",
      "file_00044.xsf\tfile_00125.xsf\tfile_00206.xsf\tfile_00287.xsf\tfile_00368.xsf\n",
      "file_00045.xsf\tfile_00126.xsf\tfile_00207.xsf\tfile_00288.xsf\tfile_00369.xsf\n",
      "file_00046.xsf\tfile_00127.xsf\tfile_00208.xsf\tfile_00289.xsf\tfile_00370.xsf\n",
      "file_00047.xsf\tfile_00128.xsf\tfile_00209.xsf\tfile_00290.xsf\tfile_00371.xsf\n",
      "file_00048.xsf\tfile_00129.xsf\tfile_00210.xsf\tfile_00291.xsf\tfile_00372.xsf\n",
      "file_00049.xsf\tfile_00130.xsf\tfile_00211.xsf\tfile_00292.xsf\tfile_00373.xsf\n",
      "file_00050.xsf\tfile_00131.xsf\tfile_00212.xsf\tfile_00293.xsf\tfile_00374.xsf\n",
      "file_00051.xsf\tfile_00132.xsf\tfile_00213.xsf\tfile_00294.xsf\tfile_00375.xsf\n",
      "file_00052.xsf\tfile_00133.xsf\tfile_00214.xsf\tfile_00295.xsf\tfile_00376.xsf\n",
      "file_00053.xsf\tfile_00134.xsf\tfile_00215.xsf\tfile_00296.xsf\tfile_00377.xsf\n",
      "file_00054.xsf\tfile_00135.xsf\tfile_00216.xsf\tfile_00297.xsf\tfile_00378.xsf\n",
      "file_00055.xsf\tfile_00136.xsf\tfile_00217.xsf\tfile_00298.xsf\tfile_00379.xsf\n",
      "file_00056.xsf\tfile_00137.xsf\tfile_00218.xsf\tfile_00299.xsf\tfile_00380.xsf\n",
      "file_00057.xsf\tfile_00138.xsf\tfile_00219.xsf\tfile_00300.xsf\tfile_00381.xsf\n",
      "file_00058.xsf\tfile_00139.xsf\tfile_00220.xsf\tfile_00301.xsf\tfile_00382.xsf\n",
      "file_00059.xsf\tfile_00140.xsf\tfile_00221.xsf\tfile_00302.xsf\tfile_00383.xsf\n",
      "file_00060.xsf\tfile_00141.xsf\tfile_00222.xsf\tfile_00303.xsf\tfile_00384.xsf\n",
      "file_00061.xsf\tfile_00142.xsf\tfile_00223.xsf\tfile_00304.xsf\tfile_00385.xsf\n",
      "file_00062.xsf\tfile_00143.xsf\tfile_00224.xsf\tfile_00305.xsf\tfile_00386.xsf\n",
      "file_00063.xsf\tfile_00144.xsf\tfile_00225.xsf\tfile_00306.xsf\tfile_00387.xsf\n",
      "file_00064.xsf\tfile_00145.xsf\tfile_00226.xsf\tfile_00307.xsf\tfile_00388.xsf\n",
      "file_00065.xsf\tfile_00146.xsf\tfile_00227.xsf\tfile_00308.xsf\tfile_00389.xsf\n",
      "file_00066.xsf\tfile_00147.xsf\tfile_00228.xsf\tfile_00309.xsf\tfile_00390.xsf\n",
      "file_00067.xsf\tfile_00148.xsf\tfile_00229.xsf\tfile_00310.xsf\tfile_00391.xsf\n",
      "file_00068.xsf\tfile_00149.xsf\tfile_00230.xsf\tfile_00311.xsf\tfile_00392.xsf\n",
      "file_00069.xsf\tfile_00150.xsf\tfile_00231.xsf\tfile_00312.xsf\tfile_00393.xsf\n",
      "file_00070.xsf\tfile_00151.xsf\tfile_00232.xsf\tfile_00313.xsf\tfile_00394.xsf\n",
      "file_00071.xsf\tfile_00152.xsf\tfile_00233.xsf\tfile_00314.xsf\tfile_00395.xsf\n",
      "file_00072.xsf\tfile_00153.xsf\tfile_00234.xsf\tfile_00315.xsf\tfile_00396.xsf\n",
      "file_00073.xsf\tfile_00154.xsf\tfile_00235.xsf\tfile_00316.xsf\tfile_00397.xsf\n",
      "file_00074.xsf\tfile_00155.xsf\tfile_00236.xsf\tfile_00317.xsf\tfile_00398.xsf\n",
      "file_00075.xsf\tfile_00156.xsf\tfile_00237.xsf\tfile_00318.xsf\tfile_00399.xsf\n",
      "file_00076.xsf\tfile_00157.xsf\tfile_00238.xsf\tfile_00319.xsf\tfile_00400.xsf\n",
      "file_00077.xsf\tfile_00158.xsf\tfile_00239.xsf\tfile_00320.xsf\tfile_00401.xsf\n",
      "file_00078.xsf\tfile_00159.xsf\tfile_00240.xsf\tfile_00321.xsf\tfile_00402.xsf\n",
      "file_00079.xsf\tfile_00160.xsf\tfile_00241.xsf\tfile_00322.xsf\tfile_00403.xsf\n",
      "file_00080.xsf\tfile_00161.xsf\tfile_00242.xsf\tfile_00323.xsf\tfile_00404.xsf\n"
     ]
    }
   ],
   "source": [
    "! cd ./additional_xsf/ && ls"
   ]
  },
  {
   "cell_type": "markdown",
   "id": "cfeeb430-3e29-47e0-9030-a00062a14e31",
   "metadata": {},
   "source": [
    "Their structures are perturbed from original 81 training data and energy tags are predicted from the GPR model"
   ]
  },
  {
   "cell_type": "code",
   "execution_count": 71,
   "id": "9993a1c8-b75a-458e-8dd4-bf1f7b0e80b6",
   "metadata": {},
   "outputs": [
    {
     "name": "stdout",
     "output_type": "stream",
     "text": [
      "# total energy = -18640.4973891752706550 eV\n",
      "\n",
      "ATOMS\n",
      "O     9.92127264012626     6.50093407140779     12.21343868476982     -1.40968610275384     -4.27119480036642     0.24898704446125\n",
      "O     8.55434133801045     5.33398729606598     13.56439517467360     -0.99608544815453     -1.29870448964641     -0.01850373800910\n",
      "O     9.96668410450052     4.13716379839725     12.19240851779407     -0.99257130521901     0.83764078730432     0.62999014922648\n",
      "C     9.21163311772355     7.35807652310095     13.03896851048356     4.49410382230976     5.95582137122621     -0.80782121841469\n",
      "C     8.11732902172423     6.70417097223436     13.51979437043934     -3.28208043468046     -1.53412764590116     5.11070803874789\n",
      "C     9.46074486196988     5.13865110141923     12.63028599980413     3.11266455125237     2.05527807148267     -1.56118475507608\n",
      "H     8.99995460662451     8.27781993120021     12.39215806146194     0.00802976786000     -0.88432199881307     1.25404496522134\n",
      "H     9.97459838724691     7.77037950280071     13.83314291255533     -2.05964624736382     -0.85273792558888     -1.66109368000365\n",
      "H     7.84509255707030     6.87929264996455     14.62389767053993     0.41103634808495     -0.15532915596455     -1.95068591921102\n",
      "H     7.15400307204904     6.83565478070780     13.01419395018939     0.21096081163282     -0.62630283629123     -1.06301889223925\n",
      "O     4.99526875368663     2.51891031500184     13.53077630995647     -2.49320296424916     -2.50304984466376     -2.55160441023845\n",
      "O     3.15451390149757     2.96888910428559     12.06584985516971     3.53773923077165     -2.36829620226006     3.44478917567562\n",
      "O     4.02821300472448     0.82693225028660     12.13202460261557     1.57142520338843     2.38117027022053     2.31022220030355\n",
      "C     4.73995233707556     3.86921037109959     13.50318782099829     0.89936725361012     3.40108170377285     3.00928467969935\n",
      "C     3.37337529835413     4.13804020156900     13.05331774599596     0.04669358704646     -1.12075306028362     -5.91331131006531\n",
      "C     4.08828771230010     1.93267322627683     12.60183985903747     -1.85608423405224     1.16395624329553     -2.32528969436190\n",
      "H     5.46255516405207     4.42924824229787     12.93953507639535     0.86428422819214     0.18970270049142     -0.63813013367398\n",
      "H     4.75137268536870     4.31118388239819     14.56481114747769     0.31579349947008     -0.59072864211181     -0.93125079388271\n",
      "H     2.56752020299205     4.14475540458413     13.62659220255452     -1.82481486942072     -0.24442509321078     2.57932999514631\n",
      "H     3.19888310290307     4.91882331490154     12.31141733708784     0.52882492866540     0.38889520026742     0.61200322163879\n"
     ]
    }
   ],
   "source": [
    "! cd ./additional_xsf/ && cat file_00015.xsf"
   ]
  },
  {
   "cell_type": "code",
   "execution_count": 72,
   "id": "b0217aee-9888-4f21-b185-1c8a2a27e7ac",
   "metadata": {},
   "outputs": [
    {
     "name": "stdout",
     "output_type": "stream",
     "text": [
      "# total energy = -18639.3594662669020181 eV\n",
      "\n",
      "ATOMS\n",
      "O     9.95959613978480     6.48686255666783     12.27579619420268     -0.96232854448578     -3.39027573775400     0.47975975158044\n",
      "O     8.52786261680040     5.31546185821189     13.38474167824307     -5.21957950772610     -1.77194637960515     4.33569797480286\n",
      "O     9.99021099516644     4.17176415865194     12.10180838705334     -0.66185255204562     -1.89610333184996     0.52571486073615\n",
      "C     9.27086036425622     7.44491599832899     13.04864414404875     -0.53463706753532     -0.24139733455103     -1.64580822468419\n",
      "C     7.98035335527467     6.67162034302339     13.60287987246303     4.39100203453683     1.05450268300408     1.17694233134158\n",
      "C     9.40333507829427     5.05246341537360     12.59339440932158     5.53125527322413     8.45770042505056     -3.43893571763010\n",
      "H     9.02757547692622     8.33390200389502     12.39922656829425     0.31266570940911     -0.50144384048892     0.58198229103223\n",
      "H     9.93499820840842     7.75723752315277     13.83134842032880     -0.22299331322334     0.83135226109620     0.67089900571561\n",
      "H     7.93314682520050     6.99745973255668     14.75512580652409     0.45960468880866     -1.18074886639787     -2.42458988535282\n",
      "H     7.10700476081143     6.75451446329643     13.01363238645982     -0.59583051750228     0.12229989227435     0.08875035741819\n",
      "O     4.86727356118702     2.50755080782579     13.52927372930705     -0.70447305832514     -1.53663015941537     -0.39741930397457\n",
      "O     3.16775313206825     2.96491210551811     12.06818594797016     2.41773413049954     -0.87848957052626     3.19171480197821\n",
      "O     4.07316645715167     0.77071141589919     12.13813084476939     0.35047144925070     6.03397227601934     2.35483495893361\n",
      "C     4.65567314084182     3.84370033299176     13.48799233366905     4.79783196610774     3.22279495517717     5.05982283567617\n",
      "C     3.41334213580029     4.15323750029043     13.05798500426622     -2.15335196266931     0.71868567354295     -7.88826198284645\n",
      "C     4.06566158607602     1.93992795330913     12.59749214308679     -2.35718119866336     -2.83504678671456     -4.01044324906782\n",
      "H     5.46801397776892     4.34531192062484     12.93434038843639     -0.23229088382150     -0.54460608228051     0.13018728141648\n",
      "H     4.84150256821858     4.27757118540897     14.58900121401986     -0.54654968992441     -0.76348937964106     -2.06967097168704\n",
      "H     2.61547542484251     4.16499805586057     13.61089999307432     -2.47857195216641     -0.22241759067191     2.76771549343303\n",
      "H     3.26279006512155     5.04067360911269     12.33213634446136     0.53862237986915     -0.81574506119939     1.54093373838624\n"
     ]
    }
   ],
   "source": [
    "! cd ./additional_xsf/ && cat file_00016.xsf"
   ]
  },
  {
   "cell_type": "code",
   "execution_count": null,
   "id": "8a64dafc-55c2-40d4-a9fa-2594c256dd71",
   "metadata": {},
   "outputs": [],
   "source": []
  }
 ],
 "metadata": {
  "kernelspec": {
   "display_name": "Python 3",
   "language": "python",
   "name": "python3"
  },
  "language_info": {
   "codemirror_mode": {
    "name": "ipython",
    "version": 3
   },
   "file_extension": ".py",
   "mimetype": "text/x-python",
   "name": "python",
   "nbconvert_exporter": "python",
   "pygments_lexer": "ipython3",
   "version": "3.12.7"
  }
 },
 "nbformat": 4,
 "nbformat_minor": 5
}
