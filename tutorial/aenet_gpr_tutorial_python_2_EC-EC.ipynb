{
 "cells": [
  {
   "cell_type": "code",
   "execution_count": 1,
   "id": "b3f3560f-8a53-47af-9cc3-9743524b0720",
   "metadata": {},
   "outputs": [
    {
     "name": "stdout",
     "output_type": "stream",
     "text": [
      "successfully imported torch\n",
      "2.6.0+cu124\n"
     ]
    }
   ],
   "source": [
    "try:\n",
    "    import torch\n",
    "    print(\"successfully imported torch\")\n",
    "    print(torch.__version__)\n",
    "except ImportError:\n",
    "    !! pip install torch torchvision torchaudio --user --index-url https://download.pytorch.org/whl/cpu\n",
    "    print(\"completed installing torch\")"
   ]
  },
  {
   "cell_type": "code",
   "execution_count": 2,
   "id": "981f8940-e145-4ef8-ba35-4f193f98a123",
   "metadata": {},
   "outputs": [
    {
     "name": "stdout",
     "output_type": "stream",
     "text": [
      "successfully imported numpy\n",
      "1.26.4\n"
     ]
    }
   ],
   "source": [
    "try:\n",
    "    import numpy as np\n",
    "    print(\"successfully imported numpy\")\n",
    "    print(np.__version__)\n",
    "except ImportError:\n",
    "    !! pip install numpy --user --upgrade\n",
    "    print(\"completed installing numpy\")"
   ]
  },
  {
   "cell_type": "code",
   "execution_count": 3,
   "id": "1368d2c8-7d43-4cd1-b1c2-07434d68abb7",
   "metadata": {},
   "outputs": [
    {
     "name": "stdout",
     "output_type": "stream",
     "text": [
      "successfully imported matplotlib\n"
     ]
    }
   ],
   "source": [
    "try:\n",
    "    from matplotlib import pyplot as plt\n",
    "    print(\"successfully imported matplotlib\")\n",
    "except ImportError:\n",
    "    !! pip install matplotlib --user --upgrade\n",
    "    print(\"completed installing matplotlib\")"
   ]
  },
  {
   "cell_type": "code",
   "execution_count": 4,
   "id": "0ca9c394-e7f4-48e5-93c9-05a409395950",
   "metadata": {},
   "outputs": [
    {
     "name": "stdout",
     "output_type": "stream",
     "text": [
      "completed installing aenet-gpr\n",
      "Name: aenet-gpr\n",
      "Version: 1.2.9\n",
      "Summary: Atomistic simulation tools based on Gaussian Processes Regression\n",
      "Home-page: https://github.com/atomisticnet/aenet-gpr\n",
      "Author: In Won Yeu\n",
      "Author-email: iy2185@columbia.edu\n",
      "License: MPL-2.0\n",
      "Location: /data/home/iy2185/.local/lib/python3.12/site-packages\n",
      "Requires: ase, dscribe\n",
      "Required-by: \n"
     ]
    }
   ],
   "source": [
    "!! pip install aenet-gpr --user --upgrade\n",
    "print(\"completed installing aenet-gpr\")\n",
    "\n",
    "! pip show aenet-gpr"
   ]
  },
  {
   "cell_type": "code",
   "execution_count": 5,
   "id": "4bb23243-9ca4-4176-a532-643839db206a",
   "metadata": {},
   "outputs": [
    {
     "name": "stdout",
     "output_type": "stream",
     "text": [
      "1.2.9\n"
     ]
    }
   ],
   "source": [
    "import os, sys, site\n",
    "sys.path.append(site.USER_SITE)\n",
    "\n",
    "import aenet_gpr\n",
    "print(aenet_gpr.__version__)\n",
    "\n",
    "from aenet_gpr.util import ReferenceData\n",
    "from aenet_gpr.inout import io_train_parameters"
   ]
  },
  {
   "cell_type": "markdown",
   "id": "f9cfd82b-8f6c-48ec-9c57-54ea593bb81b",
   "metadata": {},
   "source": [
    "# 1. Read reference training/test data from xsf files"
   ]
  },
  {
   "cell_type": "markdown",
   "id": "c9e24d9c-0921-4127-af76-ba83f8574d71",
   "metadata": {},
   "source": [
    "We are using train/test HSE06 data of EC dimer prepared in `aenet-gpr/example/2_EC-EC/`"
   ]
  },
  {
   "cell_type": "code",
   "execution_count": 6,
   "id": "d50bab63-a944-4fa9-b202-3deb00dcf64b",
   "metadata": {},
   "outputs": [
    {
     "name": "stdout",
     "output_type": "stream",
     "text": [
      "--2025-05-25 21:21:24--  https://github.com/atomisticnet/aenet-gpr/raw/refs/heads/main/example/2_EC-EC/train_set_tutorial.zip\n",
      "Resolving github.com (github.com)... 140.82.112.4\n",
      "Connecting to github.com (github.com)|140.82.112.4|:443... connected.\n",
      "HTTP request sent, awaiting response... 302 Found\n",
      "Location: https://raw.githubusercontent.com/atomisticnet/aenet-gpr/refs/heads/main/example/2_EC-EC/train_set_tutorial.zip [following]\n",
      "--2025-05-25 21:21:24--  https://raw.githubusercontent.com/atomisticnet/aenet-gpr/refs/heads/main/example/2_EC-EC/train_set_tutorial.zip\n",
      "Resolving raw.githubusercontent.com (raw.githubusercontent.com)... 185.199.111.133, 185.199.110.133, 185.199.109.133, ...\n",
      "Connecting to raw.githubusercontent.com (raw.githubusercontent.com)|185.199.111.133|:443... connected.\n",
      "HTTP request sent, awaiting response... 200 OK\n",
      "Length: 101063 (99K) [application/zip]\n",
      "Saving to: ‘train_set_tutorial.zip’\n",
      "\n",
      "train_set_tutorial. 100%[===================>]  98.69K  --.-KB/s    in 0.002s  \n",
      "\n",
      "2025-05-25 21:21:24 (38.7 MB/s) - ‘train_set_tutorial.zip’ saved [101063/101063]\n",
      "\n",
      "number of train data:\n",
      "80\n"
     ]
    }
   ],
   "source": [
    "import os.path\n",
    "\n",
    "! rm -rf 2_EC-EC\n",
    "! mkdir 2_EC-EC\n",
    "    \n",
    "if os.path.isfile(\"../example/2_EC-EC/train_set_tutorial.zip\"):\n",
    "    ! unzip -oq ../example/2_EC-EC/train_set_tutorial.zip -d ./2_EC-EC/\n",
    "    print(\"number of train data:\")\n",
    "    ! find ./2_EC-EC/train_set_tutorial/ -type f | wc -l\n",
    "else:\n",
    "    ! wget https://github.com/atomisticnet/aenet-gpr/raw/refs/heads/main/example/2_EC-EC/train_set_tutorial.zip\n",
    "    ! unzip -oq train_set_tutorial.zip -d ./2_EC-EC/\n",
    "    ! rm train_set_tutorial.zip\n",
    "    print(\"number of train data:\")\n",
    "    ! find ./2_EC-EC/train_set_tutorial/ -type f | wc -l"
   ]
  },
  {
   "cell_type": "code",
   "execution_count": 7,
   "id": "21ba107a-9e4c-44cd-82e4-d9d5cf97477b",
   "metadata": {},
   "outputs": [
    {
     "name": "stdout",
     "output_type": "stream",
     "text": [
      "--2025-05-25 21:21:26--  https://github.com/atomisticnet/aenet-gpr/raw/refs/heads/main/example/2_EC-EC/test_set_tutorial.zip\n",
      "Resolving github.com (github.com)... 140.82.112.4\n",
      "Connecting to github.com (github.com)|140.82.112.4|:443... connected.\n",
      "HTTP request sent, awaiting response... 302 Found\n",
      "Location: https://raw.githubusercontent.com/atomisticnet/aenet-gpr/refs/heads/main/example/2_EC-EC/test_set_tutorial.zip [following]\n",
      "--2025-05-25 21:21:26--  https://raw.githubusercontent.com/atomisticnet/aenet-gpr/refs/heads/main/example/2_EC-EC/test_set_tutorial.zip\n",
      "Resolving raw.githubusercontent.com (raw.githubusercontent.com)... 185.199.111.133, 185.199.110.133, 185.199.109.133, ...\n",
      "Connecting to raw.githubusercontent.com (raw.githubusercontent.com)|185.199.111.133|:443... connected.\n",
      "HTTP request sent, awaiting response... 200 OK\n",
      "Length: 148252 (145K) [application/zip]\n",
      "Saving to: ‘test_set_tutorial.zip’\n",
      "\n",
      "test_set_tutorial.z 100%[===================>] 144.78K  --.-KB/s    in 0.003s  \n",
      "\n",
      "2025-05-25 21:21:26 (46.0 MB/s) - ‘test_set_tutorial.zip’ saved [148252/148252]\n",
      "\n",
      "number of test data:\n",
      "160\n"
     ]
    }
   ],
   "source": [
    "if os.path.isfile(\"../example/2_EC-EC/test_set_tutorial.zip\"):\n",
    "    ! unzip -oq ../example/2_EC-EC/test_set_tutorial.zip -d ./2_EC-EC/\n",
    "    print(\"number of test data:\")\n",
    "    ! find ./2_EC-EC/test_set_tutorial/ -type f | wc -l\n",
    "else:\n",
    "    ! wget https://github.com/atomisticnet/aenet-gpr/raw/refs/heads/main/example/2_EC-EC/test_set_tutorial.zip\n",
    "    ! unzip -oq test_set_tutorial.zip -d ./2_EC-EC/\n",
    "    ! rm test_set_tutorial.zip\n",
    "    print(\"number of test data:\")\n",
    "    ! find ./2_EC-EC/test_set_tutorial/ -type f | wc -l"
   ]
  },
  {
   "cell_type": "markdown",
   "id": "bb7418a9-b838-4d47-ac4b-284ec1ab89d5",
   "metadata": {},
   "source": [
    "First, let aenet-gpr read the train/test files"
   ]
  },
  {
   "cell_type": "code",
   "execution_count": 8,
   "id": "36e0a117-e0fd-41a1-8f30-7d374bf58716",
   "metadata": {
    "tags": []
   },
   "outputs": [
    {
     "name": "stdout",
     "output_type": "stream",
     "text": [
      "(80,)\n",
      "(80, 20, 3)\n"
     ]
    }
   ],
   "source": [
    "import glob\n",
    "\n",
    "\n",
    "train_xsf_files = glob.glob(\"./2_EC-EC/train_set_tutorial/file_*\")\n",
    "train_xsf_files.sort()\n",
    "train_data = ReferenceData(structure_files=train_xsf_files, file_format='xsf')\n",
    "train_data.set_data()\n",
    "\n",
    "print(train_data.energy.shape)\n",
    "print(train_data.force.shape)"
   ]
  },
  {
   "cell_type": "markdown",
   "id": "fe4c1b49-fe17-4cd7-977f-d0adda2695aa",
   "metadata": {},
   "source": [
    "# 2. Model train"
   ]
  },
  {
   "cell_type": "code",
   "execution_count": 9,
   "id": "118f1319-3dd3-482f-81ee-b0f80918bdf3",
   "metadata": {
    "tags": []
   },
   "outputs": [
    {
     "name": "stdout",
     "output_type": "stream",
     "text": [
      "\n",
      "Training parameters\n",
      "{'num_data': 80, 'calculator': {'kerneltype': 'sqexp', 'scale': tensor(1.5000, dtype=torch.float64), 'weight': tensor(1., dtype=torch.float64), 'noise': tensor(1.0000e-06, dtype=torch.float64), 'noisefactor': tensor(0.5000, dtype=torch.float64)}, 'fix_ind': None, 'pbc': False, 'species': ['O', 'O', 'O', 'C', 'C', 'C', 'H', 'H', 'H', 'H', 'O', 'O', 'O', 'C', 'C', 'C', 'H', 'H', 'H', 'H'], 'num_atom': 20}\n",
      "\n"
     ]
    }
   ],
   "source": [
    "if train_data.standardization:\n",
    "    train_data.standardize_energy_force(train_data.energy)\n",
    "train_data.config_calculator(kerneltype='sqexp', scale=1.5, weight=1.0)\n",
    "\n",
    "io_train_parameters(data_param=train_data.write_params())"
   ]
  },
  {
   "cell_type": "markdown",
   "id": "834f799e-6247-46c2-937e-e334f2a14a01",
   "metadata": {},
   "source": [
    "# 3. Evaluation for test set using ASE Calculator"
   ]
  },
  {
   "cell_type": "code",
   "execution_count": 10,
   "id": "f1d5adce-d9bd-4b9d-ae5e-1eb41289ae1f",
   "metadata": {},
   "outputs": [],
   "source": [
    "from IPython.display import Image\n",
    "from aenet_gpr.src import GPRCalculator"
   ]
  },
  {
   "cell_type": "code",
   "execution_count": 11,
   "id": "8dd35047-1df6-4640-b5a9-59a61ae66eab",
   "metadata": {},
   "outputs": [
    {
     "name": "stdout",
     "output_type": "stream",
     "text": [
      "successfully imported ase\n"
     ]
    }
   ],
   "source": [
    "try:\n",
    "    import ase.io\n",
    "    print(\"successfully imported ase\")\n",
    "except ImportError:\n",
    "    !! pip install ase --user --upgrade\n",
    "    print(\"completed installing ASE\")\n",
    "    \n",
    "    import ase.io\n",
    "    print(\"successfully imported ase\")"
   ]
  },
  {
   "cell_type": "code",
   "execution_count": 12,
   "id": "4a180f6d-00dd-4829-a84d-4f619cf839ec",
   "metadata": {},
   "outputs": [
    {
     "name": "stdout",
     "output_type": "stream",
     "text": [
      "Reference DFT energy: [-18642.26998325]\n",
      "Reference DFT forces: [[[-1.32399475 -1.32399475 -1.32399475]\n",
      "  [-0.92304765 -0.92304765 -0.92304765]\n",
      "  [-1.59532558 -1.59532558 -1.59532558]\n",
      "  [ 1.83111036  1.83111036  1.83111036]\n",
      "  [-0.59484473 -0.59484473 -0.59484473]\n",
      "  [ 2.70840812  2.70840812  2.70840812]\n",
      "  [ 0.38925995  0.38925995  0.38925995]\n",
      "  [ 0.15550669  0.15550669  0.15550669]\n",
      "  [ 0.02488009  0.02488009  0.02488009]\n",
      "  [-0.70488214 -0.70488214 -0.70488214]\n",
      "  [-0.37657584 -0.37657584 -0.37657584]\n",
      "  [ 2.00728478  2.00728478  2.00728478]\n",
      "  [ 0.03323899  0.03323899  0.03323899]\n",
      "  [ 0.84234494  0.84234494  0.84234494]\n",
      "  [-1.34529812 -1.34529812 -1.34529812]\n",
      "  [-1.28327796 -1.28327796 -1.28327796]\n",
      "  [-0.06006712 -0.06006712 -0.06006712]\n",
      "  [ 0.02399728  0.02399728  0.02399728]\n",
      "  [ 0.28590626  0.28590626  0.28590626]\n",
      "  [-0.09462356 -0.09462356 -0.09462356]]]\n"
     ]
    }
   ],
   "source": [
    "test_file = [\"./2_EC-EC/test_set_tutorial/file_0000.xsf\"]\n",
    "test_data = ReferenceData(structure_files=test_file, file_format='xsf')\n",
    "\n",
    "print(\"Reference DFT energy:\", test_data.energy)\n",
    "print(\"Reference DFT forces:\", test_data.force)"
   ]
  },
  {
   "cell_type": "code",
   "execution_count": 13,
   "id": "f00a897a-d184-4dae-b3e8-382c45e238a9",
   "metadata": {},
   "outputs": [
    {
     "data": {
      "image/png": "[encoded data removed]",
      "text/plain": [
       "<IPython.core.display.Image object>"
      ]
     },
     "execution_count": 13,
     "metadata": {},
     "output_type": "execute_result"
    }
   ],
   "source": [
    "atoms = ase.io.read(test_file[0])\n",
    "ase.io.write('2EC.png', atoms)\n",
    "Image(\"2EC.png\")"
   ]
  },
  {
   "cell_type": "code",
   "execution_count": 14,
   "id": "2d0dd8f4-d3c1-45c6-bab4-9f01d0d3bedf",
   "metadata": {
    "tags": []
   },
   "outputs": [],
   "source": [
    "calc = GPRCalculator(calculator=train_data.calculator, train_energy=train_data.energy)"
   ]
  },
  {
   "cell_type": "code",
   "execution_count": 15,
   "id": "3c5eb615-bcd8-425e-95c9-b91f416ea6bc",
   "metadata": {},
   "outputs": [],
   "source": [
    "atoms.calc = calc"
   ]
  },
  {
   "cell_type": "code",
   "execution_count": 16,
   "id": "9b40b4cf-f3aa-466b-806e-6f16d9d572ea",
   "metadata": {},
   "outputs": [
    {
     "name": "stdout",
     "output_type": "stream",
     "text": [
      "GPR energy prediction: -18642.283811577345\n",
      "GPR forces prediction: [[-1.49670338e+00  2.04820476e+00  7.93018770e-01]\n",
      " [-9.92569942e-01  6.73663329e-01  1.38801343e-01]\n",
      " [-1.39668338e+00  1.93932237e+00  7.44977604e-01]\n",
      " [ 1.63304237e+00  5.08586345e-01 -1.54637539e+00]\n",
      " [-8.62805370e-01 -1.10728275e+00  2.81601907e+00]\n",
      " [ 2.79190881e+00 -3.54909140e+00 -1.16763672e+00]\n",
      " [ 4.29450345e-01 -6.21368950e-01  1.07243410e-02]\n",
      " [ 2.03483369e-01  6.38835080e-02  1.16148720e-01]\n",
      " [ 2.20672756e-01  3.12180991e-02 -1.87620122e+00]\n",
      " [-4.73290621e-01 -1.53688694e-02 -2.10870533e-01]\n",
      " [-2.81065157e-01  3.19695685e-01 -4.27885583e-01]\n",
      " [ 2.26521637e+00 -1.79696881e+00  1.16934239e+00]\n",
      " [-6.52543446e-02  2.90690647e+00  1.12525281e+00]\n",
      " [ 7.96950081e-01 -1.10307128e+00 -2.54452073e-02]\n",
      " [-1.16976339e+00  2.38070918e-01 -1.31131431e+00]\n",
      " [-1.53256681e+00 -5.65423802e-01 -1.92247122e+00]\n",
      " [ 3.93964600e-02 -2.67278128e-02 -7.34898923e-02]\n",
      " [ 1.92419747e-01  6.96224547e-01  9.29640656e-01]\n",
      " [ 1.25348325e-01  4.64960294e-01 -9.71823876e-02]\n",
      " [ 1.78235572e-03 -7.01958885e-01  8.54930470e-01]]\n"
     ]
    }
   ],
   "source": [
    "print(\"GPR energy prediction:\", atoms.get_potential_energy())\n",
    "print(\"GPR forces prediction:\", atoms.get_forces())"
   ]
  },
  {
   "cell_type": "code",
   "execution_count": null,
   "id": "fd8f3b56-1b1b-4cb1-8f19-05c384b8398e",
   "metadata": {},
   "outputs": [],
   "source": []
  }
 ],
 "metadata": {
  "kernelspec": {
   "display_name": "Python 3",
   "language": "python",
   "name": "python3"
  },
  "language_info": {
   "codemirror_mode": {
    "name": "ipython",
    "version": 3
   },
   "file_extension": ".py",
   "mimetype": "text/x-python",
   "name": "python",
   "nbconvert_exporter": "python",
   "pygments_lexer": "ipython3",
   "version": "3.12.7"
  }
 },
 "nbformat": 4,
 "nbformat_minor": 5
}
