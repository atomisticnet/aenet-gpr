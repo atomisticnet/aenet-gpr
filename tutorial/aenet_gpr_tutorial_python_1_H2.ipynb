{
 "cells": [
  {
   "cell_type": "code",
   "execution_count": null,
   "id": "8d96e3d3-c936-471d-b313-33c36d0e742c",
   "metadata": {
    "tags": []
   },
   "outputs": [],
   "source": [
    "try:\n",
    "    from ase import Atoms\n",
    "    from ase.calculators.lj import LennardJones\n",
    "    print(\"successfully imported ase\")\n",
    "except ImportError:\n",
    "    !! pip install ase --user --upgrade\n",
    "    print(\"completed installing ASE\")"
   ]
  },
  {
   "cell_type": "code",
   "execution_count": null,
   "id": "78af600e-1c02-4e34-bd05-0128b0588c1c",
   "metadata": {},
   "outputs": [],
   "source": [
    "try:\n",
    "    import torch\n",
    "    print(\"successfully imported torch\")\n",
    "except ImportError:\n",
    "    !! pip install torch --user --upgrade\n",
    "    print(\"completed installing torch\")"
   ]
  },
  {
   "cell_type": "code",
   "execution_count": null,
   "id": "1199d147-8447-40a5-8fa4-a644a38132f4",
   "metadata": {},
   "outputs": [],
   "source": [
    "try:\n",
    "    import dscribe\n",
    "    print(\"successfully imported dscribe\")\n",
    "except ImportError:\n",
    "    !! pip install dscribe --user --upgrade\n",
    "    print(\"completed installing dscribe\")"
   ]
  },
  {
   "cell_type": "code",
   "execution_count": null,
   "id": "c42615d0-12e1-4e3c-afa8-d31cf68e660a",
   "metadata": {},
   "outputs": [],
   "source": [
    "try:\n",
    "    import numpy as np\n",
    "    print(\"successfully imported numpy\")\n",
    "except ImportError:\n",
    "    !! pip install numpy --user --upgrade\n",
    "    print(\"completed installing numpy\")"
   ]
  },
  {
   "cell_type": "code",
   "execution_count": null,
   "id": "b3f3560f-8a53-47af-9cc3-9743524b0720",
   "metadata": {},
   "outputs": [],
   "source": [
    "try:\n",
    "    from matplotlib import pyplot as plt\n",
    "    print(\"successfully imported matplotlib\")\n",
    "except ImportError:\n",
    "    !! pip install matplotlib --user --upgrade\n",
    "    print(\"completed installing matplotlib\")"
   ]
  },
  {
   "cell_type": "code",
   "execution_count": null,
   "id": "11e45431-8717-40ed-ba5a-348bdfe73539",
   "metadata": {},
   "outputs": [],
   "source": [
    "!! pip install --user --upgrade aenet-gpr\n",
    "print(\"completed installing aenet-gpr\")\n",
    "\n",
    "import aenet_gpr\n",
    "print(aenet_gpr.__version__)\n",
    "\n",
    "from aenet_gpr.util import ReferenceData\n",
    "from aenet_gpr.src import gpr_batch\n",
    "from aenet_gpr.inout import io_train_parameters, io_test_parameters\n",
    "from aenet_gpr.util.prepare_data import standard_output, inverse_standard_output"
   ]
  },
  {
   "cell_type": "markdown",
   "id": "f9cfd82b-8f6c-48ec-9c57-54ea593bb81b",
   "metadata": {},
   "source": [
    "# 1. Read reference training/test data from xsf files"
   ]
  },
  {
   "cell_type": "markdown",
   "id": "c9e24d9c-0921-4127-af76-ba83f8574d71",
   "metadata": {},
   "source": [
    "We are using train/test data of H-H Lennard-Jones potential prepared in `aenet-gpr/example/1_H2/`"
   ]
  },
  {
   "cell_type": "code",
   "execution_count": null,
   "id": "d50bab63-a944-4fa9-b202-3deb00dcf64b",
   "metadata": {},
   "outputs": [],
   "source": [
    "import os.path\n",
    "\n",
    "if os.path.isdir(\"./1_H2/\"):\n",
    "    ! mkdir 1_H2\n",
    "    \n",
    "if os.path.isfile(\"../example/1_H2/train_set.zip\"):\n",
    "    ! unzip -oq ../example/1_H2/train_set.zip -d ./1_H2/\n",
    "else:\n",
    "    ! wget https://github.com/atomisticnet/aenet-gpr/raw/refs/heads/main/example/1_H2/train_set.zip\n",
    "    ! unzip -oq train_set.zip -d ./1_H2/\n",
    "    ! rm train_set.zip"
   ]
  },
  {
   "cell_type": "code",
   "execution_count": null,
   "id": "21ba107a-9e4c-44cd-82e4-d9d5cf97477b",
   "metadata": {},
   "outputs": [],
   "source": [
    "if os.path.isfile(\"../example/1_H2/test_set.zip\"):\n",
    "    ! unzip -oq ../example/1_H2/test_set.zip -d ./1_H2/\n",
    "else:\n",
    "    ! wget https://github.com/atomisticnet/aenet-gpr/raw/refs/heads/main/example/1_H2/test_set.zip\n",
    "    ! unzip -oq test_set.zip -d ./1_H2/\n",
    "    ! rm test_set.zip"
   ]
  },
  {
   "cell_type": "markdown",
   "id": "bb7418a9-b838-4d47-ac4b-284ec1ab89d5",
   "metadata": {},
   "source": [
    "First, let aenet-gpr read the train/test files"
   ]
  },
  {
   "cell_type": "code",
   "execution_count": null,
   "id": "36e0a117-e0fd-41a1-8f30-7d374bf58716",
   "metadata": {
    "tags": []
   },
   "outputs": [],
   "source": [
    "import glob\n",
    "\n",
    "\n",
    "train_xsf_files = glob.glob(\"./1_H2/train_set/file_*\")\n",
    "train_xsf_files.sort()\n",
    "train_data = ReferenceData(structure_files=train_xsf_files, file_format='xsf')\n",
    "train_data.set_data()\n",
    "\n",
    "print(train_data.energy.shape)\n",
    "print(train_data.force.shape)"
   ]
  },
  {
   "cell_type": "code",
   "execution_count": null,
   "id": "1e89599a-603a-48e1-988e-3e3dbe9f48fb",
   "metadata": {
    "tags": []
   },
   "outputs": [],
   "source": [
    "test_xsf_files = glob.glob(\"./1_H2/test_set/file_*\")\n",
    "test_xsf_files.sort()\n",
    "test_data = ReferenceData(structure_files=test_xsf_files, file_format='xsf')\n",
    "test_data.set_data()\n",
    "\n",
    "print(test_data.energy.shape)\n",
    "print(test_data.force.shape)"
   ]
  },
  {
   "cell_type": "markdown",
   "id": "fe4c1b49-fe17-4cd7-977f-d0adda2695aa",
   "metadata": {},
   "source": [
    "# 2. Model train"
   ]
  },
  {
   "cell_type": "markdown",
   "id": "b2884bc7-e15f-4875-bd38-e4d9cf5855ae",
   "metadata": {},
   "source": [
    "Second, construct a GPR model fitted to training energy and force data (7 sample points). \n",
    "\n",
    "In this example, default settings, energy/force standardization and sqexp kernel parameters, are used."
   ]
  },
  {
   "cell_type": "code",
   "execution_count": null,
   "id": "118f1319-3dd3-482f-81ee-b0f80918bdf3",
   "metadata": {
    "tags": []
   },
   "outputs": [],
   "source": [
    "if train_data.standardization:\n",
    "    train_data.standardize_energy_force(train_data.energy)\n",
    "train_data.config_calculator()\n",
    "\n",
    "io_train_parameters(data_param=train_data.write_params())"
   ]
  },
  {
   "cell_type": "markdown",
   "id": "834f799e-6247-46c2-937e-e334f2a14a01",
   "metadata": {},
   "source": [
    "# 3. Model evaluation for test set"
   ]
  },
  {
   "cell_type": "markdown",
   "id": "06878886-09d0-4a15-af73-f4206aecfb15",
   "metadata": {},
   "source": [
    "Finally, using the constructed GPR model, evaluate energy and force of test structures (200 structures)."
   ]
  },
  {
   "cell_type": "code",
   "execution_count": null,
   "id": "2d0dd8f4-d3c1-45c6-bab4-9f01d0d3bedf",
   "metadata": {
    "tags": []
   },
   "outputs": [],
   "source": [
    "test_data.calculator = train_data.calculator\n",
    "\n",
    "io_test_parameters(data_param=test_data.write_params())\n",
    "\n",
    "energy_test_gpr, force_test_gpr, uncertainty_test_gpr = test_data.evaluation(get_variance=True)"
   ]
  },
  {
   "cell_type": "markdown",
   "id": "538d6900-6ff7-46d1-88d9-222a51944ddb",
   "metadata": {},
   "source": [
    "Since the training energy/force values were standardized, the raw predictions should also be standardized.\n",
    "\n",
    "Final predictions on energy and force can be obtained from inverse standardization."
   ]
  },
  {
   "cell_type": "code",
   "execution_count": null,
   "id": "87db43dd-8c41-465c-b3f3-895b71c06662",
   "metadata": {
    "tags": []
   },
   "outputs": [],
   "source": [
    "if train_data.standardization:\n",
    "    energy_test_gpr, force_test_gpr = inverse_standard_output(energy_ref=train_data.energy,\n",
    "                                                              scaled_energy_target=energy_test_gpr,\n",
    "                                                              scaled_force_target=force_test_gpr)\n",
    "\n",
    "abs_force_test_gpr = np.linalg.norm(force_test_gpr, axis=2)\n",
    "abs_force_test = np.linalg.norm(test_data.force, axis=2)\n",
    "\n",
    "print(\"Energy MAE (eV):\", np.absolute(np.subtract(energy_test_gpr, test_data.energy)).mean())\n",
    "print(\"Force MAE (eV/Ang):\", np.absolute(np.subtract(abs_force_test_gpr, abs_force_test)).mean())"
   ]
  },
  {
   "cell_type": "markdown",
   "id": "425f3f21-6952-4e7f-982f-d1ef5438da92",
   "metadata": {},
   "source": [
    "Let's check the GPR energy and force predictions in comparison with Lennard-Jones potential.\n",
    "\n",
    "The results will be shown by energy/force vs H-H bond distance plots."
   ]
  },
  {
   "cell_type": "code",
   "execution_count": null,
   "id": "38388991-305a-4199-baaf-6817f36c1766",
   "metadata": {},
   "outputs": [],
   "source": [
    "d_train = []\n",
    "for image in train_data.images:\n",
    "    d_train.append(np.linalg.norm(image.get_positions()[1] - image.get_positions()[0]))\n",
    "\n",
    "d_test = []\n",
    "for image in test_data.images:\n",
    "    d_test.append(np.linalg.norm(image.get_positions()[1] - image.get_positions()[0]))"
   ]
  },
  {
   "cell_type": "code",
   "execution_count": null,
   "id": "f11a333f-87cf-480e-8b80-62f6be9d8fd2",
   "metadata": {
    "tags": []
   },
   "outputs": [],
   "source": [
    "fig = plt.figure(figsize=(3.5, 5.5))\n",
    "ax1, ax2, ax3 = fig.subplots(3, 1, height_ratios=[1, 1, 1.5], sharex=False, sharey=False)\n",
    "\n",
    "font_x = {'size': 16, 'color': 'black'}\n",
    "font_y = {'size': 16, 'color': 'black'}\n",
    "font_tick = {'size': 12, 'color': 'black'} \n",
    "\n",
    "\n",
    "# The 1st plot\n",
    "ax1.fill_between(d_test, uncertainty_test_gpr, 0, label='Uncertainty', color='crimson', alpha=0.5, edgecolor='black')\n",
    "ax1.vlines(d_train, ymin=-100, ymax=100, color='black', linestyle='--', linewidth=1)\n",
    "\n",
    "# ax1.set_xlabel(\"Error in energy [eV]\", fontdict=font_x)\n",
    "ax1.set_xlim([0.95, 2.05])\n",
    "x_labels = [round(label, 2) for label in ax1.get_xticks()]\n",
    "ax1.set_xticks(x_labels)\n",
    "ax1.set_xlim([0.95, 2.05])\n",
    "ax1.set_xticklabels(x_labels, fontdict=font_tick)\n",
    "\n",
    "ax1.set_ylabel('Uncertainty', fontdict=font_y)\n",
    "ax1.set_ylim(0, 0.05)\n",
    "y_labels = [round(label, 3) for label in ax1.get_yticks()]\n",
    "y_labels = [0.01, 0.03, 0.05]\n",
    "ax1.set_yticks(y_labels)\n",
    "ax1.set_ylim([0, 0.05])\n",
    "ax1.set_yticklabels(y_labels, fontdict=font_tick)\n",
    "\n",
    "[x.set_linewidth(1.5) for x in ax1.spines.values()]\n",
    "ax1.tick_params(bottom=True, top=True, left=True, right=True)\n",
    "ax1.tick_params(labelbottom=False, labeltop=False, labelleft=True, labelright=False)\n",
    "ax1.tick_params(direction='in', length=8, width=1.5)\n",
    "\n",
    "\n",
    "# The second plot\n",
    "ax2.fill_between(d_test, np.subtract(energy_test_gpr, test_data.energy), 0, color='crimson', alpha=0.5, edgecolor='black')\n",
    "ax2.vlines(d_train, ymin=-100, ymax=100, color='black', linestyle='--', linewidth=1)\n",
    "\n",
    "ax2.set_xlim([0.95, 2.05])\n",
    "x_labels = [round(label, 2) for label in ax2.get_xticks()]\n",
    "ax2.set_xticks(x_labels)\n",
    "ax2.set_xlim([0.95, 2.05])\n",
    "ax2.set_xticklabels(x_labels, fontdict=font_tick)\n",
    "\n",
    "ax2.set_ylabel(\"Error (eV)\", fontdict=font_y)\n",
    "ax2.set_ylim([-0.05, 0.05])\n",
    "y_labels = [round(label, 2) for label in ax2.get_yticks()]\n",
    "y_labels = [-0.04, -0.02, 0.0, 0.02, 0.04]\n",
    "ax2.set_yticks(y_labels)\n",
    "ax2.set_ylim([-0.05, 0.05])\n",
    "ax2.set_yticklabels(y_labels, fontdict=font_tick)\n",
    "\n",
    "[x.set_linewidth(1.5) for x in ax2.spines.values()]\n",
    "ax2.tick_params(bottom=True, top=True, left=True, right=True)\n",
    "ax2.tick_params(labelbottom=False, labeltop=False, labelleft=True, labelright=False)\n",
    "ax2.tick_params(direction='in', length=8, width=1.5)\n",
    "\n",
    "\n",
    "# The third plot\n",
    "ax3.plot(d_test, test_data.energy, '-', color='gray', label='Target', alpha=0.5, linewidth=10)\n",
    "ax3.plot(d_test, energy_test_gpr, '-', label='GPR', color='crimson', linewidth=4)\n",
    "ax3.vlines(d_train, ymin=-100, ymax=100, color='black', linestyle='--', linewidth=1)\n",
    "\n",
    "ax3.plot(d_train, train_data.energy, 'o', label='Data', color='black', markersize=8)\n",
    "\n",
    "ax3.set_xlabel('H-H distance (Ang)', fontdict=font_x)\n",
    "ax3.set_xlim(0.95, 2.05)\n",
    "x_labels = [round(label, 2) for label in ax3.get_xticks()]\n",
    "ax3.set_xticks(x_labels)\n",
    "ax3.set_xticklabels(x_labels, fontdict=font_tick)\n",
    "ax3.set_xlim(0.95, 2.05)\n",
    "\n",
    "ax3.set_ylabel('Energy (eV)', fontdict=font_y)\n",
    "ax3.set_ylim(-1.4, 2.2)\n",
    "y_labels = [round(label, 2) for label in ax3.get_yticks()]\n",
    "# y_labels = [-1.0, -0.5, 0.0, 0.5, 1.0, 1.5, 2.0]\n",
    "ax3.set_yticks(y_labels)\n",
    "ax3.set_yticklabels(y_labels, fontdict=font_tick)\n",
    "ax3.set_ylim(-1.4, 2.2)\n",
    "\n",
    "ax3.legend(loc='upper right', fontsize=12, ncol=1, frameon=True)\n",
    "[x.set_linewidth(1.5) for x in ax3.spines.values()]\n",
    "ax3.tick_params(bottom=True, top=True, left=True, right=False)\n",
    "ax3.tick_params(labelbottom=True, labeltop=False, labelleft=True, labelright=False)\n",
    "ax3.tick_params(direction='in', length=8, width=1.5)\n",
    "\n",
    "fig.tight_layout()\n",
    "plt.subplots_adjust(hspace=0.05, wspace=0.05)\n",
    "plt.show()"
   ]
  },
  {
   "cell_type": "code",
   "execution_count": null,
   "id": "97e63ab6-a59b-40de-9e7e-a0214206fc9f",
   "metadata": {
    "tags": []
   },
   "outputs": [],
   "source": [
    "fig = plt.figure(figsize=(3.5, 4.5))\n",
    "ax2, ax3 = fig.subplots(2, 1, height_ratios=[1, 1.5], sharex=False, sharey=False)\n",
    "\n",
    "font_x = {'size': 16, 'color': 'black'}\n",
    "font_y = {'size': 16, 'color': 'black'}\n",
    "font_tick = {'size': 12, 'color': 'black'}\n",
    "\n",
    "\n",
    "# The second plot\n",
    "ax2.fill_between(d_test, np.subtract(force_test_gpr[:, 0, 0], test_data.force[:, 0, 0]), 0, color='crimson', alpha=0.5, edgecolor='black')\n",
    "ax2.vlines(d_train, ymin=-100, ymax=100, color='black', linestyle='--', linewidth=1)\n",
    "\n",
    "ax2.set_xlim([0.95, 2.05])\n",
    "x_labels = [round(label, 2) for label in ax2.get_xticks()]\n",
    "ax2.set_xticks(x_labels)\n",
    "ax2.set_xlim([0.95, 2.05])\n",
    "ax2.set_xticklabels(x_labels, fontdict=font_tick)\n",
    "\n",
    "ax2.set_ylabel(\"Error (eV/Ang)\", fontdict=font_y)\n",
    "ax2.set_ylim([-1.2, 1.2])\n",
    "y_labels = [round(label, 2) for label in ax2.get_yticks()]\n",
    "y_labels = [-1.0, -0.5, 0.0, 0.5, 1.0]\n",
    "ax2.set_yticks(y_labels)\n",
    "ax2.set_ylim([-1.2, 1.2])\n",
    "ax2.set_yticklabels(y_labels, fontdict=font_tick)\n",
    "\n",
    "[x.set_linewidth(1.5) for x in ax2.spines.values()]\n",
    "ax2.tick_params(bottom=True, top=True, left=True, right=True)\n",
    "ax2.tick_params(labelbottom=False, labeltop=False, labelleft=True, labelright=False)\n",
    "ax2.tick_params(direction='in', length=8, width=1.5)\n",
    "\n",
    "\n",
    "# The third plot\n",
    "ax3.plot(d_test, test_data.force[:, 0, 0], '-', color='gray', alpha=0.5, linewidth=10)\n",
    "ax3.plot(d_test, force_test_gpr[:, 0, 0], '-', label='GPR (PyTorch)', color='crimson', linewidth=4)\n",
    "ax3.vlines(d_train, ymin=-100, ymax=100, color='black', linestyle='--', linewidth=1)\n",
    "\n",
    "ax3.plot(d_train, train_data.force[:, 0, 0], 'o', label='Original F', color='black', markersize=8)\n",
    "\n",
    "ax3.set_xlabel('H-H distance (Ang)', fontdict=font_x)\n",
    "ax3.set_xlim(0.95, 2.05)\n",
    "x_labels = [round(label, 2) for label in ax3.get_xticks()]\n",
    "ax3.set_xticks(x_labels)\n",
    "ax3.set_xticklabels(x_labels, fontdict=font_tick)\n",
    "ax3.set_xlim(0.95, 2.05)\n",
    "\n",
    "ax3.set_ylabel('Force (eV/Ang)', fontdict=font_y)\n",
    "ax3.set_ylim(-40, 5)\n",
    "y_labels = [int(label) for label in ax3.get_yticks()]\n",
    "# y_labels = [-40, -30, -20, -10, 0]\n",
    "ax3.set_yticks(y_labels)\n",
    "ax3.set_yticklabels(y_labels, fontdict=font_tick)\n",
    "ax3.set_ylim(-40, 5)\n",
    "\n",
    "# ax3.legend(loc='lower right', fontsize=12, ncol=1, frameon=True)\n",
    "[x.set_linewidth(1.5) for x in ax3.spines.values()]\n",
    "ax3.tick_params(bottom=True, top=True, left=True, right=False)\n",
    "ax3.tick_params(labelbottom=True, labeltop=False, labelleft=True, labelright=False)\n",
    "ax3.tick_params(direction='in', length=8, width=1.5)\n",
    "\n",
    "fig.tight_layout()\n",
    "plt.subplots_adjust(hspace=0.05, wspace=0.05)\n",
    "\n",
    "plt.show()"
   ]
  },
  {
   "cell_type": "code",
   "execution_count": null,
   "id": "143b35d8-58b1-405f-a96d-549fd40b5e1c",
   "metadata": {},
   "outputs": [],
   "source": []
  }
 ],
 "metadata": {
  "kernelspec": {
   "display_name": "Python 3",
   "language": "python",
   "name": "python3"
  },
  "language_info": {
   "codemirror_mode": {
    "name": "ipython",
    "version": 3
   },
   "file_extension": ".py",
   "mimetype": "text/x-python",
   "name": "python",
   "nbconvert_exporter": "python",
   "pygments_lexer": "ipython3",
   "version": "3.12.7"
  }
 },
 "nbformat": 4,
 "nbformat_minor": 5
}
