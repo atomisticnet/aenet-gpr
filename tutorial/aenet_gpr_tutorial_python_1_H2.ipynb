{
 "cells": [
  {
   "cell_type": "code",
   "execution_count": 1,
   "id": "8d96e3d3-c936-471d-b313-33c36d0e742c",
   "metadata": {
    "tags": []
   },
   "outputs": [
    {
     "name": "stdout",
     "output_type": "stream",
     "text": [
      "successfully imported ase\n"
     ]
    }
   ],
   "source": [
    "try:\n",
    "    from ase import Atoms\n",
    "    from ase.calculators.lj import LennardJones\n",
    "    print(\"successfully imported ase\")\n",
    "except ImportError:\n",
    "    !! pip install ase --user --upgrade\n",
    "    print(\"completed installing ASE\")"
   ]
  },
  {
   "cell_type": "code",
   "execution_count": 2,
   "id": "78af600e-1c02-4e34-bd05-0128b0588c1c",
   "metadata": {},
   "outputs": [
    {
     "name": "stdout",
     "output_type": "stream",
     "text": [
      "successfully imported torch\n"
     ]
    }
   ],
   "source": [
    "try:\n",
    "    import torch\n",
    "    print(\"successfully imported torch\")\n",
    "except ImportError:\n",
    "    !! pip install torch --user --upgrade\n",
    "    print(\"completed installing torch\")"
   ]
  },
  {
   "cell_type": "code",
   "execution_count": 3,
   "id": "1199d147-8447-40a5-8fa4-a644a38132f4",
   "metadata": {},
   "outputs": [
    {
     "name": "stdout",
     "output_type": "stream",
     "text": [
      "successfully imported dscribe\n"
     ]
    }
   ],
   "source": [
    "try:\n",
    "    import dscribe\n",
    "    print(\"successfully imported dscribe\")\n",
    "except ImportError:\n",
    "    !! pip install dscribe --user --upgrade\n",
    "    print(\"completed installing dscribe\")"
   ]
  },
  {
   "cell_type": "code",
   "execution_count": 4,
   "id": "c42615d0-12e1-4e3c-afa8-d31cf68e660a",
   "metadata": {},
   "outputs": [
    {
     "name": "stdout",
     "output_type": "stream",
     "text": [
      "successfully imported numpy\n"
     ]
    }
   ],
   "source": [
    "try:\n",
    "    import numpy as np\n",
    "    print(\"successfully imported numpy\")\n",
    "except ImportError:\n",
    "    !! pip install numpy --user --upgrade\n",
    "    print(\"completed installing numpy\")"
   ]
  },
  {
   "cell_type": "code",
   "execution_count": 5,
   "id": "b3f3560f-8a53-47af-9cc3-9743524b0720",
   "metadata": {},
   "outputs": [
    {
     "name": "stdout",
     "output_type": "stream",
     "text": [
      "successfully imported matplotlib\n"
     ]
    }
   ],
   "source": [
    "try:\n",
    "    from matplotlib import pyplot as plt\n",
    "    print(\"successfully imported matplotlib\")\n",
    "except ImportError:\n",
    "    !! pip install matplotlib --user --upgrade\n",
    "    print(\"completed installing matplotlib\")"
   ]
  },
  {
   "cell_type": "code",
   "execution_count": 6,
   "id": "11e45431-8717-40ed-ba5a-348bdfe73539",
   "metadata": {},
   "outputs": [],
   "source": [
    "import glob\n",
    "import sys\n",
    "\n",
    "sys.path.append(\"../\")\n",
    "from aenet_GPR.util import ReferenceData\n",
    "from aenet_GPR.src import gpr_batch\n",
    "from aenet_GPR.inout import io_train_parameters, io_test_parameters\n",
    "from aenet_GPR.util.prepare_data import standard_output, inverse_standard_output"
   ]
  },
  {
   "cell_type": "markdown",
   "id": "f9cfd82b-8f6c-48ec-9c57-54ea593bb81b",
   "metadata": {},
   "source": [
    "# 1. Read reference training/test data from xsf files"
   ]
  },
  {
   "cell_type": "code",
   "execution_count": 7,
   "id": "d50bab63-a944-4fa9-b202-3deb00dcf64b",
   "metadata": {},
   "outputs": [
    {
     "data": {
      "text/plain": [
       "['Archive:  ../example/1_H2/train_set.zip',\n",
       " '   creating: ./1_H2/train_set/',\n",
       " '  inflating: ./1_H2/__MACOSX/._train_set  ',\n",
       " '  inflating: ./1_H2/train_set/file_0006.xsf  ',\n",
       " '  inflating: ./1_H2/__MACOSX/train_set/._file_0006.xsf  ',\n",
       " '  inflating: ./1_H2/train_set/file_0004.xsf  ',\n",
       " '  inflating: ./1_H2/__MACOSX/train_set/._file_0004.xsf  ',\n",
       " '  inflating: ./1_H2/train_set/file_0005.xsf  ',\n",
       " '  inflating: ./1_H2/__MACOSX/train_set/._file_0005.xsf  ',\n",
       " '  inflating: ./1_H2/train_set/file_0001.xsf  ',\n",
       " '  inflating: ./1_H2/__MACOSX/train_set/._file_0001.xsf  ',\n",
       " '  inflating: ./1_H2/train_set/file_0000.xsf  ',\n",
       " '  inflating: ./1_H2/__MACOSX/train_set/._file_0000.xsf  ',\n",
       " '  inflating: ./1_H2/train_set/file_0002.xsf  ',\n",
       " '  inflating: ./1_H2/__MACOSX/train_set/._file_0002.xsf  ',\n",
       " '  inflating: ./1_H2/train_set/file_0003.xsf  ',\n",
       " '  inflating: ./1_H2/__MACOSX/train_set/._file_0003.xsf  ']"
      ]
     },
     "execution_count": 7,
     "metadata": {},
     "output_type": "execute_result"
    }
   ],
   "source": [
    "!! unzip ../example/1_H2/train_set.zip -d ./1_H2/"
   ]
  },
  {
   "cell_type": "code",
   "execution_count": 8,
   "id": "21ba107a-9e4c-44cd-82e4-d9d5cf97477b",
   "metadata": {},
   "outputs": [
    {
     "data": {
      "text/plain": [
       "['Archive:  ../example/1_H2/test_set.zip',\n",
       " '   creating: ./1_H2/test_set/',\n",
       " '  inflating: ./1_H2/__MACOSX/._test_set  ',\n",
       " '  inflating: ./1_H2/test_set/file_0138.xsf  ',\n",
       " '  inflating: ./1_H2/__MACOSX/test_set/._file_0138.xsf  ',\n",
       " '  inflating: ./1_H2/test_set/file_0104.xsf  ',\n",
       " '  inflating: ./1_H2/__MACOSX/test_set/._file_0104.xsf  ',\n",
       " '  inflating: ./1_H2/test_set/file_0110.xsf  ',\n",
       " '  inflating: ./1_H2/__MACOSX/test_set/._file_0110.xsf  ',\n",
       " '  inflating: ./1_H2/test_set/file_0058.xsf  ',\n",
       " '  inflating: ./1_H2/__MACOSX/test_set/._file_0058.xsf  ',\n",
       " '  inflating: ./1_H2/test_set/file_0070.xsf  ',\n",
       " '  inflating: ./1_H2/__MACOSX/test_set/._file_0070.xsf  ',\n",
       " '  inflating: ./1_H2/test_set/file_0064.xsf  ',\n",
       " '  inflating: ./1_H2/__MACOSX/test_set/._file_0064.xsf  ',\n",
       " '  inflating: ./1_H2/test_set/file_0065.xsf  ',\n",
       " '  inflating: ./1_H2/__MACOSX/test_set/._file_0065.xsf  ',\n",
       " '  inflating: ./1_H2/test_set/file_0071.xsf  ',\n",
       " '  inflating: ./1_H2/__MACOSX/test_set/._file_0071.xsf  ',\n",
       " '  inflating: ./1_H2/test_set/file_0059.xsf  ',\n",
       " '  inflating: ./1_H2/__MACOSX/test_set/._file_0059.xsf  ',\n",
       " '  inflating: ./1_H2/test_set/file_0111.xsf  ',\n",
       " '  inflating: ./1_H2/__MACOSX/test_set/._file_0111.xsf  ',\n",
       " '  inflating: ./1_H2/test_set/file_0105.xsf  ',\n",
       " '  inflating: ./1_H2/__MACOSX/test_set/._file_0105.xsf  ',\n",
       " '  inflating: ./1_H2/test_set/file_0139.xsf  ',\n",
       " '  inflating: ./1_H2/__MACOSX/test_set/._file_0139.xsf  ',\n",
       " '  inflating: ./1_H2/test_set/file_0113.xsf  ',\n",
       " '  inflating: ./1_H2/__MACOSX/test_set/._file_0113.xsf  ',\n",
       " '  inflating: ./1_H2/test_set/file_0107.xsf  ',\n",
       " '  inflating: ./1_H2/__MACOSX/test_set/._file_0107.xsf  ',\n",
       " '  inflating: ./1_H2/test_set/file_0067.xsf  ',\n",
       " '  inflating: ./1_H2/__MACOSX/test_set/._file_0067.xsf  ',\n",
       " '  inflating: ./1_H2/test_set/file_0073.xsf  ',\n",
       " '  inflating: ./1_H2/__MACOSX/test_set/._file_0073.xsf  ',\n",
       " '  inflating: ./1_H2/test_set/file_0098.xsf  ',\n",
       " '  inflating: ./1_H2/__MACOSX/test_set/._file_0098.xsf  ',\n",
       " '  inflating: ./1_H2/test_set/file_0099.xsf  ',\n",
       " '  inflating: ./1_H2/__MACOSX/test_set/._file_0099.xsf  ',\n",
       " '  inflating: ./1_H2/test_set/file_0072.xsf  ',\n",
       " '  inflating: ./1_H2/__MACOSX/test_set/._file_0072.xsf  ',\n",
       " '  inflating: ./1_H2/test_set/file_0066.xsf  ',\n",
       " '  inflating: ./1_H2/__MACOSX/test_set/._file_0066.xsf  ',\n",
       " '  inflating: ./1_H2/test_set/file_0106.xsf  ',\n",
       " '  inflating: ./1_H2/__MACOSX/test_set/._file_0106.xsf  ',\n",
       " '  inflating: ./1_H2/test_set/file_0112.xsf  ',\n",
       " '  inflating: ./1_H2/__MACOSX/test_set/._file_0112.xsf  ',\n",
       " '  inflating: ./1_H2/test_set/file_0116.xsf  ',\n",
       " '  inflating: ./1_H2/__MACOSX/test_set/._file_0116.xsf  ',\n",
       " '  inflating: ./1_H2/test_set/file_0102.xsf  ',\n",
       " '  inflating: ./1_H2/__MACOSX/test_set/._file_0102.xsf  ',\n",
       " '  inflating: ./1_H2/test_set/file_0062.xsf  ',\n",
       " '  inflating: ./1_H2/__MACOSX/test_set/._file_0062.xsf  ',\n",
       " '  inflating: ./1_H2/test_set/file_0076.xsf  ',\n",
       " '  inflating: ./1_H2/__MACOSX/test_set/._file_0076.xsf  ',\n",
       " '  inflating: ./1_H2/test_set/file_0089.xsf  ',\n",
       " '  inflating: ./1_H2/__MACOSX/test_set/._file_0089.xsf  ',\n",
       " '  inflating: ./1_H2/test_set/file_0088.xsf  ',\n",
       " '  inflating: ./1_H2/__MACOSX/test_set/._file_0088.xsf  ',\n",
       " '  inflating: ./1_H2/test_set/file_0077.xsf  ',\n",
       " '  inflating: ./1_H2/__MACOSX/test_set/._file_0077.xsf  ',\n",
       " '  inflating: ./1_H2/test_set/file_0063.xsf  ',\n",
       " '  inflating: ./1_H2/__MACOSX/test_set/._file_0063.xsf  ',\n",
       " '  inflating: ./1_H2/test_set/file_0103.xsf  ',\n",
       " '  inflating: ./1_H2/__MACOSX/test_set/._file_0103.xsf  ',\n",
       " '  inflating: ./1_H2/test_set/file_0117.xsf  ',\n",
       " '  inflating: ./1_H2/__MACOSX/test_set/._file_0117.xsf  ',\n",
       " '  inflating: ./1_H2/test_set/file_0101.xsf  ',\n",
       " '  inflating: ./1_H2/__MACOSX/test_set/._file_0101.xsf  ',\n",
       " '  inflating: ./1_H2/test_set/file_0115.xsf  ',\n",
       " '  inflating: ./1_H2/__MACOSX/test_set/._file_0115.xsf  ',\n",
       " '  inflating: ./1_H2/test_set/file_0129.xsf  ',\n",
       " '  inflating: ./1_H2/__MACOSX/test_set/._file_0129.xsf  ',\n",
       " '  inflating: ./1_H2/test_set/file_0075.xsf  ',\n",
       " '  inflating: ./1_H2/__MACOSX/test_set/._file_0075.xsf  ',\n",
       " '  inflating: ./1_H2/test_set/file_0061.xsf  ',\n",
       " '  inflating: ./1_H2/__MACOSX/test_set/._file_0061.xsf  ',\n",
       " '  inflating: ./1_H2/test_set/file_0049.xsf  ',\n",
       " '  inflating: ./1_H2/__MACOSX/test_set/._file_0049.xsf  ',\n",
       " '  inflating: ./1_H2/test_set/file_0048.xsf  ',\n",
       " '  inflating: ./1_H2/__MACOSX/test_set/._file_0048.xsf  ',\n",
       " '  inflating: ./1_H2/test_set/file_0060.xsf  ',\n",
       " '  inflating: ./1_H2/__MACOSX/test_set/._file_0060.xsf  ',\n",
       " '  inflating: ./1_H2/test_set/file_0074.xsf  ',\n",
       " '  inflating: ./1_H2/__MACOSX/test_set/._file_0074.xsf  ',\n",
       " '  inflating: ./1_H2/test_set/file_0128.xsf  ',\n",
       " '  inflating: ./1_H2/__MACOSX/test_set/._file_0128.xsf  ',\n",
       " '  inflating: ./1_H2/test_set/file_0114.xsf  ',\n",
       " '  inflating: ./1_H2/__MACOSX/test_set/._file_0114.xsf  ',\n",
       " '  inflating: ./1_H2/test_set/file_0100.xsf  ',\n",
       " '  inflating: ./1_H2/__MACOSX/test_set/._file_0100.xsf  ',\n",
       " '  inflating: ./1_H2/test_set/file_0167.xsf  ',\n",
       " '  inflating: ./1_H2/__MACOSX/test_set/._file_0167.xsf  ',\n",
       " '  inflating: ./1_H2/test_set/file_0173.xsf  ',\n",
       " '  inflating: ./1_H2/__MACOSX/test_set/._file_0173.xsf  ',\n",
       " '  inflating: ./1_H2/test_set/file_0198.xsf  ',\n",
       " '  inflating: ./1_H2/__MACOSX/test_set/._file_0198.xsf  ',\n",
       " '  inflating: ./1_H2/test_set/file_0013.xsf  ',\n",
       " '  inflating: ./1_H2/__MACOSX/test_set/._file_0013.xsf  ',\n",
       " '  inflating: ./1_H2/test_set/file_0007.xsf  ',\n",
       " '  inflating: ./1_H2/__MACOSX/test_set/._file_0007.xsf  ',\n",
       " '  inflating: ./1_H2/test_set/file_0006.xsf  ',\n",
       " '  inflating: ./1_H2/__MACOSX/test_set/._file_0006.xsf  ',\n",
       " '  inflating: ./1_H2/test_set/file_0012.xsf  ',\n",
       " '  inflating: ./1_H2/__MACOSX/test_set/._file_0012.xsf  ',\n",
       " '  inflating: ./1_H2/test_set/file_0199.xsf  ',\n",
       " '  inflating: ./1_H2/__MACOSX/test_set/._file_0199.xsf  ',\n",
       " '  inflating: ./1_H2/test_set/file_0172.xsf  ',\n",
       " '  inflating: ./1_H2/__MACOSX/test_set/._file_0172.xsf  ',\n",
       " '  inflating: ./1_H2/test_set/file_0166.xsf  ',\n",
       " '  inflating: ./1_H2/__MACOSX/test_set/._file_0166.xsf  ',\n",
       " '  inflating: ./1_H2/test_set/file_0158.xsf  ',\n",
       " '  inflating: ./1_H2/__MACOSX/test_set/._file_0158.xsf  ',\n",
       " '  inflating: ./1_H2/test_set/file_0170.xsf  ',\n",
       " '  inflating: ./1_H2/__MACOSX/test_set/._file_0170.xsf  ',\n",
       " '  inflating: ./1_H2/test_set/file_0164.xsf  ',\n",
       " '  inflating: ./1_H2/__MACOSX/test_set/._file_0164.xsf  ',\n",
       " '  inflating: ./1_H2/test_set/file_0038.xsf  ',\n",
       " '  inflating: ./1_H2/__MACOSX/test_set/._file_0038.xsf  ',\n",
       " '  inflating: ./1_H2/test_set/file_0004.xsf  ',\n",
       " '  inflating: ./1_H2/__MACOSX/test_set/._file_0004.xsf  ',\n",
       " '  inflating: ./1_H2/test_set/file_0010.xsf  ',\n",
       " '  inflating: ./1_H2/__MACOSX/test_set/._file_0010.xsf  ',\n",
       " '  inflating: ./1_H2/test_set/file_0011.xsf  ',\n",
       " '  inflating: ./1_H2/__MACOSX/test_set/._file_0011.xsf  ',\n",
       " '  inflating: ./1_H2/test_set/file_0005.xsf  ',\n",
       " '  inflating: ./1_H2/__MACOSX/test_set/._file_0005.xsf  ',\n",
       " '  inflating: ./1_H2/test_set/file_0039.xsf  ',\n",
       " '  inflating: ./1_H2/__MACOSX/test_set/._file_0039.xsf  ',\n",
       " '  inflating: ./1_H2/test_set/file_0165.xsf  ',\n",
       " '  inflating: ./1_H2/__MACOSX/test_set/._file_0165.xsf  ',\n",
       " '  inflating: ./1_H2/test_set/file_0171.xsf  ',\n",
       " '  inflating: ./1_H2/__MACOSX/test_set/._file_0171.xsf  ',\n",
       " '  inflating: ./1_H2/test_set/file_0159.xsf  ',\n",
       " '  inflating: ./1_H2/__MACOSX/test_set/._file_0159.xsf  ',\n",
       " '  inflating: ./1_H2/test_set/file_0175.xsf  ',\n",
       " '  inflating: ./1_H2/__MACOSX/test_set/._file_0175.xsf  ',\n",
       " '  inflating: ./1_H2/test_set/file_0161.xsf  ',\n",
       " '  inflating: ./1_H2/__MACOSX/test_set/._file_0161.xsf  ',\n",
       " '  inflating: ./1_H2/test_set/file_0149.xsf  ',\n",
       " '  inflating: ./1_H2/__MACOSX/test_set/._file_0149.xsf  ',\n",
       " '  inflating: ./1_H2/test_set/file_0001.xsf  ',\n",
       " '  inflating: ./1_H2/__MACOSX/test_set/._file_0001.xsf  ',\n",
       " '  inflating: ./1_H2/test_set/file_0015.xsf  ',\n",
       " '  inflating: ./1_H2/__MACOSX/test_set/._file_0015.xsf  ',\n",
       " '  inflating: ./1_H2/test_set/file_0029.xsf  ',\n",
       " '  inflating: ./1_H2/__MACOSX/test_set/._file_0029.xsf  ',\n",
       " '  inflating: ./1_H2/test_set/file_0028.xsf  ',\n",
       " '  inflating: ./1_H2/__MACOSX/test_set/._file_0028.xsf  ',\n",
       " '  inflating: ./1_H2/test_set/file_0014.xsf  ',\n",
       " '  inflating: ./1_H2/__MACOSX/test_set/._file_0014.xsf  ',\n",
       " '  inflating: ./1_H2/test_set/file_0000.xsf  ',\n",
       " '  inflating: ./1_H2/__MACOSX/test_set/._file_0000.xsf  ',\n",
       " '  inflating: ./1_H2/test_set/file_0148.xsf  ',\n",
       " '  inflating: ./1_H2/__MACOSX/test_set/._file_0148.xsf  ',\n",
       " '  inflating: ./1_H2/test_set/file_0160.xsf  ',\n",
       " '  inflating: ./1_H2/__MACOSX/test_set/._file_0160.xsf  ',\n",
       " '  inflating: ./1_H2/test_set/file_0174.xsf  ',\n",
       " '  inflating: ./1_H2/__MACOSX/test_set/._file_0174.xsf  ',\n",
       " '  inflating: ./1_H2/test_set/file_0162.xsf  ',\n",
       " '  inflating: ./1_H2/__MACOSX/test_set/._file_0162.xsf  ',\n",
       " '  inflating: ./1_H2/test_set/file_0176.xsf  ',\n",
       " '  inflating: ./1_H2/__MACOSX/test_set/._file_0176.xsf  ',\n",
       " '  inflating: ./1_H2/test_set/file_0189.xsf  ',\n",
       " '  inflating: ./1_H2/__MACOSX/test_set/._file_0189.xsf  ',\n",
       " '  inflating: ./1_H2/test_set/file_0016.xsf  ',\n",
       " '  inflating: ./1_H2/__MACOSX/test_set/._file_0016.xsf  ',\n",
       " '  inflating: ./1_H2/test_set/file_0002.xsf  ',\n",
       " '  inflating: ./1_H2/__MACOSX/test_set/._file_0002.xsf  ',\n",
       " '  inflating: ./1_H2/test_set/file_0003.xsf  ',\n",
       " '  inflating: ./1_H2/__MACOSX/test_set/._file_0003.xsf  ',\n",
       " '  inflating: ./1_H2/test_set/file_0017.xsf  ',\n",
       " '  inflating: ./1_H2/__MACOSX/test_set/._file_0017.xsf  ',\n",
       " '  inflating: ./1_H2/test_set/file_0188.xsf  ',\n",
       " '  inflating: ./1_H2/__MACOSX/test_set/._file_0188.xsf  ',\n",
       " '  inflating: ./1_H2/test_set/file_0177.xsf  ',\n",
       " '  inflating: ./1_H2/__MACOSX/test_set/._file_0177.xsf  ',\n",
       " '  inflating: ./1_H2/test_set/file_0163.xsf  ',\n",
       " '  inflating: ./1_H2/__MACOSX/test_set/._file_0163.xsf  ',\n",
       " '  inflating: ./1_H2/test_set/file_0146.xsf  ',\n",
       " '  inflating: ./1_H2/__MACOSX/test_set/._file_0146.xsf  ',\n",
       " '  inflating: ./1_H2/test_set/file_0152.xsf  ',\n",
       " '  inflating: ./1_H2/__MACOSX/test_set/._file_0152.xsf  ',\n",
       " '  inflating: ./1_H2/test_set/file_0185.xsf  ',\n",
       " '  inflating: ./1_H2/__MACOSX/test_set/._file_0185.xsf  ',\n",
       " '  inflating: ./1_H2/test_set/file_0191.xsf  ',\n",
       " '  inflating: ./1_H2/__MACOSX/test_set/._file_0191.xsf  ',\n",
       " '  inflating: ./1_H2/test_set/file_0032.xsf  ',\n",
       " '  inflating: ./1_H2/__MACOSX/test_set/._file_0032.xsf  ',\n",
       " '  inflating: ./1_H2/test_set/file_0026.xsf  ',\n",
       " '  inflating: ./1_H2/__MACOSX/test_set/._file_0026.xsf  ',\n",
       " '  inflating: ./1_H2/test_set/file_0027.xsf  ',\n",
       " '  inflating: ./1_H2/__MACOSX/test_set/._file_0027.xsf  ',\n",
       " '  inflating: ./1_H2/test_set/file_0033.xsf  ',\n",
       " '  inflating: ./1_H2/__MACOSX/test_set/._file_0033.xsf  ',\n",
       " '  inflating: ./1_H2/test_set/file_0190.xsf  ',\n",
       " '  inflating: ./1_H2/__MACOSX/test_set/._file_0190.xsf  ',\n",
       " '  inflating: ./1_H2/test_set/file_0184.xsf  ',\n",
       " '  inflating: ./1_H2/__MACOSX/test_set/._file_0184.xsf  ',\n",
       " '  inflating: ./1_H2/test_set/file_0153.xsf  ',\n",
       " '  inflating: ./1_H2/__MACOSX/test_set/._file_0153.xsf  ',\n",
       " '  inflating: ./1_H2/test_set/file_0147.xsf  ',\n",
       " '  inflating: ./1_H2/__MACOSX/test_set/._file_0147.xsf  ',\n",
       " '  inflating: ./1_H2/test_set/file_0179.xsf  ',\n",
       " '  inflating: ./1_H2/__MACOSX/test_set/._file_0179.xsf  ',\n",
       " '  inflating: ./1_H2/test_set/file_0151.xsf  ',\n",
       " '  inflating: ./1_H2/__MACOSX/test_set/._file_0151.xsf  ',\n",
       " '  inflating: ./1_H2/test_set/file_0145.xsf  ',\n",
       " '  inflating: ./1_H2/__MACOSX/test_set/._file_0145.xsf  ',\n",
       " '  inflating: ./1_H2/test_set/file_0192.xsf  ',\n",
       " '  inflating: ./1_H2/__MACOSX/test_set/._file_0192.xsf  ',\n",
       " '  inflating: ./1_H2/test_set/file_0186.xsf  ',\n",
       " '  inflating: ./1_H2/__MACOSX/test_set/._file_0186.xsf  ',\n",
       " '  inflating: ./1_H2/test_set/file_0019.xsf  ',\n",
       " '  inflating: ./1_H2/__MACOSX/test_set/._file_0019.xsf  ',\n",
       " '  inflating: ./1_H2/test_set/file_0025.xsf  ',\n",
       " '  inflating: ./1_H2/__MACOSX/test_set/._file_0025.xsf  ',\n",
       " '  inflating: ./1_H2/test_set/file_0031.xsf  ',\n",
       " '  inflating: ./1_H2/__MACOSX/test_set/._file_0031.xsf  ',\n",
       " '  inflating: ./1_H2/test_set/file_0030.xsf  ',\n",
       " '  inflating: ./1_H2/__MACOSX/test_set/._file_0030.xsf  ',\n",
       " '  inflating: ./1_H2/test_set/file_0024.xsf  ',\n",
       " '  inflating: ./1_H2/__MACOSX/test_set/._file_0024.xsf  ',\n",
       " '  inflating: ./1_H2/test_set/file_0018.xsf  ',\n",
       " '  inflating: ./1_H2/__MACOSX/test_set/._file_0018.xsf  ',\n",
       " '  inflating: ./1_H2/test_set/file_0187.xsf  ',\n",
       " '  inflating: ./1_H2/__MACOSX/test_set/._file_0187.xsf  ',\n",
       " '  inflating: ./1_H2/test_set/file_0193.xsf  ',\n",
       " '  inflating: ./1_H2/__MACOSX/test_set/._file_0193.xsf  ',\n",
       " '  inflating: ./1_H2/test_set/file_0144.xsf  ',\n",
       " '  inflating: ./1_H2/__MACOSX/test_set/._file_0144.xsf  ',\n",
       " '  inflating: ./1_H2/test_set/file_0150.xsf  ',\n",
       " '  inflating: ./1_H2/__MACOSX/test_set/._file_0150.xsf  ',\n",
       " '  inflating: ./1_H2/test_set/file_0178.xsf  ',\n",
       " '  inflating: ./1_H2/__MACOSX/test_set/._file_0178.xsf  ',\n",
       " '  inflating: ./1_H2/test_set/file_0154.xsf  ',\n",
       " '  inflating: ./1_H2/__MACOSX/test_set/._file_0154.xsf  ',\n",
       " '  inflating: ./1_H2/test_set/file_0140.xsf  ',\n",
       " '  inflating: ./1_H2/__MACOSX/test_set/._file_0140.xsf  ',\n",
       " '  inflating: ./1_H2/test_set/file_0168.xsf  ',\n",
       " '  inflating: ./1_H2/__MACOSX/test_set/._file_0168.xsf  ',\n",
       " '  inflating: ./1_H2/test_set/file_0197.xsf  ',\n",
       " '  inflating: ./1_H2/__MACOSX/test_set/._file_0197.xsf  ',\n",
       " '  inflating: ./1_H2/test_set/file_0183.xsf  ',\n",
       " '  inflating: ./1_H2/__MACOSX/test_set/._file_0183.xsf  ',\n",
       " '  inflating: ./1_H2/test_set/file_0020.xsf  ',\n",
       " '  inflating: ./1_H2/__MACOSX/test_set/._file_0020.xsf  ',\n",
       " '  inflating: ./1_H2/test_set/file_0034.xsf  ',\n",
       " '  inflating: ./1_H2/__MACOSX/test_set/._file_0034.xsf  ',\n",
       " '  inflating: ./1_H2/test_set/file_0008.xsf  ',\n",
       " '  inflating: ./1_H2/__MACOSX/test_set/._file_0008.xsf  ',\n",
       " '  inflating: ./1_H2/test_set/file_0009.xsf  ',\n",
       " '  inflating: ./1_H2/__MACOSX/test_set/._file_0009.xsf  ',\n",
       " '  inflating: ./1_H2/test_set/file_0035.xsf  ',\n",
       " '  inflating: ./1_H2/__MACOSX/test_set/._file_0035.xsf  ',\n",
       " '  inflating: ./1_H2/test_set/file_0021.xsf  ',\n",
       " '  inflating: ./1_H2/__MACOSX/test_set/._file_0021.xsf  ',\n",
       " '  inflating: ./1_H2/test_set/file_0182.xsf  ',\n",
       " '  inflating: ./1_H2/__MACOSX/test_set/._file_0182.xsf  ',\n",
       " '  inflating: ./1_H2/test_set/file_0196.xsf  ',\n",
       " '  inflating: ./1_H2/__MACOSX/test_set/._file_0196.xsf  ',\n",
       " '  inflating: ./1_H2/test_set/file_0169.xsf  ',\n",
       " '  inflating: ./1_H2/__MACOSX/test_set/._file_0169.xsf  ',\n",
       " '  inflating: ./1_H2/test_set/file_0141.xsf  ',\n",
       " '  inflating: ./1_H2/__MACOSX/test_set/._file_0141.xsf  ',\n",
       " '  inflating: ./1_H2/test_set/file_0155.xsf  ',\n",
       " '  inflating: ./1_H2/__MACOSX/test_set/._file_0155.xsf  ',\n",
       " '  inflating: ./1_H2/test_set/file_0143.xsf  ',\n",
       " '  inflating: ./1_H2/__MACOSX/test_set/._file_0143.xsf  ',\n",
       " '  inflating: ./1_H2/test_set/file_0157.xsf  ',\n",
       " '  inflating: ./1_H2/__MACOSX/test_set/._file_0157.xsf  ',\n",
       " '  inflating: ./1_H2/test_set/file_0180.xsf  ',\n",
       " '  inflating: ./1_H2/__MACOSX/test_set/._file_0180.xsf  ',\n",
       " '  inflating: ./1_H2/test_set/file_0194.xsf  ',\n",
       " '  inflating: ./1_H2/__MACOSX/test_set/._file_0194.xsf  ',\n",
       " '  inflating: ./1_H2/test_set/file_0037.xsf  ',\n",
       " '  inflating: ./1_H2/__MACOSX/test_set/._file_0037.xsf  ',\n",
       " '  inflating: ./1_H2/test_set/file_0023.xsf  ',\n",
       " '  inflating: ./1_H2/__MACOSX/test_set/._file_0023.xsf  ',\n",
       " '  inflating: ./1_H2/test_set/file_0022.xsf  ',\n",
       " '  inflating: ./1_H2/__MACOSX/test_set/._file_0022.xsf  ',\n",
       " '  inflating: ./1_H2/test_set/file_0036.xsf  ',\n",
       " '  inflating: ./1_H2/__MACOSX/test_set/._file_0036.xsf  ',\n",
       " '  inflating: ./1_H2/test_set/file_0195.xsf  ',\n",
       " '  inflating: ./1_H2/__MACOSX/test_set/._file_0195.xsf  ',\n",
       " '  inflating: ./1_H2/test_set/file_0181.xsf  ',\n",
       " '  inflating: ./1_H2/__MACOSX/test_set/._file_0181.xsf  ',\n",
       " '  inflating: ./1_H2/test_set/file_0156.xsf  ',\n",
       " '  inflating: ./1_H2/__MACOSX/test_set/._file_0156.xsf  ',\n",
       " '  inflating: ./1_H2/test_set/file_0142.xsf  ',\n",
       " '  inflating: ./1_H2/__MACOSX/test_set/._file_0142.xsf  ',\n",
       " '  inflating: ./1_H2/test_set/file_0119.xsf  ',\n",
       " '  inflating: ./1_H2/__MACOSX/test_set/._file_0119.xsf  ',\n",
       " '  inflating: ./1_H2/test_set/file_0125.xsf  ',\n",
       " '  inflating: ./1_H2/__MACOSX/test_set/._file_0125.xsf  ',\n",
       " '  inflating: ./1_H2/test_set/file_0131.xsf  ',\n",
       " '  inflating: ./1_H2/__MACOSX/test_set/._file_0131.xsf  ',\n",
       " '  inflating: ./1_H2/test_set/file_0079.xsf  ',\n",
       " '  inflating: ./1_H2/__MACOSX/test_set/._file_0079.xsf  ',\n",
       " '  inflating: ./1_H2/test_set/file_0051.xsf  ',\n",
       " '  inflating: ./1_H2/__MACOSX/test_set/._file_0051.xsf  ',\n",
       " '  inflating: ./1_H2/test_set/file_0045.xsf  ',\n",
       " '  inflating: ./1_H2/__MACOSX/test_set/._file_0045.xsf  ',\n",
       " '  inflating: ./1_H2/test_set/file_0092.xsf  ',\n",
       " '  inflating: ./1_H2/__MACOSX/test_set/._file_0092.xsf  ',\n",
       " '  inflating: ./1_H2/test_set/file_0086.xsf  ',\n",
       " '  inflating: ./1_H2/__MACOSX/test_set/._file_0086.xsf  ',\n",
       " '  inflating: ./1_H2/test_set/file_0087.xsf  ',\n",
       " '  inflating: ./1_H2/__MACOSX/test_set/._file_0087.xsf  ',\n",
       " '  inflating: ./1_H2/test_set/file_0093.xsf  ',\n",
       " '  inflating: ./1_H2/__MACOSX/test_set/._file_0093.xsf  ',\n",
       " '  inflating: ./1_H2/test_set/file_0044.xsf  ',\n",
       " '  inflating: ./1_H2/__MACOSX/test_set/._file_0044.xsf  ',\n",
       " '  inflating: ./1_H2/test_set/file_0050.xsf  ',\n",
       " '  inflating: ./1_H2/__MACOSX/test_set/._file_0050.xsf  ',\n",
       " '  inflating: ./1_H2/test_set/file_0078.xsf  ',\n",
       " '  inflating: ./1_H2/__MACOSX/test_set/._file_0078.xsf  ',\n",
       " '  inflating: ./1_H2/test_set/file_0130.xsf  ',\n",
       " '  inflating: ./1_H2/__MACOSX/test_set/._file_0130.xsf  ',\n",
       " '  inflating: ./1_H2/test_set/file_0124.xsf  ',\n",
       " '  inflating: ./1_H2/__MACOSX/test_set/._file_0124.xsf  ',\n",
       " '  inflating: ./1_H2/test_set/file_0118.xsf  ',\n",
       " '  inflating: ./1_H2/__MACOSX/test_set/._file_0118.xsf  ',\n",
       " '  inflating: ./1_H2/test_set/file_0132.xsf  ',\n",
       " '  inflating: ./1_H2/__MACOSX/test_set/._file_0132.xsf  ',\n",
       " '  inflating: ./1_H2/test_set/file_0126.xsf  ',\n",
       " '  inflating: ./1_H2/__MACOSX/test_set/._file_0126.xsf  ',\n",
       " '  inflating: ./1_H2/test_set/file_0046.xsf  ',\n",
       " '  inflating: ./1_H2/__MACOSX/test_set/._file_0046.xsf  ',\n",
       " '  inflating: ./1_H2/test_set/file_0052.xsf  ',\n",
       " '  inflating: ./1_H2/__MACOSX/test_set/._file_0052.xsf  ',\n",
       " '  inflating: ./1_H2/test_set/file_0085.xsf  ',\n",
       " '  inflating: ./1_H2/__MACOSX/test_set/._file_0085.xsf  ',\n",
       " '  inflating: ./1_H2/test_set/file_0091.xsf  ',\n",
       " '  inflating: ./1_H2/__MACOSX/test_set/._file_0091.xsf  ',\n",
       " '  inflating: ./1_H2/test_set/file_0090.xsf  ',\n",
       " '  inflating: ./1_H2/__MACOSX/test_set/._file_0090.xsf  ',\n",
       " '  inflating: ./1_H2/test_set/file_0084.xsf  ',\n",
       " '  inflating: ./1_H2/__MACOSX/test_set/._file_0084.xsf  ',\n",
       " '  inflating: ./1_H2/test_set/file_0053.xsf  ',\n",
       " '  inflating: ./1_H2/__MACOSX/test_set/._file_0053.xsf  ',\n",
       " '  inflating: ./1_H2/test_set/file_0047.xsf  ',\n",
       " '  inflating: ./1_H2/__MACOSX/test_set/._file_0047.xsf  ',\n",
       " '  inflating: ./1_H2/test_set/file_0127.xsf  ',\n",
       " '  inflating: ./1_H2/__MACOSX/test_set/._file_0127.xsf  ',\n",
       " '  inflating: ./1_H2/test_set/file_0133.xsf  ',\n",
       " '  inflating: ./1_H2/__MACOSX/test_set/._file_0133.xsf  ',\n",
       " '  inflating: ./1_H2/test_set/file_0137.xsf  ',\n",
       " '  inflating: ./1_H2/__MACOSX/test_set/._file_0137.xsf  ',\n",
       " '  inflating: ./1_H2/test_set/file_0123.xsf  ',\n",
       " '  inflating: ./1_H2/__MACOSX/test_set/._file_0123.xsf  ',\n",
       " '  inflating: ./1_H2/test_set/file_0043.xsf  ',\n",
       " '  inflating: ./1_H2/__MACOSX/test_set/._file_0043.xsf  ',\n",
       " '  inflating: ./1_H2/test_set/file_0057.xsf  ',\n",
       " '  inflating: ./1_H2/__MACOSX/test_set/._file_0057.xsf  ',\n",
       " '  inflating: ./1_H2/test_set/file_0080.xsf  ',\n",
       " '  inflating: ./1_H2/__MACOSX/test_set/._file_0080.xsf  ',\n",
       " '  inflating: ./1_H2/test_set/file_0094.xsf  ',\n",
       " '  inflating: ./1_H2/__MACOSX/test_set/._file_0094.xsf  ',\n",
       " '  inflating: ./1_H2/test_set/file_0095.xsf  ',\n",
       " '  inflating: ./1_H2/__MACOSX/test_set/._file_0095.xsf  ',\n",
       " '  inflating: ./1_H2/test_set/file_0081.xsf  ',\n",
       " '  inflating: ./1_H2/__MACOSX/test_set/._file_0081.xsf  ',\n",
       " '  inflating: ./1_H2/test_set/file_0056.xsf  ',\n",
       " '  inflating: ./1_H2/__MACOSX/test_set/._file_0056.xsf  ',\n",
       " '  inflating: ./1_H2/test_set/file_0042.xsf  ',\n",
       " '  inflating: ./1_H2/__MACOSX/test_set/._file_0042.xsf  ',\n",
       " '  inflating: ./1_H2/test_set/file_0122.xsf  ',\n",
       " '  inflating: ./1_H2/__MACOSX/test_set/._file_0122.xsf  ',\n",
       " '  inflating: ./1_H2/test_set/file_0136.xsf  ',\n",
       " '  inflating: ./1_H2/__MACOSX/test_set/._file_0136.xsf  ',\n",
       " '  inflating: ./1_H2/test_set/file_0120.xsf  ',\n",
       " '  inflating: ./1_H2/__MACOSX/test_set/._file_0120.xsf  ',\n",
       " '  inflating: ./1_H2/test_set/file_0134.xsf  ',\n",
       " '  inflating: ./1_H2/__MACOSX/test_set/._file_0134.xsf  ',\n",
       " '  inflating: ./1_H2/test_set/file_0108.xsf  ',\n",
       " '  inflating: ./1_H2/__MACOSX/test_set/._file_0108.xsf  ',\n",
       " '  inflating: ./1_H2/test_set/file_0054.xsf  ',\n",
       " '  inflating: ./1_H2/__MACOSX/test_set/._file_0054.xsf  ',\n",
       " '  inflating: ./1_H2/test_set/file_0040.xsf  ',\n",
       " '  inflating: ./1_H2/__MACOSX/test_set/._file_0040.xsf  ',\n",
       " '  inflating: ./1_H2/test_set/file_0068.xsf  ',\n",
       " '  inflating: ./1_H2/__MACOSX/test_set/._file_0068.xsf  ',\n",
       " '  inflating: ./1_H2/test_set/file_0097.xsf  ',\n",
       " '  inflating: ./1_H2/__MACOSX/test_set/._file_0097.xsf  ',\n",
       " '  inflating: ./1_H2/test_set/file_0083.xsf  ',\n",
       " '  inflating: ./1_H2/__MACOSX/test_set/._file_0083.xsf  ',\n",
       " '  inflating: ./1_H2/test_set/file_0082.xsf  ',\n",
       " '  inflating: ./1_H2/__MACOSX/test_set/._file_0082.xsf  ',\n",
       " '  inflating: ./1_H2/test_set/file_0096.xsf  ',\n",
       " '  inflating: ./1_H2/__MACOSX/test_set/._file_0096.xsf  ',\n",
       " '  inflating: ./1_H2/test_set/file_0069.xsf  ',\n",
       " '  inflating: ./1_H2/__MACOSX/test_set/._file_0069.xsf  ',\n",
       " '  inflating: ./1_H2/test_set/file_0041.xsf  ',\n",
       " '  inflating: ./1_H2/__MACOSX/test_set/._file_0041.xsf  ',\n",
       " '  inflating: ./1_H2/test_set/file_0055.xsf  ',\n",
       " '  inflating: ./1_H2/__MACOSX/test_set/._file_0055.xsf  ',\n",
       " '  inflating: ./1_H2/test_set/file_0109.xsf  ',\n",
       " '  inflating: ./1_H2/__MACOSX/test_set/._file_0109.xsf  ',\n",
       " '  inflating: ./1_H2/test_set/file_0135.xsf  ',\n",
       " '  inflating: ./1_H2/__MACOSX/test_set/._file_0135.xsf  ',\n",
       " '  inflating: ./1_H2/test_set/file_0121.xsf  ',\n",
       " '  inflating: ./1_H2/__MACOSX/test_set/._file_0121.xsf  ']"
      ]
     },
     "execution_count": 8,
     "metadata": {},
     "output_type": "execute_result"
    }
   ],
   "source": [
    "!! unzip ../example/1_H2/test_set.zip -d ./1_H2/"
   ]
  },
  {
   "cell_type": "code",
   "execution_count": 9,
   "id": "36e0a117-e0fd-41a1-8f30-7d374bf58716",
   "metadata": {
    "tags": []
   },
   "outputs": [
    {
     "name": "stdout",
     "output_type": "stream",
     "text": [
      "(7,)\n",
      "(7, 2, 3)\n"
     ]
    }
   ],
   "source": [
    "train_xsf_files = glob.glob(\"./1_H2/train_set/file_*\")\n",
    "train_xsf_files.sort()\n",
    "train_data = ReferenceData(structure_files=train_xsf_files, file_format='xsf')\n",
    "train_data.set_data()\n",
    "\n",
    "print(train_data.energy.shape)\n",
    "print(train_data.force.shape)"
   ]
  },
  {
   "cell_type": "code",
   "execution_count": 10,
   "id": "1e89599a-603a-48e1-988e-3e3dbe9f48fb",
   "metadata": {
    "tags": []
   },
   "outputs": [
    {
     "name": "stdout",
     "output_type": "stream",
     "text": [
      "(200,)\n",
      "(200, 2, 3)\n"
     ]
    }
   ],
   "source": [
    "test_xsf_files = glob.glob(\"./1_H2/test_set/file_*\")\n",
    "test_xsf_files.sort()\n",
    "test_data = ReferenceData(structure_files=test_xsf_files, file_format='xsf')\n",
    "test_data.set_data()\n",
    "\n",
    "print(test_data.energy.shape)\n",
    "print(test_data.force.shape)"
   ]
  },
  {
   "cell_type": "markdown",
   "id": "fe4c1b49-fe17-4cd7-977f-d0adda2695aa",
   "metadata": {},
   "source": [
    "# 2. Model train"
   ]
  },
  {
   "cell_type": "code",
   "execution_count": 11,
   "id": "118f1319-3dd3-482f-81ee-b0f80918bdf3",
   "metadata": {
    "tags": []
   },
   "outputs": [
    {
     "name": "stdout",
     "output_type": "stream",
     "text": [
      "\n",
      "Training parameters\n",
      "{'num_data': 7, 'calculator': {'kerneltype': 'sqexp', 'scale': tensor(0.4000, dtype=torch.float64), 'weight': tensor(1., dtype=torch.float64), 'noise': tensor(1.0000e-06, dtype=torch.float64), 'noisefactor': tensor(0.5000, dtype=torch.float64)}, 'fix_ind': None, 'pbc': False, 'species': ['H', 'H'], 'num_atom': 2}\n",
      "\n"
     ]
    }
   ],
   "source": [
    "if train_data.standardization:\n",
    "    train_data.standardize_energy_force(train_data.energy)\n",
    "train_data.config_calculator()\n",
    "\n",
    "io_train_parameters(data_param=train_data.write_params())"
   ]
  },
  {
   "cell_type": "markdown",
   "id": "834f799e-6247-46c2-937e-e334f2a14a01",
   "metadata": {},
   "source": [
    "# 3. Model evaluation for test set"
   ]
  },
  {
   "cell_type": "code",
   "execution_count": 12,
   "id": "2d0dd8f4-d3c1-45c6-bab4-9f01d0d3bedf",
   "metadata": {
    "tags": []
   },
   "outputs": [
    {
     "name": "stdout",
     "output_type": "stream",
     "text": [
      "\n",
      "Test parameters\n",
      "{'num_data': 200, 'calculator': {'kerneltype': 'sqexp', 'scale': tensor(0.4000, dtype=torch.float64), 'weight': tensor(1., dtype=torch.float64), 'noise': tensor(1.0000e-06, dtype=torch.float64), 'noisefactor': tensor(0.5000, dtype=torch.float64)}, 'fix_ind': None, 'pbc': False, 'species': ['H', 'H'], 'num_atom': 2}\n",
      "\n"
     ]
    }
   ],
   "source": [
    "test_data.calculator = train_data.calculator\n",
    "\n",
    "io_test_parameters(data_param=test_data.write_params())"
   ]
  },
  {
   "cell_type": "code",
   "execution_count": 13,
   "id": "87db43dd-8c41-465c-b3f3-895b71c06662",
   "metadata": {
    "tags": []
   },
   "outputs": [
    {
     "name": "stdout",
     "output_type": "stream",
     "text": [
      "Energy MAE: 0.002802978675064543\n",
      "Force MAE: 0.10320614901090341\n",
      "\n",
      "Energy MSE: 4.416290622794316e-05\n",
      "Force MSE: 0.17530410276122968\n"
     ]
    }
   ],
   "source": [
    "energy_test_gpr, force_test_gpr, uncertainty_test_gpr = test_data.evaluation(get_variance=True)\n",
    "\n",
    "if train_data.standardization:\n",
    "    energy_test_gpr, force_test_gpr = inverse_standard_output(energy_ref=train_data.energy,\n",
    "                                                              scaled_energy_target=energy_test_gpr,\n",
    "                                                              scaled_force_target=force_test_gpr)\n",
    "\n",
    "abs_force_test_gpr = np.linalg.norm(force_test_gpr, axis=2)\n",
    "abs_force_test = np.linalg.norm(test_data.force, axis=2)\n",
    "\n",
    "print(\"Energy MAE:\", np.absolute(np.subtract(energy_test_gpr, test_data.energy)).mean())\n",
    "print(\"Force MAE:\", np.absolute(np.subtract(abs_force_test_gpr, abs_force_test)).mean())\n",
    "print()\n",
    "print(\"Energy MSE:\", np.square(np.subtract(energy_test_gpr, test_data.energy)).mean())\n",
    "print(\"Force MSE:\", np.square(np.subtract(abs_force_test_gpr, abs_force_test)).mean())"
   ]
  },
  {
   "cell_type": "code",
   "execution_count": 14,
   "id": "38388991-305a-4199-baaf-6817f36c1766",
   "metadata": {},
   "outputs": [],
   "source": [
    "d_train = []\n",
    "for image in train_data.images:\n",
    "    d_train.append(np.linalg.norm(image.get_positions()[1] - image.get_positions()[0]))\n",
    "\n",
    "d_test = []\n",
    "for image in test_data.images:\n",
    "    d_test.append(np.linalg.norm(image.get_positions()[1] - image.get_positions()[0]))"
   ]
  },
  {
   "cell_type": "code",
   "execution_count": 15,
   "id": "f11a333f-87cf-480e-8b80-62f6be9d8fd2",
   "metadata": {
    "tags": []
   },
   "outputs": [
    {
     "name": "stderr",
     "output_type": "stream",
     "text": [
      "<>:65: SyntaxWarning: invalid escape sequence '\\A'\n",
      "<>:65: SyntaxWarning: invalid escape sequence '\\A'\n",
      "/tmp/ipykernel_7987/3681586301.py:65: SyntaxWarning: invalid escape sequence '\\A'\n",
      "  ax3.set_xlabel('H-H distance ($\\AA$)', fontdict=font_x)\n"
     ]
    },
    {
     "data": {
      "image/png": "[encoded data removed]",
      "text/plain": [
       "<Figure size 350x550 with 3 Axes>"
      ]
     },
     "metadata": {},
     "output_type": "display_data"
    }
   ],
   "source": [
    "fig = plt.figure(figsize=(3.5, 5.5))\n",
    "ax1, ax2, ax3 = fig.subplots(3, 1, height_ratios=[1, 1, 1.5], sharex=False, sharey=False)\n",
    "\n",
    "font_x = {'size': 16, 'color': 'black'}\n",
    "font_y = {'size': 16, 'color': 'black'}\n",
    "font_tick = {'size': 12, 'color': 'black'} \n",
    "\n",
    "\n",
    "# The 1st plot\n",
    "ax1.fill_between(d_test, uncertainty_test_gpr, 0, label='Uncertainty', color='crimson', alpha=0.5, edgecolor='black')\n",
    "ax1.vlines(d_train, ymin=-100, ymax=100, color='black', linestyle='--', linewidth=1)\n",
    "\n",
    "# ax1.set_xlabel(\"Error in energy [eV]\", fontdict=font_x)\n",
    "ax1.set_xlim([0.95, 2.05])\n",
    "x_labels = [round(label, 2) for label in ax1.get_xticks()]\n",
    "ax1.set_xticks(x_labels)\n",
    "ax1.set_xlim([0.95, 2.05])\n",
    "ax1.set_xticklabels(x_labels, fontdict=font_tick)\n",
    "\n",
    "ax1.set_ylabel('Uncertainty', fontdict=font_y)\n",
    "ax1.set_ylim(0, 0.005)\n",
    "y_labels = [round(label, 3) for label in ax1.get_yticks()]\n",
    "y_labels = [0.001, 0.003, 0.005]\n",
    "ax1.set_yticks(y_labels)\n",
    "ax1.set_ylim([0, 0.005])\n",
    "ax1.set_yticklabels(y_labels, fontdict=font_tick)\n",
    "\n",
    "[x.set_linewidth(1.5) for x in ax1.spines.values()]\n",
    "ax1.tick_params(bottom=True, top=True, left=True, right=True)\n",
    "ax1.tick_params(labelbottom=False, labeltop=False, labelleft=True, labelright=False)\n",
    "ax1.tick_params(direction='in', length=8, width=1.5)\n",
    "\n",
    "\n",
    "# The second plot\n",
    "ax2.fill_between(d_test, np.subtract(energy_test_gpr, test_data.energy), 0, color='crimson', alpha=0.5, edgecolor='black')\n",
    "ax2.vlines(d_train, ymin=-100, ymax=100, color='black', linestyle='--', linewidth=1)\n",
    "\n",
    "ax2.set_xlim([0.95, 2.05])\n",
    "x_labels = [round(label, 2) for label in ax2.get_xticks()]\n",
    "ax2.set_xticks(x_labels)\n",
    "ax2.set_xlim([0.95, 2.05])\n",
    "ax2.set_xticklabels(x_labels, fontdict=font_tick)\n",
    "\n",
    "ax2.set_ylabel(\"Error (eV)\", fontdict=font_y)\n",
    "ax2.set_ylim([-0.05, 0.05])\n",
    "y_labels = [round(label, 2) for label in ax2.get_yticks()]\n",
    "y_labels = [-0.04, -0.02, 0.0, 0.02, 0.04]\n",
    "ax2.set_yticks(y_labels)\n",
    "ax2.set_ylim([-0.05, 0.05])\n",
    "ax2.set_yticklabels(y_labels, fontdict=font_tick)\n",
    "\n",
    "[x.set_linewidth(1.5) for x in ax2.spines.values()]\n",
    "ax2.tick_params(bottom=True, top=True, left=True, right=True)\n",
    "ax2.tick_params(labelbottom=False, labeltop=False, labelleft=True, labelright=False)\n",
    "ax2.tick_params(direction='in', length=8, width=1.5)\n",
    "\n",
    "\n",
    "# The third plot\n",
    "ax3.plot(d_test, test_data.energy, '-', color='gray', label='Target', alpha=0.5, linewidth=10)\n",
    "ax3.plot(d_test, energy_test_gpr, '-', label='GPR', color='crimson', linewidth=4)\n",
    "ax3.vlines(d_train, ymin=-100, ymax=100, color='black', linestyle='--', linewidth=1)\n",
    "\n",
    "ax3.plot(d_train, train_data.energy, 'o', label='Data', color='black', markersize=8)\n",
    "\n",
    "ax3.set_xlabel('H-H distance ($\\AA$)', fontdict=font_x)\n",
    "ax3.set_xlim(0.95, 2.05)\n",
    "x_labels = [round(label, 2) for label in ax3.get_xticks()]\n",
    "ax3.set_xticks(x_labels)\n",
    "ax3.set_xticklabels(x_labels, fontdict=font_tick)\n",
    "ax3.set_xlim(0.95, 2.05)\n",
    "\n",
    "ax3.set_ylabel('Energy (eV)', fontdict=font_y)\n",
    "ax3.set_ylim(-1.4, 2.2)\n",
    "y_labels = [round(label, 2) for label in ax3.get_yticks()]\n",
    "# y_labels = [-1.0, -0.5, 0.0, 0.5, 1.0, 1.5, 2.0]\n",
    "ax3.set_yticks(y_labels)\n",
    "ax3.set_yticklabels(y_labels, fontdict=font_tick)\n",
    "ax3.set_ylim(-1.4, 2.2)\n",
    "\n",
    "ax3.legend(loc='upper right', fontsize=12, ncol=1, frameon=True)\n",
    "[x.set_linewidth(1.5) for x in ax3.spines.values()]\n",
    "ax3.tick_params(bottom=True, top=True, left=True, right=False)\n",
    "ax3.tick_params(labelbottom=True, labeltop=False, labelleft=True, labelright=False)\n",
    "ax3.tick_params(direction='in', length=8, width=1.5)\n",
    "\n",
    "fig.tight_layout()\n",
    "plt.subplots_adjust(hspace=0.05, wspace=0.05)\n",
    "plt.show()"
   ]
  },
  {
   "cell_type": "code",
   "execution_count": 16,
   "id": "97e63ab6-a59b-40de-9e7e-a0214206fc9f",
   "metadata": {
    "tags": []
   },
   "outputs": [
    {
     "name": "stderr",
     "output_type": "stream",
     "text": [
      "<>:19: SyntaxWarning: invalid escape sequence '\\A'\n",
      "<>:40: SyntaxWarning: invalid escape sequence '\\A'\n",
      "<>:47: SyntaxWarning: invalid escape sequence '\\A'\n",
      "<>:19: SyntaxWarning: invalid escape sequence '\\A'\n",
      "<>:40: SyntaxWarning: invalid escape sequence '\\A'\n",
      "<>:47: SyntaxWarning: invalid escape sequence '\\A'\n",
      "/tmp/ipykernel_7987/2319578034.py:19: SyntaxWarning: invalid escape sequence '\\A'\n",
      "  ax2.set_ylabel(\"Error $(eV/\\AA)$\", fontdict=font_y)\n",
      "/tmp/ipykernel_7987/2319578034.py:40: SyntaxWarning: invalid escape sequence '\\A'\n",
      "  ax3.set_xlabel('H-H distance ($\\AA$)', fontdict=font_x)\n",
      "/tmp/ipykernel_7987/2319578034.py:47: SyntaxWarning: invalid escape sequence '\\A'\n",
      "  ax3.set_ylabel('Force $(eV/\\AA)$', fontdict=font_y)\n"
     ]
    },
    {
     "data": {
      "image/png": "[encoded data removed]",
      "text/plain": [
       "<Figure size 350x450 with 2 Axes>"
      ]
     },
     "metadata": {},
     "output_type": "display_data"
    }
   ],
   "source": [
    "fig = plt.figure(figsize=(3.5, 4.5))\n",
    "ax2, ax3 = fig.subplots(2, 1, height_ratios=[1, 1.5], sharex=False, sharey=False)\n",
    "\n",
    "font_x = {'size': 16, 'color': 'black'}\n",
    "font_y = {'size': 16, 'color': 'black'}\n",
    "font_tick = {'size': 12, 'color': 'black'}\n",
    "\n",
    "\n",
    "# The second plot\n",
    "ax2.fill_between(d_test, np.subtract(force_test_gpr[:, 0, 0], test_data.force[:, 0, 0]), 0, color='crimson', alpha=0.5, edgecolor='black')\n",
    "ax2.vlines(d_train, ymin=-100, ymax=100, color='black', linestyle='--', linewidth=1)\n",
    "\n",
    "ax2.set_xlim([0.95, 2.05])\n",
    "x_labels = [round(label, 2) for label in ax2.get_xticks()]\n",
    "ax2.set_xticks(x_labels)\n",
    "ax2.set_xlim([0.95, 2.05])\n",
    "ax2.set_xticklabels(x_labels, fontdict=font_tick)\n",
    "\n",
    "ax2.set_ylabel(\"Error $(eV/\\AA)$\", fontdict=font_y)\n",
    "ax2.set_ylim([-1.2, 1.2])\n",
    "y_labels = [round(label, 2) for label in ax2.get_yticks()]\n",
    "y_labels = [-1.0, -0.5, 0.0, 0.5, 1.0]\n",
    "ax2.set_yticks(y_labels)\n",
    "ax2.set_ylim([-1.2, 1.2])\n",
    "ax2.set_yticklabels(y_labels, fontdict=font_tick)\n",
    "\n",
    "[x.set_linewidth(1.5) for x in ax2.spines.values()]\n",
    "ax2.tick_params(bottom=True, top=True, left=True, right=True)\n",
    "ax2.tick_params(labelbottom=False, labeltop=False, labelleft=True, labelright=False)\n",
    "ax2.tick_params(direction='in', length=8, width=1.5)\n",
    "\n",
    "\n",
    "# The third plot\n",
    "ax3.plot(d_test, test_data.force[:, 0, 0], '-', color='gray', alpha=0.5, linewidth=10)\n",
    "ax3.plot(d_test, force_test_gpr[:, 0, 0], '-', label='GPR (PyTorch)', color='crimson', linewidth=4)\n",
    "ax3.vlines(d_train, ymin=-100, ymax=100, color='black', linestyle='--', linewidth=1)\n",
    "\n",
    "ax3.plot(d_train, train_data.force[:, 0, 0], 'o', label='Original F', color='black', markersize=8)\n",
    "\n",
    "ax3.set_xlabel('H-H distance ($\\AA$)', fontdict=font_x)\n",
    "ax3.set_xlim(0.95, 2.05)\n",
    "x_labels = [round(label, 2) for label in ax3.get_xticks()]\n",
    "ax3.set_xticks(x_labels)\n",
    "ax3.set_xticklabels(x_labels, fontdict=font_tick)\n",
    "ax3.set_xlim(0.95, 2.05)\n",
    "\n",
    "ax3.set_ylabel('Force $(eV/\\AA)$', fontdict=font_y)\n",
    "ax3.set_ylim(-40, 5)\n",
    "y_labels = [int(label) for label in ax3.get_yticks()]\n",
    "# y_labels = [-40, -30, -20, -10, 0]\n",
    "ax3.set_yticks(y_labels)\n",
    "ax3.set_yticklabels(y_labels, fontdict=font_tick)\n",
    "ax3.set_ylim(-40, 5)\n",
    "\n",
    "# ax3.legend(loc='lower right', fontsize=12, ncol=1, frameon=True)\n",
    "[x.set_linewidth(1.5) for x in ax3.spines.values()]\n",
    "ax3.tick_params(bottom=True, top=True, left=True, right=False)\n",
    "ax3.tick_params(labelbottom=True, labeltop=False, labelleft=True, labelright=False)\n",
    "ax3.tick_params(direction='in', length=8, width=1.5)\n",
    "\n",
    "fig.tight_layout()\n",
    "plt.subplots_adjust(hspace=0.05, wspace=0.05)\n",
    "\n",
    "plt.show()"
   ]
  },
  {
   "cell_type": "code",
   "execution_count": null,
   "id": "143b35d8-58b1-405f-a96d-549fd40b5e1c",
   "metadata": {},
   "outputs": [],
   "source": []
  }
 ],
 "metadata": {
  "kernelspec": {
   "display_name": "Python 3",
   "language": "python",
   "name": "python3"
  },
  "language_info": {
   "codemirror_mode": {
    "name": "ipython",
    "version": 3
   },
   "file_extension": ".py",
   "mimetype": "text/x-python",
   "name": "python",
   "nbconvert_exporter": "python",
   "pygments_lexer": "ipython3",
   "version": "3.12.7"
  }
 },
 "nbformat": 4,
 "nbformat_minor": 5
}
