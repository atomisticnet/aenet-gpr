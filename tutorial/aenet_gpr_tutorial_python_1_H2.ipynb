{
 "cells": [
  {
   "cell_type": "code",
   "execution_count": 1,
   "id": "b3f3560f-8a53-47af-9cc3-9743524b0720",
   "metadata": {},
   "outputs": [
    {
     "name": "stdout",
     "output_type": "stream",
     "text": [
      "successfully imported torch\n",
      "2.6.0+cu124\n"
     ]
    }
   ],
   "source": [
    "try:\n",
    "    import torch\n",
    "    print(\"successfully imported torch\")\n",
    "    print(torch.__version__)\n",
    "except ImportError:\n",
    "    !! pip install torch torchvision torchaudio --user --index-url https://download.pytorch.org/whl/cpu\n",
    "    print(\"completed installing torch\")"
   ]
  },
  {
   "cell_type": "code",
   "execution_count": 2,
   "id": "981f8940-e145-4ef8-ba35-4f193f98a123",
   "metadata": {},
   "outputs": [
    {
     "name": "stdout",
     "output_type": "stream",
     "text": [
      "successfully imported numpy\n",
      "1.26.4\n"
     ]
    }
   ],
   "source": [
    "try:\n",
    "    import numpy as np\n",
    "    print(\"successfully imported numpy\")\n",
    "    print(np.__version__)\n",
    "except ImportError:\n",
    "    !! pip install numpy --user --upgrade\n",
    "    print(\"completed installing numpy\")"
   ]
  },
  {
   "cell_type": "code",
   "execution_count": 3,
   "id": "1368d2c8-7d43-4cd1-b1c2-07434d68abb7",
   "metadata": {},
   "outputs": [
    {
     "name": "stdout",
     "output_type": "stream",
     "text": [
      "successfully imported matplotlib\n"
     ]
    }
   ],
   "source": [
    "try:\n",
    "    from matplotlib import pyplot as plt\n",
    "    print(\"successfully imported matplotlib\")\n",
    "except ImportError:\n",
    "    !! pip install matplotlib --user --upgrade\n",
    "    print(\"completed installing matplotlib\")"
   ]
  },
  {
   "cell_type": "code",
   "execution_count": 4,
   "id": "11e45431-8717-40ed-ba5a-348bdfe73539",
   "metadata": {},
   "outputs": [
    {
     "name": "stdout",
     "output_type": "stream",
     "text": [
      "completed installing aenet-gpr\n",
      "Name: aenet-gpr\n",
      "Version: 1.2.9\n",
      "Summary: Atomistic simulation tools based on Gaussian Processes Regression\n",
      "Home-page: https://github.com/atomisticnet/aenet-gpr\n",
      "Author: In Won Yeu\n",
      "Author-email: iy2185@columbia.edu\n",
      "License: MPL-2.0\n",
      "Location: /data/home/iy2185/.local/lib/python3.12/site-packages\n",
      "Requires: ase, dscribe\n",
      "Required-by: \n"
     ]
    }
   ],
   "source": [
    "!! pip install aenet-gpr --user --upgrade\n",
    "print(\"completed installing aenet-gpr\")\n",
    "\n",
    "! pip show aenet-gpr"
   ]
  },
  {
   "cell_type": "code",
   "execution_count": 5,
   "id": "4bb23243-9ca4-4176-a532-643839db206a",
   "metadata": {},
   "outputs": [
    {
     "name": "stdout",
     "output_type": "stream",
     "text": [
      "1.2.9\n"
     ]
    }
   ],
   "source": [
    "import os, sys, site\n",
    "sys.path.append(site.USER_SITE)\n",
    "\n",
    "import aenet_gpr\n",
    "print(aenet_gpr.__version__)\n",
    "\n",
    "from aenet_gpr.util import ReferenceData, standard_output, inverse_standard_output\n",
    "from aenet_gpr.src import gpr_batch\n",
    "from aenet_gpr.inout import io_train_parameters, io_test_parameters"
   ]
  },
  {
   "cell_type": "code",
   "execution_count": 6,
   "id": "10aafbb8-1a2b-4343-8fdc-916f18f71ea7",
   "metadata": {},
   "outputs": [
    {
     "name": "stdout",
     "output_type": "stream",
     "text": [
      "successfully imported ase\n"
     ]
    }
   ],
   "source": [
    "from IPython.display import Image\n",
    "\n",
    "try:\n",
    "    import ase.io\n",
    "    print(\"successfully imported ase\")\n",
    "except ImportError:\n",
    "    !! pip install ase --user --upgrade\n",
    "    print(\"completed installing ASE\")\n",
    "    \n",
    "    import ase.io\n",
    "    print(\"successfully imported ase\")"
   ]
  },
  {
   "cell_type": "markdown",
   "id": "f9cfd82b-8f6c-48ec-9c57-54ea593bb81b",
   "metadata": {},
   "source": [
    "# 1. Read reference training/test data from xsf files"
   ]
  },
  {
   "cell_type": "markdown",
   "id": "c9e24d9c-0921-4127-af76-ba83f8574d71",
   "metadata": {},
   "source": [
    "We are using train/test data of H-H Lennard-Jones potential prepared in `aenet-gpr/example/1_H2/`"
   ]
  },
  {
   "cell_type": "code",
   "execution_count": 7,
   "id": "d50bab63-a944-4fa9-b202-3deb00dcf64b",
   "metadata": {},
   "outputs": [
    {
     "name": "stdout",
     "output_type": "stream",
     "text": [
      "--2025-05-25 21:37:31--  https://github.com/atomisticnet/aenet-gpr/raw/refs/heads/main/example/1_H2/train_set.zip\n",
      "Resolving github.com (github.com)... 140.82.113.4\n",
      "Connecting to github.com (github.com)|140.82.113.4|:443... connected.\n",
      "HTTP request sent, awaiting response... 302 Found\n",
      "Location: https://raw.githubusercontent.com/atomisticnet/aenet-gpr/refs/heads/main/example/1_H2/train_set.zip [following]\n",
      "--2025-05-25 21:37:32--  https://raw.githubusercontent.com/atomisticnet/aenet-gpr/refs/heads/main/example/1_H2/train_set.zip\n",
      "Resolving raw.githubusercontent.com (raw.githubusercontent.com)... 185.199.110.133, 185.199.111.133, 185.199.108.133, ...\n",
      "Connecting to raw.githubusercontent.com (raw.githubusercontent.com)|185.199.110.133|:443... connected.\n",
      "HTTP request sent, awaiting response... 200 OK\n",
      "Length: 4676 (4.6K) [application/zip]\n",
      "Saving to: ‘train_set.zip’\n",
      "\n",
      "train_set.zip       100%[===================>]   4.57K  --.-KB/s    in 0s      \n",
      "\n",
      "2025-05-25 21:37:32 (17.8 MB/s) - ‘train_set.zip’ saved [4676/4676]\n",
      "\n",
      "number of train data:\n",
      "7\n"
     ]
    }
   ],
   "source": [
    "import os.path\n",
    "\n",
    "! rm -rf 1_H2\n",
    "! mkdir 1_H2\n",
    "\n",
    "if os.path.isfile(\"../example/1_H2/train_set.zip\"):\n",
    "    ! unzip -oq ../example/1_H2/train_set.zip -d ./1_H2/\n",
    "    print(\"number of train data:\")\n",
    "    ! find ./1_H2/train_set/ -type f | wc -l\n",
    "else:\n",
    "    ! wget https://github.com/atomisticnet/aenet-gpr/raw/refs/heads/main/example/1_H2/train_set.zip\n",
    "    ! unzip -oq train_set.zip -d ./1_H2/\n",
    "    ! rm train_set.zip\n",
    "    print(\"number of train data:\")\n",
    "    ! find ./1_H2/train_set/ -type f | wc -l"
   ]
  },
  {
   "cell_type": "code",
   "execution_count": 8,
   "id": "21ba107a-9e4c-44cd-82e4-d9d5cf97477b",
   "metadata": {},
   "outputs": [
    {
     "name": "stdout",
     "output_type": "stream",
     "text": [
      "--2025-05-25 21:37:32--  https://github.com/atomisticnet/aenet-gpr/raw/refs/heads/main/example/1_H2/test_set.zip\n",
      "Resolving github.com (github.com)... 140.82.113.4\n",
      "Connecting to github.com (github.com)|140.82.113.4|:443... connected.\n",
      "HTTP request sent, awaiting response... 302 Found\n",
      "Location: https://raw.githubusercontent.com/atomisticnet/aenet-gpr/refs/heads/main/example/1_H2/test_set.zip [following]\n",
      "--2025-05-25 21:37:32--  https://raw.githubusercontent.com/atomisticnet/aenet-gpr/refs/heads/main/example/1_H2/test_set.zip\n",
      "Resolving raw.githubusercontent.com (raw.githubusercontent.com)... 185.199.109.133, 185.199.108.133, 185.199.111.133, ...\n",
      "Connecting to raw.githubusercontent.com (raw.githubusercontent.com)|185.199.109.133|:443... connected.\n",
      "HTTP request sent, awaiting response... 200 OK\n",
      "Length: 122489 (120K) [application/zip]\n",
      "Saving to: ‘test_set.zip’\n",
      "\n",
      "test_set.zip        100%[===================>] 119.62K  --.-KB/s    in 0.003s  \n",
      "\n",
      "2025-05-25 21:37:33 (33.9 MB/s) - ‘test_set.zip’ saved [122489/122489]\n",
      "\n",
      "number of test data:\n",
      "200\n"
     ]
    }
   ],
   "source": [
    "if os.path.isfile(\"../example/1_H2/test_set.zip\"):\n",
    "    ! unzip -oq ../example/1_H2/test_set.zip -d ./1_H2/\n",
    "    print(\"number of test data:\")\n",
    "    ! find ./1_H2/test_set/ -type f | wc -l\n",
    "else:\n",
    "    ! wget https://github.com/atomisticnet/aenet-gpr/raw/refs/heads/main/example/1_H2/test_set.zip\n",
    "    ! unzip -oq test_set.zip -d ./1_H2/\n",
    "    ! rm test_set.zip\n",
    "    print(\"number of test data:\")\n",
    "    ! find ./1_H2/test_set/ -type f | wc -l"
   ]
  },
  {
   "cell_type": "markdown",
   "id": "bb7418a9-b838-4d47-ac4b-284ec1ab89d5",
   "metadata": {},
   "source": [
    "First, let aenet-gpr read the train/test files"
   ]
  },
  {
   "cell_type": "code",
   "execution_count": 9,
   "id": "36e0a117-e0fd-41a1-8f30-7d374bf58716",
   "metadata": {
    "tags": []
   },
   "outputs": [
    {
     "name": "stdout",
     "output_type": "stream",
     "text": [
      "(7,)\n",
      "(7, 2, 3)\n"
     ]
    }
   ],
   "source": [
    "import glob\n",
    "\n",
    "\n",
    "train_xsf_files = glob.glob(\"./1_H2/train_set/file_*\")\n",
    "train_xsf_files.sort()\n",
    "train_data = ReferenceData(structure_files=train_xsf_files, file_format='xsf')\n",
    "train_data.set_data()\n",
    "\n",
    "print(train_data.energy.shape)\n",
    "print(train_data.force.shape)"
   ]
  },
  {
   "cell_type": "code",
   "execution_count": 10,
   "id": "1e89599a-603a-48e1-988e-3e3dbe9f48fb",
   "metadata": {
    "tags": []
   },
   "outputs": [
    {
     "name": "stdout",
     "output_type": "stream",
     "text": [
      "(200,)\n",
      "(200, 2, 3)\n"
     ]
    }
   ],
   "source": [
    "test_xsf_files = glob.glob(\"./1_H2/test_set/file_*\")\n",
    "test_xsf_files.sort()\n",
    "test_data = ReferenceData(structure_files=test_xsf_files, file_format='xsf')\n",
    "test_data.set_data()\n",
    "\n",
    "print(test_data.energy.shape)\n",
    "print(test_data.force.shape)"
   ]
  },
  {
   "cell_type": "code",
   "execution_count": 11,
   "id": "53eeaa49-ed4a-4717-afa9-3280f48c7e20",
   "metadata": {},
   "outputs": [
    {
     "data": {
      "image/png": "[encoded data removed]",
      "text/plain": [
       "<IPython.core.display.Image object>"
      ]
     },
     "execution_count": 11,
     "metadata": {},
     "output_type": "execute_result"
    }
   ],
   "source": [
    "atoms = ase.io.read(test_xsf_files[0])\n",
    "ase.io.write('H2.png', atoms)\n",
    "Image(\"H2.png\")"
   ]
  },
  {
   "cell_type": "markdown",
   "id": "fe4c1b49-fe17-4cd7-977f-d0adda2695aa",
   "metadata": {},
   "source": [
    "# 2. Model train"
   ]
  },
  {
   "cell_type": "markdown",
   "id": "b2884bc7-e15f-4875-bd38-e4d9cf5855ae",
   "metadata": {},
   "source": [
    "Second, construct a GPR model fitted to training energy and force data (7 sample points). \n",
    "\n",
    "In this example, default settings, energy/force standardization and sqexp kernel parameters, are used."
   ]
  },
  {
   "cell_type": "code",
   "execution_count": null,
   "id": "118f1319-3dd3-482f-81ee-b0f80918bdf3",
   "metadata": {
    "tags": []
   },
   "outputs": [],
   "source": [
    "if train_data.standardization:\n",
    "    train_data.standardize_energy_force(train_data.energy)\n",
    "train_data.config_calculator()\n",
    "\n",
    "io_train_parameters(data_param=train_data.write_params())"
   ]
  },
  {
   "cell_type": "markdown",
   "id": "834f799e-6247-46c2-937e-e334f2a14a01",
   "metadata": {},
   "source": [
    "# 3. Model evaluation for test set"
   ]
  },
  {
   "cell_type": "markdown",
   "id": "06878886-09d0-4a15-af73-f4206aecfb15",
   "metadata": {},
   "source": [
    "Finally, using the constructed GPR model, evaluate energy and force of test structures (200 structures)."
   ]
  },
  {
   "cell_type": "code",
   "execution_count": null,
   "id": "2d0dd8f4-d3c1-45c6-bab4-9f01d0d3bedf",
   "metadata": {
    "tags": []
   },
   "outputs": [],
   "source": [
    "test_data.calculator = train_data.calculator\n",
    "\n",
    "io_test_parameters(data_param=test_data.write_params())\n",
    "\n",
    "energy_test_gpr, force_test_gpr, uncertainty_test_gpr = test_data.evaluation(get_variance=True)"
   ]
  },
  {
   "cell_type": "markdown",
   "id": "538d6900-6ff7-46d1-88d9-222a51944ddb",
   "metadata": {},
   "source": [
    "Since the training energy/force values were standardized, the raw predictions should also be standardized.\n",
    "\n",
    "Final predictions on energy and force can be obtained from inverse standardization."
   ]
  },
  {
   "cell_type": "code",
   "execution_count": null,
   "id": "87db43dd-8c41-465c-b3f3-895b71c06662",
   "metadata": {
    "tags": []
   },
   "outputs": [],
   "source": [
    "if train_data.standardization:\n",
    "    energy_test_gpr, force_test_gpr = inverse_standard_output(energy_ref=train_data.energy,\n",
    "                                                              scaled_energy_target=energy_test_gpr,\n",
    "                                                              scaled_force_target=force_test_gpr)\n",
    "\n",
    "abs_force_test_gpr = np.linalg.norm(force_test_gpr, axis=2)\n",
    "abs_force_test = np.linalg.norm(test_data.force, axis=2)\n",
    "\n",
    "print(\"Energy MAE (eV):\", np.absolute(np.subtract(energy_test_gpr, test_data.energy)).mean())\n",
    "print(\"Force MAE (eV/Ang):\", np.absolute(np.subtract(abs_force_test_gpr, abs_force_test)).mean())"
   ]
  },
  {
   "cell_type": "markdown",
   "id": "d1350edd-08af-4bce-a56b-7f4143c59ad3",
   "metadata": {},
   "source": [
    "# 4. Visualize the results"
   ]
  },
  {
   "cell_type": "markdown",
   "id": "425f3f21-6952-4e7f-982f-d1ef5438da92",
   "metadata": {},
   "source": [
    "Now, let's compare the GPR predictions with the target Lennard-Jones potential.\n",
    "\n",
    "The results will be shown by energy/force vs H-H bond distance plots."
   ]
  },
  {
   "cell_type": "code",
   "execution_count": null,
   "id": "38388991-305a-4199-baaf-6817f36c1766",
   "metadata": {},
   "outputs": [],
   "source": [
    "d_train = []\n",
    "for image in train_data.images:\n",
    "    d_train.append(np.linalg.norm(image.get_positions()[1] - image.get_positions()[0]))\n",
    "\n",
    "d_test = []\n",
    "for image in test_data.images:\n",
    "    d_test.append(np.linalg.norm(image.get_positions()[1] - image.get_positions()[0]))"
   ]
  },
  {
   "cell_type": "code",
   "execution_count": null,
   "id": "f11a333f-87cf-480e-8b80-62f6be9d8fd2",
   "metadata": {
    "tags": []
   },
   "outputs": [],
   "source": [
    "fig = plt.figure(figsize=(3.5, 5.5))\n",
    "ax1, ax2, ax3 = fig.subplots(3, 1, height_ratios=[1, 1, 1.5], sharex=False, sharey=False)\n",
    "\n",
    "font_x = {'size': 16, 'color': 'black'}\n",
    "font_y = {'size': 16, 'color': 'black'}\n",
    "font_tick = {'size': 12, 'color': 'black'} \n",
    "\n",
    "\n",
    "# The 1st plot\n",
    "ax1.fill_between(d_test, uncertainty_test_gpr, 0, label='Uncertainty', color='crimson', alpha=0.5, edgecolor='black')\n",
    "ax1.vlines(d_train, ymin=-100, ymax=100, color='black', linestyle='--', linewidth=1)\n",
    "\n",
    "# ax1.set_xlabel(\"Error in energy [eV]\", fontdict=font_x)\n",
    "ax1.set_xlim([0.95, 2.05])\n",
    "x_labels = [round(label, 2) for label in ax1.get_xticks()]\n",
    "ax1.set_xticks(x_labels)\n",
    "ax1.set_xlim([0.95, 2.05])\n",
    "ax1.set_xticklabels(x_labels, fontdict=font_tick)\n",
    "\n",
    "ax1.set_ylabel('Uncertainty', fontdict=font_y)\n",
    "ax1.set_ylim(0, 0.05)\n",
    "y_labels = [round(label, 3) for label in ax1.get_yticks()]\n",
    "y_labels = [0.01, 0.03, 0.05]\n",
    "ax1.set_yticks(y_labels)\n",
    "ax1.set_ylim([0, 0.05])\n",
    "ax1.set_yticklabels(y_labels, fontdict=font_tick)\n",
    "\n",
    "[x.set_linewidth(1.5) for x in ax1.spines.values()]\n",
    "ax1.tick_params(bottom=True, top=True, left=True, right=True)\n",
    "ax1.tick_params(labelbottom=False, labeltop=False, labelleft=True, labelright=False)\n",
    "ax1.tick_params(direction='in', length=8, width=1.5)\n",
    "\n",
    "\n",
    "# The second plot\n",
    "ax2.fill_between(d_test, np.subtract(energy_test_gpr, test_data.energy), 0, color='crimson', alpha=0.5, edgecolor='black')\n",
    "ax2.vlines(d_train, ymin=-100, ymax=100, color='black', linestyle='--', linewidth=1)\n",
    "\n",
    "ax2.set_xlim([0.95, 2.05])\n",
    "x_labels = [round(label, 2) for label in ax2.get_xticks()]\n",
    "ax2.set_xticks(x_labels)\n",
    "ax2.set_xlim([0.95, 2.05])\n",
    "ax2.set_xticklabels(x_labels, fontdict=font_tick)\n",
    "\n",
    "ax2.set_ylabel(\"Error (eV)\", fontdict=font_y)\n",
    "ax2.set_ylim([-0.05, 0.05])\n",
    "y_labels = [round(label, 2) for label in ax2.get_yticks()]\n",
    "y_labels = [-0.04, -0.02, 0.0, 0.02, 0.04]\n",
    "ax2.set_yticks(y_labels)\n",
    "ax2.set_ylim([-0.05, 0.05])\n",
    "ax2.set_yticklabels(y_labels, fontdict=font_tick)\n",
    "\n",
    "[x.set_linewidth(1.5) for x in ax2.spines.values()]\n",
    "ax2.tick_params(bottom=True, top=True, left=True, right=True)\n",
    "ax2.tick_params(labelbottom=False, labeltop=False, labelleft=True, labelright=False)\n",
    "ax2.tick_params(direction='in', length=8, width=1.5)\n",
    "\n",
    "\n",
    "# The third plot\n",
    "ax3.plot(d_test, test_data.energy, '-', color='gray', label='Target', alpha=0.5, linewidth=10)\n",
    "ax3.plot(d_test, energy_test_gpr, '-', label='GPR', color='crimson', linewidth=4)\n",
    "ax3.vlines(d_train, ymin=-100, ymax=100, color='black', linestyle='--', linewidth=1)\n",
    "\n",
    "ax3.plot(d_train, train_data.energy, 'o', label='Data', color='black', markersize=8)\n",
    "\n",
    "ax3.set_xlabel('H-H distance (Ang)', fontdict=font_x)\n",
    "ax3.set_xlim(0.95, 2.05)\n",
    "x_labels = [round(label, 2) for label in ax3.get_xticks()]\n",
    "ax3.set_xticks(x_labels)\n",
    "ax3.set_xticklabels(x_labels, fontdict=font_tick)\n",
    "ax3.set_xlim(0.95, 2.05)\n",
    "\n",
    "ax3.set_ylabel('Energy (eV)', fontdict=font_y)\n",
    "ax3.set_ylim(-1.4, 2.2)\n",
    "y_labels = [round(label, 2) for label in ax3.get_yticks()]\n",
    "# y_labels = [-1.0, -0.5, 0.0, 0.5, 1.0, 1.5, 2.0]\n",
    "ax3.set_yticks(y_labels)\n",
    "ax3.set_yticklabels(y_labels, fontdict=font_tick)\n",
    "ax3.set_ylim(-1.4, 2.2)\n",
    "\n",
    "ax3.legend(loc='upper right', fontsize=12, ncol=1, frameon=True)\n",
    "[x.set_linewidth(1.5) for x in ax3.spines.values()]\n",
    "ax3.tick_params(bottom=True, top=True, left=True, right=False)\n",
    "ax3.tick_params(labelbottom=True, labeltop=False, labelleft=True, labelright=False)\n",
    "ax3.tick_params(direction='in', length=8, width=1.5)\n",
    "\n",
    "fig.tight_layout()\n",
    "plt.subplots_adjust(hspace=0.05, wspace=0.05)\n",
    "plt.show()"
   ]
  },
  {
   "cell_type": "code",
   "execution_count": null,
   "id": "97e63ab6-a59b-40de-9e7e-a0214206fc9f",
   "metadata": {
    "tags": []
   },
   "outputs": [],
   "source": [
    "fig = plt.figure(figsize=(3.5, 4.5))\n",
    "ax2, ax3 = fig.subplots(2, 1, height_ratios=[1, 1.5], sharex=False, sharey=False)\n",
    "\n",
    "font_x = {'size': 16, 'color': 'black'}\n",
    "font_y = {'size': 16, 'color': 'black'}\n",
    "font_tick = {'size': 12, 'color': 'black'}\n",
    "\n",
    "\n",
    "# The second plot\n",
    "ax2.fill_between(d_test, np.subtract(force_test_gpr[:, 0, 0], test_data.force[:, 0, 0]), 0, color='crimson', alpha=0.5, edgecolor='black')\n",
    "ax2.vlines(d_train, ymin=-100, ymax=100, color='black', linestyle='--', linewidth=1)\n",
    "\n",
    "ax2.set_xlim([0.95, 2.05])\n",
    "x_labels = [round(label, 2) for label in ax2.get_xticks()]\n",
    "ax2.set_xticks(x_labels)\n",
    "ax2.set_xlim([0.95, 2.05])\n",
    "ax2.set_xticklabels(x_labels, fontdict=font_tick)\n",
    "\n",
    "ax2.set_ylabel(\"Error (eV/Ang)\", fontdict=font_y)\n",
    "ax2.set_ylim([-1.2, 1.2])\n",
    "y_labels = [round(label, 2) for label in ax2.get_yticks()]\n",
    "y_labels = [-1.0, -0.5, 0.0, 0.5, 1.0]\n",
    "ax2.set_yticks(y_labels)\n",
    "ax2.set_ylim([-1.2, 1.2])\n",
    "ax2.set_yticklabels(y_labels, fontdict=font_tick)\n",
    "\n",
    "[x.set_linewidth(1.5) for x in ax2.spines.values()]\n",
    "ax2.tick_params(bottom=True, top=True, left=True, right=True)\n",
    "ax2.tick_params(labelbottom=False, labeltop=False, labelleft=True, labelright=False)\n",
    "ax2.tick_params(direction='in', length=8, width=1.5)\n",
    "\n",
    "\n",
    "# The third plot\n",
    "ax3.plot(d_test, test_data.force[:, 0, 0], '-', color='gray', alpha=0.5, linewidth=10)\n",
    "ax3.plot(d_test, force_test_gpr[:, 0, 0], '-', label='GPR', color='crimson', linewidth=4)\n",
    "ax3.vlines(d_train, ymin=-100, ymax=100, color='black', linestyle='--', linewidth=1)\n",
    "\n",
    "ax3.plot(d_train, train_data.force[:, 0, 0], 'o', label='Original F', color='black', markersize=8)\n",
    "\n",
    "ax3.set_xlabel('H-H distance (Ang)', fontdict=font_x)\n",
    "ax3.set_xlim(0.95, 2.05)\n",
    "x_labels = [round(label, 2) for label in ax3.get_xticks()]\n",
    "ax3.set_xticks(x_labels)\n",
    "ax3.set_xticklabels(x_labels, fontdict=font_tick)\n",
    "ax3.set_xlim(0.95, 2.05)\n",
    "\n",
    "ax3.set_ylabel('Force (eV/Ang)', fontdict=font_y)\n",
    "ax3.set_ylim(-40, 5)\n",
    "y_labels = [int(label) for label in ax3.get_yticks()]\n",
    "# y_labels = [-40, -30, -20, -10, 0]\n",
    "ax3.set_yticks(y_labels)\n",
    "ax3.set_yticklabels(y_labels, fontdict=font_tick)\n",
    "ax3.set_ylim(-40, 5)\n",
    "\n",
    "# ax3.legend(loc='lower right', fontsize=12, ncol=1, frameon=True)\n",
    "[x.set_linewidth(1.5) for x in ax3.spines.values()]\n",
    "ax3.tick_params(bottom=True, top=True, left=True, right=False)\n",
    "ax3.tick_params(labelbottom=True, labeltop=False, labelleft=True, labelright=False)\n",
    "ax3.tick_params(direction='in', length=8, width=1.5)\n",
    "\n",
    "fig.tight_layout()\n",
    "plt.subplots_adjust(hspace=0.05, wspace=0.05)\n",
    "\n",
    "plt.show()"
   ]
  },
  {
   "cell_type": "markdown",
   "id": "7ea19b4c-e39c-40f7-9f62-f43d08cf221b",
   "metadata": {},
   "source": [
    "# 5. Generate additional data"
   ]
  },
  {
   "cell_type": "code",
   "execution_count": null,
   "id": "aed2caff-b2a7-4580-9b11-d831ae18ce5b",
   "metadata": {},
   "outputs": [],
   "source": [
    "import copy\n",
    "from aenet_gpr.util import AdditionalData"
   ]
  },
  {
   "cell_type": "code",
   "execution_count": null,
   "id": "1f9abc3c-61cb-4590-8a9a-c5e2b460200c",
   "metadata": {},
   "outputs": [],
   "source": [
    "additional_data = AdditionalData(reference_training_data=train_data)\n",
    "disp = np.array([[0.0, 0.0, 0.0], [0.055, 0.0, 0.0]])\n",
    "\n",
    "for i, image in enumerate(additional_data.reference_training_data.images):\n",
    "    # train position - disp\n",
    "    image_disp = copy.deepcopy(image)\n",
    "    pos_disp = image.get_positions() - disp\n",
    "    image_disp.set_positions(pos_disp)\n",
    "    additional_data.additional_images.append(image_disp)\n",
    "\n",
    "    # train position + disp\n",
    "    image_disp = copy.deepcopy(image)\n",
    "    pos_disp = image.get_positions() + disp\n",
    "    image_disp.set_positions(pos_disp)\n",
    "    additional_data.additional_images.append(image_disp)\n",
    "\n",
    "print(\"Number of train data:\", len(train_data.images))\n",
    "print(\"Number of additional data:\", len(additional_data.additional_images))"
   ]
  },
  {
   "cell_type": "markdown",
   "id": "b6d2f91b-5489-4a32-be2e-849f9f329681",
   "metadata": {},
   "source": [
    "# 6. Evaluate energy of additional structures using the constructed GPR model"
   ]
  },
  {
   "cell_type": "code",
   "execution_count": null,
   "id": "f7ab03e2-0a86-4bab-a963-dc8a9f3db4e5",
   "metadata": {},
   "outputs": [],
   "source": [
    "additional_data.evaluation_additional()"
   ]
  },
  {
   "cell_type": "markdown",
   "id": "13f7c98f-1715-4f45-9b13-d8f9a625cd34",
   "metadata": {},
   "source": [
    "# 7. Write aenet xsf input files of train and additional data "
   ]
  },
  {
   "cell_type": "code",
   "execution_count": null,
   "id": "4a4c15a7-cbb8-4a51-b2a0-deb49253b654",
   "metadata": {},
   "outputs": [],
   "source": [
    "! rm -rf 1_H2/additional_xsf/\n",
    "! mkdir 1_H2/additional_xsf/\n",
    "additional_data.write_additional_image_xsf(path=\"./1_H2/additional_xsf/\")"
   ]
  },
  {
   "cell_type": "markdown",
   "id": "43358af8-556f-4677-865f-4fc3ff4713d5",
   "metadata": {},
   "source": [
    "# 8-1. aenet generate (GPR-ANN, indirect force training)"
   ]
  },
  {
   "cell_type": "code",
   "execution_count": null,
   "id": "b8debb71-8296-424f-a579-0de8403071e0",
   "metadata": {},
   "outputs": [],
   "source": [
    "!! git clone https://github.com/atomisticnet/aenet.git\n",
    "!! cd aenet/lib && make\n",
    "!! cd aenet/src && make -f makefiles/Makefile.gfortran_serial\n",
    "print(\"completed installation of aenet\")"
   ]
  },
  {
   "cell_type": "code",
   "execution_count": null,
   "id": "3a17911b-c336-4c46-902e-24dcc3d2ef36",
   "metadata": {},
   "outputs": [],
   "source": [
    "%cd ./1_H2/\n",
    "%mkdir 01_aenet_generate_gpr-ann 02_aenet_train_gpr-ann 03_aenet_predict_gpr-ann\n",
    "%cd ./01_aenet_generate_gpr-ann"
   ]
  },
  {
   "cell_type": "code",
   "execution_count": null,
   "id": "d7b0a091-578f-474e-ab68-852e7d220e1b",
   "metadata": {},
   "outputs": [],
   "source": [
    "! wget https://github.com/atomisticnet/aenet-gpr/raw/refs/heads/main/example/1_H2/aenet_GPR-ANN/01_generate/H.fingerprint.stp\n",
    "! wget https://github.com/atomisticnet/aenet-gpr/raw/refs/heads/main/example/1_H2/aenet_GPR-ANN/01_generate/generate.in"
   ]
  },
  {
   "cell_type": "code",
   "execution_count": null,
   "id": "f9032a9c-42e4-4754-914e-0b76227480c0",
   "metadata": {},
   "outputs": [],
   "source": [
    "%ls"
   ]
  },
  {
   "cell_type": "code",
   "execution_count": null,
   "id": "1ff44649-6107-4d4e-806c-fcb0782597fa",
   "metadata": {},
   "outputs": [],
   "source": [
    "! cat H.fingerprint.stp"
   ]
  },
  {
   "cell_type": "code",
   "execution_count": null,
   "id": "ac280945-8e28-42b7-9c2f-461a46ca277d",
   "metadata": {},
   "outputs": [],
   "source": [
    "! cat generate.in"
   ]
  },
  {
   "cell_type": "code",
   "execution_count": null,
   "id": "b11c6716-eeca-4a47-a120-51457084b8bc",
   "metadata": {},
   "outputs": [],
   "source": [
    "!! ../../aenet/bin/generate.x-2.0.4-gfortran_serial generate.in | tee generate.out"
   ]
  },
  {
   "cell_type": "code",
   "execution_count": null,
   "id": "9ebcad05-2291-4edf-bbb4-8200dcddf7a3",
   "metadata": {},
   "outputs": [],
   "source": [
    "%ls"
   ]
  },
  {
   "cell_type": "markdown",
   "id": "86c7a57e-0106-4ab3-8248-28cebd82cbca",
   "metadata": {},
   "source": [
    "# 8-2. aenet train (GPR-ANN)"
   ]
  },
  {
   "cell_type": "code",
   "execution_count": null,
   "id": "10ecead8-b706-46ac-9a15-299ac4ca012b",
   "metadata": {},
   "outputs": [],
   "source": [
    "%cd ../02_aenet_train_gpr-ann/"
   ]
  },
  {
   "cell_type": "code",
   "execution_count": null,
   "id": "94467a90-02c5-450d-90a1-446238af9c2c",
   "metadata": {},
   "outputs": [],
   "source": [
    "! ln -s ../01_aenet_generate_gpr-ann/H2.train"
   ]
  },
  {
   "cell_type": "code",
   "execution_count": null,
   "id": "97b79312-e551-4ed6-adb7-7252d60cebd9",
   "metadata": {},
   "outputs": [],
   "source": [
    "! wget https://github.com/atomisticnet/aenet-gpr/raw/refs/heads/main/example/1_H2/aenet_GPR-ANN/02_train/train.in"
   ]
  },
  {
   "cell_type": "code",
   "execution_count": null,
   "id": "ad02a539-16f3-4353-bf02-ef2cb19707be",
   "metadata": {},
   "outputs": [],
   "source": [
    "! cat train.in"
   ]
  },
  {
   "cell_type": "code",
   "execution_count": null,
   "id": "f2dc893c-e0f4-402a-a8d4-3ee652538dc9",
   "metadata": {},
   "outputs": [],
   "source": [
    "%ls"
   ]
  },
  {
   "cell_type": "code",
   "execution_count": null,
   "id": "f975cae3-9f9d-4259-82f2-89ab5e6cebfb",
   "metadata": {},
   "outputs": [],
   "source": [
    "! ../../aenet/bin/train.x-2.0.4-gfortran_serial train.in | tee train.out\n",
    "!! tar cfz nn.tar.gz *.nn-* && rm -f *.nn-*"
   ]
  },
  {
   "cell_type": "code",
   "execution_count": null,
   "id": "7b02b1ab-813c-4cce-b2be-7c5c636a421d",
   "metadata": {},
   "outputs": [],
   "source": [
    "%ls"
   ]
  },
  {
   "cell_type": "markdown",
   "id": "4a10e523-a0fc-42ab-8646-163c3f831d80",
   "metadata": {},
   "source": [
    "# 8-3. aenet predict (GPR-ANN)"
   ]
  },
  {
   "cell_type": "markdown",
   "id": "f62986d0-13b5-49b1-a7a9-bfe00b9ea2c7",
   "metadata": {},
   "source": [
    "Using the trained aenet potential, predict the energy and force of test structure"
   ]
  },
  {
   "cell_type": "code",
   "execution_count": null,
   "id": "164d8626-ff6e-4934-80a4-390516504568",
   "metadata": {},
   "outputs": [],
   "source": [
    "%cd ../03_aenet_predict_gpr-ann"
   ]
  },
  {
   "cell_type": "code",
   "execution_count": null,
   "id": "8af7fb9d-4832-468c-91b7-7061ab12fad5",
   "metadata": {},
   "outputs": [],
   "source": [
    "! ln -s ../02_aenet_train_gpr-ann/H.5t-5t.nn"
   ]
  },
  {
   "cell_type": "code",
   "execution_count": null,
   "id": "8606006c-eb26-46f1-bf6b-438e61deb020",
   "metadata": {},
   "outputs": [],
   "source": [
    "! wget https://github.com/atomisticnet/aenet-gpr/raw/refs/heads/main/example/1_H2/aenet_GPR-ANN/03_predict/predict.in"
   ]
  },
  {
   "cell_type": "code",
   "execution_count": null,
   "id": "0f98f429-9a60-48c6-aa85-80d36a11bb40",
   "metadata": {},
   "outputs": [],
   "source": [
    "! head -n 15 predict.in"
   ]
  },
  {
   "cell_type": "code",
   "execution_count": null,
   "id": "ca64ab71-3828-4ebc-9c66-3fee3c756687",
   "metadata": {},
   "outputs": [],
   "source": [
    "!! ../../aenet/bin/predict.x-2.0.4-gfortran_serial predict.in | tee predict.out"
   ]
  },
  {
   "cell_type": "code",
   "execution_count": null,
   "id": "cc4318ed-f565-4646-b6ee-4b6454eb48bd",
   "metadata": {},
   "outputs": [],
   "source": [
    "%ls"
   ]
  },
  {
   "cell_type": "code",
   "execution_count": null,
   "id": "dd66607b-a612-473d-9885-832df8cb9ce8",
   "metadata": {},
   "outputs": [],
   "source": [
    "! grep \"Total energy\" ./predict.out > ./energy.dat\n",
    "! grep -A 2 \" --------------------------------------------------------------------------------------\" ./predict.out | grep -v \" --------------------------------------------------------------------------------------\" > ./forces.dat"
   ]
  },
  {
   "cell_type": "code",
   "execution_count": null,
   "id": "74613fbb-a4ee-4e08-af19-5e601bcedcd9",
   "metadata": {},
   "outputs": [],
   "source": [
    "! head -n 15 energy.dat"
   ]
  },
  {
   "cell_type": "code",
   "execution_count": null,
   "id": "a27bf2a8-332d-4cef-89ef-1d7fb03bf1de",
   "metadata": {},
   "outputs": [],
   "source": [
    "with open(\"energy.dat\", 'r') as infile:\n",
    "    lines = infile.readlines()\n",
    "\n",
    "energy_test_aenet = []\n",
    "for line in lines:\n",
    "    energy_test_aenet.append(line.split()[3])\n",
    "energy_test_aenet = np.asarray(energy_test_aenet, dtype=np.float64)"
   ]
  },
  {
   "cell_type": "code",
   "execution_count": null,
   "id": "27e47304-0ead-40ed-9522-f8df8e3a7dd4",
   "metadata": {},
   "outputs": [],
   "source": [
    "! head -n 15 forces.dat"
   ]
  },
  {
   "cell_type": "code",
   "execution_count": null,
   "id": "dd6a94d4-2c4c-48c8-9b36-38ee84d79a56",
   "metadata": {},
   "outputs": [],
   "source": [
    "with open(\"forces.dat\", 'r') as infile:\n",
    "    lines = infile.readlines()\n",
    "\n",
    "force_test_aenet = np.empty((200, 2, 3))\n",
    "k = 0\n",
    "for j, line in enumerate(lines):\n",
    "    if j % 3 != 2:\n",
    "        force_test_aenet[k, j % 3, :] = np.asarray(line.split()[4:], dtype=np.float64)\n",
    "    else:\n",
    "        k = k + 1"
   ]
  },
  {
   "cell_type": "code",
   "execution_count": null,
   "id": "c25f734b-ad1a-4955-a913-88e0b9979481",
   "metadata": {},
   "outputs": [],
   "source": [
    "fig = plt.figure(figsize=(3.5, 4.5))\n",
    "ax2, ax3 = fig.subplots(2, 1, height_ratios=[1, 1.5], sharex=False, sharey=False)\n",
    "\n",
    "font_x = {'size': 16, 'color': 'black'}\n",
    "font_y = {'size': 16, 'color': 'black'}\n",
    "font_tick = {'size': 12, 'color': 'black'}\n",
    "\n",
    "\n",
    "# The second plot\n",
    "ax2.fill_between(d_test, np.subtract(energy_test_aenet, test_data.energy), 0, color='tab:orange', alpha=0.5, edgecolor='black')\n",
    "ax2.vlines(d_train, ymin=-100, ymax=100, color='black', linestyle='--', linewidth=1)\n",
    "\n",
    "ax2.set_xlim([0.95, 2.05])\n",
    "x_labels = [round(label, 2) for label in ax2.get_xticks()]\n",
    "ax2.set_xticks(x_labels)\n",
    "ax2.set_xlim([0.95, 2.05])\n",
    "ax2.set_xticklabels(x_labels, fontdict=font_tick)\n",
    "\n",
    "ax2.set_ylabel(\"Error (eV)\", fontdict=font_y)\n",
    "ax2.set_ylim([-0.05, 0.05])\n",
    "y_labels = [round(label, 2) for label in ax2.get_yticks()]\n",
    "y_labels = [-0.04, -0.02, 0.0, 0.02, 0.04]\n",
    "ax2.set_yticks(y_labels)\n",
    "ax2.set_ylim([-0.05, 0.05])\n",
    "ax2.set_yticklabels(y_labels, fontdict=font_tick)\n",
    "\n",
    "[x.set_linewidth(1.5) for x in ax2.spines.values()]\n",
    "ax2.tick_params(bottom=True, top=True, left=True, right=True)\n",
    "ax2.tick_params(labelbottom=False, labeltop=False, labelleft=True, labelright=False)\n",
    "ax2.tick_params(direction='in', length=8, width=1.5)\n",
    "\n",
    "\n",
    "# The third plot\n",
    "ax3.plot(d_test, test_data.energy, '-', color='gray', label='Target', alpha=0.5, linewidth=10)\n",
    "ax3.plot(d_test, energy_test_aenet, '-', label='GPR-ANN', color='tab:orange', linewidth=4)\n",
    "ax3.vlines(d_train, ymin=-100, ymax=100, color='black', linestyle='--', linewidth=1)\n",
    "\n",
    "ax3.plot(d_train, train_data.energy, 'o', label='Data', color='black', markersize=8)\n",
    "\n",
    "ax3.set_xlabel('H-H distance (Ang)', fontdict=font_x)\n",
    "ax3.set_xlim(0.95, 2.05)\n",
    "x_labels = [round(label, 2) for label in ax3.get_xticks()]\n",
    "ax3.set_xticks(x_labels)\n",
    "ax3.set_xticklabels(x_labels, fontdict=font_tick)\n",
    "ax3.set_xlim(0.95, 2.05)\n",
    "\n",
    "ax3.set_ylabel('Energy (eV)', fontdict=font_y)\n",
    "ax3.set_ylim(-1.4, 2.2)\n",
    "y_labels = [round(label, 2) for label in ax3.get_yticks()]\n",
    "# y_labels = [-1.0, -0.5, 0.0, 0.5, 1.0, 1.5, 2.0]\n",
    "ax3.set_yticks(y_labels)\n",
    "ax3.set_yticklabels(y_labels, fontdict=font_tick)\n",
    "ax3.set_ylim(-1.4, 2.2)\n",
    "\n",
    "ax3.legend(loc='upper right', fontsize=12, ncol=1, frameon=True)\n",
    "[x.set_linewidth(1.5) for x in ax3.spines.values()]\n",
    "ax3.tick_params(bottom=True, top=True, left=True, right=False)\n",
    "ax3.tick_params(labelbottom=True, labeltop=False, labelleft=True, labelright=False)\n",
    "ax3.tick_params(direction='in', length=8, width=1.5)\n",
    "\n",
    "fig.tight_layout()\n",
    "plt.subplots_adjust(hspace=0.05, wspace=0.05)\n",
    "plt.show()"
   ]
  },
  {
   "cell_type": "code",
   "execution_count": null,
   "id": "1bdd91f0-fbfc-43e7-8797-00cb707980fc",
   "metadata": {},
   "outputs": [],
   "source": [
    "fig = plt.figure(figsize=(3.5, 4.5))\n",
    "ax2, ax3 = fig.subplots(2, 1, height_ratios=[1, 1.5], sharex=False, sharey=False)\n",
    "\n",
    "font_x = {'size': 16, 'color': 'black'}\n",
    "font_y = {'size': 16, 'color': 'black'}\n",
    "font_tick = {'size': 12, 'color': 'black'}\n",
    "\n",
    "\n",
    "# The second plot\n",
    "ax2.fill_between(d_test, np.subtract(force_test_aenet[:, 0, 0], test_data.force[:, 0, 0]), 0, color='tab:orange', alpha=0.5, edgecolor='black')\n",
    "ax2.vlines(d_train, ymin=-100, ymax=100, color='black', linestyle='--', linewidth=1)\n",
    "\n",
    "ax2.set_xlim([0.95, 2.05])\n",
    "x_labels = [round(label, 2) for label in ax2.get_xticks()]\n",
    "ax2.set_xticks(x_labels)\n",
    "ax2.set_xlim([0.95, 2.05])\n",
    "ax2.set_xticklabels(x_labels, fontdict=font_tick)\n",
    "\n",
    "ax2.set_ylabel(\"Error (eV/Ang)\", fontdict=font_y)\n",
    "ax2.set_ylim([-1.2, 1.2])\n",
    "y_labels = [round(label, 2) for label in ax2.get_yticks()]\n",
    "y_labels = [-1.0, -0.5, 0.0, 0.5, 1.0]\n",
    "ax2.set_yticks(y_labels)\n",
    "ax2.set_ylim([-1.2, 1.2])\n",
    "ax2.set_yticklabels(y_labels, fontdict=font_tick)\n",
    "\n",
    "[x.set_linewidth(1.5) for x in ax2.spines.values()]\n",
    "ax2.tick_params(bottom=True, top=True, left=True, right=True)\n",
    "ax2.tick_params(labelbottom=False, labeltop=False, labelleft=True, labelright=False)\n",
    "ax2.tick_params(direction='in', length=8, width=1.5)\n",
    "\n",
    "\n",
    "# The third plot\n",
    "ax3.plot(d_test, test_data.force[:, 0, 0], '-', color='gray', label='Target', alpha=0.5, linewidth=10)\n",
    "ax3.plot(d_test, force_test_aenet[:, 0, 0], '-', label='GPR-ANN', color='tab:orange', linewidth=4)\n",
    "ax3.vlines(d_train, ymin=-100, ymax=100, color='black', linestyle='--', linewidth=1)\n",
    "\n",
    "ax3.plot(d_train, train_data.force[:, 0, 0], 'o', label='Original F', color='black', markersize=8)\n",
    "\n",
    "ax3.set_xlabel('H-H distance (Ang)', fontdict=font_x)\n",
    "ax3.set_xlim(0.95, 2.05)\n",
    "x_labels = [round(label, 2) for label in ax3.get_xticks()]\n",
    "ax3.set_xticks(x_labels)\n",
    "ax3.set_xticklabels(x_labels, fontdict=font_tick)\n",
    "ax3.set_xlim(0.95, 2.05)\n",
    "\n",
    "ax3.set_ylabel('Force (eV/Ang)', fontdict=font_y)\n",
    "ax3.set_ylim(-40, 5)\n",
    "y_labels = [int(label) for label in ax3.get_yticks()]\n",
    "# y_labels = [-40, -30, -20, -10, 0]\n",
    "ax3.set_yticks(y_labels)\n",
    "ax3.set_yticklabels(y_labels, fontdict=font_tick)\n",
    "ax3.set_ylim(-40, 5)\n",
    "\n",
    "ax3.legend(loc='lower right', fontsize=12, ncol=1, frameon=True)\n",
    "[x.set_linewidth(1.5) for x in ax3.spines.values()]\n",
    "ax3.tick_params(bottom=True, top=True, left=True, right=False)\n",
    "ax3.tick_params(labelbottom=True, labeltop=False, labelleft=True, labelright=False)\n",
    "ax3.tick_params(direction='in', length=8, width=1.5)\n",
    "\n",
    "fig.tight_layout()\n",
    "plt.subplots_adjust(hspace=0.05, wspace=0.05)\n",
    "\n",
    "plt.show()"
   ]
  },
  {
   "cell_type": "markdown",
   "id": "9e03cffa-3df0-448e-9ce4-45adab2cd093",
   "metadata": {},
   "source": [
    "# 9-1. aenet generate (Original-ANN, energy only training)"
   ]
  },
  {
   "cell_type": "code",
   "execution_count": null,
   "id": "b5cce4bf-3989-4c50-8b17-72840a25babc",
   "metadata": {},
   "outputs": [],
   "source": [
    "%cd ../\n",
    "%mkdir 01_aenet_generate_original-ann 02_aenet_train_original-ann 03_aenet_predict_original-ann\n",
    "%cd ./01_aenet_generate_original-ann"
   ]
  },
  {
   "cell_type": "code",
   "execution_count": null,
   "id": "9398fe04-e5eb-4ef3-9139-2628b17b33c6",
   "metadata": {},
   "outputs": [],
   "source": [
    "! wget https://github.com/atomisticnet/aenet-gpr/raw/refs/heads/main/example/1_H2/aenet_ANN/01_generate/H.fingerprint.stp\n",
    "! wget https://github.com/atomisticnet/aenet-gpr/raw/refs/heads/main/example/1_H2/aenet_ANN/01_generate/generate.in"
   ]
  },
  {
   "cell_type": "code",
   "execution_count": null,
   "id": "de671a02-0c97-4f77-9e43-2126693a0017",
   "metadata": {},
   "outputs": [],
   "source": [
    "%ls"
   ]
  },
  {
   "cell_type": "code",
   "execution_count": null,
   "id": "4f32a16f-d7b1-4615-b0b1-d15027397909",
   "metadata": {},
   "outputs": [],
   "source": [
    "! cat H.fingerprint.stp"
   ]
  },
  {
   "cell_type": "code",
   "execution_count": null,
   "id": "64d2db60-bb6a-4c50-933c-e186c1a54629",
   "metadata": {},
   "outputs": [],
   "source": [
    "! cat generate.in"
   ]
  },
  {
   "cell_type": "code",
   "execution_count": null,
   "id": "3eefb6b1-feb4-4f88-832a-09006cf9e348",
   "metadata": {},
   "outputs": [],
   "source": [
    "!! ../../aenet/bin/generate.x-2.0.4-gfortran_serial generate.in | tee generate.out"
   ]
  },
  {
   "cell_type": "code",
   "execution_count": null,
   "id": "32390e1b-a65b-4498-9125-9dc252c1aa67",
   "metadata": {},
   "outputs": [],
   "source": [
    "%ls"
   ]
  },
  {
   "cell_type": "markdown",
   "id": "d95b9a41-95ed-4a33-a86a-952d39e97d93",
   "metadata": {},
   "source": [
    "# 9-2. aenet train (Original-ANN)"
   ]
  },
  {
   "cell_type": "code",
   "execution_count": null,
   "id": "99c0ae42-271f-4261-a4ba-04aa3c1e94fa",
   "metadata": {},
   "outputs": [],
   "source": [
    "%cd ../02_aenet_train_original-ann/"
   ]
  },
  {
   "cell_type": "code",
   "execution_count": null,
   "id": "9ecdb451-bba6-4336-b118-7d68f8ed8eaa",
   "metadata": {},
   "outputs": [],
   "source": [
    "! ln -s ../01_aenet_generate_original-ann/H2.train"
   ]
  },
  {
   "cell_type": "code",
   "execution_count": null,
   "id": "bcda91d0-ae13-4e00-9f1b-85d99f1b5226",
   "metadata": {},
   "outputs": [],
   "source": [
    "! wget https://github.com/atomisticnet/aenet-gpr/raw/refs/heads/main/example/1_H2/aenet_ANN/02_train/train.in"
   ]
  },
  {
   "cell_type": "code",
   "execution_count": null,
   "id": "c8de79cc-d681-4866-aca7-985ddba5f840",
   "metadata": {},
   "outputs": [],
   "source": [
    "! cat train.in"
   ]
  },
  {
   "cell_type": "code",
   "execution_count": null,
   "id": "3f8757d6-d227-4a46-958b-e640c1d8dddf",
   "metadata": {},
   "outputs": [],
   "source": [
    "%ls"
   ]
  },
  {
   "cell_type": "code",
   "execution_count": null,
   "id": "647e50a2-b752-4d1d-bd9d-2aa62a8597dd",
   "metadata": {},
   "outputs": [],
   "source": [
    "! ../../aenet/bin/train.x-2.0.4-gfortran_serial train.in | tee train.out\n",
    "!! tar cfz nn.tar.gz *.nn-* && rm -f *.nn-*"
   ]
  },
  {
   "cell_type": "code",
   "execution_count": null,
   "id": "aad7180f-c0aa-4144-be8e-a2fda07e3d43",
   "metadata": {},
   "outputs": [],
   "source": [
    "%ls"
   ]
  },
  {
   "cell_type": "markdown",
   "id": "a3a7330a-f391-40a5-b2af-ed00bad05664",
   "metadata": {},
   "source": [
    "# 9-3. aenet predict (Original-ANN)"
   ]
  },
  {
   "cell_type": "markdown",
   "id": "b33f49a0-7b4d-4b38-85fb-2cb7c77422e1",
   "metadata": {},
   "source": [
    "Using the trained aenet potential, predict the energy and force of test structure"
   ]
  },
  {
   "cell_type": "code",
   "execution_count": null,
   "id": "4c1f955d-c273-41cc-8981-94fd60713335",
   "metadata": {},
   "outputs": [],
   "source": [
    "%cd ../03_aenet_predict_original-ann"
   ]
  },
  {
   "cell_type": "code",
   "execution_count": null,
   "id": "a19bcb1d-b1c6-4813-acb2-5958f367b5a6",
   "metadata": {},
   "outputs": [],
   "source": [
    "! ln -s ../02_aenet_train_original-ann/H.5t-5t.nn"
   ]
  },
  {
   "cell_type": "code",
   "execution_count": null,
   "id": "8bdc4960-7525-46b6-a6cc-9c493863df89",
   "metadata": {},
   "outputs": [],
   "source": [
    "! wget https://github.com/atomisticnet/aenet-gpr/raw/refs/heads/main/example/1_H2/aenet_ANN/03_predict/predict.in"
   ]
  },
  {
   "cell_type": "code",
   "execution_count": null,
   "id": "a2a38249-0180-45c6-9a59-d2ec30c2771c",
   "metadata": {},
   "outputs": [],
   "source": [
    "! head -n 15 predict.in"
   ]
  },
  {
   "cell_type": "code",
   "execution_count": null,
   "id": "4314e681-aa84-4833-a5cb-eefed1cf8ffd",
   "metadata": {},
   "outputs": [],
   "source": [
    "!! ../../aenet/bin/predict.x-2.0.4-gfortran_serial predict.in | tee predict.out"
   ]
  },
  {
   "cell_type": "code",
   "execution_count": null,
   "id": "bb9fd3ac-ef31-4fdb-9130-78884bdf702c",
   "metadata": {},
   "outputs": [],
   "source": [
    "%ls"
   ]
  },
  {
   "cell_type": "code",
   "execution_count": null,
   "id": "ce621401-98e8-4ac5-a5a7-0856d00b33f1",
   "metadata": {},
   "outputs": [],
   "source": [
    "! grep \"Total energy\" ./predict.out > ./energy.dat\n",
    "! grep -A 2 \" --------------------------------------------------------------------------------------\" ./predict.out | grep -v \" --------------------------------------------------------------------------------------\" > ./forces.dat"
   ]
  },
  {
   "cell_type": "code",
   "execution_count": null,
   "id": "e411defe-fd3a-42b4-a75a-fb263be184c2",
   "metadata": {},
   "outputs": [],
   "source": [
    "! head -n 15 energy.dat"
   ]
  },
  {
   "cell_type": "code",
   "execution_count": null,
   "id": "04c6d07b-809f-4bf6-8c33-322d77871837",
   "metadata": {},
   "outputs": [],
   "source": [
    "with open(\"energy.dat\", 'r') as infile:\n",
    "    lines = infile.readlines()\n",
    "\n",
    "energy_test_aenet = []\n",
    "for line in lines:\n",
    "    energy_test_aenet.append(line.split()[3])\n",
    "energy_test_aenet = np.asarray(energy_test_aenet, dtype=np.float64)"
   ]
  },
  {
   "cell_type": "code",
   "execution_count": null,
   "id": "3e7475a2-5e4c-46c7-9ca5-b35d59e74809",
   "metadata": {},
   "outputs": [],
   "source": [
    "! head -n 15 forces.dat"
   ]
  },
  {
   "cell_type": "code",
   "execution_count": null,
   "id": "05b6ae4c-1722-43ed-b3ac-300323b9799a",
   "metadata": {},
   "outputs": [],
   "source": [
    "with open(\"forces.dat\", 'r') as infile:\n",
    "    lines = infile.readlines()\n",
    "\n",
    "force_test_aenet = np.empty((200, 2, 3))\n",
    "k = 0\n",
    "for j, line in enumerate(lines):\n",
    "    if j % 3 != 2:\n",
    "        force_test_aenet[k, j % 3, :] = np.asarray(line.split()[4:], dtype=np.float64)\n",
    "    else:\n",
    "        k = k + 1"
   ]
  },
  {
   "cell_type": "code",
   "execution_count": null,
   "id": "9c991aaa-68d2-4642-8c6a-7aef730b2a35",
   "metadata": {},
   "outputs": [],
   "source": [
    "fig = plt.figure(figsize=(3.5, 4.5))\n",
    "ax2, ax3 = fig.subplots(2, 1, height_ratios=[1, 1.5], sharex=False, sharey=False)\n",
    "\n",
    "font_x = {'size': 16, 'color': 'black'}\n",
    "font_y = {'size': 16, 'color': 'black'}\n",
    "font_tick = {'size': 12, 'color': 'black'}\n",
    "\n",
    "\n",
    "# The second plot\n",
    "ax2.fill_between(d_test, np.subtract(energy_test_aenet, test_data.energy), 0, color='tab:purple', alpha=0.5, edgecolor='black')\n",
    "ax2.vlines(d_train, ymin=-100, ymax=100, color='black', linestyle='--', linewidth=1)\n",
    "\n",
    "ax2.set_xlim([0.95, 2.05])\n",
    "x_labels = [round(label, 2) for label in ax2.get_xticks()]\n",
    "ax2.set_xticks(x_labels)\n",
    "ax2.set_xlim([0.95, 2.05])\n",
    "ax2.set_xticklabels(x_labels, fontdict=font_tick)\n",
    "\n",
    "ax2.set_ylabel(\"Error (eV)\", fontdict=font_y)\n",
    "ax2.set_ylim([-0.05, 0.05])\n",
    "y_labels = [round(label, 2) for label in ax2.get_yticks()]\n",
    "y_labels = [-0.04, -0.02, 0.0, 0.02, 0.04]\n",
    "ax2.set_yticks(y_labels)\n",
    "ax2.set_ylim([-0.05, 0.05])\n",
    "ax2.set_yticklabels(y_labels, fontdict=font_tick)\n",
    "\n",
    "[x.set_linewidth(1.5) for x in ax2.spines.values()]\n",
    "ax2.tick_params(bottom=True, top=True, left=True, right=True)\n",
    "ax2.tick_params(labelbottom=False, labeltop=False, labelleft=True, labelright=False)\n",
    "ax2.tick_params(direction='in', length=8, width=1.5)\n",
    "\n",
    "# The third plot\n",
    "ax3.plot(d_test, test_data.energy, '-', color='gray', label='Target', alpha=0.5, linewidth=10)\n",
    "ax3.plot(d_test, energy_test_aenet, '-', label='Original-ANN', color='tab:purple', linewidth=4)\n",
    "ax3.vlines(d_train, ymin=-100, ymax=100, color='black', linestyle='--', linewidth=1)\n",
    "\n",
    "ax3.plot(d_train, train_data.energy, 'o', label='Data', color='black', markersize=8)\n",
    "\n",
    "ax3.set_xlabel('H-H distance (Ang)', fontdict=font_x)\n",
    "ax3.set_xlim(0.95, 2.05)\n",
    "x_labels = [round(label, 2) for label in ax3.get_xticks()]\n",
    "ax3.set_xticks(x_labels)\n",
    "ax3.set_xticklabels(x_labels, fontdict=font_tick)\n",
    "ax3.set_xlim(0.95, 2.05)\n",
    "\n",
    "ax3.set_ylabel('Energy (eV)', fontdict=font_y)\n",
    "ax3.set_ylim(-1.4, 2.2)\n",
    "y_labels = [round(label, 2) for label in ax3.get_yticks()]\n",
    "# y_labels = [-1.0, -0.5, 0.0, 0.5, 1.0, 1.5, 2.0]\n",
    "ax3.set_yticks(y_labels)\n",
    "ax3.set_yticklabels(y_labels, fontdict=font_tick)\n",
    "ax3.set_ylim(-1.4, 2.2)\n",
    "\n",
    "ax3.legend(loc='upper right', fontsize=12, ncol=1, frameon=True)\n",
    "[x.set_linewidth(1.5) for x in ax3.spines.values()]\n",
    "ax3.tick_params(bottom=True, top=True, left=True, right=False)\n",
    "ax3.tick_params(labelbottom=True, labeltop=False, labelleft=True, labelright=False)\n",
    "ax3.tick_params(direction='in', length=8, width=1.5)\n",
    "\n",
    "fig.tight_layout()\n",
    "plt.subplots_adjust(hspace=0.05, wspace=0.05)\n",
    "plt.show()"
   ]
  },
  {
   "cell_type": "code",
   "execution_count": null,
   "id": "1abe75cc-5347-45c3-8b4b-3178abb39213",
   "metadata": {},
   "outputs": [],
   "source": [
    "fig = plt.figure(figsize=(3.5, 4.5))\n",
    "ax2, ax3 = fig.subplots(2, 1, height_ratios=[1, 1.5], sharex=False, sharey=False)\n",
    "\n",
    "font_x = {'size': 16, 'color': 'black'}\n",
    "font_y = {'size': 16, 'color': 'black'}\n",
    "font_tick = {'size': 12, 'color': 'black'}\n",
    "\n",
    "\n",
    "# The second plot\n",
    "ax2.fill_between(d_test, np.subtract(force_test_aenet[:, 0, 0], test_data.force[:, 0, 0]), 0, color='tab:purple', alpha=0.5, edgecolor='black')\n",
    "ax2.vlines(d_train, ymin=-100, ymax=100, color='black', linestyle='--', linewidth=1)\n",
    "\n",
    "ax2.set_xlim([0.95, 2.05])\n",
    "x_labels = [round(label, 2) for label in ax2.get_xticks()]\n",
    "ax2.set_xticks(x_labels)\n",
    "ax2.set_xlim([0.95, 2.05])\n",
    "ax2.set_xticklabels(x_labels, fontdict=font_tick)\n",
    "\n",
    "ax2.set_ylabel(\"Error (eV/Ang)\", fontdict=font_y)\n",
    "ax2.set_ylim([-1.2, 1.2])\n",
    "y_labels = [round(label, 2) for label in ax2.get_yticks()]\n",
    "y_labels = [-1.0, -0.5, 0.0, 0.5, 1.0]\n",
    "ax2.set_yticks(y_labels)\n",
    "ax2.set_ylim([-1.2, 1.2])\n",
    "ax2.set_yticklabels(y_labels, fontdict=font_tick)\n",
    "\n",
    "[x.set_linewidth(1.5) for x in ax2.spines.values()]\n",
    "ax2.tick_params(bottom=True, top=True, left=True, right=True)\n",
    "ax2.tick_params(labelbottom=False, labeltop=False, labelleft=True, labelright=False)\n",
    "ax2.tick_params(direction='in', length=8, width=1.5)\n",
    "\n",
    "# The third plot\n",
    "ax3.plot(d_test, test_data.force[:, 0, 0], '-', color='gray', label='Target', alpha=0.5, linewidth=10)\n",
    "ax3.plot(d_test, force_test_aenet[:, 0, 0], '-', label='Original-ANN', color='tab:purple', linewidth=4)\n",
    "ax3.vlines(d_train, ymin=-100, ymax=100, color='black', linestyle='--', linewidth=1)\n",
    "\n",
    "ax3.plot(d_train, train_data.force[:, 0, 0], 'o', label='Original F', color='black', markersize=8)\n",
    "\n",
    "ax3.set_xlabel('H-H distance (Ang)', fontdict=font_x)\n",
    "ax3.set_xlim(0.95, 2.05)\n",
    "x_labels = [round(label, 2) for label in ax3.get_xticks()]\n",
    "ax3.set_xticks(x_labels)\n",
    "ax3.set_xticklabels(x_labels, fontdict=font_tick)\n",
    "ax3.set_xlim(0.95, 2.05)\n",
    "\n",
    "ax3.set_ylabel('Force (eV/Ang)', fontdict=font_y)\n",
    "ax3.set_ylim(-40, 5)\n",
    "y_labels = [int(label) for label in ax3.get_yticks()]\n",
    "# y_labels = [-40, -30, -20, -10, 0]\n",
    "ax3.set_yticks(y_labels)\n",
    "ax3.set_yticklabels(y_labels, fontdict=font_tick)\n",
    "ax3.set_ylim(-40, 5)\n",
    "\n",
    "ax3.legend(loc='lower right', fontsize=12, ncol=1, frameon=True)\n",
    "[x.set_linewidth(1.5) for x in ax3.spines.values()]\n",
    "ax3.tick_params(bottom=True, top=True, left=True, right=False)\n",
    "ax3.tick_params(labelbottom=True, labeltop=False, labelleft=True, labelright=False)\n",
    "ax3.tick_params(direction='in', length=8, width=1.5)\n",
    "\n",
    "fig.tight_layout()\n",
    "plt.subplots_adjust(hspace=0.05, wspace=0.05)\n",
    "\n",
    "plt.show()"
   ]
  },
  {
   "cell_type": "code",
   "execution_count": null,
   "id": "71976c9d-37aa-4472-9243-f776a14d0a7a",
   "metadata": {},
   "outputs": [],
   "source": []
  }
 ],
 "metadata": {
  "kernelspec": {
   "display_name": "Python 3",
   "language": "python",
   "name": "python3"
  },
  "language_info": {
   "codemirror_mode": {
    "name": "ipython",
    "version": 3
   },
   "file_extension": ".py",
   "mimetype": "text/x-python",
   "name": "python",
   "nbconvert_exporter": "python",
   "pygments_lexer": "ipython3",
   "version": "3.12.7"
  }
 },
 "nbformat": 4,
 "nbformat_minor": 5
}
