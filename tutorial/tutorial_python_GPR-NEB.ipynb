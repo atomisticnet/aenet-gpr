{
 "cells": [
  {
   "cell_type": "markdown",
   "id": "5dccf2b3-cf12-43c8-acff-96b1d4764c59",
   "metadata": {},
   "source": [
    "# GPR-Accelerated NEB Tutorial\n",
    "\n",
    "This tutorial demonstrates how to use `aenet-gpr` for **GPR-accelerated Nudged Elastic Band (NEB) calculations**, which accelerates the demanding NEB calculations for transition state search.\n",
    "\n",
    "GPR-NEB references:\n",
    "- [J. A. Garrido Torres, P. C. Jennings, M. H. Hansen, J. R. Boes, and T. Bligaard, “Low-Scaling Algorithm for Nudged Elastic Band Calculations Using a Surrogate Machine Learning Model”, *Phys. Rev. Lett.* 122, 156001 (2019).](https://doi.org/10.1103/PhysRevLett.122.156001)\n",
    "- [O. Koistinen, F. B. Dagbjartsdóttir, V. Ásgeirsson, A. Vehtari, and H. Jónsson, \"Nudged elastic band calculations accelerated with Gaussian process regression\", *J. Chem. Phys.* 147, 152720 (2017)](https://doi.org/10.1063/1.4986787)\n",
    "\n",
    "In this example, we use a simple **EMT potential** as the reference calculator. However, the same framework is fully compatible with any [ASE-compatible DFT calculators](https://wiki.fysik.dtu.dk/ase/ase/calculators/calculators.html).\n",
    "\n",
    "Replacing the reference with a DFT calculator allows GPR-NEB to reproduce **transition states** on a DFT-level potential energy surface (PES), with **significantly fewer expensive DFT evaluations** than standard NEB."
   ]
  },
  {
   "cell_type": "markdown",
   "id": "114e60a4-3ea3-46cc-a098-e84decd429c9",
   "metadata": {},
   "source": [
    "# ===== Preparation ====="
   ]
  },
  {
   "attachments": {},
   "cell_type": "markdown",
   "id": "919cb78c-0660-4292-a684-b580259765e8",
   "metadata": {},
   "source": [
    "## Reference calculator: Effective Medium Theory (EMT)"
   ]
  },
  {
   "cell_type": "code",
   "execution_count": 1,
   "id": "359a5709-4e36-4e73-81c0-329a2a6b9b7d",
   "metadata": {},
   "outputs": [
    {
     "name": "stdout",
     "output_type": "stream",
     "text": [
      "successfully imported ase\n"
     ]
    }
   ],
   "source": [
    "try:\n",
    "    import ase.io\n",
    "    print(\"successfully imported ase\")\n",
    "except ImportError:\n",
    "    !! pip install ase --user --upgrade\n",
    "    print(\"completed installing ASE\")"
   ]
  },
  {
   "cell_type": "code",
   "execution_count": 2,
   "id": "a78de6ac-892a-43f1-9206-4075019449cd",
   "metadata": {},
   "outputs": [],
   "source": [
    "from ase.build import add_adsorbate, fcc100\n",
    "from ase.calculators.emt import EMT\n",
    "from ase.constraints import FixAtoms\n",
    "from ase.optimize import QuasiNewton, BFGS, MDMin, FIRE\n",
    "\n",
    "from IPython.display import Image\n",
    "import copy\n",
    "import numpy as np"
   ]
  },
  {
   "cell_type": "code",
   "execution_count": 3,
   "id": "7d54a036-d68c-4a8f-965a-2671b6eafca4",
   "metadata": {},
   "outputs": [],
   "source": [
    "# 2x2-Al(001) surface with 3 layers and an\n",
    "# Au atom adsorbed in a hollow site:\n",
    "slab = fcc100('Al', size=(2, 2, 3))\n",
    "add_adsorbate(slab, 'Au', 1.7, 'hollow')\n",
    "slab.center(axis=2, vacuum=4.0)"
   ]
  },
  {
   "cell_type": "code",
   "execution_count": 4,
   "id": "83c30b52-62d9-44a5-a3f9-8e7666c1206e",
   "metadata": {},
   "outputs": [],
   "source": [
    "# Fix second and third layers:\n",
    "mask = [atom.tag > 1 for atom in slab]\n",
    "# print(mask)\n",
    "slab.set_constraint(FixAtoms(mask=mask))"
   ]
  },
  {
   "cell_type": "code",
   "execution_count": 5,
   "id": "113823b4-9f31-4fcd-9b0c-12c6a8c6305c",
   "metadata": {},
   "outputs": [],
   "source": [
    "# Use EMT potential:\n",
    "slab.calc = EMT()"
   ]
  },
  {
   "cell_type": "code",
   "execution_count": 6,
   "id": "4db677af-e64a-490b-9972-12deeadf6c49",
   "metadata": {},
   "outputs": [
    {
     "name": "stdout",
     "output_type": "stream",
     "text": [
      "      Step     Time          Energy          fmax\n",
      "BFGS:    0 15:51:10        3.323870        0.246170\n",
      "BFGS:    1 15:51:10        3.321365        0.203512\n",
      "BFGS:    2 15:51:10        3.314740        0.020557\n"
     ]
    },
    {
     "data": {
      "text/plain": [
       "True"
      ]
     },
     "execution_count": 6,
     "metadata": {},
     "output_type": "execute_result"
    }
   ],
   "source": [
    "# Initial state:\n",
    "qn = BFGS(slab, trajectory='initial.traj')\n",
    "qn.run(fmax=0.05)"
   ]
  },
  {
   "cell_type": "code",
   "execution_count": 7,
   "id": "2b53499f-cc5f-4711-8498-83dac2b9458f",
   "metadata": {},
   "outputs": [
    {
     "data": {
      "image/png": "[encoded data removed]",
      "text/plain": [
       "<IPython.core.display.Image object>"
      ]
     },
     "execution_count": 7,
     "metadata": {},
     "output_type": "execute_result"
    }
   ],
   "source": [
    "import ase\n",
    "\n",
    "\n",
    "atoms = ase.io.read('initial.traj')\n",
    "ase.io.write('initial.png', atoms)\n",
    "Image(\"initial.png\")"
   ]
  },
  {
   "cell_type": "code",
   "execution_count": 8,
   "id": "7c8c3b5c-6c05-48ab-9183-423fa74875f4",
   "metadata": {},
   "outputs": [
    {
     "name": "stdout",
     "output_type": "stream",
     "text": [
      "      Step     Time          Energy          fmax\n",
      "BFGS:    0 15:51:11        3.320046        0.123468\n",
      "BFGS:    1 15:51:11        3.319145        0.111073\n",
      "BFGS:    2 15:51:11        3.315607        0.074162\n",
      "BFGS:    3 15:51:11        3.315469        0.075507\n",
      "BFGS:    4 15:51:11        3.314645        0.052638\n",
      "BFGS:    5 15:51:11        3.314491        0.027698\n"
     ]
    },
    {
     "data": {
      "text/plain": [
       "True"
      ]
     },
     "execution_count": 8,
     "metadata": {},
     "output_type": "execute_result"
    }
   ],
   "source": [
    "# Final state:\n",
    "slab[-1].x += slab.get_cell()[0, 0] / 2\n",
    "qn = BFGS(slab, trajectory='final.traj')\n",
    "qn.run(fmax=0.05)"
   ]
  },
  {
   "cell_type": "code",
   "execution_count": 9,
   "id": "be61ddea-efba-4948-b58e-7b88b57a13db",
   "metadata": {},
   "outputs": [
    {
     "data": {
      "image/png": "[encoded data removed]",
      "text/plain": [
       "<IPython.core.display.Image object>"
      ]
     },
     "execution_count": 9,
     "metadata": {},
     "output_type": "execute_result"
    }
   ],
   "source": [
    "atoms = ase.io.read('final.traj')\n",
    "ase.io.write('final.png', atoms)\n",
    "Image(\"final.png\")"
   ]
  },
  {
   "cell_type": "markdown",
   "id": "111e2c41-8745-4ae1-baa1-d406d1dc3e3e",
   "metadata": {},
   "source": [
    "# ===== Conventional NEB ====="
   ]
  },
  {
   "cell_type": "code",
   "execution_count": 10,
   "id": "e1efa647-058f-430a-a299-c2daea998f58",
   "metadata": {},
   "outputs": [],
   "source": [
    "from ase.calculators.emt import EMT\n",
    "from ase.constraints import FixAtoms\n",
    "from ase.io import read\n",
    "from ase.mep import NEB"
   ]
  },
  {
   "cell_type": "code",
   "execution_count": 11,
   "id": "69dcc8b5-c986-44e3-bf0b-8215dd08ed8d",
   "metadata": {},
   "outputs": [],
   "source": [
    "initial = read('initial.traj')\n",
    "final = read('final.traj')"
   ]
  },
  {
   "cell_type": "code",
   "execution_count": 12,
   "id": "9ee85c1e-4d62-4171-a54b-6aef1bf5ecbb",
   "metadata": {},
   "outputs": [],
   "source": [
    "constraint = FixAtoms(mask=[atom.tag > 1 for atom in initial])"
   ]
  },
  {
   "cell_type": "code",
   "execution_count": 13,
   "id": "8619e92a-dbc9-4387-b19d-c81ddc332cdd",
   "metadata": {},
   "outputs": [],
   "source": [
    "images = [initial]\n",
    "for i in range(5):\n",
    "    image = initial.copy()\n",
    "    image.calc = EMT()\n",
    "    image.set_constraint(constraint)\n",
    "    images.append(image)\n",
    "\n",
    "images.append(final)"
   ]
  },
  {
   "cell_type": "code",
   "execution_count": 14,
   "id": "31b975aa-9200-44d6-bc13-ebbe9a91c9d4",
   "metadata": {},
   "outputs": [
    {
     "name": "stdout",
     "output_type": "stream",
     "text": [
      "      Step     Time          Energy          fmax\n",
      "FIRE:    0 15:51:16        4.254555        3.670245\n",
      "FIRE:    1 15:51:16        4.024620        2.636978\n",
      "FIRE:    2 15:51:16        3.790869        1.233507\n",
      "FIRE:    3 15:51:16        3.712369        0.284014\n",
      "FIRE:    4 15:51:16        3.765949        0.738334\n",
      "FIRE:    5 15:51:16        3.762147        0.718966\n",
      "FIRE:    6 15:51:16        3.754943        0.680504\n",
      "FIRE:    7 15:51:16        3.745105        0.623515\n",
      "FIRE:    8 15:51:16        3.733711        0.548896\n",
      "FIRE:    9 15:51:16        3.722050        0.457986\n",
      "FIRE:   10 15:51:16        3.711497        0.352824\n",
      "FIRE:   11 15:51:16        3.703339        0.236916\n",
      "FIRE:   12 15:51:16        3.698253        0.166643\n",
      "FIRE:   13 15:51:16        3.697729        0.195898\n",
      "FIRE:   14 15:51:17        3.701253        0.350820\n",
      "FIRE:   15 15:51:17        3.701012        0.345572\n",
      "FIRE:   16 15:51:17        3.700548        0.335197\n",
      "FIRE:   17 15:51:17        3.699887        0.319936\n",
      "FIRE:   18 15:51:17        3.699072        0.300150\n",
      "FIRE:   19 15:51:17        3.698153        0.276307\n",
      "FIRE:   20 15:51:17        3.697186        0.248980\n",
      "FIRE:   21 15:51:17        3.696225        0.218833\n",
      "FIRE:   22 15:51:17        3.695234        0.183105\n",
      "FIRE:   23 15:51:17        3.694292        0.141940\n",
      "FIRE:   24 15:51:17        3.693498        0.107559\n",
      "FIRE:   25 15:51:17        3.692942        0.102577\n",
      "FIRE:   26 15:51:17        3.692664        0.096505\n",
      "FIRE:   27 15:51:17        3.692599        0.090527\n",
      "FIRE:   28 15:51:18        3.692564        0.111111\n",
      "FIRE:   29 15:51:18        3.692324        0.119568\n",
      "FIRE:   30 15:51:18        3.691701        0.112559\n",
      "FIRE:   31 15:51:18        3.690718        0.087880\n",
      "FIRE:   32 15:51:18        3.689710        0.046336\n"
     ]
    },
    {
     "data": {
      "text/plain": [
       "True"
      ]
     },
     "execution_count": 14,
     "metadata": {},
     "output_type": "execute_result"
    }
   ],
   "source": [
    "neb = NEB(images)\n",
    "neb.interpolate()\n",
    "qn = FIRE(neb, trajectory='neb.traj')\n",
    "qn.run(fmax=0.05)"
   ]
  },
  {
   "cell_type": "markdown",
   "id": "7026aee5-1a9a-4795-9e65-246924dc4841",
   "metadata": {},
   "source": [
    "# Total reference calculations = NEB steps $\\times$ number of moving images = 33 $\\times$ 5 = 165"
   ]
  },
  {
   "cell_type": "code",
   "execution_count": 15,
   "id": "390f8644-8567-4b48-a645-dcdd8dcaadc8",
   "metadata": {},
   "outputs": [
    {
     "data": {
      "image/png": "[encoded data removed]",
      "text/plain": [
       "<Figure size 550x400 with 1 Axes>"
      ]
     },
     "metadata": {},
     "output_type": "display_data"
    }
   ],
   "source": [
    "import matplotlib.pyplot as plt\n",
    "\n",
    "from ase.io import read\n",
    "from ase.mep import NEBTools\n",
    "\n",
    "images = read('neb.traj@-7:')\n",
    "\n",
    "nebtools = NEBTools(images)\n",
    "\n",
    "# Create a figure with custom parameters.\n",
    "fig = plt.figure(figsize=(5.5, 4.0))\n",
    "ax = fig.add_axes((0.15, 0.15, 0.8, 0.75))\n",
    "nebtools.plot_band(ax)\n",
    "fig.savefig('diffusion-barrier.png')"
   ]
  },
  {
   "cell_type": "markdown",
   "id": "f8eda25e-36a6-4ff8-9e1b-7242add8e80e",
   "metadata": {},
   "source": [
    "# ===== aenet-GPR accelerated NEB ====="
   ]
  },
  {
   "cell_type": "markdown",
   "id": "755f750d-c2d0-4e9d-903f-8cf41145fa76",
   "metadata": {},
   "source": [
    "### Reference calculator: Effective Medium Theory (EMT)\n",
    "### Surrogate calculator: aenet-gpr (GPR)"
   ]
  },
  {
   "cell_type": "code",
   "execution_count": 16,
   "id": "83c09a3a-57c1-49fd-9ab3-6ac10171c8aa",
   "metadata": {},
   "outputs": [
    {
     "name": "stdout",
     "output_type": "stream",
     "text": [
      "successfully imported torch\n",
      "2.6.0+cu124\n"
     ]
    }
   ],
   "source": [
    "try:\n",
    "    import torch\n",
    "    print(\"successfully imported torch\")\n",
    "    print(torch.__version__)\n",
    "except ImportError:\n",
    "    !! pip install torch torchvision torchaudio --user --index-url https://download.pytorch.org/whl/cpu\n",
    "    print(\"completed installing torch\")"
   ]
  },
  {
   "cell_type": "code",
   "execution_count": 17,
   "id": "b4c3accc-eb4c-4028-a2d6-3c3d524a9d03",
   "metadata": {},
   "outputs": [
    {
     "name": "stdout",
     "output_type": "stream",
     "text": [
      "completed installing aenet-gpr\n",
      "Name: aenet-gpr\n",
      "Version: 1.8.0\n",
      "Summary: Atomistic simulation tools based on Gaussian Processes Regression\n",
      "Home-page: https://github.com/atomisticnet/aenet-gpr\n",
      "Author: In Won Yeu\n",
      "Author-email: iy2185@columbia.edu\n",
      "License: MPL-2.0\n",
      "Location: /data/home/iy2185/.local/lib/python3.12/site-packages\n",
      "Requires: ase, dscribe\n",
      "Required-by: \n"
     ]
    }
   ],
   "source": [
    "!! pip install aenet-gpr --user --upgrade\n",
    "print(\"completed installing aenet-gpr\")\n",
    "\n",
    "! pip show aenet-gpr"
   ]
  },
  {
   "cell_type": "code",
   "execution_count": 18,
   "id": "e3f29ed5-bd6a-45d2-9593-c8b4a254a162",
   "metadata": {},
   "outputs": [],
   "source": [
    "from aenet_gpr.tool.aidneb import AIDNEB\n",
    "from aenet_gpr.inout.input_parameter import InputParameters"
   ]
  },
  {
   "cell_type": "code",
   "execution_count": 28,
   "id": "f97a82ef-89ca-48aa-9d51-50b25d5c12db",
   "metadata": {},
   "outputs": [],
   "source": [
    "neb_F_max = 0.05  # cretirian of the force for the convergence.\n",
    "neb_interpol = \"idpp\"  # \"linear\", \"idpp\", path to trajectory file\n",
    "neb_n_images = 7  # total images including initial and final\n",
    "use_mic = False"
   ]
  },
  {
   "cell_type": "code",
   "execution_count": 29,
   "id": "08b338a7-4ea6-4316-9635-cb33d2ee17d8",
   "metadata": {},
   "outputs": [],
   "source": [
    "initial = read('initial.traj')\n",
    "final = read('final.traj')"
   ]
  },
  {
   "cell_type": "code",
   "execution_count": 30,
   "id": "6d80dccf-ad22-4098-98b8-a45ce93621aa",
   "metadata": {},
   "outputs": [],
   "source": [
    "calc = EMT()"
   ]
  },
  {
   "cell_type": "code",
   "execution_count": 36,
   "id": "cba11dec-0bdc-4532-a40b-74a15b7d9b11",
   "metadata": {},
   "outputs": [
    {
     "name": "stdout",
     "output_type": "stream",
     "text": [
      "d_start_end:  2.864235082465442\n",
      "spring_constant:  0.1\n"
     ]
    }
   ],
   "source": [
    "input_param = InputParameters()\n",
    "\n",
    "neb = AIDNEB(start=initial,\n",
    "             end=final,\n",
    "             interpolation=neb_interpol,\n",
    "             n_images=neb_n_images,\n",
    "             mic=use_mic,\n",
    "             calculator=copy.deepcopy(calc),\n",
    "             use_previous_observations=True,\n",
    "             input_param=input_param)"
   ]
  },
  {
   "cell_type": "code",
   "execution_count": 37,
   "id": "2ae31a18-bf55-4083-97c7-5ad04df00f8f",
   "metadata": {},
   "outputs": [
    {
     "name": "stdout",
     "output_type": "stream",
     "text": [
      "Training data size:  3\n",
      "Descriptor:  cartesian coordinates\n",
      "GPR model hyperparameters:  {'kerneltype': 'sqexp', 'scale': tensor(0.4000, dtype=torch.float64), 'weight': tensor(0.1543, dtype=torch.float64), 'noise': tensor(1.0000e-06, dtype=torch.float64), 'noisefactor': tensor(0.5000, dtype=torch.float64), 'prior': tensor(3.5489, dtype=torch.float64)}\n",
      "      Step     Time          Energy          fmax\n",
      "FIRE:    0 16:02:59        3.985101        2.657923\n",
      "FIRE:    1 16:03:00        3.975044        2.666849\n",
      "FIRE:    2 16:03:02        3.956470        2.670833\n",
      "FIRE:    3 16:03:03        3.927898        2.642313\n",
      "FIRE:    4 16:03:04        3.888739        2.542422\n",
      "FIRE:    5 16:03:05        3.838695        2.329186\n",
      "FIRE:    6 16:03:07        3.778206        1.996308\n",
      "FIRE:    7 16:03:08        3.709055        1.547656\n",
      "FIRE:    8 16:03:09        3.626966        1.154966\n",
      "FIRE:    9 16:03:10        3.603133        0.877951\n",
      "FIRE:   10 16:03:12        3.598571        0.478328\n",
      "FIRE:   11 16:03:13        3.591633        0.680187\n",
      "FIRE:   12 16:03:14        3.591471        0.675053\n",
      "FIRE:   13 16:03:15        3.591147        0.664690\n",
      "FIRE:   14 16:03:16        3.590664        0.648911\n",
      "FIRE:   15 16:03:18        3.590023        0.627445\n",
      "FIRE:   16 16:03:19        3.589225        0.599955\n",
      "FIRE:   17 16:03:20        3.588273        0.566065\n",
      "FIRE:   18 16:03:22        3.587167        0.525386\n",
      "FIRE:   19 16:03:23        3.585768        0.472077\n",
      "FIRE:   20 16:03:24        3.584009        0.402671\n",
      "FIRE:   21 16:03:25        3.581810        0.313211\n",
      "FIRE:   22 16:03:26        3.579063        0.229290\n",
      "FIRE:   23 16:03:28        3.575624        0.220780\n",
      "FIRE:   24 16:03:29        3.571325        0.209515\n",
      "FIRE:   25 16:03:30        3.566264        0.247346\n",
      "FIRE:   26 16:03:31        3.566176        0.243770\n",
      "FIRE:   27 16:03:33        3.566000        0.236683\n",
      "FIRE:   28 16:03:34        3.565736        0.226222\n",
      "FIRE:   29 16:03:35        3.565387        0.212592\n",
      "FIRE:   30 16:03:36        3.564951        0.196069\n",
      "FIRE:   31 16:03:38        3.564432        0.189785\n",
      "FIRE:   32 16:03:39        3.563828        0.187939\n",
      "FIRE:   33 16:03:40        3.563064        0.185577\n",
      "FIRE:   34 16:03:41        3.562107        0.182573\n",
      "FIRE:   35 16:03:43        3.560919        0.178774\n",
      "FIRE:   36 16:03:44        3.559459        0.173999\n",
      "FIRE:   37 16:03:45        3.557692        0.168050\n",
      "FIRE:   38 16:03:47        3.555594        0.160739\n",
      "FIRE:   39 16:03:48        3.553168        0.151911\n",
      "FIRE:   40 16:03:49        3.550442        0.141468\n",
      "FIRE:   41 16:03:50        3.547471        0.129366\n",
      "FIRE:   42 16:03:52        3.544330        0.115612\n",
      "FIRE:   43 16:03:53        3.541120        0.100274\n",
      "FIRE:   44 16:03:54        3.537961        0.083493\n",
      "FIRE:   45 16:03:55        3.535006        0.079236\n",
      "FIRE:   46 16:03:57        3.532464        0.075797\n",
      "FIRE:   47 16:03:58        3.530550        0.080449\n",
      "FIRE:   48 16:03:59        3.529376        0.049152\n",
      "--------------------------------------------------------\n",
      "Step: 1\n",
      "Time: 07/22/2025, 16:03:59\n",
      "Predicted barrier (-->): 0.21463672325410155\n",
      "Predicted barrier (<--): 0.21488550942301998\n",
      "Max. uncertainty: 0.9809141356157408\n",
      "Number of images: 7\n",
      "fmax: 2.831104011085647\n",
      "--------------------------------------------------------\n",
      "\n",
      "Training data size:  4\n",
      "Descriptor:  cartesian coordinates\n",
      "GPR model hyperparameters:  {'kerneltype': 'sqexp', 'scale': tensor(0.4000, dtype=torch.float64), 'weight': tensor(0.1527, dtype=torch.float64), 'noise': tensor(1.0000e-06, dtype=torch.float64), 'noisefactor': tensor(0.5000, dtype=torch.float64), 'prior': tensor(3.6472, dtype=torch.float64)}\n",
      "      Step     Time          Energy          fmax\n",
      "FIRE:    0 16:04:02        3.861627        1.265983\n",
      "FIRE:    1 16:04:03        3.850219        1.269042\n",
      "FIRE:    2 16:04:04        3.827316        1.273066\n",
      "FIRE:    3 16:04:06        3.792860        1.273862\n",
      "FIRE:    4 16:04:07        3.747056        1.265254\n",
      "FIRE:    5 16:04:08        3.690728        1.239631\n",
      "FIRE:    6 16:04:09        3.634262        1.188637\n",
      "FIRE:    7 16:04:11        3.618517        1.097351\n",
      "FIRE:    8 16:04:12        3.599977        0.942479\n",
      "FIRE:    9 16:04:13        3.579562        0.703137\n",
      "FIRE:   10 16:04:14        3.559475        0.374400\n",
      "FIRE:   11 16:04:16        3.543874        0.213957\n",
      "FIRE:   12 16:04:17        3.538947        0.364352\n",
      "FIRE:   13 16:04:18        3.538814        0.360441\n",
      "FIRE:   14 16:04:20        3.538550        0.352657\n",
      "FIRE:   15 16:04:21        3.538159        0.341071\n",
      "FIRE:   16 16:04:22        3.537644        0.325801\n",
      "FIRE:   17 16:04:23        3.537012        0.307007\n",
      "FIRE:   18 16:04:25        3.536270        0.284903\n",
      "FIRE:   19 16:04:26        3.535424        0.259761\n",
      "FIRE:   20 16:04:27        3.534380        0.228824\n",
      "FIRE:   21 16:04:28        3.533107        0.191464\n",
      "FIRE:   22 16:04:30        3.531580        0.147394\n",
      "FIRE:   23 16:04:32        3.529777        0.107683\n",
      "FIRE:   24 16:04:33        3.527691        0.100487\n",
      "FIRE:   25 16:04:35        3.525349        0.091876\n",
      "FIRE:   26 16:04:36        3.522852        0.085495\n",
      "FIRE:   27 16:04:37        3.520373        0.114799\n",
      "FIRE:   28 16:04:39        3.518094        0.135804\n",
      "FIRE:   29 16:04:40        3.516171        0.137267\n",
      "FIRE:   30 16:04:41        3.514724        0.114673\n",
      "FIRE:   31 16:04:42        3.513840        0.068595\n",
      "FIRE:   32 16:04:43        3.513561        0.033705\n",
      "--------------------------------------------------------\n",
      "Step: 2\n",
      "Time: 07/22/2025, 16:04:44\n",
      "Predicted barrier (-->): 0.19882117179188663\n",
      "Predicted barrier (<--): 0.19906995796080507\n",
      "Max. uncertainty: 0.7551999765916917\n",
      "Number of images: 7\n",
      "fmax: 1.2740436105673196\n",
      "--------------------------------------------------------\n",
      "\n",
      "Training data size:  5\n",
      "Descriptor:  cartesian coordinates\n",
      "GPR model hyperparameters:  {'kerneltype': 'sqexp', 'scale': tensor(0.4000, dtype=torch.float64), 'weight': tensor(0.1423, dtype=torch.float64), 'noise': tensor(1.0000e-06, dtype=torch.float64), 'noisefactor': tensor(0.5000, dtype=torch.float64), 'prior': tensor(3.7174, dtype=torch.float64)}\n",
      "      Step     Time          Energy          fmax\n",
      "FIRE:    0 16:04:46        3.788769        0.545958\n",
      "FIRE:    1 16:04:47        3.786229        0.544427\n",
      "FIRE:    2 16:04:48        3.781193        0.541121\n",
      "FIRE:    3 16:04:49        3.773755        0.535571\n",
      "FIRE:    4 16:04:51        3.764065        0.527121\n",
      "FIRE:    5 16:04:52        3.752353        0.514998\n",
      "FIRE:    6 16:04:53        3.738940        0.498431\n",
      "FIRE:    7 16:04:55        3.724249        0.476821\n",
      "FIRE:    8 16:04:56        3.707156        0.446851\n",
      "FIRE:    9 16:04:58        3.688228        0.407311\n",
      "FIRE:   10 16:04:59        3.668628        0.359676\n",
      "FIRE:   11 16:05:00        3.650048        0.311062\n",
      "FIRE:   12 16:05:01        3.634076        0.273662\n",
      "FIRE:   13 16:05:03        3.621149        0.321371\n",
      "FIRE:   14 16:05:04        3.610335        0.368614\n",
      "FIRE:   15 16:05:05        3.600989        0.337817\n",
      "FIRE:   16 16:05:06        3.594900        0.228404\n",
      "FIRE:   17 16:05:08        3.595906        0.110074\n",
      "FIRE:   18 16:05:09        3.595732        0.109241\n",
      "FIRE:   19 16:05:10        3.595390        0.107581\n",
      "FIRE:   20 16:05:12        3.594893        0.105104\n",
      "FIRE:   21 16:05:13        3.594256        0.101822\n",
      "FIRE:   22 16:05:14        3.593502        0.097753\n",
      "FIRE:   23 16:05:15        3.592656        0.092918\n",
      "FIRE:   24 16:05:17        3.591748        0.087340\n",
      "FIRE:   25 16:05:18        3.590710        0.080344\n",
      "FIRE:   26 16:05:19        3.589578        0.071680\n",
      "FIRE:   27 16:05:21        3.588416        0.061122\n",
      "FIRE:   28 16:05:22        3.587329        0.048585\n",
      "--------------------------------------------------------\n",
      "Step: 3\n",
      "Time: 07/22/2025, 16:05:22\n",
      "Predicted barrier (-->): 0.27258962001409204\n",
      "Predicted barrier (<--): 0.2728384061830105\n",
      "Max. uncertainty: 0.5507884122665518\n",
      "Number of images: 7\n",
      "fmax: 0.5666458841172607\n",
      "--------------------------------------------------------\n",
      "\n",
      "Training data size:  6\n",
      "Descriptor:  cartesian coordinates\n",
      "GPR model hyperparameters:  {'kerneltype': 'sqexp', 'scale': tensor(0.4000, dtype=torch.float64), 'weight': tensor(0.1550, dtype=torch.float64), 'noise': tensor(1.0000e-06, dtype=torch.float64), 'noisefactor': tensor(0.5000, dtype=torch.float64), 'prior': tensor(3.8542, dtype=torch.float64)}\n",
      "      Step     Time          Energy          fmax\n",
      "FIRE:    0 16:05:25        3.638617        0.961707\n",
      "FIRE:    1 16:05:26        3.638449        0.948211\n",
      "FIRE:    2 16:05:27        3.638117        0.919960\n",
      "FIRE:    3 16:05:29        3.637630        0.874598\n",
      "FIRE:    4 16:05:30        3.637000        0.809038\n",
      "FIRE:    5 16:05:31        3.636242        0.720069\n",
      "FIRE:    6 16:05:32        3.635370        0.605224\n",
      "FIRE:    7 16:05:33        3.634400        0.463870\n",
      "FIRE:    8 16:05:35        3.633233        0.279849\n",
      "FIRE:    9 16:05:36        3.631846        0.213354\n",
      "FIRE:   10 16:05:37        3.630251        0.199832\n",
      "FIRE:   11 16:05:38        3.630225        0.196140\n",
      "FIRE:   12 16:05:40        3.630173        0.188832\n",
      "FIRE:   13 16:05:41        3.630096        0.178065\n",
      "FIRE:   14 16:05:42        3.629994        0.167631\n",
      "FIRE:   15 16:05:43        3.629867        0.156403\n",
      "FIRE:   16 16:05:45        3.629718        0.150531\n",
      "FIRE:   17 16:05:46        3.629546        0.147049\n",
      "FIRE:   18 16:05:47        3.629332        0.142574\n",
      "FIRE:   19 16:05:48        3.629067        0.136851\n",
      "FIRE:   20 16:05:50        3.628746        0.129556\n",
      "FIRE:   21 16:05:51        3.628362        0.120295\n",
      "FIRE:   22 16:05:52        3.627914        0.108624\n",
      "FIRE:   23 16:05:53        3.627412        0.094133\n",
      "FIRE:   24 16:05:55        3.626879        0.106160\n",
      "FIRE:   25 16:05:56        3.626353        0.112365\n",
      "FIRE:   26 16:05:57        3.625882        0.101060\n",
      "FIRE:   27 16:05:58        3.625520        0.077308\n",
      "FIRE:   28 16:06:00        3.625318        0.058750\n",
      "FIRE:   29 16:06:01        3.625313        0.045523\n",
      "--------------------------------------------------------\n",
      "Step: 4\n",
      "Time: 07/22/2025, 16:06:01\n",
      "Predicted barrier (-->): 0.31057346713063927\n",
      "Predicted barrier (<--): 0.3108222532995577\n",
      "Max. uncertainty: 0.44991587408061734\n",
      "Number of images: 7\n",
      "fmax: 1.0410543551699778\n",
      "--------------------------------------------------------\n",
      "\n",
      "Training data size:  7\n",
      "Descriptor:  cartesian coordinates\n",
      "GPR model hyperparameters:  {'kerneltype': 'sqexp', 'scale': tensor(0.4000, dtype=torch.float64), 'weight': tensor(0.1553, dtype=torch.float64), 'noise': tensor(1.0000e-06, dtype=torch.float64), 'noisefactor': tensor(0.5000, dtype=torch.float64), 'prior': tensor(3.9371, dtype=torch.float64)}\n",
      "      Step     Time          Energy          fmax\n",
      "FIRE:    0 16:06:03        3.637822        0.990641\n",
      "FIRE:    1 16:06:04        3.637763        0.972431\n",
      "FIRE:    2 16:06:06        3.637646        0.935196\n",
      "FIRE:    3 16:06:07        3.637474        0.877546\n",
      "FIRE:    4 16:06:08        3.637253        0.797975\n",
      "FIRE:    5 16:06:10        3.636987        0.695517\n",
      "FIRE:    6 16:06:11        3.636683        0.570520\n",
      "FIRE:    7 16:06:13        3.636345        0.425416\n",
      "FIRE:    8 16:06:14        3.635937        0.247962\n",
      "FIRE:    9 16:06:15        3.635448        0.136528\n",
      "FIRE:   10 16:06:17        3.634849        0.201580\n",
      "FIRE:   11 16:06:18        3.634840        0.199288\n",
      "FIRE:   12 16:06:19        3.634822        0.194735\n",
      "FIRE:   13 16:06:20        3.634796        0.187988\n",
      "FIRE:   14 16:06:22        3.634760        0.179148\n",
      "FIRE:   15 16:06:23        3.634716        0.168354\n",
      "FIRE:   16 16:06:24        3.634664        0.155790\n",
      "FIRE:   17 16:06:26        3.634603        0.141690\n",
      "FIRE:   18 16:06:27        3.634527        0.124667\n",
      "FIRE:   19 16:06:28        3.634433        0.104718\n",
      "FIRE:   20 16:06:29        3.634316        0.082444\n",
      "FIRE:   21 16:06:30        3.634174        0.060091\n",
      "FIRE:   22 16:06:32        3.634002        0.053346\n",
      "FIRE:   23 16:06:34        3.633799        0.047554\n",
      "--------------------------------------------------------\n",
      "Step: 5\n",
      "Time: 07/22/2025, 16:06:34\n",
      "Predicted barrier (-->): 0.31905988307283506\n",
      "Predicted barrier (<--): 0.3193086692417535\n",
      "Max. uncertainty: 0.3042761471557371\n",
      "Number of images: 7\n",
      "fmax: 1.1608434581346123\n",
      "--------------------------------------------------------\n",
      "\n",
      "Training data size:  8\n",
      "Descriptor:  cartesian coordinates\n",
      "GPR model hyperparameters:  {'kerneltype': 'sqexp', 'scale': tensor(0.4000, dtype=torch.float64), 'weight': tensor(0.1473, dtype=torch.float64), 'noise': tensor(1.0000e-06, dtype=torch.float64), 'noisefactor': tensor(0.5000, dtype=torch.float64), 'prior': tensor(3.9663, dtype=torch.float64)}\n",
      "      Step     Time          Energy          fmax\n",
      "FIRE:    0 16:06:36        3.715062        0.318472\n",
      "FIRE:    1 16:06:38        3.714321        0.314176\n",
      "FIRE:    2 16:06:40        3.712883        0.305651\n",
      "FIRE:    3 16:06:41        3.710832        0.293043\n",
      "FIRE:    4 16:06:43        3.708289        0.276602\n",
      "FIRE:    5 16:06:44        3.705401        0.256718\n",
      "FIRE:    6 16:06:45        3.702334        0.233965\n",
      "FIRE:    7 16:06:46        3.699254        0.209146\n",
      "FIRE:    8 16:06:48        3.696022        0.180602\n",
      "FIRE:    9 16:06:50        3.692862        0.149883\n",
      "FIRE:   10 16:06:52        3.690040        0.120348\n",
      "FIRE:   11 16:06:53        3.687791        0.117035\n",
      "FIRE:   12 16:06:54        3.686239        0.138821\n",
      "FIRE:   13 16:06:56        3.685428        0.135433\n",
      "FIRE:   14 16:06:57        3.685476        0.100538\n",
      "FIRE:   15 16:06:59        3.685418        0.098066\n",
      "FIRE:   16 16:07:00        3.685308        0.093188\n",
      "FIRE:   17 16:07:01        3.685153        0.086037\n",
      "FIRE:   18 16:07:02        3.684969        0.076810\n",
      "FIRE:   19 16:07:04        3.684770        0.065772\n",
      "FIRE:   20 16:07:05        3.684572        0.053253\n",
      "FIRE:   21 16:07:07        3.684392        0.039652\n",
      "--------------------------------------------------------\n",
      "Step: 6\n",
      "Time: 07/22/2025, 16:07:07\n",
      "Predicted barrier (-->): 0.36965224886564974\n",
      "Predicted barrier (<--): 0.36990103503456817\n",
      "Max. uncertainty: 0.2199853939281794\n",
      "Number of images: 7\n",
      "fmax: 0.3307833318193462\n",
      "--------------------------------------------------------\n",
      "\n",
      "Training data size:  9\n",
      "Descriptor:  cartesian coordinates\n",
      "GPR model hyperparameters:  {'kerneltype': 'sqexp', 'scale': tensor(0.4000, dtype=torch.float64), 'weight': tensor(0.1414, dtype=torch.float64), 'noise': tensor(1.0000e-06, dtype=torch.float64), 'noisefactor': tensor(0.5000, dtype=torch.float64), 'prior': tensor(3.9913, dtype=torch.float64)}\n",
      "      Step     Time          Energy          fmax\n",
      "FIRE:    0 16:07:09        3.684274        0.220281\n",
      "FIRE:    1 16:07:11        3.684255        0.215274\n",
      "FIRE:    2 16:07:12        3.684217        0.205360\n",
      "FIRE:    3 16:07:13        3.684165        0.190747\n",
      "FIRE:    4 16:07:15        3.684101        0.171772\n",
      "FIRE:    5 16:07:16        3.684030        0.148935\n",
      "FIRE:    6 16:07:17        3.683956        0.134852\n",
      "FIRE:    7 16:07:18        3.683884        0.125344\n",
      "FIRE:    8 16:07:20        3.683811        0.113039\n",
      "FIRE:    9 16:07:21        3.683743        0.097394\n",
      "FIRE:   10 16:07:22        3.683685        0.085197\n",
      "FIRE:   11 16:07:23        3.683638        0.091991\n",
      "FIRE:   12 16:07:25        3.683600        0.102023\n",
      "FIRE:   13 16:07:26        3.683564        0.097933\n",
      "FIRE:   14 16:07:27        3.683524        0.080721\n",
      "FIRE:   15 16:07:28        3.683521        0.078652\n",
      "FIRE:   16 16:07:30        3.683515        0.074574\n",
      "FIRE:   17 16:07:31        3.683506        0.068607\n",
      "FIRE:   18 16:07:32        3.683496        0.060934\n",
      "FIRE:   19 16:07:33        3.683484        0.051801\n",
      "FIRE:   20 16:07:35        3.683472        0.041534\n",
      "--------------------------------------------------------\n",
      "Step: 7\n",
      "Time: 07/22/2025, 16:07:35\n",
      "Predicted barrier (-->): 0.3687321476016927\n",
      "Predicted barrier (<--): 0.36898093377061114\n",
      "Max. uncertainty: 0.17630921666633553\n",
      "Number of images: 7\n",
      "fmax: 0.3830850227281649\n",
      "--------------------------------------------------------\n",
      "\n",
      "Training data size:  10\n",
      "Descriptor:  cartesian coordinates\n",
      "GPR model hyperparameters:  {'kerneltype': 'sqexp', 'scale': tensor(0.4000, dtype=torch.float64), 'weight': tensor(0.1683, dtype=torch.float64), 'noise': tensor(1.0000e-06, dtype=torch.float64), 'noisefactor': tensor(0.5000, dtype=torch.float64), 'prior': tensor(4.0491, dtype=torch.float64)}\n",
      "      Step     Time          Energy          fmax\n",
      "FIRE:    0 16:07:37        3.680951        0.419856\n",
      "FIRE:    1 16:07:38        3.680902        0.410906\n",
      "FIRE:    2 16:07:39        3.680810        0.396145\n",
      "FIRE:    3 16:07:41        3.680679        0.373150\n",
      "FIRE:    4 16:07:42        3.680521        0.341117\n",
      "FIRE:    5 16:07:43        3.680348        0.299371\n",
      "FIRE:    6 16:07:45        3.680171        0.247767\n",
      "FIRE:    7 16:07:46        3.680006        0.187346\n",
      "FIRE:    8 16:07:47        3.679850        0.168882\n",
      "FIRE:    9 16:07:48        3.679726        0.155482\n",
      "FIRE:   10 16:07:50        3.679659        0.244514\n",
      "FIRE:   11 16:07:51        3.679662        0.307476\n",
      "FIRE:   12 16:07:52        3.679660        0.301643\n",
      "FIRE:   13 16:07:54        3.679656        0.290145\n",
      "FIRE:   14 16:07:55        3.679650        0.273317\n",
      "FIRE:   15 16:07:56        3.679643        0.251648\n",
      "FIRE:   16 16:07:58        3.679634        0.225770\n",
      "FIRE:   17 16:07:59        3.679624        0.196448\n",
      "FIRE:   18 16:08:00        3.679613        0.164566\n",
      "FIRE:   19 16:08:01        3.679600        0.127560\n",
      "FIRE:   20 16:08:03        3.679585        0.086334\n",
      "FIRE:   21 16:08:04        3.679568        0.079250\n",
      "FIRE:   22 16:08:05        3.679549        0.071440\n",
      "FIRE:   23 16:08:07        3.679531        0.076783\n",
      "FIRE:   24 16:08:08        3.679514        0.088534\n",
      "FIRE:   25 16:08:09        3.679499        0.090474\n",
      "FIRE:   26 16:08:11        3.679484        0.089779\n",
      "FIRE:   27 16:08:12        3.679469        0.074908\n",
      "FIRE:   28 16:08:13        3.679449        0.043501\n",
      "--------------------------------------------------------\n",
      "Step: 8\n",
      "Time: 07/22/2025, 16:08:13\n",
      "Predicted barrier (-->): 0.3647097800398611\n",
      "Predicted barrier (<--): 0.36495856620877953\n",
      "Max. uncertainty: 0.126672827069223\n",
      "Number of images: 7\n",
      "fmax: 0.44308099863790884\n",
      "--------------------------------------------------------\n",
      "\n",
      "Training data size:  11\n",
      "Descriptor:  cartesian coordinates\n",
      "GPR model hyperparameters:  {'kerneltype': 'sqexp', 'scale': tensor(0.4000, dtype=torch.float64), 'weight': tensor(0.1728, dtype=torch.float64), 'noise': tensor(1.0000e-06, dtype=torch.float64), 'noisefactor': tensor(0.5000, dtype=torch.float64), 'prior': tensor(4.0721, dtype=torch.float64)}\n",
      "      Step     Time          Energy          fmax\n",
      "FIRE:    0 16:08:16        3.681751        0.458903\n",
      "FIRE:    1 16:08:17        3.681744        0.447845\n",
      "FIRE:    2 16:08:18        3.681728        0.425846\n",
      "FIRE:    3 16:08:20        3.681706        0.393176\n",
      "FIRE:    4 16:08:21        3.681679        0.350312\n",
      "FIRE:    5 16:08:22        3.681647        0.298025\n",
      "FIRE:    6 16:08:23        3.681612        0.237477\n",
      "FIRE:    7 16:08:25        3.681575        0.170367\n",
      "FIRE:    8 16:08:26        3.681534        0.091717\n",
      "FIRE:    9 16:08:28        3.681488        0.069054\n",
      "FIRE:   10 16:08:30        3.681439        0.104153\n",
      "FIRE:   11 16:08:31        3.681439        0.102978\n",
      "FIRE:   12 16:08:33        3.681437        0.100646\n",
      "FIRE:   13 16:08:34        3.681434        0.097193\n",
      "FIRE:   14 16:08:35        3.681431        0.092672\n",
      "FIRE:   15 16:08:36        3.681427        0.087157\n",
      "FIRE:   16 16:08:38        3.681422        0.080739\n",
      "FIRE:   17 16:08:39        3.681417        0.073530\n",
      "FIRE:   18 16:08:40        3.681410        0.064799\n",
      "FIRE:   19 16:08:41        3.681401        0.054477\n",
      "FIRE:   20 16:08:42        3.681391        0.042677\n",
      "--------------------------------------------------------\n",
      "Step: 9\n",
      "Time: 07/22/2025, 16:08:43\n",
      "Predicted barrier (-->): 0.3666514800612295\n",
      "Predicted barrier (<--): 0.36690026623014793\n",
      "Max. uncertainty: 0.11083239347733113\n",
      "Number of images: 7\n",
      "fmax: 0.5619399832524258\n",
      "--------------------------------------------------------\n",
      "\n",
      "Training data size:  12\n",
      "Descriptor:  cartesian coordinates\n",
      "GPR model hyperparameters:  {'kerneltype': 'sqexp', 'scale': tensor(0.4000, dtype=torch.float64), 'weight': tensor(0.1684, dtype=torch.float64), 'noise': tensor(1.0000e-06, dtype=torch.float64), 'noisefactor': tensor(0.5000, dtype=torch.float64), 'prior': tensor(4.0775, dtype=torch.float64)}\n",
      "      Step     Time          Energy          fmax\n",
      "FIRE:    0 16:08:45        3.682038        0.166076\n",
      "FIRE:    1 16:08:46        3.682036        0.163674\n",
      "FIRE:    2 16:08:47        3.682032        0.158921\n",
      "FIRE:    3 16:08:49        3.682027        0.151927\n",
      "FIRE:    4 16:08:50        3.682020        0.142853\n",
      "FIRE:    5 16:08:51        3.682012        0.131920\n",
      "FIRE:    6 16:08:53        3.682004        0.119402\n",
      "FIRE:    7 16:08:54        3.681996        0.105625\n",
      "FIRE:    8 16:08:55        3.681987        0.089370\n",
      "FIRE:    9 16:08:57        3.681978        0.070804\n",
      "FIRE:   10 16:08:58        3.681969        0.050571\n",
      "FIRE:   11 16:08:59        3.681961        0.041835\n",
      "--------------------------------------------------------\n",
      "Step: 10\n",
      "Time: 07/22/2025, 16:08:59\n",
      "Predicted barrier (-->): 0.3672209493515237\n",
      "Predicted barrier (<--): 0.36746973552044215\n",
      "Max. uncertainty: 0.046229536580350866\n",
      "Number of images: 7\n",
      "fmax: 0.4252195800334599\n",
      "--------------------------------------------------------\n",
      "\n",
      "Training data size:  13\n",
      "Descriptor:  cartesian coordinates\n",
      "GPR model hyperparameters:  {'kerneltype': 'sqexp', 'scale': tensor(0.4000, dtype=torch.float64), 'weight': tensor(0.1655, dtype=torch.float64), 'noise': tensor(1.0000e-06, dtype=torch.float64), 'noisefactor': tensor(0.5000, dtype=torch.float64), 'prior': tensor(4.1143, dtype=torch.float64)}\n",
      "Climbing image is now activated.\n",
      "      Step     Time          Energy          fmax\n",
      "FIRE:    0 16:09:02        3.695442        0.199956\n",
      "FIRE:    1 16:09:03        3.695159        0.193251\n",
      "FIRE:    2 16:09:04        3.694627        0.180090\n",
      "FIRE:    3 16:09:06        3.693905        0.160970\n",
      "FIRE:    4 16:09:07        3.693078        0.139853\n",
      "FIRE:    5 16:09:08        3.692237        0.117537\n",
      "FIRE:    6 16:09:10        3.691473        0.093273\n",
      "FIRE:    7 16:09:11        3.690864        0.069019\n",
      "FIRE:    8 16:09:12        3.690429        0.046963\n",
      "--------------------------------------------------------\n",
      "Step: 11\n",
      "Time: 07/22/2025, 16:09:12\n",
      "Predicted barrier (-->): 0.37568923518576147\n",
      "Predicted barrier (<--): 0.3759380213546799\n",
      "Max. uncertainty: 0.04004788443657679\n",
      "Number of images: 7\n",
      "fmax: 0.20021684259600747\n",
      "--------------------------------------------------------\n",
      "\n",
      "Training data size:  14\n",
      "Descriptor:  cartesian coordinates\n",
      "GPR model hyperparameters:  {'kerneltype': 'sqexp', 'scale': tensor(0.4000, dtype=torch.float64), 'weight': tensor(0.1646, dtype=torch.float64), 'noise': tensor(1.0000e-06, dtype=torch.float64), 'noisefactor': tensor(0.5000, dtype=torch.float64), 'prior': tensor(4.1296, dtype=torch.float64)}\n",
      "Climbing image is now activated.\n",
      "      Step     Time          Energy          fmax\n",
      "FIRE:    0 16:09:15        3.690984        0.041646\n",
      "--------------------------------------------------------\n",
      "Step: 12\n",
      "Time: 07/22/2025, 16:09:15\n",
      "Predicted barrier (-->): 0.3762448664789262\n",
      "Predicted barrier (<--): 0.3764936526478446\n",
      "Max. uncertainty: 0.038471143955535934\n",
      "Number of images: 7\n",
      "fmax: 0.04204542260948315\n",
      "--------------------------------------------------------\n",
      "\n",
      "A saddle point was found.\n",
      "Uncertainty of the images above threshold.\n",
      "NEB converged.\n",
      "The NEB path can be found in: AIDNEB.traj\n",
      "Visualize the last path using 'ase gui AIDNEB.traj\n",
      "\n",
      "-------------------------------------------------------------------------------\n",
      "You are using GPR-accelerated NEB. Please cite: \n",
      "[1] J. A. Garrido Torres, P. C. Jennings, M. H. Hansen, J. R. Boes, and T. Bligaard, Phys. Rev. Lett. 122, 156001 (2019). https://doi.org/10.1103/PhysRevLett.122.156001 \n",
      "[2] O. Koistinen, F. B. Dagbjartsdóttir, V. Ásgeirsson, A. Vehtari, and H. Jónsson, J. Chem. Phys. 147, 152720 (2017). https://doi.org/10.1063/1.4986787 \n",
      "[3] E. Garijo del Río, J. J. Mortensen, and K. W. Jacobsen, Phys. Rev. B 100, 104103 (2019). https://doi.org/10.1103/PhysRevB.100.104103. \n",
      "[4] I. W. Yeu, A. Stuke, J. López-Zorrilla, J. M Stevenson, D. R Reichman, R. A Friesner, A. Urban, and N. Artrith, npj Computational Materials 11, 156 (2025).https://doi.org/10.1038/s41524-025-01651-0. \n",
      "-------------------------------------------------------------------------------\n",
      "\n"
     ]
    }
   ],
   "source": [
    "neb.run(fmax=neb_F_max, unc_convergence=0.05, dt=0.05, ml_steps=150)"
   ]
  },
  {
   "cell_type": "markdown",
   "id": "9f45ecbd-b93a-4fac-91fb-c1ed617853e9",
   "metadata": {},
   "source": [
    "# Total reference calculations = Training data size $-$ initial and final images = 12"
   ]
  },
  {
   "cell_type": "code",
   "execution_count": 38,
   "id": "032d406a-20f0-4d26-ad4a-098749196ef3",
   "metadata": {},
   "outputs": [
    {
     "data": {
      "image/png": "[encoded data removed]",
      "text/plain": [
       "<Figure size 550x400 with 1 Axes>"
      ]
     },
     "metadata": {},
     "output_type": "display_data"
    }
   ],
   "source": [
    "images = read('AIDNEB.traj@-7:')\n",
    "\n",
    "nebtools = NEBTools(images)\n",
    "\n",
    "# Create a figure with custom parameters.\n",
    "fig = plt.figure(figsize=(5.5, 4.0))\n",
    "ax = fig.add_axes((0.15, 0.15, 0.8, 0.75))\n",
    "nebtools.plot_band(ax)\n",
    "fig.savefig('diffusion-barrier.png')"
   ]
  },
  {
   "cell_type": "code",
   "execution_count": null,
   "id": "727aa488-a3c8-4f6f-a3dd-85072c739a48",
   "metadata": {},
   "outputs": [],
   "source": []
  }
 ],
 "metadata": {
  "kernelspec": {
   "display_name": "Python 3",
   "language": "python",
   "name": "python3"
  },
  "language_info": {
   "codemirror_mode": {
    "name": "ipython",
    "version": 3
   },
   "file_extension": ".py",
   "mimetype": "text/x-python",
   "name": "python",
   "nbconvert_exporter": "python",
   "pygments_lexer": "ipython3",
   "version": "3.12.2"
  }
 },
 "nbformat": 4,
 "nbformat_minor": 5
}
