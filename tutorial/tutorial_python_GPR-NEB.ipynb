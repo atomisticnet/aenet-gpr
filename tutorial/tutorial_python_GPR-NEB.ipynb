{
 "cells": [
  {
   "cell_type": "markdown",
   "id": "5dccf2b3-cf12-43c8-acff-96b1d4764c59",
   "metadata": {},
   "source": [
    "# GPR-Accelerated NEB Tutorial\n",
    "\n",
    "This tutorial demonstrates how to use `aenet-gpr` for **GPR-accelerated Nudged Elastic Band (NEB) calculations**, which accelerates the demanding NEB calculations for transition state search.\n",
    "\n",
    "GPR-NEB references:\n",
    "- [J. A. Garrido Torres, P. C. Jennings, M. H. Hansen, J. R. Boes, and T. Bligaard, “Low-Scaling Algorithm for Nudged Elastic Band Calculations Using a Surrogate Machine Learning Model”, *Phys. Rev. Lett.* 122, 156001 (2019).](https://doi.org/10.1103/PhysRevLett.122.156001)\n",
    "- [O. Koistinen, F. B. Dagbjartsdóttir, V. Ásgeirsson, A. Vehtari, and H. Jónsson, \"Nudged elastic band calculations accelerated with Gaussian process regression\", *J. Chem. Phys.* 147, 152720 (2017)](https://doi.org/10.1063/1.4986787)\n",
    "\n",
    "In this [NEB example](https://ase-lib.org/tutorials/neb/diffusion.html), we use a simple **EMT potential** as the reference calculator. However, the same framework is fully compatible with any [ASE-compatible DFT calculators](https://wiki.fysik.dtu.dk/ase/ase/calculators/calculators.html).\n",
    "\n",
    "Replacing the **EMT potential** with a DFT calculator allows GPR-NEB to reproduce **transition states** on a DFT level, with **significantly fewer expensive DFT evaluations** than standard NEB."
   ]
  },
  {
   "cell_type": "markdown",
   "id": "114e60a4-3ea3-46cc-a098-e84decd429c9",
   "metadata": {},
   "source": [
    "# Surface diffusion energy barriers using the Nudged Elastic Band (NEB) method"
   ]
  },
  {
   "cell_type": "code",
   "execution_count": 1,
   "id": "359a5709-4e36-4e73-81c0-329a2a6b9b7d",
   "metadata": {},
   "outputs": [
    {
     "name": "stdout",
     "output_type": "stream",
     "text": [
      "successfully imported ase\n"
     ]
    }
   ],
   "source": [
    "try:\n",
    "    import ase.io\n",
    "    print(\"successfully imported ase\")\n",
    "except ImportError:\n",
    "    !! pip install ase --user --upgrade\n",
    "    print(\"completed installing ASE\")"
   ]
  },
  {
   "cell_type": "code",
   "execution_count": 2,
   "id": "a78de6ac-892a-43f1-9206-4075019449cd",
   "metadata": {},
   "outputs": [
    {
     "name": "stdout",
     "output_type": "stream",
     "text": [
      "You are all set for the tutorial.\n"
     ]
    }
   ],
   "source": [
    "try:\n",
    "    from ase.build import add_adsorbate, fcc100\n",
    "    from ase.calculators.emt import EMT\n",
    "    from ase.constraints import FixAtoms\n",
    "    from ase.optimize import QuasiNewton, BFGS, MDMin, FIRE\n",
    "    print(\"You are all set for the tutorial.\")\n",
    "except ImportError:\n",
    "    print(\"The notebook needs to be restarted. Run this cell again once the restart is done.\")\n",
    "    import os\n",
    "    os.kill(os.getpid(), 9)\n",
    "\n",
    "from IPython.display import Image\n",
    "import copy\n",
    "import numpy as np"
   ]
  },
  {
   "cell_type": "code",
   "execution_count": 3,
   "id": "7d54a036-d68c-4a8f-965a-2671b6eafca4",
   "metadata": {},
   "outputs": [],
   "source": [
    "# 2x2-Al(001) surface with 3 layers and an\n",
    "# Au atom adsorbed in a hollow site:\n",
    "slab = fcc100('Al', size=(2, 2, 3))\n",
    "add_adsorbate(slab, 'Au', 1.7, 'hollow')\n",
    "slab.center(axis=2, vacuum=4.0)"
   ]
  },
  {
   "cell_type": "code",
   "execution_count": 4,
   "id": "83c30b52-62d9-44a5-a3f9-8e7666c1206e",
   "metadata": {},
   "outputs": [],
   "source": [
    "# Fix second and third layers:\n",
    "mask = [atom.tag > 1 for atom in slab]\n",
    "# print(mask)\n",
    "slab.set_constraint(FixAtoms(mask=mask))"
   ]
  },
  {
   "cell_type": "code",
   "execution_count": 5,
   "id": "113823b4-9f31-4fcd-9b0c-12c6a8c6305c",
   "metadata": {},
   "outputs": [],
   "source": [
    "# Use EMT potential:\n",
    "slab.calc = EMT()"
   ]
  },
  {
   "cell_type": "code",
   "execution_count": 6,
   "id": "4db677af-e64a-490b-9972-12deeadf6c49",
   "metadata": {},
   "outputs": [
    {
     "name": "stdout",
     "output_type": "stream",
     "text": [
      "      Step     Time          Energy          fmax\n",
      "BFGS:    0 17:54:42        3.323870        0.246170\n",
      "BFGS:    1 17:54:42        3.321365        0.203512\n",
      "BFGS:    2 17:54:42        3.314740        0.020557\n"
     ]
    },
    {
     "data": {
      "text/plain": [
       "True"
      ]
     },
     "execution_count": 6,
     "metadata": {},
     "output_type": "execute_result"
    }
   ],
   "source": [
    "# Initial state:\n",
    "qn = BFGS(slab, trajectory='initial.traj')\n",
    "qn.run(fmax=0.05)"
   ]
  },
  {
   "cell_type": "code",
   "execution_count": 7,
   "id": "2b53499f-cc5f-4711-8498-83dac2b9458f",
   "metadata": {},
   "outputs": [
    {
     "data": {
      "image/png": "[encoded data removed]",
      "text/plain": [
       "<IPython.core.display.Image object>"
      ]
     },
     "execution_count": 7,
     "metadata": {},
     "output_type": "execute_result"
    }
   ],
   "source": [
    "import ase\n",
    "\n",
    "\n",
    "atoms = ase.io.read('initial.traj')\n",
    "ase.io.write('initial.png', atoms)\n",
    "Image(\"initial.png\")"
   ]
  },
  {
   "cell_type": "code",
   "execution_count": 8,
   "id": "7c8c3b5c-6c05-48ab-9183-423fa74875f4",
   "metadata": {},
   "outputs": [
    {
     "name": "stdout",
     "output_type": "stream",
     "text": [
      "      Step     Time          Energy          fmax\n",
      "BFGS:    0 17:54:43        3.320046        0.123468\n",
      "BFGS:    1 17:54:43        3.319145        0.111073\n",
      "BFGS:    2 17:54:43        3.315607        0.074162\n",
      "BFGS:    3 17:54:43        3.315469        0.075507\n",
      "BFGS:    4 17:54:43        3.314645        0.052638\n",
      "BFGS:    5 17:54:43        3.314491        0.027698\n"
     ]
    },
    {
     "data": {
      "text/plain": [
       "True"
      ]
     },
     "execution_count": 8,
     "metadata": {},
     "output_type": "execute_result"
    }
   ],
   "source": [
    "# Final state:\n",
    "slab[-1].x += slab.get_cell()[0, 0] / 2\n",
    "qn = BFGS(slab, trajectory='final.traj')\n",
    "qn.run(fmax=0.05)"
   ]
  },
  {
   "cell_type": "code",
   "execution_count": 9,
   "id": "be61ddea-efba-4948-b58e-7b88b57a13db",
   "metadata": {},
   "outputs": [
    {
     "data": {
      "image/png": "[encoded data removed]",
      "text/plain": [
       "<IPython.core.display.Image object>"
      ]
     },
     "execution_count": 9,
     "metadata": {},
     "output_type": "execute_result"
    }
   ],
   "source": [
    "atoms = ase.io.read('final.traj')\n",
    "ase.io.write('final.png', atoms)\n",
    "Image(\"final.png\")"
   ]
  },
  {
   "cell_type": "markdown",
   "id": "111e2c41-8745-4ae1-baa1-d406d1dc3e3e",
   "metadata": {},
   "source": [
    "## ===== Conventional NEB =====\n",
    "\n",
    "- Reference calculator: Effective Medium Theory (EMT)"
   ]
  },
  {
   "cell_type": "code",
   "execution_count": 33,
   "id": "e1efa647-058f-430a-a299-c2daea998f58",
   "metadata": {},
   "outputs": [],
   "source": [
    "from ase.calculators.emt import EMT\n",
    "from ase.constraints import FixAtoms\n",
    "from ase.io import read\n",
    "from ase.mep import NEB"
   ]
  },
  {
   "cell_type": "code",
   "execution_count": 34,
   "id": "69dcc8b5-c986-44e3-bf0b-8215dd08ed8d",
   "metadata": {},
   "outputs": [],
   "source": [
    "initial = read('initial.traj')\n",
    "final = read('final.traj')"
   ]
  },
  {
   "cell_type": "code",
   "execution_count": 35,
   "id": "9ee85c1e-4d62-4171-a54b-6aef1bf5ecbb",
   "metadata": {},
   "outputs": [],
   "source": [
    "constraint = FixAtoms(mask=[atom.tag > 1 for atom in initial])"
   ]
  },
  {
   "cell_type": "code",
   "execution_count": 36,
   "id": "8619e92a-dbc9-4387-b19d-c81ddc332cdd",
   "metadata": {},
   "outputs": [],
   "source": [
    "images = [initial]\n",
    "for i in range(3):\n",
    "    image = initial.copy()\n",
    "    image.calc = EMT()\n",
    "    image.set_constraint(constraint)\n",
    "    images.append(image)\n",
    "\n",
    "images.append(final)"
   ]
  },
  {
   "cell_type": "code",
   "execution_count": 37,
   "id": "49c8e6f1-3d8e-4ddd-894f-afb5f0b6990f",
   "metadata": {},
   "outputs": [
    {
     "name": "stdout",
     "output_type": "stream",
     "text": [
      "[3.3147396  3.3147396  3.3147396  3.3147396  3.31449081]\n"
     ]
    }
   ],
   "source": [
    "energies = np.array([im.get_potential_energy() for im in images])\n",
    "print(energies)"
   ]
  },
  {
   "cell_type": "code",
   "execution_count": 38,
   "id": "31b975aa-9200-44d6-bc13-ebbe9a91c9d4",
   "metadata": {},
   "outputs": [
    {
     "name": "stdout",
     "output_type": "stream",
     "text": [
      "      Step     Time          Energy          fmax\n",
      "FIRE:    0 18:27:23        4.254555        3.670245\n",
      "FIRE:    1 18:27:23        4.024620        2.636978\n",
      "FIRE:    2 18:27:23        3.790865        1.233470\n",
      "FIRE:    3 18:27:23        3.712369        0.247911\n",
      "FIRE:    4 18:27:23        3.765812        0.737651\n",
      "FIRE:    5 18:27:23        3.762016        0.718300\n",
      "FIRE:    6 18:27:23        3.754824        0.679871\n",
      "FIRE:    7 18:27:23        3.745002        0.622930\n",
      "FIRE:    8 18:27:23        3.733627        0.548371\n",
      "FIRE:    9 18:27:23        3.721985        0.457525\n",
      "FIRE:   10 18:27:23        3.711448        0.352415\n",
      "FIRE:   11 18:27:23        3.703300        0.236508\n",
      "FIRE:   12 18:27:23        3.698224        0.165230\n",
      "FIRE:   13 18:27:23        3.697714        0.196512\n",
      "FIRE:   14 18:27:23        3.701239        0.351133\n",
      "FIRE:   15 18:27:23        3.700998        0.345876\n",
      "FIRE:   16 18:27:23        3.700532        0.335482\n",
      "FIRE:   17 18:27:23        3.699870        0.320193\n",
      "FIRE:   18 18:27:23        3.699053        0.300369\n",
      "FIRE:   19 18:27:23        3.698132        0.276478\n",
      "FIRE:   20 18:27:24        3.697162        0.249088\n",
      "FIRE:   21 18:27:24        3.696199        0.218863\n",
      "FIRE:   22 18:27:24        3.695206        0.183028\n",
      "FIRE:   23 18:27:24        3.694263        0.141722\n",
      "FIRE:   24 18:27:24        3.693468        0.109382\n",
      "FIRE:   25 18:27:24        3.692915        0.105803\n",
      "FIRE:   26 18:27:24        3.692642        0.101148\n",
      "FIRE:   27 18:27:24        3.692582        0.095207\n",
      "FIRE:   28 18:27:24        3.692553        0.111454\n",
      "FIRE:   29 18:27:24        3.692317        0.119926\n",
      "FIRE:   30 18:27:24        3.691699        0.112991\n",
      "FIRE:   31 18:27:24        3.690720        0.088483\n",
      "FIRE:   32 18:27:24        3.689712        0.047165\n"
     ]
    },
    {
     "data": {
      "text/plain": [
       "True"
      ]
     },
     "execution_count": 38,
     "metadata": {},
     "output_type": "execute_result"
    }
   ],
   "source": [
    "neb = NEB(images)\n",
    "neb.interpolate()\n",
    "qn = FIRE(neb, trajectory='neb.traj')\n",
    "qn.run(fmax=0.05)"
   ]
  },
  {
   "cell_type": "code",
   "execution_count": 41,
   "id": "8c5a876c-7531-43d8-866e-7d0b242054b4",
   "metadata": {},
   "outputs": [
    {
     "name": "stdout",
     "output_type": "stream",
     "text": [
      "3.6897120219820794\n",
      "(39, 3)\n"
     ]
    }
   ],
   "source": [
    "print(neb.get_potential_energy())\n",
    "print(neb.get_forces().shape)"
   ]
  },
  {
   "cell_type": "markdown",
   "id": "7026aee5-1a9a-4795-9e65-246924dc4841",
   "metadata": {},
   "source": [
    "## Total number of reference calculations \n",
    "\n",
    "- NEB steps $\\times$ number of moving images = 32 $\\times$ 3 = 96"
   ]
  },
  {
   "cell_type": "code",
   "execution_count": 42,
   "id": "390f8644-8567-4b48-a645-dcdd8dcaadc8",
   "metadata": {},
   "outputs": [
    {
     "data": {
      "image/png": "[encoded data removed]",
      "text/plain": [
       "<Figure size 550x400 with 1 Axes>"
      ]
     },
     "metadata": {},
     "output_type": "display_data"
    }
   ],
   "source": [
    "import matplotlib.pyplot as plt\n",
    "\n",
    "from ase.io import read\n",
    "from ase.mep import NEBTools\n",
    "\n",
    "images = read('neb.traj@-5:')\n",
    "\n",
    "nebtools = NEBTools(images)\n",
    "\n",
    "# Create a figure with custom parameters.\n",
    "fig = plt.figure(figsize=(5.5, 4.0))\n",
    "ax = fig.add_axes((0.15, 0.15, 0.8, 0.75))\n",
    "nebtools.plot_band(ax)\n",
    "fig.savefig('diffusion-barrier.png')"
   ]
  },
  {
   "cell_type": "markdown",
   "id": "f8eda25e-36a6-4ff8-9e1b-7242add8e80e",
   "metadata": {},
   "source": [
    "## ===== aenet-GPR accelerated NEB =====\n",
    "\n",
    "- Reference calculator: Effective Medium Theory (EMT)\n",
    "- Surrogate calculator: aenet-gpr (GPR)"
   ]
  },
  {
   "cell_type": "code",
   "execution_count": 43,
   "id": "83c09a3a-57c1-49fd-9ab3-6ac10171c8aa",
   "metadata": {},
   "outputs": [
    {
     "name": "stdout",
     "output_type": "stream",
     "text": [
      "successfully imported torch\n",
      "2.6.0+cu124\n"
     ]
    }
   ],
   "source": [
    "try:\n",
    "    import torch\n",
    "    print(\"successfully imported torch\")\n",
    "    print(torch.__version__)\n",
    "except ImportError:\n",
    "    !! pip install torch torchvision torchaudio --user --index-url https://download.pytorch.org/whl/cpu\n",
    "    print(\"completed installing torch\")"
   ]
  },
  {
   "cell_type": "code",
   "execution_count": 44,
   "id": "b4c3accc-eb4c-4028-a2d6-3c3d524a9d03",
   "metadata": {},
   "outputs": [
    {
     "name": "stdout",
     "output_type": "stream",
     "text": [
      "completed installing aenet-gpr\n",
      "Name: aenet-gpr\n",
      "Version: 2.6.6\n",
      "Summary: Atomistic simulation tools based on Gaussian Processes Regression\n",
      "Home-page: https://github.com/atomisticnet/aenet-gpr\n",
      "Author: In Won Yeu\n",
      "Author-email: iy2185@columbia.edu\n",
      "License: MPL-2.0\n",
      "Location: /data/home/iy2185/.local/lib/python3.12/site-packages\n",
      "Requires: ase\n",
      "Required-by: \n"
     ]
    }
   ],
   "source": [
    "!! pip install aenet-gpr --user --upgrade\n",
    "print(\"completed installing aenet-gpr\")\n",
    "\n",
    "! pip show aenet-gpr"
   ]
  },
  {
   "cell_type": "code",
   "execution_count": 45,
   "id": "e3f29ed5-bd6a-45d2-9593-c8b4a254a162",
   "metadata": {},
   "outputs": [],
   "source": [
    "from aenet_gpr.tool.aidneb import AIDNEB\n",
    "from aenet_gpr.inout.input_parameter import InputParameters"
   ]
  },
  {
   "cell_type": "code",
   "execution_count": 46,
   "id": "f97a82ef-89ca-48aa-9d51-50b25d5c12db",
   "metadata": {},
   "outputs": [],
   "source": [
    "neb_interpol = \"idpp\"  # \"linear\", \"idpp\", path to trajectory file\n",
    "neb_n_images = 5  # total images including initial and final\n",
    "use_mic = False"
   ]
  },
  {
   "cell_type": "code",
   "execution_count": 47,
   "id": "08b338a7-4ea6-4316-9635-cb33d2ee17d8",
   "metadata": {},
   "outputs": [],
   "source": [
    "initial = read('initial.traj')\n",
    "final = read('final.traj')"
   ]
  },
  {
   "cell_type": "code",
   "execution_count": 48,
   "id": "6d80dccf-ad22-4098-98b8-a45ce93621aa",
   "metadata": {},
   "outputs": [],
   "source": [
    "calc = EMT()"
   ]
  },
  {
   "cell_type": "code",
   "execution_count": 49,
   "id": "cba11dec-0bdc-4532-a40b-74a15b7d9b11",
   "metadata": {},
   "outputs": [
    {
     "name": "stdout",
     "output_type": "stream",
     "text": [
      "\n",
      "Distance between initial and final:  2.864235082465442\n",
      "spring_constant:  0.139653341462354\n"
     ]
    }
   ],
   "source": [
    "input_param = InputParameters()\n",
    "\n",
    "neb = AIDNEB(start=initial,\n",
    "             end=final,\n",
    "             interpolation=neb_interpol,\n",
    "             n_images=neb_n_images,\n",
    "             mic=use_mic,\n",
    "             calculator=copy.deepcopy(calc),\n",
    "             use_previous_observations=True,\n",
    "             input_param=input_param)"
   ]
  },
  {
   "cell_type": "code",
   "execution_count": 50,
   "id": "2ae31a18-bf55-4083-97c7-5ad04df00f8f",
   "metadata": {},
   "outputs": [
    {
     "name": "stdout",
     "output_type": "stream",
     "text": [
      "[INFO] Number of initial training data: 3 including initial and final\n",
      "[INFO] Adding training image at NEB index 2\n",
      "Training data size:  3\n",
      "Descriptor:  cartesian coordinates\n",
      "r_min (threshold to avoid adding nearly-duplicate training data): 0.10\n",
      "GPR model hyperparameters:  {'kerneltype': 'sqexp', 'scale': tensor(0.4000, dtype=torch.float64), 'weight': tensor(1., dtype=torch.float64), 'noise': tensor(1.0000e-06, dtype=torch.float64), 'noisefactor': tensor(0.5000, dtype=torch.float64), 'prior': tensor(3.6276, dtype=torch.float64)}\n",
      "       Step     Time          Energy          fmax\n",
      "MDMin:    0 18:28:10        4.254555        3.670245\n",
      "MDMin:    1 18:28:11        4.118672        3.718844\n",
      "MDMin:    2 18:28:12        3.708886        3.584573\n",
      "MDMin:    3 18:28:13        3.635581        2.589031\n",
      "MDMin:    4 18:28:14        3.585627        0.745506\n",
      "MDMin:    5 18:28:15        3.506352        0.471079\n",
      "MDMin:    6 18:28:16        3.473509        0.269125\n",
      "MDMin:    7 18:28:17        3.457975        0.083756\n",
      "MDMin:    8 18:28:18        3.454863        0.269168\n",
      "MDMin:    9 18:28:18        3.454863        0.249699\n",
      "MDMin:   10 18:28:19        3.454863        0.194665\n",
      "MDMin:   11 18:28:19        3.454863        0.113386\n",
      "MDMin:   12 18:28:19        3.454863        0.015711\n",
      "--------------------------------------------------------\n",
      "Step: 1\n",
      "Time: 10/19/2025, 18:28:19\n",
      "Predicted barrier (-->): 0.14012353817545709\n",
      "Predicted barrier (<--): 0.14037232434436575\n",
      "Number of images: 5\n",
      "Max. uncertainty: 0.8892938359201058\n",
      "Max. force: 0.01571114450063441\n",
      "--------------------------------------------------------\n",
      "\n",
      "Training data size:  4\n",
      "Descriptor:  cartesian coordinates\n",
      "r_min (threshold to avoid adding nearly-duplicate training data): 0.10\n",
      "GPR model hyperparameters:  {'kerneltype': 'sqexp', 'scale': tensor(0.4000, dtype=torch.float64), 'weight': tensor(1., dtype=torch.float64), 'noise': tensor(1.0000e-06, dtype=torch.float64), 'noisefactor': tensor(0.5000, dtype=torch.float64), 'prior': tensor(3.7223, dtype=torch.float64)}\n",
      "       Step     Time          Energy          fmax\n",
      "MDMin:    0 18:28:21        3.714031        1.133308\n",
      "MDMin:    1 18:28:22        3.699106        1.119765\n",
      "MDMin:    2 18:28:23        3.655560        1.065652\n",
      "MDMin:    3 18:28:24        3.588717        0.934189\n",
      "MDMin:    4 18:28:25        3.512273        0.685073\n",
      "MDMin:    5 18:28:26        3.509643        0.367055\n",
      "MDMin:    6 18:28:26        3.509643        0.175458\n",
      "MDMin:    7 18:28:26        3.509643        0.112635\n",
      "MDMin:    8 18:28:27        3.509643        0.050459\n",
      "MDMin:    9 18:28:27        3.509643        0.044378\n",
      "--------------------------------------------------------\n",
      "Step: 2\n",
      "Time: 10/19/2025, 18:28:27\n",
      "Predicted barrier (-->): 0.19490386595694886\n",
      "Predicted barrier (<--): 0.19515265212585753\n",
      "Number of images: 5\n",
      "Max. uncertainty: 0.8869478255865456\n",
      "Max. force: 0.04437760584887109\n",
      "--------------------------------------------------------\n",
      "\n",
      "Training data size:  5\n",
      "Descriptor:  cartesian coordinates\n",
      "r_min (threshold to avoid adding nearly-duplicate training data): 0.10\n",
      "GPR model hyperparameters:  {'kerneltype': 'sqexp', 'scale': tensor(0.4000, dtype=torch.float64), 'weight': tensor(1., dtype=torch.float64), 'noise': tensor(1.0000e-06, dtype=torch.float64), 'noisefactor': tensor(0.5000, dtype=torch.float64), 'prior': tensor(3.7906, dtype=torch.float64)}\n",
      "       Step     Time          Energy          fmax\n",
      "MDMin:    0 18:28:29        3.704762        1.106678\n",
      "MDMin:    1 18:28:30        3.690115        1.090704\n",
      "MDMin:    2 18:28:31        3.647692        1.030181\n",
      "MDMin:    3 18:28:31        3.583553        0.891520\n",
      "MDMin:    4 18:28:32        3.511863        0.640027\n",
      "MDMin:    5 18:28:32        3.454537        0.330768\n",
      "MDMin:    6 18:28:33        3.427759        0.151319\n",
      "MDMin:    7 18:28:33        3.419119        0.089737\n",
      "MDMin:    8 18:28:34        3.418370        0.040008\n",
      "--------------------------------------------------------\n",
      "Step: 3\n",
      "Time: 10/19/2025, 18:28:34\n",
      "Predicted barrier (-->): 0.10363018197135654\n",
      "Predicted barrier (<--): 0.1038789681402652\n",
      "Number of images: 5\n",
      "Max. uncertainty: 0.5234618047008794\n",
      "Max. force: 0.04000787359711647\n",
      "--------------------------------------------------------\n",
      "\n",
      "Training data size:  6\n",
      "Descriptor:  cartesian coordinates\n",
      "r_min (threshold to avoid adding nearly-duplicate training data): 0.10\n",
      "GPR model hyperparameters:  {'kerneltype': 'sqexp', 'scale': tensor(0.4000, dtype=torch.float64), 'weight': tensor(1., dtype=torch.float64), 'noise': tensor(1.0000e-06, dtype=torch.float64), 'noisefactor': tensor(0.5000, dtype=torch.float64), 'prior': tensor(3.9901, dtype=torch.float64)}\n",
      "       Step     Time          Energy          fmax\n",
      "MDMin:    0 18:28:36        3.894395        1.185789\n",
      "MDMin:    1 18:28:37        3.874426        1.178946\n",
      "MDMin:    2 18:28:38        3.815733        1.125898\n",
      "MDMin:    3 18:28:38        3.728993        0.928598\n",
      "MDMin:    4 18:28:39        3.651786        0.467051\n",
      "MDMin:    5 18:28:40        3.638596        0.411638\n",
      "MDMin:    6 18:28:41        3.637384        0.376839\n",
      "MDMin:    7 18:28:42        3.634624        0.282397\n",
      "MDMin:    8 18:28:43        3.632145        0.162584\n",
      "MDMin:    9 18:28:44        3.630671        0.079602\n",
      "MDMin:   10 18:28:45        3.629424        0.064067\n",
      "MDMin:   11 18:28:45        3.628222        0.050653\n",
      "MDMin:   12 18:28:46        3.627277        0.032577\n",
      "--------------------------------------------------------\n",
      "Step: 4\n",
      "Time: 10/19/2025, 18:28:46\n",
      "Predicted barrier (-->): 0.3125375949226785\n",
      "Predicted barrier (<--): 0.3127863810915872\n",
      "Number of images: 5\n",
      "Max. uncertainty: 0.2648584968669151\n",
      "Max. force: 0.03257678825173481\n",
      "--------------------------------------------------------\n",
      "\n",
      "Training data size:  7\n",
      "Descriptor:  cartesian coordinates\n",
      "r_min (threshold to avoid adding nearly-duplicate training data): 0.10\n",
      "GPR model hyperparameters:  {'kerneltype': 'sqexp', 'scale': tensor(0.4000, dtype=torch.float64), 'weight': tensor(1., dtype=torch.float64), 'noise': tensor(1.0000e-06, dtype=torch.float64), 'noisefactor': tensor(0.5000, dtype=torch.float64), 'prior': tensor(4.0420, dtype=torch.float64)}\n",
      "       Step     Time          Energy          fmax\n",
      "MDMin:    0 18:28:48        3.629939        0.539441\n",
      "MDMin:    1 18:28:49        3.629939        0.510827\n",
      "MDMin:    2 18:28:49        3.629939        0.427666\n",
      "MDMin:    3 18:28:50        3.629939        0.300881\n",
      "MDMin:    4 18:28:51        3.629939        0.158566\n",
      "MDMin:    5 18:28:51        3.629939        0.070350\n",
      "MDMin:    6 18:28:52        3.629939        0.014810\n",
      "--------------------------------------------------------\n",
      "Step: 5\n",
      "Time: 10/19/2025, 18:28:52\n",
      "Predicted barrier (-->): 0.31519986909026754\n",
      "Predicted barrier (<--): 0.3154486552591762\n",
      "Number of images: 5\n",
      "Max. uncertainty: 0.2549953200729103\n",
      "Max. force: 0.01480973269611973\n",
      "--------------------------------------------------------\n",
      "\n",
      "Training data size:  8\n",
      "Descriptor:  cartesian coordinates\n",
      "r_min (threshold to avoid adding nearly-duplicate training data): 0.10\n",
      "GPR model hyperparameters:  {'kerneltype': 'sqexp', 'scale': tensor(0.4000, dtype=torch.float64), 'weight': tensor(1., dtype=torch.float64), 'noise': tensor(1.0000e-06, dtype=torch.float64), 'noisefactor': tensor(0.5000, dtype=torch.float64), 'prior': tensor(4.0835, dtype=torch.float64)}\n",
      "       Step     Time          Energy          fmax\n",
      "MDMin:    0 18:28:54        3.631973        0.522872\n",
      "MDMin:    1 18:28:54        3.631973        0.494777\n",
      "MDMin:    2 18:28:55        3.631973        0.413244\n",
      "MDMin:    3 18:28:55        3.631973        0.288995\n",
      "MDMin:    4 18:28:56        3.631973        0.149325\n",
      "MDMin:    5 18:28:56        3.631973        0.062859\n",
      "MDMin:    6 18:28:57        3.631973        0.011688\n",
      "--------------------------------------------------------\n",
      "Step: 6\n",
      "Time: 10/19/2025, 18:28:57\n",
      "Predicted barrier (-->): 0.3172337455197298\n",
      "Predicted barrier (<--): 0.3174825316886385\n",
      "Number of images: 5\n",
      "Max. uncertainty: 0.08482865451245478\n",
      "Max. force: 0.011688393942492385\n",
      "--------------------------------------------------------\n",
      "\n",
      "Training data size:  9\n",
      "Descriptor:  cartesian coordinates\n",
      "r_min (threshold to avoid adding nearly-duplicate training data): 0.10\n",
      "GPR model hyperparameters:  {'kerneltype': 'sqexp', 'scale': tensor(0.4000, dtype=torch.float64), 'weight': tensor(1., dtype=torch.float64), 'noise': tensor(1.0000e-06, dtype=torch.float64), 'noisefactor': tensor(0.5000, dtype=torch.float64), 'prior': tensor(4.1056, dtype=torch.float64)}\n",
      "       Step     Time          Energy          fmax\n",
      "MDMin:    0 18:28:59        3.694376        0.120563\n",
      "MDMin:    1 18:28:59        3.694150        0.115235\n",
      "MDMin:    2 18:29:00        3.693547        0.100372\n",
      "MDMin:    3 18:29:00        3.692753        0.079984\n",
      "MDMin:    4 18:29:00        3.691947        0.060776\n",
      "MDMin:    5 18:29:01        3.691211        0.048097\n",
      "--------------------------------------------------------\n",
      "Step: 7\n",
      "Time: 10/19/2025, 18:29:01\n",
      "Predicted barrier (-->): 0.3764710338933992\n",
      "Predicted barrier (<--): 0.37671982006230786\n",
      "Number of images: 5\n",
      "Max. uncertainty: 0.021722954804565316\n",
      "Max. force: 0.04809742934741222\n",
      "--------------------------------------------------------\n",
      "\n",
      "Training data size:  10\n",
      "Descriptor:  cartesian coordinates\n",
      "r_min (threshold to avoid adding nearly-duplicate training data): 0.10\n",
      "GPR model hyperparameters:  {'kerneltype': 'sqexp', 'scale': tensor(0.4000, dtype=torch.float64), 'weight': tensor(1., dtype=torch.float64), 'noise': tensor(1.0000e-06, dtype=torch.float64), 'noisefactor': tensor(0.5000, dtype=torch.float64), 'prior': tensor(4.0942, dtype=torch.float64)}\n",
      "       Step     Time          Energy          fmax\n",
      "MDMin:    0 18:29:03        3.691196        0.109752\n",
      "MDMin:    1 18:29:03        3.691196        0.106719\n",
      "MDMin:    2 18:29:04        3.691196        0.098085\n",
      "MDMin:    3 18:29:04        3.691196        0.085857\n",
      "MDMin:    4 18:29:04        3.691196        0.073104\n",
      "MDMin:    5 18:29:05        3.691196        0.068122\n",
      "MDMin:    6 18:29:05        3.691196        0.066386\n",
      "MDMin:    7 18:29:05        3.691196        0.063487\n",
      "MDMin:    8 18:29:06        3.691196        0.060028\n",
      "MDMin:    9 18:29:06        3.691196        0.056254\n",
      "MDMin:   10 18:29:06        3.691196        0.052141\n",
      "MDMin:   11 18:29:07        3.691196        0.048101\n",
      "--------------------------------------------------------\n",
      "Step: 8\n",
      "Time: 10/19/2025, 18:29:07\n",
      "Predicted barrier (-->): 0.37645654899864534\n",
      "Predicted barrier (<--): 0.376705335167554\n",
      "Number of images: 5\n",
      "Max. uncertainty: 0.019573005005188167\n",
      "Max. force: 0.048101283209040356\n",
      "--------------------------------------------------------\n",
      "\n",
      "A saddle point was found.\n",
      "Uncertainty of the images below threshold.\n",
      "NEB converged.\n",
      "The NEB path can be found in: AIDNEB.traj\n",
      "Visualize the last path using 'ase gui AIDNEB.traj\n",
      "\n",
      "-------------------------------------------------------------------------------\n",
      "You are using GPR-accelerated NEB. Please cite: \n",
      "[1] J. A. Garrido Torres, P. C. Jennings, M. H. Hansen, J. R. Boes, and T. Bligaard, Phys. Rev. Lett. 122, 156001 (2019). https://doi.org/10.1103/PhysRevLett.122.156001 \n",
      "[2] O. Koistinen, F. B. Dagbjartsdóttir, V. Ásgeirsson, A. Vehtari, and H. Jónsson, J. Chem. Phys. 147, 152720 (2017). https://doi.org/10.1063/1.4986787 \n",
      "[3] E. Garijo del Río, J. J. Mortensen, and K. W. Jacobsen, Phys. Rev. B 100, 104103 (2019). https://doi.org/10.1103/PhysRevB.100.104103. \n",
      "[4] I. W. Yeu, A. Stuke, J. López-Zorrilla, J. M Stevenson, D. R Reichman, R. A Friesner, A. Urban, and N. Artrith, npj Computational Materials 11, 156 (2025).https://doi.org/10.1038/s41524-025-01651-0. \n",
      "-------------------------------------------------------------------------------\n",
      "\n"
     ]
    }
   ],
   "source": [
    "neb.run(fmax=0.05, check_ref_force=False, climbing=False)"
   ]
  },
  {
   "cell_type": "markdown",
   "id": "9f45ecbd-b93a-4fac-91fb-c1ed617853e9",
   "metadata": {},
   "source": [
    "## Total number of reference calculations \n",
    "\n",
    "- Normal NEB: NEB steps $\\times$ number of moving images = 32 $\\times$ 3 = 96\n",
    "- GPR-aided NEB: Training data $-$ initial and final images = 10 - 2 = 8"
   ]
  },
  {
   "cell_type": "code",
   "execution_count": 51,
   "id": "032d406a-20f0-4d26-ad4a-098749196ef3",
   "metadata": {},
   "outputs": [
    {
     "data": {
      "image/png": "[encoded data removed]",
      "text/plain": [
       "<Figure size 550x400 with 1 Axes>"
      ]
     },
     "metadata": {},
     "output_type": "display_data"
    }
   ],
   "source": [
    "images = read('AIDNEB.traj@-5:')\n",
    "\n",
    "nebtools = NEBTools(images)\n",
    "\n",
    "# Create a figure with custom parameters.\n",
    "fig = plt.figure(figsize=(5.5, 4.0))\n",
    "ax = fig.add_axes((0.15, 0.15, 0.8, 0.75))\n",
    "nebtools.plot_band(ax)\n",
    "fig.savefig('diffusion-barrier.png')"
   ]
  },
  {
   "cell_type": "code",
   "execution_count": null,
   "id": "3c1bbdd9-9747-44a1-8519-666356045449",
   "metadata": {},
   "outputs": [],
   "source": []
  }
 ],
 "metadata": {
  "kernelspec": {
   "display_name": "Python 3",
   "language": "python",
   "name": "python3"
  },
  "language_info": {
   "codemirror_mode": {
    "name": "ipython",
    "version": 3
   },
   "file_extension": ".py",
   "mimetype": "text/x-python",
   "name": "python",
   "nbconvert_exporter": "python",
   "pygments_lexer": "ipython3",
   "version": "3.12.2"
  }
 },
 "nbformat": 4,
 "nbformat_minor": 5
}
