{
 "cells": [
  {
   "cell_type": "markdown",
   "id": "5dccf2b3-cf12-43c8-acff-96b1d4764c59",
   "metadata": {},
   "source": [
    "# GPR-Accelerated NEB Tutorial\n",
    "\n",
    "This tutorial demonstrates how to use `aenet-gpr` for **GPR-accelerated Nudged Elastic Band (NEB) calculations**, which accelerates the demanding NEB calculations for transition state search.\n",
    "\n",
    "GPR-NEB references:\n",
    "- [J. A. Garrido Torres, P. C. Jennings, M. H. Hansen, J. R. Boes, and T. Bligaard, “Low-Scaling Algorithm for Nudged Elastic Band Calculations Using a Surrogate Machine Learning Model”, *Phys. Rev. Lett.* 122, 156001 (2019).](https://doi.org/10.1103/PhysRevLett.122.156001)\n",
    "- [O. Koistinen, F. B. Dagbjartsdóttir, V. Ásgeirsson, A. Vehtari, and H. Jónsson, \"Nudged elastic band calculations accelerated with Gaussian process regression\", *J. Chem. Phys.* 147, 152720 (2017)](https://doi.org/10.1063/1.4986787)\n",
    "\n",
    "In this example, we use a simple **EMT potential** as the reference calculator. However, the same framework is fully compatible with any [ASE-compatible DFT calculators](https://wiki.fysik.dtu.dk/ase/ase/calculators/calculators.html).\n",
    "\n",
    "Replacing the reference with a DFT calculator allows GPR-NEB to reproduce **transition states** on a DFT-level potential energy surface (PES), with **significantly fewer expensive DFT evaluations** than standard NEB."
   ]
  },
  {
   "cell_type": "markdown",
   "id": "114e60a4-3ea3-46cc-a098-e84decd429c9",
   "metadata": {},
   "source": [
    "# ===== Preparation ====="
   ]
  },
  {
   "attachments": {},
   "cell_type": "markdown",
   "id": "919cb78c-0660-4292-a684-b580259765e8",
   "metadata": {},
   "source": [
    "## Reference calculator: Effective Medium Theory (EMT)"
   ]
  },
  {
   "cell_type": "code",
   "execution_count": 1,
   "id": "359a5709-4e36-4e73-81c0-329a2a6b9b7d",
   "metadata": {},
   "outputs": [
    {
     "name": "stdout",
     "output_type": "stream",
     "text": [
      "successfully imported ase\n"
     ]
    }
   ],
   "source": [
    "try:\n",
    "    import ase.io\n",
    "    print(\"successfully imported ase\")\n",
    "except ImportError:\n",
    "    !! pip install ase --user --upgrade\n",
    "    print(\"completed installing ASE\")"
   ]
  },
  {
   "cell_type": "code",
   "execution_count": 2,
   "id": "a78de6ac-892a-43f1-9206-4075019449cd",
   "metadata": {},
   "outputs": [
    {
     "name": "stdout",
     "output_type": "stream",
     "text": [
      "You are all set for the tutorial.\n"
     ]
    }
   ],
   "source": [
    "try:\n",
    "    from ase.build import add_adsorbate, fcc100\n",
    "    from ase.calculators.emt import EMT\n",
    "    from ase.constraints import FixAtoms\n",
    "    from ase.optimize import QuasiNewton, BFGS, MDMin, FIRE\n",
    "    print(\"You are all set for the tutorial.\")\n",
    "except ImportError:\n",
    "    print(\"The notebook needs to be restarted. Run this cell again once the restart is done.\")\n",
    "    import os\n",
    "    os.kill(os.getpid(), 9)\n",
    "\n",
    "from IPython.display import Image\n",
    "import copy\n",
    "import numpy as np"
   ]
  },
  {
   "cell_type": "code",
   "execution_count": 3,
   "id": "7d54a036-d68c-4a8f-965a-2671b6eafca4",
   "metadata": {},
   "outputs": [],
   "source": [
    "# 2x2-Al(001) surface with 3 layers and an\n",
    "# Au atom adsorbed in a hollow site:\n",
    "slab = fcc100('Al', size=(2, 2, 3))\n",
    "add_adsorbate(slab, 'Au', 1.7, 'hollow')\n",
    "slab.center(axis=2, vacuum=4.0)"
   ]
  },
  {
   "cell_type": "code",
   "execution_count": 4,
   "id": "83c30b52-62d9-44a5-a3f9-8e7666c1206e",
   "metadata": {},
   "outputs": [],
   "source": [
    "# Fix second and third layers:\n",
    "mask = [atom.tag > 1 for atom in slab]\n",
    "# print(mask)\n",
    "slab.set_constraint(FixAtoms(mask=mask))"
   ]
  },
  {
   "cell_type": "code",
   "execution_count": 5,
   "id": "113823b4-9f31-4fcd-9b0c-12c6a8c6305c",
   "metadata": {},
   "outputs": [],
   "source": [
    "# Use EMT potential:\n",
    "slab.calc = EMT()"
   ]
  },
  {
   "cell_type": "code",
   "execution_count": 6,
   "id": "4db677af-e64a-490b-9972-12deeadf6c49",
   "metadata": {},
   "outputs": [
    {
     "name": "stdout",
     "output_type": "stream",
     "text": [
      "      Step     Time          Energy          fmax\n",
      "BFGS:    0 00:31:34        3.323870        0.246170\n",
      "BFGS:    1 00:31:34        3.321365        0.203512\n",
      "BFGS:    2 00:31:34        3.314740        0.020557\n"
     ]
    },
    {
     "data": {
      "text/plain": [
       "True"
      ]
     },
     "execution_count": 6,
     "metadata": {},
     "output_type": "execute_result"
    }
   ],
   "source": [
    "# Initial state:\n",
    "qn = BFGS(slab, trajectory='initial.traj')\n",
    "qn.run(fmax=0.05)"
   ]
  },
  {
   "cell_type": "code",
   "execution_count": 7,
   "id": "2b53499f-cc5f-4711-8498-83dac2b9458f",
   "metadata": {},
   "outputs": [
    {
     "data": {
      "image/png": "[encoded data removed]",
      "text/plain": [
       "<IPython.core.display.Image object>"
      ]
     },
     "execution_count": 7,
     "metadata": {},
     "output_type": "execute_result"
    }
   ],
   "source": [
    "import ase\n",
    "\n",
    "\n",
    "atoms = ase.io.read('initial.traj')\n",
    "ase.io.write('initial.png', atoms)\n",
    "Image(\"initial.png\")"
   ]
  },
  {
   "cell_type": "code",
   "execution_count": 8,
   "id": "7c8c3b5c-6c05-48ab-9183-423fa74875f4",
   "metadata": {},
   "outputs": [
    {
     "name": "stdout",
     "output_type": "stream",
     "text": [
      "      Step     Time          Energy          fmax\n",
      "BFGS:    0 00:31:35        3.320046        0.123468\n",
      "BFGS:    1 00:31:35        3.319145        0.111073\n",
      "BFGS:    2 00:31:35        3.315607        0.074162\n",
      "BFGS:    3 00:31:35        3.315469        0.075507\n",
      "BFGS:    4 00:31:35        3.314645        0.052638\n",
      "BFGS:    5 00:31:35        3.314491        0.027698\n"
     ]
    },
    {
     "data": {
      "text/plain": [
       "True"
      ]
     },
     "execution_count": 8,
     "metadata": {},
     "output_type": "execute_result"
    }
   ],
   "source": [
    "# Final state:\n",
    "slab[-1].x += slab.get_cell()[0, 0] / 2\n",
    "qn = BFGS(slab, trajectory='final.traj')\n",
    "qn.run(fmax=0.05)"
   ]
  },
  {
   "cell_type": "code",
   "execution_count": 9,
   "id": "be61ddea-efba-4948-b58e-7b88b57a13db",
   "metadata": {},
   "outputs": [
    {
     "data": {
      "image/png": "[encoded data removed]",
      "text/plain": [
       "<IPython.core.display.Image object>"
      ]
     },
     "execution_count": 9,
     "metadata": {},
     "output_type": "execute_result"
    }
   ],
   "source": [
    "atoms = ase.io.read('final.traj')\n",
    "ase.io.write('final.png', atoms)\n",
    "Image(\"final.png\")"
   ]
  },
  {
   "cell_type": "markdown",
   "id": "111e2c41-8745-4ae1-baa1-d406d1dc3e3e",
   "metadata": {},
   "source": [
    "# ===== Conventional NEB ====="
   ]
  },
  {
   "cell_type": "code",
   "execution_count": 10,
   "id": "e1efa647-058f-430a-a299-c2daea998f58",
   "metadata": {},
   "outputs": [],
   "source": [
    "from ase.calculators.emt import EMT\n",
    "from ase.constraints import FixAtoms\n",
    "from ase.io import read\n",
    "from ase.mep import NEB"
   ]
  },
  {
   "cell_type": "code",
   "execution_count": 11,
   "id": "69dcc8b5-c986-44e3-bf0b-8215dd08ed8d",
   "metadata": {},
   "outputs": [],
   "source": [
    "initial = read('initial.traj')\n",
    "final = read('final.traj')"
   ]
  },
  {
   "cell_type": "code",
   "execution_count": 12,
   "id": "9ee85c1e-4d62-4171-a54b-6aef1bf5ecbb",
   "metadata": {},
   "outputs": [],
   "source": [
    "constraint = FixAtoms(mask=[atom.tag > 1 for atom in initial])"
   ]
  },
  {
   "cell_type": "code",
   "execution_count": 13,
   "id": "8619e92a-dbc9-4387-b19d-c81ddc332cdd",
   "metadata": {},
   "outputs": [],
   "source": [
    "images = [initial]\n",
    "for i in range(5):\n",
    "    image = initial.copy()\n",
    "    image.calc = EMT()\n",
    "    image.set_constraint(constraint)\n",
    "    images.append(image)\n",
    "\n",
    "images.append(final)"
   ]
  },
  {
   "cell_type": "code",
   "execution_count": 14,
   "id": "31b975aa-9200-44d6-bc13-ebbe9a91c9d4",
   "metadata": {},
   "outputs": [
    {
     "name": "stdout",
     "output_type": "stream",
     "text": [
      "      Step     Time          Energy          fmax\n",
      "FIRE:    0 00:31:36        4.254555        3.670245\n",
      "FIRE:    1 00:31:36        4.024620        2.636978\n",
      "FIRE:    2 00:31:36        3.790869        1.233507\n",
      "FIRE:    3 00:31:36        3.712369        0.284014\n",
      "FIRE:    4 00:31:36        3.765949        0.738334\n",
      "FIRE:    5 00:31:37        3.762147        0.718966\n",
      "FIRE:    6 00:31:37        3.754943        0.680504\n",
      "FIRE:    7 00:31:37        3.745105        0.623515\n",
      "FIRE:    8 00:31:37        3.733711        0.548896\n",
      "FIRE:    9 00:31:37        3.722050        0.457986\n",
      "FIRE:   10 00:31:37        3.711497        0.352824\n",
      "FIRE:   11 00:31:37        3.703339        0.236916\n",
      "FIRE:   12 00:31:37        3.698253        0.166643\n",
      "FIRE:   13 00:31:37        3.697729        0.195898\n",
      "FIRE:   14 00:31:37        3.701253        0.350820\n",
      "FIRE:   15 00:31:37        3.701012        0.345572\n",
      "FIRE:   16 00:31:37        3.700548        0.335197\n",
      "FIRE:   17 00:31:37        3.699887        0.319936\n",
      "FIRE:   18 00:31:37        3.699072        0.300150\n",
      "FIRE:   19 00:31:38        3.698153        0.276307\n",
      "FIRE:   20 00:31:38        3.697186        0.248980\n",
      "FIRE:   21 00:31:38        3.696225        0.218833\n",
      "FIRE:   22 00:31:38        3.695234        0.183105\n",
      "FIRE:   23 00:31:38        3.694292        0.141940\n",
      "FIRE:   24 00:31:38        3.693498        0.107559\n",
      "FIRE:   25 00:31:38        3.692942        0.102577\n",
      "FIRE:   26 00:31:38        3.692664        0.096505\n",
      "FIRE:   27 00:31:38        3.692599        0.090527\n",
      "FIRE:   28 00:31:38        3.692564        0.111111\n",
      "FIRE:   29 00:31:38        3.692324        0.119568\n",
      "FIRE:   30 00:31:38        3.691701        0.112559\n",
      "FIRE:   31 00:31:38        3.690718        0.087880\n",
      "FIRE:   32 00:31:38        3.689710        0.046336\n"
     ]
    },
    {
     "data": {
      "text/plain": [
       "True"
      ]
     },
     "execution_count": 14,
     "metadata": {},
     "output_type": "execute_result"
    }
   ],
   "source": [
    "neb = NEB(images)\n",
    "neb.interpolate()\n",
    "qn = FIRE(neb, trajectory='neb.traj')\n",
    "qn.run(fmax=0.05)"
   ]
  },
  {
   "cell_type": "markdown",
   "id": "7026aee5-1a9a-4795-9e65-246924dc4841",
   "metadata": {},
   "source": [
    "# Total reference calculations = NEB steps $\\times$ number of moving images = 33 $\\times$ 5 = 165"
   ]
  },
  {
   "cell_type": "code",
   "execution_count": 15,
   "id": "390f8644-8567-4b48-a645-dcdd8dcaadc8",
   "metadata": {},
   "outputs": [
    {
     "data": {
      "image/png": "[encoded data removed]",
      "text/plain": [
       "<Figure size 550x400 with 1 Axes>"
      ]
     },
     "metadata": {},
     "output_type": "display_data"
    }
   ],
   "source": [
    "import matplotlib.pyplot as plt\n",
    "\n",
    "from ase.io import read\n",
    "from ase.mep import NEBTools\n",
    "\n",
    "images = read('neb.traj@-7:')\n",
    "\n",
    "nebtools = NEBTools(images)\n",
    "\n",
    "# Create a figure with custom parameters.\n",
    "fig = plt.figure(figsize=(5.5, 4.0))\n",
    "ax = fig.add_axes((0.15, 0.15, 0.8, 0.75))\n",
    "nebtools.plot_band(ax)\n",
    "fig.savefig('diffusion-barrier.png')"
   ]
  },
  {
   "cell_type": "markdown",
   "id": "f8eda25e-36a6-4ff8-9e1b-7242add8e80e",
   "metadata": {},
   "source": [
    "# ===== aenet-GPR accelerated NEB ====="
   ]
  },
  {
   "cell_type": "markdown",
   "id": "755f750d-c2d0-4e9d-903f-8cf41145fa76",
   "metadata": {},
   "source": [
    "### Reference calculator: Effective Medium Theory (EMT)\n",
    "### Surrogate calculator: aenet-gpr (GPR)"
   ]
  },
  {
   "cell_type": "code",
   "execution_count": 16,
   "id": "83c09a3a-57c1-49fd-9ab3-6ac10171c8aa",
   "metadata": {},
   "outputs": [
    {
     "name": "stdout",
     "output_type": "stream",
     "text": [
      "successfully imported torch\n",
      "2.6.0+cu124\n"
     ]
    }
   ],
   "source": [
    "try:\n",
    "    import torch\n",
    "    print(\"successfully imported torch\")\n",
    "    print(torch.__version__)\n",
    "except ImportError:\n",
    "    !! pip install torch torchvision torchaudio --user --index-url https://download.pytorch.org/whl/cpu\n",
    "    print(\"completed installing torch\")"
   ]
  },
  {
   "cell_type": "code",
   "execution_count": 17,
   "id": "b4c3accc-eb4c-4028-a2d6-3c3d524a9d03",
   "metadata": {},
   "outputs": [
    {
     "name": "stdout",
     "output_type": "stream",
     "text": [
      "completed installing aenet-gpr\n",
      "Name: aenet-gpr\n",
      "Version: 1.8.8\n",
      "Summary: Atomistic simulation tools based on Gaussian Processes Regression\n",
      "Home-page: https://github.com/atomisticnet/aenet-gpr\n",
      "Author: In Won Yeu\n",
      "Author-email: iy2185@columbia.edu\n",
      "License: MPL-2.0\n",
      "Location: /data/home/iy2185/.local/lib/python3.12/site-packages\n",
      "Requires: ase, chemcoord, dscribe\n",
      "Required-by: \n"
     ]
    }
   ],
   "source": [
    "!! pip install aenet-gpr --user --upgrade\n",
    "print(\"completed installing aenet-gpr\")\n",
    "\n",
    "! pip show aenet-gpr"
   ]
  },
  {
   "cell_type": "code",
   "execution_count": 18,
   "id": "e3f29ed5-bd6a-45d2-9593-c8b4a254a162",
   "metadata": {},
   "outputs": [],
   "source": [
    "from aenet_gpr.tool.aidneb import AIDNEB\n",
    "from aenet_gpr.inout.input_parameter import InputParameters"
   ]
  },
  {
   "cell_type": "code",
   "execution_count": 19,
   "id": "f97a82ef-89ca-48aa-9d51-50b25d5c12db",
   "metadata": {},
   "outputs": [],
   "source": [
    "neb_F_max = 0.05  # cretirian of the force for the convergence.\n",
    "neb_interpol = \"idpp\"  # \"linear\", \"idpp\", path to trajectory file\n",
    "neb_n_images = 7  # total images including initial and final\n",
    "use_mic = False"
   ]
  },
  {
   "cell_type": "code",
   "execution_count": 20,
   "id": "08b338a7-4ea6-4316-9635-cb33d2ee17d8",
   "metadata": {},
   "outputs": [],
   "source": [
    "initial = read('initial.traj')\n",
    "final = read('final.traj')"
   ]
  },
  {
   "cell_type": "code",
   "execution_count": 21,
   "id": "6d80dccf-ad22-4098-98b8-a45ce93621aa",
   "metadata": {},
   "outputs": [],
   "source": [
    "calc = EMT()"
   ]
  },
  {
   "cell_type": "code",
   "execution_count": 24,
   "id": "cba11dec-0bdc-4532-a40b-74a15b7d9b11",
   "metadata": {},
   "outputs": [
    {
     "name": "stdout",
     "output_type": "stream",
     "text": [
      "d_start_end:  2.864235082465442\n",
      "spring_constant:  0.1\n"
     ]
    }
   ],
   "source": [
    "input_param = InputParameters()\n",
    "\n",
    "neb = AIDNEB(start=initial,\n",
    "             end=final,\n",
    "             interpolation=neb_interpol,\n",
    "             n_images=neb_n_images,\n",
    "             mic=use_mic,\n",
    "             calculator=copy.deepcopy(calc),\n",
    "             use_previous_observations=True,\n",
    "             input_param=input_param)"
   ]
  },
  {
   "cell_type": "code",
   "execution_count": 25,
   "id": "2ae31a18-bf55-4083-97c7-5ad04df00f8f",
   "metadata": {},
   "outputs": [
    {
     "name": "stdout",
     "output_type": "stream",
     "text": [
      "Training data size:  3\n",
      "Descriptor:  cartesian coordinates\n",
      "GPR model hyperparameters:  {'kerneltype': 'sqexp', 'scale': tensor(0.4000, dtype=torch.float64), 'weight': tensor(1., dtype=torch.float64), 'noise': tensor(1.0000e-06, dtype=torch.float64), 'noisefactor': tensor(0.5000, dtype=torch.float64), 'prior': tensor(3.5489, dtype=torch.float64)}\n",
      "      Step     Time          Energy          fmax\n",
      "FIRE:    0 00:34:02        3.985101        2.657923\n",
      "FIRE:    1 00:34:03        3.975044        2.666849\n",
      "FIRE:    2 00:34:04        3.956470        2.670833\n",
      "FIRE:    3 00:34:05        3.927898        2.642313\n",
      "FIRE:    4 00:34:06        3.888739        2.542422\n",
      "FIRE:    5 00:34:07        3.838695        2.329186\n",
      "FIRE:    6 00:34:08        3.778206        1.996308\n",
      "FIRE:    7 00:34:09        3.709055        1.547656\n",
      "FIRE:    8 00:34:10        3.626966        1.154966\n",
      "FIRE:    9 00:34:12        3.603133        0.877951\n",
      "FIRE:   10 00:34:13        3.598571        0.478328\n",
      "FIRE:   11 00:34:14        3.591633        0.680187\n",
      "FIRE:   12 00:34:15        3.591471        0.675053\n",
      "FIRE:   13 00:34:16        3.591147        0.664690\n",
      "FIRE:   14 00:34:18        3.590664        0.648911\n",
      "FIRE:   15 00:34:19        3.590023        0.627445\n",
      "FIRE:   16 00:34:20        3.589225        0.599955\n",
      "FIRE:   17 00:34:21        3.588273        0.566065\n",
      "FIRE:   18 00:34:22        3.587167        0.525386\n",
      "FIRE:   19 00:34:23        3.585768        0.472077\n",
      "FIRE:   20 00:34:24        3.584009        0.402671\n",
      "FIRE:   21 00:34:25        3.581810        0.313211\n",
      "FIRE:   22 00:34:27        3.579063        0.229290\n",
      "FIRE:   23 00:34:28        3.575624        0.220780\n",
      "FIRE:   24 00:34:29        3.571325        0.209515\n",
      "FIRE:   25 00:34:30        3.566264        0.247346\n",
      "FIRE:   26 00:34:31        3.566176        0.243770\n",
      "FIRE:   27 00:34:32        3.566000        0.236683\n",
      "FIRE:   28 00:34:33        3.565736        0.226222\n",
      "FIRE:   29 00:34:34        3.565387        0.212592\n",
      "FIRE:   30 00:34:35        3.564951        0.196069\n",
      "FIRE:   31 00:34:36        3.564432        0.189785\n",
      "FIRE:   32 00:34:37        3.563828        0.187939\n",
      "FIRE:   33 00:34:38        3.563064        0.185577\n",
      "FIRE:   34 00:34:39        3.562107        0.182573\n",
      "FIRE:   35 00:34:41        3.560919        0.178774\n",
      "FIRE:   36 00:34:42        3.559459        0.173999\n",
      "FIRE:   37 00:34:43        3.557692        0.168050\n",
      "FIRE:   38 00:34:44        3.555594        0.160739\n",
      "FIRE:   39 00:34:45        3.553168        0.151911\n",
      "FIRE:   40 00:34:46        3.550442        0.141468\n",
      "FIRE:   41 00:34:47        3.547471        0.129366\n",
      "FIRE:   42 00:34:48        3.544330        0.115612\n",
      "FIRE:   43 00:34:49        3.541120        0.100274\n",
      "FIRE:   44 00:34:51        3.537961        0.083493\n",
      "FIRE:   45 00:34:52        3.535006        0.079236\n",
      "FIRE:   46 00:34:53        3.532464        0.075797\n",
      "FIRE:   47 00:34:54        3.530550        0.080449\n",
      "FIRE:   48 00:34:55        3.529376        0.049152\n",
      "FIRE:   49 00:34:56        3.528961        0.040312\n",
      "FIRE:   50 00:34:57        3.529236        0.067745\n",
      "FIRE:   51 00:34:59        3.529236        0.061079\n",
      "FIRE:   52 00:35:00        3.529238        0.048356\n",
      "FIRE:   53 00:35:01        3.529241        0.030784\n",
      "--------------------------------------------------------\n",
      "Step: 1\n",
      "Time: 08/02/2025, 00:35:02\n",
      "Predicted barrier (-->): 0.21450174952964218\n",
      "Predicted barrier (<--): 0.21475053569856062\n",
      "Number of images: 7\n",
      "Max. uncertainty: 0.9838152651343504\n",
      "Max. force of energy maximum image: 0.04946707651358806\n",
      "--------------------------------------------------------\n",
      "\n",
      "Training data size:  4\n",
      "Descriptor:  cartesian coordinates\n",
      "GPR model hyperparameters:  {'kerneltype': 'sqexp', 'scale': tensor(0.4000, dtype=torch.float64), 'weight': tensor(1., dtype=torch.float64), 'noise': tensor(1.0000e-06, dtype=torch.float64), 'noisefactor': tensor(0.5000, dtype=torch.float64), 'prior': tensor(3.6960, dtype=torch.float64)}\n",
      "      Step     Time          Energy          fmax\n",
      "FIRE:    0 00:35:04        4.040669        1.524032\n",
      "FIRE:    1 00:35:05        4.023174        1.530901\n",
      "FIRE:    2 00:35:06        3.987898        1.540782\n",
      "FIRE:    3 00:35:08        3.934538        1.545800\n",
      "FIRE:    4 00:35:09        3.863315        1.533952\n",
      "FIRE:    5 00:35:10        3.775791        1.489452\n",
      "FIRE:    6 00:35:11        3.675812        1.393286\n",
      "FIRE:    7 00:35:12        3.644602        1.241334\n",
      "FIRE:    8 00:35:13        3.618016        1.006133\n",
      "FIRE:    9 00:35:14        3.589364        0.656437\n",
      "FIRE:   10 00:35:15        3.562714        0.348973\n",
      "FIRE:   11 00:35:16        3.545606        0.231029\n",
      "FIRE:   12 00:35:17        3.545484        0.228573\n",
      "FIRE:   13 00:35:18        3.545240        0.223689\n",
      "FIRE:   14 00:35:20        3.544881        0.216437\n",
      "FIRE:   15 00:35:22        3.544411        0.206909\n",
      "FIRE:   16 00:35:23        3.543838        0.195228\n",
      "FIRE:   17 00:35:25        3.543171        0.181557\n",
      "FIRE:   18 00:35:26        3.542419        0.166094\n",
      "FIRE:   19 00:35:27        3.541499        0.149474\n",
      "FIRE:   20 00:35:28        3.540392        0.141242\n",
      "FIRE:   21 00:35:29        3.539080        0.131662\n",
      "FIRE:   22 00:35:30        3.537546        0.120824\n",
      "FIRE:   23 00:35:31        3.535781        0.108963\n",
      "FIRE:   24 00:35:32        3.533784        0.096426\n",
      "FIRE:   25 00:35:34        3.531583        0.090153\n",
      "FIRE:   26 00:35:35        3.529257        0.088460\n",
      "FIRE:   27 00:35:36        3.526942        0.094248\n",
      "FIRE:   28 00:35:37        3.524820        0.094323\n",
      "FIRE:   29 00:35:38        3.523107        0.078847\n",
      "FIRE:   30 00:35:39        3.522017        0.063041\n",
      "FIRE:   31 00:35:41        3.521676        0.049557\n",
      "FIRE:   32 00:35:42        3.521669        0.048438\n",
      "FIRE:   33 00:35:43        3.521654        0.046225\n",
      "FIRE:   34 00:35:44        3.521633        0.042966\n",
      "FIRE:   35 00:35:45        3.521606        0.038730\n",
      "--------------------------------------------------------\n",
      "Step: 2\n",
      "Time: 08/02/2025, 00:35:45\n",
      "Predicted barrier (-->): 0.20686675337284743\n",
      "Predicted barrier (<--): 0.20711553954176587\n",
      "Number of images: 7\n",
      "Max. uncertainty: 0.7578047336400348\n",
      "Max. force of energy maximum image: 0.33169437414849023\n",
      "--------------------------------------------------------\n",
      "\n",
      "Training data size:  5\n",
      "Descriptor:  cartesian coordinates\n",
      "GPR model hyperparameters:  {'kerneltype': 'sqexp', 'scale': tensor(0.4000, dtype=torch.float64), 'weight': tensor(1., dtype=torch.float64), 'noise': tensor(1.0000e-06, dtype=torch.float64), 'noisefactor': tensor(0.5000, dtype=torch.float64), 'prior': tensor(3.7543, dtype=torch.float64)}\n",
      "      Step     Time          Energy          fmax\n",
      "FIRE:    0 00:35:47        3.767046        0.549899\n",
      "FIRE:    1 00:35:48        3.764842        0.543229\n",
      "FIRE:    2 00:35:49        3.760499        0.529633\n",
      "FIRE:    3 00:35:50        3.754149        0.508628\n",
      "FIRE:    4 00:35:51        3.745998        0.479577\n",
      "FIRE:    5 00:35:52        3.736328        0.452273\n",
      "FIRE:    6 00:35:53        3.725501        0.431570\n",
      "FIRE:    7 00:35:54        3.713954        0.406855\n",
      "FIRE:    8 00:35:55        3.700944        0.375693\n",
      "FIRE:    9 00:35:56        3.687094        0.339033\n",
      "FIRE:   10 00:35:57        3.673409        0.301332\n",
      "FIRE:   11 00:35:58        3.661048        0.271785\n",
      "FIRE:   12 00:35:59        3.650685        0.258593\n",
      "FIRE:   13 00:36:00        3.641821        0.299939\n",
      "FIRE:   14 00:36:02        3.633053        0.346606\n",
      "FIRE:   15 00:36:04        3.623641        0.326024\n",
      "FIRE:   16 00:36:05        3.615410        0.232522\n",
      "FIRE:   17 00:36:07        3.612948        0.085477\n",
      "FIRE:   18 00:36:08        3.612867        0.083428\n",
      "FIRE:   19 00:36:09        3.612710        0.079405\n",
      "FIRE:   20 00:36:10        3.612487        0.073564\n",
      "FIRE:   21 00:36:11        3.612211        0.066142\n",
      "FIRE:   22 00:36:12        3.611898        0.057474\n",
      "FIRE:   23 00:36:13        3.611564        0.053162\n",
      "FIRE:   24 00:36:14        3.611224        0.049848\n",
      "FIRE:   25 00:36:15        3.610857        0.046505\n",
      "FIRE:   26 00:36:16        3.610479        0.043262\n",
      "FIRE:   27 00:36:17        3.610110        0.039995\n",
      "--------------------------------------------------------\n",
      "Step: 3\n",
      "Time: 08/02/2025, 00:36:17\n",
      "Predicted barrier (-->): 0.29537048803208377\n",
      "Predicted barrier (<--): 0.2956192742010022\n",
      "Number of images: 7\n",
      "Max. uncertainty: 0.5472855978623534\n",
      "Max. force of energy maximum image: 0.051604496921929574\n",
      "--------------------------------------------------------\n",
      "\n",
      "Training data size:  6\n",
      "Descriptor:  cartesian coordinates\n",
      "GPR model hyperparameters:  {'kerneltype': 'sqexp', 'scale': tensor(0.4000, dtype=torch.float64), 'weight': tensor(1., dtype=torch.float64), 'noise': tensor(1.0000e-06, dtype=torch.float64), 'noisefactor': tensor(0.5000, dtype=torch.float64), 'prior': tensor(3.8883, dtype=torch.float64)}\n",
      "      Step     Time          Energy          fmax\n",
      "FIRE:    0 00:36:19        3.658369        0.953828\n",
      "FIRE:    1 00:36:20        3.658202        0.939667\n",
      "FIRE:    2 00:36:21        3.657872        0.910151\n",
      "FIRE:    3 00:36:22        3.657390        0.863059\n",
      "FIRE:    4 00:36:23        3.656770        0.795518\n",
      "FIRE:    5 00:36:24        3.656026        0.704601\n",
      "FIRE:    6 00:36:26        3.655178        0.588178\n",
      "FIRE:    7 00:36:27        3.654241        0.445939\n",
      "FIRE:    8 00:36:28        3.653118        0.262030\n",
      "FIRE:    9 00:36:29        3.651785        0.202386\n",
      "FIRE:   10 00:36:30        3.650246        0.221354\n",
      "FIRE:   11 00:36:31        3.650220        0.217238\n",
      "FIRE:   12 00:36:32        3.650169        0.209090\n",
      "FIRE:   13 00:36:33        3.650094        0.197086\n",
      "FIRE:   14 00:36:34        3.649993        0.181488\n",
      "FIRE:   15 00:36:35        3.649870        0.165342\n",
      "FIRE:   16 00:36:36        3.649723        0.151253\n",
      "FIRE:   17 00:36:37        3.649554        0.135360\n",
      "FIRE:   18 00:36:39        3.649342        0.130030\n",
      "FIRE:   19 00:36:40        3.649079        0.124505\n",
      "FIRE:   20 00:36:41        3.648758        0.117436\n",
      "FIRE:   21 00:36:42        3.648372        0.108417\n",
      "FIRE:   22 00:36:44        3.647918        0.097002\n",
      "FIRE:   23 00:36:45        3.647406        0.092674\n",
      "FIRE:   24 00:36:46        3.646862        0.113552\n",
      "FIRE:   25 00:36:48        3.646326        0.119371\n",
      "FIRE:   26 00:36:49        3.645844        0.106594\n",
      "FIRE:   27 00:36:50        3.645466        0.085359\n",
      "FIRE:   28 00:36:51        3.645241        0.066042\n",
      "FIRE:   29 00:36:52        3.645206        0.047998\n",
      "FIRE:   30 00:36:53        3.645205        0.047576\n",
      "FIRE:   31 00:36:54        3.645203        0.046734\n",
      "FIRE:   32 00:36:55        3.645200        0.045477\n",
      "FIRE:   33 00:36:57        3.645196        0.043810\n",
      "FIRE:   34 00:36:58        3.645191        0.041739\n",
      "FIRE:   35 00:36:59        3.645186        0.039271\n",
      "--------------------------------------------------------\n",
      "Step: 4\n",
      "Time: 08/02/2025, 00:36:59\n",
      "Predicted barrier (-->): 0.3304463092042935\n",
      "Predicted barrier (<--): 0.33069509537321196\n",
      "Number of images: 7\n",
      "Max. uncertainty: 0.49102116018889075\n",
      "Max. force of energy maximum image: 0.058087283391069014\n",
      "--------------------------------------------------------\n",
      "\n",
      "Training data size:  7\n",
      "Descriptor:  cartesian coordinates\n",
      "GPR model hyperparameters:  {'kerneltype': 'sqexp', 'scale': tensor(0.4000, dtype=torch.float64), 'weight': tensor(1., dtype=torch.float64), 'noise': tensor(1.0000e-06, dtype=torch.float64), 'noisefactor': tensor(0.5000, dtype=torch.float64), 'prior': tensor(4.0084, dtype=torch.float64)}\n",
      "      Step     Time          Energy          fmax\n",
      "FIRE:    0 00:37:01        3.699179        1.202053\n",
      "FIRE:    1 00:37:02        3.690978        1.173660\n",
      "FIRE:    2 00:37:03        3.675337        1.115307\n",
      "FIRE:    3 00:37:05        3.670090        1.018315\n",
      "FIRE:    4 00:37:06        3.669528        0.884797\n",
      "FIRE:    5 00:37:07        3.668926        0.718225\n",
      "FIRE:    6 00:37:08        3.668336        0.523592\n",
      "FIRE:    7 00:37:09        3.667806        0.310068\n",
      "FIRE:    8 00:37:11        3.667340        0.200271\n",
      "FIRE:    9 00:37:12        3.667011        0.249300\n",
      "FIRE:   10 00:37:13        3.667007        0.246768\n",
      "FIRE:   11 00:37:14        3.666997        0.241750\n",
      "FIRE:   12 00:37:15        3.666982        0.234342\n",
      "FIRE:   13 00:37:16        3.666963        0.224690\n",
      "FIRE:   14 00:37:17        3.666939        0.212999\n",
      "FIRE:   15 00:37:18        3.666911        0.199536\n",
      "FIRE:   16 00:37:19        3.666878        0.184644\n",
      "FIRE:   17 00:37:20        3.666838        0.167025\n",
      "FIRE:   18 00:37:22        3.666788        0.146998\n",
      "FIRE:   19 00:37:23        3.666727        0.125644\n",
      "FIRE:   20 00:37:24        3.666653        0.105446\n",
      "FIRE:   21 00:37:25        3.666567        0.090807\n",
      "FIRE:   22 00:37:27        3.666469        0.086103\n",
      "FIRE:   23 00:37:28        3.666362        0.089959\n",
      "FIRE:   24 00:37:29        3.666254        0.097405\n",
      "FIRE:   25 00:37:30        3.666153        0.099359\n",
      "FIRE:   26 00:37:32        3.666069        0.085204\n",
      "FIRE:   27 00:37:33        3.666012        0.053775\n",
      "FIRE:   28 00:37:34        3.665989        0.027122\n",
      "--------------------------------------------------------\n",
      "Step: 5\n",
      "Time: 08/02/2025, 00:37:34\n",
      "Predicted barrier (-->): 0.3512494834529547\n",
      "Predicted barrier (<--): 0.35149826962187314\n",
      "Number of images: 7\n",
      "Max. uncertainty: 0.260161812098756\n",
      "Max. force of energy maximum image: 0.16634906863140075\n",
      "--------------------------------------------------------\n",
      "\n",
      "Training data size:  8\n",
      "Descriptor:  cartesian coordinates\n",
      "GPR model hyperparameters:  {'kerneltype': 'sqexp', 'scale': tensor(0.4000, dtype=torch.float64), 'weight': tensor(1., dtype=torch.float64), 'noise': tensor(1.0000e-06, dtype=torch.float64), 'noisefactor': tensor(0.5000, dtype=torch.float64), 'prior': tensor(3.9960, dtype=torch.float64)}\n",
      "      Step     Time          Energy          fmax\n",
      "FIRE:    0 00:37:36        3.664009        0.296090\n",
      "FIRE:    1 00:37:37        3.664003        0.291067\n",
      "FIRE:    2 00:37:39        3.663991        0.281100\n",
      "FIRE:    3 00:37:40        3.663975        0.266352\n",
      "FIRE:    4 00:37:41        3.663954        0.247082\n",
      "FIRE:    5 00:37:42        3.663930        0.223647\n",
      "FIRE:    6 00:37:43        3.663903        0.196523\n",
      "FIRE:    7 00:37:44        3.663876        0.166308\n",
      "FIRE:    8 00:37:45        3.663844        0.139467\n",
      "FIRE:    9 00:37:46        3.663810        0.113317\n",
      "FIRE:   10 00:37:47        3.663773        0.081824\n",
      "FIRE:   11 00:37:48        3.663734        0.051181\n",
      "FIRE:   12 00:37:49        3.663696        0.050924\n",
      "FIRE:   13 00:37:50        3.663695        0.050141\n",
      "FIRE:   14 00:37:52        3.663694        0.048589\n",
      "FIRE:   15 00:37:53        3.663693        0.046290\n",
      "FIRE:   16 00:37:54        3.663692        0.043281\n",
      "FIRE:   17 00:37:55        3.663690        0.039809\n",
      "--------------------------------------------------------\n",
      "Step: 6\n",
      "Time: 08/02/2025, 00:37:55\n",
      "Predicted barrier (-->): 0.34895074742376275\n",
      "Predicted barrier (<--): 0.3491995335926812\n",
      "Number of images: 7\n",
      "Max. uncertainty: 0.24761343903449345\n",
      "Max. force of energy maximum image: 0.14727348777036744\n",
      "--------------------------------------------------------\n",
      "\n",
      "Training data size:  9\n",
      "Descriptor:  cartesian coordinates\n",
      "GPR model hyperparameters:  {'kerneltype': 'sqexp', 'scale': tensor(0.4000, dtype=torch.float64), 'weight': tensor(1., dtype=torch.float64), 'noise': tensor(1.0000e-06, dtype=torch.float64), 'noisefactor': tensor(0.5000, dtype=torch.float64), 'prior': tensor(4.0650, dtype=torch.float64)}\n",
      "      Step     Time          Energy          fmax\n",
      "FIRE:    0 00:37:57        3.688334        0.674901\n",
      "FIRE:    1 00:37:58        3.685374        0.666192\n",
      "FIRE:    2 00:38:00        3.679639        0.648165\n",
      "FIRE:    3 00:38:01        3.673255        0.619787\n",
      "FIRE:    4 00:38:03        3.673076        0.579185\n",
      "FIRE:    5 00:38:05        3.672866        0.523997\n",
      "FIRE:    6 00:38:06        3.672635        0.453871\n",
      "FIRE:    7 00:38:07        3.672388        0.371793\n",
      "FIRE:    8 00:38:08        3.672106        0.278827\n",
      "FIRE:    9 00:38:10        3.671799        0.282497\n",
      "FIRE:   10 00:38:11        3.671487        0.398884\n",
      "FIRE:   11 00:38:13        3.671200        0.458504\n",
      "FIRE:   12 00:38:15        3.670965        0.433315\n",
      "FIRE:   13 00:38:16        3.670798        0.309558\n",
      "FIRE:   14 00:38:17        3.670713        0.160592\n",
      "FIRE:   15 00:38:18        3.670708        0.155958\n",
      "FIRE:   16 00:38:19        3.670699        0.146924\n",
      "FIRE:   17 00:38:20        3.670686        0.133967\n",
      "FIRE:   18 00:38:21        3.670671        0.117818\n",
      "FIRE:   19 00:38:22        3.670656        0.099504\n",
      "FIRE:   20 00:38:24        3.670641        0.080445\n",
      "FIRE:   21 00:38:25        3.670629        0.062660\n",
      "FIRE:   22 00:38:26        3.670620        0.047863\n",
      "FIRE:   23 00:38:27        3.670617        0.065895\n",
      "FIRE:   24 00:38:28        3.670621        0.077827\n",
      "FIRE:   25 00:38:29        3.670631        0.078775\n",
      "FIRE:   26 00:38:30        3.670644        0.066435\n",
      "FIRE:   27 00:38:31        3.670656        0.040110\n",
      "FIRE:   28 00:38:32        3.670663        0.025373\n",
      "--------------------------------------------------------\n",
      "Step: 7\n",
      "Time: 08/02/2025, 00:38:32\n",
      "Predicted barrier (-->): 0.35592347019398707\n",
      "Predicted barrier (<--): 0.3561722563629055\n",
      "Number of images: 7\n",
      "Max. uncertainty: 0.17927931020445584\n",
      "Max. force of energy maximum image: 0.08356744754665063\n",
      "--------------------------------------------------------\n",
      "\n",
      "Training data size:  10\n",
      "Descriptor:  cartesian coordinates\n",
      "Candidate scales: tensor([0.1000, 0.2000, 0.4000, 0.8000, 1.6000])\n",
      "Updated scale: 0.800000011920929\n",
      "Updated weight: 0.7624908630753927\n",
      "GPR model hyperparameters:  {'kerneltype': 'sqexp', 'scale': tensor(0.8000), 'weight': tensor(0.7625, dtype=torch.float64), 'noise': tensor(1.0000e-06, dtype=torch.float64), 'noisefactor': tensor(0.5000, dtype=torch.float64), 'prior': tensor(5.5412, dtype=torch.float64)}\n",
      "Climbing image is now activated.\n",
      "      Step     Time          Energy          fmax\n",
      "FIRE:    0 00:38:36        3.705394        0.386038\n",
      "FIRE:    1 00:38:37        3.704894        0.375844\n",
      "FIRE:    2 00:38:38        3.703938        0.355686\n",
      "FIRE:    3 00:38:39        3.702612        0.326042\n",
      "FIRE:    4 00:38:40        3.701031        0.287678\n",
      "FIRE:    5 00:38:41        3.699332        0.241693\n",
      "FIRE:    6 00:38:43        3.697651        0.189592\n",
      "FIRE:    7 00:38:44        3.696106        0.138397\n",
      "FIRE:    8 00:38:45        3.694655        0.131494\n",
      "FIRE:    9 00:38:46        3.693402        0.122563\n",
      "FIRE:   10 00:38:47        3.692373        0.111288\n",
      "FIRE:   11 00:38:48        3.691477        0.117740\n",
      "FIRE:   12 00:38:49        3.690594        0.146606\n",
      "FIRE:   13 00:38:50        3.689753        0.148212\n",
      "FIRE:   14 00:38:51        3.689280        0.117101\n",
      "FIRE:   15 00:38:53        3.689650        0.094977\n",
      "FIRE:   16 00:38:54        3.689630        0.093246\n",
      "FIRE:   17 00:38:55        3.689590        0.089815\n",
      "FIRE:   18 00:38:56        3.689534        0.084750\n",
      "FIRE:   19 00:38:57        3.689464        0.078146\n",
      "FIRE:   20 00:38:59        3.689383        0.070135\n",
      "FIRE:   21 00:39:00        3.689295        0.060879\n",
      "FIRE:   22 00:39:01        3.689206        0.050581\n",
      "FIRE:   23 00:39:02        3.689110        0.038273\n",
      "--------------------------------------------------------\n",
      "Step: 8\n",
      "Time: 08/02/2025, 00:39:02\n",
      "Predicted barrier (-->): 0.3743706316758142\n",
      "Predicted barrier (<--): 0.3746194178447326\n",
      "Number of images: 7\n",
      "Max. uncertainty: 0.0329395424871087\n",
      "Max. force of energy maximum image: 0.027415446191840335\n",
      "--------------------------------------------------------\n",
      "\n",
      "A saddle point was found.\n",
      "Uncertainty of the images above threshold.\n",
      "NEB converged.\n",
      "The NEB path can be found in: AIDNEB.traj\n",
      "Visualize the last path using 'ase gui AIDNEB.traj\n",
      "\n",
      "-------------------------------------------------------------------------------\n",
      "You are using GPR-accelerated NEB. Please cite: \n",
      "[1] J. A. Garrido Torres, P. C. Jennings, M. H. Hansen, J. R. Boes, and T. Bligaard, Phys. Rev. Lett. 122, 156001 (2019). https://doi.org/10.1103/PhysRevLett.122.156001 \n",
      "[2] O. Koistinen, F. B. Dagbjartsdóttir, V. Ásgeirsson, A. Vehtari, and H. Jónsson, J. Chem. Phys. 147, 152720 (2017). https://doi.org/10.1063/1.4986787 \n",
      "[3] E. Garijo del Río, J. J. Mortensen, and K. W. Jacobsen, Phys. Rev. B 100, 104103 (2019). https://doi.org/10.1103/PhysRevB.100.104103. \n",
      "[4] I. W. Yeu, A. Stuke, J. López-Zorrilla, J. M Stevenson, D. R Reichman, R. A Friesner, A. Urban, and N. Artrith, npj Computational Materials 11, 156 (2025).https://doi.org/10.1038/s41524-025-01651-0. \n",
      "-------------------------------------------------------------------------------\n",
      "\n"
     ]
    }
   ],
   "source": [
    "neb.run(fmax=neb_F_max, unc_convergence=0.05, dt=0.05, ml_steps=150)"
   ]
  },
  {
   "cell_type": "markdown",
   "id": "9f45ecbd-b93a-4fac-91fb-c1ed617853e9",
   "metadata": {},
   "source": [
    "# Total reference calculations = Training data size (10) $-$ initial and final images (2) = 8"
   ]
  },
  {
   "cell_type": "code",
   "execution_count": 26,
   "id": "032d406a-20f0-4d26-ad4a-098749196ef3",
   "metadata": {},
   "outputs": [
    {
     "data": {
      "image/png": "[encoded data removed]",
      "text/plain": [
       "<Figure size 550x400 with 1 Axes>"
      ]
     },
     "metadata": {},
     "output_type": "display_data"
    }
   ],
   "source": [
    "images = read('AIDNEB.traj@-7:')\n",
    "\n",
    "nebtools = NEBTools(images)\n",
    "\n",
    "# Create a figure with custom parameters.\n",
    "fig = plt.figure(figsize=(5.5, 4.0))\n",
    "ax = fig.add_axes((0.15, 0.15, 0.8, 0.75))\n",
    "nebtools.plot_band(ax)\n",
    "fig.savefig('diffusion-barrier.png')"
   ]
  },
  {
   "cell_type": "code",
   "execution_count": null,
   "id": "727aa488-a3c8-4f6f-a3dd-85072c739a48",
   "metadata": {},
   "outputs": [],
   "source": []
  }
 ],
 "metadata": {
  "kernelspec": {
   "display_name": "Python 3",
   "language": "python",
   "name": "python3"
  },
  "language_info": {
   "codemirror_mode": {
    "name": "ipython",
    "version": 3
   },
   "file_extension": ".py",
   "mimetype": "text/x-python",
   "name": "python",
   "nbconvert_exporter": "python",
   "pygments_lexer": "ipython3",
   "version": "3.12.2"
  }
 },
 "nbformat": 4,
 "nbformat_minor": 5
}
