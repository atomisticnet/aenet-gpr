{
 "cells": [
  {
   "cell_type": "markdown",
   "id": "5dccf2b3-cf12-43c8-acff-96b1d4764c59",
   "metadata": {},
   "source": [
    "# GPR-Accelerated NEB Tutorial\n",
    "\n",
    "This tutorial demonstrates how to use `aenet-gpr` for **GPR-accelerated Nudged Elastic Band (NEB) calculations**, which accelerates the demanding NEB calculations for transition state search.\n",
    "\n",
    "GPR-NEB references:\n",
    "- [J. A. Garrido Torres, P. C. Jennings, M. H. Hansen, J. R. Boes, and T. Bligaard, “Low-Scaling Algorithm for Nudged Elastic Band Calculations Using a Surrogate Machine Learning Model”, *Phys. Rev. Lett.* 122, 156001 (2019).](https://doi.org/10.1103/PhysRevLett.122.156001)\n",
    "- [O. Koistinen, F. B. Dagbjartsdóttir, V. Ásgeirsson, A. Vehtari, and H. Jónsson, \"Nudged elastic band calculations accelerated with Gaussian process regression\", *J. Chem. Phys.* 147, 152720 (2017)](https://doi.org/10.1063/1.4986787)\n",
    "\n",
    "In this example, we use a simple **EMT potential** as the reference calculator. However, the same framework is fully compatible with any [ASE-compatible DFT calculators](https://wiki.fysik.dtu.dk/ase/ase/calculators/calculators.html).\n",
    "\n",
    "Replacing the reference with a DFT calculator allows GPR-NEB to reproduce **transition states** on a DFT-level potential energy surface (PES), with **significantly fewer expensive DFT evaluations** than standard NEB."
   ]
  },
  {
   "cell_type": "markdown",
   "id": "114e60a4-3ea3-46cc-a098-e84decd429c9",
   "metadata": {},
   "source": [
    "# ===== Preparation ====="
   ]
  },
  {
   "attachments": {},
   "cell_type": "markdown",
   "id": "919cb78c-0660-4292-a684-b580259765e8",
   "metadata": {},
   "source": [
    "## Reference calculator: Effective Medium Theory (EMT)"
   ]
  },
  {
   "cell_type": "code",
   "execution_count": 24,
   "id": "359a5709-4e36-4e73-81c0-329a2a6b9b7d",
   "metadata": {},
   "outputs": [
    {
     "name": "stdout",
     "output_type": "stream",
     "text": [
      "successfully imported ase\n"
     ]
    }
   ],
   "source": [
    "try:\n",
    "    import ase.io\n",
    "    print(\"successfully imported ase\")\n",
    "except ImportError:\n",
    "    !! pip install ase --user --upgrade\n",
    "    print(\"completed installing ASE\")"
   ]
  },
  {
   "cell_type": "code",
   "execution_count": 1,
   "id": "a78de6ac-892a-43f1-9206-4075019449cd",
   "metadata": {},
   "outputs": [],
   "source": [
    "from ase.build import add_adsorbate, fcc100\n",
    "from ase.calculators.emt import EMT\n",
    "from ase.constraints import FixAtoms\n",
    "from ase.optimize import QuasiNewton, BFGS, MDMin, FIRE\n",
    "\n",
    "from IPython.display import Image\n",
    "import copy\n",
    "import numpy as np"
   ]
  },
  {
   "cell_type": "code",
   "execution_count": 2,
   "id": "7d54a036-d68c-4a8f-965a-2671b6eafca4",
   "metadata": {},
   "outputs": [],
   "source": [
    "# 2x2-Al(001) surface with 3 layers and an\n",
    "# Au atom adsorbed in a hollow site:\n",
    "slab = fcc100('Al', size=(2, 2, 3))\n",
    "add_adsorbate(slab, 'Au', 1.7, 'hollow')\n",
    "slab.center(axis=2, vacuum=4.0)"
   ]
  },
  {
   "cell_type": "code",
   "execution_count": 3,
   "id": "83c30b52-62d9-44a5-a3f9-8e7666c1206e",
   "metadata": {},
   "outputs": [],
   "source": [
    "# Fix second and third layers:\n",
    "mask = [atom.tag > 1 for atom in slab]\n",
    "# print(mask)\n",
    "slab.set_constraint(FixAtoms(mask=mask))"
   ]
  },
  {
   "cell_type": "code",
   "execution_count": 4,
   "id": "113823b4-9f31-4fcd-9b0c-12c6a8c6305c",
   "metadata": {},
   "outputs": [],
   "source": [
    "# Use EMT potential:\n",
    "slab.calc = EMT()"
   ]
  },
  {
   "cell_type": "code",
   "execution_count": 5,
   "id": "4db677af-e64a-490b-9972-12deeadf6c49",
   "metadata": {},
   "outputs": [
    {
     "name": "stdout",
     "output_type": "stream",
     "text": [
      "      Step     Time          Energy          fmax\n",
      "BFGS:    0 20:02:25        3.323870        0.246170\n",
      "BFGS:    1 20:02:25        3.321365        0.203512\n",
      "BFGS:    2 20:02:25        3.314740        0.020557\n"
     ]
    },
    {
     "data": {
      "text/plain": [
       "True"
      ]
     },
     "execution_count": 5,
     "metadata": {},
     "output_type": "execute_result"
    }
   ],
   "source": [
    "# Initial state:\n",
    "qn = BFGS(slab, trajectory='initial.traj')\n",
    "qn.run(fmax=0.05)"
   ]
  },
  {
   "cell_type": "code",
   "execution_count": 6,
   "id": "2b53499f-cc5f-4711-8498-83dac2b9458f",
   "metadata": {},
   "outputs": [
    {
     "data": {
      "image/png": "[encoded data removed]",
      "text/plain": [
       "<IPython.core.display.Image object>"
      ]
     },
     "execution_count": 6,
     "metadata": {},
     "output_type": "execute_result"
    }
   ],
   "source": [
    "import ase\n",
    "\n",
    "\n",
    "atoms = ase.io.read('initial.traj')\n",
    "ase.io.write('initial.png', atoms)\n",
    "Image(\"initial.png\")"
   ]
  },
  {
   "cell_type": "code",
   "execution_count": 7,
   "id": "7c8c3b5c-6c05-48ab-9183-423fa74875f4",
   "metadata": {},
   "outputs": [
    {
     "name": "stdout",
     "output_type": "stream",
     "text": [
      "      Step     Time          Energy          fmax\n",
      "BFGS:    0 20:02:26        3.320046        0.123468\n",
      "BFGS:    1 20:02:26        3.319145        0.111073\n",
      "BFGS:    2 20:02:26        3.315607        0.074162\n",
      "BFGS:    3 20:02:26        3.315469        0.075507\n",
      "BFGS:    4 20:02:26        3.314645        0.052638\n",
      "BFGS:    5 20:02:26        3.314491        0.027698\n"
     ]
    },
    {
     "data": {
      "text/plain": [
       "True"
      ]
     },
     "execution_count": 7,
     "metadata": {},
     "output_type": "execute_result"
    }
   ],
   "source": [
    "# Final state:\n",
    "slab[-1].x += slab.get_cell()[0, 0] / 2\n",
    "qn = BFGS(slab, trajectory='final.traj')\n",
    "qn.run(fmax=0.05)"
   ]
  },
  {
   "cell_type": "code",
   "execution_count": 8,
   "id": "be61ddea-efba-4948-b58e-7b88b57a13db",
   "metadata": {},
   "outputs": [
    {
     "data": {
      "image/png": "[encoded data removed]",
      "text/plain": [
       "<IPython.core.display.Image object>"
      ]
     },
     "execution_count": 8,
     "metadata": {},
     "output_type": "execute_result"
    }
   ],
   "source": [
    "atoms = ase.io.read('final.traj')\n",
    "ase.io.write('final.png', atoms)\n",
    "Image(\"final.png\")"
   ]
  },
  {
   "cell_type": "markdown",
   "id": "111e2c41-8745-4ae1-baa1-d406d1dc3e3e",
   "metadata": {},
   "source": [
    "# ===== Conventional NEB ====="
   ]
  },
  {
   "cell_type": "code",
   "execution_count": 9,
   "id": "e1efa647-058f-430a-a299-c2daea998f58",
   "metadata": {},
   "outputs": [],
   "source": [
    "from ase.calculators.emt import EMT\n",
    "from ase.constraints import FixAtoms\n",
    "from ase.io import read\n",
    "from ase.mep import NEB"
   ]
  },
  {
   "cell_type": "code",
   "execution_count": 10,
   "id": "69dcc8b5-c986-44e3-bf0b-8215dd08ed8d",
   "metadata": {},
   "outputs": [],
   "source": [
    "initial = read('initial.traj')\n",
    "final = read('final.traj')"
   ]
  },
  {
   "cell_type": "code",
   "execution_count": 11,
   "id": "9ee85c1e-4d62-4171-a54b-6aef1bf5ecbb",
   "metadata": {},
   "outputs": [],
   "source": [
    "constraint = FixAtoms(mask=[atom.tag > 1 for atom in initial])"
   ]
  },
  {
   "cell_type": "code",
   "execution_count": 12,
   "id": "8619e92a-dbc9-4387-b19d-c81ddc332cdd",
   "metadata": {},
   "outputs": [],
   "source": [
    "images = [initial]\n",
    "for i in range(5):\n",
    "    image = initial.copy()\n",
    "    image.calc = EMT()\n",
    "    image.set_constraint(constraint)\n",
    "    images.append(image)\n",
    "\n",
    "images.append(final)"
   ]
  },
  {
   "cell_type": "code",
   "execution_count": 13,
   "id": "31b975aa-9200-44d6-bc13-ebbe9a91c9d4",
   "metadata": {},
   "outputs": [
    {
     "name": "stdout",
     "output_type": "stream",
     "text": [
      "      Step     Time          Energy          fmax\n",
      "BFGS:    0 20:02:33        4.254555        3.670245\n",
      "BFGS:    1 20:02:33        3.948627        2.244311\n",
      "BFGS:    2 20:02:33        3.721026        0.460812\n",
      "BFGS:    3 20:02:33        3.709871        0.220665\n",
      "BFGS:    4 20:02:34        3.709278        0.252739\n",
      "BFGS:    5 20:02:34        3.706857        0.272288\n",
      "BFGS:    6 20:02:34        3.699467        0.212846\n",
      "BFGS:    7 20:02:34        3.692513        0.248942\n",
      "BFGS:    8 20:02:34        3.692122        0.220736\n",
      "BFGS:    9 20:02:34        3.693252        0.170065\n",
      "BFGS:   10 20:02:34        3.692612        0.156282\n",
      "BFGS:   11 20:02:34        3.690770        0.082660\n",
      "BFGS:   12 20:02:35        3.690148        0.072045\n",
      "BFGS:   13 20:02:35        3.690308        0.070273\n",
      "BFGS:   14 20:02:35        3.690294        0.089615\n",
      "BFGS:   15 20:02:35        3.689736        0.081432\n",
      "BFGS:   16 20:02:35        3.688950        0.060481\n",
      "BFGS:   17 20:02:35        3.688746        0.033467\n"
     ]
    },
    {
     "data": {
      "text/plain": [
       "True"
      ]
     },
     "execution_count": 13,
     "metadata": {},
     "output_type": "execute_result"
    }
   ],
   "source": [
    "neb = NEB(images)\n",
    "neb.interpolate()\n",
    "qn = BFGS(neb, trajectory='neb.traj')\n",
    "qn.run(fmax=0.05)"
   ]
  },
  {
   "cell_type": "markdown",
   "id": "7026aee5-1a9a-4795-9e65-246924dc4841",
   "metadata": {},
   "source": [
    "### Total reference calculations = NEB steps $\\times$ number of moving images = 18 $\\times$ 5 = 90"
   ]
  },
  {
   "cell_type": "code",
   "execution_count": 14,
   "id": "390f8644-8567-4b48-a645-dcdd8dcaadc8",
   "metadata": {},
   "outputs": [
    {
     "data": {
      "image/png": "[encoded data removed]",
      "text/plain": [
       "<Figure size 550x400 with 1 Axes>"
      ]
     },
     "metadata": {},
     "output_type": "display_data"
    }
   ],
   "source": [
    "import matplotlib.pyplot as plt\n",
    "\n",
    "from ase.io import read\n",
    "from ase.mep import NEBTools\n",
    "\n",
    "images = read('neb.traj@-7:')\n",
    "\n",
    "nebtools = NEBTools(images)\n",
    "\n",
    "# # Get the calculated barrier and the energy change of the reaction.\n",
    "# Ef, dE = nebtools.get_barrier()\n",
    "\n",
    "# # Get the barrier without any interpolation between highest images.\n",
    "# Ef, dE = nebtools.get_barrier(fit=False)\n",
    "\n",
    "# # Get the actual maximum force at this point in the simulation.\n",
    "# max_force = nebtools.get_fmax()\n",
    "\n",
    "# # Create a figure like that coming from ASE-GUI.\n",
    "# fig = nebtools.plot_band()\n",
    "# fig.savefig('diffusion-barrier.png')\n",
    "\n",
    "# Create a figure with custom parameters.\n",
    "fig = plt.figure(figsize=(5.5, 4.0))\n",
    "ax = fig.add_axes((0.15, 0.15, 0.8, 0.75))\n",
    "nebtools.plot_band(ax)\n",
    "fig.savefig('diffusion-barrier.png')"
   ]
  },
  {
   "cell_type": "markdown",
   "id": "f8eda25e-36a6-4ff8-9e1b-7242add8e80e",
   "metadata": {},
   "source": [
    "# ===== aenet-GPR accelerated NEB ====="
   ]
  },
  {
   "cell_type": "markdown",
   "id": "755f750d-c2d0-4e9d-903f-8cf41145fa76",
   "metadata": {},
   "source": [
    "### Reference calculator: Effective Medium Theory (EMT)\n",
    "### Surrogate calculator: aenet-gpr (GPR)"
   ]
  },
  {
   "cell_type": "code",
   "execution_count": 15,
   "id": "83c09a3a-57c1-49fd-9ab3-6ac10171c8aa",
   "metadata": {},
   "outputs": [
    {
     "name": "stdout",
     "output_type": "stream",
     "text": [
      "successfully imported torch\n",
      "2.6.0+cu124\n"
     ]
    }
   ],
   "source": [
    "try:\n",
    "    import torch\n",
    "    print(\"successfully imported torch\")\n",
    "    print(torch.__version__)\n",
    "except ImportError:\n",
    "    !! pip install torch torchvision torchaudio --user --index-url https://download.pytorch.org/whl/cpu\n",
    "    print(\"completed installing torch\")"
   ]
  },
  {
   "cell_type": "code",
   "execution_count": 16,
   "id": "5c05e4c0-9b04-40dd-a752-9d7778afe648",
   "metadata": {},
   "outputs": [
    {
     "name": "stdout",
     "output_type": "stream",
     "text": [
      "completed installing aenet-gpr\n",
      "Name: aenet-gpr\n",
      "Version: 1.4.4\n",
      "Summary: Atomistic simulation tools based on Gaussian Processes Regression\n",
      "Home-page: https://github.com/atomisticnet/aenet-gpr\n",
      "Author: In Won Yeu\n",
      "Author-email: iy2185@columbia.edu\n",
      "License: MPL-2.0\n",
      "Location: /data/home/iy2185/.local/lib/python3.12/site-packages\n",
      "Requires: ase, dscribe\n",
      "Required-by: \n"
     ]
    }
   ],
   "source": [
    "!! pip install aenet-gpr --user --upgrade\n",
    "print(\"completed installing aenet-gpr\")\n",
    "\n",
    "! pip show aenet-gpr"
   ]
  },
  {
   "cell_type": "code",
   "execution_count": 17,
   "id": "e3f29ed5-bd6a-45d2-9593-c8b4a254a162",
   "metadata": {},
   "outputs": [],
   "source": [
    "from aenet_gpr.tool.aidneb import AIDNEB"
   ]
  },
  {
   "cell_type": "code",
   "execution_count": 18,
   "id": "f97a82ef-89ca-48aa-9d51-50b25d5c12db",
   "metadata": {},
   "outputs": [],
   "source": [
    "neb_F_max = 0.05  # cretirian of the force for the convergence.\n",
    "neb_interpol = \"idpp\"  # \"linear\", \"idpp\", path to trajectory file\n",
    "neb_n_images = 7  # total images including initial and final\n",
    "use_mic = False"
   ]
  },
  {
   "cell_type": "code",
   "execution_count": 19,
   "id": "08b338a7-4ea6-4316-9635-cb33d2ee17d8",
   "metadata": {},
   "outputs": [],
   "source": [
    "initial = read('initial.traj')\n",
    "final = read('final.traj')"
   ]
  },
  {
   "cell_type": "code",
   "execution_count": 20,
   "id": "6d80dccf-ad22-4098-98b8-a45ce93621aa",
   "metadata": {},
   "outputs": [],
   "source": [
    "calc = EMT()"
   ]
  },
  {
   "cell_type": "code",
   "execution_count": 21,
   "id": "cba11dec-0bdc-4532-a40b-74a15b7d9b11",
   "metadata": {},
   "outputs": [],
   "source": [
    "neb = AIDNEB(start=initial,\n",
    "             end=final,\n",
    "             interpolation=neb_interpol,\n",
    "             n_images=neb_n_images,\n",
    "             mic=use_mic,\n",
    "             max_train_data=100,\n",
    "             calculator=copy.deepcopy(calc),\n",
    "             use_previous_observations=True)"
   ]
  },
  {
   "cell_type": "code",
   "execution_count": 22,
   "id": "2ae31a18-bf55-4083-97c7-5ad04df00f8f",
   "metadata": {},
   "outputs": [
    {
     "name": "stdout",
     "output_type": "stream",
     "text": [
      "Training data size:  3\n",
      "GPR model hyperparameters:  {'kerneltype': 'sqexp', 'scale': tensor(0.4000, dtype=torch.float64), 'weight': tensor(0.2439, dtype=torch.float64), 'noise': tensor(1.0000e-06, dtype=torch.float64), 'noisefactor': tensor(0.5000, dtype=torch.float64), 'prior': tensor(3.5489, dtype=torch.float64)}\n",
      "       Step     Time          Energy          fmax\n",
      "MDMin:    0 20:03:08        3.985101        2.657923\n",
      "MDMin:    1 20:03:08        3.979616        2.662966\n",
      "MDMin:    2 20:03:08        3.965763        2.671179\n",
      "MDMin:    3 20:03:08        3.941999        2.661922\n",
      "MDMin:    4 20:03:08        3.907399        2.602208\n",
      "MDMin:    5 20:03:08        3.860984        2.452614\n",
      "MDMin:    6 20:03:08        3.802161        2.181265\n",
      "MDMin:    7 20:03:08        3.731584        1.825457\n",
      "MDMin:    8 20:03:08        3.653911        1.364855\n",
      "MDMin:    9 20:03:09        3.601630        0.953842\n",
      "MDMin:   10 20:03:09        3.595835        0.648021\n",
      "MDMin:   11 20:03:09        3.586829        0.317658\n",
      "MDMin:   12 20:03:09        3.571678        0.214554\n",
      "MDMin:   13 20:03:09        3.557218        0.168516\n",
      "MDMin:   14 20:03:09        3.547068        0.127368\n",
      "MDMin:   15 20:03:09        3.540832        0.096664\n",
      "MDMin:   16 20:03:09        3.537887        0.079670\n",
      "MDMin:   17 20:03:09        3.536759        0.072460\n",
      "MDMin:   18 20:03:09        3.535807        0.065988\n",
      "MDMin:   19 20:03:09        3.534955        0.059803\n",
      "MDMin:   20 20:03:09        3.534202        0.053928\n",
      "MDMin:   21 20:03:09        3.533547        0.048372\n",
      "MDMin:   22 20:03:10        3.532986        0.043143\n",
      "MDMin:   23 20:03:10        3.532516        0.038234\n",
      "--------------------------------------------------------\n",
      "Step: 1\n",
      "Time: 06/19/2025, 20:03:10\n",
      "Predicted barrier (-->): 0.21777630160455885\n",
      "Predicted barrier (<--): 0.2180250877734773\n",
      "Max. uncertainty: 0.9831377348400948\n",
      "Number of images: 7\n",
      "fmax: 2.831104011085647\n",
      "--------------------------------------------------------\n",
      "\n",
      "Training data size:  4\n",
      "GPR model hyperparameters:  {'kerneltype': 'sqexp', 'scale': tensor(0.4000, dtype=torch.float64), 'weight': tensor(0.2340, dtype=torch.float64), 'noise': tensor(1.0000e-06, dtype=torch.float64), 'noisefactor': tensor(0.5000, dtype=torch.float64), 'prior': tensor(3.6242, dtype=torch.float64)}\n",
      "       Step     Time          Energy          fmax\n",
      "MDMin:    0 20:03:10        3.784891        1.081553\n",
      "MDMin:    1 20:03:10        3.780822        1.082239\n",
      "MDMin:    2 20:03:10        3.768600        1.083634\n",
      "MDMin:    3 20:03:10        3.748214        1.083747\n",
      "MDMin:    4 20:03:11        3.719760        1.079273\n",
      "MDMin:    5 20:03:11        3.683610        1.065735\n",
      "MDMin:    6 20:03:11        3.640650        1.037880\n",
      "MDMin:    7 20:03:11        3.592549        0.990544\n",
      "MDMin:    8 20:03:11        3.578993        0.911539\n",
      "MDMin:    9 20:03:11        3.565073        0.799447\n",
      "MDMin:   10 20:03:11        3.551034        0.654368\n",
      "MDMin:   11 20:03:11        3.537557        0.482793\n",
      "MDMin:   12 20:03:11        3.525468        0.299009\n",
      "MDMin:   13 20:03:11        3.515498        0.167036\n",
      "MDMin:   14 20:03:11        3.507556        0.116379\n",
      "MDMin:   15 20:03:12        3.500807        0.083416\n",
      "MDMin:   16 20:03:12        3.495439        0.054977\n",
      "MDMin:   17 20:03:12        3.491295        0.024864\n",
      "--------------------------------------------------------\n",
      "Step: 2\n",
      "Time: 06/19/2025, 20:03:12\n",
      "Predicted barrier (-->): 0.17655511435899518\n",
      "Predicted barrier (<--): 0.17680390052791362\n",
      "Max. uncertainty: 0.6819340270260719\n",
      "Number of images: 7\n",
      "fmax: 1.094773186564475\n",
      "--------------------------------------------------------\n",
      "\n",
      "Training data size:  5\n",
      "GPR model hyperparameters:  {'kerneltype': 'sqexp', 'scale': tensor(0.4000, dtype=torch.float64), 'weight': tensor(0.2223, dtype=torch.float64), 'noise': tensor(1.0000e-06, dtype=torch.float64), 'noisefactor': tensor(0.5000, dtype=torch.float64), 'prior': tensor(3.6982, dtype=torch.float64)}\n",
      "       Step     Time          Energy          fmax\n",
      "MDMin:    0 20:03:13        3.758664        0.576703\n",
      "MDMin:    1 20:03:13        3.757607        0.569299\n",
      "MDMin:    2 20:03:13        3.754464        0.547211\n",
      "MDMin:    3 20:03:13        3.749307        0.511082\n",
      "MDMin:    4 20:03:13        3.742251        0.478140\n",
      "MDMin:    5 20:03:13        3.733482        0.442718\n",
      "MDMin:    6 20:03:13        3.723275        0.416288\n",
      "MDMin:    7 20:03:13        3.712010        0.389536\n",
      "MDMin:    8 20:03:13        3.700171        0.357745\n",
      "MDMin:    9 20:03:13        3.688290        0.322496\n",
      "MDMin:   10 20:03:13        3.676841        0.286655\n",
      "MDMin:   11 20:03:14        3.666105        0.253403\n",
      "MDMin:   12 20:03:14        3.656127        0.224255\n",
      "MDMin:   13 20:03:14        3.646839        0.198247\n",
      "MDMin:   14 20:03:14        3.638223        0.173544\n",
      "MDMin:   15 20:03:14        3.630346        0.149028\n",
      "MDMin:   16 20:03:14        3.623315        0.124466\n",
      "MDMin:   17 20:03:14        3.617227        0.106372\n",
      "MDMin:   18 20:03:14        3.612145        0.089611\n",
      "MDMin:   19 20:03:14        3.608103        0.072821\n",
      "MDMin:   20 20:03:14        3.605104        0.056259\n",
      "MDMin:   21 20:03:14        3.603114        0.040192\n",
      "MDMin:   22 20:03:15        3.602054        0.025007\n",
      "--------------------------------------------------------\n",
      "Step: 3\n",
      "Time: 06/19/2025, 20:03:15\n",
      "Predicted barrier (-->): 0.2873142540722098\n",
      "Predicted barrier (<--): 0.2875630402411282\n",
      "Max. uncertainty: 0.5425665310140293\n",
      "Number of images: 7\n",
      "fmax: 0.5447089764268767\n",
      "--------------------------------------------------------\n",
      "\n",
      "Training data size:  6\n",
      "GPR model hyperparameters:  {'kerneltype': 'sqexp', 'scale': tensor(0.4000, dtype=torch.float64), 'weight': tensor(0.2426, dtype=torch.float64), 'noise': tensor(1.0000e-06, dtype=torch.float64), 'noisefactor': tensor(0.5000, dtype=torch.float64), 'prior': tensor(3.8392, dtype=torch.float64)}\n",
      "       Step     Time          Energy          fmax\n",
      "MDMin:    0 20:03:15        3.659496        0.947730\n",
      "MDMin:    1 20:03:16        3.659420        0.940835\n",
      "MDMin:    2 20:03:16        3.659195        0.919532\n",
      "MDMin:    3 20:03:16        3.658829        0.882005\n",
      "MDMin:    4 20:03:16        3.658332        0.825512\n",
      "MDMin:    5 20:03:16        3.657715        0.746917\n",
      "MDMin:    6 20:03:16        3.656989        0.643604\n",
      "MDMin:    7 20:03:16        3.656154        0.514885\n",
      "MDMin:    8 20:03:16        3.655200        0.364208\n",
      "MDMin:    9 20:03:16        3.654096        0.230477\n",
      "MDMin:   10 20:03:16        3.652804        0.178440\n",
      "MDMin:   11 20:03:17        3.651403        0.122966\n",
      "MDMin:   12 20:03:17        3.650047        0.071562\n",
      "MDMin:   13 20:03:17        3.648781        0.036016\n",
      "--------------------------------------------------------\n",
      "Step: 4\n",
      "Time: 06/19/2025, 20:03:17\n",
      "Predicted barrier (-->): 0.33404109219007516\n",
      "Predicted barrier (<--): 0.3342898783589936\n",
      "Max. uncertainty: 0.4619304822439176\n",
      "Number of images: 7\n",
      "fmax: 1.0312718421823197\n",
      "--------------------------------------------------------\n",
      "\n",
      "Training data size:  7\n",
      "GPR model hyperparameters:  {'kerneltype': 'sqexp', 'scale': tensor(0.4000, dtype=torch.float64), 'weight': tensor(0.2498, dtype=torch.float64), 'noise': tensor(1.0000e-06, dtype=torch.float64), 'noisefactor': tensor(0.5000, dtype=torch.float64), 'prior': tensor(3.9354, dtype=torch.float64)}\n",
      "       Step     Time          Energy          fmax\n",
      "MDMin:    0 20:03:18        3.669519        1.280284\n",
      "MDMin:    1 20:03:18        3.669469        1.268216\n",
      "MDMin:    2 20:03:18        3.669320        1.231200\n",
      "MDMin:    3 20:03:18        3.669073        1.167118\n",
      "MDMin:    4 20:03:18        3.668726        1.073326\n",
      "MDMin:    5 20:03:18        3.668275        0.947909\n",
      "MDMin:    6 20:03:18        3.667711        0.791326\n",
      "MDMin:    7 20:03:18        3.667013        0.608216\n",
      "MDMin:    8 20:03:19        3.666139        0.409124\n",
      "MDMin:    9 20:03:19        3.665008        0.212763\n",
      "MDMin:   10 20:03:19        3.663454        0.085631\n",
      "MDMin:   11 20:03:19        3.661493        0.061819\n",
      "MDMin:   12 20:03:19        3.659918        0.043581\n",
      "MDMin:   13 20:03:19        3.658979        0.027363\n",
      "--------------------------------------------------------\n",
      "Step: 5\n",
      "Time: 06/19/2025, 20:03:19\n",
      "Predicted barrier (-->): 0.34423938747542104\n",
      "Predicted barrier (<--): 0.3444881736443395\n",
      "Max. uncertainty: 0.24219909297236905\n",
      "Number of images: 7\n",
      "fmax: 1.4286856924659008\n",
      "--------------------------------------------------------\n",
      "\n",
      "Training data size:  8\n",
      "GPR model hyperparameters:  {'kerneltype': 'sqexp', 'scale': tensor(0.4000, dtype=torch.float64), 'weight': tensor(0.2857, dtype=torch.float64), 'noise': tensor(1.0000e-06, dtype=torch.float64), 'noisefactor': tensor(0.5000, dtype=torch.float64), 'prior': tensor(4.0158, dtype=torch.float64)}\n",
      "       Step     Time          Energy          fmax\n",
      "MDMin:    0 20:03:20        3.683434        0.668581\n",
      "MDMin:    1 20:03:20        3.681895        0.664643\n",
      "MDMin:    2 20:03:20        3.677361        0.652515\n",
      "MDMin:    3 20:03:20        3.670096        0.631370\n",
      "MDMin:    4 20:03:20        3.662729        0.600175\n",
      "MDMin:    5 20:03:20        3.662514        0.557047\n",
      "MDMin:    6 20:03:20        3.662284        0.499892\n",
      "MDMin:    7 20:03:21        3.662049        0.430276\n",
      "MDMin:    8 20:03:21        3.661818        0.354107\n",
      "MDMin:    9 20:03:21        3.661600        0.281391\n",
      "MDMin:   10 20:03:21        3.661404        0.220371\n",
      "MDMin:   11 20:03:21        3.661233        0.170261\n",
      "MDMin:   12 20:03:21        3.661082        0.125215\n",
      "MDMin:   13 20:03:21        3.660947        0.081591\n",
      "MDMin:   14 20:03:21        3.660834        0.039483\n",
      "--------------------------------------------------------\n",
      "Step: 6\n",
      "Time: 06/19/2025, 20:03:21\n",
      "Predicted barrier (-->): 0.3460944598049509\n",
      "Predicted barrier (<--): 0.34634324597386934\n",
      "Max. uncertainty: 0.18325885226538488\n",
      "Number of images: 7\n",
      "fmax: 0.6634635835491857\n",
      "--------------------------------------------------------\n",
      "\n",
      "Training data size:  9\n",
      "GPR model hyperparameters:  {'kerneltype': 'sqexp', 'scale': tensor(0.4000, dtype=torch.float64), 'weight': tensor(0.2706, dtype=torch.float64), 'noise': tensor(1.0000e-06, dtype=torch.float64), 'noisefactor': tensor(0.5000, dtype=torch.float64), 'prior': tensor(4.0395, dtype=torch.float64)}\n",
      "       Step     Time          Energy          fmax\n",
      "MDMin:    0 20:03:22        3.700990        0.142823\n",
      "MDMin:    1 20:03:22        3.700892        0.142394\n",
      "MDMin:    2 20:03:22        3.700600        0.141106\n",
      "MDMin:    3 20:03:23        3.700125        0.138954\n",
      "MDMin:    4 20:03:23        3.699477        0.135931\n",
      "MDMin:    5 20:03:23        3.698677        0.132030\n",
      "MDMin:    6 20:03:23        3.697746        0.127246\n",
      "MDMin:    7 20:03:23        3.696710        0.121584\n",
      "MDMin:    8 20:03:23        3.695599        0.115055\n",
      "MDMin:    9 20:03:23        3.694444        0.107681\n",
      "MDMin:   10 20:03:23        3.693277        0.099495\n",
      "MDMin:   11 20:03:23        3.692131        0.090536\n",
      "MDMin:   12 20:03:23        3.691039        0.080847\n",
      "MDMin:   13 20:03:24        3.690033        0.070473\n",
      "MDMin:   14 20:03:24        3.689143        0.059455\n",
      "MDMin:   15 20:03:24        3.688398        0.047835\n",
      "MDMin:   16 20:03:24        3.687821        0.035665\n",
      "--------------------------------------------------------\n",
      "Step: 7\n",
      "Time: 06/19/2025, 20:03:24\n",
      "Predicted barrier (-->): 0.37308119478698876\n",
      "Predicted barrier (<--): 0.3733299809559072\n",
      "Max. uncertainty: 0.13661707459666078\n",
      "Number of images: 7\n",
      "fmax: 0.14199471841228772\n",
      "--------------------------------------------------------\n",
      "\n",
      "Training data size:  10\n",
      "GPR model hyperparameters:  {'kerneltype': 'sqexp', 'scale': tensor(0.4000, dtype=torch.float64), 'weight': tensor(0.2845, dtype=torch.float64), 'noise': tensor(1.0000e-06, dtype=torch.float64), 'noisefactor': tensor(0.5000, dtype=torch.float64), 'prior': tensor(4.0783, dtype=torch.float64)}\n",
      "       Step     Time          Energy          fmax\n",
      "MDMin:    0 20:03:26        3.688007        0.485493\n",
      "MDMin:    1 20:03:27        3.688003        0.479956\n",
      "MDMin:    2 20:03:28        3.687992        0.463349\n",
      "MDMin:    3 20:03:29        3.687973        0.435714\n",
      "MDMin:    4 20:03:30        3.687947        0.397204\n",
      "MDMin:    5 20:03:30        3.687914        0.348220\n",
      "MDMin:    6 20:03:31        3.687873        0.289614\n",
      "MDMin:    7 20:03:32        3.687825        0.223034\n",
      "MDMin:    8 20:03:33        3.687767        0.151619\n",
      "MDMin:    9 20:03:34        3.687700        0.081736\n",
      "MDMin:   10 20:03:35        3.687624        0.031439\n",
      "--------------------------------------------------------\n",
      "Step: 8\n",
      "Time: 06/19/2025, 20:03:35\n",
      "Predicted barrier (-->): 0.3728848374421525\n",
      "Predicted barrier (<--): 0.37313362361107094\n",
      "Max. uncertainty: 0.12082068928036417\n",
      "Number of images: 7\n",
      "fmax: 0.5843405146703687\n",
      "--------------------------------------------------------\n",
      "\n",
      "Training data size:  11\n",
      "GPR model hyperparameters:  {'kerneltype': 'sqexp', 'scale': tensor(0.4000, dtype=torch.float64), 'weight': tensor(0.2729, dtype=torch.float64), 'noise': tensor(1.0000e-06, dtype=torch.float64), 'noisefactor': tensor(0.5000, dtype=torch.float64), 'prior': tensor(4.0869, dtype=torch.float64)}\n",
      "       Step     Time          Energy          fmax\n",
      "MDMin:    0 20:03:37        3.687880        0.167001\n",
      "MDMin:    1 20:03:38        3.687879        0.164954\n",
      "MDMin:    2 20:03:39        3.687875        0.158916\n",
      "MDMin:    3 20:03:40        3.687870        0.149236\n",
      "MDMin:    4 20:03:41        3.687862        0.136540\n",
      "MDMin:    5 20:03:42        3.687852        0.121729\n",
      "MDMin:    6 20:03:43        3.687841        0.105975\n",
      "MDMin:    7 20:03:44        3.687828        0.090620\n",
      "MDMin:    8 20:03:45        3.687814        0.078731\n",
      "MDMin:    9 20:03:46        3.687799        0.074746\n",
      "MDMin:   10 20:03:47        3.687785        0.070045\n",
      "MDMin:   11 20:03:48        3.687771        0.064680\n",
      "MDMin:   12 20:03:49        3.687758        0.058739\n",
      "MDMin:   13 20:03:50        3.687746        0.052324\n",
      "MDMin:   14 20:03:51        3.687736        0.045545\n",
      "MDMin:   15 20:03:52        3.687727        0.038512\n",
      "--------------------------------------------------------\n",
      "Step: 9\n",
      "Time: 06/19/2025, 20:03:52\n",
      "Predicted barrier (-->): 0.3729875627421686\n",
      "Predicted barrier (<--): 0.37323634891108703\n",
      "Max. uncertainty: 0.10833734833541092\n",
      "Number of images: 7\n",
      "fmax: 0.3332623274120883\n",
      "--------------------------------------------------------\n",
      "\n",
      "Training data size:  12\n",
      "GPR model hyperparameters:  {'kerneltype': 'sqexp', 'scale': tensor(0.4000, dtype=torch.float64), 'weight': tensor(0.2646, dtype=torch.float64), 'noise': tensor(1.0000e-06, dtype=torch.float64), 'noisefactor': tensor(0.5000, dtype=torch.float64), 'prior': tensor(4.0899, dtype=torch.float64)}\n",
      "Climbing image is now activated.\n",
      "       Step     Time          Energy          fmax\n",
      "MDMin:    0 20:03:53        3.687981        0.157151\n",
      "MDMin:    1 20:03:54        3.687981        0.156146\n",
      "MDMin:    2 20:03:55        3.687979        0.153146\n",
      "MDMin:    3 20:03:56        3.687977        0.148200\n",
      "MDMin:    4 20:03:57        3.687973        0.141398\n",
      "MDMin:    5 20:03:58        3.687969        0.132864\n",
      "MDMin:    6 20:03:59        3.687965        0.122759\n",
      "MDMin:    7 20:04:00        3.687960        0.111275\n",
      "MDMin:    8 20:04:01        3.687955        0.098635\n",
      "MDMin:    9 20:04:02        3.687950        0.085092\n",
      "MDMin:   10 20:04:03        3.687945        0.070927\n",
      "MDMin:   11 20:04:04        3.687940        0.056464\n",
      "MDMin:   12 20:04:05        3.687936        0.042086\n",
      "MDMin:   13 20:04:06        3.687933        0.028289\n",
      "--------------------------------------------------------\n",
      "Step: 10\n",
      "Time: 06/19/2025, 20:04:06\n",
      "Predicted barrier (-->): 0.37319328465564405\n",
      "Predicted barrier (<--): 0.3734420708245625\n",
      "Max. uncertainty: 0.06903745448339446\n",
      "Number of images: 7\n",
      "fmax: 0.41146873175909593\n",
      "--------------------------------------------------------\n",
      "\n",
      "Training data size:  13\n",
      "GPR model hyperparameters:  {'kerneltype': 'sqexp', 'scale': tensor(0.4000, dtype=torch.float64), 'weight': tensor(0.2578, dtype=torch.float64), 'noise': tensor(1.0000e-06, dtype=torch.float64), 'noisefactor': tensor(0.5000, dtype=torch.float64), 'prior': tensor(4.0949, dtype=torch.float64)}\n",
      "Climbing image is now activated.\n",
      "       Step     Time          Energy          fmax\n",
      "MDMin:    0 20:04:08        3.690593        0.076099\n",
      "MDMin:    1 20:04:09        3.690571        0.075048\n",
      "MDMin:    2 20:04:10        3.690508        0.072100\n",
      "MDMin:    3 20:04:10        3.690409        0.068506\n",
      "MDMin:    4 20:04:11        3.690283        0.063805\n",
      "MDMin:    5 20:04:12        3.690143        0.058332\n",
      "MDMin:    6 20:04:13        3.689998        0.052500\n",
      "MDMin:    7 20:04:14        3.689858        0.046759\n",
      "MDMin:    8 20:04:16        3.689729        0.041505\n",
      "MDMin:    9 20:04:17        3.689613        0.036969\n",
      "--------------------------------------------------------\n",
      "Step: 11\n",
      "Time: 06/19/2025, 20:04:17\n",
      "Predicted barrier (-->): 0.37487347200802157\n",
      "Predicted barrier (<--): 0.37512225817694\n",
      "Max. uncertainty: 0.06808707314710605\n",
      "Number of images: 7\n",
      "fmax: 0.07674729755805978\n",
      "--------------------------------------------------------\n",
      "\n",
      "Training data size:  14\n",
      "GPR model hyperparameters:  {'kerneltype': 'sqexp', 'scale': tensor(0.4000, dtype=torch.float64), 'weight': tensor(0.2511, dtype=torch.float64), 'noise': tensor(1.0000e-06, dtype=torch.float64), 'noisefactor': tensor(0.5000, dtype=torch.float64), 'prior': tensor(4.1065, dtype=torch.float64)}\n",
      "Climbing image is now activated.\n",
      "       Step     Time          Energy          fmax\n",
      "MDMin:    0 20:04:19        3.689706        0.033061\n",
      "--------------------------------------------------------\n",
      "Step: 12\n",
      "Time: 06/19/2025, 20:04:19\n",
      "Predicted barrier (-->): 0.3749666031129477\n",
      "Predicted barrier (<--): 0.37521538928186615\n",
      "Max. uncertainty: 0.0659090788181777\n",
      "Number of images: 7\n",
      "fmax: 0.0323765089246091\n",
      "--------------------------------------------------------\n",
      "\n",
      "A saddle point was found.\n",
      "Uncertainty of the images above threshold.\n",
      "NEB converged.\n",
      "The NEB path can be found in: AIDNEB.traj\n",
      "Visualize the last path using 'ase gui AIDNEB.traj\n",
      "\n",
      "-------------------------------------------------------------------------------\n",
      "You are using GPR-accelerated NEB. Please cite: \n",
      "[1] J. A. Garrido Torres, P. C. Jennings, M. H. Hansen, J. R. Boes, and T. Bligaard, Phys. Rev. Lett. 122, 156001 (2019). https://doi.org/10.1103/PhysRevLett.122.156001 \n",
      "[2] O. Koistinen, F. B. Dagbjartsdóttir, V. Ásgeirsson, A. Vehtari, and H. Jónsson, J. Chem. Phys. 147, 152720 (2017). https://doi.org/10.1063/1.4986787 \n",
      "[3] E. Garijo del Río, J. J. Mortensen, and K. W. Jacobsen, Phys. Rev. B 100, 104103 (2019). https://doi.org/10.1103/PhysRevB.100.104103. \n",
      "[4] I. W. Yeu, A. Stuke, J. López-Zorrilla, J. M Stevenson, D. R Reichman, R. A Friesner, A. Urban, and N. Artrith, npj Computational Materials 11, 156 (2025).https://doi.org/10.1038/s41524-025-01651-0. \n",
      "-------------------------------------------------------------------------------\n",
      "\n"
     ]
    }
   ],
   "source": [
    "neb.run(fmax=neb_F_max, unc_convergence=0.1, dt=0.05, ml_steps=200)"
   ]
  },
  {
   "cell_type": "markdown",
   "id": "9f45ecbd-b93a-4fac-91fb-c1ed617853e9",
   "metadata": {},
   "source": [
    "### Total reference calculations = Training data size $-$ initial and final images = 12"
   ]
  },
  {
   "cell_type": "code",
   "execution_count": 23,
   "id": "032d406a-20f0-4d26-ad4a-098749196ef3",
   "metadata": {},
   "outputs": [
    {
     "data": {
      "image/png": "[encoded data removed]",
      "text/plain": [
       "<Figure size 550x400 with 1 Axes>"
      ]
     },
     "metadata": {},
     "output_type": "display_data"
    }
   ],
   "source": [
    "images = read('AIDNEB.traj@-7:')\n",
    "\n",
    "nebtools = NEBTools(images)\n",
    "\n",
    "# Create a figure with custom parameters.\n",
    "fig = plt.figure(figsize=(5.5, 4.0))\n",
    "ax = fig.add_axes((0.15, 0.15, 0.8, 0.75))\n",
    "nebtools.plot_band(ax)\n",
    "fig.savefig('diffusion-barrier.png')"
   ]
  },
  {
   "cell_type": "code",
   "execution_count": null,
   "id": "727aa488-a3c8-4f6f-a3dd-85072c739a48",
   "metadata": {},
   "outputs": [],
   "source": []
  }
 ],
 "metadata": {
  "kernelspec": {
   "display_name": "Python 3",
   "language": "python",
   "name": "python3"
  },
  "language_info": {
   "codemirror_mode": {
    "name": "ipython",
    "version": 3
   },
   "file_extension": ".py",
   "mimetype": "text/x-python",
   "name": "python",
   "nbconvert_exporter": "python",
   "pygments_lexer": "ipython3",
   "version": "3.12.2"
  }
 },
 "nbformat": 4,
 "nbformat_minor": 5
}
