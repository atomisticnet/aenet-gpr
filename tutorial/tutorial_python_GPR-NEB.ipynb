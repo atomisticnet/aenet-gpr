{
 "cells": [
  {
   "cell_type": "markdown",
   "id": "5dccf2b3-cf12-43c8-acff-96b1d4764c59",
   "metadata": {},
   "source": [
    "# GPR-Accelerated NEB Tutorial\n",
    "\n",
    "This tutorial demonstrates how to use `aenet-gpr` for **GPR-accelerated Nudged Elastic Band (NEB) calculations**, which accelerates the demanding NEB calculations for transition state search.\n",
    "\n",
    "GPR-NEB references:\n",
    "- [J. A. Garrido Torres, P. C. Jennings, M. H. Hansen, J. R. Boes, and T. Bligaard, “Low-Scaling Algorithm for Nudged Elastic Band Calculations Using a Surrogate Machine Learning Model”, *Phys. Rev. Lett.* 122, 156001 (2019).](https://doi.org/10.1103/PhysRevLett.122.156001)\n",
    "- [O. Koistinen, F. B. Dagbjartsdóttir, V. Ásgeirsson, A. Vehtari, and H. Jónsson, \"Nudged elastic band calculations accelerated with Gaussian process regression\", *J. Chem. Phys.* 147, 152720 (2017)](https://doi.org/10.1063/1.4986787)\n",
    "\n",
    "In this [NEB example](https://ase-lib.org/tutorials/neb/diffusion.html), we use a simple **EMT potential** as the reference calculator. However, the same framework is fully compatible with any [ASE-compatible DFT calculators](https://wiki.fysik.dtu.dk/ase/ase/calculators/calculators.html).\n",
    "\n",
    "Replacing the **EMT potential** with a DFT calculator allows GPR-NEB to reproduce **transition states** on a DFT level, with **significantly fewer expensive DFT evaluations** than standard NEB."
   ]
  },
  {
   "cell_type": "markdown",
   "id": "114e60a4-3ea3-46cc-a098-e84decd429c9",
   "metadata": {},
   "source": [
    "# Surface diffusion energy barriers using the Nudged Elastic Band (NEB) method"
   ]
  },
  {
   "cell_type": "code",
   "execution_count": 1,
   "id": "359a5709-4e36-4e73-81c0-329a2a6b9b7d",
   "metadata": {},
   "outputs": [
    {
     "name": "stdout",
     "output_type": "stream",
     "text": [
      "successfully imported ase\n"
     ]
    }
   ],
   "source": [
    "try:\n",
    "    import ase.io\n",
    "    print(\"successfully imported ase\")\n",
    "except ImportError:\n",
    "    !! pip install ase --user --upgrade\n",
    "    print(\"completed installing ASE\")"
   ]
  },
  {
   "cell_type": "code",
   "execution_count": 2,
   "id": "a78de6ac-892a-43f1-9206-4075019449cd",
   "metadata": {},
   "outputs": [
    {
     "name": "stdout",
     "output_type": "stream",
     "text": [
      "You are all set for the tutorial.\n"
     ]
    }
   ],
   "source": [
    "try:\n",
    "    from ase.build import add_adsorbate, fcc100\n",
    "    from ase.calculators.emt import EMT\n",
    "    from ase.constraints import FixAtoms\n",
    "    from ase.optimize import QuasiNewton, BFGS, MDMin, FIRE\n",
    "    print(\"You are all set for the tutorial.\")\n",
    "except ImportError:\n",
    "    print(\"The notebook needs to be restarted. Run this cell again once the restart is done.\")\n",
    "    import os\n",
    "    os.kill(os.getpid(), 9)\n",
    "\n",
    "from IPython.display import Image\n",
    "import copy\n",
    "import numpy as np"
   ]
  },
  {
   "cell_type": "code",
   "execution_count": 3,
   "id": "7d54a036-d68c-4a8f-965a-2671b6eafca4",
   "metadata": {},
   "outputs": [],
   "source": [
    "# 2x2-Al(001) surface with 3 layers and an\n",
    "# Au atom adsorbed in a hollow site:\n",
    "slab = fcc100('Al', size=(2, 2, 3))\n",
    "add_adsorbate(slab, 'Au', 1.7, 'hollow')\n",
    "slab.center(axis=2, vacuum=4.0)"
   ]
  },
  {
   "cell_type": "code",
   "execution_count": 4,
   "id": "83c30b52-62d9-44a5-a3f9-8e7666c1206e",
   "metadata": {},
   "outputs": [],
   "source": [
    "# Fix second and third layers:\n",
    "mask = [atom.tag > 1 for atom in slab]\n",
    "# print(mask)\n",
    "slab.set_constraint(FixAtoms(mask=mask))"
   ]
  },
  {
   "cell_type": "code",
   "execution_count": 5,
   "id": "113823b4-9f31-4fcd-9b0c-12c6a8c6305c",
   "metadata": {},
   "outputs": [],
   "source": [
    "# Use EMT potential:\n",
    "slab.calc = EMT()"
   ]
  },
  {
   "cell_type": "code",
   "execution_count": 6,
   "id": "4db677af-e64a-490b-9972-12deeadf6c49",
   "metadata": {},
   "outputs": [
    {
     "name": "stdout",
     "output_type": "stream",
     "text": [
      "      Step     Time          Energy          fmax\n",
      "BFGS:    0 19:15:03        3.323870        0.246170\n",
      "BFGS:    1 19:15:04        3.321365        0.203512\n",
      "BFGS:    2 19:15:04        3.314740        0.020557\n"
     ]
    },
    {
     "data": {
      "text/plain": [
       "True"
      ]
     },
     "execution_count": 6,
     "metadata": {},
     "output_type": "execute_result"
    }
   ],
   "source": [
    "# Initial state:\n",
    "qn = BFGS(slab, trajectory='initial.traj')\n",
    "qn.run(fmax=0.05)"
   ]
  },
  {
   "cell_type": "code",
   "execution_count": 7,
   "id": "2b53499f-cc5f-4711-8498-83dac2b9458f",
   "metadata": {},
   "outputs": [
    {
     "data": {
      "image/png": "[encoded data removed]",
      "text/plain": [
       "<IPython.core.display.Image object>"
      ]
     },
     "execution_count": 7,
     "metadata": {},
     "output_type": "execute_result"
    }
   ],
   "source": [
    "import ase\n",
    "\n",
    "\n",
    "atoms = ase.io.read('initial.traj')\n",
    "ase.io.write('initial.png', atoms)\n",
    "Image(\"initial.png\")"
   ]
  },
  {
   "cell_type": "code",
   "execution_count": 8,
   "id": "7c8c3b5c-6c05-48ab-9183-423fa74875f4",
   "metadata": {},
   "outputs": [
    {
     "name": "stdout",
     "output_type": "stream",
     "text": [
      "      Step     Time          Energy          fmax\n",
      "BFGS:    0 19:15:13        3.320046        0.123468\n",
      "BFGS:    1 19:15:13        3.319145        0.111073\n",
      "BFGS:    2 19:15:13        3.315607        0.074162\n",
      "BFGS:    3 19:15:13        3.315469        0.075507\n",
      "BFGS:    4 19:15:13        3.314645        0.052638\n",
      "BFGS:    5 19:15:13        3.314491        0.027698\n"
     ]
    },
    {
     "data": {
      "text/plain": [
       "True"
      ]
     },
     "execution_count": 8,
     "metadata": {},
     "output_type": "execute_result"
    }
   ],
   "source": [
    "# Final state:\n",
    "slab[-1].x += slab.get_cell()[0, 0] / 2\n",
    "qn = BFGS(slab, trajectory='final.traj')\n",
    "qn.run(fmax=0.05)"
   ]
  },
  {
   "cell_type": "code",
   "execution_count": 9,
   "id": "be61ddea-efba-4948-b58e-7b88b57a13db",
   "metadata": {},
   "outputs": [
    {
     "data": {
      "image/png": "[encoded data removed]",
      "text/plain": [
       "<IPython.core.display.Image object>"
      ]
     },
     "execution_count": 9,
     "metadata": {},
     "output_type": "execute_result"
    }
   ],
   "source": [
    "atoms = ase.io.read('final.traj')\n",
    "ase.io.write('final.png', atoms)\n",
    "Image(\"final.png\")"
   ]
  },
  {
   "cell_type": "markdown",
   "id": "111e2c41-8745-4ae1-baa1-d406d1dc3e3e",
   "metadata": {},
   "source": [
    "## ===== Conventional NEB =====\n",
    "\n",
    "- Reference calculator: Effective Medium Theory (EMT)"
   ]
  },
  {
   "cell_type": "code",
   "execution_count": 10,
   "id": "e1efa647-058f-430a-a299-c2daea998f58",
   "metadata": {},
   "outputs": [],
   "source": [
    "from ase.calculators.emt import EMT\n",
    "from ase.constraints import FixAtoms\n",
    "from ase.io import read\n",
    "from ase.mep import NEB"
   ]
  },
  {
   "cell_type": "code",
   "execution_count": 11,
   "id": "69dcc8b5-c986-44e3-bf0b-8215dd08ed8d",
   "metadata": {},
   "outputs": [],
   "source": [
    "initial = read('initial.traj')\n",
    "final = read('final.traj')"
   ]
  },
  {
   "cell_type": "code",
   "execution_count": 12,
   "id": "9ee85c1e-4d62-4171-a54b-6aef1bf5ecbb",
   "metadata": {},
   "outputs": [],
   "source": [
    "constraint = FixAtoms(mask=[atom.tag > 1 for atom in initial])"
   ]
  },
  {
   "cell_type": "code",
   "execution_count": 13,
   "id": "8619e92a-dbc9-4387-b19d-c81ddc332cdd",
   "metadata": {},
   "outputs": [],
   "source": [
    "images = [initial]\n",
    "for i in range(3):\n",
    "    image = initial.copy()\n",
    "    image.calc = EMT()\n",
    "    image.set_constraint(constraint)\n",
    "    images.append(image)\n",
    "\n",
    "images.append(final)"
   ]
  },
  {
   "cell_type": "code",
   "execution_count": 14,
   "id": "31b975aa-9200-44d6-bc13-ebbe9a91c9d4",
   "metadata": {},
   "outputs": [
    {
     "name": "stdout",
     "output_type": "stream",
     "text": [
      "      Step     Time          Energy          fmax\n",
      "FIRE:    0 19:15:14        4.254555        3.670245\n",
      "FIRE:    1 19:15:14        4.024620        2.636978\n",
      "FIRE:    2 19:15:14        3.790865        1.233470\n",
      "FIRE:    3 19:15:14        3.712369        0.247911\n",
      "FIRE:    4 19:15:14        3.765812        0.737651\n",
      "FIRE:    5 19:15:14        3.762016        0.718300\n",
      "FIRE:    6 19:15:14        3.754824        0.679871\n",
      "FIRE:    7 19:15:14        3.745002        0.622930\n",
      "FIRE:    8 19:15:14        3.733627        0.548371\n",
      "FIRE:    9 19:15:14        3.721985        0.457525\n",
      "FIRE:   10 19:15:15        3.711448        0.352415\n",
      "FIRE:   11 19:15:15        3.703300        0.236508\n",
      "FIRE:   12 19:15:15        3.698224        0.165230\n",
      "FIRE:   13 19:15:15        3.697714        0.196512\n",
      "FIRE:   14 19:15:15        3.701239        0.351133\n",
      "FIRE:   15 19:15:15        3.700998        0.345876\n",
      "FIRE:   16 19:15:15        3.700532        0.335482\n",
      "FIRE:   17 19:15:15        3.699870        0.320193\n",
      "FIRE:   18 19:15:15        3.699053        0.300369\n",
      "FIRE:   19 19:15:15        3.698132        0.276478\n",
      "FIRE:   20 19:15:15        3.697162        0.249088\n",
      "FIRE:   21 19:15:15        3.696199        0.218863\n",
      "FIRE:   22 19:15:15        3.695206        0.183028\n",
      "FIRE:   23 19:15:15        3.694263        0.141722\n",
      "FIRE:   24 19:15:15        3.693468        0.109382\n",
      "FIRE:   25 19:15:15        3.692915        0.105803\n",
      "FIRE:   26 19:15:15        3.692642        0.101148\n",
      "FIRE:   27 19:15:15        3.692582        0.095207\n",
      "FIRE:   28 19:15:15        3.692553        0.111454\n",
      "FIRE:   29 19:15:15        3.692317        0.119926\n",
      "FIRE:   30 19:15:15        3.691699        0.112991\n",
      "FIRE:   31 19:15:16        3.690720        0.088483\n",
      "FIRE:   32 19:15:16        3.689712        0.047165\n"
     ]
    },
    {
     "data": {
      "text/plain": [
       "True"
      ]
     },
     "execution_count": 14,
     "metadata": {},
     "output_type": "execute_result"
    }
   ],
   "source": [
    "neb = NEB(images)\n",
    "neb.interpolate()\n",
    "qn = FIRE(neb, trajectory='neb.traj')\n",
    "qn.run(fmax=0.05)"
   ]
  },
  {
   "cell_type": "markdown",
   "id": "7026aee5-1a9a-4795-9e65-246924dc4841",
   "metadata": {},
   "source": [
    "## Total number of reference calculations \n",
    "\n",
    "- NEB steps $\\times$ number of moving images = 32 $\\times$ 3 = 96"
   ]
  },
  {
   "cell_type": "code",
   "execution_count": 15,
   "id": "390f8644-8567-4b48-a645-dcdd8dcaadc8",
   "metadata": {},
   "outputs": [
    {
     "data": {
      "image/png": "[encoded data removed]",
      "text/plain": [
       "<Figure size 550x400 with 1 Axes>"
      ]
     },
     "metadata": {},
     "output_type": "display_data"
    }
   ],
   "source": [
    "import matplotlib.pyplot as plt\n",
    "\n",
    "from ase.io import read\n",
    "from ase.mep import NEBTools\n",
    "\n",
    "images = read('neb.traj@-5:')\n",
    "\n",
    "nebtools = NEBTools(images)\n",
    "\n",
    "# Create a figure with custom parameters.\n",
    "fig = plt.figure(figsize=(5.5, 4.0))\n",
    "ax = fig.add_axes((0.15, 0.15, 0.8, 0.75))\n",
    "nebtools.plot_band(ax)\n",
    "fig.savefig('diffusion-barrier.png')"
   ]
  },
  {
   "cell_type": "markdown",
   "id": "f8eda25e-36a6-4ff8-9e1b-7242add8e80e",
   "metadata": {},
   "source": [
    "## ===== aenet-GPR accelerated NEB =====\n",
    "\n",
    "- Reference calculator: Effective Medium Theory (EMT)\n",
    "- Surrogate calculator: aenet-gpr (GPR)"
   ]
  },
  {
   "cell_type": "code",
   "execution_count": 16,
   "id": "83c09a3a-57c1-49fd-9ab3-6ac10171c8aa",
   "metadata": {},
   "outputs": [
    {
     "name": "stdout",
     "output_type": "stream",
     "text": [
      "successfully imported torch\n",
      "2.6.0+cu124\n"
     ]
    }
   ],
   "source": [
    "try:\n",
    "    import torch\n",
    "    print(\"successfully imported torch\")\n",
    "    print(torch.__version__)\n",
    "except ImportError:\n",
    "    !! pip install torch torchvision torchaudio --user --index-url https://download.pytorch.org/whl/cpu\n",
    "    print(\"completed installing torch\")"
   ]
  },
  {
   "cell_type": "code",
   "execution_count": 17,
   "id": "b4c3accc-eb4c-4028-a2d6-3c3d524a9d03",
   "metadata": {},
   "outputs": [
    {
     "name": "stdout",
     "output_type": "stream",
     "text": [
      "completed installing aenet-gpr\n",
      "Name: aenet-gpr\n",
      "Version: 2.1.18\n",
      "Summary: Atomistic simulation tools based on Gaussian Processes Regression\n",
      "Home-page: https://github.com/atomisticnet/aenet-gpr\n",
      "Author: In Won Yeu\n",
      "Author-email: iy2185@columbia.edu\n",
      "License: MPL-2.0\n",
      "Location: /data/home/iy2185/.local/lib/python3.12/site-packages\n",
      "Requires: ase, dscribe\n",
      "Required-by: \n"
     ]
    }
   ],
   "source": [
    "!! pip install aenet-gpr --user --upgrade\n",
    "print(\"completed installing aenet-gpr\")\n",
    "\n",
    "! pip show aenet-gpr"
   ]
  },
  {
   "cell_type": "code",
   "execution_count": 18,
   "id": "e3f29ed5-bd6a-45d2-9593-c8b4a254a162",
   "metadata": {},
   "outputs": [],
   "source": [
    "from aenet_gpr.tool.aidneb import AIDNEB\n",
    "from aenet_gpr.inout.input_parameter import InputParameters"
   ]
  },
  {
   "cell_type": "code",
   "execution_count": 19,
   "id": "f97a82ef-89ca-48aa-9d51-50b25d5c12db",
   "metadata": {},
   "outputs": [],
   "source": [
    "neb_interpol = \"idpp\"  # \"linear\", \"idpp\", path to trajectory file\n",
    "neb_n_images = 5  # total images including initial and final\n",
    "use_mic = False"
   ]
  },
  {
   "cell_type": "code",
   "execution_count": 20,
   "id": "08b338a7-4ea6-4316-9635-cb33d2ee17d8",
   "metadata": {},
   "outputs": [],
   "source": [
    "initial = read('initial.traj')\n",
    "final = read('final.traj')"
   ]
  },
  {
   "cell_type": "code",
   "execution_count": 21,
   "id": "6d80dccf-ad22-4098-98b8-a45ce93621aa",
   "metadata": {},
   "outputs": [],
   "source": [
    "calc = EMT()"
   ]
  },
  {
   "cell_type": "code",
   "execution_count": 22,
   "id": "cba11dec-0bdc-4532-a40b-74a15b7d9b11",
   "metadata": {},
   "outputs": [
    {
     "name": "stdout",
     "output_type": "stream",
     "text": [
      "\n",
      "d_start_end:  2.864235082465442\n",
      "spring_constant:  0.48757639454002105\n"
     ]
    }
   ],
   "source": [
    "input_param = InputParameters()\n",
    "\n",
    "neb = AIDNEB(start=initial,\n",
    "             end=final,\n",
    "             interpolation=neb_interpol,\n",
    "             n_images=neb_n_images,\n",
    "             mic=use_mic,\n",
    "             calculator=copy.deepcopy(calc),\n",
    "             use_previous_observations=True,\n",
    "             input_param=input_param)"
   ]
  },
  {
   "cell_type": "code",
   "execution_count": 23,
   "id": "2ae31a18-bf55-4083-97c7-5ad04df00f8f",
   "metadata": {},
   "outputs": [
    {
     "name": "stdout",
     "output_type": "stream",
     "text": [
      "Training data size:  3\n",
      "Descriptor:  cartesian coordinates\n",
      "Actual training data size (after removing similar data):  3\n",
      "r_min (threshold to avoid adding nearly-duplicate training data): 0.05\n",
      "GPR model hyperparameters:  {'kerneltype': 'sqexp', 'scale': tensor(0.4000, dtype=torch.float64), 'weight': tensor(1., dtype=torch.float64), 'noise': tensor(1.0000e-06, dtype=torch.float64), 'noisefactor': tensor(0.5000, dtype=torch.float64), 'prior': tensor(3.4844, dtype=torch.float64)}\n",
      "      Step     Time          Energy          fmax\n",
      "FIRE:    0 19:16:02        3.740194        1.713322\n",
      "FIRE:    1 19:16:02        3.686638        1.710883\n",
      "FIRE:    2 19:16:03        3.680178        1.644371\n",
      "FIRE:    3 19:16:03        3.669702        1.408527\n",
      "FIRE:    4 19:16:04        3.654429        1.005401\n",
      "FIRE:    5 19:16:04        3.633338        0.456620\n",
      "FIRE:    6 19:16:05        3.604323        0.449096\n",
      "FIRE:    7 19:16:05        3.568324        0.453048\n",
      "FIRE:    8 19:16:05        3.567457        0.448329\n",
      "FIRE:    9 19:16:06        3.565738        0.438805\n",
      "FIRE:   10 19:16:06        3.563198        0.424315\n",
      "FIRE:   11 19:16:07        3.559881        0.404636\n",
      "FIRE:   12 19:16:07        3.555844        0.379512\n",
      "FIRE:   13 19:16:08        3.551158        0.366263\n",
      "FIRE:   14 19:16:08        3.545905        0.353343\n",
      "FIRE:   15 19:16:09        3.539549        0.336691\n",
      "FIRE:   16 19:16:09        3.532029        0.315351\n",
      "FIRE:   17 19:16:09        3.523367        0.288176\n",
      "FIRE:   18 19:16:10        3.513724        0.253898\n",
      "FIRE:   19 19:16:10        3.503492        0.211536\n",
      "FIRE:   20 19:16:11        3.493496        0.173948\n",
      "FIRE:   21 19:16:11        3.484773        0.241546\n",
      "FIRE:   22 19:16:12        3.478027        0.265561\n",
      "FIRE:   23 19:16:13        3.473431        0.232886\n",
      "FIRE:   24 19:16:13        3.473431        0.136491\n",
      "FIRE:   25 19:16:13        3.473431        0.068578\n",
      "FIRE:   26 19:16:14        3.473431        0.061492\n",
      "FIRE:   27 19:16:14        3.473431        0.054398\n",
      "FIRE:   28 19:16:14        3.468479        0.056305\n",
      "FIRE:   29 19:16:15        3.465744        0.073160\n",
      "FIRE:   30 19:16:15        3.464280        0.085425\n",
      "FIRE:   31 19:16:16        3.463029        0.091825\n",
      "FIRE:   32 19:16:16        3.462821        0.091564\n",
      "FIRE:   33 19:16:16        3.462402        0.091060\n",
      "FIRE:   34 19:16:17        3.461769        0.090624\n",
      "FIRE:   35 19:16:18        3.460914        0.090250\n",
      "FIRE:   36 19:16:18        3.459810        0.089611\n",
      "FIRE:   37 19:16:19        3.458445        0.088735\n",
      "FIRE:   38 19:16:19        3.456807        0.087618\n",
      "FIRE:   39 19:16:19        3.454689        0.086330\n",
      "FIRE:   40 19:16:20        3.452711        0.083897\n",
      "FIRE:   41 19:16:20        3.453531        0.079172\n",
      "FIRE:   42 19:16:21        3.454741        0.070736\n",
      "FIRE:   43 19:16:21        3.454741        0.057710\n",
      "FIRE:   44 19:16:21        3.456928        0.037069\n",
      "--------------------------------------------------------\n",
      "Step: 1\n",
      "Time: 09/26/2025, 19:16:21\n",
      "Predicted barrier (-->): 0.14218870596256838\n",
      "Predicted barrier (<--): 0.14243749213148682\n",
      "Number of images: 5\n",
      "Max. uncertainty: 0.9762069132300644\n",
      "Max. force: 0.03706872181736154\n",
      "--------------------------------------------------------\n",
      "\n",
      "Training data size:  4\n",
      "Descriptor:  cartesian coordinates\n",
      "Actual training data size (after removing similar data):  4\n",
      "r_min (threshold to avoid adding nearly-duplicate training data): 0.05\n",
      "GPR model hyperparameters:  {'kerneltype': 'sqexp', 'scale': tensor(0.4000, dtype=torch.float64), 'weight': tensor(1., dtype=torch.float64), 'noise': tensor(1.0000e-06, dtype=torch.float64), 'noisefactor': tensor(0.5000, dtype=torch.float64), 'prior': tensor(3.7279, dtype=torch.float64)}\n",
      "      Step     Time          Energy          fmax\n",
      "FIRE:    0 19:16:22        4.267341        1.921654\n",
      "FIRE:    1 19:16:23        4.169498        1.953689\n",
      "FIRE:    2 19:16:24        3.973016        1.902289\n",
      "FIRE:    3 19:16:24        3.710510        1.566910\n",
      "FIRE:    4 19:16:25        3.597616        0.850893\n",
      "FIRE:    5 19:16:25        3.589285        0.241764\n",
      "FIRE:    6 19:16:26        3.578334        0.612479\n",
      "FIRE:    7 19:16:26        3.578094        0.607538\n",
      "FIRE:    8 19:16:27        3.577619        0.597364\n",
      "FIRE:    9 19:16:27        3.576917        0.581403\n",
      "FIRE:   10 19:16:28        3.576001        0.558893\n",
      "FIRE:   11 19:16:29        3.574888        0.528954\n",
      "FIRE:   12 19:16:29        3.573596        0.490727\n",
      "FIRE:   13 19:16:30        3.572145        0.443550\n",
      "FIRE:   14 19:16:30        3.570384        0.380691\n",
      "FIRE:   15 19:16:31        3.568284        0.299129\n",
      "FIRE:   16 19:16:31        3.565826        0.198675\n",
      "FIRE:   17 19:16:32        3.563003        0.118482\n",
      "FIRE:   18 19:16:32        3.559865        0.132367\n",
      "FIRE:   19 19:16:33        3.559820        0.130671\n",
      "FIRE:   20 19:16:33        3.559732        0.127302\n",
      "FIRE:   21 19:16:33        3.559601        0.122329\n",
      "FIRE:   22 19:16:34        3.559429        0.115850\n",
      "FIRE:   23 19:16:34        3.559215        0.107995\n",
      "FIRE:   24 19:16:35        3.558963        0.098927\n",
      "FIRE:   25 19:16:35        3.558674        0.088908\n",
      "FIRE:   26 19:16:35        3.558313        0.086202\n",
      "FIRE:   27 19:16:36        3.557870        0.082776\n",
      "FIRE:   28 19:16:36        3.557333        0.078464\n",
      "FIRE:   29 19:16:37        3.556692        0.073076\n",
      "FIRE:   30 19:16:37        3.555937        0.067199\n",
      "FIRE:   31 19:16:37        3.555079        0.061265\n",
      "FIRE:   32 19:16:37        3.554143        0.054130\n",
      "FIRE:   33 19:16:37        3.553168        0.045726\n",
      "--------------------------------------------------------\n",
      "Step: 2\n",
      "Time: 09/26/2025, 19:16:37\n",
      "Predicted barrier (-->): 0.2384281641377064\n",
      "Predicted barrier (<--): 0.23867695030662484\n",
      "Number of images: 5\n",
      "Max. uncertainty: 0.8968375283362201\n",
      "Max. force: 0.04572627131023501\n",
      "--------------------------------------------------------\n",
      "\n",
      "Training data size:  5\n",
      "Descriptor:  cartesian coordinates\n",
      "Actual training data size (after removing similar data):  5\n",
      "r_min (threshold to avoid adding nearly-duplicate training data): 0.05\n",
      "GPR model hyperparameters:  {'kerneltype': 'sqexp', 'scale': tensor(0.4000, dtype=torch.float64), 'weight': tensor(1., dtype=torch.float64), 'noise': tensor(1.0000e-06, dtype=torch.float64), 'noisefactor': tensor(0.5000, dtype=torch.float64), 'prior': tensor(3.7420, dtype=torch.float64)}\n",
      "      Step     Time          Energy          fmax\n",
      "FIRE:    0 19:16:39        3.581782        0.604573\n",
      "FIRE:    1 19:16:39        3.572457        0.593994\n",
      "FIRE:    2 19:16:40        3.554522        0.569377\n",
      "FIRE:    3 19:16:40        3.529670        0.524479\n",
      "FIRE:    4 19:16:40        3.500927        0.451832\n",
      "FIRE:    5 19:16:41        3.472741        0.343567\n",
      "FIRE:    6 19:16:41        3.450395        0.198460\n",
      "FIRE:    7 19:16:41        3.438184        0.077334\n",
      "FIRE:    8 19:16:41        3.437084        0.153849\n",
      "FIRE:    9 19:16:41        3.437084        0.151669\n",
      "FIRE:   10 19:16:42        3.437084        0.147337\n",
      "FIRE:   11 19:16:42        3.437084        0.140910\n",
      "FIRE:   12 19:16:42        3.437084        0.132475\n",
      "FIRE:   13 19:16:42        3.437084        0.122150\n",
      "FIRE:   14 19:16:43        3.437084        0.110084\n",
      "FIRE:   15 19:16:43        3.437084        0.096458\n",
      "FIRE:   16 19:16:43        3.437084        0.079841\n",
      "FIRE:   17 19:16:43        3.437084        0.060006\n",
      "FIRE:   18 19:16:43        3.437084        0.042872\n",
      "--------------------------------------------------------\n",
      "Step: 3\n",
      "Time: 09/26/2025, 19:16:43\n",
      "Predicted barrier (-->): 0.12234424156499779\n",
      "Predicted barrier (<--): 0.12259302773391623\n",
      "Number of images: 5\n",
      "Max. uncertainty: 0.5589064319742774\n",
      "Max. force: 0.04287237692958545\n",
      "--------------------------------------------------------\n",
      "\n",
      "Training data size:  6\n",
      "Descriptor:  cartesian coordinates\n",
      "Actual training data size (after removing similar data):  6\n",
      "r_min (threshold to avoid adding nearly-duplicate training data): 0.05\n",
      "GPR model hyperparameters:  {'kerneltype': 'sqexp', 'scale': tensor(0.4000, dtype=torch.float64), 'weight': tensor(1., dtype=torch.float64), 'noise': tensor(1.0000e-06, dtype=torch.float64), 'noisefactor': tensor(0.5000, dtype=torch.float64), 'prior': tensor(3.8122, dtype=torch.float64)}\n",
      "      Step     Time          Energy          fmax\n",
      "FIRE:    0 19:16:45        3.750185        0.591875\n",
      "FIRE:    1 19:16:45        3.742308        0.568868\n",
      "FIRE:    2 19:16:46        3.728008        0.518855\n",
      "FIRE:    3 19:16:46        3.710269        0.437581\n",
      "FIRE:    4 19:16:46        3.693392        0.331444\n",
      "FIRE:    5 19:16:47        3.681624        0.245029\n",
      "FIRE:    6 19:16:47        3.676341        0.260465\n",
      "FIRE:    7 19:16:47        3.674280        0.331217\n",
      "FIRE:    8 19:16:48        3.673503        0.323452\n",
      "FIRE:    9 19:16:48        3.672020        0.308340\n",
      "FIRE:   10 19:16:48        3.669969        0.286746\n",
      "FIRE:   11 19:16:49        3.667531        0.260027\n",
      "FIRE:   12 19:16:49        3.664915        0.230117\n",
      "FIRE:   13 19:16:49        3.662333        0.199702\n",
      "FIRE:   14 19:16:50        3.659960        0.172296\n",
      "FIRE:   15 19:16:50        3.657741        0.150445\n",
      "FIRE:   16 19:16:50        3.655846        0.141102\n",
      "FIRE:   17 19:16:51        3.654363        0.146120\n",
      "FIRE:   18 19:16:51        3.653147        0.157520\n",
      "FIRE:   19 19:16:52        3.651947        0.164881\n",
      "FIRE:   20 19:16:52        3.650437        0.159418\n",
      "FIRE:   21 19:16:53        3.648526        0.135755\n",
      "FIRE:   22 19:16:53        3.646500        0.090196\n",
      "FIRE:   23 19:16:54        3.645192        0.040261\n",
      "--------------------------------------------------------\n",
      "Step: 4\n",
      "Time: 09/26/2025, 19:16:54\n",
      "Predicted barrier (-->): 0.3304526981838354\n",
      "Predicted barrier (<--): 0.3307014843527538\n",
      "Number of images: 5\n",
      "Max. uncertainty: 0.39561835896553316\n",
      "Max. force: 0.04026117638873495\n",
      "--------------------------------------------------------\n",
      "\n",
      "Training data size:  7\n",
      "Descriptor:  cartesian coordinates\n",
      "Actual training data size (after removing similar data):  7\n",
      "r_min (threshold to avoid adding nearly-duplicate training data): 0.05\n",
      "GPR model hyperparameters:  {'kerneltype': 'sqexp', 'scale': tensor(0.4000, dtype=torch.float64), 'weight': tensor(1., dtype=torch.float64), 'noise': tensor(1.0000e-06, dtype=torch.float64), 'noisefactor': tensor(0.5000, dtype=torch.float64), 'prior': tensor(3.9504, dtype=torch.float64)}\n",
      "      Step     Time          Energy          fmax\n",
      "FIRE:    0 19:16:55        3.673633        1.147187\n",
      "FIRE:    1 19:16:56        3.658751        1.108896\n",
      "FIRE:    2 19:16:56        3.658386        0.984425\n",
      "FIRE:    3 19:16:57        3.657875        0.717951\n",
      "FIRE:    4 19:16:58        3.657264        0.262993\n",
      "FIRE:    5 19:16:58        3.656530        0.336260\n",
      "FIRE:    6 19:16:58        3.656504        0.321795\n",
      "FIRE:    7 19:16:59        3.656504        0.293708\n",
      "FIRE:    8 19:16:59        3.656504        0.253434\n",
      "FIRE:    9 19:16:59        3.656504        0.207602\n",
      "FIRE:   10 19:16:59        3.656504        0.162110\n",
      "FIRE:   11 19:17:00        3.656504        0.113634\n",
      "FIRE:   12 19:17:00        3.656504        0.067702\n",
      "FIRE:   13 19:17:00        3.656504        0.062148\n",
      "FIRE:   14 19:17:00        3.656504        0.114695\n",
      "FIRE:   15 19:17:00        3.656504        0.113467\n",
      "FIRE:   16 19:17:01        3.656504        0.111031\n",
      "FIRE:   17 19:17:01        3.656504        0.107426\n",
      "FIRE:   18 19:17:01        3.656504        0.102713\n",
      "FIRE:   19 19:17:01        3.656504        0.096981\n",
      "FIRE:   20 19:17:02        3.656504        0.090347\n",
      "FIRE:   21 19:17:02        3.656504        0.082965\n",
      "FIRE:   22 19:17:02        3.656504        0.074165\n",
      "FIRE:   23 19:17:02        3.656504        0.064061\n",
      "FIRE:   24 19:17:03        3.656362        0.053413\n",
      "FIRE:   25 19:17:03        3.656362        0.049005\n",
      "--------------------------------------------------------\n",
      "Step: 5\n",
      "Time: 09/26/2025, 19:17:03\n",
      "Predicted barrier (-->): 0.3416227554176241\n",
      "Predicted barrier (<--): 0.34187154158654254\n",
      "Number of images: 5\n",
      "Max. uncertainty: 0.21803701367645964\n",
      "Max. force: 0.049005225460729815\n",
      "--------------------------------------------------------\n",
      "\n",
      "Training data size:  8\n",
      "Descriptor:  cartesian coordinates\n",
      "Actual training data size (after removing similar data):  8\n",
      "r_min (threshold to avoid adding nearly-duplicate training data): 0.05\n",
      "GPR model hyperparameters:  {'kerneltype': 'sqexp', 'scale': tensor(0.4000, dtype=torch.float64), 'weight': tensor(1., dtype=torch.float64), 'noise': tensor(1.0000e-06, dtype=torch.float64), 'noisefactor': tensor(0.5000, dtype=torch.float64), 'prior': tensor(3.9734, dtype=torch.float64)}\n",
      "      Step     Time          Energy          fmax\n",
      "FIRE:    0 19:17:04        3.712257        0.252424\n",
      "FIRE:    1 19:17:04        3.710542        0.243781\n",
      "FIRE:    2 19:17:05        3.707329        0.226864\n",
      "FIRE:    3 19:17:05        3.703029        0.202529\n",
      "FIRE:    4 19:17:05        3.698184        0.172271\n",
      "FIRE:    5 19:17:06        3.693418        0.138489\n",
      "FIRE:    6 19:17:06        3.689325        0.104613\n",
      "FIRE:    7 19:17:06        3.686378        0.075174\n",
      "FIRE:    8 19:17:06        3.684799        0.054723\n",
      "FIRE:    9 19:17:07        3.685131        0.055916\n",
      "FIRE:   10 19:17:07        3.685102        0.054764\n",
      "FIRE:   11 19:17:07        3.685047        0.052497\n",
      "FIRE:   12 19:17:07        3.684968        0.049193\n",
      "--------------------------------------------------------\n",
      "Step: 6\n",
      "Time: 09/26/2025, 19:17:07\n",
      "Predicted barrier (-->): 0.37022853979087955\n",
      "Predicted barrier (<--): 0.370477325959798\n",
      "Number of images: 5\n",
      "Max. uncertainty: 0.1855299708379997\n",
      "Max. force: 0.04919346848954616\n",
      "--------------------------------------------------------\n",
      "\n",
      "Training data size:  9\n",
      "Descriptor:  cartesian coordinates\n",
      "Actual training data size (after removing similar data):  9\n",
      "r_min (threshold to avoid adding nearly-duplicate training data): 0.05\n",
      "GPR model hyperparameters:  {'kerneltype': 'sqexp', 'scale': tensor(0.4000, dtype=torch.float64), 'weight': tensor(1., dtype=torch.float64), 'noise': tensor(1.0000e-06, dtype=torch.float64), 'noisefactor': tensor(0.5000, dtype=torch.float64), 'prior': tensor(4.0521, dtype=torch.float64)}\n",
      "Climbing image is now activated.\n",
      "      Step     Time          Energy          fmax\n",
      "FIRE:    0 19:17:09        3.685535        0.949992\n",
      "FIRE:    1 19:17:09        3.685456        0.872425\n",
      "FIRE:    2 19:17:09        3.685456        0.707338\n",
      "FIRE:    3 19:17:09        3.685456        0.447408\n",
      "FIRE:    4 19:17:10        3.685456        0.110057\n",
      "FIRE:    5 19:17:10        3.685456        0.256005\n",
      "FIRE:    6 19:17:10        3.685440        0.247662\n",
      "FIRE:    7 19:17:11        3.685408        0.231271\n",
      "FIRE:    8 19:17:11        3.685363        0.207420\n",
      "FIRE:    9 19:17:12        3.685305        0.176993\n",
      "FIRE:   10 19:17:12        3.685305        0.141407\n",
      "FIRE:   11 19:17:12        3.685305        0.102146\n",
      "FIRE:   12 19:17:12        3.685305        0.061898\n",
      "FIRE:   13 19:17:12        3.685305        0.049284\n",
      "--------------------------------------------------------\n",
      "Step: 7\n",
      "Time: 09/26/2025, 19:17:13\n",
      "Predicted barrier (-->): 0.3705650821271478\n",
      "Predicted barrier (<--): 0.3708138682960662\n",
      "Number of images: 5\n",
      "Max. uncertainty: 0.04987017138399425\n",
      "Max. force: 0.04928416897776266\n",
      "--------------------------------------------------------\n",
      "\n",
      "A saddle point was found.\n",
      "Uncertainty of the images below threshold.\n",
      "NEB converged.\n",
      "The NEB path can be found in: AIDNEB.traj\n",
      "Visualize the last path using 'ase gui AIDNEB.traj\n",
      "\n",
      "-------------------------------------------------------------------------------\n",
      "You are using GPR-accelerated NEB. Please cite: \n",
      "[1] J. A. Garrido Torres, P. C. Jennings, M. H. Hansen, J. R. Boes, and T. Bligaard, Phys. Rev. Lett. 122, 156001 (2019). https://doi.org/10.1103/PhysRevLett.122.156001 \n",
      "[2] O. Koistinen, F. B. Dagbjartsdóttir, V. Ásgeirsson, A. Vehtari, and H. Jónsson, J. Chem. Phys. 147, 152720 (2017). https://doi.org/10.1063/1.4986787 \n",
      "[3] E. Garijo del Río, J. J. Mortensen, and K. W. Jacobsen, Phys. Rev. B 100, 104103 (2019). https://doi.org/10.1103/PhysRevB.100.104103. \n",
      "[4] I. W. Yeu, A. Stuke, J. López-Zorrilla, J. M Stevenson, D. R Reichman, R. A Friesner, A. Urban, and N. Artrith, npj Computational Materials 11, 156 (2025).https://doi.org/10.1038/s41524-025-01651-0. \n",
      "-------------------------------------------------------------------------------\n",
      "\n"
     ]
    }
   ],
   "source": [
    "neb.run(fmax=0.05, unc_convergence=0.05, ml_steps=150)"
   ]
  },
  {
   "cell_type": "markdown",
   "id": "9f45ecbd-b93a-4fac-91fb-c1ed617853e9",
   "metadata": {},
   "source": [
    "## Total number of reference calculations \n",
    "\n",
    "- Normal NEB: NEB steps $\\times$ number of moving images = 32 $\\times$ 3 = 96\n",
    "- GPR-aided NEB: Training data $-$ initial and final images = 9 - 2 = 7"
   ]
  },
  {
   "cell_type": "code",
   "execution_count": 25,
   "id": "032d406a-20f0-4d26-ad4a-098749196ef3",
   "metadata": {},
   "outputs": [
    {
     "data": {
      "image/png": "[encoded data removed]",
      "text/plain": [
       "<Figure size 550x400 with 1 Axes>"
      ]
     },
     "metadata": {},
     "output_type": "display_data"
    }
   ],
   "source": [
    "images = read('AIDNEB.traj@-5:')\n",
    "\n",
    "nebtools = NEBTools(images)\n",
    "\n",
    "# Create a figure with custom parameters.\n",
    "fig = plt.figure(figsize=(5.5, 4.0))\n",
    "ax = fig.add_axes((0.15, 0.15, 0.8, 0.75))\n",
    "nebtools.plot_band(ax)\n",
    "fig.savefig('diffusion-barrier.png')"
   ]
  },
  {
   "cell_type": "code",
   "execution_count": null,
   "id": "727aa488-a3c8-4f6f-a3dd-85072c739a48",
   "metadata": {},
   "outputs": [],
   "source": []
  }
 ],
 "metadata": {
  "kernelspec": {
   "display_name": "Python 3",
   "language": "python",
   "name": "python3"
  },
  "language_info": {
   "codemirror_mode": {
    "name": "ipython",
    "version": 3
   },
   "file_extension": ".py",
   "mimetype": "text/x-python",
   "name": "python",
   "nbconvert_exporter": "python",
   "pygments_lexer": "ipython3",
   "version": "3.12.2"
  }
 },
 "nbformat": 4,
 "nbformat_minor": 5
}
