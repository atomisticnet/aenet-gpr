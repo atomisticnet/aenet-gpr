{
 "cells": [
  {
   "cell_type": "markdown",
   "id": "5dccf2b3-cf12-43c8-acff-96b1d4764c59",
   "metadata": {},
   "source": [
    "# GPR-Accelerated NEB Tutorial\n",
    "\n",
    "This tutorial demonstrates how to use `aenet-gpr` for **GPR-accelerated Nudged Elastic Band (NEB) calculations**, which accelerates the demanding NEB calculations for transition state search.\n",
    "\n",
    "GPR-NEB references:\n",
    "- [J. A. Garrido Torres, P. C. Jennings, M. H. Hansen, J. R. Boes, and T. Bligaard, “Low-Scaling Algorithm for Nudged Elastic Band Calculations Using a Surrogate Machine Learning Model”, *Phys. Rev. Lett.* 122, 156001 (2019).](https://doi.org/10.1103/PhysRevLett.122.156001)\n",
    "- [O. Koistinen, F. B. Dagbjartsdóttir, V. Ásgeirsson, A. Vehtari, and H. Jónsson, \"Nudged elastic band calculations accelerated with Gaussian process regression\", *J. Chem. Phys.* 147, 152720 (2017)](https://doi.org/10.1063/1.4986787)\n",
    "\n",
    "In this example, we use a simple **EMT potential** as the reference calculator. However, the same framework is fully compatible with any [ASE-compatible DFT calculators](https://wiki.fysik.dtu.dk/ase/ase/calculators/calculators.html).\n",
    "\n",
    "Replacing the reference with a DFT calculator allows GPR-NEB to reproduce **transition states** on a DFT-level potential energy surface (PES), with **significantly fewer expensive DFT evaluations** than standard NEB."
   ]
  },
  {
   "cell_type": "markdown",
   "id": "114e60a4-3ea3-46cc-a098-e84decd429c9",
   "metadata": {},
   "source": [
    "# ===== Preparation ====="
   ]
  },
  {
   "attachments": {},
   "cell_type": "markdown",
   "id": "919cb78c-0660-4292-a684-b580259765e8",
   "metadata": {},
   "source": [
    "## Reference calculator: Effective Medium Theory (EMT)"
   ]
  },
  {
   "cell_type": "code",
   "execution_count": 1,
   "id": "359a5709-4e36-4e73-81c0-329a2a6b9b7d",
   "metadata": {},
   "outputs": [
    {
     "name": "stdout",
     "output_type": "stream",
     "text": [
      "successfully imported ase\n"
     ]
    }
   ],
   "source": [
    "try:\n",
    "    import ase.io\n",
    "    print(\"successfully imported ase\")\n",
    "except ImportError:\n",
    "    !! pip install ase --user --upgrade\n",
    "    print(\"completed installing ASE\")"
   ]
  },
  {
   "cell_type": "code",
   "execution_count": 2,
   "id": "a78de6ac-892a-43f1-9206-4075019449cd",
   "metadata": {},
   "outputs": [
    {
     "name": "stdout",
     "output_type": "stream",
     "text": [
      "You are all set for the tutorial.\n"
     ]
    }
   ],
   "source": [
    "try:\n",
    "    from ase.build import add_adsorbate, fcc100\n",
    "    from ase.calculators.emt import EMT\n",
    "    from ase.constraints import FixAtoms\n",
    "    from ase.optimize import QuasiNewton, BFGS, MDMin, FIRE\n",
    "    print(\"You are all set for the tutorial.\")\n",
    "except ImportError:\n",
    "    print(\"The notebook needs to be restarted. Run this cell again once the restart is done.\")\n",
    "    import os\n",
    "    os.kill(os.getpid(), 9)\n",
    "\n",
    "from IPython.display import Image\n",
    "import copy\n",
    "import numpy as np"
   ]
  },
  {
   "cell_type": "code",
   "execution_count": 3,
   "id": "7d54a036-d68c-4a8f-965a-2671b6eafca4",
   "metadata": {},
   "outputs": [],
   "source": [
    "# 2x2-Al(001) surface with 3 layers and an\n",
    "# Au atom adsorbed in a hollow site:\n",
    "slab = fcc100('Al', size=(2, 2, 3))\n",
    "add_adsorbate(slab, 'Au', 1.7, 'hollow')\n",
    "slab.center(axis=2, vacuum=4.0)"
   ]
  },
  {
   "cell_type": "code",
   "execution_count": 4,
   "id": "83c30b52-62d9-44a5-a3f9-8e7666c1206e",
   "metadata": {},
   "outputs": [],
   "source": [
    "# Fix second and third layers:\n",
    "mask = [atom.tag > 1 for atom in slab]\n",
    "# print(mask)\n",
    "slab.set_constraint(FixAtoms(mask=mask))"
   ]
  },
  {
   "cell_type": "code",
   "execution_count": 5,
   "id": "113823b4-9f31-4fcd-9b0c-12c6a8c6305c",
   "metadata": {},
   "outputs": [],
   "source": [
    "# Use EMT potential:\n",
    "slab.calc = EMT()"
   ]
  },
  {
   "cell_type": "code",
   "execution_count": 6,
   "id": "4db677af-e64a-490b-9972-12deeadf6c49",
   "metadata": {},
   "outputs": [
    {
     "name": "stdout",
     "output_type": "stream",
     "text": [
      "      Step     Time          Energy          fmax\n",
      "BFGS:    0 11:51:53        3.323870        0.246170\n",
      "BFGS:    1 11:51:53        3.321365        0.203512\n",
      "BFGS:    2 11:51:53        3.314740        0.020557\n"
     ]
    },
    {
     "data": {
      "text/plain": [
       "True"
      ]
     },
     "execution_count": 6,
     "metadata": {},
     "output_type": "execute_result"
    }
   ],
   "source": [
    "# Initial state:\n",
    "qn = BFGS(slab, trajectory='initial.traj')\n",
    "qn.run(fmax=0.05)"
   ]
  },
  {
   "cell_type": "code",
   "execution_count": 7,
   "id": "2b53499f-cc5f-4711-8498-83dac2b9458f",
   "metadata": {},
   "outputs": [
    {
     "data": {
      "image/png": "[encoded data removed]",
      "text/plain": [
       "<IPython.core.display.Image object>"
      ]
     },
     "execution_count": 7,
     "metadata": {},
     "output_type": "execute_result"
    }
   ],
   "source": [
    "import ase\n",
    "\n",
    "\n",
    "atoms = ase.io.read('initial.traj')\n",
    "ase.io.write('initial.png', atoms)\n",
    "Image(\"initial.png\")"
   ]
  },
  {
   "cell_type": "code",
   "execution_count": 8,
   "id": "7c8c3b5c-6c05-48ab-9183-423fa74875f4",
   "metadata": {},
   "outputs": [
    {
     "name": "stdout",
     "output_type": "stream",
     "text": [
      "      Step     Time          Energy          fmax\n",
      "BFGS:    0 11:51:54        3.320046        0.123468\n",
      "BFGS:    1 11:51:54        3.319145        0.111073\n",
      "BFGS:    2 11:51:54        3.315607        0.074162\n",
      "BFGS:    3 11:51:54        3.315469        0.075507\n",
      "BFGS:    4 11:51:54        3.314645        0.052638\n",
      "BFGS:    5 11:51:54        3.314491        0.027698\n"
     ]
    },
    {
     "data": {
      "text/plain": [
       "True"
      ]
     },
     "execution_count": 8,
     "metadata": {},
     "output_type": "execute_result"
    }
   ],
   "source": [
    "# Final state:\n",
    "slab[-1].x += slab.get_cell()[0, 0] / 2\n",
    "qn = BFGS(slab, trajectory='final.traj')\n",
    "qn.run(fmax=0.05)"
   ]
  },
  {
   "cell_type": "code",
   "execution_count": 9,
   "id": "be61ddea-efba-4948-b58e-7b88b57a13db",
   "metadata": {},
   "outputs": [
    {
     "data": {
      "image/png": "[encoded data removed]",
      "text/plain": [
       "<IPython.core.display.Image object>"
      ]
     },
     "execution_count": 9,
     "metadata": {},
     "output_type": "execute_result"
    }
   ],
   "source": [
    "atoms = ase.io.read('final.traj')\n",
    "ase.io.write('final.png', atoms)\n",
    "Image(\"final.png\")"
   ]
  },
  {
   "cell_type": "markdown",
   "id": "111e2c41-8745-4ae1-baa1-d406d1dc3e3e",
   "metadata": {},
   "source": [
    "# ===== Conventional NEB ====="
   ]
  },
  {
   "cell_type": "code",
   "execution_count": 10,
   "id": "e1efa647-058f-430a-a299-c2daea998f58",
   "metadata": {},
   "outputs": [],
   "source": [
    "from ase.calculators.emt import EMT\n",
    "from ase.constraints import FixAtoms\n",
    "from ase.io import read\n",
    "from ase.mep import NEB"
   ]
  },
  {
   "cell_type": "code",
   "execution_count": 37,
   "id": "69dcc8b5-c986-44e3-bf0b-8215dd08ed8d",
   "metadata": {},
   "outputs": [],
   "source": [
    "initial = read('initial.traj')\n",
    "final = read('final.traj')"
   ]
  },
  {
   "cell_type": "code",
   "execution_count": 38,
   "id": "9ee85c1e-4d62-4171-a54b-6aef1bf5ecbb",
   "metadata": {},
   "outputs": [],
   "source": [
    "constraint = FixAtoms(mask=[atom.tag > 1 for atom in initial])"
   ]
  },
  {
   "cell_type": "code",
   "execution_count": 39,
   "id": "8619e92a-dbc9-4387-b19d-c81ddc332cdd",
   "metadata": {},
   "outputs": [],
   "source": [
    "images = [initial]\n",
    "for i in range(3):\n",
    "    image = initial.copy()\n",
    "    image.calc = EMT()\n",
    "    image.set_constraint(constraint)\n",
    "    images.append(image)\n",
    "\n",
    "images.append(final)"
   ]
  },
  {
   "cell_type": "code",
   "execution_count": 40,
   "id": "31b975aa-9200-44d6-bc13-ebbe9a91c9d4",
   "metadata": {},
   "outputs": [
    {
     "name": "stdout",
     "output_type": "stream",
     "text": [
      "      Step     Time          Energy          fmax\n",
      "FIRE:    0 12:06:29        4.254555        3.670245\n",
      "FIRE:    1 12:06:29        4.024620        2.636978\n",
      "FIRE:    2 12:06:29        3.790865        1.233470\n",
      "FIRE:    3 12:06:29        3.712369        0.247911\n",
      "FIRE:    4 12:06:29        3.765812        0.737651\n",
      "FIRE:    5 12:06:29        3.762016        0.718300\n",
      "FIRE:    6 12:06:29        3.754824        0.679871\n",
      "FIRE:    7 12:06:29        3.745002        0.622930\n",
      "FIRE:    8 12:06:29        3.733627        0.548371\n",
      "FIRE:    9 12:06:29        3.721985        0.457525\n",
      "FIRE:   10 12:06:29        3.711448        0.352415\n",
      "FIRE:   11 12:06:29        3.703300        0.236508\n",
      "FIRE:   12 12:06:29        3.698224        0.165230\n",
      "FIRE:   13 12:06:29        3.697714        0.196512\n",
      "FIRE:   14 12:06:29        3.701239        0.351133\n",
      "FIRE:   15 12:06:29        3.700998        0.345876\n",
      "FIRE:   16 12:06:29        3.700532        0.335482\n",
      "FIRE:   17 12:06:29        3.699870        0.320193\n",
      "FIRE:   18 12:06:29        3.699053        0.300369\n",
      "FIRE:   19 12:06:30        3.698132        0.276478\n",
      "FIRE:   20 12:06:30        3.697162        0.249088\n",
      "FIRE:   21 12:06:30        3.696199        0.218863\n",
      "FIRE:   22 12:06:30        3.695206        0.183028\n",
      "FIRE:   23 12:06:30        3.694263        0.141722\n",
      "FIRE:   24 12:06:30        3.693468        0.109382\n",
      "FIRE:   25 12:06:30        3.692915        0.105803\n",
      "FIRE:   26 12:06:30        3.692642        0.101148\n",
      "FIRE:   27 12:06:30        3.692582        0.095207\n",
      "FIRE:   28 12:06:30        3.692553        0.111454\n",
      "FIRE:   29 12:06:30        3.692317        0.119926\n",
      "FIRE:   30 12:06:30        3.691699        0.112991\n",
      "FIRE:   31 12:06:30        3.690720        0.088483\n",
      "FIRE:   32 12:06:30        3.689712        0.047165\n"
     ]
    },
    {
     "data": {
      "text/plain": [
       "True"
      ]
     },
     "execution_count": 40,
     "metadata": {},
     "output_type": "execute_result"
    }
   ],
   "source": [
    "neb = NEB(images)\n",
    "neb.interpolate()\n",
    "qn = FIRE(neb, trajectory='neb.traj')\n",
    "qn.run(fmax=0.05)"
   ]
  },
  {
   "cell_type": "markdown",
   "id": "7026aee5-1a9a-4795-9e65-246924dc4841",
   "metadata": {},
   "source": [
    "# Total reference calculations = NEB steps $\\times$ number of moving images = 32 $\\times$ 3 = 96"
   ]
  },
  {
   "cell_type": "code",
   "execution_count": 42,
   "id": "390f8644-8567-4b48-a645-dcdd8dcaadc8",
   "metadata": {},
   "outputs": [
    {
     "data": {
      "image/png": "[encoded data removed]",
      "text/plain": [
       "<Figure size 550x400 with 1 Axes>"
      ]
     },
     "metadata": {},
     "output_type": "display_data"
    }
   ],
   "source": [
    "import matplotlib.pyplot as plt\n",
    "\n",
    "from ase.io import read\n",
    "from ase.mep import NEBTools\n",
    "\n",
    "images = read('neb.traj@-5:')\n",
    "\n",
    "nebtools = NEBTools(images)\n",
    "\n",
    "# Create a figure with custom parameters.\n",
    "fig = plt.figure(figsize=(5.5, 4.0))\n",
    "ax = fig.add_axes((0.15, 0.15, 0.8, 0.75))\n",
    "nebtools.plot_band(ax)\n",
    "fig.savefig('diffusion-barrier.png')"
   ]
  },
  {
   "cell_type": "markdown",
   "id": "f8eda25e-36a6-4ff8-9e1b-7242add8e80e",
   "metadata": {},
   "source": [
    "# ===== aenet-GPR accelerated NEB ====="
   ]
  },
  {
   "cell_type": "markdown",
   "id": "755f750d-c2d0-4e9d-903f-8cf41145fa76",
   "metadata": {},
   "source": [
    "### Reference calculator: Effective Medium Theory (EMT)\n",
    "### Surrogate calculator: aenet-gpr (GPR)"
   ]
  },
  {
   "cell_type": "code",
   "execution_count": 43,
   "id": "83c09a3a-57c1-49fd-9ab3-6ac10171c8aa",
   "metadata": {},
   "outputs": [
    {
     "name": "stdout",
     "output_type": "stream",
     "text": [
      "successfully imported torch\n",
      "2.6.0+cu124\n"
     ]
    }
   ],
   "source": [
    "try:\n",
    "    import torch\n",
    "    print(\"successfully imported torch\")\n",
    "    print(torch.__version__)\n",
    "except ImportError:\n",
    "    !! pip install torch torchvision torchaudio --user --index-url https://download.pytorch.org/whl/cpu\n",
    "    print(\"completed installing torch\")"
   ]
  },
  {
   "cell_type": "code",
   "execution_count": 44,
   "id": "b4c3accc-eb4c-4028-a2d6-3c3d524a9d03",
   "metadata": {},
   "outputs": [
    {
     "name": "stdout",
     "output_type": "stream",
     "text": [
      "completed installing aenet-gpr\n",
      "Name: aenet-gpr\n",
      "Version: 2.0.4\n",
      "Summary: Atomistic simulation tools based on Gaussian Processes Regression\n",
      "Home-page: https://github.com/atomisticnet/aenet-gpr\n",
      "Author: In Won Yeu\n",
      "Author-email: iy2185@columbia.edu\n",
      "License: MPL-2.0\n",
      "Location: /data/home/iy2185/.local/lib/python3.12/site-packages\n",
      "Requires: ase, chemcoord, dscribe\n",
      "Required-by: \n"
     ]
    }
   ],
   "source": [
    "!! pip install aenet-gpr --user --upgrade\n",
    "print(\"completed installing aenet-gpr\")\n",
    "\n",
    "! pip show aenet-gpr"
   ]
  },
  {
   "cell_type": "code",
   "execution_count": 18,
   "id": "e3f29ed5-bd6a-45d2-9593-c8b4a254a162",
   "metadata": {},
   "outputs": [],
   "source": [
    "from aenet_gpr.tool.aidneb import AIDNEB\n",
    "from aenet_gpr.inout.input_parameter import InputParameters"
   ]
  },
  {
   "cell_type": "code",
   "execution_count": 45,
   "id": "f97a82ef-89ca-48aa-9d51-50b25d5c12db",
   "metadata": {},
   "outputs": [],
   "source": [
    "neb_F_max = 0.05  # cretirian of the force for the convergence.\n",
    "neb_interpol = \"idpp\"  # \"linear\", \"idpp\", path to trajectory file\n",
    "neb_n_images = 5  # total images including initial and final\n",
    "use_mic = False"
   ]
  },
  {
   "cell_type": "code",
   "execution_count": 46,
   "id": "08b338a7-4ea6-4316-9635-cb33d2ee17d8",
   "metadata": {},
   "outputs": [],
   "source": [
    "initial = read('initial.traj')\n",
    "final = read('final.traj')"
   ]
  },
  {
   "cell_type": "code",
   "execution_count": 47,
   "id": "6d80dccf-ad22-4098-98b8-a45ce93621aa",
   "metadata": {},
   "outputs": [],
   "source": [
    "calc = EMT()"
   ]
  },
  {
   "cell_type": "code",
   "execution_count": 48,
   "id": "cba11dec-0bdc-4532-a40b-74a15b7d9b11",
   "metadata": {},
   "outputs": [
    {
     "name": "stdout",
     "output_type": "stream",
     "text": [
      "d_start_end:  2.864235082465442\n",
      "r_max (threshold to prevent over-relaxation when training data is sparse): 0.5728\n",
      "spring_constant:  0.1\n"
     ]
    }
   ],
   "source": [
    "input_param = InputParameters()\n",
    "\n",
    "neb = AIDNEB(start=initial,\n",
    "             end=final,\n",
    "             interpolation=neb_interpol,\n",
    "             n_images=neb_n_images,\n",
    "             mic=use_mic,\n",
    "             calculator=copy.deepcopy(calc),\n",
    "             use_previous_observations=True,\n",
    "             input_param=input_param)"
   ]
  },
  {
   "cell_type": "code",
   "execution_count": 49,
   "id": "2ae31a18-bf55-4083-97c7-5ad04df00f8f",
   "metadata": {},
   "outputs": [
    {
     "name": "stdout",
     "output_type": "stream",
     "text": [
      "Training data size:  3\n",
      "Descriptor:  cartesian coordinates\n",
      "Actual training data size (after removing similar data):  3\n",
      "r_min (threshold to avoid adding nearly-duplicate training data): 0.1\n",
      "GPR model hyperparameters:  {'kerneltype': 'sqexp', 'scale': tensor(0.4000, dtype=torch.float64), 'weight': tensor(1., dtype=torch.float64), 'noise': tensor(1.0000e-06, dtype=torch.float64), 'noisefactor': tensor(0.5000, dtype=torch.float64), 'prior': tensor(3.4844, dtype=torch.float64)}\n",
      "      Step     Time          Energy          fmax\n",
      "FIRE:    0 12:07:27        3.740194        1.713322\n",
      "FIRE:    1 12:07:27        3.686638        1.710885\n",
      "Relaxation stopped early: image 2 lies farther than r_max from all training data\n",
      "--------------------------------------------------------\n",
      "Step: 1\n",
      "Time: 08/29/2025, 12:07:28\n",
      "Predicted barrier (-->): 0.4254543637771162\n",
      "Predicted barrier (<--): 0.42570314994603464\n",
      "Number of images: 5\n",
      "Max. uncertainty: 0.9106862432419125\n",
      "Max. force: 1.9963127918762327\n",
      "--------------------------------------------------------\n",
      "\n",
      "Training data size:  4\n",
      "Descriptor:  cartesian coordinates\n",
      "Actual training data size (after removing similar data):  4\n",
      "r_min (threshold to avoid adding nearly-duplicate training data): 0.1\n",
      "GPR model hyperparameters:  {'kerneltype': 'sqexp', 'scale': tensor(0.4000, dtype=torch.float64), 'weight': tensor(1., dtype=torch.float64), 'noise': tensor(1.0000e-06, dtype=torch.float64), 'noisefactor': tensor(0.5000, dtype=torch.float64), 'prior': tensor(3.5762, dtype=torch.float64)}\n",
      "      Step     Time          Energy          fmax\n",
      "FIRE:    0 12:07:29        3.929559        1.713322\n",
      "FIRE:    1 12:07:30        3.918081        1.706046\n",
      "Relaxation stopped early: image 2 lies farther than r_max from all training data\n",
      "--------------------------------------------------------\n",
      "Step: 2\n",
      "Time: 08/29/2025, 12:07:31\n",
      "Predicted barrier (-->): 0.6148190333276178\n",
      "Predicted barrier (<--): 0.6150678194965362\n",
      "Number of images: 5\n",
      "Max. uncertainty: 0.7765901710122005\n",
      "Max. force: 0.7177661934548045\n",
      "--------------------------------------------------------\n",
      "\n",
      "Training data size:  5\n",
      "Descriptor:  cartesian coordinates\n",
      "Actual training data size (after removing similar data):  5\n",
      "r_min (threshold to avoid adding nearly-duplicate training data): 0.1\n",
      "GPR model hyperparameters:  {'kerneltype': 'sqexp', 'scale': tensor(0.4000, dtype=torch.float64), 'weight': tensor(1., dtype=torch.float64), 'noise': tensor(1.0000e-06, dtype=torch.float64), 'noisefactor': tensor(0.5000, dtype=torch.float64), 'prior': tensor(3.6419, dtype=torch.float64)}\n",
      "Climbing image is now activated.\n",
      "      Step     Time          Energy          fmax\n",
      "FIRE:    0 12:07:32        4.254555        3.670246\n",
      "FIRE:    1 12:07:33        3.981982        3.717464\n",
      "FIRE:    2 12:07:34        3.536526        3.271949\n",
      "FIRE:    3 12:07:34        3.353421        1.743321\n",
      "FIRE:    4 12:07:35        3.190374        1.159728\n",
      "FIRE:    5 12:07:36        3.098041        0.944565\n",
      "Relaxation stopped early: image 2 lies farther than r_max from all training data\n",
      "--------------------------------------------------------\n",
      "Step: 3\n",
      "Time: 08/29/2025, 12:07:36\n",
      "Predicted barrier (-->): 6.972200594645983e-14\n",
      "Predicted barrier (<--): 0.00024878616898815764\n",
      "Number of images: 5\n",
      "Max. uncertainty: 0.6176501785531606\n",
      "Max. force: 0.020556701461525446\n",
      "--------------------------------------------------------\n",
      "\n",
      "Training data size:  6\n",
      "Descriptor:  cartesian coordinates\n",
      "Actual training data size (after removing similar data):  6\n",
      "r_min (threshold to avoid adding nearly-duplicate training data): 0.1\n",
      "GPR model hyperparameters:  {'kerneltype': 'sqexp', 'scale': tensor(0.4000, dtype=torch.float64), 'weight': tensor(1., dtype=torch.float64), 'noise': tensor(1.0000e-06, dtype=torch.float64), 'noisefactor': tensor(0.5000, dtype=torch.float64), 'prior': tensor(3.9503, dtype=torch.float64)}\n",
      "      Step     Time          Energy          fmax\n",
      "FIRE:    0 12:07:38        3.992353        1.421496\n",
      "FIRE:    1 12:07:38        3.935721        1.426813\n",
      "FIRE:    2 12:07:39        3.823746        1.342162\n",
      "FIRE:    3 12:07:40        3.683619        0.974914\n",
      "FIRE:    4 12:07:41        3.600242        0.196016\n",
      "FIRE:    5 12:07:41        3.654539        1.243250\n",
      "FIRE:    6 12:07:42        3.647520        1.173622\n",
      "FIRE:    7 12:07:43        3.635108        1.039603\n",
      "FIRE:    8 12:07:43        3.620141        0.851617\n",
      "FIRE:    9 12:07:44        3.605955        0.624806\n",
      "FIRE:   10 12:07:45        3.595530        0.377754\n",
      "FIRE:   11 12:07:46        3.590724        0.130997\n",
      "FIRE:   12 12:07:46        3.591472        0.207546\n",
      "FIRE:   13 12:07:47        3.591410        0.205780\n",
      "FIRE:   14 12:07:48        3.591290        0.202270\n",
      "FIRE:   15 12:07:49        3.591115        0.197065\n",
      "FIRE:   16 12:07:49        3.590891        0.190235\n",
      "FIRE:   17 12:07:50        3.590627        0.181880\n",
      "FIRE:   18 12:07:51        3.590332        0.172129\n",
      "FIRE:   19 12:07:52        3.590016        0.161146\n",
      "FIRE:   20 12:07:52        3.589655        0.147804\n",
      "FIRE:   21 12:07:53        3.589257        0.131984\n",
      "FIRE:   22 12:07:53        3.588838        0.113830\n",
      "FIRE:   23 12:07:54        3.588417        0.094027\n",
      "FIRE:   24 12:07:55        3.588016        0.074308\n",
      "FIRE:   25 12:07:56        3.587646        0.093982\n",
      "FIRE:   26 12:07:56        3.587295        0.115064\n",
      "FIRE:   27 12:07:57        3.586924        0.128965\n",
      "FIRE:   28 12:07:58        3.586478        0.132099\n",
      "FIRE:   29 12:07:59        3.585925        0.121390\n",
      "FIRE:   30 12:07:59        3.585292        0.094900\n",
      "FIRE:   31 12:08:00        3.584706        0.052845\n",
      "FIRE:   32 12:08:01        3.584369        0.021208\n",
      "--------------------------------------------------------\n",
      "Step: 4\n",
      "Time: 08/29/2025, 12:08:01\n",
      "Predicted barrier (-->): 0.26962940355501175\n",
      "Predicted barrier (<--): 0.2698781897239302\n",
      "Number of images: 5\n",
      "Max. uncertainty: 0.3136473817124139\n",
      "Max. force: 0.021218219970388127\n",
      "--------------------------------------------------------\n",
      "\n",
      "Training data size:  7\n",
      "Descriptor:  cartesian coordinates\n",
      "Actual training data size (after removing similar data):  7\n",
      "Candidate scales: tensor([0.2000, 0.4000, 0.8000])\n",
      "Updated scale: 0.800000011920929\n",
      "Updated weight: 0.8829375834966888\n",
      "r_min (threshold to avoid adding nearly-duplicate training data): 0.1\n",
      "GPR model hyperparameters:  {'kerneltype': 'sqexp', 'scale': tensor(0.8000), 'weight': tensor(0.8829, dtype=torch.float64), 'noise': tensor(1.0000e-06, dtype=torch.float64), 'noisefactor': tensor(0.5000, dtype=torch.float64), 'prior': tensor(5.3414, dtype=torch.float64)}\n",
      "Climbing image is now activated.\n",
      "      Step     Time          Energy          fmax\n",
      "FIRE:    0 12:08:03        3.651409        0.994208\n",
      "FIRE:    1 12:08:04        3.651106        0.885573\n",
      "FIRE:    2 12:08:05        3.650598        0.662810\n",
      "FIRE:    3 12:08:05        3.650032        0.395658\n",
      "FIRE:    4 12:08:06        3.649533        0.116660\n",
      "FIRE:    5 12:08:07        3.649133        0.466034\n",
      "FIRE:    6 12:08:07        3.649124        0.446545\n",
      "FIRE:    7 12:08:08        3.649108        0.408614\n",
      "FIRE:    8 12:08:09        3.649086        0.354262\n",
      "FIRE:    9 12:08:09        3.649062        0.286342\n",
      "FIRE:   10 12:08:10        3.649038        0.208371\n",
      "FIRE:   11 12:08:11        3.649019        0.124430\n",
      "FIRE:   12 12:08:11        3.649008        0.059644\n",
      "FIRE:   13 12:08:12        3.649011        0.060899\n",
      "FIRE:   14 12:08:13        3.649011        0.060759\n",
      "FIRE:   15 12:08:13        3.649012        0.060481\n",
      "FIRE:   16 12:08:14        3.649014        0.060064\n",
      "FIRE:   17 12:08:15        3.649016        0.059511\n",
      "FIRE:   18 12:08:15        3.649018        0.058822\n",
      "FIRE:   19 12:08:16        3.649021        0.057999\n",
      "FIRE:   20 12:08:17        3.649025        0.057045\n",
      "FIRE:   21 12:08:18        3.649030        0.055839\n",
      "FIRE:   22 12:08:18        3.649037        0.054329\n",
      "FIRE:   23 12:08:19        3.649046        0.052453\n",
      "FIRE:   24 12:08:20        3.649059        0.050142\n",
      "FIRE:   25 12:08:21        3.649077        0.047322\n",
      "FIRE:   26 12:08:21        3.649101        0.043916\n",
      "FIRE:   27 12:08:22        3.649134        0.041967\n",
      "FIRE:   28 12:08:23        3.649178        0.040940\n",
      "FIRE:   29 12:08:23        3.649236        0.039636\n",
      "--------------------------------------------------------\n",
      "Step: 5\n",
      "Time: 08/29/2025, 12:08:23\n",
      "Predicted barrier (-->): 0.3344963513734771\n",
      "Predicted barrier (<--): 0.33474513754239554\n",
      "Number of images: 5\n",
      "Max. uncertainty: 0.03967514960589173\n",
      "Max. force: 0.038998610802269386\n",
      "--------------------------------------------------------\n",
      "\n",
      "A saddle point was found.\n",
      "Uncertainty of the images above threshold.\n",
      "NEB converged.\n",
      "The NEB path can be found in: AIDNEB.traj\n",
      "Visualize the last path using 'ase gui AIDNEB.traj\n",
      "\n",
      "-------------------------------------------------------------------------------\n",
      "You are using GPR-accelerated NEB. Please cite: \n",
      "[1] J. A. Garrido Torres, P. C. Jennings, M. H. Hansen, J. R. Boes, and T. Bligaard, Phys. Rev. Lett. 122, 156001 (2019). https://doi.org/10.1103/PhysRevLett.122.156001 \n",
      "[2] O. Koistinen, F. B. Dagbjartsdóttir, V. Ásgeirsson, A. Vehtari, and H. Jónsson, J. Chem. Phys. 147, 152720 (2017). https://doi.org/10.1063/1.4986787 \n",
      "[3] E. Garijo del Río, J. J. Mortensen, and K. W. Jacobsen, Phys. Rev. B 100, 104103 (2019). https://doi.org/10.1103/PhysRevB.100.104103. \n",
      "[4] I. W. Yeu, A. Stuke, J. López-Zorrilla, J. M Stevenson, D. R Reichman, R. A Friesner, A. Urban, and N. Artrith, npj Computational Materials 11, 156 (2025).https://doi.org/10.1038/s41524-025-01651-0. \n",
      "-------------------------------------------------------------------------------\n",
      "\n"
     ]
    }
   ],
   "source": [
    "neb.run(fmax=neb_F_max, unc_convergence=0.05, ml_steps=150)"
   ]
  },
  {
   "cell_type": "markdown",
   "id": "9f45ecbd-b93a-4fac-91fb-c1ed617853e9",
   "metadata": {},
   "source": [
    "# Total reference calculations = Training data size (7) $-$ initial and final images (2) = 5"
   ]
  },
  {
   "cell_type": "code",
   "execution_count": 50,
   "id": "032d406a-20f0-4d26-ad4a-098749196ef3",
   "metadata": {},
   "outputs": [
    {
     "data": {
      "image/png": "[encoded data removed]",
      "text/plain": [
       "<Figure size 550x400 with 1 Axes>"
      ]
     },
     "metadata": {},
     "output_type": "display_data"
    }
   ],
   "source": [
    "images = read('AIDNEB.traj@-7:')\n",
    "\n",
    "nebtools = NEBTools(images)\n",
    "\n",
    "# Create a figure with custom parameters.\n",
    "fig = plt.figure(figsize=(5.5, 4.0))\n",
    "ax = fig.add_axes((0.15, 0.15, 0.8, 0.75))\n",
    "nebtools.plot_band(ax)\n",
    "fig.savefig('diffusion-barrier.png')"
   ]
  },
  {
   "cell_type": "code",
   "execution_count": null,
   "id": "727aa488-a3c8-4f6f-a3dd-85072c739a48",
   "metadata": {},
   "outputs": [],
   "source": []
  }
 ],
 "metadata": {
  "kernelspec": {
   "display_name": "Python 3",
   "language": "python",
   "name": "python3"
  },
  "language_info": {
   "codemirror_mode": {
    "name": "ipython",
    "version": 3
   },
   "file_extension": ".py",
   "mimetype": "text/x-python",
   "name": "python",
   "nbconvert_exporter": "python",
   "pygments_lexer": "ipython3",
   "version": "3.12.2"
  }
 },
 "nbformat": 4,
 "nbformat_minor": 5
}
