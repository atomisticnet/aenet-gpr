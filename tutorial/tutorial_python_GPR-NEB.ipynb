{
 "cells": [
  {
   "cell_type": "markdown",
   "id": "5dccf2b3-cf12-43c8-acff-96b1d4764c59",
   "metadata": {},
   "source": [
    "# GPR-Accelerated NEB Tutorial\n",
    "\n",
    "This tutorial demonstrates how to use `aenet-gpr` for **GPR-accelerated Nudged Elastic Band (NEB) calculations**, which accelerates the demanding NEB calculations for transition state search.\n",
    "\n",
    "GPR-NEB references:\n",
    "- [J. A. Garrido Torres, P. C. Jennings, M. H. Hansen, J. R. Boes, and T. Bligaard, “Low-Scaling Algorithm for Nudged Elastic Band Calculations Using a Surrogate Machine Learning Model”, *Phys. Rev. Lett.* 122, 156001 (2019).](https://doi.org/10.1103/PhysRevLett.122.156001)\n",
    "- [O. Koistinen, F. B. Dagbjartsdóttir, V. Ásgeirsson, A. Vehtari, and H. Jónsson, \"Nudged elastic band calculations accelerated with Gaussian process regression\", *J. Chem. Phys.* 147, 152720 (2017)](https://doi.org/10.1063/1.4986787)\n",
    "\n",
    "In this [NEB example](https://ase-lib.org/tutorials/neb/diffusion.html), we use a simple **EMT potential** as the reference calculator. However, the same framework is fully compatible with any [ASE-compatible DFT calculators](https://wiki.fysik.dtu.dk/ase/ase/calculators/calculators.html).\n",
    "\n",
    "Replacing the **EMT potential** with a DFT calculator allows GPR-NEB to reproduce **transition states** on a DFT level, with **significantly fewer expensive DFT evaluations** than standard NEB."
   ]
  },
  {
   "cell_type": "markdown",
   "id": "114e60a4-3ea3-46cc-a098-e84decd429c9",
   "metadata": {},
   "source": [
    "# Surface diffusion energy barriers using the Nudged Elastic Band (NEB) method"
   ]
  },
  {
   "cell_type": "code",
   "execution_count": 1,
   "id": "359a5709-4e36-4e73-81c0-329a2a6b9b7d",
   "metadata": {},
   "outputs": [
    {
     "name": "stdout",
     "output_type": "stream",
     "text": [
      "successfully imported ase\n"
     ]
    }
   ],
   "source": [
    "try:\n",
    "    import ase.io\n",
    "    print(\"successfully imported ase\")\n",
    "except ImportError:\n",
    "    !! pip install ase --user --upgrade\n",
    "    print(\"completed installing ASE\")"
   ]
  },
  {
   "cell_type": "code",
   "execution_count": 2,
   "id": "a78de6ac-892a-43f1-9206-4075019449cd",
   "metadata": {},
   "outputs": [
    {
     "name": "stdout",
     "output_type": "stream",
     "text": [
      "You are all set for the tutorial.\n"
     ]
    }
   ],
   "source": [
    "try:\n",
    "    from ase.build import add_adsorbate, fcc100\n",
    "    from ase.calculators.emt import EMT\n",
    "    from ase.constraints import FixAtoms\n",
    "    from ase.optimize import QuasiNewton, BFGS, MDMin, FIRE\n",
    "    print(\"You are all set for the tutorial.\")\n",
    "except ImportError:\n",
    "    print(\"The notebook needs to be restarted. Run this cell again once the restart is done.\")\n",
    "    import os\n",
    "    os.kill(os.getpid(), 9)\n",
    "\n",
    "from IPython.display import Image\n",
    "import copy\n",
    "import numpy as np"
   ]
  },
  {
   "cell_type": "code",
   "execution_count": 3,
   "id": "7d54a036-d68c-4a8f-965a-2671b6eafca4",
   "metadata": {},
   "outputs": [],
   "source": [
    "# 2x2-Al(001) surface with 3 layers and an\n",
    "# Au atom adsorbed in a hollow site:\n",
    "slab = fcc100('Al', size=(2, 2, 3))\n",
    "add_adsorbate(slab, 'Au', 1.7, 'hollow')\n",
    "slab.center(axis=2, vacuum=4.0)"
   ]
  },
  {
   "cell_type": "code",
   "execution_count": 4,
   "id": "83c30b52-62d9-44a5-a3f9-8e7666c1206e",
   "metadata": {},
   "outputs": [],
   "source": [
    "# Fix second and third layers:\n",
    "mask = [atom.tag > 1 for atom in slab]\n",
    "# print(mask)\n",
    "slab.set_constraint(FixAtoms(mask=mask))"
   ]
  },
  {
   "cell_type": "code",
   "execution_count": 5,
   "id": "113823b4-9f31-4fcd-9b0c-12c6a8c6305c",
   "metadata": {},
   "outputs": [],
   "source": [
    "# Use EMT potential:\n",
    "slab.calc = EMT()"
   ]
  },
  {
   "cell_type": "code",
   "execution_count": 6,
   "id": "4db677af-e64a-490b-9972-12deeadf6c49",
   "metadata": {},
   "outputs": [
    {
     "name": "stdout",
     "output_type": "stream",
     "text": [
      "      Step     Time          Energy          fmax\n",
      "BFGS:    0 17:43:35        3.323870        0.246170\n",
      "BFGS:    1 17:43:35        3.321365        0.203512\n",
      "BFGS:    2 17:43:35        3.314740        0.020557\n"
     ]
    },
    {
     "data": {
      "text/plain": [
       "True"
      ]
     },
     "execution_count": 6,
     "metadata": {},
     "output_type": "execute_result"
    }
   ],
   "source": [
    "# Initial state:\n",
    "qn = BFGS(slab, trajectory='initial.traj')\n",
    "qn.run(fmax=0.05)"
   ]
  },
  {
   "cell_type": "code",
   "execution_count": 7,
   "id": "2b53499f-cc5f-4711-8498-83dac2b9458f",
   "metadata": {},
   "outputs": [
    {
     "data": {
      "image/png": "[encoded data removed]",
      "text/plain": [
       "<IPython.core.display.Image object>"
      ]
     },
     "execution_count": 7,
     "metadata": {},
     "output_type": "execute_result"
    }
   ],
   "source": [
    "import ase\n",
    "\n",
    "\n",
    "atoms = ase.io.read('initial.traj')\n",
    "ase.io.write('initial.png', atoms)\n",
    "Image(\"initial.png\")"
   ]
  },
  {
   "cell_type": "code",
   "execution_count": 8,
   "id": "7c8c3b5c-6c05-48ab-9183-423fa74875f4",
   "metadata": {},
   "outputs": [
    {
     "name": "stdout",
     "output_type": "stream",
     "text": [
      "      Step     Time          Energy          fmax\n",
      "BFGS:    0 17:43:43        3.320046        0.123468\n",
      "BFGS:    1 17:43:43        3.319145        0.111073\n",
      "BFGS:    2 17:43:44        3.315607        0.074162\n",
      "BFGS:    3 17:43:44        3.315469        0.075507\n",
      "BFGS:    4 17:43:44        3.314645        0.052638\n",
      "BFGS:    5 17:43:44        3.314491        0.027698\n"
     ]
    },
    {
     "data": {
      "text/plain": [
       "True"
      ]
     },
     "execution_count": 8,
     "metadata": {},
     "output_type": "execute_result"
    }
   ],
   "source": [
    "# Final state:\n",
    "slab[-1].x += slab.get_cell()[0, 0] / 2\n",
    "qn = BFGS(slab, trajectory='final.traj')\n",
    "qn.run(fmax=0.05)"
   ]
  },
  {
   "cell_type": "code",
   "execution_count": 9,
   "id": "be61ddea-efba-4948-b58e-7b88b57a13db",
   "metadata": {},
   "outputs": [
    {
     "data": {
      "image/png": "[encoded data removed]",
      "text/plain": [
       "<IPython.core.display.Image object>"
      ]
     },
     "execution_count": 9,
     "metadata": {},
     "output_type": "execute_result"
    }
   ],
   "source": [
    "atoms = ase.io.read('final.traj')\n",
    "ase.io.write('final.png', atoms)\n",
    "Image(\"final.png\")"
   ]
  },
  {
   "cell_type": "markdown",
   "id": "111e2c41-8745-4ae1-baa1-d406d1dc3e3e",
   "metadata": {},
   "source": [
    "## ===== Conventional NEB =====\n",
    "\n",
    "- Reference calculator: Effective Medium Theory (EMT)"
   ]
  },
  {
   "cell_type": "code",
   "execution_count": 10,
   "id": "e1efa647-058f-430a-a299-c2daea998f58",
   "metadata": {},
   "outputs": [],
   "source": [
    "from ase.calculators.emt import EMT\n",
    "from ase.constraints import FixAtoms\n",
    "from ase.io import read\n",
    "from ase.mep import NEB"
   ]
  },
  {
   "cell_type": "code",
   "execution_count": 11,
   "id": "69dcc8b5-c986-44e3-bf0b-8215dd08ed8d",
   "metadata": {},
   "outputs": [],
   "source": [
    "initial = read('initial.traj')\n",
    "final = read('final.traj')"
   ]
  },
  {
   "cell_type": "code",
   "execution_count": 12,
   "id": "9ee85c1e-4d62-4171-a54b-6aef1bf5ecbb",
   "metadata": {},
   "outputs": [],
   "source": [
    "constraint = FixAtoms(mask=[atom.tag > 1 for atom in initial])"
   ]
  },
  {
   "cell_type": "code",
   "execution_count": 13,
   "id": "8619e92a-dbc9-4387-b19d-c81ddc332cdd",
   "metadata": {},
   "outputs": [],
   "source": [
    "images = [initial]\n",
    "for i in range(3):\n",
    "    image = initial.copy()\n",
    "    image.calc = EMT()\n",
    "    image.set_constraint(constraint)\n",
    "    images.append(image)\n",
    "\n",
    "images.append(final)"
   ]
  },
  {
   "cell_type": "code",
   "execution_count": 14,
   "id": "31b975aa-9200-44d6-bc13-ebbe9a91c9d4",
   "metadata": {},
   "outputs": [
    {
     "name": "stdout",
     "output_type": "stream",
     "text": [
      "      Step     Time          Energy          fmax\n",
      "FIRE:    0 17:43:44        4.254555        3.670245\n",
      "FIRE:    1 17:43:44        4.024620        2.636978\n",
      "FIRE:    2 17:43:44        3.790865        1.233470\n",
      "FIRE:    3 17:43:44        3.712369        0.247911\n",
      "FIRE:    4 17:43:44        3.765812        0.737651\n",
      "FIRE:    5 17:43:45        3.762016        0.718300\n",
      "FIRE:    6 17:43:45        3.754824        0.679871\n",
      "FIRE:    7 17:43:45        3.745002        0.622930\n",
      "FIRE:    8 17:43:45        3.733627        0.548371\n",
      "FIRE:    9 17:43:45        3.721985        0.457525\n",
      "FIRE:   10 17:43:45        3.711448        0.352415\n",
      "FIRE:   11 17:43:45        3.703300        0.236508\n",
      "FIRE:   12 17:43:45        3.698224        0.165230\n",
      "FIRE:   13 17:43:45        3.697714        0.196512\n",
      "FIRE:   14 17:43:45        3.701239        0.351133\n",
      "FIRE:   15 17:43:45        3.700998        0.345876\n",
      "FIRE:   16 17:43:45        3.700532        0.335482\n",
      "FIRE:   17 17:43:45        3.699870        0.320193\n",
      "FIRE:   18 17:43:45        3.699053        0.300369\n",
      "FIRE:   19 17:43:45        3.698132        0.276478\n",
      "FIRE:   20 17:43:45        3.697162        0.249088\n",
      "FIRE:   21 17:43:45        3.696199        0.218863\n",
      "FIRE:   22 17:43:45        3.695206        0.183028\n",
      "FIRE:   23 17:43:45        3.694263        0.141722\n",
      "FIRE:   24 17:43:45        3.693468        0.109382\n",
      "FIRE:   25 17:43:45        3.692915        0.105803\n",
      "FIRE:   26 17:43:45        3.692642        0.101148\n",
      "FIRE:   27 17:43:46        3.692582        0.095207\n",
      "FIRE:   28 17:43:46        3.692553        0.111454\n",
      "FIRE:   29 17:43:46        3.692317        0.119926\n",
      "FIRE:   30 17:43:46        3.691699        0.112991\n",
      "FIRE:   31 17:43:46        3.690720        0.088483\n",
      "FIRE:   32 17:43:46        3.689712        0.047165\n"
     ]
    },
    {
     "data": {
      "text/plain": [
       "True"
      ]
     },
     "execution_count": 14,
     "metadata": {},
     "output_type": "execute_result"
    }
   ],
   "source": [
    "neb = NEB(images)\n",
    "neb.interpolate()\n",
    "qn = FIRE(neb, trajectory='neb.traj')\n",
    "qn.run(fmax=0.05)"
   ]
  },
  {
   "cell_type": "markdown",
   "id": "7026aee5-1a9a-4795-9e65-246924dc4841",
   "metadata": {},
   "source": [
    "## Total number of reference calculations \n",
    "\n",
    "- NEB steps $\\times$ number of moving images = 32 $\\times$ 3 = 96"
   ]
  },
  {
   "cell_type": "code",
   "execution_count": 15,
   "id": "390f8644-8567-4b48-a645-dcdd8dcaadc8",
   "metadata": {},
   "outputs": [
    {
     "data": {
      "image/png": "[encoded data removed]",
      "text/plain": [
       "<Figure size 550x400 with 1 Axes>"
      ]
     },
     "metadata": {},
     "output_type": "display_data"
    }
   ],
   "source": [
    "import matplotlib.pyplot as plt\n",
    "\n",
    "from ase.io import read\n",
    "from ase.mep import NEBTools\n",
    "\n",
    "images = read('neb.traj@-5:')\n",
    "\n",
    "nebtools = NEBTools(images)\n",
    "\n",
    "# Create a figure with custom parameters.\n",
    "fig = plt.figure(figsize=(5.5, 4.0))\n",
    "ax = fig.add_axes((0.15, 0.15, 0.8, 0.75))\n",
    "nebtools.plot_band(ax)\n",
    "fig.savefig('diffusion-barrier.png')"
   ]
  },
  {
   "cell_type": "markdown",
   "id": "f8eda25e-36a6-4ff8-9e1b-7242add8e80e",
   "metadata": {},
   "source": [
    "## ===== aenet-GPR accelerated NEB =====\n",
    "\n",
    "- Reference calculator: Effective Medium Theory (EMT)\n",
    "- Surrogate calculator: aenet-gpr (GPR)"
   ]
  },
  {
   "cell_type": "code",
   "execution_count": 16,
   "id": "83c09a3a-57c1-49fd-9ab3-6ac10171c8aa",
   "metadata": {},
   "outputs": [
    {
     "name": "stdout",
     "output_type": "stream",
     "text": [
      "successfully imported torch\n",
      "2.6.0+cu124\n"
     ]
    }
   ],
   "source": [
    "try:\n",
    "    import torch\n",
    "    print(\"successfully imported torch\")\n",
    "    print(torch.__version__)\n",
    "except ImportError:\n",
    "    !! pip install torch torchvision torchaudio --user --index-url https://download.pytorch.org/whl/cpu\n",
    "    print(\"completed installing torch\")"
   ]
  },
  {
   "cell_type": "code",
   "execution_count": 17,
   "id": "b4c3accc-eb4c-4028-a2d6-3c3d524a9d03",
   "metadata": {},
   "outputs": [
    {
     "name": "stdout",
     "output_type": "stream",
     "text": [
      "completed installing aenet-gpr\n",
      "Name: aenet-gpr\n",
      "Version: 2.1.17\n",
      "Summary: Atomistic simulation tools based on Gaussian Processes Regression\n",
      "Home-page: https://github.com/atomisticnet/aenet-gpr\n",
      "Author: In Won Yeu\n",
      "Author-email: iy2185@columbia.edu\n",
      "License: MPL-2.0\n",
      "Location: /data/home/iy2185/.local/lib/python3.12/site-packages\n",
      "Requires: ase, dscribe\n",
      "Required-by: \n"
     ]
    }
   ],
   "source": [
    "!! pip install aenet-gpr --user --upgrade\n",
    "print(\"completed installing aenet-gpr\")\n",
    "\n",
    "! pip show aenet-gpr"
   ]
  },
  {
   "cell_type": "code",
   "execution_count": 18,
   "id": "e3f29ed5-bd6a-45d2-9593-c8b4a254a162",
   "metadata": {},
   "outputs": [],
   "source": [
    "from aenet_gpr.tool.aidneb import AIDNEB\n",
    "from aenet_gpr.inout.input_parameter import InputParameters"
   ]
  },
  {
   "cell_type": "code",
   "execution_count": 29,
   "id": "f97a82ef-89ca-48aa-9d51-50b25d5c12db",
   "metadata": {},
   "outputs": [],
   "source": [
    "neb_interpol = \"idpp\"  # \"linear\", \"idpp\", path to trajectory file\n",
    "neb_n_images = 5  # total images including initial and final\n",
    "use_mic = False"
   ]
  },
  {
   "cell_type": "code",
   "execution_count": 30,
   "id": "08b338a7-4ea6-4316-9635-cb33d2ee17d8",
   "metadata": {},
   "outputs": [],
   "source": [
    "initial = read('initial.traj')\n",
    "final = read('final.traj')"
   ]
  },
  {
   "cell_type": "code",
   "execution_count": 31,
   "id": "6d80dccf-ad22-4098-98b8-a45ce93621aa",
   "metadata": {},
   "outputs": [],
   "source": [
    "calc = EMT()"
   ]
  },
  {
   "cell_type": "code",
   "execution_count": 32,
   "id": "cba11dec-0bdc-4532-a40b-74a15b7d9b11",
   "metadata": {},
   "outputs": [
    {
     "name": "stdout",
     "output_type": "stream",
     "text": [
      "\n",
      "d_start_end:  2.864235082465442\n",
      "spring_constant:  0.48757639454002105\n"
     ]
    }
   ],
   "source": [
    "input_param = InputParameters()\n",
    "\n",
    "neb = AIDNEB(start=initial,\n",
    "             end=final,\n",
    "             interpolation=neb_interpol,\n",
    "             n_images=neb_n_images,\n",
    "             mic=use_mic,\n",
    "             calculator=copy.deepcopy(calc),\n",
    "             use_previous_observations=True,\n",
    "             input_param=input_param)"
   ]
  },
  {
   "cell_type": "code",
   "execution_count": 33,
   "id": "2ae31a18-bf55-4083-97c7-5ad04df00f8f",
   "metadata": {},
   "outputs": [
    {
     "name": "stdout",
     "output_type": "stream",
     "text": [
      "Training data size:  3\n",
      "Descriptor:  cartesian coordinates\n",
      "Actual training data size (after removing similar data):  3\n",
      "r_min (threshold to avoid adding nearly-duplicate training data): 0.05\n",
      "GPR model hyperparameters:  {'kerneltype': 'sqexp', 'scale': tensor(0.4000, dtype=torch.float64), 'weight': tensor(1., dtype=torch.float64), 'noise': tensor(1.0000e-06, dtype=torch.float64), 'noisefactor': tensor(0.5000, dtype=torch.float64), 'prior': tensor(3.4844, dtype=torch.float64)}\n",
      "      Step     Time          Energy          fmax\n",
      "FIRE:    0 17:47:43        3.740194        1.713322\n",
      "FIRE:    1 17:47:43        3.686638        1.710883\n",
      "FIRE:    2 17:47:44        3.680178        1.644371\n",
      "FIRE:    3 17:47:45        3.669702        1.408528\n",
      "FIRE:    4 17:47:46        3.654431        1.005402\n",
      "FIRE:    5 17:47:46        3.633345        0.456540\n",
      "FIRE:    6 17:47:48        3.604342        0.448847\n",
      "FIRE:    7 17:47:49        3.568362        0.453071\n",
      "FIRE:    8 17:47:50        3.567495        0.448352\n",
      "FIRE:    9 17:47:51        3.565775        0.438829\n",
      "FIRE:   10 17:47:51        3.563234        0.424339\n",
      "FIRE:   11 17:47:52        3.559915        0.404660\n",
      "FIRE:   12 17:47:53        3.555875        0.379537\n",
      "FIRE:   13 17:47:54        3.551185        0.365806\n",
      "FIRE:   14 17:47:54        3.545924        0.352884\n",
      "FIRE:   15 17:47:55        3.539556        0.336253\n",
      "FIRE:   16 17:47:56        3.532016        0.314980\n",
      "FIRE:   17 17:47:56        3.523325        0.287955\n",
      "FIRE:   18 17:47:57        3.513638        0.253978\n",
      "FIRE:   19 17:47:58        3.503348        0.212178\n",
      "FIRE:   20 17:47:59        3.493239        0.173865\n",
      "FIRE:   21 17:47:59        3.484363        0.241396\n",
      "FIRE:   22 17:48:00        3.477459        0.265078\n",
      "FIRE:   23 17:48:01        3.472736        0.231509\n",
      "FIRE:   24 17:48:02        3.469976        0.139754\n",
      "FIRE:   25 17:48:02        3.468680        0.073166\n",
      "FIRE:   26 17:48:03        3.468181        0.148269\n",
      "FIRE:   27 17:48:04        3.468120        0.143058\n",
      "FIRE:   28 17:48:05        3.468000        0.132839\n",
      "FIRE:   29 17:48:05        3.467818        0.118062\n",
      "FIRE:   30 17:48:06        3.467572        0.099514\n",
      "FIRE:   31 17:48:07        3.467259        0.081026\n",
      "FIRE:   32 17:48:07        3.466875        0.079225\n",
      "FIRE:   33 17:48:08        3.466415        0.077190\n",
      "FIRE:   34 17:48:09        3.465816        0.074713\n",
      "FIRE:   35 17:48:10        3.465048        0.071773\n",
      "FIRE:   36 17:48:10        3.464079        0.068367\n",
      "FIRE:   37 17:48:11        3.462874        0.064490\n",
      "FIRE:   38 17:48:12        3.461388        0.060097\n",
      "FIRE:   39 17:48:13        3.459567        0.055040\n",
      "FIRE:   40 17:48:14        3.457350        0.048939\n",
      "FIRE:   41 17:48:14        3.454718        0.041064\n",
      "FIRE:   42 17:48:15        3.453191        0.056203\n",
      "FIRE:   43 17:48:16        3.455220        0.055771\n",
      "FIRE:   44 17:48:17        3.457540        0.049373\n",
      "FIRE:   45 17:48:17        3.457559        0.048667\n",
      "FIRE:   46 17:48:18        3.457596        0.047275\n",
      "FIRE:   47 17:48:19        3.457649        0.045232\n",
      "FIRE:   48 17:48:19        3.457719        0.042580\n",
      "FIRE:   49 17:48:20        3.457802        0.039356\n",
      "--------------------------------------------------------\n",
      "Step: 1\n",
      "Time: 09/26/2025, 17:48:20\n",
      "Predicted barrier (-->): 0.14306264870638286\n",
      "Predicted barrier (<--): 0.1433114348753013\n",
      "Number of images: 5\n",
      "Max. uncertainty: 0.9777129174283076\n",
      "Max. force: 0.03935616296454337\n",
      "--------------------------------------------------------\n",
      "\n",
      "Training data size:  4\n",
      "Descriptor:  cartesian coordinates\n",
      "Actual training data size (after removing similar data):  4\n",
      "r_min (threshold to avoid adding nearly-duplicate training data): 0.05\n",
      "GPR model hyperparameters:  {'kerneltype': 'sqexp', 'scale': tensor(0.4000, dtype=torch.float64), 'weight': tensor(1., dtype=torch.float64), 'noise': tensor(1.0000e-06, dtype=torch.float64), 'noisefactor': tensor(0.5000, dtype=torch.float64), 'prior': tensor(3.7018, dtype=torch.float64)}\n",
      "      Step     Time          Energy          fmax\n",
      "FIRE:    0 17:48:22        4.188866        1.790888\n",
      "FIRE:    1 17:48:23        4.102810        1.816290\n",
      "FIRE:    2 17:48:23        3.930414        1.772487\n",
      "FIRE:    3 17:48:24        3.697729        1.494456\n",
      "FIRE:    4 17:48:25        3.567119        0.889028\n",
      "FIRE:    5 17:48:26        3.556856        0.242052\n",
      "FIRE:    6 17:48:26        3.544232        0.521450\n",
      "FIRE:    7 17:48:27        3.543981        0.517515\n",
      "FIRE:    8 17:48:28        3.543485        0.509465\n",
      "FIRE:    9 17:48:29        3.542754        0.496955\n",
      "FIRE:   10 17:48:29        3.541802        0.479509\n",
      "FIRE:   11 17:48:30        3.540648        0.456578\n",
      "FIRE:   12 17:48:31        3.539314        0.427615\n",
      "FIRE:   13 17:48:31        3.537825        0.392182\n",
      "FIRE:   14 17:48:32        3.536031        0.345224\n",
      "FIRE:   15 17:48:33        3.533914        0.284233\n",
      "FIRE:   16 17:48:34        3.531479        0.207764\n",
      "FIRE:   17 17:48:34        3.528760        0.118946\n",
      "FIRE:   18 17:48:35        3.525850        0.093579\n",
      "FIRE:   19 17:48:36        3.523037        0.150039\n",
      "FIRE:   20 17:48:36        3.523004        0.147757\n",
      "FIRE:   21 17:48:37        3.522940        0.143242\n",
      "FIRE:   22 17:48:38        3.522844        0.136593\n",
      "FIRE:   23 17:48:39        3.522717        0.127956\n",
      "FIRE:   24 17:48:39        3.522562        0.117527\n",
      "FIRE:   25 17:48:40        3.522377        0.105544\n",
      "FIRE:   26 17:48:41        3.522166        0.092291\n",
      "FIRE:   27 17:48:42        3.521902        0.076560\n",
      "FIRE:   28 17:48:43        3.521578        0.058486\n",
      "FIRE:   29 17:48:44        3.521182        0.054470\n",
      "FIRE:   30 17:48:45        3.520709        0.050213\n",
      "FIRE:   31 17:48:46        3.520156        0.045020\n",
      "FIRE:   32 17:48:46        3.519543        0.052325\n",
      "FIRE:   33 17:48:47        3.518903        0.060837\n",
      "FIRE:   34 17:48:48        3.518275        0.062726\n",
      "FIRE:   35 17:48:49        3.517689        0.057213\n",
      "FIRE:   36 17:48:49        3.517160        0.049545\n",
      "FIRE:   37 17:48:51        3.516686        0.033110\n",
      "--------------------------------------------------------\n",
      "Step: 2\n",
      "Time: 09/26/2025, 17:48:51\n",
      "Predicted barrier (-->): 0.20194626669571258\n",
      "Predicted barrier (<--): 0.20219505286463102\n",
      "Number of images: 5\n",
      "Max. uncertainty: 0.8969461462119436\n",
      "Max. force: 0.03311048836825473\n",
      "--------------------------------------------------------\n",
      "\n",
      "Training data size:  5\n",
      "Descriptor:  cartesian coordinates\n",
      "Actual training data size (after removing similar data):  5\n",
      "r_min (threshold to avoid adding nearly-duplicate training data): 0.05\n",
      "GPR model hyperparameters:  {'kerneltype': 'sqexp', 'scale': tensor(0.4000, dtype=torch.float64), 'weight': tensor(1., dtype=torch.float64), 'noise': tensor(1.0000e-06, dtype=torch.float64), 'noisefactor': tensor(0.5000, dtype=torch.float64), 'prior': tensor(3.7529, dtype=torch.float64)}\n",
      "      Step     Time          Energy          fmax\n",
      "FIRE:    0 17:48:52        3.673516        1.364397\n",
      "FIRE:    1 17:48:53        3.632537        1.342277\n",
      "FIRE:    2 17:48:54        3.554341        1.265344\n",
      "FIRE:    3 17:48:54        3.482464        1.072616\n",
      "FIRE:    4 17:48:55        3.479352        0.719080\n",
      "FIRE:    5 17:48:56        3.477865        0.269915\n",
      "FIRE:    6 17:48:57        3.478170        0.234000\n",
      "FIRE:    7 17:48:57        3.478129        0.229661\n",
      "FIRE:    8 17:48:58        3.478051        0.221068\n",
      "FIRE:    9 17:48:59        3.477940        0.208393\n",
      "FIRE:   10 17:49:00        3.477807        0.191895\n",
      "FIRE:   11 17:49:00        3.477660        0.171923\n",
      "FIRE:   12 17:49:01        3.477510        0.148923\n",
      "FIRE:   13 17:49:02        3.477368        0.123449\n",
      "FIRE:   14 17:49:02        3.477231        0.093292\n",
      "FIRE:   15 17:49:03        3.477114        0.059338\n",
      "FIRE:   16 17:49:04        3.477032        0.032603\n",
      "--------------------------------------------------------\n",
      "Step: 3\n",
      "Time: 09/26/2025, 17:49:04\n",
      "Predicted barrier (-->): 0.1622924755056725\n",
      "Predicted barrier (<--): 0.16254126167459093\n",
      "Number of images: 5\n",
      "Max. uncertainty: 0.5283358923626037\n",
      "Max. force: 0.03260276957096341\n",
      "--------------------------------------------------------\n",
      "\n",
      "Training data size:  6\n",
      "Descriptor:  cartesian coordinates\n",
      "Actual training data size (after removing similar data):  6\n",
      "r_min (threshold to avoid adding nearly-duplicate training data): 0.05\n",
      "GPR model hyperparameters:  {'kerneltype': 'sqexp', 'scale': tensor(0.4000, dtype=torch.float64), 'weight': tensor(1., dtype=torch.float64), 'noise': tensor(1.0000e-06, dtype=torch.float64), 'noisefactor': tensor(0.5000, dtype=torch.float64), 'prior': tensor(3.8159, dtype=torch.float64)}\n",
      "      Step     Time          Energy          fmax\n",
      "FIRE:    0 17:49:05        3.749451        0.545419\n",
      "FIRE:    1 17:49:06        3.743140        0.526928\n",
      "FIRE:    2 17:49:07        3.731497        0.487500\n",
      "FIRE:    3 17:49:08        3.716510        0.424776\n",
      "FIRE:    4 17:49:08        3.701009        0.342828\n",
      "FIRE:    5 17:49:09        3.687906        0.264827\n",
      "FIRE:    6 17:49:10        3.678702        0.237795\n",
      "FIRE:    7 17:49:11        3.672303        0.287105\n",
      "FIRE:    8 17:49:11        3.665523        0.296094\n",
      "FIRE:    9 17:49:12        3.656875        0.253200\n",
      "FIRE:   10 17:49:13        3.648899        0.147772\n",
      "FIRE:   11 17:49:14        3.648285        0.073855\n",
      "FIRE:   12 17:49:14        3.648222        0.072102\n",
      "FIRE:   13 17:49:15        3.648100        0.068670\n",
      "FIRE:   14 17:49:16        3.647927        0.063704\n",
      "FIRE:   15 17:49:17        3.647713        0.057429\n",
      "FIRE:   16 17:49:17        3.647472        0.050146\n",
      "FIRE:   17 17:49:18        3.647214        0.042248\n",
      "FIRE:   18 17:49:19        3.646951        0.038105\n",
      "--------------------------------------------------------\n",
      "Step: 4\n",
      "Time: 09/26/2025, 17:49:19\n",
      "Predicted barrier (-->): 0.33221182865839793\n",
      "Predicted barrier (<--): 0.33246061482731637\n",
      "Number of images: 5\n",
      "Max. uncertainty: 0.40194386070355587\n",
      "Max. force: 0.03810540187137268\n",
      "--------------------------------------------------------\n",
      "\n",
      "Training data size:  7\n",
      "Descriptor:  cartesian coordinates\n",
      "Actual training data size (after removing similar data):  7\n",
      "r_min (threshold to avoid adding nearly-duplicate training data): 0.05\n",
      "GPR model hyperparameters:  {'kerneltype': 'sqexp', 'scale': tensor(0.4000, dtype=torch.float64), 'weight': tensor(1., dtype=torch.float64), 'noise': tensor(1.0000e-06, dtype=torch.float64), 'noisefactor': tensor(0.5000, dtype=torch.float64), 'prior': tensor(3.9616, dtype=torch.float64)}\n",
      "      Step     Time          Energy          fmax\n",
      "FIRE:    0 17:49:20        3.690608        1.151771\n",
      "FIRE:    1 17:49:21        3.661472        1.119719\n",
      "FIRE:    2 17:49:22        3.660842        0.994054\n",
      "FIRE:    3 17:49:23        3.659944        0.715828\n",
      "FIRE:    4 17:49:23        3.658827        0.234071\n",
      "FIRE:    5 17:49:24        3.657415        0.402957\n",
      "FIRE:    6 17:49:25        3.657374        0.385874\n",
      "FIRE:    7 17:49:26        3.657292        0.352617\n",
      "FIRE:    8 17:49:27        3.657171        0.304975\n",
      "FIRE:    9 17:49:28        3.657011        0.245577\n",
      "FIRE:   10 17:49:29        3.656814        0.177927\n",
      "FIRE:   11 17:49:29        3.656579        0.107106\n",
      "FIRE:   12 17:49:30        3.656300        0.063333\n",
      "FIRE:   13 17:49:31        3.655934        0.067505\n",
      "FIRE:   14 17:49:32        3.655926        0.067056\n",
      "FIRE:   15 17:49:32        3.655911        0.066169\n",
      "FIRE:   16 17:49:33        3.655889        0.064863\n",
      "FIRE:   17 17:49:34        3.655859        0.063169\n",
      "FIRE:   18 17:49:35        3.655821        0.061131\n",
      "FIRE:   19 17:49:36        3.655777        0.058803\n",
      "FIRE:   20 17:49:37        3.655726        0.056255\n",
      "FIRE:   21 17:49:38        3.655663        0.054275\n",
      "FIRE:   22 17:49:39        3.655584        0.053081\n",
      "FIRE:   23 17:49:39        3.655487        0.051586\n",
      "FIRE:   24 17:49:40        3.655370        0.049729\n",
      "FIRE:   25 17:49:41        3.655231        0.047436\n",
      "FIRE:   26 17:49:42        3.655068        0.044629\n",
      "FIRE:   27 17:49:42        3.654881        0.041224\n",
      "FIRE:   28 17:49:43        3.654673        0.038741\n",
      "--------------------------------------------------------\n",
      "Step: 5\n",
      "Time: 09/26/2025, 17:49:43\n",
      "Predicted barrier (-->): 0.33993299891006146\n",
      "Predicted barrier (<--): 0.3401817850789799\n",
      "Number of images: 5\n",
      "Max. uncertainty: 0.30388580209864907\n",
      "Max. force: 0.03874097797657102\n",
      "--------------------------------------------------------\n",
      "\n",
      "Training data size:  8\n",
      "Descriptor:  cartesian coordinates\n",
      "Actual training data size (after removing similar data):  8\n",
      "r_min (threshold to avoid adding nearly-duplicate training data): 0.05\n",
      "GPR model hyperparameters:  {'kerneltype': 'sqexp', 'scale': tensor(0.4000, dtype=torch.float64), 'weight': tensor(1., dtype=torch.float64), 'noise': tensor(1.0000e-06, dtype=torch.float64), 'noisefactor': tensor(0.5000, dtype=torch.float64), 'prior': tensor(4.0731, dtype=torch.float64)}\n",
      "      Step     Time          Energy          fmax\n",
      "FIRE:    0 17:49:45        3.664323        1.086085\n",
      "FIRE:    1 17:49:46        3.662866        1.029210\n",
      "FIRE:    2 17:49:46        3.662340        0.886095\n",
      "FIRE:    3 17:49:47        3.661616        0.612669\n",
      "FIRE:    4 17:49:48        3.660756        0.187501\n",
      "FIRE:    5 17:49:49        3.659723        0.337686\n",
      "FIRE:    6 17:49:49        3.659698        0.323935\n",
      "FIRE:    7 17:49:50        3.659649        0.297088\n",
      "FIRE:    8 17:49:51        3.659576        0.258437\n",
      "FIRE:    9 17:49:53        3.659481        0.209886\n",
      "FIRE:   10 17:49:53        3.659365        0.160490\n",
      "FIRE:   11 17:49:54        3.659229        0.111690\n",
      "FIRE:   12 17:49:55        3.659071        0.064065\n",
      "FIRE:   13 17:49:56        3.658869        0.050641\n",
      "FIRE:   14 17:49:56        3.658627        0.105026\n",
      "FIRE:   15 17:49:57        3.658623        0.103884\n",
      "FIRE:   16 17:49:58        3.658615        0.101617\n",
      "FIRE:   17 17:49:59        3.658604        0.098256\n",
      "FIRE:   18 17:49:59        3.658588        0.093852\n",
      "FIRE:   19 17:50:00        3.658569        0.088475\n",
      "FIRE:   20 17:50:01        3.658547        0.082217\n",
      "FIRE:   21 17:50:02        3.658520        0.075198\n",
      "FIRE:   22 17:50:02        3.658488        0.066733\n",
      "FIRE:   23 17:50:03        3.658447        0.056839\n",
      "FIRE:   24 17:50:04        3.658397        0.045848\n",
      "FIRE:   25 17:50:05        3.658337        0.034907\n",
      "--------------------------------------------------------\n",
      "Step: 6\n",
      "Time: 09/26/2025, 17:50:05\n",
      "Predicted barrier (-->): 0.3435975797116435\n",
      "Predicted barrier (<--): 0.34384636588056194\n",
      "Number of images: 5\n",
      "Max. uncertainty: 0.14967539921825515\n",
      "Max. force: 0.034906692806230225\n",
      "--------------------------------------------------------\n",
      "\n",
      "Training data size:  9\n",
      "Descriptor:  cartesian coordinates\n",
      "Actual training data size (after removing similar data):  9\n",
      "r_min (threshold to avoid adding nearly-duplicate training data): 0.05\n",
      "GPR model hyperparameters:  {'kerneltype': 'sqexp', 'scale': tensor(0.4000, dtype=torch.float64), 'weight': tensor(1., dtype=torch.float64), 'noise': tensor(1.0000e-06, dtype=torch.float64), 'noisefactor': tensor(0.5000, dtype=torch.float64), 'prior': tensor(4.0938, dtype=torch.float64)}\n",
      "Climbing image is now activated.\n",
      "      Step     Time          Energy          fmax\n",
      "FIRE:    0 17:50:07        3.699855        0.154470\n",
      "FIRE:    1 17:50:08        3.699145        0.150062\n",
      "FIRE:    2 17:50:08        3.697812        0.141228\n",
      "FIRE:    3 17:50:09        3.696018        0.127958\n",
      "FIRE:    4 17:50:10        3.693990        0.110311\n",
      "FIRE:    5 17:50:11        3.691996        0.088506\n",
      "FIRE:    6 17:50:11        3.690312        0.063052\n",
      "FIRE:    7 17:50:12        3.689185        0.035108\n",
      "--------------------------------------------------------\n",
      "Step: 7\n",
      "Time: 09/26/2025, 17:50:12\n",
      "Predicted barrier (-->): 0.3744450804280337\n",
      "Predicted barrier (<--): 0.37469386659695214\n",
      "Number of images: 5\n",
      "Max. uncertainty: 0.03924142927645019\n",
      "Max. force: 0.03510797368196629\n",
      "--------------------------------------------------------\n",
      "\n",
      "A saddle point was found.\n",
      "Uncertainty of the images below threshold.\n",
      "NEB converged.\n",
      "The NEB path can be found in: AIDNEB.traj\n",
      "Visualize the last path using 'ase gui AIDNEB.traj\n",
      "\n",
      "-------------------------------------------------------------------------------\n",
      "You are using GPR-accelerated NEB. Please cite: \n",
      "[1] J. A. Garrido Torres, P. C. Jennings, M. H. Hansen, J. R. Boes, and T. Bligaard, Phys. Rev. Lett. 122, 156001 (2019). https://doi.org/10.1103/PhysRevLett.122.156001 \n",
      "[2] O. Koistinen, F. B. Dagbjartsdóttir, V. Ásgeirsson, A. Vehtari, and H. Jónsson, J. Chem. Phys. 147, 152720 (2017). https://doi.org/10.1063/1.4986787 \n",
      "[3] E. Garijo del Río, J. J. Mortensen, and K. W. Jacobsen, Phys. Rev. B 100, 104103 (2019). https://doi.org/10.1103/PhysRevB.100.104103. \n",
      "[4] I. W. Yeu, A. Stuke, J. López-Zorrilla, J. M Stevenson, D. R Reichman, R. A Friesner, A. Urban, and N. Artrith, npj Computational Materials 11, 156 (2025).https://doi.org/10.1038/s41524-025-01651-0. \n",
      "-------------------------------------------------------------------------------\n",
      "\n"
     ]
    }
   ],
   "source": [
    "neb.run(fmax=0.05, unc_convergence=0.05, ml_steps=150)"
   ]
  },
  {
   "cell_type": "markdown",
   "id": "9f45ecbd-b93a-4fac-91fb-c1ed617853e9",
   "metadata": {},
   "source": [
    "## Total number of reference calculations \n",
    "\n",
    "- Normal NEB: NEB steps $\\times$ number of moving images = 32 $\\times$ 3 = 96\n",
    "- GPR-NEB: Training data $-$ initial and final images = 9 - 2 = 7"
   ]
  },
  {
   "cell_type": "code",
   "execution_count": 34,
   "id": "032d406a-20f0-4d26-ad4a-098749196ef3",
   "metadata": {},
   "outputs": [
    {
     "data": {
      "image/png": "[encoded data removed]",
      "text/plain": [
       "<Figure size 550x400 with 1 Axes>"
      ]
     },
     "metadata": {},
     "output_type": "display_data"
    }
   ],
   "source": [
    "images = read('AIDNEB.traj@-7:')\n",
    "\n",
    "nebtools = NEBTools(images)\n",
    "\n",
    "# Create a figure with custom parameters.\n",
    "fig = plt.figure(figsize=(5.5, 4.0))\n",
    "ax = fig.add_axes((0.15, 0.15, 0.8, 0.75))\n",
    "nebtools.plot_band(ax)\n",
    "fig.savefig('diffusion-barrier.png')"
   ]
  },
  {
   "cell_type": "code",
   "execution_count": null,
   "id": "727aa488-a3c8-4f6f-a3dd-85072c739a48",
   "metadata": {},
   "outputs": [],
   "source": []
  }
 ],
 "metadata": {
  "kernelspec": {
   "display_name": "Python 3",
   "language": "python",
   "name": "python3"
  },
  "language_info": {
   "codemirror_mode": {
    "name": "ipython",
    "version": 3
   },
   "file_extension": ".py",
   "mimetype": "text/x-python",
   "name": "python",
   "nbconvert_exporter": "python",
   "pygments_lexer": "ipython3",
   "version": "3.12.2"
  }
 },
 "nbformat": 4,
 "nbformat_minor": 5
}
