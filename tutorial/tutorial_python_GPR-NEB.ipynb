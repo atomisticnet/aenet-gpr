{
 "cells": [
  {
   "cell_type": "markdown",
   "id": "5dccf2b3-cf12-43c8-acff-96b1d4764c59",
   "metadata": {},
   "source": [
    "# GPR-Accelerated NEB Tutorial\n",
    "\n",
    "This tutorial demonstrates how to use `aenet-gpr` for **GPR-accelerated Nudged Elastic Band (NEB) calculations**, which accelerates the demanding NEB calculations for transition state search.\n",
    "\n",
    "GPR-NEB references:\n",
    "- [J. A. Garrido Torres, P. C. Jennings, M. H. Hansen, J. R. Boes, and T. Bligaard, “Low-Scaling Algorithm for Nudged Elastic Band Calculations Using a Surrogate Machine Learning Model”, *Phys. Rev. Lett.* 122, 156001 (2019).](https://doi.org/10.1103/PhysRevLett.122.156001)\n",
    "- [O. Koistinen, F. B. Dagbjartsdóttir, V. Ásgeirsson, A. Vehtari, and H. Jónsson, \"Nudged elastic band calculations accelerated with Gaussian process regression\", *J. Chem. Phys.* 147, 152720 (2017)](https://doi.org/10.1063/1.4986787)\n",
    "\n",
    "In this [NEB example](https://ase-lib.org/tutorials/neb/diffusion.html), we use a simple **EMT potential** as the reference calculator. However, the same framework is fully compatible with any [ASE-compatible DFT calculators](https://wiki.fysik.dtu.dk/ase/ase/calculators/calculators.html).\n",
    "\n",
    "Replacing the **EMT potential** with a DFT calculator allows GPR-NEB to reproduce **transition states** on a DFT level, with **significantly fewer expensive DFT evaluations** than standard NEB."
   ]
  },
  {
   "cell_type": "markdown",
   "id": "114e60a4-3ea3-46cc-a098-e84decd429c9",
   "metadata": {},
   "source": [
    "# Surface diffusion energy barriers using the Nudged Elastic Band (NEB) method"
   ]
  },
  {
   "cell_type": "code",
   "execution_count": 1,
   "id": "359a5709-4e36-4e73-81c0-329a2a6b9b7d",
   "metadata": {},
   "outputs": [
    {
     "name": "stdout",
     "output_type": "stream",
     "text": [
      "successfully imported ase\n"
     ]
    }
   ],
   "source": [
    "try:\n",
    "    import ase.io\n",
    "    print(\"successfully imported ase\")\n",
    "except ImportError:\n",
    "    !! pip install ase --user --upgrade\n",
    "    print(\"completed installing ASE\")"
   ]
  },
  {
   "cell_type": "code",
   "execution_count": 2,
   "id": "a78de6ac-892a-43f1-9206-4075019449cd",
   "metadata": {},
   "outputs": [
    {
     "name": "stdout",
     "output_type": "stream",
     "text": [
      "You are all set for the tutorial.\n"
     ]
    }
   ],
   "source": [
    "try:\n",
    "    from ase.build import add_adsorbate, fcc100\n",
    "    from ase.calculators.emt import EMT\n",
    "    from ase.constraints import FixAtoms\n",
    "    from ase.optimize import QuasiNewton, BFGS, MDMin, FIRE\n",
    "    print(\"You are all set for the tutorial.\")\n",
    "except ImportError:\n",
    "    print(\"The notebook needs to be restarted. Run this cell again once the restart is done.\")\n",
    "    import os\n",
    "    os.kill(os.getpid(), 9)\n",
    "\n",
    "from IPython.display import Image\n",
    "import copy\n",
    "import numpy as np"
   ]
  },
  {
   "cell_type": "code",
   "execution_count": 3,
   "id": "7d54a036-d68c-4a8f-965a-2671b6eafca4",
   "metadata": {},
   "outputs": [],
   "source": [
    "# 2x2-Al(001) surface with 3 layers and an\n",
    "# Au atom adsorbed in a hollow site:\n",
    "slab = fcc100('Al', size=(2, 2, 3))\n",
    "add_adsorbate(slab, 'Au', 1.7, 'hollow')\n",
    "slab.center(axis=2, vacuum=4.0)"
   ]
  },
  {
   "cell_type": "code",
   "execution_count": 4,
   "id": "83c30b52-62d9-44a5-a3f9-8e7666c1206e",
   "metadata": {},
   "outputs": [],
   "source": [
    "# Fix second and third layers:\n",
    "mask = [atom.tag > 1 for atom in slab]\n",
    "# print(mask)\n",
    "slab.set_constraint(FixAtoms(mask=mask))"
   ]
  },
  {
   "cell_type": "code",
   "execution_count": 5,
   "id": "113823b4-9f31-4fcd-9b0c-12c6a8c6305c",
   "metadata": {},
   "outputs": [],
   "source": [
    "# Use EMT potential:\n",
    "slab.calc = EMT()"
   ]
  },
  {
   "cell_type": "code",
   "execution_count": 6,
   "id": "4db677af-e64a-490b-9972-12deeadf6c49",
   "metadata": {},
   "outputs": [
    {
     "name": "stdout",
     "output_type": "stream",
     "text": [
      "      Step     Time          Energy          fmax\n",
      "BFGS:    0 15:25:33        3.323870        0.246170\n",
      "BFGS:    1 15:25:33        3.321365        0.203512\n",
      "BFGS:    2 15:25:33        3.314740        0.020557\n"
     ]
    },
    {
     "data": {
      "text/plain": [
       "True"
      ]
     },
     "execution_count": 6,
     "metadata": {},
     "output_type": "execute_result"
    }
   ],
   "source": [
    "# Initial state:\n",
    "qn = BFGS(slab, trajectory='initial.traj')\n",
    "qn.run(fmax=0.05)"
   ]
  },
  {
   "cell_type": "code",
   "execution_count": 7,
   "id": "2b53499f-cc5f-4711-8498-83dac2b9458f",
   "metadata": {},
   "outputs": [
    {
     "data": {
      "image/png": "[encoded data removed]",
      "text/plain": [
       "<IPython.core.display.Image object>"
      ]
     },
     "execution_count": 7,
     "metadata": {},
     "output_type": "execute_result"
    }
   ],
   "source": [
    "import ase\n",
    "\n",
    "\n",
    "atoms = ase.io.read('initial.traj')\n",
    "ase.io.write('initial.png', atoms)\n",
    "Image(\"initial.png\")"
   ]
  },
  {
   "cell_type": "code",
   "execution_count": 8,
   "id": "7c8c3b5c-6c05-48ab-9183-423fa74875f4",
   "metadata": {},
   "outputs": [
    {
     "name": "stdout",
     "output_type": "stream",
     "text": [
      "      Step     Time          Energy          fmax\n",
      "BFGS:    0 15:25:41        3.320046        0.123468\n",
      "BFGS:    1 15:25:41        3.319145        0.111073\n",
      "BFGS:    2 15:25:41        3.315607        0.074162\n",
      "BFGS:    3 15:25:41        3.315469        0.075507\n",
      "BFGS:    4 15:25:41        3.314645        0.052638\n",
      "BFGS:    5 15:25:41        3.314491        0.027698\n"
     ]
    },
    {
     "data": {
      "text/plain": [
       "True"
      ]
     },
     "execution_count": 8,
     "metadata": {},
     "output_type": "execute_result"
    }
   ],
   "source": [
    "# Final state:\n",
    "slab[-1].x += slab.get_cell()[0, 0] / 2\n",
    "qn = BFGS(slab, trajectory='final.traj')\n",
    "qn.run(fmax=0.05)"
   ]
  },
  {
   "cell_type": "code",
   "execution_count": 9,
   "id": "be61ddea-efba-4948-b58e-7b88b57a13db",
   "metadata": {},
   "outputs": [
    {
     "data": {
      "image/png": "[encoded data removed]",
      "text/plain": [
       "<IPython.core.display.Image object>"
      ]
     },
     "execution_count": 9,
     "metadata": {},
     "output_type": "execute_result"
    }
   ],
   "source": [
    "atoms = ase.io.read('final.traj')\n",
    "ase.io.write('final.png', atoms)\n",
    "Image(\"final.png\")"
   ]
  },
  {
   "cell_type": "markdown",
   "id": "111e2c41-8745-4ae1-baa1-d406d1dc3e3e",
   "metadata": {},
   "source": [
    "## ===== Conventional NEB =====\n",
    "\n",
    "- Reference calculator: Effective Medium Theory (EMT)"
   ]
  },
  {
   "cell_type": "code",
   "execution_count": 10,
   "id": "e1efa647-058f-430a-a299-c2daea998f58",
   "metadata": {},
   "outputs": [],
   "source": [
    "from ase.calculators.emt import EMT\n",
    "from ase.constraints import FixAtoms\n",
    "from ase.io import read\n",
    "from ase.mep import NEB"
   ]
  },
  {
   "cell_type": "code",
   "execution_count": 11,
   "id": "69dcc8b5-c986-44e3-bf0b-8215dd08ed8d",
   "metadata": {},
   "outputs": [],
   "source": [
    "initial = read('initial.traj')\n",
    "final = read('final.traj')"
   ]
  },
  {
   "cell_type": "code",
   "execution_count": 12,
   "id": "9ee85c1e-4d62-4171-a54b-6aef1bf5ecbb",
   "metadata": {},
   "outputs": [],
   "source": [
    "constraint = FixAtoms(mask=[atom.tag > 1 for atom in initial])"
   ]
  },
  {
   "cell_type": "code",
   "execution_count": 13,
   "id": "8619e92a-dbc9-4387-b19d-c81ddc332cdd",
   "metadata": {},
   "outputs": [],
   "source": [
    "images = [initial]\n",
    "for i in range(3):\n",
    "    image = initial.copy()\n",
    "    image.calc = EMT()\n",
    "    image.set_constraint(constraint)\n",
    "    images.append(image)\n",
    "\n",
    "images.append(final)"
   ]
  },
  {
   "cell_type": "code",
   "execution_count": 14,
   "id": "31b975aa-9200-44d6-bc13-ebbe9a91c9d4",
   "metadata": {},
   "outputs": [
    {
     "name": "stdout",
     "output_type": "stream",
     "text": [
      "      Step     Time          Energy          fmax\n",
      "FIRE:    0 15:25:49        4.254555        3.670245\n",
      "FIRE:    1 15:25:49        4.024620        2.636978\n",
      "FIRE:    2 15:25:49        3.790865        1.233470\n",
      "FIRE:    3 15:25:49        3.712369        0.247911\n",
      "FIRE:    4 15:25:50        3.765812        0.737651\n",
      "FIRE:    5 15:25:50        3.762016        0.718300\n",
      "FIRE:    6 15:25:50        3.754824        0.679871\n",
      "FIRE:    7 15:25:50        3.745002        0.622930\n",
      "FIRE:    8 15:25:50        3.733627        0.548371\n",
      "FIRE:    9 15:25:50        3.721985        0.457525\n",
      "FIRE:   10 15:25:50        3.711448        0.352415\n",
      "FIRE:   11 15:25:50        3.703300        0.236508\n",
      "FIRE:   12 15:25:50        3.698224        0.165230\n",
      "FIRE:   13 15:25:50        3.697714        0.196512\n",
      "FIRE:   14 15:25:50        3.701239        0.351133\n",
      "FIRE:   15 15:25:50        3.700998        0.345876\n",
      "FIRE:   16 15:25:50        3.700532        0.335482\n",
      "FIRE:   17 15:25:50        3.699870        0.320193\n",
      "FIRE:   18 15:25:51        3.699053        0.300369\n",
      "FIRE:   19 15:25:51        3.698132        0.276478\n",
      "FIRE:   20 15:25:51        3.697162        0.249088\n",
      "FIRE:   21 15:25:51        3.696199        0.218863\n",
      "FIRE:   22 15:25:51        3.695206        0.183028\n",
      "FIRE:   23 15:25:51        3.694263        0.141722\n",
      "FIRE:   24 15:25:51        3.693468        0.109382\n",
      "FIRE:   25 15:25:51        3.692915        0.105803\n",
      "FIRE:   26 15:25:51        3.692642        0.101148\n",
      "FIRE:   27 15:25:51        3.692582        0.095207\n",
      "FIRE:   28 15:25:51        3.692553        0.111454\n",
      "FIRE:   29 15:25:51        3.692317        0.119926\n",
      "FIRE:   30 15:25:51        3.691699        0.112991\n",
      "FIRE:   31 15:25:51        3.690720        0.088483\n",
      "FIRE:   32 15:25:51        3.689712        0.047165\n"
     ]
    },
    {
     "data": {
      "text/plain": [
       "True"
      ]
     },
     "execution_count": 14,
     "metadata": {},
     "output_type": "execute_result"
    }
   ],
   "source": [
    "neb = NEB(images)\n",
    "neb.interpolate()\n",
    "qn = FIRE(neb, trajectory='neb.traj')\n",
    "qn.run(fmax=0.05)"
   ]
  },
  {
   "cell_type": "markdown",
   "id": "7026aee5-1a9a-4795-9e65-246924dc4841",
   "metadata": {},
   "source": [
    "## Total number of reference calculations \n",
    "\n",
    "- NEB steps $\\times$ number of moving images = 32 $\\times$ 3 = 96"
   ]
  },
  {
   "cell_type": "code",
   "execution_count": 15,
   "id": "390f8644-8567-4b48-a645-dcdd8dcaadc8",
   "metadata": {},
   "outputs": [
    {
     "data": {
      "image/png": "[encoded data removed]",
      "text/plain": [
       "<Figure size 550x400 with 1 Axes>"
      ]
     },
     "metadata": {},
     "output_type": "display_data"
    }
   ],
   "source": [
    "import matplotlib.pyplot as plt\n",
    "\n",
    "from ase.io import read\n",
    "from ase.mep import NEBTools\n",
    "\n",
    "images = read('neb.traj@-5:')\n",
    "\n",
    "nebtools = NEBTools(images)\n",
    "\n",
    "# Create a figure with custom parameters.\n",
    "fig = plt.figure(figsize=(5.5, 4.0))\n",
    "ax = fig.add_axes((0.15, 0.15, 0.8, 0.75))\n",
    "nebtools.plot_band(ax)\n",
    "fig.savefig('diffusion-barrier.png')"
   ]
  },
  {
   "cell_type": "markdown",
   "id": "f8eda25e-36a6-4ff8-9e1b-7242add8e80e",
   "metadata": {},
   "source": [
    "## ===== aenet-GPR accelerated NEB =====\n",
    "\n",
    "- Reference calculator: Effective Medium Theory (EMT)\n",
    "- Surrogate calculator: aenet-gpr (GPR)"
   ]
  },
  {
   "cell_type": "code",
   "execution_count": 16,
   "id": "83c09a3a-57c1-49fd-9ab3-6ac10171c8aa",
   "metadata": {},
   "outputs": [
    {
     "name": "stdout",
     "output_type": "stream",
     "text": [
      "successfully imported torch\n",
      "2.6.0+cu124\n"
     ]
    }
   ],
   "source": [
    "try:\n",
    "    import torch\n",
    "    print(\"successfully imported torch\")\n",
    "    print(torch.__version__)\n",
    "except ImportError:\n",
    "    !! pip install torch torchvision torchaudio --user --index-url https://download.pytorch.org/whl/cpu\n",
    "    print(\"completed installing torch\")"
   ]
  },
  {
   "cell_type": "code",
   "execution_count": 17,
   "id": "b4c3accc-eb4c-4028-a2d6-3c3d524a9d03",
   "metadata": {},
   "outputs": [
    {
     "name": "stdout",
     "output_type": "stream",
     "text": [
      "completed installing aenet-gpr\n",
      "Name: aenet-gpr\n",
      "Version: 2.1.11\n",
      "Summary: Atomistic simulation tools based on Gaussian Processes Regression\n",
      "Home-page: https://github.com/atomisticnet/aenet-gpr\n",
      "Author: In Won Yeu\n",
      "Author-email: iy2185@columbia.edu\n",
      "License: MPL-2.0\n",
      "Location: /data/home/iy2185/.local/lib/python3.12/site-packages\n",
      "Requires: ase, dscribe\n",
      "Required-by: \n"
     ]
    }
   ],
   "source": [
    "!! pip install aenet-gpr --user --upgrade\n",
    "print(\"completed installing aenet-gpr\")\n",
    "\n",
    "! pip show aenet-gpr"
   ]
  },
  {
   "cell_type": "code",
   "execution_count": 18,
   "id": "e3f29ed5-bd6a-45d2-9593-c8b4a254a162",
   "metadata": {},
   "outputs": [],
   "source": [
    "from aenet_gpr.tool.aidneb import AIDNEB\n",
    "from aenet_gpr.inout.input_parameter import InputParameters"
   ]
  },
  {
   "cell_type": "code",
   "execution_count": 19,
   "id": "f97a82ef-89ca-48aa-9d51-50b25d5c12db",
   "metadata": {},
   "outputs": [],
   "source": [
    "neb_interpol = \"idpp\"  # \"linear\", \"idpp\", path to trajectory file\n",
    "neb_n_images = 5  # total images including initial and final\n",
    "use_mic = False"
   ]
  },
  {
   "cell_type": "code",
   "execution_count": 20,
   "id": "08b338a7-4ea6-4316-9635-cb33d2ee17d8",
   "metadata": {},
   "outputs": [],
   "source": [
    "initial = read('initial.traj')\n",
    "final = read('final.traj')"
   ]
  },
  {
   "cell_type": "code",
   "execution_count": 21,
   "id": "6d80dccf-ad22-4098-98b8-a45ce93621aa",
   "metadata": {},
   "outputs": [],
   "source": [
    "calc = EMT()"
   ]
  },
  {
   "cell_type": "code",
   "execution_count": 22,
   "id": "cba11dec-0bdc-4532-a40b-74a15b7d9b11",
   "metadata": {},
   "outputs": [
    {
     "name": "stdout",
     "output_type": "stream",
     "text": [
      "d_start_end:  2.864235082465442\n",
      "r_max (threshold to prevent over-relaxation when training data is sparse): 0.5728\n",
      "spring_constant:  0.48757639454002105\n"
     ]
    }
   ],
   "source": [
    "input_param = InputParameters()\n",
    "\n",
    "neb = AIDNEB(start=initial,\n",
    "             end=final,\n",
    "             interpolation=neb_interpol,\n",
    "             n_images=neb_n_images,\n",
    "             mic=use_mic,\n",
    "             calculator=copy.deepcopy(calc),\n",
    "             use_previous_observations=True,\n",
    "             input_param=input_param)"
   ]
  },
  {
   "cell_type": "code",
   "execution_count": 23,
   "id": "2ae31a18-bf55-4083-97c7-5ad04df00f8f",
   "metadata": {},
   "outputs": [
    {
     "name": "stdout",
     "output_type": "stream",
     "text": [
      "Training data size:  3\n",
      "Descriptor:  cartesian coordinates\n",
      "Actual training data size (after removing similar data):  3\n",
      "r_min (threshold to avoid adding nearly-duplicate training data): 0.05\n",
      "GPR model hyperparameters:  {'kerneltype': 'sqexp', 'scale': tensor(0.4000, dtype=torch.float64), 'weight': tensor(1., dtype=torch.float64), 'noise': tensor(1.0000e-06, dtype=torch.float64), 'noisefactor': tensor(0.5000, dtype=torch.float64), 'prior': tensor(3.4844, dtype=torch.float64)}\n",
      "      Step     Time          Energy          fmax\n",
      "FIRE:    0 15:27:13        3.740194        1.713322\n",
      "FIRE:    1 15:27:13        3.686638        1.710883\n",
      "Relaxation stopped early: image 2 lies farther than r_max from all training data\n",
      "--------------------------------------------------------\n",
      "Step: 1\n",
      "Time: 09/26/2025, 15:27:14\n",
      "Predicted barrier (-->): 0.4254543637771162\n",
      "Predicted barrier (<--): 0.42570314994603464\n",
      "Number of images: 5\n",
      "Max. uncertainty: 0.9106862432419125\n",
      "Max. force: 1.7133216159344742\n",
      "--------------------------------------------------------\n",
      "\n",
      "Training data size:  4\n",
      "Descriptor:  cartesian coordinates\n",
      "Actual training data size (after removing similar data):  4\n",
      "r_min (threshold to avoid adding nearly-duplicate training data): 0.05\n",
      "GPR model hyperparameters:  {'kerneltype': 'sqexp', 'scale': tensor(0.4000, dtype=torch.float64), 'weight': tensor(1., dtype=torch.float64), 'noise': tensor(1.0000e-06, dtype=torch.float64), 'noisefactor': tensor(0.5000, dtype=torch.float64), 'prior': tensor(3.5762, dtype=torch.float64)}\n",
      "      Step     Time          Energy          fmax\n",
      "FIRE:    0 15:27:15        3.929559        1.713322\n",
      "FIRE:    1 15:27:16        3.918081        1.706044\n",
      "Relaxation stopped early: image 2 lies farther than r_max from all training data\n",
      "--------------------------------------------------------\n",
      "Step: 2\n",
      "Time: 09/26/2025, 15:27:17\n",
      "Predicted barrier (-->): 0.6148190333276178\n",
      "Predicted barrier (<--): 0.6150678194965362\n",
      "Number of images: 5\n",
      "Max. uncertainty: 0.7765901710122005\n",
      "Max. force: 1.7133216159346887\n",
      "--------------------------------------------------------\n",
      "\n",
      "Training data size:  5\n",
      "Descriptor:  cartesian coordinates\n",
      "Actual training data size (after removing similar data):  5\n",
      "r_min (threshold to avoid adding nearly-duplicate training data): 0.05\n",
      "GPR model hyperparameters:  {'kerneltype': 'sqexp', 'scale': tensor(0.4000, dtype=torch.float64), 'weight': tensor(1., dtype=torch.float64), 'noise': tensor(1.0000e-06, dtype=torch.float64), 'noisefactor': tensor(0.5000, dtype=torch.float64), 'prior': tensor(3.6419, dtype=torch.float64)}\n",
      "Climbing image is now activated.\n",
      "      Step     Time          Energy          fmax\n",
      "FIRE:    0 15:27:18        4.254555        3.670246\n",
      "FIRE:    1 15:27:19        3.981982        3.717464\n",
      "FIRE:    2 15:27:20        3.536526        3.271949\n",
      "FIRE:    3 15:27:20        3.353421        1.743323\n",
      "FIRE:    4 15:27:21        3.190376        1.159735\n",
      "FIRE:    5 15:27:22        3.098045        0.944503\n",
      "Relaxation stopped early: image 2 lies farther than r_max from all training data\n",
      "--------------------------------------------------------\n",
      "Step: 3\n",
      "Time: 09/26/2025, 15:27:22\n",
      "Predicted barrier (-->): 6.972200594645983e-14\n",
      "Predicted barrier (<--): 0.00024878616898815764\n",
      "Number of images: 5\n",
      "Max. uncertainty: 0.6176465044281955\n",
      "Max. force: 1.1597350828343185\n",
      "--------------------------------------------------------\n",
      "\n",
      "Training data size:  6\n",
      "Descriptor:  cartesian coordinates\n",
      "Actual training data size (after removing similar data):  6\n",
      "r_min (threshold to avoid adding nearly-duplicate training data): 0.05\n",
      "GPR model hyperparameters:  {'kerneltype': 'sqexp', 'scale': tensor(0.4000, dtype=torch.float64), 'weight': tensor(1., dtype=torch.float64), 'noise': tensor(1.0000e-06, dtype=torch.float64), 'noisefactor': tensor(0.5000, dtype=torch.float64), 'prior': tensor(3.9503, dtype=torch.float64)}\n",
      "      Step     Time          Energy          fmax\n",
      "FIRE:    0 15:27:24        3.992347        1.421486\n",
      "FIRE:    1 15:27:25        3.935716        1.426802\n",
      "FIRE:    2 15:27:25        3.823744        1.342151\n",
      "FIRE:    3 15:27:26        3.683619        0.974906\n",
      "FIRE:    4 15:27:27        3.600243        0.196019\n",
      "FIRE:    5 15:27:27        3.654536        1.243221\n",
      "FIRE:    6 15:27:28        3.647518        1.173595\n",
      "FIRE:    7 15:27:29        3.635106        1.039580\n",
      "FIRE:    8 15:27:30        3.620140        0.851601\n",
      "FIRE:    9 15:27:30        3.605956        0.624798\n",
      "FIRE:   10 15:27:31        3.595530        0.377756\n",
      "FIRE:   11 15:27:32        3.590725        0.131014\n",
      "FIRE:   12 15:27:32        3.591472        0.207537\n",
      "FIRE:   13 15:27:33        3.591411        0.205771\n",
      "FIRE:   14 15:27:34        3.591290        0.202262\n",
      "FIRE:   15 15:27:34        3.591115        0.197057\n",
      "FIRE:   16 15:27:35        3.590891        0.190228\n",
      "FIRE:   17 15:27:36        3.590627        0.181874\n",
      "FIRE:   18 15:27:37        3.590333        0.172125\n",
      "FIRE:   19 15:27:37        3.590017        0.161143\n",
      "FIRE:   20 15:27:38        3.589656        0.147803\n",
      "FIRE:   21 15:27:39        3.589258        0.131985\n",
      "FIRE:   22 15:27:40        3.588838        0.113834\n",
      "FIRE:   23 15:27:40        3.588417        0.094035\n",
      "FIRE:   24 15:27:41        3.588016        0.074319\n",
      "FIRE:   25 15:27:42        3.587646        0.093987\n",
      "FIRE:   26 15:27:43        3.587295        0.115063\n",
      "FIRE:   27 15:27:43        3.586923        0.128960\n",
      "FIRE:   28 15:27:44        3.586478        0.132088\n",
      "FIRE:   29 15:27:45        3.585924        0.121375\n",
      "FIRE:   30 15:27:46        3.585291        0.094883\n",
      "FIRE:   31 15:27:46        3.584704        0.052831\n",
      "FIRE:   32 15:27:47        3.584367        0.021201\n",
      "--------------------------------------------------------\n",
      "Step: 4\n",
      "Time: 09/26/2025, 15:27:47\n",
      "Predicted barrier (-->): 0.2696277354887382\n",
      "Predicted barrier (<--): 0.26987652165765663\n",
      "Number of images: 5\n",
      "Max. uncertainty: 0.31342891248527155\n",
      "Max. force: 0.021200778305790105\n",
      "--------------------------------------------------------\n",
      "\n",
      "Training data size:  7\n",
      "Descriptor:  cartesian coordinates\n",
      "Actual training data size (after removing similar data):  7\n",
      "Candidate scales: tensor([0.2000, 0.4000, 0.8000])\n",
      "Updated scale: 0.800000011920929\n",
      "Updated weight: 0.8829778245966671\n",
      "r_min (threshold to avoid adding nearly-duplicate training data): 0.05\n",
      "GPR model hyperparameters:  {'kerneltype': 'sqexp', 'scale': tensor(0.8000), 'weight': tensor(0.8830, dtype=torch.float64), 'noise': tensor(1.0000e-06, dtype=torch.float64), 'noisefactor': tensor(0.5000, dtype=torch.float64), 'prior': tensor(5.3421, dtype=torch.float64)}\n",
      "Climbing image is now activated.\n",
      "      Step     Time          Energy          fmax\n",
      "FIRE:    0 15:27:50        3.651516        0.995661\n",
      "FIRE:    1 15:27:50        3.651211        0.886705\n",
      "FIRE:    2 15:27:51        3.650699        0.663538\n",
      "FIRE:    3 15:27:52        3.650128        0.393026\n",
      "FIRE:    4 15:27:53        3.649624        0.116096\n",
      "FIRE:    5 15:27:53        3.649219        0.468900\n",
      "FIRE:    6 15:27:54        3.649210        0.449409\n",
      "FIRE:    7 15:27:55        3.649193        0.411487\n",
      "FIRE:    8 15:27:56        3.649171        0.357185\n",
      "FIRE:    9 15:27:56        3.649146        0.289424\n",
      "FIRE:   10 15:27:57        3.649122        0.211889\n",
      "FIRE:   11 15:27:58        3.649102        0.129234\n",
      "FIRE:   12 15:27:59        3.649090        0.063228\n",
      "FIRE:   13 15:27:59        3.649092        0.060907\n",
      "FIRE:   14 15:28:00        3.649092        0.060770\n",
      "FIRE:   15 15:28:01        3.649093        0.060495\n",
      "FIRE:   16 15:28:01        3.649094        0.060085\n",
      "FIRE:   17 15:28:02        3.649096        0.059540\n",
      "FIRE:   18 15:28:03        3.649099        0.058862\n",
      "FIRE:   19 15:28:04        3.649101        0.058052\n",
      "FIRE:   20 15:28:04        3.649105        0.057114\n",
      "FIRE:   21 15:28:05        3.649110        0.055929\n",
      "FIRE:   22 15:28:06        3.649117        0.054446\n",
      "FIRE:   23 15:28:07        3.649126        0.052606\n",
      "FIRE:   24 15:28:07        3.649138        0.050343\n",
      "FIRE:   25 15:28:08        3.649155        0.047585\n",
      "FIRE:   26 15:28:09        3.649178        0.044262\n",
      "FIRE:   27 15:28:09        3.649210        0.041778\n",
      "FIRE:   28 15:28:10        3.649253        0.040758\n",
      "FIRE:   29 15:28:11        3.649309        0.039463\n",
      "--------------------------------------------------------\n",
      "Step: 5\n",
      "Time: 09/26/2025, 15:28:11\n",
      "Predicted barrier (-->): 0.3345697721188077\n",
      "Predicted barrier (<--): 0.3348185582877261\n",
      "Number of images: 5\n",
      "Max. uncertainty: 0.03954154134284777\n",
      "Max. force: 0.039462989532975744\n",
      "--------------------------------------------------------\n",
      "\n",
      "A saddle point was found.\n",
      "Uncertainty of the images below threshold.\n",
      "NEB converged.\n",
      "The NEB path can be found in: AIDNEB.traj\n",
      "Visualize the last path using 'ase gui AIDNEB.traj\n",
      "\n",
      "-------------------------------------------------------------------------------\n",
      "You are using GPR-accelerated NEB. Please cite: \n",
      "[1] J. A. Garrido Torres, P. C. Jennings, M. H. Hansen, J. R. Boes, and T. Bligaard, Phys. Rev. Lett. 122, 156001 (2019). https://doi.org/10.1103/PhysRevLett.122.156001 \n",
      "[2] O. Koistinen, F. B. Dagbjartsdóttir, V. Ásgeirsson, A. Vehtari, and H. Jónsson, J. Chem. Phys. 147, 152720 (2017). https://doi.org/10.1063/1.4986787 \n",
      "[3] E. Garijo del Río, J. J. Mortensen, and K. W. Jacobsen, Phys. Rev. B 100, 104103 (2019). https://doi.org/10.1103/PhysRevB.100.104103. \n",
      "[4] I. W. Yeu, A. Stuke, J. López-Zorrilla, J. M Stevenson, D. R Reichman, R. A Friesner, A. Urban, and N. Artrith, npj Computational Materials 11, 156 (2025).https://doi.org/10.1038/s41524-025-01651-0. \n",
      "-------------------------------------------------------------------------------\n",
      "\n"
     ]
    }
   ],
   "source": [
    "neb.run(fmax=0.05, unc_convergence=0.05, ml_steps=150)"
   ]
  },
  {
   "cell_type": "markdown",
   "id": "9f45ecbd-b93a-4fac-91fb-c1ed617853e9",
   "metadata": {},
   "source": [
    "## Total number of reference calculations \n",
    "\n",
    "- Normal NEB: NEB steps $\\times$ number of moving images = 32 $\\times$ 3 = 96\n",
    "- GPR-NEB: Training data $-$ initial and final images = 7 - 2 = 5"
   ]
  },
  {
   "cell_type": "code",
   "execution_count": 24,
   "id": "032d406a-20f0-4d26-ad4a-098749196ef3",
   "metadata": {},
   "outputs": [
    {
     "data": {
      "image/png": "[encoded data removed]",
      "text/plain": [
       "<Figure size 550x400 with 1 Axes>"
      ]
     },
     "metadata": {},
     "output_type": "display_data"
    }
   ],
   "source": [
    "images = read('AIDNEB.traj@-7:')\n",
    "\n",
    "nebtools = NEBTools(images)\n",
    "\n",
    "# Create a figure with custom parameters.\n",
    "fig = plt.figure(figsize=(5.5, 4.0))\n",
    "ax = fig.add_axes((0.15, 0.15, 0.8, 0.75))\n",
    "nebtools.plot_band(ax)\n",
    "fig.savefig('diffusion-barrier.png')"
   ]
  },
  {
   "cell_type": "code",
   "execution_count": null,
   "id": "727aa488-a3c8-4f6f-a3dd-85072c739a48",
   "metadata": {},
   "outputs": [],
   "source": []
  }
 ],
 "metadata": {
  "kernelspec": {
   "display_name": "Python 3",
   "language": "python",
   "name": "python3"
  },
  "language_info": {
   "codemirror_mode": {
    "name": "ipython",
    "version": 3
   },
   "file_extension": ".py",
   "mimetype": "text/x-python",
   "name": "python",
   "nbconvert_exporter": "python",
   "pygments_lexer": "ipython3",
   "version": "3.12.2"
  }
 },
 "nbformat": 4,
 "nbformat_minor": 5
}
