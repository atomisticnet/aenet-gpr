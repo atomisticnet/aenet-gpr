{
 "cells": [
  {
   "cell_type": "code",
   "execution_count": 1,
   "id": "8d96e3d3-c936-471d-b313-33c36d0e742c",
   "metadata": {
    "tags": []
   },
   "outputs": [
    {
     "name": "stdout",
     "output_type": "stream",
     "text": [
      "successfully imported torch\n",
      "2.6.0+cu124\n"
     ]
    }
   ],
   "source": [
    "try:\n",
    "    import torch\n",
    "    print(\"successfully imported torch\")\n",
    "    print(torch.__version__)\n",
    "except ImportError:\n",
    "    !! pip install torch torchvision torchaudio --user --index-url https://download.pytorch.org/whl/cpu\n",
    "    print(\"completed installing torch\")"
   ]
  },
  {
   "cell_type": "code",
   "execution_count": 2,
   "id": "24576efb-e7c6-4f1f-83f1-59a0df776778",
   "metadata": {},
   "outputs": [
    {
     "name": "stdout",
     "output_type": "stream",
     "text": [
      "successfully imported numpy\n",
      "1.26.4\n"
     ]
    }
   ],
   "source": [
    "try:\n",
    "    import numpy as np\n",
    "    print(\"successfully imported numpy\")\n",
    "    print(np.__version__)\n",
    "except ImportError:\n",
    "    !! pip install numpy --user --upgrade\n",
    "    print(\"completed installing numpy\")"
   ]
  },
  {
   "cell_type": "code",
   "execution_count": 3,
   "id": "78af600e-1c02-4e34-bd05-0128b0588c1c",
   "metadata": {},
   "outputs": [
    {
     "name": "stdout",
     "output_type": "stream",
     "text": [
      "successfully imported matplotlib\n"
     ]
    }
   ],
   "source": [
    "try:\n",
    "    from matplotlib import pyplot as plt\n",
    "    print(\"successfully imported matplotlib\")\n",
    "except ImportError:\n",
    "    !! pip install matplotlib --user --upgrade\n",
    "    print(\"completed installing matplotlib\")"
   ]
  },
  {
   "cell_type": "code",
   "execution_count": 4,
   "id": "11e45431-8717-40ed-ba5a-348bdfe73539",
   "metadata": {},
   "outputs": [
    {
     "name": "stdout",
     "output_type": "stream",
     "text": [
      "completed installing aenet-gpr\n",
      "Name: aenet-gpr\n",
      "Version: 1.8.0\n",
      "Summary: Atomistic simulation tools based on Gaussian Processes Regression\n",
      "Home-page: https://github.com/atomisticnet/aenet-gpr\n",
      "Author: In Won Yeu\n",
      "Author-email: iy2185@columbia.edu\n",
      "License: MPL-2.0\n",
      "Location: /data/home/iy2185/.local/lib/python3.12/site-packages\n",
      "Requires: ase, dscribe\n",
      "Required-by: \n"
     ]
    }
   ],
   "source": [
    "!! pip install aenet-gpr --user --upgrade\n",
    "print(\"completed installing aenet-gpr\")\n",
    "\n",
    "! pip show aenet-gpr"
   ]
  },
  {
   "cell_type": "code",
   "execution_count": 20,
   "id": "74c16f0f-854b-41df-b875-4fc242a816fd",
   "metadata": {},
   "outputs": [
    {
     "name": "stdout",
     "output_type": "stream",
     "text": [
      "1.8.0\n"
     ]
    }
   ],
   "source": [
    "import os, sys, site, glob\n",
    "sys.path.append(site.USER_SITE)\n",
    "\n",
    "import aenet_gpr\n",
    "print(aenet_gpr.__version__)"
   ]
  },
  {
   "cell_type": "code",
   "execution_count": 6,
   "id": "452ebba8-4310-41d1-b1b7-b8115959a768",
   "metadata": {},
   "outputs": [
    {
     "name": "stdout",
     "output_type": "stream",
     "text": [
      "successfully imported ase\n"
     ]
    }
   ],
   "source": [
    "from IPython.display import Image\n",
    "\n",
    "try:\n",
    "    import ase.io\n",
    "    print(\"successfully imported ase\")\n",
    "except ImportError:\n",
    "    !! pip install ase --user --upgrade\n",
    "    print(\"completed installing ASE\")\n",
    "    \n",
    "    import ase.io\n",
    "    print(\"successfully imported ase\")"
   ]
  },
  {
   "cell_type": "markdown",
   "id": "f9cfd82b-8f6c-48ec-9c57-54ea593bb81b",
   "metadata": {},
   "source": [
    "# 1. Prepare training/test data"
   ]
  },
  {
   "cell_type": "markdown",
   "id": "dde6a899-41e4-4901-a30d-b0eb8d28659d",
   "metadata": {},
   "source": [
    "We are using train/test data of H-H Lennard-Jones potential prepared in `aenet-gpr/example/1_H2/`"
   ]
  },
  {
   "cell_type": "code",
   "execution_count": 7,
   "id": "d50bab63-a944-4fa9-b202-3deb00dcf64b",
   "metadata": {},
   "outputs": [
    {
     "name": "stdout",
     "output_type": "stream",
     "text": [
      "--2025-07-21 17:53:10--  https://github.com/atomisticnet/aenet-gpr/raw/refs/heads/main/example/1_H2/train_set.zip\n",
      "Resolving github.com (github.com)... 140.82.114.3\n",
      "Connecting to github.com (github.com)|140.82.114.3|:443... connected.\n",
      "HTTP request sent, awaiting response... 302 Found\n",
      "Location: https://raw.githubusercontent.com/atomisticnet/aenet-gpr/refs/heads/main/example/1_H2/train_set.zip [following]\n",
      "--2025-07-21 17:53:10--  https://raw.githubusercontent.com/atomisticnet/aenet-gpr/refs/heads/main/example/1_H2/train_set.zip\n",
      "Resolving raw.githubusercontent.com (raw.githubusercontent.com)... 185.199.111.133, 185.199.108.133, 185.199.110.133, ...\n",
      "Connecting to raw.githubusercontent.com (raw.githubusercontent.com)|185.199.111.133|:443... connected.\n",
      "HTTP request sent, awaiting response... 200 OK\n",
      "Length: 4676 (4.6K) [application/zip]\n",
      "Saving to: ‘train_set.zip’\n",
      "\n",
      "train_set.zip       100%[===================>]   4.57K  --.-KB/s    in 0s      \n",
      "\n",
      "2025-07-21 17:53:10 (19.1 MB/s) - ‘train_set.zip’ saved [4676/4676]\n",
      "\n",
      "number of train data:\n",
      "7\n"
     ]
    }
   ],
   "source": [
    "import os.path\n",
    "\n",
    "! rm -rf 1_H2\n",
    "! mkdir 1_H2\n",
    "    \n",
    "if os.path.isfile(\"../example/1_H2/train_set.zip\"):\n",
    "    ! unzip -oq ../example/1_H2/train_set.zip -d ./1_H2/\n",
    "    print(\"number of train data:\")\n",
    "    ! find ./1_H2/train_set/ -type f | wc -l\n",
    "else:\n",
    "    ! wget https://github.com/atomisticnet/aenet-gpr/raw/refs/heads/main/example/1_H2/train_set.zip\n",
    "    ! unzip -oq train_set.zip -d ./1_H2/\n",
    "    ! rm train_set.zip\n",
    "    print(\"number of train data:\")\n",
    "    ! find ./1_H2/train_set/ -type f | wc -l"
   ]
  },
  {
   "cell_type": "code",
   "execution_count": 8,
   "id": "21ba107a-9e4c-44cd-82e4-d9d5cf97477b",
   "metadata": {},
   "outputs": [
    {
     "name": "stdout",
     "output_type": "stream",
     "text": [
      "--2025-07-21 17:53:10--  https://github.com/atomisticnet/aenet-gpr/raw/refs/heads/main/example/1_H2/test_set.zip\n",
      "Resolving github.com (github.com)... 140.82.114.3\n",
      "Connecting to github.com (github.com)|140.82.114.3|:443... connected.\n",
      "HTTP request sent, awaiting response... 302 Found\n",
      "Location: https://raw.githubusercontent.com/atomisticnet/aenet-gpr/refs/heads/main/example/1_H2/test_set.zip [following]\n",
      "--2025-07-21 17:53:10--  https://raw.githubusercontent.com/atomisticnet/aenet-gpr/refs/heads/main/example/1_H2/test_set.zip\n",
      "Resolving raw.githubusercontent.com (raw.githubusercontent.com)... 185.199.111.133, 185.199.108.133, 185.199.110.133, ...\n",
      "Connecting to raw.githubusercontent.com (raw.githubusercontent.com)|185.199.111.133|:443... connected.\n",
      "HTTP request sent, awaiting response... 200 OK\n",
      "Length: 122489 (120K) [application/zip]\n",
      "Saving to: ‘test_set.zip’\n",
      "\n",
      "test_set.zip        100%[===================>] 119.62K  --.-KB/s    in 0.004s  \n",
      "\n",
      "2025-07-21 17:53:10 (27.4 MB/s) - ‘test_set.zip’ saved [122489/122489]\n",
      "\n",
      "number of test data:\n",
      "200\n"
     ]
    }
   ],
   "source": [
    "if os.path.isfile(\"../example/1_H2/test_set.zip\"):\n",
    "    ! unzip -oq ../example/1_H2/test_set.zip -d ./1_H2/\n",
    "    print(\"number of test data:\")\n",
    "    ! find ./1_H2/test_set/ -type f | wc -l\n",
    "else:\n",
    "    ! wget https://github.com/atomisticnet/aenet-gpr/raw/refs/heads/main/example/1_H2/test_set.zip\n",
    "    ! unzip -oq test_set.zip -d ./1_H2/\n",
    "    ! rm test_set.zip\n",
    "    print(\"number of test data:\")\n",
    "    ! find ./1_H2/test_set/ -type f | wc -l"
   ]
  },
  {
   "cell_type": "code",
   "execution_count": 9,
   "id": "f4de373a-4049-4c72-b037-93cc5115280a",
   "metadata": {},
   "outputs": [
    {
     "data": {
      "image/png": "[encoded data removed]",
      "text/plain": [
       "<IPython.core.display.Image object>"
      ]
     },
     "execution_count": 9,
     "metadata": {},
     "output_type": "execute_result"
    }
   ],
   "source": [
    "atoms = ase.io.read(\"./1_H2/test_set/file_0000.xsf\")\n",
    "ase.io.write('H2.png', atoms)\n",
    "Image(\"H2.png\")"
   ]
  },
  {
   "cell_type": "markdown",
   "id": "fe4c1b49-fe17-4cd7-977f-d0adda2695aa",
   "metadata": {},
   "source": [
    "# 2. Train–Test"
   ]
  },
  {
   "cell_type": "markdown",
   "id": "107edf7d-0902-40b6-9802-e97cc922dc71",
   "metadata": {},
   "source": [
    "In addition to the reference data files, following configuration file `train.in` is all you need to run aenet-gpr. \n",
    "\n",
    "Most of the contents are set to default parameters, which can also be deleted."
   ]
  },
  {
   "cell_type": "code",
   "execution_count": 10,
   "id": "bfd8ca60-28d2-4227-bc9a-98aa400e22fe",
   "metadata": {},
   "outputs": [
    {
     "name": "stdout",
     "output_type": "stream",
     "text": [
      "--2025-07-21 17:53:15--  https://github.com/atomisticnet/aenet-gpr/raw/refs/heads/main/example/1_H2/train.in\n",
      "Resolving github.com (github.com)... 140.82.114.3\n",
      "Connecting to github.com (github.com)|140.82.114.3|:443... connected.\n",
      "HTTP request sent, awaiting response... 302 Found\n",
      "Location: https://raw.githubusercontent.com/atomisticnet/aenet-gpr/refs/heads/main/example/1_H2/train.in [following]\n",
      "--2025-07-21 17:53:15--  https://raw.githubusercontent.com/atomisticnet/aenet-gpr/refs/heads/main/example/1_H2/train.in\n",
      "Resolving raw.githubusercontent.com (raw.githubusercontent.com)... 185.199.111.133, 185.199.108.133, 185.199.110.133, ...\n",
      "Connecting to raw.githubusercontent.com (raw.githubusercontent.com)|185.199.111.133|:443... connected.\n",
      "HTTP request sent, awaiting response... 200 OK\n",
      "Length: 530 [text/plain]\n",
      "Saving to: ‘train.in’\n",
      "\n",
      "train.in            100%[===================>]     530  --.-KB/s    in 0s      \n",
      "\n",
      "2025-07-21 17:53:15 (6.57 MB/s) - ‘train.in’ saved [530/530]\n",
      "\n"
     ]
    }
   ],
   "source": [
    "! rm -f train.in\n",
    "\n",
    "if os.path.isfile(\"../example/1_H2/train.in\"):\n",
    "    ! cp ../example/1_H2/train.in .\n",
    "else:\n",
    "    ! wget https://github.com/atomisticnet/aenet-gpr/raw/refs/heads/main/example/1_H2/train.in"
   ]
  },
  {
   "cell_type": "code",
   "execution_count": 11,
   "id": "c2cfe62e-dfd2-4b54-83c1-a6e50bc247d3",
   "metadata": {},
   "outputs": [
    {
     "name": "stdout",
     "output_type": "stream",
     "text": [
      "# File path\n",
      "Train_file ./1_H2/train_set/file_*.xsf\n",
      "Test_file ./1_H2/test_set/file_*.xsf\n",
      "\n",
      "# File format (default: xsf)\n",
      "File_format xsf\n",
      "\n",
      "# Descriptor (default: cartesian coordinates)\n",
      "Descriptor cart\n",
      "\n",
      "# Uncertainty estimation (default: True)\n",
      "Get_variance True\n",
      "\n",
      "# Kernel parameter\n",
      "scale 0.4\n",
      "weight 1.0\n",
      "\n",
      "# Chunking to reduce memory usage (default: 25)\n",
      "batch_size 25\n",
      "\n",
      "# Flags for xsf file writing (default: False)\n",
      "Train_write False\n",
      "Test_write False\n",
      "Additional_write False\n",
      "\n",
      "# Data augmentation parameter\n",
      "# Disp_length 0.05\n",
      "# Num_copy 20\n"
     ]
    }
   ],
   "source": [
    "! cat train.in"
   ]
  },
  {
   "cell_type": "code",
   "execution_count": 12,
   "id": "118f1319-3dd3-482f-81ee-b0f80918bdf3",
   "metadata": {
    "tags": []
   },
   "outputs": [
    {
     "name": "stdout",
     "output_type": "stream",
     "text": [
      "======================================================================\n",
      "aenet-GPR: surrogate GPR for GPR-ANN indirect force training\n",
      "======================================================================\n",
      "\n",
      "2025-07-21 17:53:20.\n",
      "\n",
      "Developed by In Won Yeu\n",
      "\n",
      "This program performs three main steps:\n",
      "1. Train: Generates a GPR model using the provided structure, energy, and force data.\n",
      "2. Test: Uses the generated GPR model to predict values for the test set structures.\n",
      "3. Augmentation: Performs data augmentation in xsf file format, compatible with aenet-(PyTorch),\n",
      "supporting a GPR-ANN training in conjunction with aenet-(PyTorch).\n",
      "\n",
      "Each of these steps is executed once the input file (train.in) contains the keywords:\n",
      "Train_file [train file path]\n",
      "Test_file [test file path]\n",
      "Additional_write [True]\n",
      "\n",
      "\n",
      "======================================================================\n",
      "Train\n",
      "======================================================================\n",
      "\n",
      "Read reference training data\n",
      "\n",
      "Time needed for reading data:            0.003665 s\n",
      "Maximum CPU memory used:             0.533360 GB\n",
      "Maximum GPU memory used:             0.000000 GB\n",
      "Energy data size: (7,)  # (N_data, )\n",
      "Force data size: (7, 2, 3)  # (N_data, N_atom, 3)\n",
      "----------------------------------------------------------------------\n",
      "----------------------------------------------------------------------\n",
      "Model train\n",
      "\n",
      "Training parameters\n",
      "{'num_data': 7, 'calculator': {'kerneltype': 'sqexp', 'scale': tensor(0.4000, dtype=torch.float64), 'weight': tensor(5500.7681, dtype=torch.float64), 'noise': tensor(1.0000e-06, dtype=torch.float64), 'noisefactor': tensor(0.5000, dtype=torch.float64), 'prior': tensor(39947.4088, dtype=torch.float64)}, 'fix_ind': None, 'pbc': False, 'species': ['H', 'H'], 'num_atom': 2}\n",
      "\n",
      "Time needed for training:            0.241822 s\n",
      "Maximum CPU memory used:             0.547512 GB\n",
      "Maximum GPU memory used:             0.000000 GB\n",
      "----------------------------------------------------------------------\n",
      "======================================================================\n",
      "Test\n",
      "======================================================================\n",
      "\n",
      "Read reference test data\n",
      "\n",
      "Time needed for reading data:            0.071286 s\n",
      "Maximum CPU memory used:             0.548439 GB\n",
      "Maximum GPU memory used:             0.000000 GB\n",
      "Energy data size: (200,)  # (N_data, )\n",
      "Force data size: (200, 2, 3)  # (N_data, N_atom, 3)\n",
      "----------------------------------------------------------------------\n",
      "----------------------------------------------------------------------\n",
      "Model evaluation for test set\n",
      "\n",
      "Test parameters\n",
      "{'num_data': 200, 'calculator': {'kerneltype': 'sqexp', 'scale': tensor(0.4000, dtype=torch.float64), 'weight': tensor(5500.7681, dtype=torch.float64), 'noise': tensor(1.0000e-06, dtype=torch.float64), 'noisefactor': tensor(0.5000, dtype=torch.float64), 'prior': tensor(39947.4088, dtype=torch.float64)}, 'fix_ind': None, 'pbc': False, 'species': ['H', 'H'], 'num_atom': 2}\n",
      "\n",
      "Time needed for test evaluation:            1.812201 s\n",
      "Maximum CPU memory used:             0.552830 GB\n",
      "Maximum GPU memory used:             0.000000 GB\n",
      "----------------------------------------------------------------------\n",
      "GPR energy MAE (eV): 0.0007611342727898755\n",
      "GPR force MAE (eV/Ang): 0.036095650125590684\n",
      "GPR uncertainty mean ± std: nan ± nan\n",
      "\n",
      "Saving test target to [energy_test_reference.npy] and [force_test_reference.npy]\n",
      "Saving GPR prediction to [energy_test_gpr.npy], [force_test_gpr.npy], and [uncertainty_test_gpr.npy]\n",
      "\n",
      "\n",
      "\u001b[0m"
     ]
    }
   ],
   "source": [
    "! python -m aenet_gpr train.in"
   ]
  },
  {
   "cell_type": "markdown",
   "id": "d85ea460-e4af-41e8-bc72-8cc1057eb18e",
   "metadata": {},
   "source": [
    "# 3. Visualize the results"
   ]
  },
  {
   "cell_type": "code",
   "execution_count": 27,
   "id": "2cf8b964-e381-4279-bf6b-b5676bbf6a02",
   "metadata": {},
   "outputs": [],
   "source": [
    "from aenet_gpr.util import ReferenceData\n",
    "\n",
    "train_xsf_files = glob.glob(\"./1_H2/train_set/file_*\")\n",
    "train_xsf_files.sort()\n",
    "\n",
    "train_data = ReferenceData(structure_files=train_xsf_files, file_format='xsf')\n",
    "train_data.set_data()"
   ]
  },
  {
   "cell_type": "code",
   "execution_count": 28,
   "id": "272120fd-27bd-4ef4-aaaf-9be8a564b15c",
   "metadata": {},
   "outputs": [],
   "source": [
    "energy_test_gpr = np.load(\"./energy_test_gpr.npy\")\n",
    "energy_test_reference = np.load(\"./energy_test_reference.npy\")\n",
    "force_test_gpr = np.load(\"./force_test_gpr.npy\")\n",
    "force_test_reference = np.load(\"./force_test_reference.npy\")\n",
    "uncertainty_test_gpr = np.load(\"./uncertainty_test_gpr.npy\")"
   ]
  },
  {
   "cell_type": "code",
   "execution_count": 29,
   "id": "9bb809f4-5a20-4b08-92fb-0f37506ebf99",
   "metadata": {},
   "outputs": [],
   "source": [
    "n_test = 200\n",
    "d_test = np.linspace(0.95, 2.05, n_test)  # H-H bond distance\n",
    "\n",
    "n_train = 7\n",
    "d_train = np.linspace(1.0, 2.0, n_train)  # H-H bond distance"
   ]
  },
  {
   "cell_type": "code",
   "execution_count": 33,
   "id": "e1a407e2-cea7-4c85-97ce-c0d72785d9e9",
   "metadata": {},
   "outputs": [
    {
     "data": {
      "image/png": "[encoded data removed]",
      "text/plain": [
       "<Figure size 350x450 with 2 Axes>"
      ]
     },
     "metadata": {},
     "output_type": "display_data"
    }
   ],
   "source": [
    "fig = plt.figure(figsize=(3.5, 4.5))\n",
    "ax2, ax3 = fig.subplots(2, 1, height_ratios=[1, 1.5], sharex=False, sharey=False)\n",
    "\n",
    "font_x = {'size': 16, 'color': 'black'}\n",
    "font_y = {'size': 16, 'color': 'black'}\n",
    "font_tick = {'size': 12, 'color': 'black'}\n",
    "\n",
    "\n",
    "# The second plot\n",
    "ax2.fill_between(d_test, np.subtract(energy_test_gpr, energy_test_reference), 0, color='crimson', alpha=0.5, edgecolor='black')\n",
    "ax2.vlines(d_train, ymin=-100, ymax=100, color='black', linestyle='--', linewidth=1)\n",
    "\n",
    "ax2.set_xlim([0.95, 2.05])\n",
    "x_labels = [round(label, 2) for label in ax2.get_xticks()]\n",
    "ax2.set_xticks(x_labels)\n",
    "ax2.set_xlim([0.95, 2.05])\n",
    "ax2.set_xticklabels(x_labels, fontdict=font_tick)\n",
    "\n",
    "ax2.set_ylabel(\"Error (eV)\", fontdict=font_y)\n",
    "ax2.set_ylim([-0.05, 0.05])\n",
    "y_labels = [round(label, 2) for label in ax2.get_yticks()]\n",
    "y_labels = [-0.04, -0.02, 0.0, 0.02, 0.04]\n",
    "ax2.set_yticks(y_labels)\n",
    "ax2.set_ylim([-0.05, 0.05])\n",
    "ax2.set_yticklabels(y_labels, fontdict=font_tick)\n",
    "\n",
    "[x.set_linewidth(1.5) for x in ax2.spines.values()]\n",
    "ax2.tick_params(bottom=True, top=True, left=True, right=True)\n",
    "ax2.tick_params(labelbottom=False, labeltop=False, labelleft=True, labelright=False)\n",
    "ax2.tick_params(direction='in', length=8, width=1.5)\n",
    "\n",
    "\n",
    "# The third plot\n",
    "ax3.plot(d_test, energy_test_reference, '-', label='Target', color='gray', alpha=0.5, linewidth=10)\n",
    "ax3.plot(d_test, energy_test_gpr, '-', label='GPR', color='crimson', linewidth=4)\n",
    "ax3.vlines(d_train, ymin=-100, ymax=100, color='black', linestyle='--', linewidth=1)\n",
    "ax3.plot(d_train, train_data.energy, linestyle='', marker='o', markersize=10, color='black', label='Samples')\n",
    "\n",
    "ax3.set_xlabel('H-H distance (Ang)', fontdict=font_x)\n",
    "ax3.set_xlim(0.95, 2.05)\n",
    "x_labels = [round(label, 2) for label in ax3.get_xticks()]\n",
    "ax3.set_xticks(x_labels)\n",
    "ax3.set_xticklabels(x_labels, fontdict=font_tick)\n",
    "ax3.set_xlim(0.95, 2.05)\n",
    "\n",
    "ax3.set_ylabel('Energy (eV)', fontdict=font_y)\n",
    "ax3.set_ylim(-1.4, 2.2)\n",
    "y_labels = [round(label, 2) for label in ax3.get_yticks()]\n",
    "# y_labels = [-1.0, -0.5, 0.0, 0.5, 1.0, 1.5, 2.0]\n",
    "ax3.set_yticks(y_labels)\n",
    "ax3.set_yticklabels(y_labels, fontdict=font_tick)\n",
    "ax3.set_ylim(-1.4, 2.2)\n",
    "\n",
    "ax3.legend(loc='upper right', fontsize=12, ncol=1, frameon=True)\n",
    "[x.set_linewidth(1.5) for x in ax3.spines.values()]\n",
    "ax3.tick_params(bottom=True, top=True, left=True, right=False)\n",
    "ax3.tick_params(labelbottom=True, labeltop=False, labelleft=True, labelright=False)\n",
    "ax3.tick_params(direction='in', length=8, width=1.5)\n",
    "\n",
    "fig.tight_layout()\n",
    "plt.subplots_adjust(hspace=0.05, wspace=0.05)\n",
    "plt.show()"
   ]
  },
  {
   "cell_type": "code",
   "execution_count": 34,
   "id": "765e0ce6-b2a8-41a5-bee1-53a94c020a03",
   "metadata": {},
   "outputs": [
    {
     "data": {
      "image/png": "[encoded data removed]",
      "text/plain": [
       "<Figure size 350x450 with 2 Axes>"
      ]
     },
     "metadata": {},
     "output_type": "display_data"
    }
   ],
   "source": [
    "fig = plt.figure(figsize=(3.5, 4.5))\n",
    "ax2, ax3 = fig.subplots(2, 1, height_ratios=[1, 1.5], sharex=False, sharey=False)\n",
    "\n",
    "font_x = {'size': 16, 'color': 'black'}\n",
    "font_y = {'size': 16, 'color': 'black'}\n",
    "font_tick = {'size': 12, 'color': 'black'}\n",
    "\n",
    "\n",
    "# The second plot\n",
    "ax2.fill_between(d_test, np.subtract(force_test_gpr[:, 0, 0], force_test_reference[:, 0, 0]), 0, color='crimson', alpha=0.5, edgecolor='black')\n",
    "ax2.vlines(d_train, ymin=-100, ymax=100, color='black', linestyle='--', linewidth=1)\n",
    "\n",
    "ax2.set_xlim([0.95, 2.05])\n",
    "x_labels = [round(label, 2) for label in ax2.get_xticks()]\n",
    "ax2.set_xticks(x_labels)\n",
    "ax2.set_xlim([0.95, 2.05])\n",
    "ax2.set_xticklabels(x_labels, fontdict=font_tick)\n",
    "\n",
    "ax2.set_ylabel(\"Error (eV/Ang)\", fontdict=font_y)\n",
    "ax2.set_ylim([-1.2, 1.2])\n",
    "y_labels = [round(label, 2) for label in ax2.get_yticks()]\n",
    "y_labels = [-1.0, -0.5, 0.0, 0.5, 1.0]\n",
    "ax2.set_yticks(y_labels)\n",
    "ax2.set_ylim([-1.2, 1.2])\n",
    "ax2.set_yticklabels(y_labels, fontdict=font_tick)\n",
    "\n",
    "[x.set_linewidth(1.5) for x in ax2.spines.values()]\n",
    "ax2.tick_params(bottom=True, top=True, left=True, right=True)\n",
    "ax2.tick_params(labelbottom=False, labeltop=False, labelleft=True, labelright=False)\n",
    "ax2.tick_params(direction='in', length=8, width=1.5)\n",
    "\n",
    "\n",
    "# The third plot\n",
    "ax3.plot(d_test, force_test_reference[:, 0, 0], '-', label='Target', color='gray', alpha=0.5, linewidth=10)\n",
    "ax3.plot(d_test, force_test_gpr[:, 0, 0], '-', label='GPR', color='crimson', linewidth=4)\n",
    "ax3.vlines(d_train, ymin=-100, ymax=100, color='black', linestyle='--', linewidth=1)\n",
    "ax3.plot(d_train, train_data.force[:, 0, 0], linestyle='', marker='o', markersize=10, color='black', label='Samples')\n",
    "\n",
    "ax3.set_xlabel('H-H distance (Ang)', fontdict=font_x)\n",
    "ax3.set_xlim(0.95, 2.05)\n",
    "x_labels = [round(label, 2) for label in ax3.get_xticks()]\n",
    "ax3.set_xticks(x_labels)\n",
    "ax3.set_xticklabels(x_labels, fontdict=font_tick)\n",
    "ax3.set_xlim(0.95, 2.05)\n",
    "\n",
    "ax3.set_ylabel('Force (eV/Ang)', fontdict=font_y)\n",
    "ax3.set_ylim(-40, 5)\n",
    "y_labels = [int(label) for label in ax3.get_yticks()]\n",
    "# y_labels = [-40, -30, -20, -10, 0]\n",
    "ax3.set_yticks(y_labels)\n",
    "ax3.set_yticklabels(y_labels, fontdict=font_tick)\n",
    "ax3.set_ylim(-40, 5)\n",
    "\n",
    "# ax3.legend(loc='lower right', fontsize=12, ncol=1, frameon=True)\n",
    "[x.set_linewidth(1.5) for x in ax3.spines.values()]\n",
    "ax3.tick_params(bottom=True, top=True, left=True, right=False)\n",
    "ax3.tick_params(labelbottom=True, labeltop=False, labelleft=True, labelright=False)\n",
    "ax3.tick_params(direction='in', length=8, width=1.5)\n",
    "\n",
    "fig.tight_layout()\n",
    "plt.subplots_adjust(hspace=0.05, wspace=0.05)\n",
    "plt.show()"
   ]
  },
  {
   "cell_type": "code",
   "execution_count": null,
   "id": "78e7c462-7dad-47de-808d-829a8ab6ae15",
   "metadata": {},
   "outputs": [],
   "source": []
  }
 ],
 "metadata": {
  "kernelspec": {
   "display_name": "Python 3",
   "language": "python",
   "name": "python3"
  },
  "language_info": {
   "codemirror_mode": {
    "name": "ipython",
    "version": 3
   },
   "file_extension": ".py",
   "mimetype": "text/x-python",
   "name": "python",
   "nbconvert_exporter": "python",
   "pygments_lexer": "ipython3",
   "version": "3.12.2"
  }
 },
 "nbformat": 4,
 "nbformat_minor": 5
}
