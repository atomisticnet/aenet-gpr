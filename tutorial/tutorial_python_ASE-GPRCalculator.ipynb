{
 "cells": [
  {
   "cell_type": "markdown",
   "id": "390d8cea-33d3-4407-8b01-6febd91a9175",
   "metadata": {},
   "source": [
    "# aenet-gpr ASE Calculator Tutorial\n",
    "\n",
    "This tutorial demonstrates how to use a trained `aenet-gpr` model as an [ASE-calculator](https://wiki.fysik.dtu.dk/ase/ase/calculators/calculators.html) to compute the **energy** and **forces** of an `Atoms` object.\n",
    "\n",
    "By integrating `aenet-gpr` with `ASE`, you can seamlessly use GPR potentials in your atomistic simulations, just like any other `ASE calculators`.\n",
    "\n",
    "## Key Features:\n",
    "- Construct a pre-trained `aenet-gpr` model\n",
    "- Attach it to an `Atoms` object as a calculator\n",
    "- Compute total energy and atomic forces"
   ]
  },
  {
   "cell_type": "code",
   "execution_count": 1,
   "id": "1026f80b-fd11-4c57-b26c-e50a55b8140d",
   "metadata": {},
   "outputs": [
    {
     "name": "stdout",
     "output_type": "stream",
     "text": [
      "successfully imported torch\n",
      "2.6.0+cu124\n"
     ]
    }
   ],
   "source": [
    "try:\n",
    "    import torch\n",
    "    print(\"successfully imported torch\")\n",
    "    print(torch.__version__)\n",
    "except ImportError:\n",
    "    !! pip install torch torchvision torchaudio --user --index-url https://download.pytorch.org/whl/cpu\n",
    "    print(\"completed installing torch\")"
   ]
  },
  {
   "cell_type": "code",
   "execution_count": 2,
   "id": "981f8940-e145-4ef8-ba35-4f193f98a123",
   "metadata": {},
   "outputs": [
    {
     "name": "stdout",
     "output_type": "stream",
     "text": [
      "successfully imported numpy\n",
      "1.26.4\n"
     ]
    }
   ],
   "source": [
    "try:\n",
    "    import numpy as np\n",
    "    print(\"successfully imported numpy\")\n",
    "    print(np.__version__)\n",
    "except ImportError:\n",
    "    !! pip install numpy --user --upgrade\n",
    "    print(\"completed installing numpy\")"
   ]
  },
  {
   "cell_type": "code",
   "execution_count": 3,
   "id": "1368d2c8-7d43-4cd1-b1c2-07434d68abb7",
   "metadata": {},
   "outputs": [
    {
     "name": "stdout",
     "output_type": "stream",
     "text": [
      "successfully imported matplotlib\n"
     ]
    }
   ],
   "source": [
    "try:\n",
    "    from matplotlib import pyplot as plt\n",
    "    print(\"successfully imported matplotlib\")\n",
    "except ImportError:\n",
    "    !! pip install matplotlib --user --upgrade\n",
    "    print(\"completed installing matplotlib\")"
   ]
  },
  {
   "cell_type": "code",
   "execution_count": 4,
   "id": "0ca9c394-e7f4-48e5-93c9-05a409395950",
   "metadata": {},
   "outputs": [
    {
     "name": "stdout",
     "output_type": "stream",
     "text": [
      "completed installing aenet-gpr\n",
      "Name: aenet-gpr\n",
      "Version: 1.8.8\n",
      "Summary: Atomistic simulation tools based on Gaussian Processes Regression\n",
      "Home-page: https://github.com/atomisticnet/aenet-gpr\n",
      "Author: In Won Yeu\n",
      "Author-email: iy2185@columbia.edu\n",
      "License: MPL-2.0\n",
      "Location: /data/home/iy2185/.local/lib/python3.12/site-packages\n",
      "Requires: ase, chemcoord, dscribe\n",
      "Required-by: \n"
     ]
    }
   ],
   "source": [
    "!! pip install aenet-gpr --user --upgrade\n",
    "print(\"completed installing aenet-gpr\")\n",
    "\n",
    "! pip show aenet-gpr"
   ]
  },
  {
   "cell_type": "code",
   "execution_count": 5,
   "id": "4bb23243-9ca4-4176-a532-643839db206a",
   "metadata": {},
   "outputs": [
    {
     "name": "stdout",
     "output_type": "stream",
     "text": [
      "1.8.8\n"
     ]
    }
   ],
   "source": [
    "import os, sys, site\n",
    "sys.path.append(site.USER_SITE)\n",
    "\n",
    "import aenet_gpr\n",
    "print(aenet_gpr.__version__)\n",
    "\n",
    "from aenet_gpr.util import ReferenceData\n",
    "from aenet_gpr.inout import io_train_parameters"
   ]
  },
  {
   "cell_type": "markdown",
   "id": "f9cfd82b-8f6c-48ec-9c57-54ea593bb81b",
   "metadata": {},
   "source": [
    "# 1. Read reference training/test data from xsf files"
   ]
  },
  {
   "cell_type": "markdown",
   "id": "c9e24d9c-0921-4127-af76-ba83f8574d71",
   "metadata": {},
   "source": [
    "We are using train/test HSE06 data of EC dimer prepared in `aenet-gpr/example/2_EC-EC/`"
   ]
  },
  {
   "cell_type": "code",
   "execution_count": 6,
   "id": "d50bab63-a944-4fa9-b202-3deb00dcf64b",
   "metadata": {},
   "outputs": [
    {
     "name": "stdout",
     "output_type": "stream",
     "text": [
      "--2025-08-02 00:29:29--  https://github.com/atomisticnet/aenet-gpr/raw/refs/heads/main/example/2_EC-EC/train_set_tutorial.zip\n",
      "Resolving github.com (github.com)... 140.82.112.4\n",
      "Connecting to github.com (github.com)|140.82.112.4|:443... connected.\n",
      "HTTP request sent, awaiting response... 302 Found\n",
      "Location: https://raw.githubusercontent.com/atomisticnet/aenet-gpr/refs/heads/main/example/2_EC-EC/train_set_tutorial.zip [following]\n",
      "--2025-08-02 00:29:29--  https://raw.githubusercontent.com/atomisticnet/aenet-gpr/refs/heads/main/example/2_EC-EC/train_set_tutorial.zip\n",
      "Resolving raw.githubusercontent.com (raw.githubusercontent.com)... 185.199.111.133, 185.199.110.133, 185.199.108.133, ...\n",
      "Connecting to raw.githubusercontent.com (raw.githubusercontent.com)|185.199.111.133|:443... connected.\n",
      "HTTP request sent, awaiting response... 200 OK\n",
      "Length: 101063 (99K) [application/zip]\n",
      "Saving to: ‘train_set_tutorial.zip’\n",
      "\n",
      "train_set_tutorial. 100%[===================>]  98.69K  --.-KB/s    in 0.002s  \n",
      "\n",
      "2025-08-02 00:29:29 (41.6 MB/s) - ‘train_set_tutorial.zip’ saved [101063/101063]\n",
      "\n",
      "number of train data:\n",
      "80\n"
     ]
    }
   ],
   "source": [
    "import os.path\n",
    "\n",
    "! rm -rf 2_EC-EC\n",
    "! mkdir 2_EC-EC\n",
    "    \n",
    "if os.path.isfile(\"../example/2_EC-EC/train_set_tutorial.zip\"):\n",
    "    ! unzip -oq ../example/2_EC-EC/train_set_tutorial.zip -d ./2_EC-EC/\n",
    "    print(\"number of train data:\")\n",
    "    ! find ./2_EC-EC/train_set_tutorial/ -type f | wc -l\n",
    "else:\n",
    "    ! wget https://github.com/atomisticnet/aenet-gpr/raw/refs/heads/main/example/2_EC-EC/train_set_tutorial.zip\n",
    "    ! unzip -oq train_set_tutorial.zip -d ./2_EC-EC/\n",
    "    ! rm train_set_tutorial.zip\n",
    "    print(\"number of train data:\")\n",
    "    ! find ./2_EC-EC/train_set_tutorial/ -type f | wc -l"
   ]
  },
  {
   "cell_type": "code",
   "execution_count": 7,
   "id": "21ba107a-9e4c-44cd-82e4-d9d5cf97477b",
   "metadata": {},
   "outputs": [
    {
     "name": "stdout",
     "output_type": "stream",
     "text": [
      "--2025-08-02 00:29:50--  https://github.com/atomisticnet/aenet-gpr/raw/refs/heads/main/example/2_EC-EC/test_set_tutorial.zip\n",
      "Resolving github.com (github.com)... 140.82.112.4\n",
      "Connecting to github.com (github.com)|140.82.112.4|:443... connected.\n",
      "HTTP request sent, awaiting response... 302 Found\n",
      "Location: https://raw.githubusercontent.com/atomisticnet/aenet-gpr/refs/heads/main/example/2_EC-EC/test_set_tutorial.zip [following]\n",
      "--2025-08-02 00:29:50--  https://raw.githubusercontent.com/atomisticnet/aenet-gpr/refs/heads/main/example/2_EC-EC/test_set_tutorial.zip\n",
      "Resolving raw.githubusercontent.com (raw.githubusercontent.com)... 185.199.111.133, 185.199.110.133, 185.199.108.133, ...\n",
      "Connecting to raw.githubusercontent.com (raw.githubusercontent.com)|185.199.111.133|:443... connected.\n",
      "HTTP request sent, awaiting response... 200 OK\n",
      "Length: 257174 (251K) [application/zip]\n",
      "Saving to: ‘test_set_tutorial.zip’\n",
      "\n",
      "test_set_tutorial.z 100%[===================>] 251.15K  --.-KB/s    in 0.004s  \n",
      "\n",
      "2025-08-02 00:29:50 (55.8 MB/s) - ‘test_set_tutorial.zip’ saved [257174/257174]\n",
      "\n",
      "number of test data:\n",
      "161\n"
     ]
    }
   ],
   "source": [
    "if os.path.isfile(\"../example/2_EC-EC/test_set_tutorial.zip\"):\n",
    "    ! unzip -oq ../example/2_EC-EC/test_set_tutorial.zip -d ./2_EC-EC/\n",
    "    print(\"number of test data:\")\n",
    "    ! find ./2_EC-EC/test_set_tutorial/ -type f | wc -l\n",
    "else:\n",
    "    ! wget https://github.com/atomisticnet/aenet-gpr/raw/refs/heads/main/example/2_EC-EC/test_set_tutorial.zip\n",
    "    ! unzip -oq test_set_tutorial.zip -d ./2_EC-EC/\n",
    "    ! rm test_set_tutorial.zip\n",
    "    print(\"number of test data:\")\n",
    "    ! find ./2_EC-EC/test_set_tutorial/ -type f | wc -l"
   ]
  },
  {
   "cell_type": "code",
   "execution_count": 8,
   "id": "36e0a117-e0fd-41a1-8f30-7d374bf58716",
   "metadata": {
    "tags": []
   },
   "outputs": [
    {
     "name": "stdout",
     "output_type": "stream",
     "text": [
      "(80,)\n",
      "(80, 20, 3)\n"
     ]
    }
   ],
   "source": [
    "import glob\n",
    "\n",
    "\n",
    "train_xsf_files = glob.glob(\"./2_EC-EC/train_set_tutorial/file_*\")\n",
    "train_xsf_files.sort()\n",
    "train_data = ReferenceData(structure_files=train_xsf_files, file_format='xsf')\n",
    "train_data.set_data()\n",
    "\n",
    "print(train_data.energy.shape)\n",
    "print(train_data.force.shape)"
   ]
  },
  {
   "cell_type": "markdown",
   "id": "fe4c1b49-fe17-4cd7-977f-d0adda2695aa",
   "metadata": {},
   "source": [
    "# 2. Model train"
   ]
  },
  {
   "cell_type": "code",
   "execution_count": 9,
   "id": "a19a62e6-c578-4217-96ea-c03a8a47dc25",
   "metadata": {},
   "outputs": [],
   "source": [
    "train_data.filter_similar_data(threshold=0.2)"
   ]
  },
  {
   "cell_type": "code",
   "execution_count": 10,
   "id": "118f1319-3dd3-482f-81ee-b0f80918bdf3",
   "metadata": {
    "tags": []
   },
   "outputs": [
    {
     "name": "stdout",
     "output_type": "stream",
     "text": [
      "Candidate scales: tensor([0.1000, 0.2000, 0.4000, 0.8000, 1.6000])\n",
      "Updated scale: 0.4000000059604645\n",
      "Updated weight: 0.6186434141732067\n",
      "\n",
      "Training parameters\n",
      "{'num_data': 80, 'calculator': {'kerneltype': 'sqexp', 'scale': tensor(0.4000), 'weight': tensor(0.6186, dtype=torch.float64), 'noise': tensor(1.0000e-06, dtype=torch.float64), 'noisefactor': tensor(0.5000, dtype=torch.float64), 'prior': tensor(-18637.3499, dtype=torch.float64)}, 'fix_ind': None, 'pbc': False, 'species': ['O', 'O', 'O', 'C', 'C', 'C', 'H', 'H', 'H', 'H', 'O', 'O', 'O', 'C', 'C', 'C', 'H', 'H', 'H', 'H'], 'num_atom': 20}\n",
      "\n"
     ]
    }
   ],
   "source": [
    "if train_data.standardization:\n",
    "    train_data.standardize_energy_force(train_data.energy)\n",
    "train_data.config_calculator()\n",
    "\n",
    "io_train_parameters(data_param=train_data.write_params())"
   ]
  },
  {
   "cell_type": "markdown",
   "id": "834f799e-6247-46c2-937e-e334f2a14a01",
   "metadata": {},
   "source": [
    "# 3. Evaluation for test set using ASE Calculator"
   ]
  },
  {
   "cell_type": "code",
   "execution_count": 11,
   "id": "f1d5adce-d9bd-4b9d-ae5e-1eb41289ae1f",
   "metadata": {},
   "outputs": [],
   "source": [
    "from IPython.display import Image\n",
    "from aenet_gpr.src import GPRCalculator"
   ]
  },
  {
   "cell_type": "code",
   "execution_count": 12,
   "id": "8dd35047-1df6-4640-b5a9-59a61ae66eab",
   "metadata": {},
   "outputs": [
    {
     "name": "stdout",
     "output_type": "stream",
     "text": [
      "successfully imported ase\n"
     ]
    }
   ],
   "source": [
    "try:\n",
    "    import ase.io\n",
    "    print(\"successfully imported ase\")\n",
    "except ImportError:\n",
    "    !! pip install ase --user --upgrade\n",
    "    print(\"completed installing ASE\")\n",
    "    \n",
    "    import ase.io\n",
    "    print(\"successfully imported ase\")"
   ]
  },
  {
   "cell_type": "code",
   "execution_count": 13,
   "id": "4a180f6d-00dd-4829-a84d-4f619cf839ec",
   "metadata": {},
   "outputs": [
    {
     "name": "stdout",
     "output_type": "stream",
     "text": [
      "Reference DFT energy: [-18642.26998325]\n",
      "Reference DFT forces: [[[-1.32399475  2.48303204  0.68777715]\n",
      "  [-0.92304765  0.84532641  0.14943632]\n",
      "  [-1.59532558  2.28875072  0.79184903]\n",
      "  [ 1.83111036  0.67581527 -1.69388758]\n",
      "  [-0.59484473 -1.36083764  2.77992308]\n",
      "  [ 2.70840812 -4.16652527 -1.09322984]\n",
      "  [ 0.38925995 -0.69091849  0.10679783]\n",
      "  [ 0.15550669 -0.05183078  0.21947315]\n",
      "  [ 0.02488009 -0.06835778 -1.70333434]\n",
      "  [-0.70488214  0.06229348 -0.24722831]\n",
      "  [-0.37657584  0.23076709 -0.69595913]\n",
      "  [ 2.00728478 -1.58457474  1.09898922]\n",
      "  [ 0.03323899  2.76811697  1.11335861]\n",
      "  [ 0.84234494 -1.20868489 -0.06519006]\n",
      "  [-1.34529812  0.26630821 -1.15616885]\n",
      "  [-1.28327796 -0.69908103 -1.82330525]\n",
      "  [-0.06006712 -0.16340475 -0.01420679]\n",
      "  [ 0.02399728  0.68924761  0.84388794]\n",
      "  [ 0.28590626  0.52627927 -0.05536857]\n",
      "  [-0.09462356 -0.84172169  0.75638636]]]\n"
     ]
    }
   ],
   "source": [
    "test_file = [\"./2_EC-EC/test_set_tutorial/file_0000.xsf\"]\n",
    "test_data = ReferenceData(structure_files=test_file, file_format='xsf')\n",
    "\n",
    "print(\"Reference DFT energy:\", test_data.energy)\n",
    "print(\"Reference DFT forces:\", test_data.force)"
   ]
  },
  {
   "cell_type": "code",
   "execution_count": 14,
   "id": "f00a897a-d184-4dae-b3e8-382c45e238a9",
   "metadata": {},
   "outputs": [
    {
     "data": {
      "image/png": "[encoded data removed]",
      "text/plain": [
       "<IPython.core.display.Image object>"
      ]
     },
     "execution_count": 14,
     "metadata": {},
     "output_type": "execute_result"
    }
   ],
   "source": [
    "atoms = ase.io.read(test_file[0])\n",
    "ase.io.write('2EC.png', atoms)\n",
    "Image(\"2EC.png\")"
   ]
  },
  {
   "cell_type": "code",
   "execution_count": 15,
   "id": "2d0dd8f4-d3c1-45c6-bab4-9f01d0d3bedf",
   "metadata": {
    "tags": []
   },
   "outputs": [],
   "source": [
    "calc = GPRCalculator(calculator=train_data.calculator, train_data=train_data)"
   ]
  },
  {
   "cell_type": "code",
   "execution_count": 16,
   "id": "3c5eb615-bcd8-425e-95c9-b91f416ea6bc",
   "metadata": {},
   "outputs": [],
   "source": [
    "atoms.calc = calc"
   ]
  },
  {
   "cell_type": "code",
   "execution_count": 17,
   "id": "9b40b4cf-f3aa-466b-806e-6f16d9d572ea",
   "metadata": {},
   "outputs": [
    {
     "name": "stdout",
     "output_type": "stream",
     "text": [
      "GPR energy prediction: -18642.271676293945\n",
      "GPR forces prediction: [[-1.44327786  2.0403118   0.76068382]\n",
      " [-0.92832032  0.52541287  0.14801361]\n",
      " [-1.3822354   1.92371183  0.62928609]\n",
      " [ 1.61494168  0.40719759 -1.39069619]\n",
      " [-0.76659018 -1.10300898  2.88299683]\n",
      " [ 2.76980998 -3.57067717 -1.32389884]\n",
      " [ 0.43298679 -0.75462465 -0.02507809]\n",
      " [ 0.35188182  0.01834324  0.2577172 ]\n",
      " [ 0.1117483  -0.11171649 -1.75128916]\n",
      " [-0.61095135 -0.22601051  0.00943377]\n",
      " [-0.02921144  0.31584455 -0.57080882]\n",
      " [ 2.07229439 -1.95978057  1.29581695]\n",
      " [ 0.02629999  2.75466421  1.04074351]\n",
      " [ 0.76164859 -1.04149063 -0.185303  ]\n",
      " [-1.14850068  0.0931276  -1.29517192]\n",
      " [-1.26494617 -0.61253859 -1.96581127]\n",
      " [ 0.15588069 -0.13020826 -0.31146732]\n",
      " [ 0.17881215  0.64806114  0.92013495]\n",
      " [ 0.02080178  0.61827022  0.01910934]\n",
      " [-0.12624571 -0.85993428  0.78764098]]\n"
     ]
    }
   ],
   "source": [
    "print(\"GPR energy prediction:\", atoms.get_potential_energy())\n",
    "print(\"GPR forces prediction:\", atoms.get_forces())"
   ]
  },
  {
   "cell_type": "code",
   "execution_count": 18,
   "id": "fd8f3b56-1b1b-4cb1-8f19-05c384b8398e",
   "metadata": {},
   "outputs": [
    {
     "name": "stdout",
     "output_type": "stream",
     "text": [
      "[[[False False False]\n",
      "  [False False False]\n",
      "  [False False False]\n",
      "  [False False False]\n",
      "  [False False False]\n",
      "  [False  True False]\n",
      "  [False False False]\n",
      "  [False False False]\n",
      "  [False False False]\n",
      "  [False False False]\n",
      "  [False False False]\n",
      "  [False False False]\n",
      "  [False False False]\n",
      "  [False False False]\n",
      "  [False False False]\n",
      "  [False False False]\n",
      "  [False False False]\n",
      "  [False False False]\n",
      "  [False False False]\n",
      "  [False False False]]]\n"
     ]
    }
   ],
   "source": [
    "print(np.abs(test_data.force - atoms.get_forces()) > 0.5)"
   ]
  },
  {
   "cell_type": "code",
   "execution_count": null,
   "id": "7bc7eaa9-aefe-4e02-9642-db8f914c770d",
   "metadata": {},
   "outputs": [],
   "source": []
  }
 ],
 "metadata": {
  "kernelspec": {
   "display_name": "Python 3",
   "language": "python",
   "name": "python3"
  },
  "language_info": {
   "codemirror_mode": {
    "name": "ipython",
    "version": 3
   },
   "file_extension": ".py",
   "mimetype": "text/x-python",
   "name": "python",
   "nbconvert_exporter": "python",
   "pygments_lexer": "ipython3",
   "version": "3.12.2"
  }
 },
 "nbformat": 4,
 "nbformat_minor": 5
}
