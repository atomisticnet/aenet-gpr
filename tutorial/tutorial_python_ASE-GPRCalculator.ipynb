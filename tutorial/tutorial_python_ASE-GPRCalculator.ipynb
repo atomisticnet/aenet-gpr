{
 "cells": [
  {
   "cell_type": "markdown",
   "id": "390d8cea-33d3-4407-8b01-6febd91a9175",
   "metadata": {},
   "source": [
    "# aenet-gpr ASE Calculator Tutorial\n",
    "\n",
    "This tutorial demonstrates how to use a trained `aenet-gpr` model as an [ASE-calculator](https://wiki.fysik.dtu.dk/ase/ase/calculators/calculators.html) to compute the **energy** and **forces** of an `Atoms` object.\n",
    "\n",
    "By integrating `aenet-gpr` with `ASE`, you can seamlessly use GPR potentials in your atomistic simulations, just like any other `ASE calculators`.\n",
    "\n",
    "## Key Features:\n",
    "- Construct a pre-trained `aenet-gpr` model\n",
    "- Attach it to an `Atoms` object as a calculator\n",
    "- Compute total energy and atomic forces"
   ]
  },
  {
   "cell_type": "code",
   "execution_count": 1,
   "id": "1026f80b-fd11-4c57-b26c-e50a55b8140d",
   "metadata": {},
   "outputs": [
    {
     "name": "stdout",
     "output_type": "stream",
     "text": [
      "successfully imported torch\n",
      "2.6.0+cu124\n"
     ]
    }
   ],
   "source": [
    "try:\n",
    "    import torch\n",
    "    print(\"successfully imported torch\")\n",
    "    print(torch.__version__)\n",
    "except ImportError:\n",
    "    !! pip install torch torchvision torchaudio --user --index-url https://download.pytorch.org/whl/cpu\n",
    "    print(\"completed installing torch\")"
   ]
  },
  {
   "cell_type": "code",
   "execution_count": 2,
   "id": "981f8940-e145-4ef8-ba35-4f193f98a123",
   "metadata": {},
   "outputs": [
    {
     "name": "stdout",
     "output_type": "stream",
     "text": [
      "successfully imported numpy\n",
      "1.26.4\n"
     ]
    }
   ],
   "source": [
    "try:\n",
    "    import numpy as np\n",
    "    print(\"successfully imported numpy\")\n",
    "    print(np.__version__)\n",
    "except ImportError:\n",
    "    !! pip install numpy --user --upgrade\n",
    "    print(\"completed installing numpy\")"
   ]
  },
  {
   "cell_type": "code",
   "execution_count": 3,
   "id": "1368d2c8-7d43-4cd1-b1c2-07434d68abb7",
   "metadata": {},
   "outputs": [
    {
     "name": "stdout",
     "output_type": "stream",
     "text": [
      "successfully imported matplotlib\n"
     ]
    }
   ],
   "source": [
    "try:\n",
    "    from matplotlib import pyplot as plt\n",
    "    print(\"successfully imported matplotlib\")\n",
    "except ImportError:\n",
    "    !! pip install matplotlib --user --upgrade\n",
    "    print(\"completed installing matplotlib\")"
   ]
  },
  {
   "cell_type": "code",
   "execution_count": 4,
   "id": "0ca9c394-e7f4-48e5-93c9-05a409395950",
   "metadata": {},
   "outputs": [
    {
     "name": "stdout",
     "output_type": "stream",
     "text": [
      "completed installing aenet-gpr\n",
      "Name: aenet-gpr\n",
      "Version: 2.6.5\n",
      "Summary: Atomistic simulation tools based on Gaussian Processes Regression\n",
      "Home-page: https://github.com/atomisticnet/aenet-gpr\n",
      "Author: In Won Yeu\n",
      "Author-email: iy2185@columbia.edu\n",
      "License: MPL-2.0\n",
      "Location: /data/home/iy2185/.local/lib/python3.12/site-packages\n",
      "Requires: ase\n",
      "Required-by: \n"
     ]
    }
   ],
   "source": [
    "!! pip install aenet-gpr --user --upgrade\n",
    "print(\"completed installing aenet-gpr\")\n",
    "\n",
    "! pip show aenet-gpr"
   ]
  },
  {
   "cell_type": "code",
   "execution_count": 5,
   "id": "4bb23243-9ca4-4176-a532-643839db206a",
   "metadata": {},
   "outputs": [
    {
     "name": "stdout",
     "output_type": "stream",
     "text": [
      "2.6.5\n"
     ]
    }
   ],
   "source": [
    "import os, sys, site\n",
    "sys.path.append(site.USER_SITE)\n",
    "\n",
    "import aenet_gpr\n",
    "print(aenet_gpr.__version__)\n",
    "\n",
    "from aenet_gpr.util import ReferenceData\n",
    "from aenet_gpr.inout import io_train_parameters"
   ]
  },
  {
   "cell_type": "markdown",
   "id": "f9cfd82b-8f6c-48ec-9c57-54ea593bb81b",
   "metadata": {},
   "source": [
    "# 1. Read reference training/test data from xsf files"
   ]
  },
  {
   "cell_type": "markdown",
   "id": "c9e24d9c-0921-4127-af76-ba83f8574d71",
   "metadata": {},
   "source": [
    "We are using train/test HSE06 data of EC dimer prepared in `aenet-gpr/example/2_EC-EC/`"
   ]
  },
  {
   "cell_type": "code",
   "execution_count": 6,
   "id": "d50bab63-a944-4fa9-b202-3deb00dcf64b",
   "metadata": {},
   "outputs": [
    {
     "name": "stdout",
     "output_type": "stream",
     "text": [
      "--2025-10-19 17:35:49--  https://github.com/atomisticnet/aenet-gpr/raw/refs/heads/main/example/2_EC-EC/train_set_tutorial.zip\n",
      "Resolving github.com (github.com)... 140.82.112.4\n",
      "Connecting to github.com (github.com)|140.82.112.4|:443... connected.\n",
      "HTTP request sent, awaiting response... 302 Found\n",
      "Location: https://raw.githubusercontent.com/atomisticnet/aenet-gpr/refs/heads/main/example/2_EC-EC/train_set_tutorial.zip [following]\n",
      "--2025-10-19 17:35:49--  https://raw.githubusercontent.com/atomisticnet/aenet-gpr/refs/heads/main/example/2_EC-EC/train_set_tutorial.zip\n",
      "Resolving raw.githubusercontent.com (raw.githubusercontent.com)... 185.199.110.133, 185.199.109.133, 185.199.108.133, ...\n",
      "Connecting to raw.githubusercontent.com (raw.githubusercontent.com)|185.199.110.133|:443... connected.\n",
      "HTTP request sent, awaiting response... 200 OK\n",
      "Length: 101063 (99K) [application/zip]\n",
      "Saving to: ‘train_set_tutorial.zip’\n",
      "\n",
      "train_set_tutorial. 100%[===================>]  98.69K  --.-KB/s    in 0.002s  \n",
      "\n",
      "2025-10-19 17:35:49 (44.0 MB/s) - ‘train_set_tutorial.zip’ saved [101063/101063]\n",
      "\n",
      "number of train data:\n",
      "80\n"
     ]
    }
   ],
   "source": [
    "import os.path\n",
    "\n",
    "! rm -rf 2_EC-EC\n",
    "! mkdir 2_EC-EC\n",
    "    \n",
    "if os.path.isfile(\"../example/2_EC-EC/train_set_tutorial.zip\"):\n",
    "    ! unzip -oq ../example/2_EC-EC/train_set_tutorial.zip -d ./2_EC-EC/\n",
    "    print(\"number of train data:\")\n",
    "    ! find ./2_EC-EC/train_set_tutorial/ -type f | wc -l\n",
    "else:\n",
    "    ! wget https://github.com/atomisticnet/aenet-gpr/raw/refs/heads/main/example/2_EC-EC/train_set_tutorial.zip\n",
    "    ! unzip -oq train_set_tutorial.zip -d ./2_EC-EC/\n",
    "    ! rm train_set_tutorial.zip\n",
    "    print(\"number of train data:\")\n",
    "    ! find ./2_EC-EC/train_set_tutorial/ -type f | wc -l"
   ]
  },
  {
   "cell_type": "code",
   "execution_count": 7,
   "id": "21ba107a-9e4c-44cd-82e4-d9d5cf97477b",
   "metadata": {},
   "outputs": [
    {
     "name": "stdout",
     "output_type": "stream",
     "text": [
      "--2025-10-19 17:35:51--  https://github.com/atomisticnet/aenet-gpr/raw/refs/heads/main/example/2_EC-EC/test_set_tutorial.zip\n",
      "Resolving github.com (github.com)... 140.82.112.4\n",
      "Connecting to github.com (github.com)|140.82.112.4|:443... connected.\n",
      "HTTP request sent, awaiting response... 302 Found\n",
      "Location: https://raw.githubusercontent.com/atomisticnet/aenet-gpr/refs/heads/main/example/2_EC-EC/test_set_tutorial.zip [following]\n",
      "--2025-10-19 17:35:51--  https://raw.githubusercontent.com/atomisticnet/aenet-gpr/refs/heads/main/example/2_EC-EC/test_set_tutorial.zip\n",
      "Resolving raw.githubusercontent.com (raw.githubusercontent.com)... 185.199.110.133, 185.199.109.133, 185.199.108.133, ...\n",
      "Connecting to raw.githubusercontent.com (raw.githubusercontent.com)|185.199.110.133|:443... connected.\n",
      "HTTP request sent, awaiting response... 200 OK\n",
      "Length: 257174 (251K) [application/zip]\n",
      "Saving to: ‘test_set_tutorial.zip’\n",
      "\n",
      "test_set_tutorial.z 100%[===================>] 251.15K  --.-KB/s    in 0.005s  \n",
      "\n",
      "2025-10-19 17:35:51 (47.5 MB/s) - ‘test_set_tutorial.zip’ saved [257174/257174]\n",
      "\n",
      "number of test data:\n",
      "161\n"
     ]
    }
   ],
   "source": [
    "if os.path.isfile(\"../example/2_EC-EC/test_set_tutorial.zip\"):\n",
    "    ! unzip -oq ../example/2_EC-EC/test_set_tutorial.zip -d ./2_EC-EC/\n",
    "    print(\"number of test data:\")\n",
    "    ! find ./2_EC-EC/test_set_tutorial/ -type f | wc -l\n",
    "else:\n",
    "    ! wget https://github.com/atomisticnet/aenet-gpr/raw/refs/heads/main/example/2_EC-EC/test_set_tutorial.zip\n",
    "    ! unzip -oq test_set_tutorial.zip -d ./2_EC-EC/\n",
    "    ! rm test_set_tutorial.zip\n",
    "    print(\"number of test data:\")\n",
    "    ! find ./2_EC-EC/test_set_tutorial/ -type f | wc -l"
   ]
  },
  {
   "cell_type": "code",
   "execution_count": 8,
   "id": "36e0a117-e0fd-41a1-8f30-7d374bf58716",
   "metadata": {
    "tags": []
   },
   "outputs": [
    {
     "name": "stdout",
     "output_type": "stream",
     "text": [
      "(80,)\n",
      "(80, 20, 3)\n"
     ]
    }
   ],
   "source": [
    "import glob\n",
    "\n",
    "\n",
    "train_xsf_files = glob.glob(\"./2_EC-EC/train_set_tutorial/file_*\")\n",
    "train_xsf_files.sort()\n",
    "train_data = ReferenceData(structure_files=train_xsf_files, file_format='xsf')\n",
    "train_data.set_data()\n",
    "\n",
    "print(train_data.energy.shape)\n",
    "print(train_data.force.shape)"
   ]
  },
  {
   "cell_type": "markdown",
   "id": "fe4c1b49-fe17-4cd7-977f-d0adda2695aa",
   "metadata": {},
   "source": [
    "# 2. Model train"
   ]
  },
  {
   "cell_type": "code",
   "execution_count": 9,
   "id": "a19a62e6-c578-4217-96ea-c03a8a47dc25",
   "metadata": {},
   "outputs": [],
   "source": [
    "train_data.filter_similar_data(threshold=0.2)"
   ]
  },
  {
   "cell_type": "code",
   "execution_count": 10,
   "id": "118f1319-3dd3-482f-81ee-b0f80918bdf3",
   "metadata": {
    "tags": []
   },
   "outputs": [
    {
     "name": "stdout",
     "output_type": "stream",
     "text": [
      "Candidate scales: tensor([0.2000, 0.4000, 0.8000])\n",
      "Updated scale: 0.4000000059604645\n",
      "Updated weight: 0.6186434141732067\n",
      "\n",
      "Training parameters\n",
      "{'num_data': 80, 'calculator': {'kerneltype': 'sqexp', 'scale': tensor(0.4000), 'weight': tensor(0.6186, dtype=torch.float64), 'noise': tensor(1.0000e-06, dtype=torch.float64), 'noisefactor': tensor(0.5000, dtype=torch.float64), 'prior': tensor(-18637.3499, dtype=torch.float64)}, 'fix_ind': None, 'pbc': False, 'species': ['O', 'O', 'O', 'C', 'C', 'C', 'H', 'H', 'H', 'H', 'O', 'O', 'O', 'C', 'C', 'C', 'H', 'H', 'H', 'H'], 'num_atom': 20}\n",
      "\n"
     ]
    }
   ],
   "source": [
    "if train_data.standardization:\n",
    "    train_data.standardize_energy_force(train_data.energy)\n",
    "    \n",
    "train_data.config_calculator()\n",
    "\n",
    "io_train_parameters(data_param=train_data.write_params())"
   ]
  },
  {
   "cell_type": "markdown",
   "id": "834f799e-6247-46c2-937e-e334f2a14a01",
   "metadata": {},
   "source": [
    "# 3. Evaluation for test set using ASE Calculator"
   ]
  },
  {
   "cell_type": "code",
   "execution_count": 11,
   "id": "f1d5adce-d9bd-4b9d-ae5e-1eb41289ae1f",
   "metadata": {},
   "outputs": [],
   "source": [
    "from IPython.display import Image\n",
    "from aenet_gpr.src import GPRCalculator"
   ]
  },
  {
   "cell_type": "code",
   "execution_count": 12,
   "id": "8dd35047-1df6-4640-b5a9-59a61ae66eab",
   "metadata": {},
   "outputs": [
    {
     "name": "stdout",
     "output_type": "stream",
     "text": [
      "successfully imported ase\n"
     ]
    }
   ],
   "source": [
    "try:\n",
    "    import ase.io\n",
    "    print(\"successfully imported ase\")\n",
    "except ImportError:\n",
    "    !! pip install ase --user --upgrade\n",
    "    print(\"completed installing ASE\")\n",
    "    \n",
    "    import ase.io\n",
    "    print(\"successfully imported ase\")"
   ]
  },
  {
   "cell_type": "code",
   "execution_count": 13,
   "id": "4a180f6d-00dd-4829-a84d-4f619cf839ec",
   "metadata": {},
   "outputs": [],
   "source": [
    "test_file = [\"./2_EC-EC/test_set_tutorial/file_0001.xsf\"]\n",
    "test_data = ReferenceData(structure_files=test_file, file_format='xsf')"
   ]
  },
  {
   "cell_type": "code",
   "execution_count": 14,
   "id": "f00a897a-d184-4dae-b3e8-382c45e238a9",
   "metadata": {},
   "outputs": [
    {
     "data": {
      "image/png": "[encoded data removed]",
      "text/plain": [
       "<IPython.core.display.Image object>"
      ]
     },
     "execution_count": 14,
     "metadata": {},
     "output_type": "execute_result"
    }
   ],
   "source": [
    "atoms = ase.io.read(test_file[0])\n",
    "ase.io.write('2EC.png', atoms)\n",
    "Image(\"2EC.png\")"
   ]
  },
  {
   "cell_type": "code",
   "execution_count": 15,
   "id": "2d0dd8f4-d3c1-45c6-bab4-9f01d0d3bedf",
   "metadata": {
    "tags": []
   },
   "outputs": [
    {
     "name": "stdout",
     "output_type": "stream",
     "text": [
      "<aenet_gpr.src.gpr_batch.GaussianProcess object at 0x7f2253c8bc80>\n"
     ]
    }
   ],
   "source": [
    "calc = GPRCalculator(calculator=train_data.calculator, train_data=train_data)\n",
    "print(train_data.calculator)"
   ]
  },
  {
   "cell_type": "code",
   "execution_count": 16,
   "id": "3c5eb615-bcd8-425e-95c9-b91f416ea6bc",
   "metadata": {},
   "outputs": [],
   "source": [
    "atoms.calc = calc"
   ]
  },
  {
   "cell_type": "code",
   "execution_count": 22,
   "id": "9b40b4cf-f3aa-466b-806e-6f16d9d572ea",
   "metadata": {},
   "outputs": [
    {
     "name": "stdout",
     "output_type": "stream",
     "text": [
      "GRP energy uncertainty: 0.07234211463854164\n",
      "GPR energy prediction: -18641.67774058367\n",
      "Reference DFT energy: [-18641.65902604]\n"
     ]
    }
   ],
   "source": [
    "print(\"GRP energy uncertainty:\", atoms.calc.results[\"unc_energy\"])\n",
    "print(\"GPR energy prediction:\", atoms.get_potential_energy())\n",
    "print(\"Reference DFT energy:\", test_data.energy)"
   ]
  },
  {
   "cell_type": "code",
   "execution_count": 23,
   "id": "7dd42706-d579-49a4-b1e5-4a386ffd4051",
   "metadata": {},
   "outputs": [
    {
     "name": "stdout",
     "output_type": "stream",
     "text": [
      "GRP forces uncertainty: [[0.35674919 0.34365853 0.34796464]\n",
      " [0.35100182 0.35398961 0.36177561]\n",
      " [0.37029151 0.36002796 0.35894671]\n",
      " [0.3610305  0.362226   0.36218445]\n",
      " [0.35298989 0.35292971 0.36347916]\n",
      " [0.35890328 0.35403057 0.35904941]\n",
      " [0.35848862 0.35739019 0.35201382]\n",
      " [0.352288   0.3614165  0.35275573]\n",
      " [0.35761182 0.35700735 0.34747343]\n",
      " [0.35835402 0.35901351 0.36587618]\n",
      " [0.363937   0.35301396 0.35135912]\n",
      " [0.35817974 0.35867106 0.36231923]\n",
      " [0.35127075 0.36353156 0.36847963]\n",
      " [0.34235525 0.35242639 0.36581677]\n",
      " [0.35430557 0.35950369 0.37477568]\n",
      " [0.36241999 0.35550091 0.35965832]\n",
      " [0.35928272 0.35037062 0.34827887]\n",
      " [0.35327733 0.36489894 0.35458167]\n",
      " [0.35124861 0.36508466 0.35708147]\n",
      " [0.35852378 0.35069379 0.35808588]]\n",
      "GPR forces prediction: [[ 1.00012041e-03 -2.54693188e-01  1.10455203e+00]\n",
      " [-8.53005710e-01  2.25341493e+00  1.05743886e+00]\n",
      " [-1.04507738e+00  5.07967545e+00  1.57570889e+00]\n",
      " [-1.14947176e+00  1.51978091e+00 -2.93948651e+00]\n",
      " [ 4.48503273e-01 -1.14329463e+00 -1.96543669e+00]\n",
      " [ 1.49462684e+00 -5.71608124e+00 -2.70400370e+00]\n",
      " [ 1.84083263e-01 -1.52471307e+00  1.38392926e+00]\n",
      " [ 6.69229952e-01  2.30685981e-01  1.01141785e+00]\n",
      " [-2.79118029e-01 -8.30018783e-02  1.26365517e+00]\n",
      " [ 5.26226492e-01 -2.88684766e-01  1.40516803e-01]\n",
      " [ 6.60374393e-01  2.05854104e+00  1.39879145e+00]\n",
      " [ 1.51203082e-01  7.70639275e-01  7.01371945e-01]\n",
      " [ 5.36352784e-01  6.04964918e+00  2.27790236e+00]\n",
      " [-8.37415258e-01 -3.24519104e-01 -2.17153025e+00]\n",
      " [ 1.12658823e+00 -3.15405126e+00 -1.02187251e+00]\n",
      " [-1.73292490e+00 -6.11298403e+00 -3.66152340e+00]\n",
      " [ 2.56687205e-02 -4.70888225e-01  2.40919631e-01]\n",
      " [ 3.01182628e-01  9.54079151e-02  1.57339499e+00]\n",
      " [-2.46165724e-01  4.46348234e-01  2.66187430e-01]\n",
      " [-4.22666301e-01  6.28704091e-01  1.59708801e-01]]\n",
      "Reference DFT forces: [[[-2.82062335e-01 -3.17738862e-01  1.09559155e+00]\n",
      "  [-7.69184573e-01  2.43198327e+00  1.02967029e+00]\n",
      "  [-8.19213499e-01  4.90968360e+00  1.60168933e+00]\n",
      "  [-7.63627975e-01  1.57941041e+00 -2.74998424e+00]\n",
      "  [ 9.89585924e-02 -1.11251393e+00 -2.25381388e+00]\n",
      "  [ 1.07946540e+00 -5.84736920e+00 -2.88691778e+00]\n",
      "  [ 2.19775477e-01 -1.44246021e+00  1.34518363e+00]\n",
      "  [ 5.49669172e-01  9.42048697e-02  9.20791068e-01]\n",
      "  [-1.61651681e-01 -3.57232053e-02  1.39538815e+00]\n",
      "  [ 8.20808022e-01 -2.34952287e-01  5.04663794e-01]\n",
      "  [ 7.10674448e-01  2.22494186e+00  1.35413074e+00]\n",
      "  [ 6.62812179e-02  5.15171897e-01  8.63614341e-01]\n",
      "  [ 4.06698501e-01  5.60503163e+00  2.30687100e+00]\n",
      "  [-7.37603378e-01 -5.40110797e-01 -2.50989143e+00]\n",
      "  [ 1.26563698e+00 -3.04767968e+00 -9.61700091e-01]\n",
      "  [-1.82497734e+00 -5.52449602e+00 -3.61513451e+00]\n",
      "  [-4.48743281e-03 -4.77440243e-01  1.91413735e-01]\n",
      "  [ 3.32039406e-01  1.23811105e-01  2.06412908e+00]\n",
      "  [-1.44276138e-02  4.23895794e-01  1.44151263e-01]\n",
      "  [-1.72771386e-01  6.72349990e-01  1.60153961e-01]]]\n"
     ]
    }
   ],
   "source": [
    "print(\"GRP forces uncertainty:\", atoms.calc.results[\"unc_forces\"])\n",
    "print(\"GPR forces prediction:\", atoms.get_forces())\n",
    "print(\"Reference DFT forces:\", test_data.force)"
   ]
  },
  {
   "cell_type": "code",
   "execution_count": null,
   "id": "7bc7eaa9-aefe-4e02-9642-db8f914c770d",
   "metadata": {},
   "outputs": [],
   "source": []
  }
 ],
 "metadata": {
  "kernelspec": {
   "display_name": "Python 3",
   "language": "python",
   "name": "python3"
  },
  "language_info": {
   "codemirror_mode": {
    "name": "ipython",
    "version": 3
   },
   "file_extension": ".py",
   "mimetype": "text/x-python",
   "name": "python",
   "nbconvert_exporter": "python",
   "pygments_lexer": "ipython3",
   "version": "3.12.2"
  }
 },
 "nbformat": 4,
 "nbformat_minor": 5
}
