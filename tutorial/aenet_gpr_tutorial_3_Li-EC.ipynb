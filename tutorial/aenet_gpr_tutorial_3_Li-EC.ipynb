{
 "cells": [
  {
   "cell_type": "code",
   "execution_count": null,
   "id": "8d96e3d3-c936-471d-b313-33c36d0e742c",
   "metadata": {
    "tags": []
   },
   "outputs": [],
   "source": [
    "try:\n",
    "    import torch\n",
    "    print(\"successfully imported torch\")\n",
    "except ImportError:\n",
    "    !! pip install torch torchvision torchaudio --user --index-url https://download.pytorch.org/whl/cpu\n",
    "    print(\"completed installing torch\")"
   ]
  },
  {
   "cell_type": "code",
   "execution_count": null,
   "id": "78af600e-1c02-4e34-bd05-0128b0588c1c",
   "metadata": {},
   "outputs": [],
   "source": [
    "try:\n",
    "    import numpy as np\n",
    "    print(\"successfully imported numpy\")\n",
    "except ImportError:\n",
    "    !! pip install numpy --user --upgrade\n",
    "    print(\"completed installing numpy\")"
   ]
  },
  {
   "cell_type": "code",
   "execution_count": null,
   "id": "e5cc9ed4-1285-43c2-b306-c2827f271770",
   "metadata": {},
   "outputs": [],
   "source": [
    "try:\n",
    "    from matplotlib import pyplot as plt\n",
    "    print(\"successfully imported matplotlib\")\n",
    "except ImportError:\n",
    "    !! pip install matplotlib --user --upgrade\n",
    "    print(\"completed installing matplotlib\")"
   ]
  },
  {
   "cell_type": "code",
   "execution_count": null,
   "id": "11e45431-8717-40ed-ba5a-348bdfe73539",
   "metadata": {},
   "outputs": [],
   "source": [
    "!! pip install aenet-gpr --user --upgrade\n",
    "print(\"completed installing aenet-gpr\")\n",
    "\n",
    "! pip show aenet-gpr"
   ]
  },
  {
   "cell_type": "code",
   "execution_count": null,
   "id": "3a1eeeed-fb94-470f-af1a-647344127a70",
   "metadata": {},
   "outputs": [],
   "source": [
    "import os, sys, site\n",
    "sys.path.append(site.USER_SITE)\n",
    "\n",
    "import aenet_gpr\n",
    "print(aenet_gpr.__version__)"
   ]
  },
  {
   "cell_type": "markdown",
   "id": "f9cfd82b-8f6c-48ec-9c57-54ea593bb81b",
   "metadata": {},
   "source": [
    "# 1. Prepare training/test data"
   ]
  },
  {
   "cell_type": "markdown",
   "id": "0f0e802f-aa8c-40bd-990f-a40951607996",
   "metadata": {},
   "source": [
    "We are using train/test HSE06 data of Li/EC interface prepared in `aenet-gpr/example/3_Li-EC/`"
   ]
  },
  {
   "cell_type": "code",
   "execution_count": null,
   "id": "d50bab63-a944-4fa9-b202-3deb00dcf64b",
   "metadata": {},
   "outputs": [],
   "source": [
    "import os.path\n",
    "\n",
    "! mkdir 3_Li-EC\n",
    "    \n",
    "if os.path.isfile(\"../example/3_Li-EC/train_set.zip\"):\n",
    "    ! unzip -oq ../example/3_Li-EC/train_set.zip -d ./3_Li-EC/\n",
    "else:\n",
    "    ! wget https://github.com/atomisticnet/aenet-gpr/raw/refs/heads/main/example/3_Li-EC/train_set.zip\n",
    "    ! unzip -oq train_set.zip -d ./3_Li-EC/\n",
    "    ! rm train_set.zip"
   ]
  },
  {
   "cell_type": "code",
   "execution_count": null,
   "id": "21ba107a-9e4c-44cd-82e4-d9d5cf97477b",
   "metadata": {},
   "outputs": [],
   "source": [
    "if os.path.isfile(\"../example/3_Li-EC/test_set.zip\"):\n",
    "    ! unzip -oq ../example/3_Li-EC/test_set.zip -d ./3_Li-EC/\n",
    "else:\n",
    "    ! wget https://github.com/atomisticnet/aenet-gpr/raw/refs/heads/main/example/3_Li-EC/test_set.zip\n",
    "    ! unzip -oq test_set.zip -d ./3_Li-EC/\n",
    "    ! rm test_set.zip"
   ]
  },
  {
   "cell_type": "markdown",
   "id": "fe4c1b49-fe17-4cd7-977f-d0adda2695aa",
   "metadata": {},
   "source": [
    "# 2. Train–Test–Augmentation execute"
   ]
  },
  {
   "cell_type": "markdown",
   "id": "ff7c4829-3b20-4595-9c6a-c3f9c6fe7315",
   "metadata": {},
   "source": [
    "In addition to the reference data files, following aenet-gpr input file `train.in` is all you need to run aenet-gpr. \n",
    "\n",
    "Most of the contents are set to default parameters, which can also be deleted."
   ]
  },
  {
   "cell_type": "code",
   "execution_count": null,
   "id": "a8c4d4f2-b292-4624-a451-d8de4a0d0dee",
   "metadata": {},
   "outputs": [],
   "source": [
    "if os.path.isfile(\"../example/3_Li-EC/train.in\"):\n",
    "    ! cp ../example/3_Li-EC/train.in .\n",
    "else:\n",
    "    ! wget https://github.com/atomisticnet/aenet-gpr/raw/refs/heads/main/example/3_Li-EC/train.in"
   ]
  },
  {
   "cell_type": "code",
   "execution_count": null,
   "id": "c2cfe62e-dfd2-4b54-83c1-a6e50bc247d3",
   "metadata": {},
   "outputs": [],
   "source": [
    "! cat train.in"
   ]
  },
  {
   "cell_type": "code",
   "execution_count": null,
   "id": "118f1319-3dd3-482f-81ee-b0f80918bdf3",
   "metadata": {
    "tags": []
   },
   "outputs": [],
   "source": [
    "! python -m aenet_gpr train.in"
   ]
  },
  {
   "cell_type": "markdown",
   "id": "b7b88ffd-ece7-4b0d-bf4c-168314bcf02c",
   "metadata": {},
   "source": [
    "# 3. Visualize the results"
   ]
  },
  {
   "cell_type": "code",
   "execution_count": null,
   "id": "e36d60d3-d805-40af-b9d8-8269e253f728",
   "metadata": {},
   "outputs": [],
   "source": [
    "energy_test_gpr = np.load(\"./energy_test_gpr.npy\")\n",
    "energy_test_reference = np.load(\"./energy_test_reference.npy\")\n",
    "force_test_gpr = np.load(\"./force_test_gpr.npy\")\n",
    "force_test_reference = np.load(\"./force_test_reference.npy\")\n",
    "uncertainty_test_gpr = np.load(\"./uncertainty_test_gpr.npy\")"
   ]
  },
  {
   "cell_type": "code",
   "execution_count": null,
   "id": "6b13df42-1f8b-4e83-bff0-e883b6900e02",
   "metadata": {},
   "outputs": [],
   "source": [
    "diff = energy_test_reference - energy_test_gpr\n",
    "\n",
    "print(diff.min(), diff.max())"
   ]
  },
  {
   "cell_type": "code",
   "execution_count": null,
   "id": "cf47256f-f2f0-4f6c-9169-4af6c8b7418b",
   "metadata": {},
   "outputs": [],
   "source": [
    "fig = plt.figure(figsize=(7, 6))\n",
    "ax2 = fig.subplots()\n",
    "\n",
    "font_x = {'size': 20, 'color': 'black'}\n",
    "font_y = {'size': 20, 'color': 'black'}\n",
    "font_tick = {'size': 16, 'color': 'black'}\n",
    "\n",
    "\n",
    "# The second plot\n",
    "counts, bins = np.histogram(diff, bins=30, range=(-0.5, 2.5))\n",
    "\n",
    "ax2.hist(bins[:-1], bins, weights=counts, facecolor='dimgray', alpha=1.0, edgecolor='black')\n",
    "\n",
    "ax2.set_xlabel(\"DFT $-$ GPR (eV)\", fontdict=font_x)\n",
    "ax2.set_xlim([-0.5, 1.0])\n",
    "x_labels = [round(label, 1) for label in ax2.get_xticks()]\n",
    "x_labels = [-0.5, 0.0, 0.5, 1.0]\n",
    "ax2.set_xticks(x_labels)\n",
    "ax2.set_xlim([-0.5, 1.0])\n",
    "ax2.set_xticklabels(x_labels, fontdict=font_tick)\n",
    "\n",
    "ax2.set_ylabel(\"Number of structures\", fontdict=font_y)\n",
    "ax2.set_ylim([0, 100])\n",
    "y_labels = [int(label) for label in ax2.get_yticks()]\n",
    "# y_labels = [0, 20, 40, 60, 80, 100]\n",
    "ax2.set_yticks(y_labels)\n",
    "ax2.set_ylim([0, 100])\n",
    "ax2.set_yticklabels(y_labels, fontdict=font_tick)\n",
    "\n",
    "[x.set_linewidth(1.5) for x in ax2.spines.values()]\n",
    "ax2.tick_params(bottom=False, top=True, left=True, right=True)\n",
    "ax2.tick_params(labelbottom=True, labeltop=False, labelleft=True, labelright=False)\n",
    "ax2.tick_params(direction='in', length=8, width=1.5)\n",
    "\n",
    "ax2.grid(True, which='both', linestyle=':', linewidth=0.7, alpha=0.7)\n",
    "\n",
    "fig.tight_layout()\n",
    "plt.show()"
   ]
  }
 ],
 "metadata": {
  "kernelspec": {
   "display_name": "Python 3",
   "language": "python",
   "name": "python3"
  },
  "language_info": {
   "codemirror_mode": {
    "name": "ipython",
    "version": 3
   },
   "file_extension": ".py",
   "mimetype": "text/x-python",
   "name": "python",
   "nbconvert_exporter": "python",
   "pygments_lexer": "ipython3",
   "version": "3.12.7"
  }
 },
 "nbformat": 4,
 "nbformat_minor": 5
}
