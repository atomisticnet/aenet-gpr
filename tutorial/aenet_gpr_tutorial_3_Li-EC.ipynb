{
 "cells": [
  {
   "cell_type": "code",
   "execution_count": null,
   "id": "8d96e3d3-c936-471d-b313-33c36d0e742c",
   "metadata": {
    "tags": []
   },
   "outputs": [],
   "source": [
    "try:\n",
    "    from ase import Atoms\n",
    "    from ase.calculators.lj import LennardJones\n",
    "    print(\"successfully imported ase\")\n",
    "except ImportError:\n",
    "    !! pip install ase --user --upgrade\n",
    "    print(\"completed installing ASE\")"
   ]
  },
  {
   "cell_type": "code",
   "execution_count": null,
   "id": "78af600e-1c02-4e34-bd05-0128b0588c1c",
   "metadata": {},
   "outputs": [],
   "source": [
    "try:\n",
    "    import torch\n",
    "    print(\"successfully imported torch\")\n",
    "except ImportError:\n",
    "    !! pip install torch --user --upgrade\n",
    "    print(\"completed installing torch\")"
   ]
  },
  {
   "cell_type": "code",
   "execution_count": null,
   "id": "1199d147-8447-40a5-8fa4-a644a38132f4",
   "metadata": {},
   "outputs": [],
   "source": [
    "try:\n",
    "    import dscribe\n",
    "    print(\"successfully imported dscribe\")\n",
    "except ImportError:\n",
    "    !! pip install dscribe --user --upgrade\n",
    "    print(\"completed installing dscribe\")"
   ]
  },
  {
   "cell_type": "code",
   "execution_count": null,
   "id": "c42615d0-12e1-4e3c-afa8-d31cf68e660a",
   "metadata": {},
   "outputs": [],
   "source": [
    "try:\n",
    "    import numpy as np\n",
    "    print(\"successfully imported numpy\")\n",
    "except ImportError:\n",
    "    !! pip install numpy --user --upgrade\n",
    "    print(\"completed installing numpy\")"
   ]
  },
  {
   "cell_type": "code",
   "execution_count": null,
   "id": "11e45431-8717-40ed-ba5a-348bdfe73539",
   "metadata": {},
   "outputs": [],
   "source": [
    "try:\n",
    "    import aenet_gpr\n",
    "    print(\"successfully imported aenet_gpr\")\n",
    "except ImportError:\n",
    "    !! pip install aenet_gpr --user --upgrade\n",
    "    print(\"completed installing aenet_gpr\")"
   ]
  },
  {
   "cell_type": "markdown",
   "id": "f9cfd82b-8f6c-48ec-9c57-54ea593bb81b",
   "metadata": {},
   "source": [
    "# 1. Prepare training/test data"
   ]
  },
  {
   "cell_type": "code",
   "execution_count": null,
   "id": "d50bab63-a944-4fa9-b202-3deb00dcf64b",
   "metadata": {},
   "outputs": [],
   "source": [
    "!! unzip ../aenet_example/3_Li-EC/train_set.zip -d ./3_Li-EC/"
   ]
  },
  {
   "cell_type": "code",
   "execution_count": null,
   "id": "21ba107a-9e4c-44cd-82e4-d9d5cf97477b",
   "metadata": {},
   "outputs": [],
   "source": [
    "!! unzip ../aenet_example/3_Li-EC/test_set.zip -d ./3_Li-EC/"
   ]
  },
  {
   "cell_type": "markdown",
   "id": "fe4c1b49-fe17-4cd7-977f-d0adda2695aa",
   "metadata": {},
   "source": [
    "# 2. Train–Test–Augmentation execute"
   ]
  },
  {
   "cell_type": "code",
   "execution_count": 1,
   "id": "c2cfe62e-dfd2-4b54-83c1-a6e50bc247d3",
   "metadata": {},
   "outputs": [
    {
     "name": "stdout",
     "output_type": "stream",
     "text": [
      "# File path\n",
      "Train_file ./train_set/file_*.xsf\n",
      "Test_file ./test_set/file_*.xsf\n",
      "\n",
      "# File format (default: xsf)\n",
      "File_format xsf\n",
      "\n",
      "# Descriptor (default: cartesian coordinates)\n",
      "Descriptor cart\n",
      "\n",
      "# Uncertainty estimation (default: True)\n",
      "Get_variance True\n",
      "\n",
      "# Kernel parameter (default: Squared exponential)\n",
      "scale 3.0\n",
      "weight 1.0\n",
      "\n",
      "# Chunking to reduce memory usage (default: batch, 25)\n",
      "data_process batch\n",
      "batch_size 25\n",
      "\n",
      "# Flags for xsf file writing (default: False)\n",
      "Train_write False\n",
      "Test_write False\n",
      "# Additional_write True\n",
      "\n",
      "# Data augmentation parameter (default: 0.055, 25)\n",
      "Disp_length 0.05\n",
      "Num_copy 5\n"
     ]
    }
   ],
   "source": [
    "! cat ./3_Li-EC/train.in"
   ]
  },
  {
   "cell_type": "code",
   "execution_count": null,
   "id": "118f1319-3dd3-482f-81ee-b0f80918bdf3",
   "metadata": {
    "tags": []
   },
   "outputs": [],
   "source": [
    "! python aenet_GPR/aenet_gpr.py ./3_Li-EC/train.in > ./3_Li-EC/train.out"
   ]
  },
  {
   "cell_type": "code",
   "execution_count": null,
   "id": "143b35d8-58b1-405f-a96d-549fd40b5e1c",
   "metadata": {},
   "outputs": [],
   "source": []
  }
 ],
 "metadata": {
  "kernelspec": {
   "display_name": "Python 3",
   "language": "python",
   "name": "python3"
  },
  "language_info": {
   "codemirror_mode": {
    "name": "ipython",
    "version": 3
   },
   "file_extension": ".py",
   "mimetype": "text/x-python",
   "name": "python",
   "nbconvert_exporter": "python",
   "pygments_lexer": "ipython3",
   "version": "3.12.7"
  }
 },
 "nbformat": 4,
 "nbformat_minor": 5
}
