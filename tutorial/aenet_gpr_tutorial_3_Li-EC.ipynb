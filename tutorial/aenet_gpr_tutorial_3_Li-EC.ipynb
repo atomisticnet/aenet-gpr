{
 "cells": [
  {
   "cell_type": "code",
   "execution_count": 1,
   "id": "8d96e3d3-c936-471d-b313-33c36d0e742c",
   "metadata": {
    "tags": []
   },
   "outputs": [
    {
     "name": "stdout",
     "output_type": "stream",
     "text": [
      "successfully imported torch\n",
      "2.6.0+cu124\n"
     ]
    }
   ],
   "source": [
    "try:\n",
    "    import torch\n",
    "    print(\"successfully imported torch\")\n",
    "    print(torch.__version__)\n",
    "except ImportError:\n",
    "    !! pip install torch torchvision torchaudio --user --index-url https://download.pytorch.org/whl/cpu\n",
    "    print(\"completed installing torch\")"
   ]
  },
  {
   "cell_type": "code",
   "execution_count": 2,
   "id": "78af600e-1c02-4e34-bd05-0128b0588c1c",
   "metadata": {},
   "outputs": [
    {
     "name": "stdout",
     "output_type": "stream",
     "text": [
      "successfully imported numpy\n",
      "1.26.4\n"
     ]
    }
   ],
   "source": [
    "try:\n",
    "    import numpy as np\n",
    "    print(\"successfully imported numpy\")\n",
    "    print(np.__version__)\n",
    "except ImportError:\n",
    "    !! pip install numpy --user --upgrade\n",
    "    print(\"completed installing numpy\")"
   ]
  },
  {
   "cell_type": "code",
   "execution_count": 3,
   "id": "e5cc9ed4-1285-43c2-b306-c2827f271770",
   "metadata": {},
   "outputs": [
    {
     "name": "stdout",
     "output_type": "stream",
     "text": [
      "successfully imported matplotlib\n"
     ]
    }
   ],
   "source": [
    "try:\n",
    "    from matplotlib import pyplot as plt\n",
    "    print(\"successfully imported matplotlib\")\n",
    "except ImportError:\n",
    "    !! pip install matplotlib --user --upgrade\n",
    "    print(\"completed installing matplotlib\")"
   ]
  },
  {
   "cell_type": "code",
   "execution_count": 4,
   "id": "11e45431-8717-40ed-ba5a-348bdfe73539",
   "metadata": {},
   "outputs": [
    {
     "name": "stdout",
     "output_type": "stream",
     "text": [
      "completed installing aenet-gpr\n",
      "Name: aenet-gpr\n",
      "Version: 1.2.3\n",
      "Summary: Atomistic simulation tools based on Gaussian Processes Regression\n",
      "Home-page: https://github.com/atomisticnet/aenet-gpr\n",
      "Author: In Won Yeu\n",
      "Author-email: iy2185@columbia.edu\n",
      "License: MPL-2.0\n",
      "Location: /data/home/iy2185/.local/lib/python3.12/site-packages\n",
      "Requires: ase, dscribe\n",
      "Required-by: \n"
     ]
    }
   ],
   "source": [
    "!! pip install aenet-gpr --user --upgrade\n",
    "print(\"completed installing aenet-gpr\")\n",
    "\n",
    "! pip show aenet-gpr"
   ]
  },
  {
   "cell_type": "code",
   "execution_count": 5,
   "id": "3a1eeeed-fb94-470f-af1a-647344127a70",
   "metadata": {},
   "outputs": [
    {
     "name": "stdout",
     "output_type": "stream",
     "text": [
      "1.2.3\n"
     ]
    }
   ],
   "source": [
    "import os, sys, site\n",
    "sys.path.append(site.USER_SITE)\n",
    "\n",
    "import aenet_gpr\n",
    "print(aenet_gpr.__version__)"
   ]
  },
  {
   "cell_type": "markdown",
   "id": "f9cfd82b-8f6c-48ec-9c57-54ea593bb81b",
   "metadata": {},
   "source": [
    "# 1. Prepare training/test data"
   ]
  },
  {
   "cell_type": "markdown",
   "id": "0f0e802f-aa8c-40bd-990f-a40951607996",
   "metadata": {},
   "source": [
    "We are using train/test HSE06 data of Li/EC interface prepared in `aenet-gpr/example/3_Li-EC/`"
   ]
  },
  {
   "cell_type": "code",
   "execution_count": 6,
   "id": "d50bab63-a944-4fa9-b202-3deb00dcf64b",
   "metadata": {},
   "outputs": [
    {
     "name": "stdout",
     "output_type": "stream",
     "text": [
      "--2025-05-17 18:02:55--  https://github.com/atomisticnet/aenet-gpr/raw/refs/heads/main/example/3_Li-EC/train_set_tutorial.zip\n",
      "Resolving github.com (github.com)... 140.82.113.4\n",
      "Connecting to github.com (github.com)|140.82.113.4|:443... connected.\n",
      "HTTP request sent, awaiting response... 302 Found\n",
      "Location: https://raw.githubusercontent.com/atomisticnet/aenet-gpr/refs/heads/main/example/3_Li-EC/train_set_tutorial.zip [following]\n",
      "--2025-05-17 18:02:55--  https://raw.githubusercontent.com/atomisticnet/aenet-gpr/refs/heads/main/example/3_Li-EC/train_set_tutorial.zip\n",
      "Resolving raw.githubusercontent.com (raw.githubusercontent.com)... 185.199.109.133, 185.199.108.133, 185.199.111.133, ...\n",
      "Connecting to raw.githubusercontent.com (raw.githubusercontent.com)|185.199.109.133|:443... connected.\n",
      "HTTP request sent, awaiting response... 200 OK\n",
      "Length: 74855 (73K) [application/zip]\n",
      "Saving to: ‘train_set_tutorial.zip’\n",
      "\n",
      "train_set_tutorial. 100%[===================>]  73.10K  --.-KB/s    in 0.001s  \n",
      "\n",
      "2025-05-17 18:02:55 (54.0 MB/s) - ‘train_set_tutorial.zip’ saved [74855/74855]\n",
      "\n",
      "number of train data:\n",
      "30\n"
     ]
    }
   ],
   "source": [
    "import os.path\n",
    "\n",
    "! rm -rf 3_Li-EC\n",
    "! mkdir 3_Li-EC\n",
    "    \n",
    "if os.path.isfile(\"../example/3_Li-EC/train_set_tutorial.zip\"):\n",
    "    ! unzip -oq ../example/3_Li-EC/train_set_tutorial.zip -d ./3_Li-EC/\n",
    "    print(\"number of train data:\")\n",
    "    ! find ./3_Li-EC/train_set_tutorial/ -type f | wc -l\n",
    "else:\n",
    "    ! wget https://github.com/atomisticnet/aenet-gpr/raw/refs/heads/main/example/3_Li-EC/train_set_tutorial.zip\n",
    "    ! unzip -oq train_set_tutorial.zip -d ./3_Li-EC/\n",
    "    ! rm train_set_tutorial.zip\n",
    "    print(\"number of train data:\")\n",
    "    ! find ./3_Li-EC/train_set_tutorial/ -type f | wc -l"
   ]
  },
  {
   "cell_type": "code",
   "execution_count": 7,
   "id": "21ba107a-9e4c-44cd-82e4-d9d5cf97477b",
   "metadata": {},
   "outputs": [
    {
     "name": "stdout",
     "output_type": "stream",
     "text": [
      "--2025-05-17 18:02:58--  https://github.com/atomisticnet/aenet-gpr/raw/refs/heads/main/example/3_Li-EC/test_set_tutorial.zip\n",
      "Resolving github.com (github.com)... 140.82.113.4\n",
      "Connecting to github.com (github.com)|140.82.113.4|:443... connected.\n",
      "HTTP request sent, awaiting response... 302 Found\n",
      "Location: https://raw.githubusercontent.com/atomisticnet/aenet-gpr/refs/heads/main/example/3_Li-EC/test_set_tutorial.zip [following]\n",
      "--2025-05-17 18:02:59--  https://raw.githubusercontent.com/atomisticnet/aenet-gpr/refs/heads/main/example/3_Li-EC/test_set_tutorial.zip\n",
      "Resolving raw.githubusercontent.com (raw.githubusercontent.com)... 185.199.109.133, 185.199.108.133, 185.199.111.133, ...\n",
      "Connecting to raw.githubusercontent.com (raw.githubusercontent.com)|185.199.109.133|:443... connected.\n",
      "HTTP request sent, awaiting response... 200 OK\n",
      "Length: 149388 (146K) [application/zip]\n",
      "Saving to: ‘test_set_tutorial.zip’\n",
      "\n",
      "test_set_tutorial.z 100%[===================>] 145.89K  --.-KB/s    in 0.003s  \n",
      "\n",
      "2025-05-17 18:02:59 (45.4 MB/s) - ‘test_set_tutorial.zip’ saved [149388/149388]\n",
      "\n",
      "number of test data:\n",
      "60\n"
     ]
    }
   ],
   "source": [
    "if os.path.isfile(\"../example/3_Li-EC/test_set_tutorial.zip\"):\n",
    "    ! unzip -oq ../example/3_Li-EC/test_set_tutorial.zip -d ./3_Li-EC/\n",
    "    print(\"number of test data:\")\n",
    "    ! find ./3_Li-EC/test_set_tutorial/ -type f | wc -l\n",
    "else:\n",
    "    ! wget https://github.com/atomisticnet/aenet-gpr/raw/refs/heads/main/example/3_Li-EC/test_set_tutorial.zip\n",
    "    ! unzip -oq test_set_tutorial.zip -d ./3_Li-EC/\n",
    "    ! rm test_set_tutorial.zip\n",
    "    print(\"number of test data:\")\n",
    "    ! find ./3_Li-EC/test_set_tutorial/ -type f | wc -l"
   ]
  },
  {
   "cell_type": "markdown",
   "id": "fe4c1b49-fe17-4cd7-977f-d0adda2695aa",
   "metadata": {},
   "source": [
    "# 2-1. Train–Test with default kernel parameters (scale 0.4, weight 1.0)"
   ]
  },
  {
   "cell_type": "markdown",
   "id": "ff7c4829-3b20-4595-9c6a-c3f9c6fe7315",
   "metadata": {},
   "source": [
    "First, let us check the GPR evaluation error for test set with default kernel parameters."
   ]
  },
  {
   "cell_type": "code",
   "execution_count": 38,
   "id": "a8c4d4f2-b292-4624-a451-d8de4a0d0dee",
   "metadata": {},
   "outputs": [
    {
     "name": "stdout",
     "output_type": "stream",
     "text": [
      "--2025-05-17 18:21:34--  https://github.com/atomisticnet/aenet-gpr/raw/refs/heads/main/example/3_Li-EC/train.in\n",
      "Resolving github.com (github.com)... 140.82.114.4\n",
      "Connecting to github.com (github.com)|140.82.114.4|:443... connected.\n",
      "HTTP request sent, awaiting response... 302 Found\n",
      "Location: https://raw.githubusercontent.com/atomisticnet/aenet-gpr/refs/heads/main/example/3_Li-EC/train.in [following]\n",
      "--2025-05-17 18:21:34--  https://raw.githubusercontent.com/atomisticnet/aenet-gpr/refs/heads/main/example/3_Li-EC/train.in\n",
      "Resolving raw.githubusercontent.com (raw.githubusercontent.com)... 185.199.109.133, 185.199.108.133, 185.199.111.133, ...\n",
      "Connecting to raw.githubusercontent.com (raw.githubusercontent.com)|185.199.109.133|:443... connected.\n",
      "HTTP request sent, awaiting response... 200 OK\n",
      "Length: 587 [text/plain]\n",
      "Saving to: ‘train.in’\n",
      "\n",
      "train.in            100%[===================>]     587  --.-KB/s    in 0s      \n",
      "\n",
      "2025-05-17 18:21:34 (11.1 MB/s) - ‘train.in’ saved [587/587]\n",
      "\n"
     ]
    }
   ],
   "source": [
    "! rm -f train.in\n",
    "\n",
    "if os.path.isfile(\"../example/3_Li-EC/train.in\"):\n",
    "    ! cp ../example/3_Li-EC/train.in .\n",
    "else:\n",
    "    ! wget https://github.com/atomisticnet/aenet-gpr/raw/refs/heads/main/example/3_Li-EC/train.in"
   ]
  },
  {
   "cell_type": "code",
   "execution_count": 39,
   "id": "c2cfe62e-dfd2-4b54-83c1-a6e50bc247d3",
   "metadata": {},
   "outputs": [
    {
     "name": "stdout",
     "output_type": "stream",
     "text": [
      "# File path\n",
      "Train_file ./3_Li-EC/train_set_tutorial/file_*.xsf\n",
      "Test_file ./3_Li-EC/test_set_tutorial/file_*.xsf\n",
      "\n",
      "# Train model save (default: False)\n",
      "# Train_model_save True\n",
      "\n",
      "# File format (default: xsf)\n",
      "File_format xsf\n",
      "\n",
      "# Descriptor (default: cartesian coordinates)\n",
      "Descriptor cart\n",
      "\n",
      "# Kernel parameter\n",
      "# scale 3.0\n",
      "# weight 1.0\n",
      "\n",
      "# Data process (default: batch, 25)\n",
      "data_process batch\n",
      "batch_size 25\n",
      "\n",
      "# Flags for xsf file writing (default: False)\n",
      "Train_write False\n",
      "Test_write False\n",
      "# Additional_write True\n",
      "\n",
      "# Data augmentation parameter (default: 0.055, 25)\n",
      "# Disp_length 0.05\n",
      "# Num_copy 3\n"
     ]
    }
   ],
   "source": [
    "! cat train.in"
   ]
  },
  {
   "cell_type": "code",
   "execution_count": 40,
   "id": "118f1319-3dd3-482f-81ee-b0f80918bdf3",
   "metadata": {
    "tags": []
   },
   "outputs": [
    {
     "name": "stdout",
     "output_type": "stream",
     "text": [
      "======================================================================\n",
      "aenet-GPR: surrogate GPR for GPR-ANN indirect force training\n",
      "======================================================================\n",
      "\n",
      "2025-05-17 18:21:44.\n",
      "\n",
      "Developed by In Won Yeu\n",
      "\n",
      "This program performs three main steps:\n",
      "1. Train: Generates a GPR model using the provided structure, energy, and force data.\n",
      "2. Test: Uses the generated GPR model to predict values for the test set structures.\n",
      "3. Augmentation: Performs data augmentation in xsf file format, compatible with aenet-(PyTorch),\n",
      "supporting a GPR-ANN training in conjunction with aenet-(PyTorch).\n",
      "\n",
      "Each of these steps is executed once the input file (train.in) contains the keywords:\n",
      "Train_file [train file path]\n",
      "Test_file [test file path]\n",
      "Additional_write [True]\n",
      "\n",
      "\n",
      "======================================================================\n",
      "Train\n",
      "======================================================================\n",
      "\n",
      "Read reference training data\n",
      "\n",
      "Time needed for reading data:            0.038514 s\n",
      "Maximum CPU memory used:             0.538319 GB\n",
      "Maximum GPU memory used:             0.000000 GB\n",
      "Energy data size: (30,)  # (N_data, )\n",
      "Force data size: (30, 46, 3)  # (N_data, N_atom, 3)\n",
      "----------------------------------------------------------------------\n",
      "----------------------------------------------------------------------\n",
      "Model train\n",
      "\n",
      "Training parameters\n",
      "{'num_data': 30, 'calculator': {'kerneltype': 'sqexp', 'scale': tensor(0.4000, dtype=torch.float64), 'weight': tensor(1., dtype=torch.float64), 'noise': tensor(1.0000e-06, dtype=torch.float64), 'noisefactor': tensor(0.5000, dtype=torch.float64)}, 'fix_ind': None, 'pbc': True, 'species': ['Li', 'Li', 'Li', 'Li', 'Li', 'Li', 'Li', 'Li', 'Li', 'Li', 'Li', 'Li', 'Li', 'Li', 'Li', 'Li', 'Li', 'Li', 'Li', 'Li', 'Li', 'Li', 'Li', 'Li', 'Li', 'Li', 'Li', 'Li', 'Li', 'Li', 'Li', 'Li', 'Li', 'Li', 'Li', 'Li', 'C', 'C', 'O', 'H', 'H', 'O', 'H', 'H', 'C', 'O'], 'num_atom': 46}\n",
      "\n",
      "Time needed for training:            0.572655 s\n",
      "Maximum CPU memory used:             0.961212 GB\n",
      "Maximum GPU memory used:             0.000000 GB\n",
      "----------------------------------------------------------------------\n",
      "======================================================================\n",
      "Test\n",
      "======================================================================\n",
      "\n",
      "Read reference test data\n",
      "\n",
      "Time needed for reading data:            0.066936 s\n",
      "Maximum CPU memory used:             0.961212 GB\n",
      "Maximum GPU memory used:             0.000000 GB\n",
      "Energy data size: (60,)  # (N_data, )\n",
      "Force data size: (60, 46, 3)  # (N_data, N_atom, 3)\n",
      "----------------------------------------------------------------------\n",
      "----------------------------------------------------------------------\n",
      "Model evaluation for test set\n",
      "\n",
      "Test parameters\n",
      "{'num_data': 60, 'calculator': {'kerneltype': 'sqexp', 'scale': tensor(0.4000, dtype=torch.float64), 'weight': tensor(1., dtype=torch.float64), 'noise': tensor(1.0000e-06, dtype=torch.float64), 'noisefactor': tensor(0.5000, dtype=torch.float64)}, 'fix_ind': None, 'pbc': True, 'species': ['Li', 'Li', 'Li', 'Li', 'Li', 'Li', 'Li', 'Li', 'Li', 'Li', 'Li', 'Li', 'Li', 'Li', 'Li', 'Li', 'Li', 'Li', 'Li', 'Li', 'Li', 'Li', 'Li', 'Li', 'Li', 'Li', 'Li', 'Li', 'Li', 'Li', 'Li', 'Li', 'Li', 'Li', 'Li', 'Li', 'C', 'C', 'O', 'H', 'H', 'O', 'H', 'H', 'C', 'O'], 'num_atom': 46}\n",
      "\n",
      "Time needed for test evaluation:            4.723041 s\n",
      "Maximum CPU memory used:             1.716610 GB\n",
      "Maximum GPU memory used:             0.000000 GB\n",
      "----------------------------------------------------------------------\n",
      "GPR energy MAE (eV): 0.527166682488496\n",
      "GPR force MAE (eV/Ang): 0.5087548552726603\n",
      "GPR uncertainty mean ± std: 0.6199457433094445 ± 0.04011101648906788\n",
      "\n",
      "Saving test target to [energy_test_reference.npy] and [force_test_reference.npy]\n",
      "Saving GPR prediction to [energy_test_gpr.npy], [force_test_gpr.npy], and [uncertainty_test_gpr.npy]\n",
      "\n",
      "\n",
      "\u001b[0m"
     ]
    }
   ],
   "source": [
    "! python -m aenet_gpr train.in"
   ]
  },
  {
   "cell_type": "markdown",
   "id": "b7b88ffd-ece7-4b0d-bf4c-168314bcf02c",
   "metadata": {},
   "source": [
    "# 2-2. Visualize the results"
   ]
  },
  {
   "cell_type": "code",
   "execution_count": 41,
   "id": "e36d60d3-d805-40af-b9d8-8269e253f728",
   "metadata": {},
   "outputs": [],
   "source": [
    "energy_test_gpr = np.load(\"./energy_test_gpr.npy\")\n",
    "energy_test_reference = np.load(\"./energy_test_reference.npy\")\n",
    "force_test_gpr = np.load(\"./force_test_gpr.npy\")\n",
    "force_test_reference = np.load(\"./force_test_reference.npy\")\n",
    "uncertainty_test_gpr = np.load(\"./uncertainty_test_gpr.npy\")"
   ]
  },
  {
   "cell_type": "code",
   "execution_count": 42,
   "id": "6b13df42-1f8b-4e83-bff0-e883b6900e02",
   "metadata": {},
   "outputs": [
    {
     "name": "stdout",
     "output_type": "stream",
     "text": [
      "0.002438105703454905 0.023244350790738954\n"
     ]
    }
   ],
   "source": [
    "diff_per_atom = (energy_test_reference - energy_test_gpr) / 46\n",
    "\n",
    "print(diff_per_atom.min(), diff_per_atom.max())"
   ]
  },
  {
   "cell_type": "code",
   "execution_count": 43,
   "id": "cf47256f-f2f0-4f6c-9169-4af6c8b7418b",
   "metadata": {},
   "outputs": [
    {
     "data": {
      "image/png": "[encoded data removed]",
      "text/plain": [
       "<Figure size 700x600 with 1 Axes>"
      ]
     },
     "metadata": {},
     "output_type": "display_data"
    }
   ],
   "source": [
    "fig = plt.figure(figsize=(7, 6))\n",
    "ax2 = fig.subplots()\n",
    "\n",
    "font_x = {'size': 20, 'color': 'black'}\n",
    "font_y = {'size': 20, 'color': 'black'}\n",
    "font_tick = {'size': 16, 'color': 'black'}\n",
    "\n",
    "\n",
    "# The second plot\n",
    "counts, bins = np.histogram(diff_per_atom, bins=30, range=(-0.005, 0.05))\n",
    "\n",
    "ax2.hist(bins[:-1], bins, weights=counts, facecolor='dimgray', alpha=1.0, edgecolor='black')\n",
    "\n",
    "ax2.set_xlabel(\"DFT $-$ GPR (eV/atom)\", fontdict=font_x)\n",
    "ax2.set_xlim([-0.005, 0.05])\n",
    "x_labels = [round(label, 2) for label in ax2.get_xticks()]\n",
    "ax2.set_xticks(x_labels)\n",
    "ax2.set_xlim([-0.005, 0.05])\n",
    "ax2.set_xticklabels(x_labels, fontdict=font_tick)\n",
    "\n",
    "ax2.set_ylabel(\"Number of structures\", fontdict=font_y)\n",
    "ax2.set_ylim([0, 25])\n",
    "y_labels = [int(label) for label in ax2.get_yticks()]\n",
    "ax2.set_yticks(y_labels)\n",
    "ax2.set_ylim([0, 25])\n",
    "ax2.set_yticklabels(y_labels, fontdict=font_tick)\n",
    "\n",
    "[x.set_linewidth(1.5) for x in ax2.spines.values()]\n",
    "ax2.tick_params(bottom=False, top=True, left=True, right=True)\n",
    "ax2.tick_params(labelbottom=True, labeltop=False, labelleft=True, labelright=False)\n",
    "ax2.tick_params(direction='in', length=8, width=1.5)\n",
    "\n",
    "ax2.grid(True, which='both', linestyle=':', linewidth=0.7, alpha=0.7)\n",
    "\n",
    "fig.tight_layout()\n",
    "plt.show()"
   ]
  },
  {
   "cell_type": "markdown",
   "id": "c68b32e2-5db8-4163-ba24-d4712ed748af",
   "metadata": {},
   "source": [
    "# 3-1. Train–Test–Augment (SOAP, scale 2.0, weight 1.0)"
   ]
  },
  {
   "cell_type": "markdown",
   "id": "194523d6-9d83-4047-aa9c-7c6f78652aef",
   "metadata": {},
   "source": [
    "Since, the constructed GPR with default parameters underestimates energy, let us change to periodic SOAP descriptor and higher scale parameter. \n",
    "\n",
    "We will also augment data using the GPR with these new parameters."
   ]
  },
  {
   "cell_type": "code",
   "execution_count": 44,
   "id": "603a6a1d-87b5-478c-8e4e-a0e0edc021be",
   "metadata": {},
   "outputs": [
    {
     "name": "stdout",
     "output_type": "stream",
     "text": [
      "--2025-05-17 18:24:19--  https://github.com/atomisticnet/aenet-gpr/raw/refs/heads/main/example/3_Li-EC/train_soap.in\n",
      "Resolving github.com (github.com)... 140.82.112.3\n",
      "Connecting to github.com (github.com)|140.82.112.3|:443... connected.\n",
      "HTTP request sent, awaiting response... 302 Found\n",
      "Location: https://raw.githubusercontent.com/atomisticnet/aenet-gpr/refs/heads/main/example/3_Li-EC/train_soap.in [following]\n",
      "--2025-05-17 18:24:19--  https://raw.githubusercontent.com/atomisticnet/aenet-gpr/refs/heads/main/example/3_Li-EC/train_soap.in\n",
      "Resolving raw.githubusercontent.com (raw.githubusercontent.com)... 185.199.110.133, 185.199.109.133, 185.199.108.133, ...\n",
      "Connecting to raw.githubusercontent.com (raw.githubusercontent.com)|185.199.110.133|:443... connected.\n",
      "HTTP request sent, awaiting response... 200 OK\n",
      "Length: 1073 (1.0K) [text/plain]\n",
      "Saving to: ‘train_soap.in’\n",
      "\n",
      "train_soap.in       100%[===================>]   1.05K  --.-KB/s    in 0s      \n",
      "\n",
      "2025-05-17 18:24:19 (15.1 MB/s) - ‘train_soap.in’ saved [1073/1073]\n",
      "\n"
     ]
    }
   ],
   "source": [
    "! rm -f train_soap.in\n",
    "\n",
    "if os.path.isfile(\"../example/3_Li-EC/train_soap.in\"):\n",
    "    ! cp ../example/3_Li-EC/train_soap.in .\n",
    "else:\n",
    "    ! wget https://github.com/atomisticnet/aenet-gpr/raw/refs/heads/main/example/3_Li-EC/train_soap.in"
   ]
  },
  {
   "cell_type": "code",
   "execution_count": 45,
   "id": "1779ca76-90a8-4e26-aea5-6e1c884afd72",
   "metadata": {},
   "outputs": [
    {
     "name": "stdout",
     "output_type": "stream",
     "text": [
      "# File path\n",
      "Train_file ./3_Li-EC/train_set_tutorial/file_*.xsf\n",
      "Test_file ./3_Li-EC/test_set_tutorial/file_*.xsf\n",
      "\n",
      "# File format (default: xsf)\n",
      "File_format xsf\n",
      "\n",
      "# Descriptor (default: cartesian coordinates)\n",
      "Descriptor soap\n",
      "\n",
      "# Soap parameters\n",
      "soap_r_cut 5.0\n",
      "soap_n_max 6\n",
      "soap_l_max 4\n",
      "soap_centers [[2.20113706670393, 2.328998192856251, 6.952547732109352], [2.20113706670393, 2.328998192856251, 11.895790642109352], [2.20113706670393, 6.760484232856251, 6.952547732109352], [2.20113706670393, 6.760484232856251, 11.895790642109352], [6.63924050670393, 2.328998192856251, 6.952547732109352], [6.63924050670393, 2.328998192856251, 11.895790642109352], [6.63924050670393, 6.760484232856251, 6.952547732109352], [6.63924050670393, 6.760484232856251, 11.895790642109352]]\n",
      "soap_n_jobs 32\n",
      "\n",
      "# Kernel parameter\n",
      "scale 2.0\n",
      "weight 1.0\n",
      "\n",
      "# Data process (default: batch, 25)\n",
      "data_process batch\n",
      "batch_size 10\n",
      "\n",
      "# Flags for xsf file writing (default: False)\n",
      "Train_write False\n",
      "Test_write False\n",
      "Additional_write True\n",
      "\n",
      "# Data augmentation parameter (default: 0.055, 25)\n",
      "Disp_length 0.05\n",
      "Num_copy 2\n"
     ]
    }
   ],
   "source": [
    "! cat train_soap.in"
   ]
  },
  {
   "cell_type": "code",
   "execution_count": 46,
   "id": "4ba14f65-d78c-46ce-b96e-1a462c3aac1c",
   "metadata": {},
   "outputs": [
    {
     "name": "stdout",
     "output_type": "stream",
     "text": [
      "======================================================================\n",
      "aenet-GPR: surrogate GPR for GPR-ANN indirect force training\n",
      "======================================================================\n",
      "\n",
      "2025-05-17 18:24:33.\n",
      "\n",
      "Developed by In Won Yeu\n",
      "\n",
      "This program performs three main steps:\n",
      "1. Train: Generates a GPR model using the provided structure, energy, and force data.\n",
      "2. Test: Uses the generated GPR model to predict values for the test set structures.\n",
      "3. Augmentation: Performs data augmentation in xsf file format, compatible with aenet-(PyTorch),\n",
      "supporting a GPR-ANN training in conjunction with aenet-(PyTorch).\n",
      "\n",
      "Each of these steps is executed once the input file (train.in) contains the keywords:\n",
      "Train_file [train file path]\n",
      "Test_file [test file path]\n",
      "Additional_write [True]\n",
      "\n",
      "\n",
      "======================================================================\n",
      "Train\n",
      "======================================================================\n",
      "\n",
      "Read reference training data\n",
      "\n",
      "Time needed for reading data:            0.036698 s\n",
      "Maximum CPU memory used:             0.538578 GB\n",
      "Maximum GPU memory used:             0.000000 GB\n",
      "Energy data size: (30,)  # (N_data, )\n",
      "Force data size: (30, 46, 3)  # (N_data, N_atom, 3)\n",
      "----------------------------------------------------------------------\n",
      "----------------------------------------------------------------------\n",
      "Model train\n",
      "\n",
      "Training parameters\n",
      "{'num_data': 30, 'calculator': {'kerneltype': 'sqexp', 'scale': tensor(2., dtype=torch.float64), 'weight': tensor(1., dtype=torch.float64), 'noise': tensor(1.0000e-06, dtype=torch.float64), 'noisefactor': tensor(0.5000, dtype=torch.float64)}, 'fix_ind': None, 'pbc': True, 'species': ['Li', 'Li', 'Li', 'Li', 'Li', 'Li', 'Li', 'Li', 'Li', 'Li', 'Li', 'Li', 'Li', 'Li', 'Li', 'Li', 'Li', 'Li', 'Li', 'Li', 'Li', 'Li', 'Li', 'Li', 'Li', 'Li', 'Li', 'Li', 'Li', 'Li', 'Li', 'Li', 'Li', 'Li', 'Li', 'Li', 'C', 'C', 'O', 'H', 'H', 'O', 'H', 'H', 'C', 'O'], 'num_atom': 46}\n",
      "\n",
      "Time needed for training:           26.355605 s\n",
      "Maximum CPU memory used:             3.160007 GB\n",
      "Maximum GPU memory used:             0.000000 GB\n",
      "----------------------------------------------------------------------\n",
      "======================================================================\n",
      "Test\n",
      "======================================================================\n",
      "\n",
      "Read reference test data\n",
      "\n",
      "Time needed for reading data:            0.071181 s\n",
      "Maximum CPU memory used:             3.160007 GB\n",
      "Maximum GPU memory used:             0.000000 GB\n",
      "Energy data size: (60,)  # (N_data, )\n",
      "Force data size: (60, 46, 3)  # (N_data, N_atom, 3)\n",
      "----------------------------------------------------------------------\n",
      "----------------------------------------------------------------------\n",
      "Model evaluation for test set\n",
      "\n",
      "Test parameters\n",
      "{'num_data': 60, 'calculator': {'kerneltype': 'sqexp', 'scale': tensor(2., dtype=torch.float64), 'weight': tensor(1., dtype=torch.float64), 'noise': tensor(1.0000e-06, dtype=torch.float64), 'noisefactor': tensor(0.5000, dtype=torch.float64)}, 'fix_ind': None, 'pbc': True, 'species': ['Li', 'Li', 'Li', 'Li', 'Li', 'Li', 'Li', 'Li', 'Li', 'Li', 'Li', 'Li', 'Li', 'Li', 'Li', 'Li', 'Li', 'Li', 'Li', 'Li', 'Li', 'Li', 'Li', 'Li', 'Li', 'Li', 'Li', 'Li', 'Li', 'Li', 'Li', 'Li', 'Li', 'Li', 'Li', 'Li', 'C', 'C', 'O', 'H', 'H', 'O', 'H', 'H', 'C', 'O'], 'num_atom': 46}\n",
      "\n",
      "Time needed for test evaluation:          102.605890 s\n",
      "Maximum CPU memory used:             3.460785 GB\n",
      "Maximum GPU memory used:             0.000000 GB\n",
      "----------------------------------------------------------------------\n",
      "GPR energy MAE (eV): 0.12184565898987784\n",
      "GPR force MAE (eV/Ang): 0.24999542841175573\n",
      "GPR uncertainty mean ± std: 0.023465541563805658 ± 0.009145953149439216\n",
      "\n",
      "Saving test target to [energy_test_reference.npy] and [force_test_reference.npy]\n",
      "Saving GPR prediction to [energy_test_gpr.npy], [force_test_gpr.npy], and [uncertainty_test_gpr.npy]\n",
      "\n",
      "\n",
      "======================================================================\n",
      "Augmentation\n",
      "======================================================================\n",
      "----------------------------------------------------------------------\n",
      "Additional structure generation\n",
      "\n",
      "Time needed for additional generation:            0.013768 s\n",
      "Maximum CPU memory used:             3.460785 GB\n",
      "Maximum GPU memory used:             0.000000 GB\n",
      "Displacement length (Ang): 0.05\n",
      "Multiple: 2\n",
      "N_additional = N_reference (30) * Multiple (2) = 60\n",
      "----------------------------------------------------------------------\n",
      "----------------------------------------------------------------------\n",
      "Model evaluation for additional set\n",
      "\n",
      "Test parameters\n",
      "{'num_data': 60, 'calculator': {'kerneltype': 'sqexp', 'scale': tensor(2., dtype=torch.float64), 'weight': tensor(1., dtype=torch.float64), 'noise': tensor(1.0000e-06, dtype=torch.float64), 'noisefactor': tensor(0.5000, dtype=torch.float64)}, 'fix_ind': None, 'pbc': True, 'species': ['Li', 'Li', 'Li', 'Li', 'Li', 'Li', 'Li', 'Li', 'Li', 'Li', 'Li', 'Li', 'Li', 'Li', 'Li', 'Li', 'Li', 'Li', 'Li', 'Li', 'Li', 'Li', 'Li', 'Li', 'Li', 'Li', 'Li', 'Li', 'Li', 'Li', 'Li', 'Li', 'Li', 'Li', 'Li', 'Li', 'C', 'C', 'O', 'H', 'H', 'O', 'H', 'H', 'C', 'O'], 'num_atom': 46}\n",
      "\n",
      "Time needed for additional evaluation:           98.639699 s\n",
      "Maximum CPU memory used:             3.461246 GB\n",
      "Maximum GPU memory used:             0.000000 GB\n",
      "----------------------------------------------------------------------\n",
      "\n",
      "Saving GPR prediction to [energy_additional_gpr.npy], [force_additional_gpr.npy], and [uncertainty_additional_gpr.npy]\n",
      "======================================================================\n",
      "Writing additional xsf files to additional_xsf\n",
      "\n",
      "Time needed for writing xsf files:            1.545615 s\n",
      "Maximum CPU memory used:             3.461246 GB\n",
      "Maximum GPU memory used:             0.000000 GB\n",
      "======================================================================\n",
      "\u001b[0m\u001b[0m\u001b[0m\u001b[0m\u001b[0m\u001b[0m\u001b[0m\u001b[0m\u001b[0m\u001b[0m\u001b[0m\u001b[0m\u001b[0m\u001b[0m\u001b[0m\u001b[0m\u001b[0m\u001b[0m\u001b[0m\u001b[0m\u001b[0m\u001b[0m\u001b[0m\u001b[0m\u001b[0m\u001b[0m\u001b[0m\u001b[0m\u001b[0m\u001b[0m\u001b[0m\u001b[0m\u001b[0m"
     ]
    }
   ],
   "source": [
    "! rm -rf additional_xsf/\n",
    "! python -m aenet_gpr train_soap.in"
   ]
  },
  {
   "cell_type": "markdown",
   "id": "3e9f8867-dbe8-4b08-8656-4043e9ffddca",
   "metadata": {},
   "source": [
    "By changing the parameters, \n",
    "\n",
    " - total energy error is reduced from 0.53 eV to 0.12 eV\n",
    " - force error is reduced from 0.51 eV/Ang to 0.25 eV/Ang\n",
    " - uncertainty estimate is reduced from 0.62 to 0.02"
   ]
  },
  {
   "cell_type": "markdown",
   "id": "42f08791-5de3-482c-ac0d-d0f97e7fe17b",
   "metadata": {},
   "source": [
    "# 3-2. Visualize the test results"
   ]
  },
  {
   "cell_type": "code",
   "execution_count": 47,
   "id": "734e2a27-de01-471e-8d8e-72ea3ebc02be",
   "metadata": {},
   "outputs": [],
   "source": [
    "energy_test_gpr = np.load(\"./energy_test_gpr.npy\")\n",
    "energy_test_reference = np.load(\"./energy_test_reference.npy\")\n",
    "force_test_gpr = np.load(\"./force_test_gpr.npy\")\n",
    "force_test_reference = np.load(\"./force_test_reference.npy\")\n",
    "uncertainty_test_gpr = np.load(\"./uncertainty_test_gpr.npy\")"
   ]
  },
  {
   "cell_type": "code",
   "execution_count": 48,
   "id": "7d89b4bb-1ba8-4e0d-a94f-4325e202c060",
   "metadata": {},
   "outputs": [
    {
     "name": "stdout",
     "output_type": "stream",
     "text": [
      "-0.0021479411954477773 0.008502857541158015\n"
     ]
    }
   ],
   "source": [
    "diff_per_atom = (energy_test_reference - energy_test_gpr) / 46\n",
    "\n",
    "print(diff_per_atom.min(), diff_per_atom.max())"
   ]
  },
  {
   "cell_type": "code",
   "execution_count": 49,
   "id": "22eb4775-05fb-4f68-ae70-872464d9837c",
   "metadata": {},
   "outputs": [
    {
     "data": {
      "image/png": "[encoded data removed]",
      "text/plain": [
       "<Figure size 700x600 with 1 Axes>"
      ]
     },
     "metadata": {},
     "output_type": "display_data"
    }
   ],
   "source": [
    "fig = plt.figure(figsize=(7, 6))\n",
    "ax2 = fig.subplots()\n",
    "\n",
    "font_x = {'size': 20, 'color': 'black'}\n",
    "font_y = {'size': 20, 'color': 'black'}\n",
    "font_tick = {'size': 16, 'color': 'black'}\n",
    "\n",
    "\n",
    "# The second plot\n",
    "counts, bins = np.histogram(diff_per_atom, bins=30, range=(-0.005, 0.05))\n",
    "\n",
    "ax2.hist(bins[:-1], bins, weights=counts, facecolor='dimgray', alpha=1.0, edgecolor='black')\n",
    "\n",
    "ax2.set_xlabel(\"DFT $-$ GPR (eV/atom)\", fontdict=font_x)\n",
    "ax2.set_xlim([-0.005, 0.05])\n",
    "x_labels = [round(label, 2) for label in ax2.get_xticks()]\n",
    "ax2.set_xticks(x_labels)\n",
    "ax2.set_xlim([-0.005, 0.05])\n",
    "ax2.set_xticklabels(x_labels, fontdict=font_tick)\n",
    "\n",
    "ax2.set_ylabel(\"Number of structures\", fontdict=font_y)\n",
    "ax2.set_ylim([0, 25])\n",
    "y_labels = [int(label) for label in ax2.get_yticks()]\n",
    "ax2.set_yticks(y_labels)\n",
    "ax2.set_ylim([0, 25])\n",
    "ax2.set_yticklabels(y_labels, fontdict=font_tick)\n",
    "\n",
    "[x.set_linewidth(1.5) for x in ax2.spines.values()]\n",
    "ax2.tick_params(bottom=False, top=True, left=True, right=True)\n",
    "ax2.tick_params(labelbottom=True, labeltop=False, labelleft=True, labelright=False)\n",
    "ax2.tick_params(direction='in', length=8, width=1.5)\n",
    "\n",
    "ax2.grid(True, which='both', linestyle=':', linewidth=0.7, alpha=0.7)\n",
    "\n",
    "fig.tight_layout()\n",
    "plt.show()"
   ]
  },
  {
   "cell_type": "code",
   "execution_count": null,
   "id": "0ee7496f-6ae9-4c8e-88ea-5a00ccadd2d6",
   "metadata": {},
   "outputs": [],
   "source": []
  }
 ],
 "metadata": {
  "kernelspec": {
   "display_name": "Python 3",
   "language": "python",
   "name": "python3"
  },
  "language_info": {
   "codemirror_mode": {
    "name": "ipython",
    "version": 3
   },
   "file_extension": ".py",
   "mimetype": "text/x-python",
   "name": "python",
   "nbconvert_exporter": "python",
   "pygments_lexer": "ipython3",
   "version": "3.12.7"
  }
 },
 "nbformat": 4,
 "nbformat_minor": 5
}
